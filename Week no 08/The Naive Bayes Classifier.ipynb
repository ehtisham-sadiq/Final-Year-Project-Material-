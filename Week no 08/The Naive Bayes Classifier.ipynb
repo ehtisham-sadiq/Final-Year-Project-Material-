{
 "cells": [
  {
   "cell_type": "markdown",
   "id": "58e11026",
   "metadata": {},
   "source": [
    "# The Naive Bayes Classifier\n",
    "\n",
    "> **Note:** Before going into roots of Naive Bayes, please polish your concepts of Probability. For this watch `Section 1: (Overview of Probability for Machine Learning)` from this [Video](https://www.youtube.com/watch?v=y4t9ELO3Nxc&list=PL7B2bn3G_wfDTEU20jwGcUKlVqdAyQMax&index=2) \n",
    "\n",
    "## Bayes Theorem\n",
    "\n",
    "- The Bayes Theorem : Introduction and Derivation\n",
    "    - Probaility and Its Example\n",
    "    - Joint Probability and its Example\n",
    "    - Conditional Probability\n",
    "    - From Probability to Bayes Theorem\n",
    "        - An Event, Another Event, The two Events Jointly, Conditional Probability , The Bayes Theorem and Example, [Link](https://oscarbonilla.com/2009/05/visualizing-bayes-theorem/)\n",
    "    - The Bayes Theorem Mathematical Equation\n",
    "        - Posterior, Likelihood, Prior and Example\n",
    "        - Concept of MAP Hypothesis and Classification using above example\n",
    "        -  Bayes: Example 1 [Link](https://www.youtube.com/watch?v=BrK7X_XlGB8)\n",
    "        - Bayes: Example 2 [Monty Hall Problem](https://www.youtube.com/watch?v=Xp6V_lO1ZKA)\n",
    "        - Bayes: Example 3 [Yudowsky](https://oscarbonilla.com/2009/05/visualizing-bayes-theorem/)\n",
    "        - Bayes: Example 4 [Frequency diagrams: A first look at Bayes](https://arbital.com/p/bayes_frequency_diagram/?l=55z&pathId=6356)\n",
    "        - Bayes: Example 5 [6.2.1 An Example](https://www.cin.ufpe.br/~cavmj/Machine%20-%20Learning%20-%20Tom%20Mitchell.pdf)\n",
    "        - Explore an example of Bayes with words!\n",
    "    - Generative and Discriminative Classifiers & Generative and Discriminative Approach\n",
    "        \n",
    "\n",
    "## Naive Bayes Classifier\n",
    "- Classification using the Naïve Bayes Classifier \n",
    "    - The SPAM vs. Not-SPAM Problem  [Link1](https://www.youtube.com/watch?v=O2L2Uv9pdDA) [Link2](https://www.youtube.com/watch?v=bTs-QA2oJSE)\n",
    "- Naïve Bayes: Under the hood [Link](https://web.stanford.edu/~jurafsky/slp3/)\n",
    "    - Naïve Bayes Intuition\n",
    "    - Naïve Assumptions\n",
    "    - How to calculate the probability of a sentence?\n",
    "    - Naïve Bayes Independence Assumptions with example\n",
    "    \n",
    "- Naïve Bayes: Bag-of-Words\n",
    "    - The bag of words representation [Link](https://web.stanford.edu/~jurafsky/slp3/)\n",
    "    - Conditional probability and independence [Link](https://www.khanacademy.org/math/ap-statistics/probability-ap/stats-conditional-probability/a/check-independence-conditional-probability)\n",
    "    - Are mutually exclusive events independent? [Link](https://www.youtube.com/watch?v=UOfsad9WWwk)\n",
    "    - Conditional Independence with example\n",
    "    - Sentiment analysis with add-1 smoothing [4.3 Worked example](https://web.stanford.edu/~jurafsky/slp3/4.pdf)\n",
    "\n",
    "- The Bayes Theorem: Text Generation\n",
    "    - How can I get my Naïve Bayes Classifier to generate data? [Link](https://www.youtube.com/watch?v=82q3uYw6MuY)\n",
    "    - 0-grams, Unigrams, Bigrams, Trigram, Quadrigram with example\n",
    "    - The Shannon Visualization Method for `Shakespeare as corpus` [Link](https://web.stanford.edu/~jurafsky/slp3/slides/3_LM_Jan_08_2021.pdf)    \n",
    "    \n",
    "- Naïve Bayes: Gaussian [Link1](https://www.youtube.com/watch?v=H3EjCKtlVog&t=493s) [Link2](https://www.youtube.com/watch?v=TcAQKPgymLE&list=PLBv09BD7ez_6CxkuiFTbL3jsn2Qd1IU7B&index=9)\n",
    "\n",
    "    - Real-valued features\n",
    "    - Probability vs Likelihood [Link1](https://www.youtube.com/watch?v=pYxNSUDSFH4) [Link2](https://www.psychologicalscience.org/observer/bayes-for-beginners-probability-and-likelihood)\n",
    "    - Normal Distribution [Link1](https://iq.opengenus.org/gaussian-naive-bayes/) [Link2](https://upload.wikimedia.org/wikipedia/commons/thumb/7/74/Normal_Distribution_PDF.svg/1200px-Normal_Distribution_PDF.svg.png) [Link3](https://i.stack.imgur.com/bBIbn.png)\n",
    "    - Worked Example [Link](https://www.youtube.com/watch?v=H3EjCKtlVog&t=493s)\n",
    "    \n",
    "- Naïve Bayes: Decision Boundary(Thoery, Pictures, Examples)\n",
    "    - [Link1](https://www.byclb.com/TR/Tutorials/neural_networks/ch4_1.htm)\n",
    "    - [Link2](https://www.cs.cornell.edu/courses/cs4780/2018fa/lectures/lecturenote05.html#:~:text=Naive%20Bayes%20is%20a%20linear,P(x%7Cy).)\n",
    "    - [Link3](https://alliance.seas.upenn.edu/~cis520/dynamic/2017/wiki/index.php?n=Lectures.NaiveBayes)\n",
    "    \n",
    "- Naïve Bayes: Interesting + and -\n",
    "    - Covariance as the only discriminating attribute [Link](https://www.youtube.com/watch?v=feBKiAdhYkc&list=PLBv09BD7ez_6CxkuiFTbL3jsn2Qd1IU7B&index=12)\n",
    "    - SPAM Detection [Link](https://www.youtube.com/watch?v=8aZNAmWKGfs&list=PLBv09BD7ez_6CxkuiFTbL3jsn2Qd1IU7B&index=13)\n",
    "    - Missing Values in Naive Bayes [Link](https://www.youtube.com/watch?v=EqjyLfpv5oA&list=PLBv09BD7ez_6CxkuiFTbL3jsn2Qd1IU7B&index=14)\n",
    "\n",
    "## Bayes Advance Topics\n",
    "- Hypothesis Spaces with Example [Link](https://www.youtube.com/watch?v=dYMCwxgl3vk)\n",
    "- Frequentists and Bayesians (MLE and MAP) [Link](https://www.cs.cornell.edu/courses/cs4780/2018fa/lectures/lecturenote04.html)\n",
    "    - Frequentist Viewpoint \n",
    "    - Formal Proof\n",
    "    - Pros and Cons\n",
    "    - Extreme Data\n",
    "    \n",
    "- Bayesian Viewpoint\n",
    "    - [Link1](https://www.cs.cornell.edu/courses/cs4780/2018fa/lectures/lecturenote04.html) [Link2](https://towardsdatascience.com/beta-distribution-intuition-examples-and-derivation-cf00f4db57af) [Link3](https://en.wikipedia.org/wiki/File:Beta_distribution_pdf.svg) [Link4](https://homepage.divms.uiowa.edu/~mbognar/applets/beta.html)\n",
    "    - Conjugate Prior [Link](https://towardsdatascience.com/dirichlet-distribution-a82ab942a879)\n",
    "    - Beta Distribution [Link](https://homepage.divms.uiowa.edu/~mbognar/applets/beta.html)\n",
    "    - Maximum a Posteriori Probability (MAP) [Link1](https://www.cs.cornell.edu/courses/cs4780/2018fa/lectures/lecturenote04.html) [Link2](https://towardsdatascience.com/beta-distribution-intuition-examples-and-derivation-cf00f4db57af)\n",
    "    - Pros and Cons [Link](https://www.cs.cornell.edu/courses/cs4780/2018fa/lectures/lecturenote04.html)\n",
    "    \n",
    "    \n",
    "- Bayes Optimal Classifier [Link](https://www.youtube.com/watch?v=vBZ6CJe0e_U)\n",
    "    - Ref: ML, Tom Mitchell\n",
    "    \n",
    "    \n",
    "#### Naive Bayes Classifier Implementation in Python\n",
    "#### Naive Bayes Classifier Implementation in Scikit-Learn\n",
    "#### Interview Questions\n",
    "\n",
    "## Project:\n",
    "**Disease Condition prediction based on drug reviews**\n"
   ]
  },
  {
   "cell_type": "code",
   "execution_count": null,
   "id": "38a92042",
   "metadata": {},
   "outputs": [],
   "source": []
  },
  {
   "cell_type": "code",
   "execution_count": null,
   "id": "01975d03",
   "metadata": {},
   "outputs": [],
   "source": []
  },
  {
   "cell_type": "code",
   "execution_count": null,
   "id": "d4a5f5e3",
   "metadata": {},
   "outputs": [],
   "source": []
  },
  {
   "cell_type": "code",
   "execution_count": null,
   "id": "27b10ce6",
   "metadata": {},
   "outputs": [],
   "source": []
  },
  {
   "cell_type": "code",
   "execution_count": null,
   "id": "5c98db52",
   "metadata": {},
   "outputs": [],
   "source": []
  },
  {
   "cell_type": "code",
   "execution_count": null,
   "id": "a82c48b1",
   "metadata": {},
   "outputs": [],
   "source": []
  },
  {
   "cell_type": "code",
   "execution_count": null,
   "id": "58a3a498",
   "metadata": {},
   "outputs": [],
   "source": []
  },
  {
   "cell_type": "code",
   "execution_count": null,
   "id": "4486ffea",
   "metadata": {},
   "outputs": [],
   "source": []
  },
  {
   "cell_type": "code",
   "execution_count": null,
   "id": "956170de",
   "metadata": {},
   "outputs": [],
   "source": []
  },
  {
   "cell_type": "markdown",
   "id": "734871c0",
   "metadata": {},
   "source": [
    "### Bayes Theorem"
   ]
  },
  {
   "cell_type": "markdown",
   "id": "b445e276",
   "metadata": {},
   "source": [
    "**One Event**\n",
    "\n",
    "<img src=\"images/p1.png\" height=300px width=300px>"
   ]
  },
  {
   "cell_type": "markdown",
   "id": "c6843bc7",
   "metadata": {},
   "source": [
    "**Frequency diagrams: A first look at Bayes**\n",
    "<img src=\"images/p2.png\" height=300px width=300px>"
   ]
  },
  {
   "cell_type": "code",
   "execution_count": null,
   "id": "e850455a",
   "metadata": {},
   "outputs": [],
   "source": []
  },
  {
   "cell_type": "code",
   "execution_count": null,
   "id": "a05f065f",
   "metadata": {},
   "outputs": [],
   "source": []
  },
  {
   "cell_type": "code",
   "execution_count": null,
   "id": "434933b2",
   "metadata": {},
   "outputs": [],
   "source": []
  },
  {
   "cell_type": "code",
   "execution_count": null,
   "id": "79fe6d9d",
   "metadata": {},
   "outputs": [],
   "source": []
  },
  {
   "cell_type": "code",
   "execution_count": null,
   "id": "0eba707b",
   "metadata": {},
   "outputs": [],
   "source": []
  },
  {
   "cell_type": "code",
   "execution_count": null,
   "id": "55978ed2",
   "metadata": {},
   "outputs": [],
   "source": []
  },
  {
   "cell_type": "markdown",
   "id": "23920ccf",
   "metadata": {},
   "source": [
    "### Naive Bayes Classifier\n",
    "\n",
    "**Naïve Bayes Intuition**\n",
    "\n",
    "<img src=\"images/p3.png\" height=400px width=400px>"
   ]
  },
  {
   "cell_type": "code",
   "execution_count": null,
   "id": "df26b4f0",
   "metadata": {},
   "outputs": [],
   "source": []
  },
  {
   "cell_type": "code",
   "execution_count": null,
   "id": "030f2721",
   "metadata": {},
   "outputs": [],
   "source": []
  },
  {
   "cell_type": "code",
   "execution_count": null,
   "id": "ab617dbd",
   "metadata": {},
   "outputs": [],
   "source": []
  },
  {
   "cell_type": "markdown",
   "id": "0cc303ad",
   "metadata": {},
   "source": [
    "### Bayes Advance Topics\n",
    "\n",
    "**Beta Distribution**\n",
    "\n",
    "<img src=\"images/p4.webp\">"
   ]
  },
  {
   "cell_type": "code",
   "execution_count": 6,
   "id": "87b4268e",
   "metadata": {},
   "outputs": [],
   "source": [
    "# !ls images/"
   ]
  },
  {
   "cell_type": "code",
   "execution_count": null,
   "id": "705f133a",
   "metadata": {},
   "outputs": [],
   "source": []
  },
  {
   "cell_type": "code",
   "execution_count": null,
   "id": "868e0202",
   "metadata": {},
   "outputs": [],
   "source": []
  },
  {
   "cell_type": "code",
   "execution_count": null,
   "id": "d4beb30b",
   "metadata": {},
   "outputs": [],
   "source": []
  },
  {
   "cell_type": "code",
   "execution_count": null,
   "id": "d2e133db",
   "metadata": {},
   "outputs": [],
   "source": []
  },
  {
   "cell_type": "code",
   "execution_count": null,
   "id": "4dbc3dd2",
   "metadata": {},
   "outputs": [],
   "source": []
  },
  {
   "cell_type": "markdown",
   "id": "81cc1a87",
   "metadata": {},
   "source": [
    "## Naive Bayes Classifier Implementation in Python"
   ]
  },
  {
   "cell_type": "code",
   "execution_count": 2,
   "id": "9f568f0c",
   "metadata": {},
   "outputs": [],
   "source": [
    "# calculate probability of each class\n",
    "def class_probabilities(y):\n",
    "    unique_classes, counts_unique_classes = np.unique(y, return_counts=True)\n",
    "    prob = counts_unique_classes / counts_unique_classes.sum()\n",
    "    return prob\n",
    "\n",
    "# calculate probability of each feature for each class\n",
    "def feature_probability(x, mean, std):\n",
    "    prob = 1\n",
    "    for c in range(mean.shape[1]):\n",
    "        for i in range(mean.shape[0]):\n",
    "            prob *= np.exp(-(x[i]-mean[i,c])**2 / (2 * std[i,c]**2)) / np.sqrt(2 * np.pi * std[i,c]**2)\n",
    "    return prob"
   ]
  },
  {
   "cell_type": "code",
   "execution_count": null,
   "id": "8988c971",
   "metadata": {},
   "outputs": [],
   "source": []
  },
  {
   "cell_type": "code",
   "execution_count": null,
   "id": "79eb41f7",
   "metadata": {},
   "outputs": [],
   "source": []
  },
  {
   "cell_type": "code",
   "execution_count": null,
   "id": "904ac01e",
   "metadata": {},
   "outputs": [],
   "source": []
  },
  {
   "cell_type": "code",
   "execution_count": null,
   "id": "c95c472d",
   "metadata": {},
   "outputs": [],
   "source": []
  },
  {
   "cell_type": "code",
   "execution_count": null,
   "id": "1c0dc867",
   "metadata": {},
   "outputs": [],
   "source": []
  },
  {
   "cell_type": "code",
   "execution_count": null,
   "id": "6cef4e82",
   "metadata": {},
   "outputs": [],
   "source": []
  },
  {
   "cell_type": "code",
   "execution_count": null,
   "id": "901af495",
   "metadata": {},
   "outputs": [],
   "source": []
  },
  {
   "cell_type": "markdown",
   "id": "a1a719ec",
   "metadata": {},
   "source": [
    "#### Naive Bayes Classifier Implementation in Scikit-Learn"
   ]
  },
  {
   "cell_type": "code",
   "execution_count": 3,
   "id": "febf23e6",
   "metadata": {},
   "outputs": [],
   "source": [
    "# X = feature matrix\n",
    "# y = target variable\n",
    "\n",
    "# X_train, X_test, y_train, y_test = train_test_split(X, y, test_size=0.25, random_state=0)\n",
    "\n",
    "# # Create a naive Bayes classifier\n",
    "# naive_bayes = GaussianNB()\n",
    "\n",
    "# naive_bayes.fit(X_train, y_train)\n",
    "\n",
    "# y_pred = naive_bayes.predict(X_test)\n",
    "\n",
    "# accuracy = naive_bayes.score(X_test, y_test)\n"
   ]
  },
  {
   "cell_type": "code",
   "execution_count": null,
   "id": "4d8d53dd",
   "metadata": {},
   "outputs": [],
   "source": []
  },
  {
   "cell_type": "code",
   "execution_count": null,
   "id": "7d593394",
   "metadata": {},
   "outputs": [],
   "source": []
  },
  {
   "cell_type": "code",
   "execution_count": null,
   "id": "4bf4b4aa",
   "metadata": {},
   "outputs": [],
   "source": []
  },
  {
   "cell_type": "code",
   "execution_count": null,
   "id": "b54930e8",
   "metadata": {},
   "outputs": [],
   "source": []
  },
  {
   "cell_type": "code",
   "execution_count": null,
   "id": "845a1947",
   "metadata": {},
   "outputs": [],
   "source": []
  },
  {
   "cell_type": "code",
   "execution_count": null,
   "id": "d3da89df",
   "metadata": {},
   "outputs": [],
   "source": []
  },
  {
   "cell_type": "code",
   "execution_count": null,
   "id": "c43547ae",
   "metadata": {},
   "outputs": [],
   "source": []
  },
  {
   "cell_type": "markdown",
   "id": "16333910",
   "metadata": {},
   "source": [
    "### Interview Questions\n",
    "\n",
    "- What is Bayes' theorem and how is it used in machine learning?\n",
    "- Can you provide an example of how Bayes' theorem is used to make a prediction?\n",
    "- How does Bayes' theorem account for uncertainty and prior knowledge?\n",
    "- How does Bayes' theorem relate to the concept of probability?\n",
    "- Can you explain the concept of a likelihood function and how it is used in Bayes' theorem?\n",
    "- How is Bayes' theorem used in a Naive Bayes classifier?\n",
    "- Can you explain the concept of a prior and a posterior distribution, and how they relate to Bayes' theorem?\n",
    "- How is Bayes' theorem used in decision-making and risk assessment?\n",
    "- Can you discuss any limitations or potential drawbacks to using Bayes' theorem?\n",
    "- How is Bayes' theorem used in Bayesian data analysis and Bayesian inference?\n",
    "\n",
    "- What is the naive Bayes classifier and how does it work?\n",
    "- What are the assumptions underlying the naive Bayes classifier?\n",
    "- How do you choose which features to include in a naive Bayes classifier?\n",
    "- Can you explain the concept of a likelihood function and how it is used in the naive Bayes classifier?\n",
    "- How do you handle continuous features when using a naive Bayes classifier?\n",
    "- How do you handle missing data when using a naive Bayes classifier?\n",
    "- What are some common applications of the naive Bayes classifier?\n",
    "- How do you evaluate the performance of a naive Bayes classifier?\n",
    "- Can you discuss any limitations or potential drawbacks to using a naive Bayes classifier?\n",
    "- How does the naive Bayes classifier compare to other classification algorithms in terms of performance and simplicity?\n",
    "- Can you explain the concept of a conjugate prior and how it is used in Bayesian inference?\n",
    "- How do you perform Bayesian model selection and comparison?\n",
    "- Can you discuss the concept of Bayesian hierarchical modeling and its applications?\n",
    "- How do you incorporate domain knowledge and expert opinion into a Bayesian model?\n",
    "- Can you discuss the concept of the Bayesian information criterion (BIC) and how it is used in model selection?\n",
    "- How do you perform Bayesian model averaging and model combination?\n",
    "- Can you discuss the concept of the Gibbs sampler and how it is used in Bayesian inference?\n",
    "- How do you perform Bayesian optimization and search?\n",
    "- Can you discuss the concept of the expectation-maximization (EM) algorithm and how it is used in Bayesian inference?\n",
    "- How do you perform Bayesian model checking and diagnostics?"
   ]
  },
  {
   "cell_type": "code",
   "execution_count": null,
   "id": "c87d90fe",
   "metadata": {},
   "outputs": [],
   "source": []
  },
  {
   "cell_type": "code",
   "execution_count": null,
   "id": "496cf52b",
   "metadata": {},
   "outputs": [],
   "source": []
  },
  {
   "cell_type": "code",
   "execution_count": null,
   "id": "05527118",
   "metadata": {},
   "outputs": [],
   "source": []
  },
  {
   "cell_type": "code",
   "execution_count": null,
   "id": "455ed701",
   "metadata": {},
   "outputs": [],
   "source": []
  },
  {
   "cell_type": "code",
   "execution_count": null,
   "id": "ddb5af44",
   "metadata": {},
   "outputs": [],
   "source": []
  },
  {
   "cell_type": "code",
   "execution_count": null,
   "id": "920fa7d5",
   "metadata": {},
   "outputs": [],
   "source": []
  },
  {
   "cell_type": "code",
   "execution_count": null,
   "id": "52a2b33f",
   "metadata": {},
   "outputs": [],
   "source": []
  },
  {
   "cell_type": "markdown",
   "id": "bd877f5c",
   "metadata": {},
   "source": [
    "\n",
    "## Project:\n",
    "**Disease Condition prediction based on drug reviews**\n",
    "\n",
    "In this project, we will classify the condition of patients using the reviews of the drugs given by patients using drug reviews dataset available in [UCI ML Repository](https://archive.ics.uci.edu/ml/datasets/Drug+Review+Dataset+%28Drugs.com%29)"
   ]
  },
  {
   "cell_type": "code",
   "execution_count": null,
   "id": "8ee80c84",
   "metadata": {},
   "outputs": [],
   "source": []
  },
  {
   "cell_type": "code",
   "execution_count": null,
   "id": "b005b0c2",
   "metadata": {},
   "outputs": [],
   "source": []
  },
  {
   "cell_type": "code",
   "execution_count": null,
   "id": "69f462a8",
   "metadata": {},
   "outputs": [],
   "source": []
  }
 ],
 "metadata": {
  "kernelspec": {
   "display_name": "Python 3 (ipykernel)",
   "language": "python",
   "name": "python3"
  },
  "language_info": {
   "codemirror_mode": {
    "name": "ipython",
    "version": 3
   },
   "file_extension": ".py",
   "mimetype": "text/x-python",
   "name": "python",
   "nbconvert_exporter": "python",
   "pygments_lexer": "ipython3",

  }
 },
 "nbformat": 4,
 "nbformat_minor": 5
}
