{
 "cells": [
  {
   "cell_type": "markdown",
   "id": "2e7f8412",
   "metadata": {},
   "source": [
    "# Linear Regression using Sklearn\n",
    "### Table of Content\n",
    "- A Problem statement for machine learning\n",
    "- Downloading and exploring a dataset for machine learning\n",
    "- Basic understanding of Data\n",
    "- Linear regression with one variable using Scikit-learn\n",
    "- Linear regression with multiple variables \n",
    "- Using categorical features for machine learning\n",
    "- Regression coefficients and feature importance\n",
    "- Other models and techniques for regression using Scikit-learn\n",
    "- Applying linear regression to other datasets"
   ]
  },
  {
   "cell_type": "markdown",
   "id": "add51031",
   "metadata": {},
   "source": [
    "## Problem Statement\n",
    "\n",
    "In this notebook, We'll work through a typical machine learning problem step-by-step:\n",
    "\n",
    "\n",
    "> **QUESTION**: ACME Insurance Inc. offers affordable health insurance to thousands of customer all over the United States. As the lead data scientist at ACME, **you're tasked with creating an automated system to estimate the annual medical expenditure for new customers**, using information such as their age, sex, BMI, children, smoking habits and region of residence. \n",
    ">\n",
    "> Estimates from your system will be used to determine the annual insurance premium (amount paid every month) offered to the customer. Due to regulatory requirements, you must be able to explain why your system outputs a certain prediction.\n",
    "> \n",
    "> You're given a CSV file containing verified historical data, consisting of the aforementioned information and the actual medical charges incurred by over 1300 customers. \n",
    "> <img src=\"https://i.imgur.com/87Uw0aG.png\" width=\"480\">\n",
    ">\n",
    "> Dataset source: https://github.com/stedy/Machine-Learning-with-R-datasets\n",
    "\n",
    "\n",
    "**EXERCISE**: Before proceeding further, take a moment to think about how can approach this problem. List five or more ideas that come to your mind below:\n",
    " \n",
    " 1. ???\n",
    " 2. ???\n",
    " 3. ???\n",
    " 4. ???\n",
    " 5. ???\n",
    "\n"
   ]
  },
  {
   "cell_type": "markdown",
   "id": "589ac89c",
   "metadata": {},
   "source": [
    "### Import all the necessary libraries"
   ]
  },
  {
   "cell_type": "code",
   "execution_count": 1,
   "id": "c2c1646c",
   "metadata": {},
   "outputs": [],
   "source": [
    "# Here write your code"
   ]
  },
  {
   "cell_type": "code",
   "execution_count": null,
   "id": "4ff855af",
   "metadata": {},
   "outputs": [],
   "source": []
  },
  {
   "cell_type": "markdown",
   "id": "b0e57645",
   "metadata": {},
   "source": [
    "### Downloading and Loading the Data\n",
    "\n",
    "To begin, let's download the data using the `urlretrieve` function from `urllib.request`."
   ]
  },
  {
   "cell_type": "code",
   "execution_count": null,
   "id": "006e5faa",
   "metadata": {},
   "outputs": [],
   "source": [
    "dataset_url = ?"
   ]
  },
  {
   "cell_type": "code",
   "execution_count": 9,
   "id": "f082064b",
   "metadata": {},
   "outputs": [],
   "source": [
    "from urllib.request import urlretrieve"
   ]
  },
  {
   "cell_type": "code",
   "execution_count": null,
   "id": "a22b1d27",
   "metadata": {},
   "outputs": [],
   "source": []
  },
  {
   "cell_type": "markdown",
   "id": "7acd6f67",
   "metadata": {},
   "source": [
    "> After that, We can now create a Pandas dataframe using the downloaded file, to view and analyze the data."
   ]
  },
  {
   "cell_type": "code",
   "execution_count": 10,
   "id": "4d649a20",
   "metadata": {},
   "outputs": [],
   "source": [
    "# Here write your code"
   ]
  },
  {
   "cell_type": "markdown",
   "id": "5f091baf",
   "metadata": {},
   "source": [
    "### Basic Understanding of Data"
   ]
  },
  {
   "cell_type": "markdown",
   "id": "21018960",
   "metadata": {},
   "source": [
    "Display the dimension of the data"
   ]
  },
  {
   "cell_type": "code",
   "execution_count": null,
   "id": "0608609e",
   "metadata": {},
   "outputs": [],
   "source": [
    "# Here write your code"
   ]
  },
  {
   "cell_type": "markdown",
   "id": "62a3b3e9",
   "metadata": {},
   "source": [
    "> The dataset contains 1338 rows and 7 columns. Each row of the dataset contains information about one customer. "
   ]
  },
  {
   "cell_type": "markdown",
   "id": "073bb7fa",
   "metadata": {},
   "source": [
    "> **Main Goal:** Our objective is to find a way to estimate the value in the \"charges\" column using the values in the other columns. If we can do so for the historical data, then we should able to estimate charges for new customers too, simply by asking for information like their age, sex, BMI, no. of children, smoking habits and region."
   ]
  },
  {
   "cell_type": "markdown",
   "id": "e6129882",
   "metadata": {},
   "source": [
    "Let's check the data type for each column along with their non-null values counts"
   ]
  },
  {
   "cell_type": "code",
   "execution_count": 11,
   "id": "26554587",
   "metadata": {},
   "outputs": [],
   "source": [
    "# Here write your code"
   ]
  },
  {
   "cell_type": "markdown",
   "id": "209e898d",
   "metadata": {},
   "source": [
    "> Looks like `age`, `children`, `bmi` ([body mass index](https://en.wikipedia.org/wiki/Body_mass_index)) and `charges` are numbers, whereas `sex`, `smoker` and `region` are strings (possibly categories). None of the columns contain any missing values, which saves us a fair bit of work!\n",
    "\n"
   ]
  },
  {
   "cell_type": "markdown",
   "id": "0764b065",
   "metadata": {},
   "source": [
    "Display some statistics for the numerical columns"
   ]
  },
  {
   "cell_type": "code",
   "execution_count": 12,
   "id": "538360ff",
   "metadata": {},
   "outputs": [],
   "source": [
    "# Here write your code"
   ]
  },
  {
   "cell_type": "markdown",
   "id": "2a8db20a",
   "metadata": {},
   "source": [
    "The ranges of values in the numerical columns seem reasonable too (no negative ages!), so we may not have to do much data cleaning or correction. The `charges` column seems to be significantly skewed however, as the median (50 percentile) is much lower than the maximum value.\n",
    "\n",
    "\n",
    "> **EXERCISE**: What other inferences can you draw by looking at the table above? Add your inferences below:\n",
    ">\n",
    "> 1. ???\n",
    "> 2. ???\n",
    "> 3. ???\n",
    "> 4. ???\n",
    "> 5. ???\n",
    "\n"
   ]
  },
  {
   "cell_type": "markdown",
   "id": "8cb3ccc2",
   "metadata": {},
   "source": [
    "### Exploratory Analysis and Visualization\n",
    "\n",
    "Let's explore the data by visualizing the distribution of values in some columns of the dataset, and the relationships between `charges` and other columns.\n",
    "\n",
    "We'll use libraries `Matplotlib`, `Seaborn` and `Plotly` for visualization. "
   ]
  },
  {
   "cell_type": "code",
   "execution_count": 13,
   "id": "6a5e000c",
   "metadata": {},
   "outputs": [],
   "source": [
    "# import all the libraries for visualization\n",
    "import plotly.express as px\n",
    "import matplotlib\n",
    "import matplotlib.pyplot as plt\n",
    "import seaborn as sns\n",
    "%matplotlib inline"
   ]
  },
  {
   "cell_type": "markdown",
   "id": "9c872e42",
   "metadata": {},
   "source": [
    "The following settings will improve the default style and font sizes for our charts."
   ]
  },
  {
   "cell_type": "code",
   "execution_count": 14,
   "id": "e54bc6f3",
   "metadata": {},
   "outputs": [],
   "source": [
    "sns.set_style('darkgrid')\n",
    "matplotlib.rcParams['font.size'] = 14\n",
    "matplotlib.rcParams['figure.figsize'] = (10, 6)\n",
    "matplotlib.rcParams['figure.facecolor'] = '#00000000'"
   ]
  },
  {
   "cell_type": "markdown",
   "id": "a8f4e42e",
   "metadata": {},
   "source": [
    "### Age\n",
    "\n",
    "Age is a `numeric` column. The minimum age in the dataset is 18 and the maximum age is 64. Thus, we can visualize the distribution of age using a histogram with `47 bins` (one for each year) and a `box plot`. We'll use `seaborn` to make the chart interactive, but you can create similar charts using `plotly`."
   ]
  },
  {
   "cell_type": "code",
   "execution_count": 15,
   "id": "e4d60f61",
   "metadata": {},
   "outputs": [],
   "source": [
    "# Here write your code\n",
    "fig = px.histogram(df, \n",
    "                   x='age', \n",
    "                   marginal='box', \n",
    "                   nbins=47, \n",
    "                   title='Distribution of Age')\n",
    "fig.update_layout(bargap=0.1)\n",
    "fig.show()"
   ]
  },
  {
   "cell_type": "markdown",
   "id": "848c1b88",
   "metadata": {},
   "source": [
    "The distribution of ages in the dataset is almost uniform, with `20-30` customers at every age, except for the ages 18 and 19, which seem to have over twice as many customers as other ages. The uniform distribution might arise from the fact that there isn't a big variation in the [number of people of any given age](https://www.statista.com/statistics/241488/population-of-the-us-by-sex-and-age/) (between 18 & 64) in the USA.\n",
    "\n",
    "\n",
    "\n",
    "> **EXERCISE**: Can you explain why there are over twice as many customers with ages 18 and 19, compared to other ages?\n",
    ">\n",
    "> ???\n"
   ]
  },
  {
   "cell_type": "markdown",
   "id": "0a2cc35c",
   "metadata": {},
   "source": [
    "### Body Mass Index\n",
    "\n",
    "Let's look at the distribution of `BMI` (Body Mass Index) of customers, using a histogram and box plot."
   ]
  },
  {
   "cell_type": "markdown",
   "id": "3d03067e",
   "metadata": {},
   "source": [
    "The measurements of body mass index seem to form a [Gaussian distribution](https://en.wikipedia.org/wiki/Normal_distribution) centered around the value 30, with a few outliers towards the right. Here's how BMI values can be interpreted ([source](https://study.com/academy/lesson/what-is-bmi-definition-formula-calculation.html)):\n",
    "\n",
    "![](https://i.imgur.com/lh23OiY.jpg)\n",
    "\n",
    "> **EXERCISE**: Can you explain why the distribution of ages forms a uniform distribution while the distribution of BMIs forms a gaussian distribution?\n",
    ">\n",
    "> ???"
   ]
  },
  {
   "cell_type": "markdown",
   "id": "387a007d",
   "metadata": {},
   "source": [
    "### Charges\n",
    "\n",
    "Let's visualize the distribution of `charges` i.e. the annual medical charges for customers. This is the column we're trying to predict. Let's also use the categorical column `smoker` to distinguish the charges for smokers and non-smokers."
   ]
  },
  {
   "cell_type": "code",
   "execution_count": null,
   "id": "4478af5a",
   "metadata": {},
   "outputs": [],
   "source": [
    "# Here write your code"
   ]
  },
  {
   "cell_type": "markdown",
   "id": "bb9ca198",
   "metadata": {},
   "source": [
    "We can make the following observations from the above graph:\n",
    "\n",
    "* For most customers, the annual medical charges are under \\\\$10,000. Only a small fraction of customer have higher medical expenses, possibly due to accidents, major illnesses and genetic diseases. The distribution follows a `power law`\n",
    "* There is a significant difference in medical expenses between smokers and non-smokers. While the median for non-smokers is \\\\$7300, the median for smokers is close to \\\\$35,000.\n",
    "\n",
    "\n",
    "> **EXERCISE**: Visualize the distribution of medical charges in connection with other factors like `sex` and `region`. What do you observe?"
   ]
  },
  {
   "cell_type": "markdown",
   "id": "f1e8c927",
   "metadata": {},
   "source": [
    "### Smoker\n",
    "\n",
    "Let's visualize the distribution of the `smoker` column (containing values `yes` and `no`) and `sex` using a histogram."
   ]
  },
  {
   "cell_type": "code",
   "execution_count": 19,
   "id": "2d7fe8d0",
   "metadata": {},
   "outputs": [],
   "source": [
    "# Here write your code"
   ]
  },
  {
   "cell_type": "markdown",
   "id": "d878acc4",
   "metadata": {},
   "source": [
    "It appears that 20% of customers have reported that they smoke. Can you verify whether this matches the national average, assuming the data was collected in 2010? We can also see that smoking appears a more common habit among males. Can you verify this?\n",
    "\n",
    "> **EXERCISE**: Visualize the distributions of the `sex`, `region` and `children` columns and report your observations. "
   ]
  },
  {
   "cell_type": "markdown",
   "id": "b1d54740",
   "metadata": {},
   "source": [
    "Having looked at individual columns, we can now visualize the relationship between `charges` (the value we wish to predict) and other columns.\n",
    "\n",
    "### Age and Charges\n",
    "\n",
    "Let's visualize the relationship between `age` and `charges` using a scatter plot. Each point in the scatter plot represents one customer. We'll also use values in the `smoker` column to color the points."
   ]
  },
  {
   "cell_type": "code",
   "execution_count": 20,
   "id": "af1bbfe4",
   "metadata": {},
   "outputs": [],
   "source": [
    "# Here write your code"
   ]
  },
  {
   "cell_type": "markdown",
   "id": "8778c7c4",
   "metadata": {},
   "source": [
    "We can make the following observations from the above chart:\n",
    "\n",
    "* The general trend seems to be that medical charges increase with age, as we might expect. However, there is significant variation at every age, and it's clear that age alone cannot be used to accurately determine medical charges.\n",
    "\n",
    "\n",
    "* We can see three `clusters` of points, each of which seems to form a line with an increasing slope:\n",
    "\n",
    "     1. The first and the largest cluster consists primary of presumably `healthy non-smokers` who have relatively low medical charges compared to others\n",
    "     \n",
    "     2. The second cluster contains a mix of smokers and non-smokers. It's possible that these are actually two distinct but overlapping clusters: `non-smokers with medical issues` and `smokers without major medical issues`.\n",
    "     \n",
    "     3. The final cluster consists exclusively of smokers, presumably smokers with major medical issues that are possibly related to or worsened by smoking.\n",
    "     \n",
    "\n",
    "> **EXERCISE**: What other inferences can you draw from the above chart?\n",
    ">\n",
    "> ???"
   ]
  },
  {
   "cell_type": "markdown",
   "id": "922529c7",
   "metadata": {},
   "source": [
    "### BMI and Charges\n",
    "\n",
    "Let's visualize the relationship between BMI (body mass index) and charges using another scatter plot. Once again, we'll use the values from the `smoker` column to color the points."
   ]
  },
  {
   "cell_type": "code",
   "execution_count": 21,
   "id": "11a41b36",
   "metadata": {},
   "outputs": [],
   "source": [
    "# Here write your code"
   ]
  },
  {
   "cell_type": "markdown",
   "id": "a2c99781",
   "metadata": {},
   "source": [
    "It appears that for non-smokers, an increase in BMI doesn't seem to be related to an increase in medical charges. However, medical charges seem to be significantly higher for smokers with a BMI greater than 30.\n",
    "\n",
    "What other insights can you gather from the above graph?\n",
    "> **EXERCISE**: Create some more graphs to visualize how the \"charges\" column is related to other columns (\"children\", \"sex\", \"region\" and \"smoker\"). Summarize the insights gathered from these graphs.\n",
    ">\n",
    "> *Hint*: Use violin plots (`sns.violinplot`) and bar plots (`sns.barplot`)\n"
   ]
  },
  {
   "cell_type": "markdown",
   "id": "8714cd35",
   "metadata": {},
   "source": [
    "### Correlation\n",
    "\n",
    "As you can tell from the analysis, the values in some columns are more closely related to the values in `charges` compared to other columns. E.g. \"`age` and `charges` seem to grow together, whereas `bmi` and `charges` don't.\n",
    "\n",
    "This relationship is often expressed numerically using a measure called the _correlation coefficient_, which can be computed using the `.corr` method of a Pandas series."
   ]
  },
  {
   "cell_type": "code",
   "execution_count": 22,
   "id": "bac58e56",
   "metadata": {},
   "outputs": [],
   "source": [
    "# Here write code for age and charges"
   ]
  },
  {
   "cell_type": "code",
   "execution_count": 23,
   "id": "9ed35daa",
   "metadata": {},
   "outputs": [],
   "source": [
    "# Here write code for bmi and charges"
   ]
  },
  {
   "cell_type": "markdown",
   "id": "d1c69735",
   "metadata": {},
   "source": [
    "To compute the correlation for categorical columns, they must first be converted into numeric columns. For this purpose , we will convert `no` to `0` and `yes` to `1`."
   ]
  },
  {
   "cell_type": "code",
   "execution_count": 24,
   "id": "cffd028f",
   "metadata": {},
   "outputs": [],
   "source": [
    "# Here write your code"
   ]
  },
  {
   "cell_type": "markdown",
   "id": "3b6d6754",
   "metadata": {},
   "source": [
    "\n",
    "\n",
    "\n",
    "Here's how correlation coefficients can be interpreted ([source](https://statisticsbyjim.com/basics/correlations)):\n",
    "\n",
    "* **Strength**: The greater the absolute value of the correlation coefficient, the stronger the relationship.\n",
    "\n",
    "    * The extreme values of -1 and 1 indicate a perfectly linear relationship where a change in one variable is accompanied by a perfectly consistent change in the other. For these relationships, all of the data points fall on a line. In practice, you won’t see either type of perfect relationship.\n",
    "\n",
    "    * A coefficient of zero represents no linear relationship. As one variable increases, there is no tendency in the other variable to either increase or decrease.\n",
    "    \n",
    "    * When the value is in-between 0 and +1/-1, there is a relationship, but the points don’t all fall on a line. As r approaches -1 or 1, the strength of the relationship increases and the data points tend to fall closer to a line.\n",
    "\n",
    "\n",
    "* **Direction**: The sign of the correlation coefficient represents the direction of the relationship.\n",
    "\n",
    "    * Positive coefficients indicate that when the value of one variable increases, the value of the other variable also tends to increase. Positive relationships produce an upward slope on a scatterplot.\n",
    "    \n",
    "    * Negative coefficients represent cases when the value of one variable increases, the value of the other variable tends to decrease. Negative relationships produce a downward slope.\n",
    "\n",
    "Here's the same relationship expressed visually ([source](https://www.cuemath.com/data/how-to-calculate-correlation-coefficient/)):\n",
    "\n",
    "<img src=\"https://i.imgur.com/3XUpDlw.png\" width=\"360\">\n",
    "\n",
    "The correlation coefficient has the following formula:\n",
    "\n",
    "<img src=\"https://i.imgur.com/unapugP.png\" width=\"360\">\n",
    "\n",
    "You can learn more about the mathematical definition and geometric interpretation of correlation here: https://www.youtube.com/watch?v=xZ_z8KWkhXE\n",
    "\n",
    "Pandas dataframes also provide a `.corr` method to compute the correlation coefficients between all pairs of numeric columns."
   ]
  },
  {
   "cell_type": "code",
   "execution_count": 25,
   "id": "02740597",
   "metadata": {},
   "outputs": [],
   "source": [
    "# Here write your code"
   ]
  },
  {
   "cell_type": "markdown",
   "id": "2098b642",
   "metadata": {},
   "source": [
    "The result of `.corr` is called a correlation matrix and is often visualized using a heatmap."
   ]
  },
  {
   "cell_type": "code",
   "execution_count": 26,
   "id": "092c4e00",
   "metadata": {},
   "outputs": [],
   "source": [
    "# Here write your code"
   ]
  },
  {
   "cell_type": "markdown",
   "id": "3f5995cd",
   "metadata": {},
   "source": [
    "**Correlation vs causation fallacy:** Note that a high correlation cannot be used to interpret a cause-effect relationship between features. Two features $X$ and $Y$ can be correlated if $X$ causes $Y$ or if $Y$ causes $X$, or if both are caused independently by some other factor $Z$, and the correlation will no longer hold true if one of the cause-effect relationships is broken. It's also possible that $X$ are $Y$ simply appear to be correlated because the sample is too small. \n",
    "\n",
    "While this may seem obvious, computers can't differentiate between correlation and causation, and decisions based on automated system can often have major consequences on society, so it's important to study why automated systems lead to a given result. Determining cause-effect relationships requires human insight."
   ]
  },
  {
   "cell_type": "code",
   "execution_count": null,
   "id": "8b1a812f",
   "metadata": {},
   "outputs": [],
   "source": []
  },
  {
   "cell_type": "markdown",
   "id": "3d90c5d3",
   "metadata": {},
   "source": [
    "## Linear Regression using a Single Feature\n",
    "\n",
    "We now know that the `smoker` and `age` columns have the strongest correlation with `charges`. Let's try to find a way of estimating the value of `charges` using the value of `age` for non-smokers. First, let's create a data frame containing just the data for `non-smokers`."
   ]
  },
  {
   "cell_type": "code",
   "execution_count": 27,
   "id": "f3efb2c0",
   "metadata": {},
   "outputs": [],
   "source": [
    "# Here write your code"
   ]
  },
  {
   "cell_type": "markdown",
   "id": "1862a634",
   "metadata": {},
   "source": [
    "Next, let's visualize the relationship between `age` and `charges`."
   ]
  },
  {
   "cell_type": "code",
   "execution_count": 29,
   "id": "9b050488",
   "metadata": {},
   "outputs": [],
   "source": [
    "# Here write your code"
   ]
  },
  {
   "cell_type": "markdown",
   "id": "664db361",
   "metadata": {},
   "source": [
    "![](images/download.png)"
   ]
  },
  {
   "cell_type": "markdown",
   "id": "f466c2d6",
   "metadata": {},
   "source": [
    "Apart from a few exceptions, the points seem to form a line. We'll try and `fit` a line using this points, and use the line to predict charges for a given age. A line on the X&Y coordinates has the following formula:\n",
    "\n",
    "$y = wx + b$\n",
    "\n",
    "The line is characterized two numbers: $w$ (called `slope`) and $b$ (called `intercept`). \n",
    "\n",
    "### Model\n",
    "\n",
    "In the above case, the x axis shows `age` and the y axis shows `charges`. Thus, we're assume the following relationship between the two:\n",
    "\n",
    "$charges = w \\times age + b$\n",
    "\n",
    "We'll try determine $w$ and $b$ for the line that best fits the data. \n",
    "\n",
    "* This technique is called _linear regression_, and we call the above equation a _linear regression model_, because it models the relationship between `age` and `charges` as a straight line. \n",
    "\n",
    "* The numbers $w$ and $b$ are called the _parameters_ or _weights_ of the model.\n",
    "\n",
    "* The values in the `age` column of the dataset are called the _inputs_ to the model and the values in the charges column are called `targets`. \n",
    "\n",
    "Let define a helper function `estimate_charges`, to compute $charges$, given $age$, $w$ and $b$.\n"
   ]
  },
  {
   "cell_type": "code",
   "execution_count": 32,
   "id": "7e5530b6",
   "metadata": {},
   "outputs": [],
   "source": [
    "# Here write your code\n",
    "def ?"
   ]
  },
  {
   "cell_type": "markdown",
   "id": "3a955606",
   "metadata": {},
   "source": [
    "The `estimate_charges` function is our very first _model_.\n",
    "\n",
    "Let's _guess_ the values for $w$ and $b$ and use them to estimate the value for charges."
   ]
  },
  {
   "cell_type": "code",
   "execution_count": null,
   "id": "922a1240",
   "metadata": {},
   "outputs": [],
   "source": [
    "w = 50\n",
    "b = 100"
   ]
  },
  {
   "cell_type": "markdown",
   "id": "6e2a2c0c",
   "metadata": {},
   "source": [
    "Here write your code to estimate charges using `estimate_charges` functions with `age` column of above created dataframe."
   ]
  },
  {
   "cell_type": "code",
   "execution_count": 33,
   "id": "f593ef98",
   "metadata": {},
   "outputs": [],
   "source": [
    "# Here write your code"
   ]
  },
  {
   "cell_type": "markdown",
   "id": "0204c5a5",
   "metadata": {},
   "source": [
    "We can plot the estimated charges using a line graph."
   ]
  },
  {
   "cell_type": "code",
   "execution_count": 35,
   "id": "f5b0d391",
   "metadata": {},
   "outputs": [],
   "source": [
    "# Here write your code"
   ]
  },
  {
   "cell_type": "markdown",
   "id": "3a5089dd",
   "metadata": {},
   "source": [
    "![](images/2.png)"
   ]
  },
  {
   "cell_type": "markdown",
   "id": "c2a78c9a",
   "metadata": {},
   "source": [
    "As expected, the points lie on a straight line. \n",
    "\n",
    "We can overlay this line on the actual data, so see how well our _model_ fits the _data_."
   ]
  },
  {
   "cell_type": "code",
   "execution_count": null,
   "id": "cfd0470b",
   "metadata": {},
   "outputs": [],
   "source": [
    "# Here write your code"
   ]
  },
  {
   "cell_type": "markdown",
   "id": "2e4923fb",
   "metadata": {},
   "source": [
    "![](images/3.png)"
   ]
  },
  {
   "cell_type": "markdown",
   "id": "cbac948b",
   "metadata": {},
   "source": [
    "Clearly, the our estimates are quite poor and the line does not `fit` the data. However, we can try different values of $w$ and $b$ to move the line around. \n",
    "> Let's define a helper function `try_parameters` which takes `w` and `b` as inputs and creates the above plot."
   ]
  },
  {
   "cell_type": "code",
   "execution_count": null,
   "id": "1366dd5c",
   "metadata": {},
   "outputs": [],
   "source": [
    "def try_parameters(w, b):\n",
    "    ???"
   ]
  },
  {
   "cell_type": "code",
   "execution_count": null,
   "id": "bdf61772",
   "metadata": {},
   "outputs": [],
   "source": [
    "try_parameters(60, 200)"
   ]
  },
  {
   "cell_type": "markdown",
   "id": "32b161f1",
   "metadata": {},
   "source": [
    "![](images/4.png)"
   ]
  },
  {
   "cell_type": "code",
   "execution_count": null,
   "id": "51463c04",
   "metadata": {},
   "outputs": [],
   "source": [
    "try_parameters(400, 5000)"
   ]
  },
  {
   "cell_type": "markdown",
   "id": "08f88d07",
   "metadata": {},
   "source": [
    "![](images/5.png)"
   ]
  },
  {
   "cell_type": "markdown",
   "id": "539151da",
   "metadata": {},
   "source": [
    "> **EXERCISE**: Try various values of $w$ and $b$ to find a line that best fits the data. What is the effect of changing the value of $w$? What is the effect of changing $b$?"
   ]
  },
  {
   "cell_type": "markdown",
   "id": "2af93bfc",
   "metadata": {},
   "source": [
    "As we change the values, of $w$ and $b$ manually, trying to move the line visually closer to the points, we are _learning_ the approximate relationship between `age` and `charges`. \n",
    "\n",
    "Wouldn't it be nice if a computer could try several different values of `w` and `b` and _learn_ the relationship between `age` and `charges`? To do this, we need to solve a couple of problems:\n",
    "\n",
    "1. We need a way to measure numerically how well the line fits the points.\n",
    "\n",
    "2. Once the `measure of fit` has been computed, we need a way to modify `w` and `b` to improve the the fit.\n",
    "\n",
    "If we can solve the above problems, it should be possible for a computer to determine `w` and `b` for the best fit line, starting from a random guess."
   ]
  },
  {
   "cell_type": "markdown",
   "id": "41188cf1",
   "metadata": {},
   "source": [
    "### Loss/Cost Function\n",
    "\n",
    "We can compare our model's predictions with the actual targets using the following method:\n",
    "\n",
    "* Calculate the difference between the targets and predictions (the differenced is called the \"residual\")\n",
    "* Square all elements of the difference matrix to remove negative values.\n",
    "* Calculate the average of the elements in the resulting matrix.\n",
    "* Take the square root of the result\n",
    "\n",
    "The result is a single number, known as the **root mean squared error** (RMSE). The above description can be stated mathematically as follows: \n",
    "\n",
    "<img src=\"https://i.imgur.com/WCanPkA.png\" width=\"360\">\n",
    "\n",
    "Geometrically, the residuals can be visualized as follows:\n",
    "\n",
    "<img src=\"https://i.imgur.com/ll3NL80.png\" width=\"420\">\n",
    "\n",
    "Let's define a function to compute the RMSE."
   ]
  },
  {
   "cell_type": "code",
   "execution_count": 1,
   "id": "4d74adf6",
   "metadata": {},
   "outputs": [],
   "source": [
    "import numpy as np\n",
    "def rmse(targets, predictions):\n",
    "#     Here write your code"
   ]
  },
  {
   "cell_type": "markdown",
   "id": "93a4bc80",
   "metadata": {},
   "source": [
    "Let's compute the RMSE for our model with a sample set of weights"
   ]
  },
  {
   "cell_type": "code",
   "execution_count": null,
   "id": "e86220ee",
   "metadata": {},
   "outputs": [],
   "source": [
    "w = 50\n",
    "b = 100"
   ]
  },
  {
   "cell_type": "code",
   "execution_count": null,
   "id": "973724fb",
   "metadata": {},
   "outputs": [],
   "source": [
    "try_parameters(w, b)"
   ]
  },
  {
   "cell_type": "markdown",
   "id": "dc85990c",
   "metadata": {},
   "source": [
    "![](images/6.png)"
   ]
  },
  {
   "cell_type": "markdown",
   "id": "a4ddce90",
   "metadata": {},
   "source": [
    "now take targets from `charges` of non_smoker_df and `predicted values` from `estimate_charges` functions "
   ]
  },
  {
   "cell_type": "code",
   "execution_count": 2,
   "id": "3488ce1a",
   "metadata": {},
   "outputs": [],
   "source": [
    "# here write your code"
   ]
  },
  {
   "cell_type": "code",
   "execution_count": null,
   "id": "23506951",
   "metadata": {},
   "outputs": [],
   "source": [
    "rmse(targets, predicted)"
   ]
  },
  {
   "cell_type": "markdown",
   "id": "5f4d37d1",
   "metadata": {},
   "source": [
    "Here's how we can interpret the above number: *On average, each element in the prediction differs from the actual target by \\\\$8461*. \n",
    "\n",
    "> The result is called the *loss* because it indicates how bad the model is at predicting the target variables. It represents information loss in the model: the lower the loss, the better the model.\n",
    "\n"
   ]
  },
  {
   "cell_type": "markdown",
   "id": "bdeefde1",
   "metadata": {},
   "source": [
    "Let's modify the `try_parameters` functions to also display the loss."
   ]
  },
  {
   "cell_type": "code",
   "execution_count": null,
   "id": "71ae3ab8",
   "metadata": {},
   "outputs": [],
   "source": [
    "def try_parameters(w, b):\n",
    "#     here write your code"
   ]
  },
  {
   "cell_type": "code",
   "execution_count": null,
   "id": "055a6685",
   "metadata": {},
   "outputs": [],
   "source": [
    "try_parameters(50,100)"
   ]
  },
  {
   "cell_type": "markdown",
   "id": "8637559a",
   "metadata": {},
   "source": [
    "![](images/7.png)"
   ]
  },
  {
   "cell_type": "markdown",
   "id": "57f16610",
   "metadata": {},
   "source": [
    "> **EXERCISE**: Try different values of $w$ and $b$ to minimize the RMSE loss. What's the lowest value of loss you are able to achieve? Can you come with a general strategy for finding better values of $w$ and $b$ by trial and error?"
   ]
  },
  {
   "cell_type": "markdown",
   "id": "a44f91d0",
   "metadata": {},
   "source": [
    "### Optimizer\n",
    "\n",
    "Next, we need a strategy to modify weights `w` and `b` to reduce the loss and improve the \"fit\" of the line to the data.\n",
    "\n",
    "* Ordinary Least Squares: (better for smaller datasets)\n",
    "* Stochastic gradient descent: (better for larger datasets)\n",
    "\n",
    "Both of these have the same objective: to minimize the loss, however, while ordinary least squares directly computes the best values for `w` and `b` using matrix operations, while gradient descent uses a iterative approach, starting with a random values of `w` and `b` and slowly improving them using derivatives. \n",
    "\n",
    "Here's a visualization of how gradient descent works:\n",
    "\n",
    "![](https://miro.medium.com/max/1728/1*NO-YvpHHadk5lLxtg4Gfrw.gif)\n",
    "\n",
    "Doesn't it look similar to our own strategy of gradually moving the line closer to the points?\n",
    "\n"
   ]
  },
  {
   "cell_type": "markdown",
   "id": "d3e2204f",
   "metadata": {},
   "source": [
    "## Linear Regression using Scikit-learn\n",
    "\n",
    "In practice, you'll never need to implement either of the above methods yourself. You can use a library like `scikit-learn` to do this for you. "
   ]
  },
  {
   "cell_type": "markdown",
   "id": "652fcc8b",
   "metadata": {},
   "source": [
    "Let's use the `LinearRegression` class from `scikit-learn` to find the best fit line for `age` vs. `charges` using the ordinary least squares optimization technique."
   ]
  },
  {
   "cell_type": "code",
   "execution_count": null,
   "id": "a0f02116",
   "metadata": {},
   "outputs": [],
   "source": [
    "# Import LinearRegression model"
   ]
  },
  {
   "cell_type": "markdown",
   "id": "079d2f03",
   "metadata": {},
   "source": [
    "First, we create a new model object."
   ]
  },
  {
   "cell_type": "code",
   "execution_count": null,
   "id": "596c8083",
   "metadata": {},
   "outputs": [],
   "source": [
    "# Here write your code"
   ]
  },
  {
   "cell_type": "markdown",
   "id": "196249c6",
   "metadata": {},
   "source": [
    "Next, we can use the `fit` method of the model to find the best fit line for the inputs and targets."
   ]
  },
  {
   "cell_type": "markdown",
   "id": "68f24ed8",
   "metadata": {},
   "source": [
    "Not that the input `X` must be a 2-d array, so we'll need to pass a dataframe, instead of a single column."
   ]
  },
  {
   "cell_type": "code",
   "execution_count": null,
   "id": "fde7faef",
   "metadata": {},
   "outputs": [],
   "source": [
    "inputs = non_smoker_df[['age']]\n",
    "targets = non_smoker_df.charges\n",
    "print('inputs.shape :', inputs.shape)\n",
    "print('targes.shape :', targets.shape)"
   ]
  },
  {
   "cell_type": "markdown",
   "id": "2aae7387",
   "metadata": {},
   "source": [
    "Let's fit the model to the data."
   ]
  },
  {
   "cell_type": "code",
   "execution_count": 3,
   "id": "19788753",
   "metadata": {},
   "outputs": [],
   "source": [
    "# Here write your code"
   ]
  },
  {
   "cell_type": "markdown",
   "id": "9bb39c5e",
   "metadata": {},
   "source": [
    "We can now make predictions using the model. Let's try predicting the charges for the ages 23, 37 and 61"
   ]
  },
  {
   "cell_type": "code",
   "execution_count": 4,
   "id": "531ea3f4",
   "metadata": {},
   "outputs": [],
   "source": [
    "array= np.array([[23],\n",
    "                [37],\n",
    "                [61]])\n",
    "# here write your code"
   ]
  },
  {
   "cell_type": "markdown",
   "id": "f879f3ca",
   "metadata": {},
   "source": [
    "Do these values seem reasonable? Compare them with the scatter plot above.\n",
    "\n",
    "Let compute the predictions for the entire set of inputs e.g `age`"
   ]
  },
  {
   "cell_type": "code",
   "execution_count": null,
   "id": "886e92fb",
   "metadata": {},
   "outputs": [],
   "source": [
    "# Here write your code"
   ]
  },
  {
   "cell_type": "markdown",
   "id": "0595d09e",
   "metadata": {},
   "source": [
    "Let's compute the RMSE loss to evaluate the model by using `targets` and `predictions`."
   ]
  },
  {
   "cell_type": "code",
   "execution_count": 5,
   "id": "3f1661ab",
   "metadata": {},
   "outputs": [],
   "source": [
    "# Here write your code"
   ]
  },
  {
   "cell_type": "markdown",
   "id": "9cc83862",
   "metadata": {},
   "source": [
    "Seems like our prediction is off by $4000 on average, which is not too bad considering the fact that there are several outliers."
   ]
  },
  {
   "cell_type": "markdown",
   "id": "07222086",
   "metadata": {},
   "source": [
    "The parameters of the model are stored in the `coef_` and `intercept_` properties."
   ]
  },
  {
   "cell_type": "code",
   "execution_count": null,
   "id": "a04653d2",
   "metadata": {},
   "outputs": [],
   "source": [
    "#w "
   ]
  },
  {
   "cell_type": "code",
   "execution_count": null,
   "id": "da4f63aa",
   "metadata": {},
   "outputs": [],
   "source": [
    "#b"
   ]
  },
  {
   "cell_type": "markdown",
   "id": "f72afa30",
   "metadata": {},
   "source": [
    "Are these parameters close to your best guesses?\n",
    "\n",
    "Let's visualize the line created by the above parameters `try_parameters` function"
   ]
  },
  {
   "cell_type": "code",
   "execution_count": 6,
   "id": "6ba4d47d",
   "metadata": {},
   "outputs": [],
   "source": [
    "# Here write your code"
   ]
  },
  {
   "cell_type": "markdown",
   "id": "aeeb0bda",
   "metadata": {},
   "source": [
    "![](images/8.png)"
   ]
  },
  {
   "cell_type": "markdown",
   "id": "f58728bc",
   "metadata": {},
   "source": [
    "Indeed the line is quite close to the points. It is slightly above the cluster of points, because it's also trying to account for the outliers. \n",
    "\n",
    "> **EXERCISE**: Use the [`SGDRegressor`](https://scikit-learn.org/stable/modules/generated/sklearn.linear_model.SGDRegressor.html) class from `scikit-learn` to train a model using the stochastic gradient descent technique. Make predictions and compute the loss. Do you see any difference in the result?"
   ]
  },
  {
   "cell_type": "markdown",
   "id": "a60df01a",
   "metadata": {},
   "source": [
    "> **EXERCISE**: Repeat the steps is this section to train a linear regression model to estimate medical charges for smokers. Visualize the targets and predictions, and compute the loss."
   ]
  },
  {
   "cell_type": "markdown",
   "id": "410f779b",
   "metadata": {},
   "source": [
    "## Machine Learning\n",
    "\n",
    "Machine learning is simply the process of computing the best parameters to model the relationship between some feature and targets. \n",
    "\n",
    "Every machine learning problem has three components:\n",
    "\n",
    "1. **Model**\n",
    "\n",
    "2. **Cost Function**\n",
    "\n",
    "3. **Optimizer**\n",
    "\n",
    "We'll look at several examples of each of the above in future tutorials. Here's how the relationship between these three components can be visualized:\n",
    "\n",
    "<img src=\"https://www.deepnetts.com/blog/wp-content/uploads/2019/02/SupervisedLearning.png\" width=\"480\">"
   ]
  },
  {
   "cell_type": "markdown",
   "id": "2379a8ae",
   "metadata": {},
   "source": [
    "As we've seen above, it takes just a few lines of code to train a machine learning model using `scikit-learn`."
   ]
  },
  {
   "cell_type": "code",
   "execution_count": null,
   "id": "a304e8ac",
   "metadata": {},
   "outputs": [],
   "source": [
    "# Create inputs and targets\n",
    "\n",
    "# Create and train the model\n",
    "\n",
    "# Generate predictions\n",
    "\n",
    "# Compute loss to evalute the model\n"
   ]
  },
  {
   "cell_type": "code",
   "execution_count": null,
   "id": "a53aa588",
   "metadata": {},
   "outputs": [],
   "source": []
  },
  {
   "cell_type": "markdown",
   "id": "0b0be422",
   "metadata": {},
   "source": [
    "## Linear Regression using Multiple Features\n",
    "\n",
    "We've used on the \"age\" feature to estimate \"charges\". Adding another feature like \"bmi\" is fairly straightforward. We simply assume the following relationship:\n",
    "\n",
    "$charges = w_1 \\times age + w_2 \\times bmi + b$\n",
    "\n",
    "We need to change just one line of code to include the BMI."
   ]
  },
  {
   "cell_type": "code",
   "execution_count": null,
   "id": "31353a0d",
   "metadata": {},
   "outputs": [],
   "source": [
    "# Create inputs and targets\n",
    "inputs, targets = ?\n",
    "# Create and train the model\n",
    "model = ?\n",
    "\n",
    "# Generate predictions\n",
    "predictions = ?\n",
    "\n",
    "# Compute loss to evalute the model\n",
    "loss = ?\n",
    "print('Loss:', loss)"
   ]
  },
  {
   "cell_type": "markdown",
   "id": "1f0e4856",
   "metadata": {},
   "source": [
    "> As we can see, adding the `BMI` doesn't seem to reduce the loss by much, as the BMI has a very weak correlation with charges, especially for `non smokers`."
   ]
  },
  {
   "cell_type": "markdown",
   "id": "5ab2eed2",
   "metadata": {},
   "source": [
    "Find the `corr` of `charges vs bmi` non-smoker ."
   ]
  },
  {
   "cell_type": "code",
   "execution_count": 1,
   "id": "6ec4982b",
   "metadata": {},
   "outputs": [],
   "source": [
    "# Here write your code"
   ]
  },
  {
   "cell_type": "markdown",
   "id": "050ef656",
   "metadata": {},
   "source": [
    "Show a scatter plot of `bmi` and `charges`."
   ]
  },
  {
   "cell_type": "code",
   "execution_count": 2,
   "id": "8d7df29a",
   "metadata": {},
   "outputs": [],
   "source": [
    "# Here write your code"
   ]
  },
  {
   "cell_type": "markdown",
   "id": "8dcd65dc",
   "metadata": {},
   "source": [
    "![](images/newplot.png)"
   ]
  },
  {
   "cell_type": "markdown",
   "id": "71766521",
   "metadata": {},
   "source": [
    "We can also visualize the relationship between all 3 variables `age`, `bmi` and `charges` using a `scatter_3d` plot using plotly."
   ]
  },
  {
   "cell_type": "code",
   "execution_count": null,
   "id": "706f96db",
   "metadata": {},
   "outputs": [],
   "source": [
    "# Here write your code"
   ]
  },
  {
   "cell_type": "markdown",
   "id": "fd6692cd",
   "metadata": {},
   "source": [
    "![](images/9.png)"
   ]
  },
  {
   "cell_type": "markdown",
   "id": "8bdd3470",
   "metadata": {},
   "source": [
    "> We can see that it's harder to interpret a 3D scatter plot compared to a 2D scatter plot. As we add more features, it becomes impossible to visualize all feature at once, which is why we use measures like correlation and loss. "
   ]
  },
  {
   "cell_type": "markdown",
   "id": "9771def0",
   "metadata": {},
   "source": [
    "Let's also check the parameters of the model i.e `coef` and `intercept`."
   ]
  },
  {
   "cell_type": "code",
   "execution_count": null,
   "id": "cf8f1060",
   "metadata": {},
   "outputs": [],
   "source": [
    "# Here write your code"
   ]
  },
  {
   "cell_type": "markdown",
   "id": "8ab88e02",
   "metadata": {},
   "source": [
    "> Clearly, `BMI` has a much lower weightage, and we can see why. It has a tiny contribution, and even that is probably accidental. This is an important thing to keep in mind: we can't find a relationship that doesn't exist, no matter what machine learning technique or optimization algorithm we apply. "
   ]
  },
  {
   "cell_type": "markdown",
   "id": "c88c5d6c",
   "metadata": {},
   "source": [
    "> **EXERCISE**: Train a linear regression model to estimate charges using BMI alone. Do you expect it to be better or worse than the previously trained models?"
   ]
  },
  {
   "cell_type": "code",
   "execution_count": null,
   "id": "b9066851",
   "metadata": {},
   "outputs": [],
   "source": []
  },
  {
   "cell_type": "markdown",
   "id": "7c00abac",
   "metadata": {},
   "source": [
    "Let's go one step further, and add the final numeric column: `children`, which seems to have some correlation with `charges`.\n",
    "\n",
    "$charges = w_1 \\times age + w_2 \\times bmi + w_3 \\times children + b$"
   ]
  },
  {
   "cell_type": "markdown",
   "id": "9d1ec904",
   "metadata": {},
   "source": [
    "Find the corr of `charges vs children` of non-smoker."
   ]
  },
  {
   "cell_type": "code",
   "execution_count": null,
   "id": "6fdc49af",
   "metadata": {},
   "outputs": [],
   "source": [
    "# Here write your code"
   ]
  },
  {
   "cell_type": "markdown",
   "id": "e604279c",
   "metadata": {},
   "source": [
    "Create a `strip` plot of `children` and `charges`."
   ]
  },
  {
   "cell_type": "code",
   "execution_count": 3,
   "id": "3299b604",
   "metadata": {},
   "outputs": [],
   "source": [
    "# Here write your code"
   ]
  },
  {
   "cell_type": "markdown",
   "id": "891c8c3a",
   "metadata": {},
   "source": [
    "![](images/10.png)"
   ]
  },
  {
   "cell_type": "markdown",
   "id": "56401c66",
   "metadata": {},
   "source": [
    "Now , this time create a model for three features `age`,`bmi` and `children` using `charges` as outcome using non-smoker."
   ]
  },
  {
   "cell_type": "code",
   "execution_count": null,
   "id": "4635aef0",
   "metadata": {},
   "outputs": [],
   "source": [
    "# Create inputs and targets\n",
    "inputs, targets = ?\n",
    "# Create and train the model\n",
    "model = ?\n",
    "\n",
    "# Generate predictions\n",
    "predictions = ?\n",
    "\n",
    "# Compute loss to evalute the model\n",
    "loss = ?\n",
    "print('Loss:', loss)"
   ]
  },
  {
   "cell_type": "markdown",
   "id": "3e415ade",
   "metadata": {},
   "source": [
    "Once again, we don't see a big reduction in the loss, even though it's greater than in the case of BMI."
   ]
  },
  {
   "cell_type": "markdown",
   "id": "04a3c630",
   "metadata": {},
   "source": [
    "> **EXERCISE**: Repeat the steps is this section to train a linear regression model to estimate medical charges for smokers. Visualize the targets and predictions, and compute the loss."
   ]
  },
  {
   "cell_type": "markdown",
   "id": "82e65153",
   "metadata": {},
   "source": [
    "> **EXERCISE**: Repeat the steps is this section to train a linear regression model to estimate medical charges for all customers. Visualize the targets and predictions, and compute the loss. Is the loss lower or higher?"
   ]
  },
  {
   "cell_type": "markdown",
   "id": "2b8613e1",
   "metadata": {},
   "source": [
    "Now , this time create a model for three features `age`,`bmi` and `children` using `charges` as outcome for entire dataset."
   ]
  },
  {
   "cell_type": "code",
   "execution_count": null,
   "id": "5e57afcd",
   "metadata": {},
   "outputs": [],
   "source": [
    "# Create inputs and targets\n",
    "inputs, targets = ?\n",
    "# Create and train the model\n",
    "model = ?\n",
    "\n",
    "# Generate predictions\n",
    "predictions = ?\n",
    "\n",
    "# Compute loss to evalute the model\n",
    "loss = ?\n",
    "print('Loss:', loss)"
   ]
  },
  {
   "cell_type": "markdown",
   "id": "e19d7d88",
   "metadata": {},
   "source": [
    "## Using Categorical Features for Machine Learning\n",
    "\n",
    "So far we've been using only numeric columns, since we can only perform computations with numbers. If we could use categorical columns like `smoker`, we can train a single model for the entire dataset.\n",
    "\n",
    "To use the categorical columns, we simply need to convert them to numbers. There are three common techniques for doing this:\n",
    "\n",
    "-  If a categorical column has just two categories (it's called a binary category), then we can replace their values with 0 and 1.\n",
    "- If a categorical column has more than 2 categories, we can perform one-hot encoding i.e. create a new column for each category with 1s and 0s.\n",
    "- If the categories have a natural order (e.g. cold, neutral, warm, hot), then they can be converted to numbers (e.g. 1, 2, 3, 4) preserving the order. These are called ordinals\n",
    "\n",
    "\n"
   ]
  },
  {
   "cell_type": "markdown",
   "id": "6761cd21",
   "metadata": {},
   "source": [
    "### Binary Categories\n",
    "\n",
    "The `smoker` category has just two values `yes` and `no`. Let's create a new column `smoker_code` containing 0 for `no` and 1 for `yes`.\n"
   ]
  },
  {
   "cell_type": "code",
   "execution_count": null,
   "id": "2268616f",
   "metadata": {},
   "outputs": [],
   "source": [
    "# Here write your code"
   ]
  },
  {
   "cell_type": "markdown",
   "id": "d1d481c5",
   "metadata": {},
   "source": [
    "We can now use the `smoker_code` column for linear regression.\n",
    "\n",
    "$charges = w_1 \\times age + w_2 \\times bmi + w_3 \\times children + w_4 \\times smoker + b$"
   ]
  },
  {
   "cell_type": "code",
   "execution_count": null,
   "id": "c4e1a1ac",
   "metadata": {},
   "outputs": [],
   "source": [
    "# Create inputs and targets\n",
    "inputs, targets = ?\n",
    "# Create and train the model\n",
    "model = ?\n",
    "\n",
    "# Generate predictions\n",
    "predictions = ?\n",
    "\n",
    "# Compute loss to evalute the model\n",
    "loss = ?\n",
    "print('Loss:', loss)"
   ]
  },
  {
   "cell_type": "markdown",
   "id": "366f526c",
   "metadata": {},
   "source": [
    "> The loss reduces from `11355` to `6056`, almost by 50%! This is an important lesson: never ignore categorical data."
   ]
  },
  {
   "cell_type": "markdown",
   "id": "3166f12d",
   "metadata": {},
   "source": [
    "Let's try adding the `sex_code` column as well.\n",
    "\n",
    "$charges = w_1 \\times age + w_2 \\times bmi + w_3 \\times children + w_4 \\times smoker + w_5 \\times sex + b$"
   ]
  },
  {
   "cell_type": "code",
   "execution_count": null,
   "id": "f9fc548c",
   "metadata": {},
   "outputs": [],
   "source": [
    "sex_codes = {'female': 0, 'male': 1}"
   ]
  },
  {
   "cell_type": "code",
   "execution_count": null,
   "id": "dad2bc2c",
   "metadata": {},
   "outputs": [],
   "source": [
    "# Create inputs and targets\n",
    "inputs, targets = ?\n",
    "\n",
    "# Create and train the model\n",
    "model = ?\n",
    "\n",
    "# Generate predictions\n",
    "predictions = ?\n",
    "\n",
    "# Compute loss to evalute the model\n",
    "loss = ?\n",
    "print('Loss:', loss)"
   ]
  },
  {
   "cell_type": "markdown",
   "id": "72a967a8",
   "metadata": {},
   "source": [
    "As we might expect, this does have a significant impact on the loss."
   ]
  },
  {
   "cell_type": "markdown",
   "id": "4e5141c0",
   "metadata": {},
   "source": [
    "\n",
    "### One-hot Encoding\n",
    "\n",
    "The `region` column contains 4 values, so we'll need to use hot encoding and create a new column for each region.\n",
    "\n",
    "![](https://i.imgur.com/n8GuiOO.png)\n"
   ]
  },
  {
   "cell_type": "markdown",
   "id": "8487a1fc",
   "metadata": {},
   "source": [
    "Display barplot of `region` column."
   ]
  },
  {
   "cell_type": "code",
   "execution_count": 4,
   "id": "4a5d9ba3",
   "metadata": {},
   "outputs": [],
   "source": [
    "# Here write your code"
   ]
  },
  {
   "cell_type": "markdown",
   "id": "4e380cb3",
   "metadata": {},
   "source": [
    "![](images/index.png)"
   ]
  },
  {
   "cell_type": "markdown",
   "id": "08b56f05",
   "metadata": {},
   "source": [
    "**Encode `region` column using `OneHotEncoder`.**"
   ]
  },
  {
   "cell_type": "code",
   "execution_count": 5,
   "id": "e3860999",
   "metadata": {},
   "outputs": [],
   "source": [
    "# Here write your code"
   ]
  },
  {
   "cell_type": "markdown",
   "id": "97ec0eba",
   "metadata": {},
   "source": [
    "Let's include the region columns into our linear regression model.\n",
    "\n",
    "$charges = w_1 \\times age + w_2 \\times bmi + w_3 \\times children + w_4 \\times smoker + w_5 \\times sex + w_6 \\times region + b$"
   ]
  },
  {
   "cell_type": "code",
   "execution_count": null,
   "id": "89a4b47d",
   "metadata": {},
   "outputs": [],
   "source": [
    "# Create inputs and targets\n",
    "input_cols = ?\n",
    "inputs, targets =?\n",
    "\n",
    "# Create and train the model\n",
    "model = ?\n",
    "\n",
    "# Generate predictions\n",
    "predictions = ?\n",
    "\n",
    "# Compute loss to evalute the model\n",
    "loss = ?\n",
    "print('Loss:', loss)"
   ]
  },
  {
   "cell_type": "markdown",
   "id": "a7c52a0a",
   "metadata": {},
   "source": [
    "Once again, this leads to a fairly small reduction in the loss. \n",
    "\n",
    "> **EXERCISE**: Are two separate linear regression models, one for smokers and one of non-smokers, better than a single linear regression model? Why or why not? Try it out and see if we can justify your answer with data."
   ]
  },
  {
   "cell_type": "markdown",
   "id": "32a4ca4a",
   "metadata": {},
   "source": [
    "## Model Improvements\n",
    "\n",
    "Let's we discuss and apply some more improvements to our model.\n",
    "\n",
    "### Feature Scaling\n",
    "\n",
    "Recall that due to regulatory requirements, we also need to explain the rationale behind the predictions our model. \n",
    "\n",
    "$charges = w_1 \\times age + w_2 \\times bmi + w_3 \\times children + w_4 \\times smoker + w_5 \\times sex + w_6 \\times region + b$\n",
    "\n",
    "To compare the importance of each feature in the model, our first instinct might be to compare their weights and create a dataframe like this."
   ]
  },
  {
   "cell_type": "code",
   "execution_count": 6,
   "id": "1dce9950",
   "metadata": {},
   "outputs": [],
   "source": [
    "# Here write your code"
   ]
  },
  {
   "cell_type": "markdown",
   "id": "38c7ac5e",
   "metadata": {},
   "source": [
    "![](images/11.png)"
   ]
  },
  {
   "cell_type": "markdown",
   "id": "f530e6bf",
   "metadata": {},
   "source": [
    "While it seems like `BMI` and the `northeast` have a higher weight than age, keep in mind that the range of values for `BMI` is limited (15 to 40) and the `northeast` column only takes the values 0 and 1.\n",
    "\n",
    "Because different columns have different ranges, we run into two issues:\n",
    "\n",
    "- We can't compare the weights of different column to identify which features are important\n",
    "- A column with a larger range of inputs may disproportionately affect the loss and dominate the optimization process.\n",
    "\n",
    "For this reason, it's common practice to scale (or standardize) the values in numeric column by subtracting the mean and dividing by the standard deviation.\n",
    "\n",
    "![](https://i.imgur.com/dT5fLFI.png)\n",
    "\n",
    "We can apply scaling using the StandardScaler class from `scikit-learn`."
   ]
  },
  {
   "cell_type": "code",
   "execution_count": null,
   "id": "d6cd98cd",
   "metadata": {},
   "outputs": [],
   "source": [
    "from sklearn.preprocessing import StandardScaler"
   ]
  },
  {
   "cell_type": "code",
   "execution_count": null,
   "id": "e9e44337",
   "metadata": {},
   "outputs": [],
   "source": [
    "numeric_cols = ?\n",
    "scaler = ?\n",
    "scaler.fit?"
   ]
  },
  {
   "cell_type": "code",
   "execution_count": null,
   "id": "ff7bd568",
   "metadata": {},
   "outputs": [],
   "source": [
    "scaler.mean_"
   ]
  },
  {
   "cell_type": "code",
   "execution_count": null,
   "id": "d66235d9",
   "metadata": {},
   "outputs": [],
   "source": [
    "scaler.var_"
   ]
  },
  {
   "cell_type": "markdown",
   "id": "2a26bce5",
   "metadata": {},
   "source": [
    "Now, scale our numerical columns of dataframe."
   ]
  },
  {
   "cell_type": "code",
   "execution_count": null,
   "id": "ceac672c",
   "metadata": {},
   "outputs": [],
   "source": [
    "# Here write your code\n",
    "scaled_inputs = ?"
   ]
  },
  {
   "cell_type": "markdown",
   "id": "327c37fa",
   "metadata": {},
   "source": [
    "**Now, we combined numerical scaled data with the categorical data.**"
   ]
  },
  {
   "cell_type": "code",
   "execution_count": null,
   "id": "17591463",
   "metadata": {},
   "outputs": [],
   "source": [
    "cat_cols = ?\n",
    "categorical_data = medical_df[cat_cols].values"
   ]
  },
  {
   "cell_type": "code",
   "execution_count": null,
   "id": "8461869b",
   "metadata": {},
   "outputs": [],
   "source": [
    "inputs = np.concatenate(?, axis=1)\n",
    "targets = ?\n",
    "# Create and train the model\n",
    "model = ?\n",
    "\n",
    "# Generate predictions\n",
    "predictions = ?\n",
    "\n",
    "# Compute loss to evalute the model\n",
    "loss =?\n",
    "print('Loss:', loss)"
   ]
  },
  {
   "cell_type": "markdown",
   "id": "98cc1b84",
   "metadata": {},
   "source": [
    "We can now compare the weights in the formula:\n",
    "\n",
    "$charges = w_1 \\times age + w_2 \\times bmi + w_3 \\times children + w_4 \\times smoker + w_5 \\times sex + w_6 \\times region + b$"
   ]
  },
  {
   "cell_type": "markdown",
   "id": "25ada77e",
   "metadata": {},
   "source": [
    "**Create a dataframe of weights and features like this.**"
   ]
  },
  {
   "cell_type": "code",
   "execution_count": 7,
   "id": "b1a21ab7",
   "metadata": {},
   "outputs": [],
   "source": [
    "# Here write your code"
   ]
  },
  {
   "cell_type": "markdown",
   "id": "56d4272f",
   "metadata": {},
   "source": [
    "![](images/12.png)"
   ]
  },
  {
   "cell_type": "markdown",
   "id": "2b5b23e4",
   "metadata": {},
   "source": [
    "As we can see now, the most important feature are:\n",
    "\n",
    "1. Smoker\n",
    "2. Age\n",
    "3. BMI\n"
   ]
  },
  {
   "cell_type": "markdown",
   "id": "a5e2b5a2",
   "metadata": {},
   "source": [
    "#### Check your Concepts:\n",
    "- What is Data Normalization, and why do we need it?\n",
    "- Do we need to normalize the output/target variable as well?\n",
    "- What is Standardization? When is Standardization preferred?\n",
    "- Why will the model become biased if we do not scale the variable?\n",
    "- Why Standardization seems to be better as per the real-life scenarios?"
   ]
  },
  {
   "cell_type": "code",
   "execution_count": null,
   "id": "f3a0bb74",
   "metadata": {},
   "outputs": [],
   "source": []
  },
  {
   "cell_type": "code",
   "execution_count": null,
   "id": "44b52b21",
   "metadata": {},
   "outputs": [],
   "source": []
  },
  {
   "cell_type": "code",
   "execution_count": null,
   "id": "aadca9c5",
   "metadata": {},
   "outputs": [],
   "source": []
  },
  {
   "cell_type": "code",
   "execution_count": null,
   "id": "ffabdc59",
   "metadata": {},
   "outputs": [],
   "source": []
  },
  {
   "cell_type": "markdown",
   "id": "21f845a2",
   "metadata": {},
   "source": [
    "### Regularization(A fix to overfitting in ML)\n"
   ]
  },
  {
   "cell_type": "markdown",
   "id": "3b41c3c8",
   "metadata": {},
   "source": [
    "#### Check Your Concepts\n",
    "- What is underfitting or overfitting?\n",
    "- How will you decide whether your model is underfitting or overfitting?\n",
    "- How will you cure the problem of underfitting?\n",
    "- How will you cure the problem of overfitting?\n",
    "- What are the regularization techniques used in ML?\n",
    "- What's the difference between L1 and L2 regularization Techniques?"
   ]
  },
  {
   "cell_type": "markdown",
   "id": "6ed9cec1",
   "metadata": {},
   "source": [
    "### Bias-Variance Tradeoff"
   ]
  },
  {
   "cell_type": "markdown",
   "id": "b8f58569",
   "metadata": {},
   "source": [
    "#### Check Your Concepts\n",
    "- What is Bias in Machine Learning?\n",
    "- What is the Bias-Variance tradeoff?\n",
    "- How can you identify a High Bias model? How can you fix it? \n",
    "- Provide an intuitive explanation of the Bias-Variance Tradeoff?\n",
    "- Name some types of Data Biases in Machine Learning?\n",
    "- What to do if you have High Variance Problem?\n",
    "- What to do if you have High Bias Problem?\n",
    "- What is the Bias Error?\n",
    "- What is the Variance Error?\n",
    "- When you sample, what potential Sampling Biases could you be inflicting?\n",
    "- How to identify a High Variance model? How do you fix it?  "
   ]
  },
  {
   "cell_type": "code",
   "execution_count": null,
   "id": "260c4417",
   "metadata": {},
   "outputs": [],
   "source": []
  },
  {
   "cell_type": "code",
   "execution_count": null,
   "id": "bf5ddc5e",
   "metadata": {},
   "outputs": [],
   "source": []
  },
  {
   "cell_type": "code",
   "execution_count": null,
   "id": "c0548673",
   "metadata": {},
   "outputs": [],
   "source": []
  },
  {
   "cell_type": "code",
   "execution_count": null,
   "id": "52f2366d",
   "metadata": {},
   "outputs": [],
   "source": []
  },
  {
   "cell_type": "code",
   "execution_count": null,
   "id": "a216ac9b",
   "metadata": {},
   "outputs": [],
   "source": []
  },
  {
   "cell_type": "code",
   "execution_count": null,
   "id": "4d48a115",
   "metadata": {},
   "outputs": [],
   "source": []
  },
  {
   "cell_type": "code",
   "execution_count": null,
   "id": "f912a055",
   "metadata": {},
   "outputs": [],
   "source": []
  },
  {
   "cell_type": "markdown",
   "id": "5f640058",
   "metadata": {},
   "source": [
    "### Evaluation Metrics of Regression Models\n"
   ]
  },
  {
   "cell_type": "markdown",
   "id": "acb867dc",
   "metadata": {},
   "source": [
    "#### Check Your Concepts\n",
    "- What are the standards methods used for evaluating our machine learning model's performance?\n",
    "- What is MAPE, and why is it more helpful?\n",
    "- What is the range of R^2 values? What can be its limitations?\n",
    "- What people prefer R^2 rather tha adjusted R^2?"
   ]
  },
  {
   "cell_type": "code",
   "execution_count": null,
   "id": "47265441",
   "metadata": {},
   "outputs": [],
   "source": []
  },
  {
   "cell_type": "markdown",
   "id": "51e80672",
   "metadata": {},
   "source": [
    "### How to Approach a Machine Learning Problem\n",
    "\n",
    "Here's a strategy we can apply to approach any machine learning problem:\n",
    "\n",
    "- Explore the data and find correlations between inputs and targets\n",
    "- Pick the right model, loss functions and optimizer for the problem at hand\n",
    "- Scale numeric variables and one-hot encode categorical data\n",
    "- Set aside a test set (using a fraction of the training set)\n",
    "- Train the model\n",
    "- Make predictions on the test set and compute the loss"
   ]
  },
  {
   "cell_type": "code",
   "execution_count": null,
   "id": "daf6b9e8",
   "metadata": {},
   "outputs": [],
   "source": []
  },
  {
   "cell_type": "markdown",
   "id": "92377ede",
   "metadata": {},
   "source": [
    "## Revision Questions\n",
    "1.\tWhy do we have to perform EDA before fitting a model to the data?\n",
    "2.\tWhat is a parameter?\n",
    "3.\tWhat is correlation?\n",
    "4.\tWhat does negative correlation mean?\n",
    "5.\tHow can you find correlation between variables in Python?\n",
    "6.\tWhat is causation? Explain difference between correlation and causation with an example.\n",
    "7.\tDefine Linear Regression.\n",
    "8.\tWhat is univariate linear regression?\n",
    "9.\tWhat is multivariate linear regression?\n",
    "10.\tWhat are weights and bias?\n",
    "11.\tWhat are inputs and targets?\n",
    "12.\tWhat is loss/cost function?\n",
    "13.\tWhat is residual? \n",
    "14.\tWhat is RMSE value? When and why do we use it?\n",
    "15.\tWhat is an Optimizer? What are different types of optimizers? Explain each with an example.\n",
    "16.\tWhat library is available in Python to perform Linear Regression?\n",
    "17.\tWhat is <code>sklearn.linear_model </code>?\n",
    "18.\tWhat does <code>model.fit()</code> do? What arguments must be given?\n",
    "19.\tWhat does <code>model.predict()</code> do? What arguments must be given?\n",
    "20.\tHow do we calculate RMSE values?\n",
    "21.\tWhat is <code>model.coef_</code>?\n",
    "22.\tWhat is <code>model.intercept_</code>?\n",
    "23.\tWhat is SGDRegressor? How is it different from Linear Regression?\n",
    "24.\tDefine Machine Learning. What are the main components in Machine Learning?\n",
    "25.\tHow does loss value help in determining whether the model is good or not?\n",
    "26.\tWhat are continuous and categorical variables?\n",
    "27.\tHow do we handle categorical variables in Machine Learning? What are the common techniques?\n",
    "28.\tWhat is feature scaling? How does it help in Machine Learning?\n",
    "29.\tHow do we perform scaling in Python?\n",
    "30.\tWhat is <code>sklearn.preprocessing</code>?\n",
    "31.\tWhat is a Test set?\n",
    "32.\tHow do we split data for model fitting (training and testing) in Python?\n",
    "33.\tHow do you approach a Machine Learning problem?"
   ]
  },
  {
   "cell_type": "code",
   "execution_count": null,
   "id": "35fdbf19",
   "metadata": {},
   "outputs": [],
   "source": []
  },
  {
   "cell_type": "code",
   "execution_count": null,
   "id": "a6e5ed78",
   "metadata": {},
   "outputs": [],
   "source": []
  },
  {
   "cell_type": "code",
   "execution_count": null,
   "id": "95aeed27",
   "metadata": {},
   "outputs": [],
   "source": []
  }
 ],
 "metadata": {
  "kernelspec": {
   "display_name": "Python 3 (ipykernel)",
   "language": "python",
   "name": "python3"
  },
  "language_info": {
   "codemirror_mode": {
    "name": "ipython",
    "version": 3
   },
   "file_extension": ".py",
   "mimetype": "text/x-python",
   "name": "python",
   "nbconvert_exporter": "python",
   "pygments_lexer": "ipython3",
   "version": "3.8.10"
  }
 },
 "nbformat": 4,
 "nbformat_minor": 5
}
