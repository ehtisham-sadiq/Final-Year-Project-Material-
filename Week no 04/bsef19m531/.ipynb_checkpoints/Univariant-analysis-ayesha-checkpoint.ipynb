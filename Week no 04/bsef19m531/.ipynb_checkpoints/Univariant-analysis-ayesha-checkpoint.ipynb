{
 "cells": [
  {
   "cell_type": "markdown",
   "id": "7565349f",
   "metadata": {},
   "source": [
    "# Rain prediction\n"
   ]
  },
  {
   "cell_type": "markdown",
   "id": "4c3c72ea",
   "metadata": {},
   "source": [
    "### Import libraries"
   ]
  },
  {
   "cell_type": "code",
   "execution_count": 1,
   "id": "e9d58fa9",
   "metadata": {},
   "outputs": [],
   "source": [
    "import numpy as np\n",
    "import pandas as pd\n",
    "import matplotlib \n",
    "import seaborn as sns \n",
    "import matplotlib.pyplot as plt\n",
    "import plotly.express as px\n",
    "import warnings\n",
    "warnings.filterwarnings('ignore')"
   ]
  },
  {
   "cell_type": "code",
   "execution_count": 2,
   "id": "b9bc52df",
   "metadata": {},
   "outputs": [
    {
     "data": {
      "text/html": [
       "<div>\n",
       "<style scoped>\n",
       "    .dataframe tbody tr th:only-of-type {\n",
       "        vertical-align: middle;\n",
       "    }\n",
       "\n",
       "    .dataframe tbody tr th {\n",
       "        vertical-align: top;\n",
       "    }\n",
       "\n",
       "    .dataframe thead th {\n",
       "        text-align: right;\n",
       "    }\n",
       "</style>\n",
       "<table border=\"1\" class=\"dataframe\">\n",
       "  <thead>\n",
       "    <tr style=\"text-align: right;\">\n",
       "      <th></th>\n",
       "      <th>Date</th>\n",
       "      <th>Location</th>\n",
       "      <th>MinTemp</th>\n",
       "      <th>MaxTemp</th>\n",
       "      <th>Rainfall</th>\n",
       "      <th>Evaporation</th>\n",
       "      <th>Sunshine</th>\n",
       "      <th>WindGustDir</th>\n",
       "      <th>WindGustSpeed</th>\n",
       "      <th>WindDir9am</th>\n",
       "      <th>...</th>\n",
       "      <th>Humidity9am</th>\n",
       "      <th>Humidity3pm</th>\n",
       "      <th>Pressure9am</th>\n",
       "      <th>Pressure3pm</th>\n",
       "      <th>Cloud9am</th>\n",
       "      <th>Cloud3pm</th>\n",
       "      <th>Temp9am</th>\n",
       "      <th>Temp3pm</th>\n",
       "      <th>RainToday</th>\n",
       "      <th>RainTomorrow</th>\n",
       "    </tr>\n",
       "  </thead>\n",
       "  <tbody>\n",
       "    <tr>\n",
       "      <th>0</th>\n",
       "      <td>2008-12-01</td>\n",
       "      <td>Albury</td>\n",
       "      <td>13.4</td>\n",
       "      <td>22.9</td>\n",
       "      <td>0.6</td>\n",
       "      <td>NaN</td>\n",
       "      <td>NaN</td>\n",
       "      <td>W</td>\n",
       "      <td>44.0</td>\n",
       "      <td>W</td>\n",
       "      <td>...</td>\n",
       "      <td>71.0</td>\n",
       "      <td>22.0</td>\n",
       "      <td>1007.7</td>\n",
       "      <td>1007.1</td>\n",
       "      <td>8.0</td>\n",
       "      <td>NaN</td>\n",
       "      <td>16.9</td>\n",
       "      <td>21.8</td>\n",
       "      <td>No</td>\n",
       "      <td>No</td>\n",
       "    </tr>\n",
       "    <tr>\n",
       "      <th>1</th>\n",
       "      <td>2008-12-02</td>\n",
       "      <td>Albury</td>\n",
       "      <td>7.4</td>\n",
       "      <td>25.1</td>\n",
       "      <td>0.0</td>\n",
       "      <td>NaN</td>\n",
       "      <td>NaN</td>\n",
       "      <td>WNW</td>\n",
       "      <td>44.0</td>\n",
       "      <td>NNW</td>\n",
       "      <td>...</td>\n",
       "      <td>44.0</td>\n",
       "      <td>25.0</td>\n",
       "      <td>1010.6</td>\n",
       "      <td>1007.8</td>\n",
       "      <td>NaN</td>\n",
       "      <td>NaN</td>\n",
       "      <td>17.2</td>\n",
       "      <td>24.3</td>\n",
       "      <td>No</td>\n",
       "      <td>No</td>\n",
       "    </tr>\n",
       "  </tbody>\n",
       "</table>\n",
       "<p>2 rows × 23 columns</p>\n",
       "</div>"
      ],
      "text/plain": [
       "         Date Location  MinTemp  MaxTemp  Rainfall  Evaporation  Sunshine  \\\n",
       "0  2008-12-01   Albury     13.4     22.9       0.6          NaN       NaN   \n",
       "1  2008-12-02   Albury      7.4     25.1       0.0          NaN       NaN   \n",
       "\n",
       "  WindGustDir  WindGustSpeed WindDir9am  ... Humidity9am  Humidity3pm  \\\n",
       "0           W           44.0          W  ...        71.0         22.0   \n",
       "1         WNW           44.0        NNW  ...        44.0         25.0   \n",
       "\n",
       "   Pressure9am  Pressure3pm  Cloud9am  Cloud3pm  Temp9am  Temp3pm  RainToday  \\\n",
       "0       1007.7       1007.1       8.0       NaN     16.9     21.8         No   \n",
       "1       1010.6       1007.8       NaN       NaN     17.2     24.3         No   \n",
       "\n",
       "   RainTomorrow  \n",
       "0            No  \n",
       "1            No  \n",
       "\n",
       "[2 rows x 23 columns]"
      ]
     },
     "execution_count": 2,
     "metadata": {},
     "output_type": "execute_result"
    }
   ],
   "source": [
    "# import dataset\n",
    "data = pd.read_csv(\"dataset/weatherAUS.csv\")\n",
    "data.head(2)"
   ]
  },
  {
   "cell_type": "markdown",
   "id": "a47500b6",
   "metadata": {},
   "source": [
    "## Exploratory Data Analysis"
   ]
  },
  {
   "cell_type": "code",
   "execution_count": 3,
   "id": "6d0e1ad8",
   "metadata": {},
   "outputs": [
    {
     "name": "stdout",
     "output_type": "stream",
     "text": [
      "<class 'pandas.core.frame.DataFrame'>\n",
      "RangeIndex: 145460 entries, 0 to 145459\n",
      "Data columns (total 23 columns):\n",
      " #   Column         Non-Null Count   Dtype  \n",
      "---  ------         --------------   -----  \n",
      " 0   Date           145460 non-null  object \n",
      " 1   Location       145460 non-null  object \n",
      " 2   MinTemp        143975 non-null  float64\n",
      " 3   MaxTemp        144199 non-null  float64\n",
      " 4   Rainfall       142199 non-null  float64\n",
      " 5   Evaporation    82670 non-null   float64\n",
      " 6   Sunshine       75625 non-null   float64\n",
      " 7   WindGustDir    135134 non-null  object \n",
      " 8   WindGustSpeed  135197 non-null  float64\n",
      " 9   WindDir9am     134894 non-null  object \n",
      " 10  WindDir3pm     141232 non-null  object \n",
      " 11  WindSpeed9am   143693 non-null  float64\n",
      " 12  WindSpeed3pm   142398 non-null  float64\n",
      " 13  Humidity9am    142806 non-null  float64\n",
      " 14  Humidity3pm    140953 non-null  float64\n",
      " 15  Pressure9am    130395 non-null  float64\n",
      " 16  Pressure3pm    130432 non-null  float64\n",
      " 17  Cloud9am       89572 non-null   float64\n",
      " 18  Cloud3pm       86102 non-null   float64\n",
      " 19  Temp9am        143693 non-null  float64\n",
      " 20  Temp3pm        141851 non-null  float64\n",
      " 21  RainToday      142199 non-null  object \n",
      " 22  RainTomorrow   142193 non-null  object \n",
      "dtypes: float64(16), object(7)\n",
      "memory usage: 25.5+ MB\n"
     ]
    }
   ],
   "source": [
    "data.info()"
   ]
  },
  {
   "cell_type": "code",
   "execution_count": 4,
   "id": "347f95f4",
   "metadata": {},
   "outputs": [
    {
     "data": {
      "text/plain": [
       "(145460, 23)"
      ]
     },
     "execution_count": 4,
     "metadata": {},
     "output_type": "execute_result"
    }
   ],
   "source": [
    "data.shape\n"
   ]
  },
  {
   "cell_type": "code",
   "execution_count": 5,
   "id": "945e42dc",
   "metadata": {},
   "outputs": [
    {
     "data": {
      "text/html": [
       "<div>\n",
       "<style scoped>\n",
       "    .dataframe tbody tr th:only-of-type {\n",
       "        vertical-align: middle;\n",
       "    }\n",
       "\n",
       "    .dataframe tbody tr th {\n",
       "        vertical-align: top;\n",
       "    }\n",
       "\n",
       "    .dataframe thead th {\n",
       "        text-align: right;\n",
       "    }\n",
       "</style>\n",
       "<table border=\"1\" class=\"dataframe\">\n",
       "  <thead>\n",
       "    <tr style=\"text-align: right;\">\n",
       "      <th></th>\n",
       "      <th>Date</th>\n",
       "      <th>Location</th>\n",
       "      <th>MinTemp</th>\n",
       "      <th>MaxTemp</th>\n",
       "      <th>Rainfall</th>\n",
       "      <th>Evaporation</th>\n",
       "      <th>Sunshine</th>\n",
       "      <th>WindGustDir</th>\n",
       "      <th>WindGustSpeed</th>\n",
       "      <th>WindDir9am</th>\n",
       "      <th>...</th>\n",
       "      <th>Humidity9am</th>\n",
       "      <th>Humidity3pm</th>\n",
       "      <th>Pressure9am</th>\n",
       "      <th>Pressure3pm</th>\n",
       "      <th>Cloud9am</th>\n",
       "      <th>Cloud3pm</th>\n",
       "      <th>Temp9am</th>\n",
       "      <th>Temp3pm</th>\n",
       "      <th>RainToday</th>\n",
       "      <th>RainTomorrow</th>\n",
       "    </tr>\n",
       "  </thead>\n",
       "  <tbody>\n",
       "    <tr>\n",
       "      <th>count</th>\n",
       "      <td>145460</td>\n",
       "      <td>145460</td>\n",
       "      <td>143975.000000</td>\n",
       "      <td>144199.000000</td>\n",
       "      <td>142199.000000</td>\n",
       "      <td>82670.000000</td>\n",
       "      <td>75625.000000</td>\n",
       "      <td>135134</td>\n",
       "      <td>135197.000000</td>\n",
       "      <td>134894</td>\n",
       "      <td>...</td>\n",
       "      <td>142806.000000</td>\n",
       "      <td>140953.000000</td>\n",
       "      <td>130395.00000</td>\n",
       "      <td>130432.000000</td>\n",
       "      <td>89572.000000</td>\n",
       "      <td>86102.000000</td>\n",
       "      <td>143693.000000</td>\n",
       "      <td>141851.00000</td>\n",
       "      <td>142199</td>\n",
       "      <td>142193</td>\n",
       "    </tr>\n",
       "    <tr>\n",
       "      <th>unique</th>\n",
       "      <td>3436</td>\n",
       "      <td>49</td>\n",
       "      <td>NaN</td>\n",
       "      <td>NaN</td>\n",
       "      <td>NaN</td>\n",
       "      <td>NaN</td>\n",
       "      <td>NaN</td>\n",
       "      <td>16</td>\n",
       "      <td>NaN</td>\n",
       "      <td>16</td>\n",
       "      <td>...</td>\n",
       "      <td>NaN</td>\n",
       "      <td>NaN</td>\n",
       "      <td>NaN</td>\n",
       "      <td>NaN</td>\n",
       "      <td>NaN</td>\n",
       "      <td>NaN</td>\n",
       "      <td>NaN</td>\n",
       "      <td>NaN</td>\n",
       "      <td>2</td>\n",
       "      <td>2</td>\n",
       "    </tr>\n",
       "    <tr>\n",
       "      <th>top</th>\n",
       "      <td>2013-11-12</td>\n",
       "      <td>Canberra</td>\n",
       "      <td>NaN</td>\n",
       "      <td>NaN</td>\n",
       "      <td>NaN</td>\n",
       "      <td>NaN</td>\n",
       "      <td>NaN</td>\n",
       "      <td>W</td>\n",
       "      <td>NaN</td>\n",
       "      <td>N</td>\n",
       "      <td>...</td>\n",
       "      <td>NaN</td>\n",
       "      <td>NaN</td>\n",
       "      <td>NaN</td>\n",
       "      <td>NaN</td>\n",
       "      <td>NaN</td>\n",
       "      <td>NaN</td>\n",
       "      <td>NaN</td>\n",
       "      <td>NaN</td>\n",
       "      <td>No</td>\n",
       "      <td>No</td>\n",
       "    </tr>\n",
       "    <tr>\n",
       "      <th>freq</th>\n",
       "      <td>49</td>\n",
       "      <td>3436</td>\n",
       "      <td>NaN</td>\n",
       "      <td>NaN</td>\n",
       "      <td>NaN</td>\n",
       "      <td>NaN</td>\n",
       "      <td>NaN</td>\n",
       "      <td>9915</td>\n",
       "      <td>NaN</td>\n",
       "      <td>11758</td>\n",
       "      <td>...</td>\n",
       "      <td>NaN</td>\n",
       "      <td>NaN</td>\n",
       "      <td>NaN</td>\n",
       "      <td>NaN</td>\n",
       "      <td>NaN</td>\n",
       "      <td>NaN</td>\n",
       "      <td>NaN</td>\n",
       "      <td>NaN</td>\n",
       "      <td>110319</td>\n",
       "      <td>110316</td>\n",
       "    </tr>\n",
       "    <tr>\n",
       "      <th>mean</th>\n",
       "      <td>NaN</td>\n",
       "      <td>NaN</td>\n",
       "      <td>12.194034</td>\n",
       "      <td>23.221348</td>\n",
       "      <td>2.360918</td>\n",
       "      <td>5.468232</td>\n",
       "      <td>7.611178</td>\n",
       "      <td>NaN</td>\n",
       "      <td>40.035230</td>\n",
       "      <td>NaN</td>\n",
       "      <td>...</td>\n",
       "      <td>68.880831</td>\n",
       "      <td>51.539116</td>\n",
       "      <td>1017.64994</td>\n",
       "      <td>1015.255889</td>\n",
       "      <td>4.447461</td>\n",
       "      <td>4.509930</td>\n",
       "      <td>16.990631</td>\n",
       "      <td>21.68339</td>\n",
       "      <td>NaN</td>\n",
       "      <td>NaN</td>\n",
       "    </tr>\n",
       "    <tr>\n",
       "      <th>std</th>\n",
       "      <td>NaN</td>\n",
       "      <td>NaN</td>\n",
       "      <td>6.398495</td>\n",
       "      <td>7.119049</td>\n",
       "      <td>8.478060</td>\n",
       "      <td>4.193704</td>\n",
       "      <td>3.785483</td>\n",
       "      <td>NaN</td>\n",
       "      <td>13.607062</td>\n",
       "      <td>NaN</td>\n",
       "      <td>...</td>\n",
       "      <td>19.029164</td>\n",
       "      <td>20.795902</td>\n",
       "      <td>7.10653</td>\n",
       "      <td>7.037414</td>\n",
       "      <td>2.887159</td>\n",
       "      <td>2.720357</td>\n",
       "      <td>6.488753</td>\n",
       "      <td>6.93665</td>\n",
       "      <td>NaN</td>\n",
       "      <td>NaN</td>\n",
       "    </tr>\n",
       "    <tr>\n",
       "      <th>min</th>\n",
       "      <td>NaN</td>\n",
       "      <td>NaN</td>\n",
       "      <td>-8.500000</td>\n",
       "      <td>-4.800000</td>\n",
       "      <td>0.000000</td>\n",
       "      <td>0.000000</td>\n",
       "      <td>0.000000</td>\n",
       "      <td>NaN</td>\n",
       "      <td>6.000000</td>\n",
       "      <td>NaN</td>\n",
       "      <td>...</td>\n",
       "      <td>0.000000</td>\n",
       "      <td>0.000000</td>\n",
       "      <td>980.50000</td>\n",
       "      <td>977.100000</td>\n",
       "      <td>0.000000</td>\n",
       "      <td>0.000000</td>\n",
       "      <td>-7.200000</td>\n",
       "      <td>-5.40000</td>\n",
       "      <td>NaN</td>\n",
       "      <td>NaN</td>\n",
       "    </tr>\n",
       "    <tr>\n",
       "      <th>25%</th>\n",
       "      <td>NaN</td>\n",
       "      <td>NaN</td>\n",
       "      <td>7.600000</td>\n",
       "      <td>17.900000</td>\n",
       "      <td>0.000000</td>\n",
       "      <td>2.600000</td>\n",
       "      <td>4.800000</td>\n",
       "      <td>NaN</td>\n",
       "      <td>31.000000</td>\n",
       "      <td>NaN</td>\n",
       "      <td>...</td>\n",
       "      <td>57.000000</td>\n",
       "      <td>37.000000</td>\n",
       "      <td>1012.90000</td>\n",
       "      <td>1010.400000</td>\n",
       "      <td>1.000000</td>\n",
       "      <td>2.000000</td>\n",
       "      <td>12.300000</td>\n",
       "      <td>16.60000</td>\n",
       "      <td>NaN</td>\n",
       "      <td>NaN</td>\n",
       "    </tr>\n",
       "    <tr>\n",
       "      <th>50%</th>\n",
       "      <td>NaN</td>\n",
       "      <td>NaN</td>\n",
       "      <td>12.000000</td>\n",
       "      <td>22.600000</td>\n",
       "      <td>0.000000</td>\n",
       "      <td>4.800000</td>\n",
       "      <td>8.400000</td>\n",
       "      <td>NaN</td>\n",
       "      <td>39.000000</td>\n",
       "      <td>NaN</td>\n",
       "      <td>...</td>\n",
       "      <td>70.000000</td>\n",
       "      <td>52.000000</td>\n",
       "      <td>1017.60000</td>\n",
       "      <td>1015.200000</td>\n",
       "      <td>5.000000</td>\n",
       "      <td>5.000000</td>\n",
       "      <td>16.700000</td>\n",
       "      <td>21.10000</td>\n",
       "      <td>NaN</td>\n",
       "      <td>NaN</td>\n",
       "    </tr>\n",
       "    <tr>\n",
       "      <th>75%</th>\n",
       "      <td>NaN</td>\n",
       "      <td>NaN</td>\n",
       "      <td>16.900000</td>\n",
       "      <td>28.200000</td>\n",
       "      <td>0.800000</td>\n",
       "      <td>7.400000</td>\n",
       "      <td>10.600000</td>\n",
       "      <td>NaN</td>\n",
       "      <td>48.000000</td>\n",
       "      <td>NaN</td>\n",
       "      <td>...</td>\n",
       "      <td>83.000000</td>\n",
       "      <td>66.000000</td>\n",
       "      <td>1022.40000</td>\n",
       "      <td>1020.000000</td>\n",
       "      <td>7.000000</td>\n",
       "      <td>7.000000</td>\n",
       "      <td>21.600000</td>\n",
       "      <td>26.40000</td>\n",
       "      <td>NaN</td>\n",
       "      <td>NaN</td>\n",
       "    </tr>\n",
       "    <tr>\n",
       "      <th>max</th>\n",
       "      <td>NaN</td>\n",
       "      <td>NaN</td>\n",
       "      <td>33.900000</td>\n",
       "      <td>48.100000</td>\n",
       "      <td>371.000000</td>\n",
       "      <td>145.000000</td>\n",
       "      <td>14.500000</td>\n",
       "      <td>NaN</td>\n",
       "      <td>135.000000</td>\n",
       "      <td>NaN</td>\n",
       "      <td>...</td>\n",
       "      <td>100.000000</td>\n",
       "      <td>100.000000</td>\n",
       "      <td>1041.00000</td>\n",
       "      <td>1039.600000</td>\n",
       "      <td>9.000000</td>\n",
       "      <td>9.000000</td>\n",
       "      <td>40.200000</td>\n",
       "      <td>46.70000</td>\n",
       "      <td>NaN</td>\n",
       "      <td>NaN</td>\n",
       "    </tr>\n",
       "  </tbody>\n",
       "</table>\n",
       "<p>11 rows × 23 columns</p>\n",
       "</div>"
      ],
      "text/plain": [
       "              Date  Location        MinTemp        MaxTemp       Rainfall  \\\n",
       "count       145460    145460  143975.000000  144199.000000  142199.000000   \n",
       "unique        3436        49            NaN            NaN            NaN   \n",
       "top     2013-11-12  Canberra            NaN            NaN            NaN   \n",
       "freq            49      3436            NaN            NaN            NaN   \n",
       "mean           NaN       NaN      12.194034      23.221348       2.360918   \n",
       "std            NaN       NaN       6.398495       7.119049       8.478060   \n",
       "min            NaN       NaN      -8.500000      -4.800000       0.000000   \n",
       "25%            NaN       NaN       7.600000      17.900000       0.000000   \n",
       "50%            NaN       NaN      12.000000      22.600000       0.000000   \n",
       "75%            NaN       NaN      16.900000      28.200000       0.800000   \n",
       "max            NaN       NaN      33.900000      48.100000     371.000000   \n",
       "\n",
       "         Evaporation      Sunshine WindGustDir  WindGustSpeed WindDir9am  ...  \\\n",
       "count   82670.000000  75625.000000      135134  135197.000000     134894  ...   \n",
       "unique           NaN           NaN          16            NaN         16  ...   \n",
       "top              NaN           NaN           W            NaN          N  ...   \n",
       "freq             NaN           NaN        9915            NaN      11758  ...   \n",
       "mean        5.468232      7.611178         NaN      40.035230        NaN  ...   \n",
       "std         4.193704      3.785483         NaN      13.607062        NaN  ...   \n",
       "min         0.000000      0.000000         NaN       6.000000        NaN  ...   \n",
       "25%         2.600000      4.800000         NaN      31.000000        NaN  ...   \n",
       "50%         4.800000      8.400000         NaN      39.000000        NaN  ...   \n",
       "75%         7.400000     10.600000         NaN      48.000000        NaN  ...   \n",
       "max       145.000000     14.500000         NaN     135.000000        NaN  ...   \n",
       "\n",
       "          Humidity9am    Humidity3pm   Pressure9am    Pressure3pm  \\\n",
       "count   142806.000000  140953.000000  130395.00000  130432.000000   \n",
       "unique            NaN            NaN           NaN            NaN   \n",
       "top               NaN            NaN           NaN            NaN   \n",
       "freq              NaN            NaN           NaN            NaN   \n",
       "mean        68.880831      51.539116    1017.64994    1015.255889   \n",
       "std         19.029164      20.795902       7.10653       7.037414   \n",
       "min          0.000000       0.000000     980.50000     977.100000   \n",
       "25%         57.000000      37.000000    1012.90000    1010.400000   \n",
       "50%         70.000000      52.000000    1017.60000    1015.200000   \n",
       "75%         83.000000      66.000000    1022.40000    1020.000000   \n",
       "max        100.000000     100.000000    1041.00000    1039.600000   \n",
       "\n",
       "            Cloud9am      Cloud3pm        Temp9am       Temp3pm  RainToday  \\\n",
       "count   89572.000000  86102.000000  143693.000000  141851.00000     142199   \n",
       "unique           NaN           NaN            NaN           NaN          2   \n",
       "top              NaN           NaN            NaN           NaN         No   \n",
       "freq             NaN           NaN            NaN           NaN     110319   \n",
       "mean        4.447461      4.509930      16.990631      21.68339        NaN   \n",
       "std         2.887159      2.720357       6.488753       6.93665        NaN   \n",
       "min         0.000000      0.000000      -7.200000      -5.40000        NaN   \n",
       "25%         1.000000      2.000000      12.300000      16.60000        NaN   \n",
       "50%         5.000000      5.000000      16.700000      21.10000        NaN   \n",
       "75%         7.000000      7.000000      21.600000      26.40000        NaN   \n",
       "max         9.000000      9.000000      40.200000      46.70000        NaN   \n",
       "\n",
       "        RainTomorrow  \n",
       "count         142193  \n",
       "unique             2  \n",
       "top               No  \n",
       "freq          110316  \n",
       "mean             NaN  \n",
       "std              NaN  \n",
       "min              NaN  \n",
       "25%              NaN  \n",
       "50%              NaN  \n",
       "75%              NaN  \n",
       "max              NaN  \n",
       "\n",
       "[11 rows x 23 columns]"
      ]
     },
     "execution_count": 5,
     "metadata": {},
     "output_type": "execute_result"
    }
   ],
   "source": [
    "data.describe(include='all')"
   ]
  },
  {
   "cell_type": "code",
   "execution_count": 6,
   "id": "d87d50eb",
   "metadata": {},
   "outputs": [
    {
     "data": {
      "text/plain": [
       "Index(['Date', 'Location', 'MinTemp', 'MaxTemp', 'Rainfall', 'Evaporation',\n",
       "       'Sunshine', 'WindGustDir', 'WindGustSpeed', 'WindDir9am', 'WindDir3pm',\n",
       "       'WindSpeed9am', 'WindSpeed3pm', 'Humidity9am', 'Humidity3pm',\n",
       "       'Pressure9am', 'Pressure3pm', 'Cloud9am', 'Cloud3pm', 'Temp9am',\n",
       "       'Temp3pm', 'RainToday', 'RainTomorrow'],\n",
       "      dtype='object')"
      ]
     },
     "execution_count": 6,
     "metadata": {},
     "output_type": "execute_result"
    }
   ],
   "source": [
    "data.columns"
   ]
  },
  {
   "cell_type": "markdown",
   "id": "e35e003a",
   "metadata": {},
   "source": [
    "## Univariant Analysis"
   ]
  },
  {
   "cell_type": "markdown",
   "id": "5d640254",
   "metadata": {},
   "source": [
    "### Windspeed9am "
   ]
  },
  {
   "cell_type": "code",
   "execution_count": 7,
   "id": "25e4283e",
   "metadata": {},
   "outputs": [
    {
     "data": {
      "text/plain": [
       "0         20.0\n",
       "1          4.0\n",
       "2         19.0\n",
       "3         11.0\n",
       "4          7.0\n",
       "          ... \n",
       "145455    13.0\n",
       "145456    13.0\n",
       "145457     9.0\n",
       "145458    13.0\n",
       "145459    17.0\n",
       "Name: WindSpeed9am, Length: 145460, dtype: float64"
      ]
     },
     "execution_count": 7,
     "metadata": {},
     "output_type": "execute_result"
    }
   ],
   "source": [
    "data['WindSpeed9am']"
   ]
  },
  {
   "cell_type": "code",
   "execution_count": 8,
   "id": "f0d2bacd",
   "metadata": {},
   "outputs": [
    {
     "data": {
      "text/plain": [
       "1767"
      ]
     },
     "execution_count": 8,
     "metadata": {},
     "output_type": "execute_result"
    }
   ],
   "source": [
    "data.WindSpeed9am.isna().sum()"
   ]
  },
  {
   "cell_type": "code",
   "execution_count": 9,
   "id": "ef472f06",
   "metadata": {},
   "outputs": [],
   "source": [
    "# data.dropna(inplace=True, subset=['WindSpeed9am'])"
   ]
  },
  {
   "cell_type": "code",
   "execution_count": 10,
   "id": "67697bb7",
   "metadata": {},
   "outputs": [
    {
     "data": {
      "text/plain": [
       "1767"
      ]
     },
     "execution_count": 10,
     "metadata": {},
     "output_type": "execute_result"
    }
   ],
   "source": [
    "data.WindSpeed9am.isna().sum()"
   ]
  },
  {
   "cell_type": "code",
   "execution_count": 11,
   "id": "f1636c03",
   "metadata": {},
   "outputs": [
    {
     "data": {
      "text/plain": [
       "43"
      ]
     },
     "execution_count": 11,
     "metadata": {},
     "output_type": "execute_result"
    }
   ],
   "source": [
    "data.WindSpeed9am.nunique()"
   ]
  },
  {
   "cell_type": "code",
   "execution_count": 12,
   "id": "94b55c72",
   "metadata": {},
   "outputs": [
    {
     "data": {
      "text/plain": [
       "array([ 20.,   4.,  19.,  11.,   7.,   6.,  15.,  17.,  28.,  24.,  nan,\n",
       "         9.,   0.,  13.,   2.,  26.,  30.,  22.,  35.,  37.,  31.,  33.,\n",
       "        48.,  39.,  44.,  43.,  41.,  46.,  56.,  83.,  74.,  52.,  65.,\n",
       "        50., 130.,  54.,  61.,  57.,  59.,  87.,  67.,  63.,  69.,  72.])"
      ]
     },
     "execution_count": 12,
     "metadata": {},
     "output_type": "execute_result"
    }
   ],
   "source": [
    "data.WindSpeed9am.unique()"
   ]
  },
  {
   "cell_type": "code",
   "execution_count": 13,
   "id": "64adba05",
   "metadata": {},
   "outputs": [
    {
     "data": {
      "text/plain": [
       "9.0      13649\n",
       "13.0     13132\n",
       "11.0     11728\n",
       "17.0     10788\n",
       "7.0      10783\n",
       "15.0     10625\n",
       "6.0       9118\n",
       "19.0      8763\n",
       "0.0       8745\n",
       "20.0      8063\n",
       "4.0       6360\n",
       "22.0      5672\n",
       "24.0      5450\n",
       "2.0       4609\n",
       "26.0      3766\n",
       "28.0      3568\n",
       "30.0      2336\n",
       "31.0      2025\n",
       "33.0      1130\n",
       "35.0       977\n",
       "37.0       589\n",
       "39.0       455\n",
       "41.0       326\n",
       "43.0       272\n",
       "44.0       197\n",
       "46.0       175\n",
       "50.0        88\n",
       "48.0        87\n",
       "52.0        65\n",
       "56.0        44\n",
       "54.0        38\n",
       "57.0        22\n",
       "61.0        11\n",
       "63.0         9\n",
       "65.0         8\n",
       "59.0         5\n",
       "74.0         4\n",
       "67.0         4\n",
       "87.0         2\n",
       "69.0         2\n",
       "83.0         1\n",
       "130.0        1\n",
       "72.0         1\n",
       "Name: WindSpeed9am, dtype: int64"
      ]
     },
     "execution_count": 13,
     "metadata": {},
     "output_type": "execute_result"
    }
   ],
   "source": [
    "data.WindSpeed9am.value_counts()"
   ]
  },
  {
   "cell_type": "code",
   "execution_count": 14,
   "id": "110b3684",
   "metadata": {},
   "outputs": [
    {
     "data": {
      "text/plain": [
       "9.0      9.383336\n",
       "13.0     9.027911\n",
       "11.0     8.062698\n",
       "17.0     7.416472\n",
       "7.0      7.413035\n",
       "15.0     7.304414\n",
       "6.0      6.268390\n",
       "19.0     6.024337\n",
       "0.0      6.011962\n",
       "20.0     5.543105\n",
       "4.0      4.372336\n",
       "22.0     3.899354\n",
       "24.0     3.746734\n",
       "2.0      3.168569\n",
       "26.0     2.589028\n",
       "28.0     2.452908\n",
       "30.0     1.605940\n",
       "31.0     1.392135\n",
       "33.0     0.776846\n",
       "35.0     0.671662\n",
       "37.0     0.404922\n",
       "39.0     0.312801\n",
       "41.0     0.224117\n",
       "43.0     0.186993\n",
       "44.0     0.135432\n",
       "46.0     0.120308\n",
       "50.0     0.060498\n",
       "48.0     0.059810\n",
       "52.0     0.044686\n",
       "56.0     0.030249\n",
       "54.0     0.026124\n",
       "57.0     0.015124\n",
       "61.0     0.007562\n",
       "63.0     0.006187\n",
       "65.0     0.005500\n",
       "59.0     0.003437\n",
       "74.0     0.002750\n",
       "67.0     0.002750\n",
       "87.0     0.001375\n",
       "69.0     0.001375\n",
       "83.0     0.000687\n",
       "130.0    0.000687\n",
       "72.0     0.000687\n",
       "Name: WindSpeed9am, dtype: float64"
      ]
     },
     "execution_count": 14,
     "metadata": {},
     "output_type": "execute_result"
    }
   ],
   "source": [
    "(data.WindSpeed9am.value_counts()/len(data))*100"
   ]
  },
  {
   "cell_type": "code",
   "execution_count": 40,
   "id": "0ac86938",
   "metadata": {},
   "outputs": [],
   "source": [
    "sns.set_style('darkgrid')\n",
    "matplotlib.rcParams['font.size']=14\n",
    "matplotlib.rcParams['figure.figsize']=(10,10)\n",
    "matplotlib.rcParams['figure.facecolor'] = '#00000000'"
   ]
  },
  {
   "cell_type": "code",
   "execution_count": 16,
   "id": "86576f60",
   "metadata": {},
   "outputs": [
    {
     "data": {
      "image/png": "[encoded data removed]",
      "text/plain": [
       "<Figure size 600x600 with 1 Axes>"
      ]
     },
     "metadata": {
      "needs_background": "light"
     },
     "output_type": "display_data"
    }
   ],
   "source": [
    "sns.boxplot(y=\"WindSpeed9am\", data=data, palette=\"Set1\")\n",
    "plt.show()"
   ]
  },
  {
   "cell_type": "markdown",
   "id": "28513c8d",
   "metadata": {},
   "source": [
    "**Interpretation**\n",
    "- The above plot shows that \n",
    "    - Maximum values lies between 0 to 38\n",
    "    - This data have many outliers \n",
    "    - So it should be cleaned"
   ]
  },
  {
   "cell_type": "markdown",
   "id": "b1786297",
   "metadata": {},
   "source": [
    "##  Windspeed3pm \n"
   ]
  },
  {
   "cell_type": "code",
   "execution_count": 17,
   "id": "4c2e59ff",
   "metadata": {},
   "outputs": [
    {
     "data": {
      "text/plain": [
       "0         24.0\n",
       "1         22.0\n",
       "2         26.0\n",
       "3          9.0\n",
       "4         20.0\n",
       "          ... \n",
       "145455    11.0\n",
       "145456     9.0\n",
       "145457     9.0\n",
       "145458     7.0\n",
       "145459    17.0\n",
       "Name: WindSpeed3pm, Length: 145460, dtype: float64"
      ]
     },
     "execution_count": 17,
     "metadata": {},
     "output_type": "execute_result"
    }
   ],
   "source": [
    "data['WindSpeed3pm']"
   ]
  },
  {
   "cell_type": "code",
   "execution_count": 18,
   "id": "fd1d177a",
   "metadata": {},
   "outputs": [
    {
     "data": {
      "text/plain": [
       "3062"
      ]
     },
     "execution_count": 18,
     "metadata": {},
     "output_type": "execute_result"
    }
   ],
   "source": [
    "data.WindSpeed3pm.isna().sum()"
   ]
  },
  {
   "cell_type": "code",
   "execution_count": 19,
   "id": "1ce5accb",
   "metadata": {},
   "outputs": [],
   "source": [
    "# data.dropna(inplace=True, subset=['WindSpeed3pm'])"
   ]
  },
  {
   "cell_type": "code",
   "execution_count": 20,
   "id": "e30ed6c2",
   "metadata": {},
   "outputs": [
    {
     "data": {
      "text/plain": [
       "3062"
      ]
     },
     "execution_count": 20,
     "metadata": {},
     "output_type": "execute_result"
    }
   ],
   "source": [
    "data.WindSpeed3pm.isna().sum()"
   ]
  },
  {
   "cell_type": "code",
   "execution_count": 21,
   "id": "493befb5",
   "metadata": {},
   "outputs": [
    {
     "data": {
      "text/plain": [
       "44"
      ]
     },
     "execution_count": 21,
     "metadata": {},
     "output_type": "execute_result"
    }
   ],
   "source": [
    "data.WindSpeed3pm.nunique()"
   ]
  },
  {
   "cell_type": "code",
   "execution_count": 22,
   "id": "eb0f1651",
   "metadata": {},
   "outputs": [
    {
     "data": {
      "text/plain": [
       "array([24., 22., 26.,  9., 20., 17., 28., 11.,  6., 13., 30., 19., 31.,\n",
       "        7., 15., 48.,  4., 33.,  0.,  2., nan, 37., 46., 39., 50., 35.,\n",
       "       44., 41., 43., 56., 61., 54., 52., 83., 65., 78., 57., 63., 59.,\n",
       "       74., 72., 69., 76., 87., 67.])"
      ]
     },
     "execution_count": 22,
     "metadata": {},
     "output_type": "execute_result"
    }
   ],
   "source": [
    "data.WindSpeed3pm.unique()"
   ]
  },
  {
   "cell_type": "code",
   "execution_count": 23,
   "id": "93778846",
   "metadata": {},
   "outputs": [
    {
     "data": {
      "text/plain": [
       "13.0    12580\n",
       "17.0    12539\n",
       "20.0    11713\n",
       "15.0    11483\n",
       "19.0    11263\n",
       "11.0    10015\n",
       "9.0      9753\n",
       "24.0     9052\n",
       "22.0     8598\n",
       "28.0     6553\n",
       "26.0     6508\n",
       "7.0      5903\n",
       "30.0     4589\n",
       "31.0     3985\n",
       "6.0      3805\n",
       "33.0     2510\n",
       "4.0      2249\n",
       "35.0     2155\n",
       "37.0     1370\n",
       "0.0      1112\n",
       "39.0     1106\n",
       "2.0      1034\n",
       "41.0      656\n",
       "43.0      558\n",
       "44.0      351\n",
       "46.0      288\n",
       "50.0      182\n",
       "48.0      181\n",
       "52.0       85\n",
       "54.0       58\n",
       "56.0       55\n",
       "57.0       27\n",
       "59.0       20\n",
       "61.0       18\n",
       "65.0       18\n",
       "63.0       13\n",
       "69.0        3\n",
       "72.0        2\n",
       "76.0        2\n",
       "83.0        2\n",
       "74.0        1\n",
       "78.0        1\n",
       "87.0        1\n",
       "67.0        1\n",
       "Name: WindSpeed3pm, dtype: int64"
      ]
     },
     "execution_count": 23,
     "metadata": {},
     "output_type": "execute_result"
    }
   ],
   "source": [
    "data.WindSpeed3pm.value_counts()"
   ]
  },
  {
   "cell_type": "code",
   "execution_count": 24,
   "id": "a32ec557",
   "metadata": {},
   "outputs": [
    {
     "data": {
      "text/plain": [
       "13.0    8.648426\n",
       "17.0    8.620239\n",
       "20.0    8.052386\n",
       "15.0    7.894266\n",
       "19.0    7.743022\n",
       "11.0    6.885054\n",
       "9.0     6.704936\n",
       "24.0    6.223017\n",
       "22.0    5.910903\n",
       "28.0    4.505019\n",
       "26.0    4.474082\n",
       "7.0     4.058160\n",
       "30.0    3.154819\n",
       "31.0    2.739585\n",
       "6.0     2.615839\n",
       "33.0    1.725560\n",
       "4.0     1.546130\n",
       "35.0    1.481507\n",
       "37.0    0.941840\n",
       "0.0     0.764471\n",
       "39.0    0.760346\n",
       "2.0     0.710848\n",
       "41.0    0.450983\n",
       "43.0    0.383611\n",
       "44.0    0.241303\n",
       "46.0    0.197993\n",
       "50.0    0.125120\n",
       "48.0    0.124433\n",
       "52.0    0.058435\n",
       "54.0    0.039874\n",
       "56.0    0.037811\n",
       "57.0    0.018562\n",
       "59.0    0.013749\n",
       "61.0    0.012375\n",
       "65.0    0.012375\n",
       "63.0    0.008937\n",
       "69.0    0.002062\n",
       "72.0    0.001375\n",
       "76.0    0.001375\n",
       "83.0    0.001375\n",
       "74.0    0.000687\n",
       "78.0    0.000687\n",
       "87.0    0.000687\n",
       "67.0    0.000687\n",
       "Name: WindSpeed3pm, dtype: float64"
      ]
     },
     "execution_count": 24,
     "metadata": {},
     "output_type": "execute_result"
    }
   ],
   "source": [
    "(data.WindSpeed3pm.value_counts()/len(data))*100"
   ]
  },
  {
   "cell_type": "code",
   "execution_count": 25,
   "id": "cfd31d73",
   "metadata": {},
   "outputs": [
    {
     "data": {
      "image/png": "[encoded data removed]",
      "text/plain": [
       "<Figure size 600x600 with 1 Axes>"
      ]
     },
     "metadata": {
      "needs_background": "light"
     },
     "output_type": "display_data"
    }
   ],
   "source": [
    "sns.boxplot(y=\"WindSpeed3pm\", data=data, palette=\"Set1\")\n",
    "plt.show()"
   ]
  },
  {
   "cell_type": "markdown",
   "id": "71753766",
   "metadata": {},
   "source": [
    "**Interpretation**\n",
    "- The above plot shows that \n",
    "    - Maximum values lies between 0 to 39\n",
    "    - This data have many outliers \n",
    "    - So it should be cleaned"
   ]
  },
  {
   "cell_type": "markdown",
   "id": "af6c8faa",
   "metadata": {},
   "source": [
    "## Humidity9am "
   ]
  },
  {
   "cell_type": "code",
   "execution_count": 26,
   "id": "c21b40a6",
   "metadata": {},
   "outputs": [
    {
     "data": {
      "text/plain": [
       "0         71.0\n",
       "1         44.0\n",
       "2         38.0\n",
       "3         45.0\n",
       "4         82.0\n",
       "          ... \n",
       "145455    51.0\n",
       "145456    56.0\n",
       "145457    53.0\n",
       "145458    51.0\n",
       "145459    62.0\n",
       "Name: Humidity9am, Length: 145460, dtype: float64"
      ]
     },
     "execution_count": 26,
     "metadata": {},
     "output_type": "execute_result"
    }
   ],
   "source": [
    "data['Humidity9am']"
   ]
  },
  {
   "cell_type": "code",
   "execution_count": 27,
   "id": "9659cd5c",
   "metadata": {},
   "outputs": [
    {
     "data": {
      "text/plain": [
       "2654"
      ]
     },
     "execution_count": 27,
     "metadata": {},
     "output_type": "execute_result"
    }
   ],
   "source": [
    "data.Humidity9am.isna().sum()"
   ]
  },
  {
   "cell_type": "code",
   "execution_count": 28,
   "id": "c2faabf3",
   "metadata": {},
   "outputs": [],
   "source": [
    "# data.dropna(inplace=True, subset=['Humidity9am'])"
   ]
  },
  {
   "cell_type": "code",
   "execution_count": 29,
   "id": "f95bbee5",
   "metadata": {},
   "outputs": [
    {
     "data": {
      "text/plain": [
       "2654"
      ]
     },
     "execution_count": 29,
     "metadata": {},
     "output_type": "execute_result"
    }
   ],
   "source": [
    "data.Humidity9am.isna().sum()"
   ]
  },
  {
   "cell_type": "code",
   "execution_count": 30,
   "id": "88d20c49",
   "metadata": {},
   "outputs": [
    {
     "data": {
      "text/plain": [
       "101"
      ]
     },
     "execution_count": 30,
     "metadata": {},
     "output_type": "execute_result"
    }
   ],
   "source": [
    "data.Humidity9am.nunique()"
   ]
  },
  {
   "cell_type": "code",
   "execution_count": 31,
   "id": "ca49b800",
   "metadata": {},
   "outputs": [
    {
     "data": {
      "text/plain": [
       "array([ 71.,  44.,  38.,  45.,  82.,  55.,  49.,  48.,  42.,  58.,  89.,\n",
       "        76.,  65.,  57.,  50.,  69.,  80.,  47.,  56.,  54.,  41.,  78.,\n",
       "        46.,  43.,  33.,  34.,  36.,  52.,  51.,  40.,  35.,  39.,  60.,\n",
       "        37.,  27.,  32.,  53.,  20.,  66.,  63.,  62.,  87.,  61.,  59.,\n",
       "        92.,  72.,  67.,  75.,  88.,  68.,  73.,  74.,  83.,  77.,  70.,\n",
       "        81.,  86.,  97.,  99.,  91.,  85.,  93.,  84.,  94.,  79.,  98.,\n",
       "        96.,  95.,  90.,  64.,  29.,  21., 100.,  nan,  24.,  25.,  31.,\n",
       "        18.,  23.,  26.,  28.,  30.,  19.,  22.,  17.,  15.,   9.,  12.,\n",
       "        13.,  16.,   6.,  10.,  14.,  11.,   7.,   8.,   5.,   3.,   2.,\n",
       "         4.,   0.,   1.])"
      ]
     },
     "execution_count": 31,
     "metadata": {},
     "output_type": "execute_result"
    }
   ],
   "source": [
    "data.Humidity9am.unique()"
   ]
  },
  {
   "cell_type": "code",
   "execution_count": 32,
   "id": "5ee141a2",
   "metadata": {},
   "outputs": [
    {
     "data": {
      "image/png": "[encoded data removed]",
      "text/plain": [
       "<Figure size 600x600 with 1 Axes>"
      ]
     },
     "metadata": {
      "needs_background": "light"
     },
     "output_type": "display_data"
    }
   ],
   "source": [
    "sns.boxplot(y=\"Humidity9am\", data=data, palette=\"Set1\")\n",
    "plt.show()"
   ]
  },
  {
   "cell_type": "markdown",
   "id": "c157efcc",
   "metadata": {},
   "source": [
    "**Interpretation**\n",
    "- The above plot shows that \n",
    "    - Maximum values lies between 19 to 100\n",
    "    - This data have many outliers \n",
    "    - So it should be cleaned"
   ]
  },
  {
   "cell_type": "markdown",
   "id": "09912621",
   "metadata": {},
   "source": [
    "## Humidity3pm "
   ]
  },
  {
   "cell_type": "code",
   "execution_count": 33,
   "id": "ed2f88b2",
   "metadata": {},
   "outputs": [
    {
     "data": {
      "text/plain": [
       "4507"
      ]
     },
     "execution_count": 33,
     "metadata": {},
     "output_type": "execute_result"
    }
   ],
   "source": [
    "data.Humidity3pm.isna().sum()"
   ]
  },
  {
   "cell_type": "code",
   "execution_count": 34,
   "id": "8e710d4e",
   "metadata": {},
   "outputs": [
    {
     "data": {
      "text/plain": [
       "101"
      ]
     },
     "execution_count": 34,
     "metadata": {},
     "output_type": "execute_result"
    }
   ],
   "source": [
    "data.Humidity3pm.nunique()"
   ]
  },
  {
   "cell_type": "code",
   "execution_count": 35,
   "id": "b53da40f",
   "metadata": {},
   "outputs": [
    {
     "data": {
      "text/plain": [
       "array([ 22.,  25.,  30.,  16.,  33.,  23.,  19.,   9.,  27.,  91.,  93.,\n",
       "        43.,  32.,  28.,  82.,  65.,  26.,  24.,  17.,  15.,  70.,  12.,\n",
       "         8.,  31.,  20.,  10.,  21.,  39.,  13.,  11.,  69.,  18.,  14.,\n",
       "        35.,  90.,  68.,  74.,  41.,  34.,  78.,  49.,  37.,  42.,  47.,\n",
       "        52.,  29.,  86.,  89.,  62.,  79.,  48.,  46.,  38.,  44.,  51.,\n",
       "        36.,  45.,  40.,  53.,  61.,  59.,  63.,  54.,  57.,  50.,  58.,\n",
       "        75.,  97.,  80.,  95.,  56.,  72.,  60.,  71.,  73.,  81.,  76.,\n",
       "        64.,  87.,  85.,  67.,  55.,  77.,  84.,   7.,  99.,  92.,  66.,\n",
       "        83.,  94.,  96.,  88.,  nan, 100.,  98.,   5.,   6.,   1.,   4.,\n",
       "         2.,   3.,   0.])"
      ]
     },
     "execution_count": 35,
     "metadata": {},
     "output_type": "execute_result"
    }
   ],
   "source": [
    "data.Humidity3pm.unique()"
   ]
  },
  {
   "cell_type": "code",
   "execution_count": 36,
   "id": "068b69d8",
   "metadata": {},
   "outputs": [
    {
     "data": {
      "text/plain": [
       "52.0    2751\n",
       "55.0    2738\n",
       "57.0    2728\n",
       "53.0    2697\n",
       "59.0    2690\n",
       "        ... \n",
       "4.0      113\n",
       "3.0       63\n",
       "2.0       35\n",
       "1.0       26\n",
       "0.0        4\n",
       "Name: Humidity3pm, Length: 101, dtype: int64"
      ]
     },
     "execution_count": 36,
     "metadata": {},
     "output_type": "execute_result"
    }
   ],
   "source": [
    "data.Humidity3pm.value_counts()"
   ]
  },
  {
   "cell_type": "code",
   "execution_count": 37,
   "id": "c7dabf99",
   "metadata": {},
   "outputs": [
    {
     "data": {
      "image/png": "[encoded data removed]",
      "text/plain": [
       "<Figure size 600x600 with 1 Axes>"
      ]
     },
     "metadata": {
      "needs_background": "light"
     },
     "output_type": "display_data"
    }
   ],
   "source": [
    "sns.boxplot(y=\"Humidity3pm\", data=data, palette=\"Set1\")\n",
    "plt.show()"
   ]
  },
  {
   "cell_type": "markdown",
   "id": "99316827",
   "metadata": {},
   "source": [
    "**Interpretation**\n",
    "- The above plot shows that \n",
    "    - Maximum values lies between 0 to 100\n",
    "    "
   ]
  },
  {
   "cell_type": "markdown",
   "id": "64b369ea",
   "metadata": {},
   "source": [
    "## Pressure9am "
   ]
  },
  {
   "cell_type": "code",
   "execution_count": 38,
   "id": "1030228b",
   "metadata": {},
   "outputs": [
    {
     "data": {
      "text/plain": [
       "15065"
      ]
     },
     "execution_count": 38,
     "metadata": {},
     "output_type": "execute_result"
    }
   ],
   "source": [
    "data.Pressure9am.isna().sum()"
   ]
  },
  {
   "cell_type": "code",
   "execution_count": 39,
   "id": "e5e86cb7",
   "metadata": {},
   "outputs": [
    {
     "data": {
      "text/plain": [
       "546"
      ]
     },
     "execution_count": 39,
     "metadata": {},
     "output_type": "execute_result"
    }
   ],
   "source": [
    "data.Pressure9am.nunique()"
   ]
  },
  {
   "cell_type": "code",
   "execution_count": 40,
   "id": "5a37a8b9",
   "metadata": {},
   "outputs": [
    {
     "data": {
      "text/plain": [
       "array([1007.7, 1010.6, 1007.6, 1017.6, 1010.8, 1009.2, 1009.6, 1013.4,\n",
       "       1008.9, 1007. , 1011.8, 1010.5,  994.3, 1001.2, 1009.7, 1012.2,\n",
       "       1005.8, 1009.4, 1019.2, 1019.3, 1013.6, 1007.8, 1011. , 1012.9,\n",
       "       1010.9, 1006.8, 1005.2, 1004.8, 1005.6, 1006.1, 1004.5, 1014.4,\n",
       "       1018.7, 1015.1, 1012.6, 1011.9, 1017.8, 1009.9, 1014.1, 1015.7,\n",
       "       1011.6, 1008.4, 1019.7, 1015.8, 1010.1, 1005.3, 1007.9, 1005.4,\n",
       "       1016.5, 1017.7, 1014.9, 1014.6, 1014.2, 1012.5, 1011.7, 1008.8,\n",
       "       1005.9, 1008. , 1008.2, 1009.3, 1012.8, 1017. , 1023.3, 1022.5,\n",
       "       1016.2, 1017.2, 1012.4, 1015.6, 1013. , 1014. , 1016.6, 1007.5,\n",
       "       1014.7, 1014.5, 1013.7, 1015.2, 1019.5, 1021.3, 1017.4, 1012.7,\n",
       "       1013.3, 1016.3, 1014.8, 1019.1, 1023. , 1023.8, 1022.4, 1023.2,\n",
       "       1022.6, 1018.8, 1019.8, 1020.4, 1021.8, 1026.7, 1027.1, 1024.2,\n",
       "       1021.5, 1024.4, 1024.1, 1018.5, 1022.8, 1022.7, 1023.6, 1025.2,\n",
       "       1026. , 1004. , 1013.8, 1018. , 1023.1, 1023.4, 1026.9, 1028.7,\n",
       "       1029.8, 1031.4, 1028.5, 1026.2, 1028.8, 1025.1, 1025.6, 1022.3,\n",
       "       1018.4, 1015.3, 1015. , 1024.7, 1022.2, 1025. , 1024.6, 1021.4,\n",
       "       1021.7, 1030.3, 1034.1, 1031.9, 1029.3, 1023.5, 1021. , 1017.9,\n",
       "       1011.1, 1025.7, 1018.3, 1013.9, 1029.7, 1031.6, 1030.8, 1021.9,\n",
       "       1020.7, 1020.2, 1015.5, 1011.4, 1006.5, 1008.6, 1019.9, 1030.4,\n",
       "       1032. , 1020.5, 1010.4, 1006.6, 1021.6, 1009.5, 1027.3, 1026.8,\n",
       "       1024. , 1025.8, 1027.9, 1026.4, 1018.6, 1009. , 1011.5, 1021.1,\n",
       "       1021.2, 1018.2, 1027.7, 1012. , 1004.1, 1016.1, 1016.9, 1002.6,\n",
       "       1018.9, 1024.9, 1005. , 1020. ,  997.8, 1009.8, 1012.3, 1020.6,\n",
       "       1029.5, 1001.9, 1000.5, 1008.5, 1016. , 1026.6, 1022.9, 1020.8,\n",
       "       1019.6, 1027.5, 1025.4, 1017.1, 1029.1, 1010. , 1003.7, 1010.7,\n",
       "       1010.3, 1022. , 1015.9, 1006.9, 1019.4, 1018.1, 1013.5, 1016.8,\n",
       "       1017.5, 1015.4, 1006.7, 1013.2, 1016.4, 1020.9, 1017.3, 1020.3,\n",
       "       1023.9, 1016.7, 1008.7, 1023.7, 1036.3, 1035.2, 1030. , 1025.5,\n",
       "       1022.1, 1026.5, 1027.8, 1005.7, 1004.7, 1031.8, 1032.3, 1027.4,\n",
       "       1027.2, 1034.5, 1037.3, 1036.9, 1030.1, 1024.3, 1027.6, 1030.5,\n",
       "       1032.5, 1030.9, 1029.2, 1032.7, 1035.5, 1032.1, 1031.7, 1035.9,\n",
       "       1036.1, 1024.5, 1006.2, 1003.1, 1029.6, 1028.9, 1024.8, 1026.1,\n",
       "       1026.3, 1028.2, 1028.4, 1025.3, 1029.4,  989.8, 1004.6, 1011.3,\n",
       "       1014.3, 1012.1, 1009.1, 1002.4,  998.8, 1002.3, 1006. , 1004.4,\n",
       "       1007.4, 1002.5, 1019. , 1020.1, 1001.4, 1031.5, 1033. , 1002.9,\n",
       "       1025.9, 1028. , 1027. , 1002. , 1028.3, 1031. , 1035.7, 1037.4,\n",
       "       1038.9, 1033.6, 1036.6, 1031.3, 1010.2, 1039.9, 1013.1,    nan,\n",
       "        996.3, 1032.4, 1033.4, 1011.2, 1004.3, 1007.2, 1006.3,  995.3,\n",
       "       1000.9, 1005.5, 1030.2, 1035.1, 1033.8, 1036.5, 1034.4, 1003.3,\n",
       "       1031.1, 1031.2, 1029. , 1028.6, 1033.1, 1033.2, 1007.3, 1000.8,\n",
       "        999.9, 1030.7, 1007.1, 1028.1, 1033.7, 1033.3, 1008.1, 1002.2,\n",
       "       1003. , 1006.4, 1008.3,  998.9, 1000.7,  998.4, 1033.5, 1004.9,\n",
       "       1003.2, 1034. , 1035.6, 1035. , 1032.2, 1032.6, 1030.6, 1000.4,\n",
       "       1029.9, 1037.8, 1034.3, 1034.7, 1035.3, 1036. , 1003.9, 1032.8,\n",
       "       1004.2, 1002.8,  996. , 1003.4, 1037.5, 1038.2, 1034.8, 1000.1,\n",
       "       1032.9, 1033.9, 1003.6,  993.7,  992.9, 1000.3, 1001.3,  999.4,\n",
       "       1005.1,  996.6, 1036.8,  997.6, 1001.7, 1001. , 1036.2, 1035.4,\n",
       "       1037.6, 1038. , 1003.5,  999.1, 1001.5, 1038.6,  997.4, 1034.2,\n",
       "       1003.8,  997.3,  999.3,  996.8, 1037. , 1034.9, 1039.2,  998.5,\n",
       "        998.6,  991.7, 1001.1, 1002.1, 1035.8, 1002.7,  998.3,  999.7,\n",
       "        999. , 1037.1, 1001.6,  996.5,  997.2,  999.6, 1038.3, 1038.4,\n",
       "       1000.6,  999.2,  980.5, 1000.2,  994.9,  999.8, 1001.8,  994.6,\n",
       "       1037.9, 1038.7,  998. ,  997. , 1034.6, 1038.8, 1039.1,  990.2,\n",
       "        986.7,  995. , 1036.7,  996.7,  999.5, 1039. ,  998.1, 1038.1,\n",
       "        997.7,  991.5, 1039.6,  998.7, 1000. , 1037.7,  994.5,  994.8,\n",
       "       1037.2,  996.4,  994. ,  996.1,  994.7,  997.1, 1036.4,  998.2,\n",
       "        987.4,  993.9,  996.9, 1039.3, 1039.5,  995.2, 1040.1, 1040.2,\n",
       "       1040.6, 1040.3,  995.7,  995.4,  992.8,  996.2,  994.2, 1039.4,\n",
       "        995.9,  995.8,  997.9,  990.5,  993.3,  989.4,  992. ,  995.1,\n",
       "        992.5,  989.5,  991.2,  991.4,  992.1,  997.5,  993. ,  992.7,\n",
       "        989.3,  991.6,  993.8,  993.4,  995.5,  989.7,  993.6,  988.9,\n",
       "        992.4,  991.8,  993.5,  994.1,  991.3, 1038.5,  986.9,  990.3,\n",
       "        995.6,  993.2,  990.9,  994.4,  990.8,  991.1,  992.6,  986.2,\n",
       "        982.3,  989.6,  985.1,  982. ,  989.2, 1040.9,  992.3, 1041. ,\n",
       "       1040.4,  989. ,  988.3,  986.3,  988. ,  984.6,  992.2,  987.2,\n",
       "        982.9,  988.5,  989.1,  988.8,  987. ,  993.1, 1040. ,  991.9,\n",
       "        983.7,  985.8,  985.9,  987.3,  991. ,  987.1,  990.4,  986.6,\n",
       "        988.1,  988.2,  989.9,  982.2,  984.4,  983.9,  985. , 1040.5,\n",
       "       1039.7,  987.9,  990.6])"
      ]
     },
     "execution_count": 40,
     "metadata": {},
     "output_type": "execute_result"
    }
   ],
   "source": [
    "data.Pressure9am.unique()"
   ]
  },
  {
   "cell_type": "code",
   "execution_count": 41,
   "id": "4fbe150f",
   "metadata": {},
   "outputs": [
    {
     "data": {
      "text/plain": [
       "1016.4    816\n",
       "1017.9    789\n",
       "1016.3    775\n",
       "1018.7    775\n",
       "1018.0    769\n",
       "         ... \n",
       "982.3       1\n",
       "989.0       1\n",
       "1041.0      1\n",
       "985.1       1\n",
       "990.6       1\n",
       "Name: Pressure9am, Length: 546, dtype: int64"
      ]
     },
     "execution_count": 41,
     "metadata": {},
     "output_type": "execute_result"
    }
   ],
   "source": [
    "data.Pressure9am.value_counts()"
   ]
  },
  {
   "cell_type": "code",
   "execution_count": 42,
   "id": "d8205d74",
   "metadata": {},
   "outputs": [
    {
     "data": {
      "image/png": "[encoded data removed]",
      "text/plain": [
       "<Figure size 600x600 with 1 Axes>"
      ]
     },
     "metadata": {
      "needs_background": "light"
     },
     "output_type": "display_data"
    }
   ],
   "source": [
    "sns.boxplot(y=\"Pressure9am\", data=data, palette=\"Set1\")\n",
    "plt.show()"
   ]
  },
  {
   "cell_type": "markdown",
   "id": "d1f2284b",
   "metadata": {},
   "source": [
    "**Interpretation**\n",
    "- The above plot shows that \n",
    "    - Maximum values lies between 999 to 1037\n",
    "    - This data have many outliers \n",
    "    - So it should be cleaned"
   ]
  },
  {
   "cell_type": "markdown",
   "id": "b94e2b8c",
   "metadata": {},
   "source": [
    "## Pressure3pm "
   ]
  },
  {
   "cell_type": "code",
   "execution_count": 43,
   "id": "8649fe08",
   "metadata": {},
   "outputs": [
    {
     "data": {
      "text/plain": [
       "15028"
      ]
     },
     "execution_count": 43,
     "metadata": {},
     "output_type": "execute_result"
    }
   ],
   "source": [
    "data.Pressure3pm.isna().sum()"
   ]
  },
  {
   "cell_type": "code",
   "execution_count": 44,
   "id": "d279a2c1",
   "metadata": {},
   "outputs": [
    {
     "data": {
      "text/plain": [
       "array([1007.1  , 1007.8  , 1008.7  , 1012.8  , 1006.   , 1005.4  ,\n",
       "       1008.2  , 1010.1  , 1003.6  , 1005.7  , 1004.2  ,  993.   ,\n",
       "       1001.8  , 1010.3  , 1010.4  , 1002.2  , 1009.7  , 1017.1  ,\n",
       "       1014.8  , 1008.1  , 1007.6  , 1001.7  , 1003.4  , 1005.1  ,\n",
       "       1003.2  , 1013.1  , 1009.2  , 1006.7  , 1002.7  , 1010.9  ,\n",
       "       1013.7  , 1006.8  , 1012.1  , 1006.9  , 1012.7  , 1017.4  ,\n",
       "       1016.2  , 1010.6  , 1004.8  , 1005.9  ,  997.8  , 1003.9  ,\n",
       "       1014.6  , 1014.1  , 1011.6  , 1011.8  , 1010.2  , 1010.5  ,\n",
       "       1007.4  , 1004.7  , 1002.6  , 1005.   , 1003.8  , 1006.5  ,\n",
       "       1008.5  , 1011.1  , 1017.3  , 1019.7  , 1016.4  , 1013.8  ,\n",
       "       1013.5  , 1007.5  , 1004.5  , 1010.8  , 1012.4  , 1013.4  ,\n",
       "       1015.   , 1012.6  , 1004.6  , 1009.   , 1012.   , 1014.7  ,\n",
       "       1015.9  , 1018.   , 1018.9  , 1008.   , 1013.2  , 1013.9  ,\n",
       "       1013.6  , 1014.4  , 1019.2  , 1017.2  , 1020.7  , 1020.6  ,\n",
       "       1019.1  , 1019.5  , 1019.4  , 1018.4  , 1012.9  , 1019.3  ,\n",
       "       1016.5  , 1019.6  , 1023.5  , 1023.4  , 1017.7  , 1020.3  ,\n",
       "       1020.8  , 1018.7  , 1009.8  , 1016.8  , 1020.   , 1020.9  ,\n",
       "       1021.6  , 1015.7  , 1002.4  , 1000.9  , 1003.3  , 1018.3  ,\n",
       "       1021.5  , 1023.2  , 1024.   , 1025.9  , 1027.3  , 1028.1  ,\n",
       "       1024.6  , 1023.6  , 1025.8  , 1021.8  , 1022.3  , 1022.2  ,\n",
       "       1018.5  , 1011.   , 1021.2  , 1019.9  , 1020.5  , 1021.4  ,\n",
       "       1022.1  , 1028.5  , 1029.9  , 1029.2  , 1026.2  , 1020.4  ,\n",
       "       1017.5  , 1015.1  , 1006.3  , 1008.3  , 1023.   , 1013.   ,\n",
       "       1009.3  , 1027.7  , 1028.6  , 1027.1  , 1018.6  , 1005.5  ,\n",
       "       1006.6  , 1009.4  , 1001.   , 1005.2  , 1009.6  , 1014.9  ,\n",
       "       1019.   , 1023.8  , 1015.6  , 1007.7  , 1005.8  , 1009.9  ,\n",
       "       1014.5  , 1019.8  , 1006.2  , 1025.4  , 1022.7  , 1023.1  ,\n",
       "       1025.3  , 1024.8  , 1022.9  , 1020.2  , 1016.7  , 1008.6  ,\n",
       "       1010.   , 1015.3  , 1006.4  , 1027.2  , 1022.5  , 1014.3  ,\n",
       "       1013.3  ,  996.9  , 1015.2  , 1021.7  , 1012.3  , 1017.9  ,\n",
       "       1011.4  , 1011.3  , 1017.6  , 1018.2  , 1015.4  , 1012.2  ,\n",
       "       1011.9  ,  999.2  , 1002.9  , 1008.4  , 1008.8  , 1004.9  ,\n",
       "       1025.7  , 1016.9  ,  999.4  ,  997.6  , 1024.7  , 1023.7  ,\n",
       "       1022.   , 1015.8  , 1017.8  , 1011.2  , 1002.3  , 1003.5  ,\n",
       "       1016.   , 1016.3  , 1016.1  , 1014.2  , 1007.3  , 1017.   ,\n",
       "       1012.5  , 1011.5  , 1009.1  , 1004.1  , 1007.   , 1003.7  ,\n",
       "       1007.9  , 1011.7  , 1021.3  , 1030.2  , 1033.6  , 1031.4  ,\n",
       "       1026.   , 1021.   , 1023.3  , 1018.8  , 1018.1  , 1021.1  ,\n",
       "       1020.1  , 1024.4  , 1021.9  , 1014.   , 1024.1  , 1024.3  ,\n",
       "       1015.5  , 1002.8  , 1030.7  , 1032.   , 1028.3  , 1026.7  ,\n",
       "       1033.8  , 1035.2  , 1032.9  , 1029.8  , 1029.   , 1022.8  ,\n",
       "       1025.1  , 1026.6  , 1008.9  , 1026.3  , 1028.9  , 1029.1  ,\n",
       "       1034.1  , 1031.5  , 1000.1  , 1004.4  , 1025.2  ,  999.   ,\n",
       "       1022.6  , 1025.   , 1023.9  ,  982.9  , 1007.2  , 1002.1  ,\n",
       "        994.3  , 1004.3  , 1000.5  , 1010.7  , 1009.5  , 1006.1  ,\n",
       "       1001.5  , 1016.6  , 1002.5  , 1000.3  , 1005.3  , 1030.5  ,\n",
       "       1028.8  , 1024.9  , 1024.5  , 1027.8  , 1028.7  , 1032.6  ,\n",
       "       1035.1  , 1034.2  , 1029.7  , 1033.3  , 1027.6  , 1030.4  ,\n",
       "       1034.6  , 1036.   ,      nan,  996.2  , 1030.9  , 1026.1  ,\n",
       "       1000.7  ,  995.4  , 1002.   ,  995.7  , 1001.9  , 1031.   ,\n",
       "       1031.1  , 1031.9  , 1032.5  , 1025.5  , 1028.4  , 1033.2  ,\n",
       "       1024.2  , 1030.3  , 1030.   , 1001.3  , 1000.8  , 1001.6  ,\n",
       "       1026.9  ,  997.2  ,  998.5  , 1026.8  , 1027.   , 1027.9  ,\n",
       "       1028.2  , 1029.3  , 1022.4  , 1027.4  , 1029.4  ,  999.6  ,\n",
       "       1001.4  ,  999.1  ,  994.8  , 1001.2  ,  998.4  , 1025.6  ,\n",
       "       1026.5  , 1003.   ,  998.9  ,  998.8  , 1026.4  , 1027.5  ,\n",
       "       1030.1  , 1032.3  , 1032.8  , 1005.6  ,  998.7  , 1000.2  ,\n",
       "       1033.5  , 1032.2  , 1030.6  , 1031.7  , 1028.   , 1032.1  ,\n",
       "       1031.2  , 1029.5  , 1004.   , 1036.1  ,  999.5  ,  993.1  ,\n",
       "        998.1  ,  997.5  , 1000.   ,  995.9  , 1034.3  , 1033.7  ,\n",
       "       1031.3  , 1032.4  ,  998.   , 1000.6  ,  998.2  , 1001.1  ,\n",
       "        999.3  , 1003.1  , 1034.9  , 1036.2  , 1032.7  , 1031.8  ,\n",
       "        989.1  ,  995.1  , 1036.4  , 1035.   , 1034.8  , 1036.8  ,\n",
       "        996.4  , 1031.6  ,  997.7  ,  997.9  ,  996.7  ,  999.8  ,\n",
       "        999.7  ,  995.3  ,  994.5  ,  996.5  ,  998.3  , 1030.8  ,\n",
       "        993.8  ,  997.4  ,  995.8  , 1029.6  , 1034.   ,  993.7  ,\n",
       "        999.9  ,  997.1  , 1000.4  , 1034.7  ,  991.6  , 1034.4  ,\n",
       "       1033.4  , 1035.9  ,  996.8  ,  997.   , 1035.6  ,  995.5  ,\n",
       "       1034.5  , 1035.7  ,  995.6  ,  994.9  ,  996.1  ,  979.   ,\n",
       "        996.   ,  995.2  , 1033.   ,  989.   , 1036.3  , 1035.5  ,\n",
       "        993.4  ,  994.   ,  996.3  ,  998.6  , 1026.66 , 1009.555,\n",
       "       1016.777,  991.4  ,  991.   ,  990.3  ,  989.8  , 1036.7  ,\n",
       "        994.2  ,  989.3  ,  995.   , 1037.   , 1035.4  ,  993.9  ,\n",
       "        993.6  ,  984.2  ,  994.7  ,  997.3  ,  994.4  ,  992.8  ,\n",
       "       1033.9  ,  990.7  , 1033.1  ,  987.4  , 1036.9  , 1035.8  ,\n",
       "       1037.8  ,  993.5  ,  993.3  ,  990.2  ,  993.2  , 1037.3  ,\n",
       "        985.5  , 1037.9  ,  996.6  ,  994.1  ,  991.9  ,  992.6  ,\n",
       "        985.   ,  994.6  , 1037.5  , 1037.7  ,  990.9  ,  988.7  ,\n",
       "        992.5  ,  989.9  ,  987.3  ,  992.   ,  990.4  ,  988.6  ,\n",
       "        992.7  ,  992.3  ,  987.1  ,  991.8  ,  991.1  ,  988.8  ,\n",
       "        991.5  ,  992.9  ,  991.7  ,  989.4  ,  992.4  ,  992.1  ,\n",
       "       1035.3  ,  988.2  ,  990.8  ,  990.6  ,  988.3  ,  987.7  ,\n",
       "        982.6  ,  986.5  ,  991.3  , 1036.6  , 1037.1  ,  985.6  ,\n",
       "        992.2  ,  987.8  ,  986.   , 1036.5  ,  985.2  ,  986.4  ,\n",
       "        986.6  ,  988.9  ,  984.9  , 1038.   , 1038.2  ,  986.9  ,\n",
       "        989.6  ,  989.7  ,  989.2  ,  986.1  ,  985.1  ,  984.   ,\n",
       "        985.3  ,  981.2  ,  988.4  , 1037.2  , 1037.6  ,  987.6  ,\n",
       "        980.2  ,  986.2  ,  987.   , 1038.5  , 1038.9  ,  988.1  ,\n",
       "        990.1  ,  988.5  ,  990.   ,  984.5  ,  987.2  ,  985.4  ,\n",
       "        981.4  ,  984.4  ,  991.2  ,  982.2  ,  988.   ,  977.1  ,\n",
       "        978.2  ,  983.2  ,  981.9  ,  983.3  ,  990.5  , 1039.6  ,\n",
       "        986.8  , 1038.4  ,  985.8  ,  989.5  ])"
      ]
     },
     "execution_count": 44,
     "metadata": {},
     "output_type": "execute_result"
    }
   ],
   "source": [
    "data.Pressure3pm.unique()"
   ]
  },
  {
   "cell_type": "code",
   "execution_count": 45,
   "id": "7bde859d",
   "metadata": {},
   "outputs": [
    {
     "data": {
      "text/plain": [
       "549"
      ]
     },
     "execution_count": 45,
     "metadata": {},
     "output_type": "execute_result"
    }
   ],
   "source": [
    "data.Pressure3pm.nunique()"
   ]
  },
  {
   "cell_type": "code",
   "execution_count": 46,
   "id": "9c573fd0",
   "metadata": {},
   "outputs": [
    {
     "data": {
      "text/plain": [
       "1015.300    786\n",
       "1015.500    783\n",
       "1015.600    776\n",
       "1015.700    773\n",
       "1013.500    767\n",
       "           ... \n",
       "1037.200      1\n",
       "1037.600      1\n",
       "987.600       1\n",
       "1009.555      1\n",
       "989.500       1\n",
       "Name: Pressure3pm, Length: 549, dtype: int64"
      ]
     },
     "execution_count": 46,
     "metadata": {},
     "output_type": "execute_result"
    }
   ],
   "source": [
    "data.Pressure3pm.value_counts()"
   ]
  },
  {
   "cell_type": "code",
   "execution_count": 47,
   "id": "5464cda0",
   "metadata": {},
   "outputs": [
    {
     "data": {
      "image/png": "[encoded data removed]",
      "text/plain": [
       "<Figure size 600x600 with 1 Axes>"
      ]
     },
     "metadata": {
      "needs_background": "light"
     },
     "output_type": "display_data"
    }
   ],
   "source": [
    "sns.boxplot(y=\"Pressure3pm\", data=data, palette=\"Set1\")\n",
    "plt.show()"
   ]
  },
  {
   "cell_type": "markdown",
   "id": "1a450aae",
   "metadata": {},
   "source": [
    "**Interpretation**\n",
    "- The above plot shows that \n",
    "    - Maximum values lies between 997 to 1034\n",
    "    - This data have many outliers \n",
    "    - So it should be cleaned"
   ]
  },
  {
   "cell_type": "markdown",
   "id": "330bfcb7",
   "metadata": {},
   "source": [
    "## WindDir9am \n"
   ]
  },
  {
   "cell_type": "code",
   "execution_count": 48,
   "id": "34973b75",
   "metadata": {},
   "outputs": [
    {
     "data": {
      "text/plain": [
       "10566"
      ]
     },
     "execution_count": 48,
     "metadata": {},
     "output_type": "execute_result"
    }
   ],
   "source": [
    "data.WindDir9am.isna().sum()"
   ]
  },
  {
   "cell_type": "code",
   "execution_count": 49,
   "id": "9a629d0b",
   "metadata": {},
   "outputs": [
    {
     "data": {
      "text/plain": [
       "16"
      ]
     },
     "execution_count": 49,
     "metadata": {},
     "output_type": "execute_result"
    }
   ],
   "source": [
    "data.WindDir9am.nunique()"
   ]
  },
  {
   "cell_type": "code",
   "execution_count": 50,
   "id": "45fdfa9d",
   "metadata": {},
   "outputs": [
    {
     "data": {
      "text/plain": [
       "array(['W', 'NNW', 'SE', 'ENE', 'SW', 'SSE', 'S', 'NE', nan, 'SSW', 'N',\n",
       "       'WSW', 'ESE', 'E', 'NW', 'WNW', 'NNE'], dtype=object)"
      ]
     },
     "execution_count": 50,
     "metadata": {},
     "output_type": "execute_result"
    }
   ],
   "source": [
    "data.WindDir9am.unique()"
   ]
  },
  {
   "cell_type": "code",
   "execution_count": 51,
   "id": "5eda09e3",
   "metadata": {},
   "outputs": [
    {
     "data": {
      "text/plain": [
       "N      11758\n",
       "SE      9287\n",
       "E       9176\n",
       "SSE     9112\n",
       "NW      8749\n",
       "S       8659\n",
       "W       8459\n",
       "SW      8423\n",
       "NNE     8129\n",
       "NNW     7980\n",
       "ENE     7836\n",
       "NE      7671\n",
       "ESE     7630\n",
       "SSW     7587\n",
       "WNW     7414\n",
       "WSW     7024\n",
       "Name: WindDir9am, dtype: int64"
      ]
     },
     "execution_count": 51,
     "metadata": {},
     "output_type": "execute_result"
    }
   ],
   "source": [
    "data.WindDir9am.value_counts()"
   ]
  },
  {
   "cell_type": "code",
   "execution_count": 52,
   "id": "35d2582f",
   "metadata": {},
   "outputs": [
    {
     "data": {
      "image/png": "[encoded data removed]",
      "text/plain": [
       "<Figure size 600x600 with 1 Axes>"
      ]
     },
     "metadata": {
      "needs_background": "light"
     },
     "output_type": "display_data"
    }
   ],
   "source": [
    "sns.countplot(y=\"WindDir9am\", data=data, palette=\"Set1\")\n",
    "plt.show()"
   ]
  },
  {
   "cell_type": "markdown",
   "id": "ce575064",
   "metadata": {},
   "source": [
    "### WindDir3pm as target column"
   ]
  },
  {
   "cell_type": "code",
   "execution_count": 53,
   "id": "7ff030d0",
   "metadata": {},
   "outputs": [
    {
     "data": {
      "text/plain": [
       "4228"
      ]
     },
     "execution_count": 53,
     "metadata": {},
     "output_type": "execute_result"
    }
   ],
   "source": [
    "data.WindDir3pm.isna().sum()"
   ]
  },
  {
   "cell_type": "code",
   "execution_count": 54,
   "id": "c9d76899",
   "metadata": {},
   "outputs": [
    {
     "data": {
      "text/plain": [
       "16"
      ]
     },
     "execution_count": 54,
     "metadata": {},
     "output_type": "execute_result"
    }
   ],
   "source": [
    "data.WindDir3pm.nunique()"
   ]
  },
  {
   "cell_type": "code",
   "execution_count": 55,
   "id": "bcc28e2b",
   "metadata": {},
   "outputs": [
    {
     "data": {
      "text/plain": [
       "array(['WNW', 'WSW', 'E', 'NW', 'W', 'SSE', 'ESE', 'ENE', 'NNW', 'SSW',\n",
       "       'SW', 'SE', 'N', 'S', 'NNE', nan, 'NE'], dtype=object)"
      ]
     },
     "execution_count": 55,
     "metadata": {},
     "output_type": "execute_result"
    }
   ],
   "source": [
    "data.WindDir3pm.unique()"
   ]
  },
  {
   "cell_type": "code",
   "execution_count": 56,
   "id": "5d2ddb98",
   "metadata": {},
   "outputs": [
    {
     "data": {
      "text/plain": [
       "SE     10838\n",
       "W      10110\n",
       "S       9926\n",
       "WSW     9518\n",
       "SSE     9399\n",
       "SW      9354\n",
       "N       8890\n",
       "WNW     8874\n",
       "NW      8610\n",
       "ESE     8505\n",
       "E       8472\n",
       "NE      8263\n",
       "SSW     8156\n",
       "NNW     7870\n",
       "ENE     7857\n",
       "NNE     6590\n",
       "Name: WindDir3pm, dtype: int64"
      ]
     },
     "execution_count": 56,
     "metadata": {},
     "output_type": "execute_result"
    }
   ],
   "source": [
    "data.WindDir3pm.value_counts()"
   ]
  },
  {
   "cell_type": "code",
   "execution_count": 57,
   "id": "6df64739",
   "metadata": {},
   "outputs": [
    {
     "data": {
      "image/png": "[encoded data removed]",
      "text/plain": [
       "<Figure size 600x600 with 1 Axes>"
      ]
     },
     "metadata": {
      "needs_background": "light"
     },
     "output_type": "display_data"
    }
   ],
   "source": [
    "sns.countplot(y=\"WindDir3pm\", data=data, palette=\"Set1\")\n",
    "plt.show()"
   ]
  },
  {
   "cell_type": "markdown",
   "id": "3356b6d9",
   "metadata": {},
   "source": [
    "## WindGustDir"
   ]
  },
  {
   "cell_type": "code",
   "execution_count": 58,
   "id": "76f9051b",
   "metadata": {},
   "outputs": [
    {
     "data": {
      "text/plain": [
       "10326"
      ]
     },
     "execution_count": 58,
     "metadata": {},
     "output_type": "execute_result"
    }
   ],
   "source": [
    "data.WindGustDir.isna().sum()"
   ]
  },
  {
   "cell_type": "code",
   "execution_count": 59,
   "id": "49a94f50",
   "metadata": {},
   "outputs": [
    {
     "data": {
      "text/plain": [
       "16"
      ]
     },
     "execution_count": 59,
     "metadata": {},
     "output_type": "execute_result"
    }
   ],
   "source": [
    "data.WindGustDir.nunique()"
   ]
  },
  {
   "cell_type": "code",
   "execution_count": 60,
   "id": "d14323fc",
   "metadata": {},
   "outputs": [
    {
     "data": {
      "text/plain": [
       "array(['W', 'WNW', 'WSW', 'NE', 'NNW', 'N', 'NNE', 'SW', nan, 'ENE',\n",
       "       'SSE', 'S', 'NW', 'SE', 'ESE', 'E', 'SSW'], dtype=object)"
      ]
     },
     "execution_count": 60,
     "metadata": {},
     "output_type": "execute_result"
    }
   ],
   "source": [
    "data.WindGustDir.unique()"
   ]
  },
  {
   "cell_type": "code",
   "execution_count": 61,
   "id": "e432717c",
   "metadata": {},
   "outputs": [
    {
     "data": {
      "text/plain": [
       "W      9915\n",
       "SE     9418\n",
       "N      9313\n",
       "SSE    9216\n",
       "E      9181\n",
       "S      9168\n",
       "WSW    9069\n",
       "SW     8967\n",
       "SSW    8736\n",
       "WNW    8252\n",
       "NW     8122\n",
       "ENE    8104\n",
       "ESE    7372\n",
       "NE     7133\n",
       "NNW    6620\n",
       "NNE    6548\n",
       "Name: WindGustDir, dtype: int64"
      ]
     },
     "execution_count": 61,
     "metadata": {},
     "output_type": "execute_result"
    }
   ],
   "source": [
    "data.WindGustDir.value_counts()"
   ]
  },
  {
   "cell_type": "code",
   "execution_count": 62,
   "id": "0381ed79",
   "metadata": {},
   "outputs": [
    {
     "data": {
      "image/png": "[encoded data removed]",
      "text/plain": [
       "<Figure size 600x600 with 1 Axes>"
      ]
     },
     "metadata": {
      "needs_background": "light"
     },
     "output_type": "display_data"
    }
   ],
   "source": [
    "sns.countplot(y=\"WindGustDir\", data=data, palette=\"Set1\")\n",
    "plt.show()"
   ]
  },
  {
   "cell_type": "markdown",
   "id": "663143b9",
   "metadata": {},
   "source": [
    "## Cloud9am"
   ]
  },
  {
   "cell_type": "code",
   "execution_count": 63,
   "id": "40f8691b",
   "metadata": {},
   "outputs": [
    {
     "data": {
      "text/plain": [
       "55888"
      ]
     },
     "execution_count": 63,
     "metadata": {},
     "output_type": "execute_result"
    }
   ],
   "source": [
    "data.Cloud9am.isna().sum()"
   ]
  },
  {
   "cell_type": "code",
   "execution_count": 64,
   "id": "a5f4f685",
   "metadata": {},
   "outputs": [
    {
     "data": {
      "text/plain": [
       "10"
      ]
     },
     "execution_count": 64,
     "metadata": {},
     "output_type": "execute_result"
    }
   ],
   "source": [
    "data.Cloud9am.nunique()"
   ]
  },
  {
   "cell_type": "code",
   "execution_count": 65,
   "id": "88f77a6a",
   "metadata": {},
   "outputs": [
    {
     "data": {
      "text/plain": [
       "array([ 8., nan,  7.,  1.,  0.,  5.,  4.,  2.,  6.,  3.,  9.])"
      ]
     },
     "execution_count": 65,
     "metadata": {},
     "output_type": "execute_result"
    }
   ],
   "source": [
    "data.Cloud9am.unique()"
   ]
  },
  {
   "cell_type": "code",
   "execution_count": 66,
   "id": "cb561fcf",
   "metadata": {},
   "outputs": [
    {
     "data": {
      "text/plain": [
       "7.0    19972\n",
       "1.0    15687\n",
       "8.0    14697\n",
       "0.0     8642\n",
       "6.0     8171\n",
       "2.0     6500\n",
       "3.0     5914\n",
       "5.0     5567\n",
       "4.0     4420\n",
       "9.0        2\n",
       "Name: Cloud9am, dtype: int64"
      ]
     },
     "execution_count": 66,
     "metadata": {},
     "output_type": "execute_result"
    }
   ],
   "source": [
    "data.Cloud9am.value_counts()"
   ]
  },
  {
   "cell_type": "code",
   "execution_count": 79,
   "id": "6fd247b2",
   "metadata": {},
   "outputs": [
    {
     "data": {
      "image/png": "[encoded data removed]",
      "text/plain": [
       "<Figure size 600x600 with 1 Axes>"
      ]
     },
     "metadata": {
      "needs_background": "light"
     },
     "output_type": "display_data"
    }
   ],
   "source": [
    "sns.boxplot(y=\"Cloud9am\", data=data, palette=\"Set1\")\n",
    "plt.show()"
   ]
  },
  {
   "cell_type": "markdown",
   "id": "a790c803",
   "metadata": {},
   "source": [
    "## Cloud3pm"
   ]
  },
  {
   "cell_type": "code",
   "execution_count": 68,
   "id": "e9e62a5b",
   "metadata": {},
   "outputs": [
    {
     "data": {
      "text/plain": [
       "59358"
      ]
     },
     "execution_count": 68,
     "metadata": {},
     "output_type": "execute_result"
    }
   ],
   "source": [
    "data.Cloud3pm.isna().sum()"
   ]
  },
  {
   "cell_type": "code",
   "execution_count": 69,
   "id": "eed9fbc3",
   "metadata": {},
   "outputs": [
    {
     "data": {
      "text/plain": [
       "10"
      ]
     },
     "execution_count": 69,
     "metadata": {},
     "output_type": "execute_result"
    }
   ],
   "source": [
    "data.Cloud3pm.nunique()"
   ]
  },
  {
   "cell_type": "code",
   "execution_count": 70,
   "id": "b7bb92a6",
   "metadata": {},
   "outputs": [
    {
     "data": {
      "text/plain": [
       "array([nan,  2.,  8.,  7.,  1.,  5.,  4.,  6.,  3.,  0.,  9.])"
      ]
     },
     "execution_count": 70,
     "metadata": {},
     "output_type": "execute_result"
    }
   ],
   "source": [
    "data.Cloud3pm.unique()"
   ]
  },
  {
   "cell_type": "code",
   "execution_count": 71,
   "id": "8526afcb",
   "metadata": {},
   "outputs": [
    {
     "data": {
      "text/plain": [
       "7.0    18229\n",
       "1.0    14976\n",
       "8.0    12660\n",
       "6.0     8978\n",
       "2.0     7226\n",
       "3.0     6921\n",
       "5.0     6815\n",
       "4.0     5322\n",
       "0.0     4974\n",
       "9.0        1\n",
       "Name: Cloud3pm, dtype: int64"
      ]
     },
     "execution_count": 71,
     "metadata": {},
     "output_type": "execute_result"
    }
   ],
   "source": [
    "data.Cloud3pm.value_counts()"
   ]
  },
  {
   "cell_type": "code",
   "execution_count": 78,
   "id": "16c5c6d5",
   "metadata": {},
   "outputs": [
    {
     "data": {
      "image/png": "[encoded data removed]",
      "text/plain": [
       "<Figure size 600x600 with 1 Axes>"
      ]
     },
     "metadata": {
      "needs_background": "light"
     },
     "output_type": "display_data"
    }
   ],
   "source": [
    "sns.boxplot(y=\"Cloud3pm\", data=data, palette=\"Set1\")\n",
    "plt.show()"
   ]
  },
  {
   "cell_type": "markdown",
   "id": "accf9f68",
   "metadata": {},
   "source": [
    "## Temp9am"
   ]
  },
  {
   "cell_type": "code",
   "execution_count": 73,
   "id": "74f87ce8",
   "metadata": {},
   "outputs": [
    {
     "data": {
      "text/plain": [
       "1767"
      ]
     },
     "execution_count": 73,
     "metadata": {},
     "output_type": "execute_result"
    }
   ],
   "source": [
    "data.Temp9am.isna().sum()"
   ]
  },
  {
   "cell_type": "code",
   "execution_count": 74,
   "id": "a982d52d",
   "metadata": {},
   "outputs": [
    {
     "data": {
      "text/plain": [
       "441"
      ]
     },
     "execution_count": 74,
     "metadata": {},
     "output_type": "execute_result"
    }
   ],
   "source": [
    "data.Temp9am.nunique()"
   ]
  },
  {
   "cell_type": "code",
   "execution_count": 75,
   "id": "63f72026",
   "metadata": {},
   "outputs": [
    {
     "data": {
      "text/plain": [
       "array([16.9, 17.2, 21. , 18.1, 17.8, 20.6, 16.3, 18.3, 20.1, 20.4, 15.9,\n",
       "       17.4, 15.8, 17.3, 18. , 15.5, 19.1, 24.5, 23.8, 20.9, 21.5, 23.2,\n",
       "       26.6, 24.6, 21.6, 12.5, 19.7, 14.9, 17.1, 20.7, 22.4, 23.1, 25.2,\n",
       "       17.9, 20.2, 22.8, 24.2, 24.3, 25.6, 27.6, 16. , 22. , 26.8, 27.3,\n",
       "       26.1, 23.3, 21.2, 23.4, 25.8, 28.2, 29. , 29.2, 29.9, 32.4, 28.8,\n",
       "       27.2, 25.5, 26.5, 28.7, 29.6, 34.5, 18.7, 16.7, 17. , 19.2, 21.4,\n",
       "       22.1, 19.3, 15. , 20. , 22.2, 23. , 15.6, 13.9, 12.6, 13.3, 17.6,\n",
       "       18.6, 19. , 19.9, 12.7, 12.2, 12.1, 14.7, 18.8, 15.4, 16.2, 16.5,\n",
       "       14. , 16.6, 18.4, 12.9, 13.8, 15.1, 16.4, 16.1, 20.5,  9.6, 12.4,\n",
       "       14.1, 11.2,  9.5,  7.6, 10.1,  8.2,  7.9,  7.2, 10.6, 10.3, 10. ,\n",
       "        8.3, 11. ,  9.4, 11.7,  8.5,  9.1,  7.5, 13. ,  7. ,  8.8,  7.4,\n",
       "       11.9, 11.6, 13.6,  7.1, 10.2,  8. ,  9.2, 11.3,  4.7,  6.8,  4.9,\n",
       "        2.2,  1.9,  5.9,  6.5,  5.4,  6.6,  5.6,  6.9,  8.4,  9.8, 13.5,\n",
       "        7.8,  2.3,  2.4,  3.3,  3.8,  4.8,  8.1,  9. ,  4.5,  3.2,  3.7,\n",
       "        2.5,  4.4,  4.2,  9.3,  8.9, 10.5,  9.9,  5.7,  2. , 14.8,  6.7,\n",
       "        6. ,  5.5, 11.1,  5.8, 10.8, 13.2,  7.7,  9.7,  8.6,  8.7, 10.9,\n",
       "       14.3, 11.5, 13.1, 15.2, 11.8, 13.4, 14.4, 23.9, 17.5, 24.7, 21.7,\n",
       "       24.1, 19.5, 27.8, 16.8, 20.3, 18.9, 15.7, 12.8, 21.8, 20.8, 32.1,\n",
       "       24.4, 26. , 28.1, 21.3, 26.4, 29.1, 29.4, 25.1, 27.7, 18.5, 25. ,\n",
       "       22.9, 23.5, 26.3, 22.6, 25.9, 26.9, 19.4, 19.6, 22.3, 19.8, 14.2,\n",
       "       17.7, 18.2, 14.6, 15.3, 10.4, 10.7,  6.4,  6.3,  5.1,  6.2,  5.3,\n",
       "        4.1,  3.4,  6.1,  2.8,  3.1,  3. ,  5. ,  2.9,  5.2,  4. ,  4.6,\n",
       "        4.3,  7.3, 11.4, 13.7, 24. , 22.5, 21.9, 26.7, 24.9, 25.3, 21.1,\n",
       "       25.4, 24.8, 14.5,  3.5,  3.6,  3.9,  2.6,  nan, 12. , 22.7,  0.3,\n",
       "       27.5, 29.5, 23.6, 30.7, 29.7, 27. , 23.7, 12.3, 28.6, 31.8, 28. ,\n",
       "       30.8, 28.4, 25.7, 27.4, 26.2, 33.7, 27.9, 30.2, 28.3,  2.7, 29.3,\n",
       "       29.8,  1.6, 30.4, 37.6, 34.2, 31.3, 33.6, 31.5, 31.4, 28.9, 30.1,\n",
       "       32. , 32.6, 35.6, 31.6, 31.2, 30. , 34.3, 31.1, 37.3, 27.1, 34.4,\n",
       "       33. , 33.9, 32.9, 34.1, 28.5, 35.7, 31. , 30.3, 32.3, 35.1, 34.8,\n",
       "       34. , 37.7, 30.9, 32.2, 33.4, 33.2, 32.7, 30.6, 31.7, 35.2, 30.5,\n",
       "       33.5, 36.8, 34.9, 33.1, 36.3, 32.5, 31.9, 32.8, 35.5, 36.4, 37.5,\n",
       "       35.9,  0.8,  0.9, 36.5, 37.2, 33.3,  0.6,  1. ,  1.7,  2.1,  1.2,\n",
       "        1.8,  0. ,  1.3,  1.5,  0.5,  0.4,  0.2,  1.4,  0.1, -0.9,  0.7,\n",
       "       -0.7, -0.2, -0.3, -1.1,  1.1, -1. , -1.2, -1.3, -0.5, -0.6, -0.4,\n",
       "       -0.8, -3.1, -0.1, -1.4, -1.7, -2.3, -2.8, -3.4, -5.9, -2.5, -4.1,\n",
       "       -1.6, -2.2, -2.4, -2.9, -2.1, -3.2, -2. , -1.8, -4.2, -3.3, -4.3,\n",
       "       -3.6, -3.7, -4.8, -5.5, -4. , -1.9, -2.7, -4.9, -5.2, -5.3, -1.5,\n",
       "       -3.9, -3. , -3.8, -4.4, -2.6, -6.2, -3.5, -4.5, -5.6, -7. , -7.2,\n",
       "       36. , 35.4, 34.6, 33.8, 36.9, 35.3, 36.1, 38.3, 37.4, 34.7, 38.6,\n",
       "       35.8, 37.9, 35. , 40.2, 37. , 39.4, 39. , 38.2, 36.2, 38.9, 36.6,\n",
       "       39.1, 38. ])"
      ]
     },
     "execution_count": 75,
     "metadata": {},
     "output_type": "execute_result"
    }
   ],
   "source": [
    "data.Temp9am.unique()"
   ]
  },
  {
   "cell_type": "code",
   "execution_count": 76,
   "id": "d7f84342",
   "metadata": {},
   "outputs": [
    {
     "data": {
      "text/plain": [
       " 17.0    912\n",
       " 13.8    900\n",
       " 14.8    894\n",
       " 16.0    882\n",
       " 14.0    876\n",
       "        ... \n",
       "-7.2       1\n",
       "-7.0       1\n",
       "-3.5       1\n",
       "-6.2       1\n",
       " 38.0      1\n",
       "Name: Temp9am, Length: 441, dtype: int64"
      ]
     },
     "execution_count": 76,
     "metadata": {},
     "output_type": "execute_result"
    }
   ],
   "source": [
    "data.Temp9am.value_counts()"
   ]
  },
  {
   "cell_type": "code",
   "execution_count": 80,
   "id": "3f559dd3",
   "metadata": {},
   "outputs": [
    {
     "data": {
      "image/png": "[encoded data removed]",
      "text/plain": [
       "<Figure size 600x600 with 1 Axes>"
      ]
     },
     "metadata": {
      "needs_background": "light"
     },
     "output_type": "display_data"
    }
   ],
   "source": [
    "sns.boxplot(y=\"Temp9am\", data=data, palette=\"Set1\")\n",
    "plt.show()"
   ]
  },
  {
   "cell_type": "markdown",
   "id": "1e5a016f",
   "metadata": {},
   "source": [
    "## Temp3pm"
   ]
  },
  {
   "cell_type": "code",
   "execution_count": 81,
   "id": "86c7a807",
   "metadata": {},
   "outputs": [
    {
     "data": {
      "text/plain": [
       "3609"
      ]
     },
     "execution_count": 81,
     "metadata": {},
     "output_type": "execute_result"
    }
   ],
   "source": [
    "data.Temp3pm.isna().sum()"
   ]
  },
  {
   "cell_type": "code",
   "execution_count": 82,
   "id": "317a5ade",
   "metadata": {},
   "outputs": [
    {
     "data": {
      "text/plain": [
       "502"
      ]
     },
     "execution_count": 82,
     "metadata": {},
     "output_type": "execute_result"
    }
   ],
   "source": [
    "data.Temp3pm.nunique()"
   ]
  },
  {
   "cell_type": "code",
   "execution_count": 83,
   "id": "03767a00",
   "metadata": {},
   "outputs": [
    {
     "data": {
      "text/plain": [
       "array([21.8, 24.3, 23.2, 26.5, 29.7, 28.9, 24.6, 25.5, 30.2, 28.2, 28.8,\n",
       "       17. , 15.8, 19.8, 23.5, 26.2, 18.1, 21.5, 21. , 27.3, 31.6, 30.8,\n",
       "       29. , 31.2, 33. , 32.1, 26.1, 18.2, 22.7, 25.7, 22.1, 33.9, 34.4,\n",
       "       36.8, 38.4, 27.6, 26.6, 29.3, 30. , 33.2, 35.7, 41.5, 27.1, 25.8,\n",
       "       30.5, 37.7, 36.1, 33.1, 36.5, 36.2, 39.2, 40.1, 41.2, 42. , 41.9,\n",
       "       37.1, 35.2, 39.7, 41.6, 43.4, 38.5, 29.4, 24.9, 17.3, 28.5, 29.2,\n",
       "       29.5, 27. , 30.7, 32.7, 26.8, 29.8, 31.3, 33.4, 28.6, 33.6, 28.1,\n",
       "       21.9, 21.4, 22. , 29.6, 18.8, 23.8, 19.7, 18.3, 20.5, 23.9, 27.2,\n",
       "       32.6, 33.5, 31.4, 19.6, 27.7, 29.9, 30.9, 27.4, 20.3, 21.2, 20.9,\n",
       "       21.6, 25. , 24.4, 23.1, 18.9, 19.4, 22.9, 23.6, 21.3, 22.3, 22.6,\n",
       "       15.1, 14.5, 11.6,  9.4, 14. , 12.1, 16.1, 16.3, 19.1, 18.5, 18.4,\n",
       "       19.2, 20.2, 17.7, 18. , 14.6, 15.3, 15.9, 14.7, 18.7, 21.7, 20.8,\n",
       "       19.5, 17.4, 15.6, 16.7, 16.8, 13.4, 13. , 16.5, 10.2, 11.5, 11.4,\n",
       "        7.9,  9.7,  8.8, 15.5, 13.9, 15.4, 14.9, 16.4, 13.6, 15.2, 13.7,\n",
       "       11.3, 12.3, 13.1, 11.7, 12.6, 12. , 12.4, 14.3, 13.2, 10.1, 12.5,\n",
       "       12.8, 14.2, 11.2, 13.5, 17.6, 12.9, 10.8,  9.6,  7.3, 12.7, 13.3,\n",
       "       16.6, 11.1, 14.4, 16.2, 17.5, 10.7, 16. , 24. , 17.1, 20.7, 17.2,\n",
       "       20.6, 14.8, 10. , 15.7, 17.8, 19. , 14.1, 10.9, 19.3, 25.3, 25.4,\n",
       "       24.8, 23.4, 28.4, 30.3, 31.1, 32.8, 33.8, 34.9, 34.6, 31.7, 35.4,\n",
       "       39. , 36.4, 25.6, 32. , 25.2, 24.7, 28.7, 30.6, 26. , 32.5, 36.9,\n",
       "       30.4, 35.9, 37.5, 27.5, 34.1, 35.1, 28. , 31.8, 35.3, 38.6, 40.9,\n",
       "       41.1, 19.9, 36. , 24.1, 34.3, 39.1, 34.7, 34.8, 30.1, 32.9, 26.4,\n",
       "       24.2, 20.1, 21.1, 22.8, 31.5, 26.9, 29.1, 28.3, 25.1, 23. , 22.4,\n",
       "       27.9, 18.6, 16.9, 13.8, 15. ,  8.9, 11. , 11.8,  8.2,  9.1, 10.4,\n",
       "       12.2,  9.2,  8.7, 11.9, 22.5, 24.5, 36.7, 37.3, 38.8, 26.7,  8.6,\n",
       "       20.4,  9. , 10.3, 10.6,  8. ,  8.1, 10.5,  9.8,  9.5,  9.9, 17.9,\n",
       "        nan, 22.2, 23.3, 23.7, 26.3, 25.9, 35. , 34.2, 34.5, 32.4, 27.8,\n",
       "       20. ,  7. , 35.8, 39.3, 42.4, 40.7, 38.2, 40.6, 35.6, 34. , 36.3,\n",
       "       32.3,  9.3,  8.3, 31.9, 41.7, 38.9, 31. , 37.2, 40.8, 40.2, 38.3,\n",
       "        8.4,  8.5,  6.7, 32.2, 37. ,  7.6,  6.4,  7.7, 33.3, 39.5, 37.6,\n",
       "       42.3, 33.7, 35.5,  7.5,  7.4, 38. , 39.8, 37.8, 39.6, 40.3, 36.6,\n",
       "       42.2, 37.9, 43.7, 38.7, 41. , 43.5, 43.3, 38.1, 43. , 41.4, 40. ,\n",
       "       40.4, 37.4, 39.9, 43.2, 40.5, 44.8, 42.9, 42.6, 42.1, 42.7, 43.1,\n",
       "       39.4,  6.9, 44. , 45.2, 45.8, 41.3, 42.8, 46.7, 45.3, 44.1, 42.5,\n",
       "       43.8, 46.2, 45.9, 44.7, 44.9, 41.8,  6.8,  6. ,  6.6, 44.2, 43.9,\n",
       "        7.1,  7.8,  7.2,  5.7,  5.1,  6.2,  3.7,  6.5,  6.1,  4.3,  5.4,\n",
       "        5.3,  4.9,  5.6,  2.3,  5.5,  6.3,  5.9,  5.8,  3.4,  3.6, -1.9,\n",
       "       -1.3,  1.4,  4.4,  4.5,  2.6,  0.8,  4.8,  1.8,  2.4,  2.7,  4. ,\n",
       "        5. , -0.3, -2.9, -5.1, -0.4,  0.9,  2.1,  2.9,  1.2, -0.6,  1.9,\n",
       "        5.2, -0.7, -1. , -1.8, -0.1,  0.4, -1.6, -0.2,  1.6,  1.3, -1.2,\n",
       "        2. ,  2.8,  0.7, -0.9,  0.3, -1.1,  1.1,  1. ,  0. , -2.8, -1.4,\n",
       "        0.2, -3.1, -2.6,  3. ,  0.6,  4.6,  3.2,  4.2,  3.5,  3.8,  4.1,\n",
       "       -1.7, -1.5,  3.3,  2.2,  1.7, -2. , -2.2,  2.5, -2.3,  3.9,  3.1,\n",
       "        0.1, -3.7,  4.7,  1.5, -3.9, -0.5, -3.3, -2.7, -3.5, -2.1,  0.5,\n",
       "       -2.5, -3.2, -4.1, -3.4, -0.8, -3. , -4.4, -2.4, -4. , -4.2, -5.4,\n",
       "       -3.8, 44.4, 46.1, 45.4, 43.6, 44.5, 44.3, 45. ])"
      ]
     },
     "execution_count": 83,
     "metadata": {},
     "output_type": "execute_result"
    }
   ],
   "source": [
    "data.Temp3pm.unique()"
   ]
  },
  {
   "cell_type": "code",
   "execution_count": 84,
   "id": "b65f5b07",
   "metadata": {},
   "outputs": [
    {
     "data": {
      "text/plain": [
       " 20.0    882\n",
       " 19.0    869\n",
       " 18.5    869\n",
       " 18.4    868\n",
       " 17.8    859\n",
       "        ... \n",
       " 46.2      1\n",
       "-3.4       1\n",
       "-4.1       1\n",
       " 46.7      1\n",
       " 45.0      1\n",
       "Name: Temp3pm, Length: 502, dtype: int64"
      ]
     },
     "execution_count": 84,
     "metadata": {},
     "output_type": "execute_result"
    }
   ],
   "source": [
    "data.Temp3pm.value_counts()"
   ]
  },
  {
   "cell_type": "code",
   "execution_count": 85,
   "id": "3d579616",
   "metadata": {},
   "outputs": [
    {
     "data": {
      "image/png": "[encoded data removed]",
      "text/plain": [
       "<Figure size 600x600 with 1 Axes>"
      ]
     },
     "metadata": {
      "needs_background": "light"
     },
     "output_type": "display_data"
    }
   ],
   "source": [
    "sns.boxplot(y=\"Temp3pm\", data=data, palette=\"Set1\")\n",
    "plt.show()"
   ]
  },
  {
   "cell_type": "markdown",
   "id": "009b6e27",
   "metadata": {},
   "source": [
    "## RainToday"
   ]
  },
  {
   "cell_type": "code",
   "execution_count": 87,
   "id": "e0ca375c",
   "metadata": {},
   "outputs": [
    {
     "data": {
      "text/plain": [
       "3261"
      ]
     },
     "execution_count": 87,
     "metadata": {},
     "output_type": "execute_result"
    }
   ],
   "source": [
    "data.RainToday.isna().sum()"
   ]
  },
  {
   "cell_type": "code",
   "execution_count": 88,
   "id": "cffcc35c",
   "metadata": {},
   "outputs": [
    {
     "data": {
      "text/plain": [
       "2"
      ]
     },
     "execution_count": 88,
     "metadata": {},
     "output_type": "execute_result"
    }
   ],
   "source": [
    "data.RainToday.nunique()"
   ]
  },
  {
   "cell_type": "code",
   "execution_count": 89,
   "id": "81a237e6",
   "metadata": {},
   "outputs": [
    {
     "data": {
      "text/plain": [
       "array(['No', 'Yes', nan], dtype=object)"
      ]
     },
     "execution_count": 89,
     "metadata": {},
     "output_type": "execute_result"
    }
   ],
   "source": [
    "data.RainToday.unique()"
   ]
  },
  {
   "cell_type": "code",
   "execution_count": 90,
   "id": "8ab09a67",
   "metadata": {},
   "outputs": [
    {
     "data": {
      "text/plain": [
       "No     110319\n",
       "Yes     31880\n",
       "Name: RainToday, dtype: int64"
      ]
     },
     "execution_count": 90,
     "metadata": {},
     "output_type": "execute_result"
    }
   ],
   "source": [
    "data.RainToday.value_counts()"
   ]
  },
  {
   "cell_type": "code",
   "execution_count": 93,
   "id": "2f3db178",
   "metadata": {},
   "outputs": [
    {
     "data": {
      "image/png": "[encoded data removed]",
      "text/plain": [
       "<Figure size 600x600 with 1 Axes>"
      ]
     },
     "metadata": {
      "needs_background": "light"
     },
     "output_type": "display_data"
    }
   ],
   "source": [
    "sns.countplot(x=\"RainToday\", data=data, palette=\"Set1\")\n",
    "plt.show()"
   ]
  },
  {
   "cell_type": "markdown",
   "id": "cc6b786d",
   "metadata": {},
   "source": [
    "## Rain Tommorow"
   ]
  },
  {
   "cell_type": "code",
   "execution_count": 95,
   "id": "9f3e9b8a",
   "metadata": {},
   "outputs": [
    {
     "data": {
      "text/plain": [
       "3267"
      ]
     },
     "execution_count": 95,
     "metadata": {},
     "output_type": "execute_result"
    }
   ],
   "source": [
    "data.RainTomorrow.isna().sum()"
   ]
  },
  {
   "cell_type": "code",
   "execution_count": 96,
   "id": "dd427356",
   "metadata": {},
   "outputs": [
    {
     "data": {
      "text/plain": [
       "array(['No', 'Yes', nan], dtype=object)"
      ]
     },
     "execution_count": 96,
     "metadata": {},
     "output_type": "execute_result"
    }
   ],
   "source": [
    "data.RainTomorrow.unique()"
   ]
  },
  {
   "cell_type": "code",
   "execution_count": 97,
   "id": "57fb7ebb",
   "metadata": {},
   "outputs": [
    {
     "data": {
      "text/plain": [
       "No     110316\n",
       "Yes     31877\n",
       "Name: RainTomorrow, dtype: int64"
      ]
     },
     "execution_count": 97,
     "metadata": {},
     "output_type": "execute_result"
    }
   ],
   "source": [
    "data.RainTomorrow.value_counts()"
   ]
  },
  {
   "cell_type": "code",
   "execution_count": 98,
   "id": "888e6491",
   "metadata": {},
   "outputs": [
    {
     "data": {
      "image/png": "[encoded data removed]",
      "text/plain": [
       "<Figure size 600x600 with 1 Axes>"
      ]
     },
     "metadata": {
      "needs_background": "light"
     },
     "output_type": "display_data"
    }
   ],
   "source": [
    "sns.countplot(x=\"RainTomorrow\", data=data, palette=\"Set1\")\n",
    "plt.show()"
   ]
  },
  {
   "cell_type": "code",
   "execution_count": null,
   "id": "9fa092ff",
   "metadata": {},
   "outputs": [],
   "source": []
  },
  {
   "cell_type": "code",
   "execution_count": null,
   "id": "9f0fe199",
   "metadata": {},
   "outputs": [],
   "source": []
  },
  {
   "cell_type": "code",
   "execution_count": null,
   "id": "6a73976a",
   "metadata": {},
   "outputs": [],
   "source": []
  },
  {
   "cell_type": "code",
   "execution_count": null,
   "id": "cfd4f460",
   "metadata": {},
   "outputs": [],
   "source": []
  },
  {
   "cell_type": "code",
   "execution_count": null,
   "id": "00a78893",
   "metadata": {},
   "outputs": [],
   "source": []
  },
  {
   "cell_type": "code",
   "execution_count": null,
   "id": "98c68d9f",
   "metadata": {},
   "outputs": [],
   "source": []
  },
  {
   "cell_type": "code",
   "execution_count": null,
   "id": "70fd5fc1",
   "metadata": {},
   "outputs": [],
   "source": []
  },
  {
   "cell_type": "code",
   "execution_count": null,
   "id": "3afa6f85",
   "metadata": {},
   "outputs": [],
   "source": []
  },
  {
   "cell_type": "code",
   "execution_count": 3,
   "id": "bb6c0cf1",
   "metadata": {},
   "outputs": [
    {
     "data": {
      "text/plain": [
       "Index(['Date', 'Location', 'MinTemp', 'MaxTemp', 'Rainfall', 'Evaporation',\n",
       "       'Sunshine', 'WindGustDir', 'WindGustSpeed', 'WindDir9am', 'WindDir3pm',\n",
       "       'WindSpeed9am', 'WindSpeed3pm', 'Humidity9am', 'Humidity3pm',\n",
       "       'Pressure9am', 'Pressure3pm', 'Cloud9am', 'Cloud3pm', 'Temp9am',\n",
       "       'Temp3pm', 'RainToday', 'RainTomorrow'],\n",
       "      dtype='object')"
      ]
     },
     "execution_count": 3,
     "metadata": {},
     "output_type": "execute_result"
    }
   ],
   "source": [
    "data.columns"
   ]
  },
  {
   "cell_type": "code",
   "execution_count": 4,
   "id": "55794200",
   "metadata": {},
   "outputs": [
    {
     "data": {
      "text/plain": [
       "0         22.9\n",
       "1         25.1\n",
       "2         25.7\n",
       "3         28.0\n",
       "4         32.3\n",
       "          ... \n",
       "145455    23.4\n",
       "145456    25.3\n",
       "145457    26.9\n",
       "145458    27.0\n",
       "145459     NaN\n",
       "Name: MaxTemp, Length: 145460, dtype: float64"
      ]
     },
     "execution_count": 4,
     "metadata": {},
     "output_type": "execute_result"
    }
   ],
   "source": [
    "data.MaxTemp"
   ]
  },
  {
   "cell_type": "code",
   "execution_count": 5,
   "id": "8787f835",
   "metadata": {},
   "outputs": [
    {
     "data": {
      "text/plain": [
       "RangeIndex(start=0, stop=145460, step=1)"
      ]
     },
     "execution_count": 5,
     "metadata": {},
     "output_type": "execute_result"
    }
   ],
   "source": [
    "data.MaxTemp.index"
   ]
  },
  {
   "cell_type": "code",
   "execution_count": 6,
   "id": "67df1b82",
   "metadata": {},
   "outputs": [
    {
     "data": {
      "text/plain": [
       "array([22.9, 25.1, 25.7, ..., 26.9, 27. ,  nan])"
      ]
     },
     "execution_count": 6,
     "metadata": {},
     "output_type": "execute_result"
    }
   ],
   "source": [
    "data.MaxTemp.values"
   ]
  },
  {
   "cell_type": "code",
   "execution_count": 8,
   "id": "19c1cb1e",
   "metadata": {},
   "outputs": [
    {
     "data": {
      "image/png": "[encoded data removed]",
      "text/plain": [
       "<Figure size 432x288 with 1 Axes>"
      ]
     },
     "metadata": {
      "needs_background": "light"
     },
     "output_type": "display_data"
    }
   ],
   "source": [
    "sns.scatterplot(x=data.MaxTemp.index, y=data.MaxTemp.values, markers=\"*\");"
   ]
  },
  {
   "cell_type": "code",
   "execution_count": 9,
   "id": "b4068673",
   "metadata": {},
   "outputs": [
    {
     "data": {
      "text/plain": [
       "Index(['Date', 'Location', 'MinTemp', 'MaxTemp', 'Rainfall', 'Evaporation',\n",
       "       'Sunshine', 'WindGustDir', 'WindGustSpeed', 'WindDir9am', 'WindDir3pm',\n",
       "       'WindSpeed9am', 'WindSpeed3pm', 'Humidity9am', 'Humidity3pm',\n",
       "       'Pressure9am', 'Pressure3pm', 'Cloud9am', 'Cloud3pm', 'Temp9am',\n",
       "       'Temp3pm', 'RainToday', 'RainTomorrow'],\n",
       "      dtype='object')"
      ]
     },
     "execution_count": 9,
     "metadata": {},
     "output_type": "execute_result"
    }
   ],
   "source": [
    "data.columns"
   ]
  },
  {
   "cell_type": "code",
   "execution_count": 10,
   "id": "bdbec73e",
   "metadata": {},
   "outputs": [
    {
     "data": {
      "text/plain": [
       "No     110319\n",
       "Yes     31880\n",
       "Name: RainToday, dtype: int64"
      ]
     },
     "execution_count": 10,
     "metadata": {},
     "output_type": "execute_result"
    }
   ],
   "source": [
    "data.RainToday.value_counts()"
   ]
  },
  {
   "cell_type": "code",
   "execution_count": 31,
   "id": "0af22411",
   "metadata": {},
   "outputs": [
    {
     "data": {
      "image/png": "[encoded data removed]",
      "text/plain": [
       "<Figure size 432x288 with 1 Axes>"
      ]
     },
     "metadata": {
      "needs_background": "light"
     },
     "output_type": "display_data"
    }
   ],
   "source": [
    "# plt.figure(figsize=(10,10))\n",
    "sns.barplot(x='RainToday', y='MaxTemp', data=data, hue='RainTomorrow');\n",
    "# sns.barplot()"
   ]
  },
  {
   "cell_type": "code",
   "execution_count": 27,
   "id": "ada769bd",
   "metadata": {},
   "outputs": [
    {
     "data": {
      "text/html": [
       "<div>\n",
       "<style scoped>\n",
       "    .dataframe tbody tr th:only-of-type {\n",
       "        vertical-align: middle;\n",
       "    }\n",
       "\n",
       "    .dataframe tbody tr th {\n",
       "        vertical-align: top;\n",
       "    }\n",
       "\n",
       "    .dataframe thead th {\n",
       "        text-align: right;\n",
       "    }\n",
       "</style>\n",
       "<table border=\"1\" class=\"dataframe\">\n",
       "  <thead>\n",
       "    <tr style=\"text-align: right;\">\n",
       "      <th></th>\n",
       "      <th>RainTomorrow</th>\n",
       "      <th>MaxTemp</th>\n",
       "    </tr>\n",
       "    <tr>\n",
       "      <th>RainToday</th>\n",
       "      <th></th>\n",
       "      <th></th>\n",
       "    </tr>\n",
       "  </thead>\n",
       "  <tbody>\n",
       "    <tr>\n",
       "      <th>No</th>\n",
       "      <td>109332</td>\n",
       "      <td>109961</td>\n",
       "    </tr>\n",
       "    <tr>\n",
       "      <th>Yes</th>\n",
       "      <td>31455</td>\n",
       "      <td>31768</td>\n",
       "    </tr>\n",
       "  </tbody>\n",
       "</table>\n",
       "</div>"
      ],
      "text/plain": [
       "           RainTomorrow  MaxTemp\n",
       "RainToday                       \n",
       "No               109332   109961\n",
       "Yes               31455    31768"
      ]
     },
     "execution_count": 27,
     "metadata": {},
     "output_type": "execute_result"
    }
   ],
   "source": [
    "data.groupby('RainToday')[['RainTomorrow','MaxTemp']].count()"
   ]
  },
  {
   "cell_type": "code",
   "execution_count": 32,
   "id": "0272f6a3",
   "metadata": {},
   "outputs": [
    {
     "data": {
      "text/plain": [
       "23.22134827564685"
      ]
     },
     "execution_count": 32,
     "metadata": {},
     "output_type": "execute_result"
    }
   ],
   "source": [
    "data.MaxTemp.mean()"
   ]
  },
  {
   "cell_type": "code",
   "execution_count": 33,
   "id": "b0685b66",
   "metadata": {},
   "outputs": [],
   "source": [
    "# sns.displot()"
   ]
  },
  {
   "cell_type": "code",
   "execution_count": 45,
   "id": "aa27b161",
   "metadata": {},
   "outputs": [
    {
     "data": {
      "text/plain": [
       "Date                0\n",
       "Location            0\n",
       "WindGustDir     10326\n",
       "WindDir9am      10566\n",
       "WindDir3pm       4228\n",
       "RainToday        3261\n",
       "RainTomorrow     3267\n",
       "dtype: int64"
      ]
     },
     "execution_count": 45,
     "metadata": {},
     "output_type": "execute_result"
    }
   ],
   "source": [
    "cat_cols = data.select_dtypes('O')\n",
    "num_cols = data.select_dtypes(include=np.number)\n",
    "cat_cols.isna().sum()"
   ]
  },
  {
   "cell_type": "code",
   "execution_count": 44,
   "id": "57793954",
   "metadata": {},
   "outputs": [
    {
     "data": {
      "image/png": "[encoded data removed]",
      "text/plain": [
       "<Figure size 720x720 with 2 Axes>"
      ]
     },
     "metadata": {
      "needs_background": "light"
     },
     "output_type": "display_data"
    }
   ],
   "source": [
    "sns.heatmap(cat_cols.isna());"
   ]
  },
  {
   "cell_type": "code",
   "execution_count": 50,
   "id": "641097b3",
   "metadata": {},
   "outputs": [
    {
     "data": {
      "image/png": "[encoded data removed]",
      "text/plain": [
       "<Figure size 720x720 with 2 Axes>"
      ]
     },
     "metadata": {
      "needs_background": "light"
     },
     "output_type": "display_data"
    }
   ],
   "source": [
    "sns.heatmap(num_cols.corr(), annot=True, fmt='.1f');"
   ]
  },
  {
   "cell_type": "code",
   "execution_count": 58,
   "id": "c864ae66",
   "metadata": {
    "scrolled": false
   },
   "outputs": [
    {
     "ename": "MemoryError",
     "evalue": "Unable to allocate 78.8 GiB for an array with shape (10579233070,) and data type float64",
     "output_type": "error",
     "traceback": [
      "\u001b[0;31m---------------------------------------------------------------------------\u001b[0m",
      "\u001b[0;31mMemoryError\u001b[0m                               Traceback (most recent call last)",
      "Input \u001b[0;32mIn [58]\u001b[0m, in \u001b[0;36m<cell line: 1>\u001b[0;34m()\u001b[0m\n\u001b[0;32m----> 1\u001b[0m \u001b[43msns\u001b[49m\u001b[38;5;241;43m.\u001b[39;49m\u001b[43mclustermap\u001b[49m\u001b[43m(\u001b[49m\u001b[43mnum_cols\u001b[49m\u001b[43m,\u001b[49m\u001b[43m)\u001b[49m\n",
      "File \u001b[0;32m~/.local/lib/python3.8/site-packages/seaborn/_decorators.py:46\u001b[0m, in \u001b[0;36m_deprecate_positional_args.<locals>.inner_f\u001b[0;34m(*args, **kwargs)\u001b[0m\n\u001b[1;32m     36\u001b[0m     warnings\u001b[38;5;241m.\u001b[39mwarn(\n\u001b[1;32m     37\u001b[0m         \u001b[38;5;124m\"\u001b[39m\u001b[38;5;124mPass the following variable\u001b[39m\u001b[38;5;132;01m{}\u001b[39;00m\u001b[38;5;124m as \u001b[39m\u001b[38;5;132;01m{}\u001b[39;00m\u001b[38;5;124mkeyword arg\u001b[39m\u001b[38;5;132;01m{}\u001b[39;00m\u001b[38;5;124m: \u001b[39m\u001b[38;5;132;01m{}\u001b[39;00m\u001b[38;5;124m. \u001b[39m\u001b[38;5;124m\"\u001b[39m\n\u001b[1;32m     38\u001b[0m         \u001b[38;5;124m\"\u001b[39m\u001b[38;5;124mFrom version 0.12, the only valid positional argument \u001b[39m\u001b[38;5;124m\"\u001b[39m\n\u001b[0;32m   (...)\u001b[0m\n\u001b[1;32m     43\u001b[0m         \u001b[38;5;167;01mFutureWarning\u001b[39;00m\n\u001b[1;32m     44\u001b[0m     )\n\u001b[1;32m     45\u001b[0m kwargs\u001b[38;5;241m.\u001b[39mupdate({k: arg \u001b[38;5;28;01mfor\u001b[39;00m k, arg \u001b[38;5;129;01min\u001b[39;00m \u001b[38;5;28mzip\u001b[39m(sig\u001b[38;5;241m.\u001b[39mparameters, args)})\n\u001b[0;32m---> 46\u001b[0m \u001b[38;5;28;01mreturn\u001b[39;00m \u001b[43mf\u001b[49m\u001b[43m(\u001b[49m\u001b[38;5;241;43m*\u001b[39;49m\u001b[38;5;241;43m*\u001b[39;49m\u001b[43mkwargs\u001b[49m\u001b[43m)\u001b[49m\n",
      "File \u001b[0;32m~/.local/lib/python3.8/site-packages/seaborn/matrix.py:1406\u001b[0m, in \u001b[0;36mclustermap\u001b[0;34m(data, pivot_kws, method, metric, z_score, standard_scale, figsize, cbar_kws, row_cluster, col_cluster, row_linkage, col_linkage, row_colors, col_colors, mask, dendrogram_ratio, colors_ratio, cbar_pos, tree_kws, **kwargs)\u001b[0m\n\u001b[1;32m   1248\u001b[0m \u001b[38;5;124;03m\"\"\"\u001b[39;00m\n\u001b[1;32m   1249\u001b[0m \u001b[38;5;124;03mPlot a matrix dataset as a hierarchically-clustered heatmap.\u001b[39;00m\n\u001b[1;32m   1250\u001b[0m \n\u001b[0;32m   (...)\u001b[0m\n\u001b[1;32m   1398\u001b[0m \u001b[38;5;124;03m    >>> g = sns.clustermap(iris, z_score=0, cmap=\"vlag\")\u001b[39;00m\n\u001b[1;32m   1399\u001b[0m \u001b[38;5;124;03m\"\"\"\u001b[39;00m\n\u001b[1;32m   1400\u001b[0m plotter \u001b[38;5;241m=\u001b[39m ClusterGrid(data, pivot_kws\u001b[38;5;241m=\u001b[39mpivot_kws, figsize\u001b[38;5;241m=\u001b[39mfigsize,\n\u001b[1;32m   1401\u001b[0m                       row_colors\u001b[38;5;241m=\u001b[39mrow_colors, col_colors\u001b[38;5;241m=\u001b[39mcol_colors,\n\u001b[1;32m   1402\u001b[0m                       z_score\u001b[38;5;241m=\u001b[39mz_score, standard_scale\u001b[38;5;241m=\u001b[39mstandard_scale,\n\u001b[1;32m   1403\u001b[0m                       mask\u001b[38;5;241m=\u001b[39mmask, dendrogram_ratio\u001b[38;5;241m=\u001b[39mdendrogram_ratio,\n\u001b[1;32m   1404\u001b[0m                       colors_ratio\u001b[38;5;241m=\u001b[39mcolors_ratio, cbar_pos\u001b[38;5;241m=\u001b[39mcbar_pos)\n\u001b[0;32m-> 1406\u001b[0m \u001b[38;5;28;01mreturn\u001b[39;00m \u001b[43mplotter\u001b[49m\u001b[38;5;241;43m.\u001b[39;49m\u001b[43mplot\u001b[49m\u001b[43m(\u001b[49m\u001b[43mmetric\u001b[49m\u001b[38;5;241;43m=\u001b[39;49m\u001b[43mmetric\u001b[49m\u001b[43m,\u001b[49m\u001b[43m \u001b[49m\u001b[43mmethod\u001b[49m\u001b[38;5;241;43m=\u001b[39;49m\u001b[43mmethod\u001b[49m\u001b[43m,\u001b[49m\n\u001b[1;32m   1407\u001b[0m \u001b[43m                    \u001b[49m\u001b[43mcolorbar_kws\u001b[49m\u001b[38;5;241;43m=\u001b[39;49m\u001b[43mcbar_kws\u001b[49m\u001b[43m,\u001b[49m\n\u001b[1;32m   1408\u001b[0m \u001b[43m                    \u001b[49m\u001b[43mrow_cluster\u001b[49m\u001b[38;5;241;43m=\u001b[39;49m\u001b[43mrow_cluster\u001b[49m\u001b[43m,\u001b[49m\u001b[43m \u001b[49m\u001b[43mcol_cluster\u001b[49m\u001b[38;5;241;43m=\u001b[39;49m\u001b[43mcol_cluster\u001b[49m\u001b[43m,\u001b[49m\n\u001b[1;32m   1409\u001b[0m \u001b[43m                    \u001b[49m\u001b[43mrow_linkage\u001b[49m\u001b[38;5;241;43m=\u001b[39;49m\u001b[43mrow_linkage\u001b[49m\u001b[43m,\u001b[49m\u001b[43m \u001b[49m\u001b[43mcol_linkage\u001b[49m\u001b[38;5;241;43m=\u001b[39;49m\u001b[43mcol_linkage\u001b[49m\u001b[43m,\u001b[49m\n\u001b[1;32m   1410\u001b[0m \u001b[43m                    \u001b[49m\u001b[43mtree_kws\u001b[49m\u001b[38;5;241;43m=\u001b[39;49m\u001b[43mtree_kws\u001b[49m\u001b[43m,\u001b[49m\u001b[43m \u001b[49m\u001b[38;5;241;43m*\u001b[39;49m\u001b[38;5;241;43m*\u001b[39;49m\u001b[43mkwargs\u001b[49m\u001b[43m)\u001b[49m\n",
      "File \u001b[0;32m~/.local/lib/python3.8/site-packages/seaborn/matrix.py:1219\u001b[0m, in \u001b[0;36mClusterGrid.plot\u001b[0;34m(self, metric, method, colorbar_kws, row_cluster, col_cluster, row_linkage, col_linkage, tree_kws, **kws)\u001b[0m\n\u001b[1;32m   1215\u001b[0m     kws\u001b[38;5;241m.\u001b[39mpop(\u001b[38;5;124m\"\u001b[39m\u001b[38;5;124msquare\u001b[39m\u001b[38;5;124m\"\u001b[39m)\n\u001b[1;32m   1217\u001b[0m colorbar_kws \u001b[38;5;241m=\u001b[39m {} \u001b[38;5;28;01mif\u001b[39;00m colorbar_kws \u001b[38;5;129;01mis\u001b[39;00m \u001b[38;5;28;01mNone\u001b[39;00m \u001b[38;5;28;01melse\u001b[39;00m colorbar_kws\n\u001b[0;32m-> 1219\u001b[0m \u001b[38;5;28;43mself\u001b[39;49m\u001b[38;5;241;43m.\u001b[39;49m\u001b[43mplot_dendrograms\u001b[49m\u001b[43m(\u001b[49m\u001b[43mrow_cluster\u001b[49m\u001b[43m,\u001b[49m\u001b[43m \u001b[49m\u001b[43mcol_cluster\u001b[49m\u001b[43m,\u001b[49m\u001b[43m \u001b[49m\u001b[43mmetric\u001b[49m\u001b[43m,\u001b[49m\u001b[43m \u001b[49m\u001b[43mmethod\u001b[49m\u001b[43m,\u001b[49m\n\u001b[1;32m   1220\u001b[0m \u001b[43m                      \u001b[49m\u001b[43mrow_linkage\u001b[49m\u001b[38;5;241;43m=\u001b[39;49m\u001b[43mrow_linkage\u001b[49m\u001b[43m,\u001b[49m\u001b[43m \u001b[49m\u001b[43mcol_linkage\u001b[49m\u001b[38;5;241;43m=\u001b[39;49m\u001b[43mcol_linkage\u001b[49m\u001b[43m,\u001b[49m\n\u001b[1;32m   1221\u001b[0m \u001b[43m                      \u001b[49m\u001b[43mtree_kws\u001b[49m\u001b[38;5;241;43m=\u001b[39;49m\u001b[43mtree_kws\u001b[49m\u001b[43m)\u001b[49m\n\u001b[1;32m   1222\u001b[0m \u001b[38;5;28;01mtry\u001b[39;00m:\n\u001b[1;32m   1223\u001b[0m     xind \u001b[38;5;241m=\u001b[39m \u001b[38;5;28mself\u001b[39m\u001b[38;5;241m.\u001b[39mdendrogram_col\u001b[38;5;241m.\u001b[39mreordered_ind\n",
      "File \u001b[0;32m~/.local/lib/python3.8/site-packages/seaborn/matrix.py:1064\u001b[0m, in \u001b[0;36mClusterGrid.plot_dendrograms\u001b[0;34m(self, row_cluster, col_cluster, metric, method, row_linkage, col_linkage, tree_kws)\u001b[0m\n\u001b[1;32m   1060\u001b[0m \u001b[38;5;28;01mdef\u001b[39;00m \u001b[38;5;21mplot_dendrograms\u001b[39m(\u001b[38;5;28mself\u001b[39m, row_cluster, col_cluster, metric, method,\n\u001b[1;32m   1061\u001b[0m                      row_linkage, col_linkage, tree_kws):\n\u001b[1;32m   1062\u001b[0m     \u001b[38;5;66;03m# Plot the row dendrogram\u001b[39;00m\n\u001b[1;32m   1063\u001b[0m     \u001b[38;5;28;01mif\u001b[39;00m row_cluster:\n\u001b[0;32m-> 1064\u001b[0m         \u001b[38;5;28mself\u001b[39m\u001b[38;5;241m.\u001b[39mdendrogram_row \u001b[38;5;241m=\u001b[39m \u001b[43mdendrogram\u001b[49m\u001b[43m(\u001b[49m\n\u001b[1;32m   1065\u001b[0m \u001b[43m            \u001b[49m\u001b[38;5;28;43mself\u001b[39;49m\u001b[38;5;241;43m.\u001b[39;49m\u001b[43mdata2d\u001b[49m\u001b[43m,\u001b[49m\u001b[43m \u001b[49m\u001b[43mmetric\u001b[49m\u001b[38;5;241;43m=\u001b[39;49m\u001b[43mmetric\u001b[49m\u001b[43m,\u001b[49m\u001b[43m \u001b[49m\u001b[43mmethod\u001b[49m\u001b[38;5;241;43m=\u001b[39;49m\u001b[43mmethod\u001b[49m\u001b[43m,\u001b[49m\u001b[43m \u001b[49m\u001b[43mlabel\u001b[49m\u001b[38;5;241;43m=\u001b[39;49m\u001b[38;5;28;43;01mFalse\u001b[39;49;00m\u001b[43m,\u001b[49m\u001b[43m \u001b[49m\u001b[43maxis\u001b[49m\u001b[38;5;241;43m=\u001b[39;49m\u001b[38;5;241;43m0\u001b[39;49m\u001b[43m,\u001b[49m\n\u001b[1;32m   1066\u001b[0m \u001b[43m            \u001b[49m\u001b[43max\u001b[49m\u001b[38;5;241;43m=\u001b[39;49m\u001b[38;5;28;43mself\u001b[39;49m\u001b[38;5;241;43m.\u001b[39;49m\u001b[43max_row_dendrogram\u001b[49m\u001b[43m,\u001b[49m\u001b[43m \u001b[49m\u001b[43mrotate\u001b[49m\u001b[38;5;241;43m=\u001b[39;49m\u001b[38;5;28;43;01mTrue\u001b[39;49;00m\u001b[43m,\u001b[49m\u001b[43m \u001b[49m\u001b[43mlinkage\u001b[49m\u001b[38;5;241;43m=\u001b[39;49m\u001b[43mrow_linkage\u001b[49m\u001b[43m,\u001b[49m\n\u001b[1;32m   1067\u001b[0m \u001b[43m            \u001b[49m\u001b[43mtree_kws\u001b[49m\u001b[38;5;241;43m=\u001b[39;49m\u001b[43mtree_kws\u001b[49m\n\u001b[1;32m   1068\u001b[0m \u001b[43m        \u001b[49m\u001b[43m)\u001b[49m\n\u001b[1;32m   1069\u001b[0m     \u001b[38;5;28;01melse\u001b[39;00m:\n\u001b[1;32m   1070\u001b[0m         \u001b[38;5;28mself\u001b[39m\u001b[38;5;241m.\u001b[39max_row_dendrogram\u001b[38;5;241m.\u001b[39mset_xticks([])\n",
      "File \u001b[0;32m~/.local/lib/python3.8/site-packages/seaborn/_decorators.py:46\u001b[0m, in \u001b[0;36m_deprecate_positional_args.<locals>.inner_f\u001b[0;34m(*args, **kwargs)\u001b[0m\n\u001b[1;32m     36\u001b[0m     warnings\u001b[38;5;241m.\u001b[39mwarn(\n\u001b[1;32m     37\u001b[0m         \u001b[38;5;124m\"\u001b[39m\u001b[38;5;124mPass the following variable\u001b[39m\u001b[38;5;132;01m{}\u001b[39;00m\u001b[38;5;124m as \u001b[39m\u001b[38;5;132;01m{}\u001b[39;00m\u001b[38;5;124mkeyword arg\u001b[39m\u001b[38;5;132;01m{}\u001b[39;00m\u001b[38;5;124m: \u001b[39m\u001b[38;5;132;01m{}\u001b[39;00m\u001b[38;5;124m. \u001b[39m\u001b[38;5;124m\"\u001b[39m\n\u001b[1;32m     38\u001b[0m         \u001b[38;5;124m\"\u001b[39m\u001b[38;5;124mFrom version 0.12, the only valid positional argument \u001b[39m\u001b[38;5;124m\"\u001b[39m\n\u001b[0;32m   (...)\u001b[0m\n\u001b[1;32m     43\u001b[0m         \u001b[38;5;167;01mFutureWarning\u001b[39;00m\n\u001b[1;32m     44\u001b[0m     )\n\u001b[1;32m     45\u001b[0m kwargs\u001b[38;5;241m.\u001b[39mupdate({k: arg \u001b[38;5;28;01mfor\u001b[39;00m k, arg \u001b[38;5;129;01min\u001b[39;00m \u001b[38;5;28mzip\u001b[39m(sig\u001b[38;5;241m.\u001b[39mparameters, args)})\n\u001b[0;32m---> 46\u001b[0m \u001b[38;5;28;01mreturn\u001b[39;00m \u001b[43mf\u001b[49m\u001b[43m(\u001b[49m\u001b[38;5;241;43m*\u001b[39;49m\u001b[38;5;241;43m*\u001b[39;49m\u001b[43mkwargs\u001b[49m\u001b[43m)\u001b[49m\n",
      "File \u001b[0;32m~/.local/lib/python3.8/site-packages/seaborn/matrix.py:779\u001b[0m, in \u001b[0;36mdendrogram\u001b[0;34m(data, linkage, axis, label, metric, method, rotate, tree_kws, ax)\u001b[0m\n\u001b[1;32m    736\u001b[0m \u001b[38;5;129m@_deprecate_positional_args\u001b[39m\n\u001b[1;32m    737\u001b[0m \u001b[38;5;28;01mdef\u001b[39;00m \u001b[38;5;21mdendrogram\u001b[39m(\n\u001b[1;32m    738\u001b[0m     data, \u001b[38;5;241m*\u001b[39m,\n\u001b[1;32m    739\u001b[0m     linkage\u001b[38;5;241m=\u001b[39m\u001b[38;5;28;01mNone\u001b[39;00m, axis\u001b[38;5;241m=\u001b[39m\u001b[38;5;241m1\u001b[39m, label\u001b[38;5;241m=\u001b[39m\u001b[38;5;28;01mTrue\u001b[39;00m, metric\u001b[38;5;241m=\u001b[39m\u001b[38;5;124m'\u001b[39m\u001b[38;5;124meuclidean\u001b[39m\u001b[38;5;124m'\u001b[39m,\n\u001b[1;32m    740\u001b[0m     method\u001b[38;5;241m=\u001b[39m\u001b[38;5;124m'\u001b[39m\u001b[38;5;124maverage\u001b[39m\u001b[38;5;124m'\u001b[39m, rotate\u001b[38;5;241m=\u001b[39m\u001b[38;5;28;01mFalse\u001b[39;00m, tree_kws\u001b[38;5;241m=\u001b[39m\u001b[38;5;28;01mNone\u001b[39;00m, ax\u001b[38;5;241m=\u001b[39m\u001b[38;5;28;01mNone\u001b[39;00m\n\u001b[1;32m    741\u001b[0m ):\n\u001b[1;32m    742\u001b[0m     \u001b[38;5;124;03m\"\"\"Draw a tree diagram of relationships within a matrix\u001b[39;00m\n\u001b[1;32m    743\u001b[0m \n\u001b[1;32m    744\u001b[0m \u001b[38;5;124;03m    Parameters\u001b[39;00m\n\u001b[0;32m   (...)\u001b[0m\n\u001b[1;32m    777\u001b[0m \n\u001b[1;32m    778\u001b[0m \u001b[38;5;124;03m    \"\"\"\u001b[39;00m\n\u001b[0;32m--> 779\u001b[0m     plotter \u001b[38;5;241m=\u001b[39m \u001b[43m_DendrogramPlotter\u001b[49m\u001b[43m(\u001b[49m\u001b[43mdata\u001b[49m\u001b[43m,\u001b[49m\u001b[43m \u001b[49m\u001b[43mlinkage\u001b[49m\u001b[38;5;241;43m=\u001b[39;49m\u001b[43mlinkage\u001b[49m\u001b[43m,\u001b[49m\u001b[43m \u001b[49m\u001b[43maxis\u001b[49m\u001b[38;5;241;43m=\u001b[39;49m\u001b[43maxis\u001b[49m\u001b[43m,\u001b[49m\n\u001b[1;32m    780\u001b[0m \u001b[43m                                 \u001b[49m\u001b[43mmetric\u001b[49m\u001b[38;5;241;43m=\u001b[39;49m\u001b[43mmetric\u001b[49m\u001b[43m,\u001b[49m\u001b[43m \u001b[49m\u001b[43mmethod\u001b[49m\u001b[38;5;241;43m=\u001b[39;49m\u001b[43mmethod\u001b[49m\u001b[43m,\u001b[49m\n\u001b[1;32m    781\u001b[0m \u001b[43m                                 \u001b[49m\u001b[43mlabel\u001b[49m\u001b[38;5;241;43m=\u001b[39;49m\u001b[43mlabel\u001b[49m\u001b[43m,\u001b[49m\u001b[43m \u001b[49m\u001b[43mrotate\u001b[49m\u001b[38;5;241;43m=\u001b[39;49m\u001b[43mrotate\u001b[49m\u001b[43m)\u001b[49m\n\u001b[1;32m    782\u001b[0m     \u001b[38;5;28;01mif\u001b[39;00m ax \u001b[38;5;129;01mis\u001b[39;00m \u001b[38;5;28;01mNone\u001b[39;00m:\n\u001b[1;32m    783\u001b[0m         ax \u001b[38;5;241m=\u001b[39m plt\u001b[38;5;241m.\u001b[39mgca()\n",
      "File \u001b[0;32m~/.local/lib/python3.8/site-packages/seaborn/matrix.py:589\u001b[0m, in \u001b[0;36m_DendrogramPlotter.__init__\u001b[0;34m(self, data, linkage, metric, method, axis, label, rotate)\u001b[0m\n\u001b[1;32m    586\u001b[0m \u001b[38;5;28mself\u001b[39m\u001b[38;5;241m.\u001b[39mrotate \u001b[38;5;241m=\u001b[39m rotate\n\u001b[1;32m    588\u001b[0m \u001b[38;5;28;01mif\u001b[39;00m linkage \u001b[38;5;129;01mis\u001b[39;00m \u001b[38;5;28;01mNone\u001b[39;00m:\n\u001b[0;32m--> 589\u001b[0m     \u001b[38;5;28mself\u001b[39m\u001b[38;5;241m.\u001b[39mlinkage \u001b[38;5;241m=\u001b[39m \u001b[38;5;28;43mself\u001b[39;49m\u001b[38;5;241;43m.\u001b[39;49m\u001b[43mcalculated_linkage\u001b[49m\n\u001b[1;32m    590\u001b[0m \u001b[38;5;28;01melse\u001b[39;00m:\n\u001b[1;32m    591\u001b[0m     \u001b[38;5;28mself\u001b[39m\u001b[38;5;241m.\u001b[39mlinkage \u001b[38;5;241m=\u001b[39m linkage\n",
      "File \u001b[0;32m~/.local/lib/python3.8/site-packages/seaborn/matrix.py:656\u001b[0m, in \u001b[0;36m_DendrogramPlotter.calculated_linkage\u001b[0;34m(self)\u001b[0m\n\u001b[1;32m    652\u001b[0m         msg \u001b[38;5;241m=\u001b[39m (\u001b[38;5;124m\"\u001b[39m\u001b[38;5;124mClustering large matrix with scipy. Installing \u001b[39m\u001b[38;5;124m\"\u001b[39m\n\u001b[1;32m    653\u001b[0m                \u001b[38;5;124m\"\u001b[39m\u001b[38;5;124m`fastcluster` may give better performance.\u001b[39m\u001b[38;5;124m\"\u001b[39m)\n\u001b[1;32m    654\u001b[0m         warnings\u001b[38;5;241m.\u001b[39mwarn(msg)\n\u001b[0;32m--> 656\u001b[0m \u001b[38;5;28;01mreturn\u001b[39;00m \u001b[38;5;28;43mself\u001b[39;49m\u001b[38;5;241;43m.\u001b[39;49m\u001b[43m_calculate_linkage_scipy\u001b[49m\u001b[43m(\u001b[49m\u001b[43m)\u001b[49m\n",
      "File \u001b[0;32m~/.local/lib/python3.8/site-packages/seaborn/matrix.py:624\u001b[0m, in \u001b[0;36m_DendrogramPlotter._calculate_linkage_scipy\u001b[0;34m(self)\u001b[0m\n\u001b[1;32m    623\u001b[0m \u001b[38;5;28;01mdef\u001b[39;00m \u001b[38;5;21m_calculate_linkage_scipy\u001b[39m(\u001b[38;5;28mself\u001b[39m):\n\u001b[0;32m--> 624\u001b[0m     linkage \u001b[38;5;241m=\u001b[39m \u001b[43mhierarchy\u001b[49m\u001b[38;5;241;43m.\u001b[39;49m\u001b[43mlinkage\u001b[49m\u001b[43m(\u001b[49m\u001b[38;5;28;43mself\u001b[39;49m\u001b[38;5;241;43m.\u001b[39;49m\u001b[43marray\u001b[49m\u001b[43m,\u001b[49m\u001b[43m \u001b[49m\u001b[43mmethod\u001b[49m\u001b[38;5;241;43m=\u001b[39;49m\u001b[38;5;28;43mself\u001b[39;49m\u001b[38;5;241;43m.\u001b[39;49m\u001b[43mmethod\u001b[49m\u001b[43m,\u001b[49m\n\u001b[1;32m    625\u001b[0m \u001b[43m                                \u001b[49m\u001b[43mmetric\u001b[49m\u001b[38;5;241;43m=\u001b[39;49m\u001b[38;5;28;43mself\u001b[39;49m\u001b[38;5;241;43m.\u001b[39;49m\u001b[43mmetric\u001b[49m\u001b[43m)\u001b[49m\n\u001b[1;32m    626\u001b[0m     \u001b[38;5;28;01mreturn\u001b[39;00m linkage\n",
      "File \u001b[0;32m~/.local/lib/python3.8/site-packages/scipy/cluster/hierarchy.py:1052\u001b[0m, in \u001b[0;36mlinkage\u001b[0;34m(y, method, metric, optimal_ordering)\u001b[0m\n\u001b[1;32m   1048\u001b[0m         \u001b[38;5;28;01mif\u001b[39;00m np\u001b[38;5;241m.\u001b[39mall(y \u001b[38;5;241m>\u001b[39m\u001b[38;5;241m=\u001b[39m \u001b[38;5;241m0\u001b[39m) \u001b[38;5;129;01mand\u001b[39;00m np\u001b[38;5;241m.\u001b[39mallclose(y, y\u001b[38;5;241m.\u001b[39mT):\n\u001b[1;32m   1049\u001b[0m             _warning(\u001b[38;5;124m'\u001b[39m\u001b[38;5;124mThe symmetric non-negative hollow observation \u001b[39m\u001b[38;5;124m'\u001b[39m\n\u001b[1;32m   1050\u001b[0m                      \u001b[38;5;124m'\u001b[39m\u001b[38;5;124mmatrix looks suspiciously like an uncondensed \u001b[39m\u001b[38;5;124m'\u001b[39m\n\u001b[1;32m   1051\u001b[0m                      \u001b[38;5;124m'\u001b[39m\u001b[38;5;124mdistance matrix\u001b[39m\u001b[38;5;124m'\u001b[39m)\n\u001b[0;32m-> 1052\u001b[0m     y \u001b[38;5;241m=\u001b[39m \u001b[43mdistance\u001b[49m\u001b[38;5;241;43m.\u001b[39;49m\u001b[43mpdist\u001b[49m\u001b[43m(\u001b[49m\u001b[43my\u001b[49m\u001b[43m,\u001b[49m\u001b[43m \u001b[49m\u001b[43mmetric\u001b[49m\u001b[43m)\u001b[49m\n\u001b[1;32m   1053\u001b[0m \u001b[38;5;28;01melse\u001b[39;00m:\n\u001b[1;32m   1054\u001b[0m     \u001b[38;5;28;01mraise\u001b[39;00m \u001b[38;5;167;01mValueError\u001b[39;00m(\u001b[38;5;124m\"\u001b[39m\u001b[38;5;124m`y` must be 1 or 2 dimensional.\u001b[39m\u001b[38;5;124m\"\u001b[39m)\n",
      "File \u001b[0;32m~/.local/lib/python3.8/site-packages/scipy/spatial/distance.py:1995\u001b[0m, in \u001b[0;36mpdist\u001b[0;34m(X, metric, *args, **kwargs)\u001b[0m\n\u001b[1;32m   1993\u001b[0m out \u001b[38;5;241m=\u001b[39m kwargs\u001b[38;5;241m.\u001b[39mpop(\u001b[38;5;124m\"\u001b[39m\u001b[38;5;124mout\u001b[39m\u001b[38;5;124m\"\u001b[39m, \u001b[38;5;28;01mNone\u001b[39;00m)\n\u001b[1;32m   1994\u001b[0m \u001b[38;5;28;01mif\u001b[39;00m out \u001b[38;5;129;01mis\u001b[39;00m \u001b[38;5;28;01mNone\u001b[39;00m:\n\u001b[0;32m-> 1995\u001b[0m     dm \u001b[38;5;241m=\u001b[39m \u001b[43mnp\u001b[49m\u001b[38;5;241;43m.\u001b[39;49m\u001b[43mempty\u001b[49m\u001b[43m(\u001b[49m\u001b[43m(\u001b[49m\u001b[43mm\u001b[49m\u001b[43m \u001b[49m\u001b[38;5;241;43m*\u001b[39;49m\u001b[43m \u001b[49m\u001b[43m(\u001b[49m\u001b[43mm\u001b[49m\u001b[43m \u001b[49m\u001b[38;5;241;43m-\u001b[39;49m\u001b[43m \u001b[49m\u001b[38;5;241;43m1\u001b[39;49m\u001b[43m)\u001b[49m\u001b[43m)\u001b[49m\u001b[43m \u001b[49m\u001b[38;5;241;43m/\u001b[39;49m\u001b[38;5;241;43m/\u001b[39;49m\u001b[43m \u001b[49m\u001b[38;5;241;43m2\u001b[39;49m\u001b[43m,\u001b[49m\u001b[43m \u001b[49m\u001b[43mdtype\u001b[49m\u001b[38;5;241;43m=\u001b[39;49m\u001b[43mnp\u001b[49m\u001b[38;5;241;43m.\u001b[39;49m\u001b[43mdouble\u001b[49m\u001b[43m)\u001b[49m\n\u001b[1;32m   1996\u001b[0m \u001b[38;5;28;01melse\u001b[39;00m:\n\u001b[1;32m   1997\u001b[0m     \u001b[38;5;28;01mif\u001b[39;00m out\u001b[38;5;241m.\u001b[39mshape \u001b[38;5;241m!=\u001b[39m (m \u001b[38;5;241m*\u001b[39m (m \u001b[38;5;241m-\u001b[39m \u001b[38;5;241m1\u001b[39m) \u001b[38;5;241m/\u001b[39m\u001b[38;5;241m/\u001b[39m \u001b[38;5;241m2\u001b[39m,):\n",
      "\u001b[0;31mMemoryError\u001b[0m: Unable to allocate 78.8 GiB for an array with shape (10579233070,) and data type float64"
     ]
    },
    {
     "data": {
      "image/png": "[encoded data removed]",
      "text/plain": [
       "<Figure size 720x720 with 4 Axes>"
      ]
     },
     "metadata": {
      "needs_background": "light"
     },
     "output_type": "display_data"
    }
   ],
   "source": [
    "sns.clustermap(num_cols,)"
   ]
  },
  {
   "cell_type": "code",
   "execution_count": 52,
   "id": "9f76978f",
   "metadata": {},
   "outputs": [],
   "source": [
    "cat_cols.drop('Date', axis=1, inplace=True)"
   ]
  },
  {
   "cell_type": "code",
   "execution_count": 53,
   "id": "2697aa70",
   "metadata": {},
   "outputs": [
    {
     "data": {
      "text/plain": [
       "Index(['Location', 'WindGustDir', 'WindDir9am', 'WindDir3pm', 'RainToday',\n",
       "       'RainTomorrow'],\n",
       "      dtype='object')"
      ]
     },
     "execution_count": 53,
     "metadata": {},
     "output_type": "execute_result"
    }
   ],
   "source": [
    "cat_cols.columns"
   ]
  },
  {
   "cell_type": "code",
   "execution_count": 55,
   "id": "6d245a55",
   "metadata": {},
   "outputs": [],
   "source": [
    "cat_cols.dropna(inplace=True)"
   ]
  },
  {
   "cell_type": "code",
   "execution_count": 60,
   "id": "8d053d35",
   "metadata": {},
   "outputs": [],
   "source": [
    "# sns.clustermap(data=data)"
   ]
  },
  {
   "cell_type": "code",
   "execution_count": null,
   "id": "08cd61d3",
   "metadata": {},
   "outputs": [],
   "source": []
  }
 ],
 "metadata": {
  "kernelspec": {
   "display_name": "Python 3 (ipykernel)",
   "language": "python",
   "name": "python3"
  },
  "language_info": {
   "codemirror_mode": {
    "name": "ipython",
    "version": 3
   },
   "file_extension": ".py",
   "mimetype": "text/x-python",
   "name": "python",
   "nbconvert_exporter": "python",
   "pygments_lexer": "ipython3",
   "version": "3.8.10"
  }
 },
 "nbformat": 4,
 "nbformat_minor": 5
}
