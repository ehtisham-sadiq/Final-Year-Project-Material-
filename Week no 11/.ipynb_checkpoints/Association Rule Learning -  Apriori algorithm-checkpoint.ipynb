{
 "cells": [
  {
   "cell_type": "markdown",
   "id": "6817ba3a",
   "metadata": {},
   "source": [
    "# Learning Agenda\n",
    "\n",
    "## Association Rule Learning : Apriori algorithm\n",
    "\n",
    "- Support: a measure of the frequency of an itemset in a dataset\n",
    "- Confidence: a measure of the strength of the association between two items in a rule\n",
    "- Lift: a measure of the improvement in prediction accuracy achieved by using the rule\n",
    "- Antecedent and Consequent: the two parts of an association rule, where the antecedent is the cause and the consequent is the effect\n",
    "- Generating Association Rules: the process of identifying relationships between items in a dataset\n",
    "- Frequent Itemset Generation: the process of identifying itemsets that occur frequently in a dataset\n",
    "- Pruning Infrequent Itemsets: the process of removing itemsets that do not occur frequently enough to be useful\n",
    "- Optimizing the Apriori Algorithm: techniques to improve the efficiency of the algorithm, such as hashing, sampling, and parallel processing\n",
    "- Limitations of Association Rule Learning: limitations of the technique, such as the difficulty in handling continuous variables and the sensitivity to changes in the dataset."
   ]
  },
  {
   "cell_type": "code",
   "execution_count": null,
   "id": "0d5424e0",
   "metadata": {},
   "outputs": [],
   "source": []
  },
  {
   "cell_type": "code",
   "execution_count": null,
   "id": "04dfa808",
   "metadata": {},
   "outputs": [],
   "source": []
  },
  {
   "cell_type": "code",
   "execution_count": null,
   "id": "beed8239",
   "metadata": {},
   "outputs": [],
   "source": []
  },
  {
   "cell_type": "code",
   "execution_count": null,
   "id": "470a7c13",
   "metadata": {},
   "outputs": [],
   "source": []
  },
  {
   "cell_type": "code",
   "execution_count": null,
   "id": "76accbcf",
   "metadata": {},
   "outputs": [],
   "source": []
  },
  {
   "cell_type": "code",
   "execution_count": null,
   "id": "fc90c8c0",
   "metadata": {},
   "outputs": [],
   "source": []
  }
 ],
 "metadata": {
  "kernelspec": {
   "display_name": "Python 3 (ipykernel)",
   "language": "python",
   "name": "python3"
  },
  "language_info": {
   "codemirror_mode": {
    "name": "ipython",
    "version": 3
   },
   "file_extension": ".py",
   "mimetype": "text/x-python",
   "name": "python",
   "nbconvert_exporter": "python",
   "pygments_lexer": "ipython3",
   "version": "3.8.10"
  }
 },
 "nbformat": 4,
 "nbformat_minor": 5
}
