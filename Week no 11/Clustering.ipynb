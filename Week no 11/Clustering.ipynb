{
 "cells": [
  {
   "cell_type": "markdown",
   "id": "5d26f9d2",
   "metadata": {},
   "source": [
    "# Learning Agenda\n",
    "\n",
    "- **What is Clustering**\n",
    "- Types of Clustering:\n",
    "    - **K-Means Clustering** \n",
    "        - Basics Steps of K-Means Clustering\n",
    "        - Limitations of K-Means\n",
    "        - Possible Improvements in K-Means \n",
    "        - How to choose value of K in K-Means?\n",
    "        \n",
    "    - **Hierarchical Clustering**\n",
    "        - Types of hierarchical clustering: Agglomerative and Divisive\n",
    "        - Creating a dendrogram\n",
    "        - Distance measures in hierarchical clustering\n",
    "        - Determining the optimal number of clusters in hierarchical clustering\n",
    "        - Visualizing hierarchical clustering results."
   ]
  },
  {
   "cell_type": "code",
   "execution_count": null,
   "id": "c8a03235",
   "metadata": {},
   "outputs": [],
   "source": []
  },
  {
   "cell_type": "code",
   "execution_count": null,
   "id": "890765f2",
   "metadata": {},
   "outputs": [],
   "source": []
  },
  {
   "cell_type": "code",
   "execution_count": null,
   "id": "dcdfd9db",
   "metadata": {},
   "outputs": [],
   "source": []
  },
  {
   "cell_type": "code",
   "execution_count": 4,
   "id": "3fc887b5",
   "metadata": {},
   "outputs": [],
   "source": [
    "# !ls images/"
   ]
  },
  {
   "cell_type": "code",
   "execution_count": null,
   "id": "97b747f5",
   "metadata": {},
   "outputs": [],
   "source": []
  },
  {
   "cell_type": "markdown",
   "id": "2538bc04",
   "metadata": {},
   "source": [
    "## What is Clustering?\n",
    "\n",
    "**Clustering** is a technique in machine learning that involves grouping similar objects together. The goal of clustering is to divide a large data set into smaller, more meaningful subgroups based on the similarity between the objects in the data set. This can help to identify patterns, relationships, and insights in the data that might not be easily visible when looking at the data in its raw form.\n",
    "\n",
    "\n",
    "<img src=\"images/clustering.jpg\" height=500px width=500px>"
   ]
  },
  {
   "cell_type": "code",
   "execution_count": null,
   "id": "ca2daa90",
   "metadata": {},
   "outputs": [],
   "source": []
  },
  {
   "cell_type": "code",
   "execution_count": null,
   "id": "32a4a8c2",
   "metadata": {},
   "outputs": [],
   "source": []
  },
  {
   "cell_type": "code",
   "execution_count": null,
   "id": "0ad2d7ef",
   "metadata": {},
   "outputs": [],
   "source": []
  },
  {
   "cell_type": "code",
   "execution_count": null,
   "id": "ac1b5385",
   "metadata": {},
   "outputs": [],
   "source": []
  },
  {
   "cell_type": "code",
   "execution_count": null,
   "id": "99be0d0f",
   "metadata": {},
   "outputs": [],
   "source": []
  },
  {
   "cell_type": "code",
   "execution_count": null,
   "id": "4f20f5fc",
   "metadata": {},
   "outputs": [],
   "source": []
  },
  {
   "cell_type": "markdown",
   "id": "e4b6d149",
   "metadata": {},
   "source": [
    "## K-Means Clustering\n",
    "\n",
    "**k-means** is a type of centroid-based clustering algorithm. In k-means, the data set is divided into k clusters, where k is a user-defined number. Each cluster is represented by its centroid, which is the mean of all the data points in the cluster. The algorithm assigns each data point to the closest centroid, and then updates the centroid based on the new cluster assignments. This process continues until the centroids stop changing or a maximum number of iterations is reached.\n",
    "\n",
    "<img src=\"images/k-means.png\" height=500px width=500px>"
   ]
  },
  {
   "cell_type": "code",
   "execution_count": null,
   "id": "7d0cc954",
   "metadata": {},
   "outputs": [],
   "source": []
  },
  {
   "cell_type": "markdown",
   "id": "67590080",
   "metadata": {},
   "source": [
    "### Limitations of k-means clustering\n",
    "\n",
    "- K-means clustering is sensitive to outliers and can be skewed by the presence of outliers in the dataset. \n",
    "\n",
    "- It is not suitable for non-linear data, as it assumes that the clusters are formed based on Euclidean distance measures which do not work well with non-linear datasets. \n",
    "\n",
    "- The optimal number of clusters needs to be determined before applying k-means clustering and this could be difficult if there isn’t enough prior knowledge about the data set. \n",
    "\n",
    "- K-means clustering assumes spherical cluster shapes, but in practice many datasets have more complex geometries such as elongated or irregular shapes which cannot be represented using a spherical model"
   ]
  },
  {
   "cell_type": "code",
   "execution_count": null,
   "id": "c288565c",
   "metadata": {},
   "outputs": [],
   "source": []
  },
  {
   "cell_type": "code",
   "execution_count": null,
   "id": "235773ad",
   "metadata": {},
   "outputs": [],
   "source": []
  },
  {
   "cell_type": "code",
   "execution_count": null,
   "id": "cfd3d889",
   "metadata": {},
   "outputs": [],
   "source": []
  },
  {
   "cell_type": "code",
   "execution_count": null,
   "id": "57ac05af",
   "metadata": {},
   "outputs": [],
   "source": []
  },
  {
   "cell_type": "code",
   "execution_count": null,
   "id": "53000746",
   "metadata": {},
   "outputs": [],
   "source": []
  },
  {
   "cell_type": "markdown",
   "id": "429a29c1",
   "metadata": {},
   "source": [
    "## Hierarchical Clustering\n",
    "\n",
    "**Hierarchical clustering** is a type of clustering algorithm that creates a hierarchical representation of the data set. The hierarchical representation is called a dendrogram, and it is a tree-like structure that shows the relationships between the objects in the data set. In hierarchical clustering, the algorithm starts by treating each data point as a separate cluster. Then, the closest two clusters are merged into a single cluster, and the process continues until all the data points are combined into a single cluster. There are two main types of hierarchical clustering: Agglomerative and Divisive. In Agglomerative hierarchical clustering, the algorithm starts with individual data points and merges them into larger clusters. In Divisive hierarchical clustering, the algorithm starts with the entire data set and splits it into smaller clusters.\n",
    "\n",
    "<img src=\"images/Hierarchical.jpeg\" height=500px width=500px>\n"
   ]
  },
  {
   "cell_type": "code",
   "execution_count": null,
   "id": "aeb91c0c",
   "metadata": {},
   "outputs": [],
   "source": []
  },
  {
   "cell_type": "code",
   "execution_count": null,
   "id": "85dce367",
   "metadata": {},
   "outputs": [],
   "source": []
  },
  {
   "cell_type": "code",
   "execution_count": null,
   "id": "3221dc58",
   "metadata": {},
   "outputs": [],
   "source": []
  },
  {
   "cell_type": "code",
   "execution_count": null,
   "id": "135e17c2",
   "metadata": {},
   "outputs": [],
   "source": []
  },
  {
   "cell_type": "code",
   "execution_count": null,
   "id": "a27701fe",
   "metadata": {},
   "outputs": [],
   "source": []
  },
  {
   "cell_type": "markdown",
   "id": "f2ce72ee",
   "metadata": {},
   "source": [
    "## Real world Applications of Clustering\n",
    "\n",
    "- **Customer Segmentation:** Marketers can use clustering to group similar customers together to target them with personalized offers and advertisements.\n",
    "\n",
    "\n",
    "- **Image Segmentation:** Clustering can be used to group similar pixels together to segment images into meaningful objects.\n",
    "\n",
    "\n",
    "- **Anomaly Detection:** Clustering can be used to identify unusual data points or outliers in a dataset.\n",
    "\n",
    "\n",
    "- **Gene expression analysis:** Clustering can be used to group genes with similar patterns of expression into clusters.\n",
    "\n",
    "\n",
    "- **Fraud Detection:** Clustering can be used to group transactions into similar clusters to detect fraudulent behavior.\n",
    "\n",
    "\n",
    "- **Text Clustering:** Clustering can be used to group documents with similar topics or themes into clusters.\n",
    "\n",
    "\n",
    "- **Recommendation Systems:** Clustering can be used to group similar users together to make personalized recommendations.\n",
    "\n",
    "\n",
    "- **Speech Recognition:** Clustering can be used to group similar speech sounds together to improve speech recognition.\n",
    "\n",
    "\n",
    "- **Medical Imaging:** Clustering can be used to group similar pixels in medical images to segment and diagnose medical conditions.\n",
    "\n",
    "\n",
    "- **Financial Portfolio Management:** Clustering can be used to group similar stocks together to form portfolios with diverse investment opportunities.\n",
    "\n",
    "\n",
    "- **Weather Forecasting:** Clustering can be used to group similar weather patterns together to make more accurate weather predictions.\n",
    "\n",
    "\n",
    "- **Social Network Analysis:** Clustering can be used to group similar users together to identify communities and connections within a social network.\n",
    "\n",
    "\n",
    "- **Cluster analysis in Marketing:** Clustering can be used to group similar customers together based on their spending patterns and buying behavior.\n",
    "\n",
    "\n",
    "- **Manufacturing Process Optimization:** Clustering can be used to group similar production processes together to optimize the manufacturing process.\n",
    "\n",
    "\n",
    "- **Image Compression:** Clustering can be used to group similar pixels together to compress images."
   ]
  },
  {
   "cell_type": "code",
   "execution_count": null,
   "id": "aabbfb6b",
   "metadata": {},
   "outputs": [],
   "source": []
  },
  {
   "cell_type": "code",
   "execution_count": null,
   "id": "2dd92de0",
   "metadata": {},
   "outputs": [],
   "source": []
  },
  {
   "cell_type": "code",
   "execution_count": null,
   "id": "91e4e184",
   "metadata": {},
   "outputs": [],
   "source": []
  },
  {
   "cell_type": "code",
   "execution_count": null,
   "id": "3fdb1020",
   "metadata": {},
   "outputs": [],
   "source": []
  },
  {
   "cell_type": "code",
   "execution_count": null,
   "id": "936b2104",
   "metadata": {},
   "outputs": [],
   "source": []
  },
  {
   "cell_type": "markdown",
   "id": "86f1d032",
   "metadata": {},
   "source": [
    "## Interview Questions \n",
    "\n",
    "- What is Clustering and why is it important in Machine Learning?\n",
    "- How does the k-means algorithm work, and what are its steps?\n",
    "- How do you choose the number of clusters in k-means?\n",
    "- What is the Elbow method and how is it used in k-means?\n",
    "- What are the limitations of k-means, and how do you overcome them?\n",
    "- Can you explain the difference between hard and soft clustering in k-means?\n",
    "- How do you evaluate the performance of a k-means model?\n",
    "- What is the Silhouette score, and how is it used in k-means?\n",
    "- What is hierarchical clustering, and how does it differ from k-means?\n",
    "- Can you explain the types of hierarchical clustering (Agglomerative and Divisive)?\n",
    "- How do you create a dendrogram in hierarchical clustering?\n",
    "- What are the common distance measures used in hierarchical clustering?\n",
    "- How do you determine the optimal number of clusters in hierarchical clustering?\n",
    "- How do you visualize the results of hierarchical clustering?"
   ]
  }
 ],
 "metadata": {
  "kernelspec": {
   "display_name": "Python 3 (ipykernel)",
   "language": "python",
   "name": "python3"
  },
  "language_info": {
   "codemirror_mode": {
    "name": "ipython",
    "version": 3
   },
   "file_extension": ".py",
   "mimetype": "text/x-python",
   "name": "python",
   "nbconvert_exporter": "python",
   "pygments_lexer": "ipython3",
   "version": "3.8.10"
  }
 },
 "nbformat": 4,
 "nbformat_minor": 5
}
