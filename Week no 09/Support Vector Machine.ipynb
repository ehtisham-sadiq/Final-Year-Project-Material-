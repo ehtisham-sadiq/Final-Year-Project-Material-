{
 "cells": [
  {
   "cell_type": "code",
   "execution_count": null,
   "id": "d18972e1",
   "metadata": {},
   "outputs": [],
   "source": []
  },
  {
   "cell_type": "markdown",
   "id": "55a33a84",
   "metadata": {},
   "source": [
    "# Support Vector Machine\n",
    "\n",
    "- **Mathematics behind Support Vector Machines** \n",
    "    - Length of a Vector, Direction of a Vector, Dot Product\n",
    "    - Linear Separability, Concept of HyperPlane, Classifier\n",
    "    - [Video Link](https://www.youtube.com/watch?v=y0_Qq6fXzCs)\n",
    "- **Support Vector Machines (SVM) Overview**\n",
    "    - Maximum Margin Classifier \n",
    "    - Overview and Intuition \n",
    "    - Soft and Hard Margin\n",
    "    - [Video Link 1](https://www.youtube.com/watch?v=ugTxMLjLS8M&list=PLKnIA16_RmvbOIFee-ra7U6jR2oIbCZBL)\n",
    "    - [Video Link 2](https://www.youtube.com/watch?v=efR1C6CvhmE)\n",
    "    - [Video Link 3](https://www.youtube.com/watch?v=1NxnPkZM9bc)\n",
    "- **Hard SVM**\n",
    "    - Hard SVM – Mathematical Formulation\n",
    "    - Hard SVM – Optimization Problem Formulation\n",
    "    - Formulation of Dual Problem using Lagrange Multipliers\n",
    "    - Issues with hard SVM\n",
    "    - [Video Link 1](https://www.youtube.com/watch?v=yCAlHPDgWtM)\n",
    "    - [Video Link 2](https://www.cs.cornell.edu/courses/cs4780/2018fa/lectures/lecturenote09.html)\n",
    "    - [Video Link 3](https://www.youtube.com/watch?v=A7FeQekjd9Q)\n",
    "    - [Reading Link 1](https://towardsdatascience.com/understanding-support-vector-machine-part-1-lagrange-multipliers-5c24a52ffc5e)\n",
    "    - [Reading Link 2](https://towardsdatascience.com/support-vector-machine-python-example-d67d9b63f1c8)\n",
    "- **Soft SVM**\n",
    "    - [Video Link 1](https://www.youtube.com/watch?v=utqrvIFAE1k)\n",
    "    - [Video Link 2](https://www.youtube.com/watch?v=7vSGI9FCCaY)\n",
    "- **Kernel Trick**\n",
    "    - [Video Link](https://www.youtube.com/watch?v=egxjT0p7_K8)\n",
    "    - [Reading Link](https://towardsdatascience.com/understanding-support-vector-machine-part-2-kernel-trick-mercers-theorem-e1e6848c6c4d)\n",
    "- **OvR SVM classifier for Multi-class classification**\n",
    "    - [Video Link](https://www.youtube.com/watch?v=bW3PUCpj_AE)\n",
    "\n",
    "\n",
    "- **SVM: Python Implementation**\n",
    "- **SVM: Scikit-learn implementation**\n",
    "- **Interview Questions**\n",
    "- **Industrial Applications of SVM**\n",
    "- **Project**"
   ]
  },
  {
   "cell_type": "markdown",
   "id": "05108071",
   "metadata": {},
   "source": []
  },
  {
   "cell_type": "markdown",
   "id": "92f16b45",
   "metadata": {},
   "source": [
    "## Mathematics behind Support Vector Machines\n",
    "\n",
    "Before we get into the SVM algorithm, let’s first talk about some definitions we need to use later.\n",
    "\n",
    "#### Length of a vector\n",
    "\n",
    "The length of a vector $\\mathbf x$ is called its norm, which is written as $||\\mathbf{x}||$. The Euclidean norm formula to calculate the norm of a vector $ \\mathbf{x} = (x_1,x_2,...,x_n)$ is:\n",
    "\n",
    "$$||x|| = \\sqrt{x_1^2+x_2^2+...+x_n^2}$$\n",
    "\n",
    "#### Direction of a Vector\n",
    "The direction of a vector $\\mathbf{x} = (x_1, x_2)$ is written as $\\mathbf{w}$ and defined as :\n",
    "\n",
    "$$w = (\\frac{x_1}{||x||},\\frac{x_2}{||x||})$$\n",
    "\n",
    "If we look at below figure, we can see that $cos(\\theta)=\\frac{x_1}{\\|x\\|}$ and $cos(\\alpha)=\\frac{x_2}{\\|x\\|}$. Thus, the direction vector $\\mathbf{w}$ can also be written as:\n",
    "$$w = (cos(\\theta), cos(\\alpha))$$\n",
    "<img src=\"images/j2.jpg\" height =300px width=300px align=\"center\">\n",
    "\n",
    "> It is worth noting that the norm of a direction vector is always equal to `1`. Because of this, the direction vector $\\mathbf{w}$ is also called the unit vector.\n",
    "\n",
    "#### Dot product\n",
    "The dot product of two vectors returns a scalar. It gives us some insights into how the two vectors are related.\n",
    "\n",
    "Below figure shows two vectors $\\mathbf{x}$ and $\\mathbf{y}$ and the angle $θ$ between them. The geometric formula of dot product is defined as:\n",
    "\n",
    "$$x \\cdot y = ||x||\\space||y||\\space cos(\\theta)$$\n",
    "\n",
    "<img src=\"images/j1.jpg\" height = 500px width=500px align=\"center\">\n",
    "\n",
    "\n",
    "By looking at below figure, we can see $\\theta = \\beta-\\alpha$. Then we can get:\n",
    "\n",
    "$$cos(\\theta) = cos(\\beta-\\alpha)\\\\\n",
    "                =cos\\beta cos\\alpha+sin\\beta sin\\alpha \\\\\n",
    "                =\\frac{x_1}{||x||}\\frac{y_1}{||y||}+\\frac{x_2}{||x||}\\frac{y_2}{||y||} \\\\\n",
    "                =\\frac{x_1y_1+x_2y_2}{||x||\\space ||y||}$$\n",
    "                \n",
    "<img src=\"images/j3.jpg\" height = 350px width=350px align=\"center\">\n",
    "                \n",
    "                \n",
    "We substitute this into the geometric dot product formula, we get:\n",
    "$$x \\cdot y = ||x||\\space||y||\\space \\frac{x_1y_1+x_2y_2}{||x||\\space ||y||} = x_1y_1+x_2y_2$$\n",
    "\n",
    "> This is the `algebraic formula` of dot product. \n",
    "\n",
    "In general, dot product can be computed as the following for two `n-dimensional vectors`:\n",
    "$$x \\cdot y = \\sum_{i=1}^{n}x_iy_i$$\n",
    "\n",
    "\n",
    "### Linear separability\n",
    "\n",
    "Linear separability is one important concept in `SVM`. Although in practical cases the data might not be linearly separable, we will start from the linearly separable cases (since they are easy to understand and deal with) and then derive the non-linearly separable cases.\n",
    "\n",
    "First Figure shows the two-dimensional data are separated by a `line`. In this case, we say the data are linearly separable. Second figure is an example of non-linearly separable data, which means we can not find a line to separate the two-dimensional data. Similarly, for three-dimensional data, we say the data are linearly separable if we can find a `plane` to separate them.\n",
    "\n",
    "<img src=\"images/j6.jpg\" height = 500px width=500px align=\"center\">\n",
    "\n",
    "\n",
    "### Hyperplane\n",
    "Then, the question arises when there are more than three dimensions. What do we use to separate the multi-dimensional data? We use **hyperplane**. How could we define a hyperplane?\n",
    "\n",
    "Let’s look at the two-dimensional case first. The two-dimensional linearly separable data can be separated by a line. The function of the line is $y=ax+b$. We rename x with $x_1$ and y with $x_2$ and we get:\n",
    "\n",
    "$$ax_1-x_2+b=0$$\n",
    "\n",
    "If we define $\\mathbf{x} = (x_1, x_2)$ and $\\mathbf{w} = (a,-1)$, we get:\n",
    "$$w\\cdot x + b =0$$ Or\n",
    "\n",
    "$$w^Tx+b=0$$\n",
    "\n",
    "> This equation is derived from two-dimensional vectors. But in fact, it also works for any number of dimensions. This is the equation of the hyperplane.\n",
    "\n",
    "<img src=\"images/p2.png\" height = 500px width=500px align=\"center\">\n",
    "\n",
    "\n",
    "### Classifier\n",
    "\n",
    "Once we have the hyperplane, we can then use the hyperplane to make predictions. We define the hypothesis function $\\mathbf{h}$ as:\n",
    "\n",
    "$$h(x_i) =\n",
    "    \\begin{cases}\n",
    "    +1 & if \\space w^T x + b \\ge 0 \\\\\n",
    "    -1 & if \\space w^T x + b < 0\n",
    "    \\end{cases}$$\n",
    "    \n",
    "The point above or on the hyperplane will be classified as `class +1`, and the point below the hyperplane will be classified as `class -1`.\n",
    "\n",
    "**Goal of SVM**\n",
    "- So basically, the goal of the SVM learning algorithm is to find a `hyperplane` which could separate the data accurately. There might be many such `hyperplanes`. And we need to find the best one, which is often referred as the **optimal hyperplane.**"
   ]
  },
  {
   "cell_type": "code",
   "execution_count": 12,
   "id": "61cf152b",
   "metadata": {},
   "outputs": [
    {
     "data": {
      "image/png": "[encoded data removed]",
      "text/plain": [
       "<Figure size 432x288 with 1 Axes>"
      ]
     },
     "metadata": {
      "needs_background": "light"
     },
     "output_type": "display_data"
    }
   ],
   "source": [
    "# implementation of hyperplane\n",
    "from sklearn import svm\n",
    "\n",
    "# create the SVM model\n",
    "clf = svm.SVC(kernel='linear', C=1)\n",
    "\n",
    "# train the model\n",
    "clf.fit(X_train, y_train)\n",
    "\n",
    "# get the parameters of the hyperplane\n",
    "w = clf.coef_[0]\n",
    "a = -w[0] / w[1]\n",
    "xx = np.linspace(-5, 5)\n",
    "yy = a * xx - (clf.intercept_[0]) / w[1]\n",
    "\n",
    "# plot the hyperplane\n",
    "plt.plot(xx, yy)\n",
    "plt.scatter(X_train[:, 0], X_train[:, 1], c=y_train)\n",
    "plt.show()\n"
   ]
  },
  {
   "cell_type": "markdown",
   "id": "2ab07c24",
   "metadata": {},
   "source": [
    "**Explanation:**\n",
    "\n",
    "- Above code first creates an `SVM` model with a `linear kernel` using the SVC class from the svm module and trains it on the training data. Then, it gets the parameters of the hyperplane by accessing the `coef_` attribute of the trained model, which contains the coefficients of the hyperplane, and the `intercept_` attribute, which contains the bias term.\n",
    "- Then, it creates a grid of points to plot the hyperplane by generating a range of x-values and calculating the corresponding y-values using the parameters of the hyperplane. Finally, it plots the hyperplane and the data points on the same graph."
   ]
  },
  {
   "cell_type": "code",
   "execution_count": null,
   "id": "2a028e06",
   "metadata": {},
   "outputs": [],
   "source": []
  },
  {
   "cell_type": "code",
   "execution_count": null,
   "id": "bb66a46b",
   "metadata": {},
   "outputs": [],
   "source": []
  },
  {
   "cell_type": "code",
   "execution_count": null,
   "id": "d263e60d",
   "metadata": {},
   "outputs": [],
   "source": []
  },
  {
   "cell_type": "code",
   "execution_count": null,
   "id": "ca819dac",
   "metadata": {},
   "outputs": [],
   "source": []
  },
  {
   "cell_type": "code",
   "execution_count": null,
   "id": "3471415e",
   "metadata": {},
   "outputs": [],
   "source": []
  },
  {
   "cell_type": "code",
   "execution_count": null,
   "id": "74b77618",
   "metadata": {},
   "outputs": [],
   "source": []
  },
  {
   "cell_type": "code",
   "execution_count": null,
   "id": "c93681ca",
   "metadata": {},
   "outputs": [],
   "source": []
  },
  {
   "cell_type": "markdown",
   "id": "283b601a",
   "metadata": {},
   "source": [
    "<h2 align=\"center\">Support Vector Machines(SVM)</h2>\n",
    "\n",
    "### Overview - Maximum Margin Classifier"
   ]
  },
  {
   "cell_type": "markdown",
   "id": "a77a7d37",
   "metadata": {},
   "source": [
    "**Intuition:**\n",
    "\n",
    "Consider `2` clusters of points as below. It is possible to draw many `lines/Hyperplanes` to separate out the two set of points. Which `line/decision boundary` will **best** separate the 2 categories in unseen data points?\n",
    "\n",
    "For the best separating line, consider the margin possible for each of the lines. The one with the `maximum margin` is the one that separates best. In the diagram below, `middle line` has the maximum margin. Hence, it separates the 2 set of points better.\n",
    "\n",
    "<img src=\"images/p5.png\" align=\"center\">\n",
    "\n",
    "\n",
    "With this intuition, let us try to formalize how to determine the the line with the maximum margin. Extending the problem to `n dimensions`, question becomes how to determine the `hyperplane` with `maximum margin`.\n",
    "\n",
    "Separating hyperplane can be considered as `street`. We are trying to maximise the `width` of the street (the green shaded area above). `Street` is framed by `gutters` lying at ends of the street.\n",
    "\n",
    "\n",
    "<img src=\"images/j8.jpg\" align=\"center\">\n",
    "\n",
    "\n",
    "**Support Vectors:**\n",
    "- Support vectors are the data points that are `closest` to the `hyperplane` and have the greatest impact on the position of the hyperplane. These points are the most critical points in determining the position of the hyperplane.\n",
    "\n",
    "- It's the support vectors that are used to define the hyperplane. SVM algorithm finds the hyperplane that `maximizes` the distance between the support vectors of the different classes. Support vectors are the points that lies on the `margin` or in the `gutters`, but not all the points in the gutters are support vectors.\n",
    "\n",
    "**Gutters:**\n",
    "- Gutters refer to the area between the margins, which is the distance between the hyperplane and the closest data points from each class. The `width` of the gutters is equal to `twice` the margin.\n",
    "- The hyperplane is defined by the support vectors, but the gutters are defined by the hyperplane. In other words, support vectors are used to find the hyperplane, and the hyperplane is used to define the gutters.\n",
    "\n",
    "**Margin:**\n",
    "- The margin in SVM is the distance between the hyperplane and the closest data points from each class. It is a measure of how well the hyperplane separates the different classes in the data. The goal of the SVM algorithm is to find the hyperplane that maximizes the margin, as a large margin generally indicates a better separation of the classes and a more robust model.\n",
    "\n",
    "- The margin can be calculated as the distance between the hyperplane and the closest data points from each class, also known as the support vectors. In 2-dimensional space, the margin is the distance between the hyperplane and the closest data points from each class, divided by the length of the normal vector to the hyperplane. In higher-dimensional space, the margin is calculated similarly.\n",
    "\n",
    "- The margin is a key concept in SVM, as it helps to increase the model's generalization ability by maximizing the distance between the classes. This helps to reduce the chances of overfitting and also increase the robustness of the model.\n",
    "\n",
    "**Characteristics of Best Decision Boundary:**\n",
    "\n",
    "In SVM , the goal is to find the decision boundary or hyperplane that separates the different classes in the data while `maximizing` the margin. The decision boundary that maximizes the margin is considered the best boundary as it provides the best separation of the classes and a more robust model. Here are some characteristics of the best decision boundary/hyperplane in SVM:\n",
    "\n",
    "- _Maximizes the margin_: The best decision boundary in SVM is the one that maximizes the margin, as it provides the best separation of the classes and a more robust model.\n",
    "\n",
    "- _Linear boundary_: The best decision boundary in SVM is a linear boundary, as it can be mathematically defined and optimized by the SVM algorithm.\n",
    "\n",
    "- _Correctly classifies all the data points_: The best decision boundary in SVM is the one that correctly classifies all the data points, or at least the majority of them.\n",
    "\n",
    "- _Robust to outliers and noise_: The best decision boundary in SVM is robust to outliers and noise in the data, which means that it does not over-react to a few data points that deviate from the general pattern.\n",
    "\n",
    "- _Minimizes the misclassification_: The best decision boundary in SVM is the one that minimizes the misclassification of the data points.\n",
    "\n",
    "- _High generalization ability_: The best decision boundary in SVM is the one that has high generalization ability, which means that it can classify new unseen data well.\n",
    "\n",
    "**Hard Margin Idea vs Soft Margin Idea:**\n",
    "\n",
    "There are two types of decision boundary in SVM: the hard margin and the soft margin.\n",
    "\n",
    "- The **hard margin** is the decision boundary that maximizes the margin and separates the classes perfectly. This works well when the data is linearly separable, but it is sensitive to outliers and noise.\n",
    "\n",
    "- The **soft margin** allows for some misclassification of the data points in order to maximize the margin. This is useful when the data is not linearly separable and there are some outliers or noise in the data. The regularization parameter `C` controls the trade-off between maximizing the margin and minimizing the misclassification.\n",
    "\n",
    "<img src=\"images/p6.png\" align=\"center\">\n"
   ]
  },
  {
   "cell_type": "code",
   "execution_count": null,
   "id": "5ee00a02",
   "metadata": {},
   "outputs": [],
   "source": []
  },
  {
   "cell_type": "markdown",
   "id": "4ae2db28",
   "metadata": {},
   "source": [
    "<h2 align=\"center\">Hard Margin SVM</h2>\n",
    "\n",
    "**The hard margin is the decision boundary that maximizes the margin and separates the classes perfectly. This works well when the data is linearly separable, but it is sensitive to outliers and noise.**\n",
    "\n",
    "To understand Hard Margin SVM, we starts step by step\n",
    "\n",
    "### Step 1: Derive decision rule\n",
    "\n",
    "<img src=\"images/p7.png\" align=\"center\" height=400px width=400px>\n",
    "\n",
    "We are using `geometrical intuition` to derive the decision boundary.\n",
    "The figure shows the hyperplane separating `positive` and `negative` points. $\\mathbf{\\vec{w}}$ is the perpendicular vector to the separating hyperplane with maximum margin $\\mathbf{\\vec{u}}$ is the unknown vector.\n",
    "\n",
    "Thinking about it geometricallly in 2 dimension, to find if the unknown vector($\\mathbf{\\vec{u}}$ ), lies on the either side of the hyperplane, we need to project the unknown vector($\\mathbf{\\vec{u}}$ ) along the direction of w. If the projection of the unknown vector($\\mathbf{\\vec{u}}$ ) along w, lies on the `right` side of the hyperplane, then it is a `positive` example. If the projection of the unknown vector($\\mathbf{\\vec{u}}$ ) along w lies on the `left` side of the hyperplace, then it is a `negative` example.\n",
    "\n",
    "Translating the above geometric intuition to linear algebra, Find the dot product between $\\mathbf{\\vec{u}}$ and $\\mathbf{\\vec{w}}$ . If the distance is greater than a constant c, it lies on the positive side of the hyperplane. It is less than constant c, it lies on negative side of the hyperplane.\n",
    "\n",
    "$$\\vec{w}.\\vec{u} >= c$$\n",
    "$$\\vec{w}.\\vec{u} -c >=0$$\n",
    "$$\\vec{w}.\\vec{u} -c > 0 $$ Then `positive` class else `negative` class\n",
    "\n",
    "For mathematical convenience, we will denote positive classes denoted by `+1` and negative classes by `-1`. Substituting `-c = b`,\n",
    "\n",
    "\n",
    "$$\\vec{w}.\\vec{u} +b >=0 \\textrm{ then } +1 \\textrm { else } -1$$\n",
    "\n",
    "So, we have arrived at our decision rule.\n",
    "\n",
    "**Decision Rule:** $\\vec{w}.\\vec{u} +b >=0 \\textrm{ then } +1 \\textrm { else } -1$\n"
   ]
  },
  {
   "cell_type": "code",
   "execution_count": null,
   "id": "04898648",
   "metadata": {},
   "outputs": [],
   "source": []
  },
  {
   "cell_type": "markdown",
   "id": "43e07f92",
   "metadata": {},
   "source": [
    "### Step 2 : Derive width of the hyperplane\n",
    "\n",
    "<img src=\"images/p9.png\" align=\"center\" height=400px width=400px>\n",
    "\n",
    "Using the decision rule and modifying it to introduce the constraint. Let us denote positive sample by $\\vec{x_+}$ and negative sample by $\\vec{x_-}$.  We are denoting `y` for positive classes as `+1` and y for negative classes as `-1`.\n",
    "\n",
    "**Decision rule** for positive class becomes:\n",
    "$$\\vec{w}\\vec{x_+} + b >=1$$\n",
    "\n",
    "**Decision rule** for negative class becomes:\n",
    "$$\\vec{w}\\vec{x_-} + b <= -1$$\n",
    "\n",
    "\n",
    "Let us introduce a new variable $y_i = +1$ for positive samples. $y_i= −1$ for negative samples.\n",
    "$$y_i(\\vec{w}.\\vec{x_i} + b) -1 >=0$$\n",
    "\n",
    "For support vectors,\n",
    "\n",
    "$$y_i(\\vec{w}\\vec{x_i} + b) - 1 =0$$\n",
    "\n",
    "Substituting for positive classes $y_{+} = 1$\n",
    "$$\\vec{w}\\vec{x_+} = 1 - b$$\n",
    "\n",
    "Substituting for positive classes $y_{-} = 1$\n",
    "$$-1(\\vec{w}\\vec{x_- +b} = 1$$\n",
    "$$\\vec{w}\\vec{x_-} = -1 - b$$\n",
    "\n",
    "Let us denote 2 points $x_+$ and $x_−$ on the gutters. Straight distance **d** can be obtained by multiplying $x_+$ and $x_−$ with unit vector.\n",
    "\n",
    "$\\mathbf{w}$ is normal to decision boundary.\n",
    "\n",
    "$\\frac{\\vec{w}}{\\lVert w \\rVert}$ is the unit vector.\n",
    "\n",
    "$$d = (x_+ - x_-)\\frac{\\vec{w}}{\\lVert w \\rVert}$$\n",
    "\n",
    "$$d = \\frac{x_+\\vec{w} - x_-\\vec{w}}{\\lVert w \\rVert}$$\n",
    "\n",
    "$$d = \\frac{1 - b + 1 + b}{\\lVert w \\rVert}$$\n",
    "\n",
    "$$d = \\frac{2}{\\lVert w \\rVert}$$\n",
    "\n",
    "**Width of Hyperplane:** $\\frac{2}{\\lVert w \\rVert}$\n",
    "\n",
    "> **Note:** It is very easy to confuse margin width with $\\lVert w \\rVert$. Key thing to note is $\\lVert w \\rVert$ is inversely proportional to margin width. When magnitude of $\\mathbf{\\vec{w}}$  increases, margin width decreases.\n",
    "\n"
   ]
  },
  {
   "cell_type": "markdown",
   "id": "8d9caa45",
   "metadata": {},
   "source": [
    "#### Implementation of width of Hyperplane"
   ]
  },
  {
   "cell_type": "code",
   "execution_count": 1,
   "id": "c575273e",
   "metadata": {},
   "outputs": [],
   "source": [
    "import numpy as np\n",
    "from sklearn import svm\n",
    "\n",
    "# Generate some data\n",
    "X = np.array([[-1, -2], [-2, -1], [1, 1], [2, 1]])\n",
    "y = np.array([1, 1, 2, 2])"
   ]
  },
  {
   "cell_type": "code",
   "execution_count": 2,
   "id": "8d5c0b1a",
   "metadata": {},
   "outputs": [
    {
     "data": {
      "text/plain": [
       "SVC(C=1, kernel='linear')"
      ]
     },
     "execution_count": 2,
     "metadata": {},
     "output_type": "execute_result"
    }
   ],
   "source": [
    "# Train the model\n",
    "clf = svm.SVC(kernel='linear', C = 1)\n",
    "clf.fit(X, y)\n"
   ]
  },
  {
   "cell_type": "code",
   "execution_count": 3,
   "id": "1c489e6a",
   "metadata": {},
   "outputs": [],
   "source": [
    "# Get the normal vector and bias use the coef_ to access the normal vector (w) of the hyperplane, \n",
    "#and the intercept_ attribute to access the bias (b)\n",
    "w = clf.coef_[0]\n",
    "b = clf.intercept_\n"
   ]
  },
  {
   "cell_type": "code",
   "execution_count": 19,
   "id": "5e153317",
   "metadata": {},
   "outputs": [
    {
     "data": {
      "text/plain": [
       "array([[-1., -2.],\n",
       "       [-2., -1.],\n",
       "       [ 1.,  1.]])"
      ]
     },
     "execution_count": 19,
     "metadata": {},
     "output_type": "execute_result"
    }
   ],
   "source": [
    "# Get the support vectors\n",
    "sv = clf.support_vectors_\n",
    "sv"
   ]
  },
  {
   "cell_type": "code",
   "execution_count": 20,
   "id": "d05682dd",
   "metadata": {},
   "outputs": [
    {
     "data": {
      "text/plain": [
       "array([1.76759924, 1.76800158, 1.76773335])"
      ]
     },
     "execution_count": 20,
     "metadata": {},
     "output_type": "execute_result"
    }
   ],
   "source": [
    "# Calculate the distance of the support vectors to the hyperplane\n",
    "distance = np.abs(np.dot(sv, w) + b) / np.linalg.norm(w)\n",
    "distance"
   ]
  },
  {
   "cell_type": "code",
   "execution_count": 21,
   "id": "3706f5ef",
   "metadata": {},
   "outputs": [
    {
     "data": {
      "text/plain": [
       "0"
      ]
     },
     "execution_count": 21,
     "metadata": {},
     "output_type": "execute_result"
    }
   ],
   "source": [
    "# Get the index of the support vectors\n",
    "sv_index = np.argmin(distance)\n",
    "sv_index"
   ]
  },
  {
   "cell_type": "code",
   "execution_count": 22,
   "id": "ce5fa96c",
   "metadata": {},
   "outputs": [
    {
     "name": "stdout",
     "output_type": "stream",
     "text": [
      "Margin:  0.00020116835066030792\n"
     ]
    }
   ],
   "source": [
    "# Calculate the margin\n",
    "margin = (np.max(distance) - np.min(distance)) / 2\n",
    "print(\"Margin: \", margin)\n"
   ]
  },
  {
   "cell_type": "code",
   "execution_count": null,
   "id": "3e794daa",
   "metadata": {},
   "outputs": [],
   "source": []
  },
  {
   "cell_type": "markdown",
   "id": "f40f9df8",
   "metadata": {},
   "source": [
    "### Step 3: Optimization Problem Formulation/ Formalize objective function\n",
    "\n",
    "The objective function in hard margin SVM is a `optimization problem` that aims to find the maximum margin hyperplane that separates the different classes in the data. The objective function is a combination of two terms: a `constraint term` that ensures that the samples are correctly classified and a `regularization term` that controls the margin size.\n",
    "\n",
    "The objective function for hard margin SVM can be formalized as:\n",
    "\n",
    "Maximise $\\frac{2}{\\lVert w \\rVert}$\n",
    "\n",
    "subject to $y_i(\\vec{w} \\vec{x_i} + b) ≥ 1, i = 1, 2, …, n$\n",
    "\n",
    "Where:\n",
    "\n",
    "- `w` is the normal vector to the hyperplane\n",
    "- $x_i$ is the i-th sample\n",
    "- $y_i$ is the label of the i-th sample (+1 or -1)\n",
    "- `b` is the bias term\n",
    "- `n` is the number of samples\n",
    "\n",
    "Maximising $\\frac{2}{\\lVert w \\rVert}$ is same as minimising  ${\\lVert w \\rVert}^2$\n",
    "\n",
    "So, the objective function becomes minimise ${\\lVert w \\rVert}^2$ such that $y_i(\\vec{w} \\vec{x_i} + b) > 0$\n",
    "\n",
    "\n",
    "\n",
    "\n",
    "\n",
    "> **Note:** The first term ${\\lVert w \\rVert}^2$ is the regularization term, it aims to minimize the length of the normal vector $w$, which leads to maximizing the margin. The second term $y_i(\\vec{w} \\vec{x_i} + b) ≥ 1$ is the constraint term, it ensures that the samples are correctly classified and are on the correct side of the hyperplane. It's also important to note that the above optimization problem is a `convex` optimization problem and can be solved using `quadratic programming(QP)`."
   ]
  },
  {
   "cell_type": "code",
   "execution_count": null,
   "id": "0b8bdb1e",
   "metadata": {},
   "outputs": [],
   "source": []
  },
  {
   "cell_type": "code",
   "execution_count": null,
   "id": "e6906692",
   "metadata": {},
   "outputs": [],
   "source": []
  },
  {
   "cell_type": "markdown",
   "id": "0b9b6bc1",
   "metadata": {},
   "source": [
    "<h3 align=\"center\"> Optimise: The Lagrangian Multiplier technique </h3>\n",
    "\n",
    "The Lagrangian Multiplier technique is often used to solve optimization problems with constraints, such as the hard margin SVM objective function. The idea behind this technique is to introduce a set of `multipliers (lambda)` for each constraint and add them to the objective function. The new function is called the `Lagrangian function`.\n",
    "\n",
    "Here is an overview of how the Lagrangian Multiplier technique is used to optimize the hard margin SVM objective function:\n",
    "\n",
    "- **Formulate the Lagrangian function:** The Lagrangian function is the original objective function plus the constraint term multiplied by a set of Lagrangian multipliers.\n",
    "$$L = {\\frac{1}{2}}{\\lVert}w{\\rVert}^2 - \\sum \\alpha_i{\\lbrack}y_i(\\vec{w}\\vec{x_i}+b) -1{\\rbrack}$$\n",
    "\n",
    "- **Derive the gradient of the Lagrangian function:** The gradient of the Lagrangian function is the vector of partial derivatives of the function with respect to the parameters (w and b)\n",
    "\n",
    "- **Set the gradient of the Lagrangian function equal to zero:** This step is done to find the critical points of the function, which are the points where the function is locally optimal\n",
    "\n",
    "- **Solve the system of equations:** The system of equations is obtained by setting the gradient of the Lagrangian function equal to zero and can be solved using numerical methods such as Newton-Raphson or gradient descent.\n",
    "\n",
    "- **Substitute the solution back into the constraint:** After solving the system of equations, the solution is substituted back into the constraint to check if it satisfies the constraint.\n",
    "\n",
    "- **Find the support vectors:** After finding the solution, the support vectors are the samples that are closest to the hyperplane and are the ones that define the margin.\n",
    "\n",
    "- **Find the decision boundary:** Finally, the decision boundary is defined by the hyperplane (w,b).\n",
    "\n",
    "\n",
    "The method can be summarized as follows: in order to find the maximum or minimum of a function $f(x)$ subjected to the equality constraint $g(x) = 0$, form the Lagrangian function\n",
    "\n",
    "$${L}(x,\\lambda )=f(x)-\\lambda g(x)$$\n",
    "\n",
    "$$f(x) = {\\frac{1}{2}}{\\lVert}w{\\rVert}^2$$\n",
    "\n",
    "$$g(x) = y_i(\\vec{w}\\vec{x_i}+b) -1 = 0$$\n",
    "\n",
    "Using the lagrangian multiplier $\\mathbf{\\alpha}$ leads to defining the **Primal problem**\n",
    "\n",
    "$$ L = {\\frac{1}{2}}{\\lVert}w{\\rVert}^2 - \\sum \\alpha_i{\\lbrack}y_i(\\vec{w}\\vec{x_i}+b) -1{\\rbrack}$$\n",
    "\n",
    "To find extremum of function, calculate derivate w.r.t moving parts and set them to 0 \n",
    "\n",
    "$$L = {\\frac{1}{2}}{\\lVert}w{\\rVert}^2 - \\sum \\alpha_i y_i \\vec{w}\\vec{x_i} - \\sum \\alpha_i y_i b + \\sum \\alpha_i$$\n",
    "\n",
    "$\\frac{\\partial L}{\\partial w} = 0$\n",
    "\n",
    "Calculating the derivatives of each of the components in the equation above: \n",
    "\n",
    "$$\\frac{\\partial {\\lVert}w{\\rVert}^2}{\\partial w} = \\vec{w}$$\n",
    "\n",
    "$$\\frac{\\partial {\\alpha_i y_i \\vec{w}\\vec{x_i}}}{\\partial w} = \\alpha_i y_i \\vec{x_i}$$\n",
    "\n",
    "\n",
    "No $\\mathbf{w}$ term, derivative w.r.t constant $\\frac{\\alpha_i y_i b}{\\partial w} = 0$.\n",
    "\n",
    "No $\\mathbf{w}$ term, derivative w.r.t constant $\\frac{\\alpha_i}{\\partial w} = 0$.\n",
    "\n",
    "$$\\vec{w} - \\sum {\\alpha_i} y_i \\vec{x_i} = 0$$\n",
    "\n",
    "$$\\vec{w} = \\sum {\\alpha_i} y_i \\vec{x_i}$$\n",
    "\n",
    "\n",
    "$\\frac{\\partial L}{\\partial b} = 0$\n",
    "\n",
    "$$\\sum \\alpha_i y_i = 0$$"
   ]
  },
  {
   "cell_type": "markdown",
   "id": "6f26255e",
   "metadata": {},
   "source": [
    "#### Intuition\n",
    "- Intuition on Weights\n",
    "    - If a point is not on a support vector, then alpha for that will be 0.\n",
    "\n",
    "- $\\mathbf{\\vec{w}}$ is the linear sum of some training samples. For non support vectors $\\mathbf{\\alpha_i}$ will be zero. Hence, $\\mathbf{w_i}$ will be 0 .\n",
    "    - Sum of alphas across all the categories will be 0. For binary classification, sum of alphas for positive class is same as the sum of alphas for the negative class\n",
    "    \n",
    "### Formulation of Dual Problem using Lagrange Multipliers\n",
    "\n",
    "The dual problem of an optimization problem is a reformulation of the original problem in terms of the Lagrange multipliers. In the case of the hard margin SVM problem, the dual problem is a reformulation of the original optimization problem in terms of the Lagrange multipliers associated with the constraints of the problem.\n",
    "\n",
    "\n",
    "\n",
    "$$ L = {\\frac{1}{2}}{\\lVert}w{\\rVert}^2 - \\sum \\alpha_i{\\lbrack}y_i(\\vec{w}\\vec{x_i}+b) -1{\\rbrack}$$\n",
    "\n",
    "$$L = {\\frac{1}{2}} \\vec{w}. \\vec{w} - \\sum \\alpha_i{\\lbrack}y_i(\\vec{w}\\vec{x_i}+b) -1{\\rbrack}$$\n",
    "\n",
    "$$= {\\frac{1}{2}}\\sum_i \\alpha_i y_i \\vec{x_i} \\sum_j \\alpha_j y_j \\vec{x_j} - \\sum_i \\alpha_i y_i\\vec{w}\\vec{x_i} - \\sum \\alpha_i y_i b + \\sum \\alpha_i$$\n",
    "\n",
    "Next, let us substitute the value for $\\mathbf{\\vec{w}}$  from equation above from primal problem. `b` is a constant and can be taken out of the summation.\n",
    "\n",
    "$$= {\\frac{1}{2}}\\sum_i \\alpha_i y_i \\vec{x_i} \\sum_j \\alpha_j y_j \\vec{x_j} - \\sum_i \\alpha_i y_i\\sum_j \\alpha_j y_j \\vec{x_j}\\vec{x_i} - b\\sum \\alpha_i y_i + \\sum \\alpha_i$$\n",
    "\n",
    "From above $\\sum \\alpha_iy_i = 0$ so term with constant `b` is 0. $ \\sum \\alpha_i y_i\\sum \\alpha_j y_j \\vec{x_j}\\vec{x_i}$ can be rearranged as $\\sum \\alpha_i y_i \\vec{x_i}\\sum \\alpha_j y_j \\vec{x_j}$ \n",
    "\n",
    "$$= {\\frac{1}{2}}\\sum_i \\alpha_i y_i \\vec{x_i} \\sum_j \\alpha_j y_j \\vec{x_j} - \\sum_i \\alpha_i y_i \\vec{x_i} \\sum_j \\alpha_j y_j \\vec{x_j} - b*0 + \\sum \\alpha_i$$\n",
    "\n",
    "\n",
    "$$L = \\sum {\\alpha_i} - \\frac{1}{2} \\sum_i \\sum_j {\\alpha_i}{\\alpha_j}{y_i}{y_j}{x_i}{x_j}$$\n",
    "\n",
    "> **Note:** This is the lagrange dual function. This is a concave function. We have minimzed over $\\mathbf{w}$ and $\\theta$ and now we maximize the lagrange dual function with respect to $\\alpha$\n",
    "\n",
    "**Dual optimization problem:**\n",
    "\n",
    "$$\\text{maximize}_{\\alpha} \\;  L(\\alpha) = \\sum {\\alpha_i} - \\frac{1}{2} \\sum_i \\sum_j {\\alpha_i}{\\alpha_j}{y_i}{y_j}{x_i}{x_j}$$\n",
    "\n",
    "$$subject \\;\\; to \\;\\;  \\alpha_i >0 \\;\\; i=1,2,3,4,...,n$$\n",
    "\n",
    "- This is also a QP.\n",
    "- It turns out that $\\alpha_i = 0$ when $\\mathbf{x_i}$ is not a support vector.\n",
    "- If prior information about support vector is known, this can be used to reduce the complexity of the optimization problem.\n",
    "- We use SV to denote the set of support vectors, that is , the points in the feature space for which $\\alpha_i$ is non-zero.\n",
    "- Using this reformulation, we can write the decision boundary as\n",
    "\n",
    "$$\\sum_{i \\epsilon SV} \\alpha_i y_i x_{i}^Tx - \\theta =0 $$\n",
    "\n",
    "- For any test point, we only need to compute the inner product with the support vectors.\n",
    "\n",
    "> **Note:** We do not need to determine $\\mathbf{w}$ explicitly. We only need support vectors and associated $\\alpha_i$\n",
    "\n",
    "### Hard SVM – Summary:\n",
    "- We formulated optimization problem to learn maximum margin classifier using the training data.\n",
    "- Since the optimization problem constraints represent the misclassification on the training data, the error loss on the training data is zero and therefore we this is referred to as Hard Margin SVM or Hard SVM.\n",
    "\n",
    "### Issues with hard SVM:\n",
    "It can overfit very easily and therefore cannot generalize.\n",
    "\n",
    "- Due to outliers or noisy/erroneously label observation, optimization problem can be infeasible, that is no solution.\n",
    "- Even the outliers within the boundaries can influence the margin.\n",
    "\n",
    "<img src=\"images/p10.png\" align=\"center\" height=400px width=400px>"
   ]
  },
  {
   "cell_type": "code",
   "execution_count": null,
   "id": "74711ad4",
   "metadata": {},
   "outputs": [],
   "source": []
  },
  {
   "cell_type": "code",
   "execution_count": null,
   "id": "0914c36b",
   "metadata": {},
   "outputs": [],
   "source": []
  },
  {
   "cell_type": "markdown",
   "id": "fb1e6bd7",
   "metadata": {},
   "source": [
    "#### Implementation"
   ]
  },
  {
   "cell_type": "code",
   "execution_count": 26,
   "id": "60dfc596",
   "metadata": {},
   "outputs": [],
   "source": [
    "import random\n",
    "import numpy as np\n",
    "import pandas as pd\n",
    "import matplotlib.pyplot as plt\n",
    "import seaborn as sns\n",
    "sns.set()\n",
    "\n",
    "from sklearn import preprocessing\n",
    "from sklearn import svm\n",
    "from sklearn import metrics\n",
    "from sklearn.metrics import confusion_matrix\n",
    "from sklearn.model_selection import cross_val_score\n",
    "from sklearn.model_selection import GridSearchCV\n"
   ]
  },
  {
   "cell_type": "code",
   "execution_count": 29,
   "id": "2c13f2b0",
   "metadata": {},
   "outputs": [
    {
     "data": {
      "text/plain": [
       "([-2, -5, -3, -1, -4], [0, 2, 3, 1, 4])"
      ]
     },
     "execution_count": 29,
     "metadata": {},
     "output_type": "execute_result"
    }
   ],
   "source": [
    "# Generate random points for positive class with x1 < 1\n",
    "X1_pos = random.sample(range(-5,1), 5)\n",
    "X2_pos = random.sample(range(0,5), 5)\n",
    "X1_pos, X2_pos"
   ]
  },
  {
   "cell_type": "code",
   "execution_count": 30,
   "id": "c8f52282",
   "metadata": {},
   "outputs": [
    {
     "data": {
      "text/plain": [
       "array([[-2,  0],\n",
       "       [-5,  2],\n",
       "       [-3,  3],\n",
       "       [-1,  1],\n",
       "       [-4,  4]])"
      ]
     },
     "execution_count": 30,
     "metadata": {},
     "output_type": "execute_result"
    }
   ],
   "source": [
    "X_pos = np.column_stack([X1_pos, X2_pos])\n",
    "X_pos"
   ]
  },
  {
   "cell_type": "code",
   "execution_count": 31,
   "id": "8ebaa556",
   "metadata": {},
   "outputs": [
    {
     "data": {
      "text/plain": [
       "array([[-2,  0],\n",
       "       [-5,  2],\n",
       "       [-3,  3],\n",
       "       [-1,  1],\n",
       "       [-4,  4],\n",
       "       [ 1,  1],\n",
       "       [ 1,  3]])"
      ]
     },
     "execution_count": 31,
     "metadata": {},
     "output_type": "execute_result"
    }
   ],
   "source": [
    "# Add couple of points with x1=1. These are our special support vectors\n",
    "X_pos = np.vstack([X_pos, [[1,1]], [[1,3]]])\n",
    "X_pos"
   ]
  },
  {
   "cell_type": "code",
   "execution_count": 32,
   "id": "64cb791b",
   "metadata": {},
   "outputs": [
    {
     "data": {
      "text/plain": [
       "array([[7, 3],\n",
       "       [9, 4],\n",
       "       [8, 2],\n",
       "       [6, 1],\n",
       "       [5, 5],\n",
       "       [4, 6],\n",
       "       [3, 2]])"
      ]
     },
     "execution_count": 32,
     "metadata": {},
     "output_type": "execute_result"
    }
   ],
   "source": [
    "# Generate random points for negative class with x1 > 4\n",
    "X1_neg = random.sample(range(4, 12), 6)\n",
    "X2_neg = random.sample(range(0, 7), 6)\n",
    "\n",
    "X_neg = np.column_stack([X1_neg, X2_neg])\n",
    "\n",
    "# Add a point with x=3\n",
    "X_neg = np.vstack([X_neg, [[3,2]]])\n",
    "X_neg"
   ]
  },
  {
   "cell_type": "code",
   "execution_count": 33,
   "id": "7f9b3939",
   "metadata": {},
   "outputs": [
    {
     "data": {
      "text/plain": [
       "array([[-2,  0],\n",
       "       [-5,  2],\n",
       "       [-3,  3],\n",
       "       [-1,  1],\n",
       "       [-4,  4],\n",
       "       [ 1,  1],\n",
       "       [ 1,  3],\n",
       "       [ 7,  3],\n",
       "       [ 9,  4],\n",
       "       [ 8,  2],\n",
       "       [ 6,  1],\n",
       "       [ 5,  5],\n",
       "       [ 4,  6],\n",
       "       [ 3,  2]])"
      ]
     },
     "execution_count": 33,
     "metadata": {},
     "output_type": "execute_result"
    }
   ],
   "source": [
    "# collect data together\n",
    "X = np.vstack([X_pos, X_neg])\n",
    "X"
   ]
  },
  {
   "cell_type": "code",
   "execution_count": 34,
   "id": "5746785b",
   "metadata": {},
   "outputs": [
    {
     "data": {
      "text/plain": [
       "array([1, 1, 1, 1, 1, 1, 1, 0, 0, 0, 0, 0, 0, 0])"
      ]
     },
     "execution_count": 34,
     "metadata": {},
     "output_type": "execute_result"
    }
   ],
   "source": [
    "y = np.concatenate((np.repeat(1,7), np.repeat(0,7)))\n",
    "y"
   ]
  },
  {
   "cell_type": "code",
   "execution_count": 35,
   "id": "f985e6b0",
   "metadata": {},
   "outputs": [
    {
     "data": {
      "text/html": [
       "<div>\n",
       "<style scoped>\n",
       "    .dataframe tbody tr th:only-of-type {\n",
       "        vertical-align: middle;\n",
       "    }\n",
       "\n",
       "    .dataframe tbody tr th {\n",
       "        vertical-align: top;\n",
       "    }\n",
       "\n",
       "    .dataframe thead th {\n",
       "        text-align: right;\n",
       "    }\n",
       "</style>\n",
       "<table border=\"1\" class=\"dataframe\">\n",
       "  <thead>\n",
       "    <tr style=\"text-align: right;\">\n",
       "      <th></th>\n",
       "      <th>x1</th>\n",
       "      <th>x2</th>\n",
       "      <th>y</th>\n",
       "    </tr>\n",
       "  </thead>\n",
       "  <tbody>\n",
       "    <tr>\n",
       "      <th>0</th>\n",
       "      <td>-2</td>\n",
       "      <td>0</td>\n",
       "      <td>1</td>\n",
       "    </tr>\n",
       "    <tr>\n",
       "      <th>1</th>\n",
       "      <td>-5</td>\n",
       "      <td>2</td>\n",
       "      <td>1</td>\n",
       "    </tr>\n",
       "    <tr>\n",
       "      <th>2</th>\n",
       "      <td>-3</td>\n",
       "      <td>3</td>\n",
       "      <td>1</td>\n",
       "    </tr>\n",
       "    <tr>\n",
       "      <th>3</th>\n",
       "      <td>-1</td>\n",
       "      <td>1</td>\n",
       "      <td>1</td>\n",
       "    </tr>\n",
       "    <tr>\n",
       "      <th>4</th>\n",
       "      <td>-4</td>\n",
       "      <td>4</td>\n",
       "      <td>1</td>\n",
       "    </tr>\n",
       "    <tr>\n",
       "      <th>5</th>\n",
       "      <td>1</td>\n",
       "      <td>1</td>\n",
       "      <td>1</td>\n",
       "    </tr>\n",
       "    <tr>\n",
       "      <th>6</th>\n",
       "      <td>1</td>\n",
       "      <td>3</td>\n",
       "      <td>1</td>\n",
       "    </tr>\n",
       "    <tr>\n",
       "      <th>7</th>\n",
       "      <td>7</td>\n",
       "      <td>3</td>\n",
       "      <td>0</td>\n",
       "    </tr>\n",
       "    <tr>\n",
       "      <th>8</th>\n",
       "      <td>9</td>\n",
       "      <td>4</td>\n",
       "      <td>0</td>\n",
       "    </tr>\n",
       "    <tr>\n",
       "      <th>9</th>\n",
       "      <td>8</td>\n",
       "      <td>2</td>\n",
       "      <td>0</td>\n",
       "    </tr>\n",
       "    <tr>\n",
       "      <th>10</th>\n",
       "      <td>6</td>\n",
       "      <td>1</td>\n",
       "      <td>0</td>\n",
       "    </tr>\n",
       "    <tr>\n",
       "      <th>11</th>\n",
       "      <td>5</td>\n",
       "      <td>5</td>\n",
       "      <td>0</td>\n",
       "    </tr>\n",
       "    <tr>\n",
       "      <th>12</th>\n",
       "      <td>4</td>\n",
       "      <td>6</td>\n",
       "      <td>0</td>\n",
       "    </tr>\n",
       "    <tr>\n",
       "      <th>13</th>\n",
       "      <td>3</td>\n",
       "      <td>2</td>\n",
       "      <td>0</td>\n",
       "    </tr>\n",
       "  </tbody>\n",
       "</table>\n",
       "</div>"
      ],
      "text/plain": [
       "    x1  x2  y\n",
       "0   -2   0  1\n",
       "1   -5   2  1\n",
       "2   -3   3  1\n",
       "3   -1   1  1\n",
       "4   -4   4  1\n",
       "5    1   1  1\n",
       "6    1   3  1\n",
       "7    7   3  0\n",
       "8    9   4  0\n",
       "9    8   2  0\n",
       "10   6   1  0\n",
       "11   5   5  0\n",
       "12   4   6  0\n",
       "13   3   2  0"
      ]
     },
     "execution_count": 35,
     "metadata": {},
     "output_type": "execute_result"
    }
   ],
   "source": [
    "df = pd.concat([pd.DataFrame(data = X, columns = ['x1', 'x2']),\n",
    "               pd.Series(y, name ='y')],\n",
    "              axis=1)\n",
    "df"
   ]
  },
  {
   "cell_type": "code",
   "execution_count": 38,
   "id": "a914d23a",
   "metadata": {},
   "outputs": [
    {
     "data": {
      "text/plain": [
       "(array([2., 2., 2., 2., 2., 2., 2., 2., 2., 2., 2., 2.]),\n",
       " array([-2.        , -0.72727273,  0.54545455,  1.81818182,  3.09090909,\n",
       "         4.36363636,  5.63636364,  6.90909091,  8.18181818,  9.45454545,\n",
       "        10.72727273, 12.        ]))"
      ]
     },
     "execution_count": 38,
     "metadata": {},
     "output_type": "execute_result"
    }
   ],
   "source": [
    "# Plot the data\n",
    "# Use axes level function in sns to draw the random plot\n",
    "\n",
    "# Co-ordinates for lines\n",
    "margin_X = 2 * np.ones(12)\n",
    "margin_Y = np.linspace(-2, 12, num=12)\n",
    "\n",
    "margin_X, margin_Y"
   ]
  },
  {
   "cell_type": "code",
   "execution_count": 41,
   "id": "f5dede63",
   "metadata": {},
   "outputs": [
    {
     "data": {
      "text/plain": [
       "(array([1., 1., 1., 1., 1., 1., 1., 1., 1., 1., 1., 1.]),\n",
       " array([-2.        , -0.72727273,  0.54545455,  1.81818182,  3.09090909,\n",
       "         4.36363636,  5.63636364,  6.90909091,  8.18181818,  9.45454545,\n",
       "        10.72727273, 12.        ]),\n",
       " array([3., 3., 3., 3., 3., 3., 3., 3., 3., 3., 3., 3.]),\n",
       " array([-2.        , -0.72727273,  0.54545455,  1.81818182,  3.09090909,\n",
       "         4.36363636,  5.63636364,  6.90909091,  8.18181818,  9.45454545,\n",
       "        10.72727273, 12.        ]))"
      ]
     },
     "execution_count": 41,
     "metadata": {},
     "output_type": "execute_result"
    }
   ],
   "source": [
    "gutter1_X = np.ones(12)\n",
    "gutter1_Y = np.linspace(-2, 12, num=12)\n",
    "\n",
    "gutter2_X = 3 * np.ones(12)\n",
    "gutter2_Y = np.linspace(-2, 12, num=12)\n",
    "\n",
    "gutter1_X, gutter1_Y, gutter2_X, gutter2_Y"
   ]
  },
  {
   "cell_type": "code",
   "execution_count": 44,
   "id": "684a7b58",
   "metadata": {},
   "outputs": [
    {
     "data": {
      "image/png": "[encoded data removed]",
      "text/plain": [
       "<Figure size 576x540 with 1 Axes>"
      ]
     },
     "metadata": {},
     "output_type": "display_data"
    }
   ],
   "source": [
    "# Prepare the plot\n",
    "fig, ax = plt.subplots(figsize = (8, 7.5))\n",
    "sns.scatterplot(x='x1', y='x2', hue='y', style='y', data=df, s=100)\n",
    "ax.axhline(y=0, linewidth=1)\n",
    "ax.axvline(x=0, linewidth=1);\n"
   ]
  },
  {
   "cell_type": "code",
   "execution_count": 46,
   "id": "bd0870aa",
   "metadata": {},
   "outputs": [
    {
     "data": {
      "text/plain": [
       "Text(3, 2, 'D')"
      ]
     },
     "execution_count": 46,
     "metadata": {},
     "output_type": "execute_result"
    },
    {
     "data": {
      "image/png": "[encoded data removed]",
      "text/plain": [
       "<Figure size 432x288 with 1 Axes>"
      ]
     },
     "metadata": {},
     "output_type": "display_data"
    }
   ],
   "source": [
    "plt.plot(margin_X, margin_Y, color='r')\n",
    "plt.plot(gutter1_X, gutter1_Y, 'g-.')\n",
    "plt.plot(gutter2_X, gutter2_Y, 'g-.')\n",
    "\n",
    "plt.text(x=1, y=3, s=\"A\")\n",
    "plt.text(x=1, y=1, s=\"B\")\n",
    "plt.text(x=3, y=2, s=\"D\")"
   ]
  },
  {
   "cell_type": "code",
   "execution_count": 47,
   "id": "950960d5",
   "metadata": {},
   "outputs": [
    {
     "data": {
      "text/plain": [
       "Text(3, 2, 'D')"
      ]
     },
     "execution_count": 47,
     "metadata": {},
     "output_type": "execute_result"
    },
    {
     "data": {
      "image/png": "[encoded data removed]",
      "text/plain": [
       "<Figure size 576x540 with 1 Axes>"
      ]
     },
     "metadata": {},
     "output_type": "display_data"
    }
   ],
   "source": [
    "# Prepare the plot\n",
    "fig, ax = plt.subplots(figsize = (8, 7.5))\n",
    "sns.scatterplot(x='x1', y='x2', hue='y', style='y', data=df, s=100)\n",
    "ax.axhline(y=0, linewidth=1)\n",
    "ax.axvline(x=0, linewidth=1);\n",
    "\n",
    "plt.plot(margin_X, margin_Y, color='r')\n",
    "plt.plot(gutter1_X, gutter1_Y, 'g-.')\n",
    "plt.plot(gutter2_X, gutter2_Y, 'g-.')\n",
    "\n",
    "plt.text(x=1, y=3, s=\"A\")\n",
    "plt.text(x=1, y=1, s=\"B\")\n",
    "plt.text(x=3, y=2, s=\"D\")\n"
   ]
  },
  {
   "cell_type": "code",
   "execution_count": 48,
   "id": "f926b94f",
   "metadata": {},
   "outputs": [
    {
     "data": {
      "text/plain": [
       "array([[3., 2.],\n",
       "       [1., 1.],\n",
       "       [1., 3.]])"
      ]
     },
     "execution_count": 48,
     "metadata": {},
     "output_type": "execute_result"
    }
   ],
   "source": [
    "# Fit the model\n",
    "model = svm.SVC(kernel='linear')\n",
    "model.fit(X,y)\n",
    "model.support_vectors_"
   ]
  },
  {
   "cell_type": "code",
   "execution_count": 50,
   "id": "fa416eff",
   "metadata": {},
   "outputs": [
    {
     "data": {
      "text/plain": [
       "array([13,  5,  6], dtype=int32)"
      ]
     },
     "execution_count": 50,
     "metadata": {},
     "output_type": "execute_result"
    }
   ],
   "source": [
    "# get indices of support vectors\n",
    "model.support_"
   ]
  },
  {
   "cell_type": "code",
   "execution_count": 51,
   "id": "e1313f5d",
   "metadata": {},
   "outputs": [
    {
     "data": {
      "text/plain": [
       "array([1, 2], dtype=int32)"
      ]
     },
     "execution_count": 51,
     "metadata": {},
     "output_type": "execute_result"
    }
   ],
   "source": [
    "# get number of support vectors for each class\n",
    "model.n_support_"
   ]
  },
  {
   "cell_type": "code",
   "execution_count": 52,
   "id": "e735d5be",
   "metadata": {},
   "outputs": [
    {
     "data": {
      "text/plain": [
       "array([[-0.50021647,  0.25010824,  0.25010824]])"
      ]
     },
     "execution_count": 52,
     "metadata": {},
     "output_type": "execute_result"
    }
   ],
   "source": [
    "model.dual_coef_"
   ]
  },
  {
   "cell_type": "markdown",
   "id": "3bdf4dec",
   "metadata": {},
   "source": [
    "> Note: Reconcile the above values with manually calculated $\\mathbf{\\alpha}$"
   ]
  },
  {
   "cell_type": "code",
   "execution_count": 53,
   "id": "7c14442c",
   "metadata": {},
   "outputs": [
    {
     "data": {
      "text/plain": [
       "array([[-1.00043294e+00, -1.11022302e-16]])"
      ]
     },
     "execution_count": 53,
     "metadata": {},
     "output_type": "execute_result"
    }
   ],
   "source": [
    "model.coef_"
   ]
  },
  {
   "cell_type": "markdown",
   "id": "3bb07d03",
   "metadata": {},
   "source": [
    "> Note: Reconcile the above values with the values calculated for $\\mathbf{\\vec{w}}$"
   ]
  },
  {
   "cell_type": "code",
   "execution_count": 55,
   "id": "a75f500a",
   "metadata": {},
   "outputs": [
    {
     "data": {
      "text/plain": [
       "array([2.00072157])"
      ]
     },
     "execution_count": 55,
     "metadata": {},
     "output_type": "execute_result"
    }
   ],
   "source": [
    "model.intercept_"
   ]
  },
  {
   "cell_type": "markdown",
   "id": "47a68ed3",
   "metadata": {},
   "source": [
    "> Note: Reconcile the above with values calculated for b"
   ]
  },
  {
   "cell_type": "code",
   "execution_count": null,
   "id": "8c9f7dd1",
   "metadata": {},
   "outputs": [],
   "source": []
  },
  {
   "cell_type": "code",
   "execution_count": null,
   "id": "2c6317f0",
   "metadata": {},
   "outputs": [],
   "source": []
  },
  {
   "cell_type": "markdown",
   "id": "501505f4",
   "metadata": {},
   "source": [
    "<h2 align=\"center\"> Soft Margin SVM</h2>\n",
    "\n",
    "**The soft margin allows for some misclassification of the data points in order to maximize the margin. This is useful when the data is not linearly separable and there are some outliers or noise in the data. The regularization parameter `C` controls the trade-off between maximizing the margin and minimizing the misclassification.**\n",
    "\n",
    "#### Intuition:\n",
    "Consider the following data, we do not have a linear separability\n",
    "<img src=\"images/p11.png\" height=300px width=300px >\n",
    "\n",
    "- Hard SVM will not be able to find the separating hyper-plane because of its constraints. \n",
    "- We have allowed the `soft SVM` for this type of problem."
   ]
  },
  {
   "cell_type": "markdown",
   "id": "c6e63835",
   "metadata": {},
   "source": [
    "### Mathematical Formulation\n",
    "\n",
    "**Step 1: Constraint for Soft SVM**\n",
    "\n",
    "- In support vector classifiers With the hard constraint, we maximise the width of the hyperplane $\\frac{2}{\\lVert{w}\\rVert}$. This is same as minimising `L2` norm of `w`. $\\frac{\\lVert{w}\\rVert}{2}^2$\n",
    "\n",
    "**Questions:** What happens if the points are not linearly separable? Consider diagram below, there are some blue points mixed up with red points and it is not possible to draw a line separating the two set of points.\n",
    "\n",
    "<img src=\"images/p12.png\" height=300px width=300px >\n",
    "\n",
    "\n",
    "**Solution** is to relax the rule when it is too hard to follow the constraint. Allow some `wiggle room` to break the rules, but put some controls on the amount of violations allowed. Wiggle room allowed can be denoted by a `positive slack` variable $\\xi_i, i=1, 2, 3..l$ in the constraints where $\\mathbf{l}$ is the number of training examples.\n",
    "\n",
    "<img src=\"images/p13.png\" height=300px width=300px >\n",
    "\n",
    "> **Note:** `slack` is the distance from support vector plane to the individual points. It is not the distance from the decision boundary(median of the hyperplane). In the above diagram, `yellow line` denotes the support vector for the blue dots. Hence, slack is the distance from the yellow line to the blue dots that are erraneously in the red side. If there are points on the correct side of hyperplane, but still within support vector margin, those points will also have a slack variable.\n",
    "\n",
    "- $\\xi_i = 0$ means we have correctly classified the point.\n",
    "- $0 < \\xi_i < 1$ means we have correctly classified the point, but point lies betweeen decision bounday and support vector margin\n",
    "- $\\xi_i > 1$ means we have misclassified the point\n",
    "\n",
    "With the slack variable, updated constraints becomes:\n",
    "\n",
    "\n",
    "$$x_i.w + b \\ge +1 - \\xi_i \\text{for} y_i = +1$$\n",
    "\n",
    "$$x_i.w + b \\le -1 + \\xi_i \\text{for} y_i = -1$$\n",
    "\n",
    "$$x_i.w + b \\le -1( 1 - \\xi_i) \\text{for} y_i = -1$$\n",
    "\n",
    "$$\\xi_i \\ge 0 \\text{ for every i}$$\n",
    "\n",
    "\n",
    "**Decision rule** $y_i(\\vec{w}x_i + b) \\ge 1$ can be rewritten as:\n",
    "$$y_i(\\vec{w}x_i + b) \\ge 1 - \\xi_i$$\n",
    "\n",
    "such that $\\sum \\xi_i$ is as small as possible.\n",
    "\n",
    "Slacking is allowed only when necessary. If that is not the case, every margin will be infinitely large with maximum slacking possible. To make sure slacking is controlled, we need to modify the original minimisation objective to incorporate minimising the $\\sum \\xi_i$. So, the new objective function to minimise is \n",
    "\n",
    "$$\\frac{\\lVert{w}\\rVert^2}{2} + C \\sum \\xi_i$$\n",
    "\n",
    "> **Note:** `C` is the hyperparameter that pays for the losses.\n",
    "\n",
    "This can be extended into L1 loss and L2 loss as:\n",
    "\n",
    "$$\\textrm{L1 Loss:} \\frac{\\lVert{w}\\rVert^2}{2} + C \\sum \\xi_i$$\n",
    "\n",
    "$$\\textrm{L2 Loss:} \\frac{\\lVert{w}\\rVert^2}{2} + C \\sum (\\xi_i)^2$$"
   ]
  },
  {
   "cell_type": "markdown",
   "id": "91d24d3c",
   "metadata": {},
   "source": [
    "<h3 align=\"center\">Optimisation of Soft Margin SVM</h3>\n",
    "\n",
    "- To optimize the soft margin SVM using `KKT` conditions, one would iteratively update the weight vector, bias term and Lagrange multipliers until all the KKT conditions are met. This can be done by using optimization algorithms such as the Sequential Minimal Optimization `(SMO)` algorithm, which is a heuristic algorithm that iteratively optimizes a pair of Lagrange multipliers at a time.\n",
    "The KKT conditions for the soft margin SVM problem are as follows:\n",
    "\n",
    "- Primal feasibility\n",
    "- Dual feasibility\n",
    "- Complementary slackness\n",
    "- Stationarity\n",
    "\n",
    "Let us now look at how to optimise the objective function subject to the constraints we have developed so far. Our objective function is :\n",
    "\n",
    "$$\\frac{\\lVert{w}\\rVert^2}{2} + C \\sum \\xi_i$$\n",
    "\n",
    "Constraints formulate are: \n",
    "$$y_i(\\vec{w}x_i + b) \\ge 1 - \\xi_i$$\n",
    "$$\\xi_i \\ge 0 \\text{ for every i}$$\n",
    "\n",
    "\n",
    "To maximise or minimise the objective with inequality constraints, we use `Karush-Kuhn-Tucker` conditions to solve for the optimisation problem. Approach involves formulating a lagragian primal problem and checking the various KKT conditions listed below.\n",
    "\n",
    "To formulate the lagrangian primal problem, we combine the constraints listed above by introducing lagrangian multipliers $\\mathbf{\\alpha}$\n",
    "and $\\mathbf {\\mu}$\n",
    "\n",
    "Langrangian primal problem after combining the objective function and constraints formulated above are:\n",
    "\n",
    "<img src=\"images/p14.png\" height=600px width=600px>\n",
    "\n",
    "> Note: where $\\mathbf{\\mu_i}$ and $\\mathbf{\\alpha_i}$ are the Lagrangian multipliers introduced.\n",
    "\n",
    "In the below equations, `i` runs from 1 to the number of training points, and $v$ runs from 1 to dimension of data. From stationarity conditions from KKT, we will differentiate w.r.t changing variables and assign them to 0;\n",
    "\n",
    "<img src=\"images/p15.png\" height=500px width=500px>\n",
    "\n",
    "<img src=\"images/p16.png\" height=500px width=500px>\n",
    "\n",
    "\n",
    "In addition, there is one more variable $\\xi$ that is now involved in the stationarity condition \n",
    "\n",
    "$$\\frac{\\partial{L_p}}{\\partial{\\xi_i}} = C - \\alpha_i - \\mu_i = 0 \\cdots\\cdots equation_4$$\n",
    "\n",
    "\n",
    "From dual feasibility conditions from KKT: \n",
    "\n",
    "$$y_i (x_i.w + b)- 1 + \\xi_i \\ge 0 \\longrightarrow equation_5$$\n",
    "\n",
    "$$\\xi_i \\ge 0 \\cdots\\cdots equation_6$$\n",
    "\n",
    "$$\\alpha_i \\ge 0 \\cdots\\cdots equation_7$$\n",
    "\n",
    "$$\\mu_i \\ge 0 \\cdots\\cdots equation_8$$ \n",
    "\n",
    "From complementary slackness conditions from KKT:\n",
    "\n",
    "$$\\alpha_i \\{y_i (x_i.w + b)- 1 + \\xi_i\\} = 0 \\cdots\\cdots equation_9$$\n",
    "\n",
    "$$\\mu_i \\xi_i = 0 \\cdots\\cdots equation_{10}$$"
   ]
  },
  {
   "cell_type": "markdown",
   "id": "79f46f22",
   "metadata": {},
   "source": [
    "### Deriving intuitions on solution, $\\alpha$ and $C$\n",
    "\n",
    "For points on the wrong side of support vector margin, Combining equations 4, 7 and 10\n",
    "$$\\frac{\\partial{L_p}}{\\partial{\\xi_i}} = C - \\alpha_i - \\mu_i = 0 \\cdots\\cdots equation_4$$\n",
    "\n",
    "$$\\alpha_i \\ge 0 \\cdots\\cdots equation_7$$\n",
    "\n",
    "$$\\mu_i \\xi_i = 0 \\cdots\\cdots equation_{10}$$\n",
    "\n",
    "- From $equation_4$ $\\mu_i = C - \\alpha_i$\n",
    "- Substituting $\\mathbf{\\mu_i}$ into $equation_10$\n",
    "\n",
    "$$(C - \\alpha_i) \\xi_i = 0$$\n",
    "\n",
    "- We also have $\\alpha_i \\ge 0 \\cdots\\cdots equation_7$\n",
    "\n",
    "S0, from $equation_7$ and $equation_10$, we have got \n",
    "\n",
    "$$(C - \\alpha_i) \\xi_i = 0 \\;and\\;  \\alpha_i \\gt 0$$\n",
    "\n",
    "Consider points where $(x_i.w + b)< 1$. For such points, we know the slack variable is allowed. \n",
    "\n",
    "$$\\xi_i \\neq 0 \\; then \\;  C = \\alpha_i$$\n",
    "\n",
    "Conversely, consider $\\alpha_i = C$\n",
    "\n",
    "$$\\alpha_i \\{y_i (x_i.w + b)- 1 + \\xi_i\\} = 0 \\cdots\\cdots equation_9$$\n",
    "\n",
    "$$\\{y_i (x_i.w + b)- 1 + \\xi_i\\} = 0$$\n",
    "\n",
    "$$y_i(x_i.w + b) = 1 - \\xi_i$$\n",
    "\n",
    "$$y_i(x_i.w + b) \\le 1$$\n",
    "\n",
    "In the code below, printing out $\\mathbf{\\alpha_i}$(dual_coef in sklearn construct) for different `C`, it can be observed that for some points $C=\\alpha_i$. We can then infer that those points are the ones where slack variable is allowed (i.e, points are either on the wrong side of the hyperplane or points are between the dividing hyperplane and support vector margin)\n",
    "\n",
    "$$ \\alpha_i < C \\; then \\; \\xi_i=0$$\n",
    "\n",
    "**For points on the correct side of support vector margin:** \n",
    "\n",
    "From complementary slackness conditions from KKT:\n",
    "$$\\alpha_i \\{y_i (x_i.w + b)- 1 + \\xi_i\\} = 0 \\cdots\\cdots equation_9$$\n",
    "\n",
    "\n",
    "For the points that are correctly classified $y_i (x_i.w + b) > 1$. $y_i (x_i.w + b)- 1$is greater than 0. So, $\\mathbf{\\alpha_i}$ is 0, for points that lie on the correct side of the hyperplane. This leads to the sparsity of the solution. This is also the basis of the common gyan that non support vectors coefficient is 0."
   ]
  },
  {
   "cell_type": "markdown",
   "id": "d944275e",
   "metadata": {},
   "source": [
    "### Insights from Optimisation\n",
    "\n",
    "- $\\xi$ is the distance from the gutter of the hyperplane and not the decision boundary.\n",
    "- `C` is the cost of slacking the algorithm adopts. For small values of C, cost of slacking is small. Therefore, more misclassification is allowed to achieve the objective of maximising margin and obtaining a large margin. If C is very high, the algorithm needs to pay a lot for the mistakes, so width of the hyperplane tends to be narrower. When C is high, cost of slacking is high, margin is smaller.\n",
    "\n",
    "- When the points are in the same side of the decision boundary, but within the gutters, there is still a price to pay. This is the situation where $0 < \\xi < 1$\n",
    "\n",
    "- Misclassified points are also part of the support vectors \n",
    "- $\\alpha$  is box constrained between `0` and `C`\n",
    "\n",
    "- Most important data points are the support vectors with the highest values of alpha\n",
    "\n",
    "- For the non separable case, upper bound of alpha on C puts a maximum limit on the influence any point can have on the final outcome.\n",
    "\n",
    "- Because `C` is dependant on the number of training examples, there is a strategy to evaluate scaling of C with the number of training examples. How do we optimally adjust C to account for the different amount of training samples?\n",
    "\n",
    "\n",
    "> **Note:** We can scale `C` to compensate for the change in the number of samples, in the case of using an `l1` penalty, as well as the `l2` penalty. In the l1 case, theory says that prediction consistency (i.e. that under given hypothesis, the estimator learned predicts as well as a model knowing the true distribution) is not possible because of the bias of the l1. It does say, however, that model consistency, in terms of finding the right set of non-zero parameters as well as their signs, can be achieved by scaling `l2`"
   ]
  },
  {
   "cell_type": "markdown",
   "id": "8c5abe2d",
   "metadata": {},
   "source": [
    "### Formulating as Hinge Loss\n",
    "\n",
    "- **Hinge loss** is a loss function used in maximum-margin classification, such as support vector machines (SVMs). It is a type of loss function that is used to measure the difference between the predicted output and the true output.\n",
    "\n",
    "- In SVMs, the goal is to maximize the margin, which is the distance between the decision boundary (i.e., the hyperplane) and the closest data points from each class, also known as support vectors. However, in real-world datasets, it is often not possible to find a perfect decision boundary that separates all the data points from different classes perfectly, so allowing for some misclassifications is necessary.\n",
    "\n",
    "\n",
    "Since, we have overall objective of minimising $\\mathbf{\\xi_i}$, if the point is classified perfectly without the need for slack variable $\\mathbf{\\xi_i}$, the algorithm needs to do that. So, $\\mathbf{\\xi_i} =0 $for those cases.This can be formalised as \n",
    "\n",
    "$$\\xi_i = 0 \\; \\textrm{if} \\;\\;\\;  y_i(\\vec{w}x_i + b) >= 1$$\n",
    "\n",
    "\n",
    "For other cases, slack variable $\\mathbf{\\xi_i}$ is set as the distance from the separating gutter.i.e if $y_i(\\vec{w}x_i + b)<1$\n",
    "\n",
    "$$\\xi_i = 1 - y_i(\\vec{w}x_i + b)$$\n",
    "\n",
    "Both the conditions above can be combined to obtain the following\n",
    "\n",
    "$$\\xi_i = max (0 , 1-y_i(\\vec{w}x_i + b)$$ \n",
    "\n",
    "Objective function to minimise - \n",
    "$$\\frac{\\lVert{w}\\rVert^2}{2} + \\sum \\xi_i$$\n",
    "\n",
    "can be upgraded as \n",
    "\n",
    "$$\\frac{\\lVert{w}\\rVert^2}{2} + C* \\sum max (0 , 1-y_i(\\vec{w}x_i + b)$$\n",
    "\n",
    "#### SVM Hinge Loss insights\n",
    "\n",
    "Objective function to minimise in SVM is: \n",
    "\n",
    "$$\\frac{\\lVert{w}\\rVert^2}{2} + C* \\sum max (0 , 1-y_i(\\vec{w}x_i + b)$$\n",
    "\n",
    "The component  $ max (0 , 1-y_i(\\vec{w}x_i + b)$ looks at the loss coming from each training sample. So, this is the loss function. The component $\\frac{\\lVert{w}\\rVert^2}{2}$ is the component that keeps the solution simple. Minimal weights needed for the hyperplane. This is the regularization function.\n",
    "\n",
    "Multiplying the equation through by $\\frac{1}{2C n}$\n",
    "\n",
    "$$\\frac{1}{2C n} \\frac{\\lVert{w}\\rVert^2}{2} + 1/2n * \\sum max (0 , 1-y_i(\\vec{w}x_i + b)$$\n",
    "\n",
    "So, the above objective function can be rewitten as Loss function + $\\lambda $* Regularization function.  \n",
    "\n",
    "- **Loss Function: $1/2n * \\sum max (0 , 1-y_i(\\vec{w}x_i + b)$\n",
    "- **Regularization:** $\\frac{1}{2C n} \\frac{\\lVert{w}\\rVert^2}{2}$\n",
    "\n",
    "$\\lambda = \\frac{1}{2C n}$ This also confirms the intuition how large values of C leads to less regularization."
   ]
  },
  {
   "cell_type": "markdown",
   "id": "881ffc86",
   "metadata": {},
   "source": [
    "### Implementation"
   ]
  },
  {
   "cell_type": "code",
   "execution_count": 81,
   "id": "768262f9",
   "metadata": {},
   "outputs": [],
   "source": [
    "import random\n",
    "\n",
    "import pandas as pd\n",
    "import numpy as np\n",
    "\n",
    "from sklearn import svm\n",
    "from sklearn.model_selection import GridSearchCV\n",
    "from matplotlib import pyplot as plt"
   ]
  },
  {
   "cell_type": "code",
   "execution_count": 70,
   "id": "eb7eefd7",
   "metadata": {},
   "outputs": [
    {
     "data": {
      "text/plain": [
       "(array([[2, 1],\n",
       "        [3, 1],\n",
       "        [0, 4]]),\n",
       " array([[7, 1],\n",
       "        [2, 5],\n",
       "        [1, 7]]))"
      ]
     },
     "execution_count": 70,
     "metadata": {},
     "output_type": "execute_result"
    }
   ],
   "source": [
    "# train data\n",
    "sns.set_style(\"ticks\")\n",
    "def ymxb(slope, intercept, x):\n",
    "    return slope * x + intercept\n",
    "\n",
    "\n",
    "def generate_linear_points(num_points, slope, line1_intercept, line2_intercept):\n",
    "    x1 = [random.randrange(start=0, stop=9) for i in range(num_points)]\n",
    "    x2 = [random.randrange(start=0, stop=9) for i in range(num_points)]\n",
    "    y1 = [ymxb(slope, line1_intercept, x) - random.randrange(start=1, stop=3) for x in x1]\n",
    "    y2 = [ymxb(slope, line2_intercept, x) + random.randrange(start=1, stop=4) for x in x2]\n",
    "    return np.c_[x1, y1], np.c_[x2, y2]\n",
    "\n",
    "num_points_correct = 20\n",
    "random.seed(21)\n",
    "X_pos, X_neg = generate_linear_points(num_points_correct, -1, 5, 6)\n",
    "\n",
    "# Generate mistaken points\n",
    "random.seed(22)\n",
    "num_points_misclass = 3\n",
    "x_pos, x_neg = generate_linear_points(num_points_misclass, -1, 5, 6)\n",
    "\n",
    "x_pos, x_neg"
   ]
  },
  {
   "cell_type": "code",
   "execution_count": 71,
   "id": "2deac7c3",
   "metadata": {},
   "outputs": [
    {
     "data": {
      "text/plain": [
       "array([[ 2,  1],\n",
       "       [ 6, -2],\n",
       "       [ 6, -2],\n",
       "       [ 4,  0],\n",
       "       [ 7, -4],\n",
       "       [ 3,  1],\n",
       "       [ 7, -3],\n",
       "       [ 8, -4],\n",
       "       [ 2,  2],\n",
       "       [ 8, -4],\n",
       "       [ 8, -4],\n",
       "       [ 3,  0],\n",
       "       [ 0,  3],\n",
       "       [ 0,  4],\n",
       "       [ 5, -2],\n",
       "       [ 6, -2],\n",
       "       [ 1,  2],\n",
       "       [ 2,  1],\n",
       "       [ 3,  0],\n",
       "       [ 3,  0],\n",
       "       [ 7,  1],\n",
       "       [ 2,  5],\n",
       "       [ 1,  7]])"
      ]
     },
     "execution_count": 71,
     "metadata": {},
     "output_type": "execute_result"
    }
   ],
   "source": [
    "# concatenate the 2 lists that are returned by the function, to pass in a single function\n",
    "X_pos = np.vstack([X_pos,x_neg])\n",
    "X_neg  = np.vstack([X_neg, x_pos])\n",
    "\n",
    "X_pos"
   ]
  },
  {
   "cell_type": "code",
   "execution_count": 72,
   "id": "cba22623",
   "metadata": {},
   "outputs": [
    {
     "data": {
      "text/plain": [
       "array([[ 0,  9],\n",
       "       [ 6,  2],\n",
       "       [ 6,  2],\n",
       "       [ 7,  1],\n",
       "       [ 0,  8],\n",
       "       [ 5,  3],\n",
       "       [ 8, -1],\n",
       "       [ 7,  0],\n",
       "       [ 1,  6],\n",
       "       [ 5,  4],\n",
       "       [ 0,  9],\n",
       "       [ 2,  6],\n",
       "       [ 1,  6],\n",
       "       [ 1,  7],\n",
       "       [ 0,  7],\n",
       "       [ 7,  2],\n",
       "       [ 2,  7],\n",
       "       [ 8,  1],\n",
       "       [ 5,  4],\n",
       "       [ 6,  1],\n",
       "       [ 2,  1],\n",
       "       [ 3,  1],\n",
       "       [ 0,  4]])"
      ]
     },
     "execution_count": 72,
     "metadata": {},
     "output_type": "execute_result"
    }
   ],
   "source": [
    "X_neg"
   ]
  },
  {
   "cell_type": "code",
   "execution_count": 73,
   "id": "b62362d9",
   "metadata": {},
   "outputs": [
    {
     "data": {
      "image/png": "[encoded data removed]",
      "text/plain": [
       "<Figure size 432x288 with 1 Axes>"
      ]
     },
     "metadata": {},
     "output_type": "display_data"
    }
   ],
   "source": [
    "# Concatenate the 2 together\n",
    "X = np.vstack([X_pos, X_neg])\n",
    "y = np.hstack([np.ones(num_points_correct + num_points_misclass ).T, \n",
    "               np.ones(num_points_correct + num_points_misclass).T *-1])\n",
    "plt.title(\"Train Data\")\n",
    "plt.scatter(X[:, 0], X[:, 1], c = y);"
   ]
  },
  {
   "cell_type": "code",
   "execution_count": 76,
   "id": "be2bea56",
   "metadata": {},
   "outputs": [
    {
     "data": {
      "text/plain": [
       "(array([[ 4,  0],\n",
       "        [ 1,  3],\n",
       "        [ 0,  3],\n",
       "        [ 4,  0],\n",
       "        [ 6, -2],\n",
       "        [ 6, -2],\n",
       "        [ 8, -4],\n",
       "        [ 5, -2],\n",
       "        [ 2,  2],\n",
       "        [ 3,  0],\n",
       "        [ 4, -1],\n",
       "        [ 7, -4],\n",
       "        [ 0,  4],\n",
       "        [ 3,  0],\n",
       "        [ 7, -4],\n",
       "        [ 0,  3],\n",
       "        [ 1,  2],\n",
       "        [ 1,  3],\n",
       "        [ 7, -4],\n",
       "        [ 6, -2]]),\n",
       " array([[0, 7],\n",
       "        [8, 1],\n",
       "        [6, 1],\n",
       "        [5, 4],\n",
       "        [0, 8],\n",
       "        [3, 4],\n",
       "        [0, 8],\n",
       "        [5, 4],\n",
       "        [2, 5],\n",
       "        [3, 6],\n",
       "        [5, 4],\n",
       "        [5, 2],\n",
       "        [4, 4],\n",
       "        [5, 2],\n",
       "        [1, 7],\n",
       "        [7, 0],\n",
       "        [2, 5],\n",
       "        [7, 2],\n",
       "        [7, 1],\n",
       "        [2, 6]]))"
      ]
     },
     "execution_count": 76,
     "metadata": {},
     "output_type": "execute_result"
    }
   ],
   "source": [
    "# test data\n",
    "num_points_correct = 20\n",
    "random.seed(23)\n",
    "X_pos_test, X_neg_test = generate_linear_points(num_points_correct, -1, 5, 6)\n",
    "\n",
    "# Generate mistaken points\n",
    "num_points_misclass = 3\n",
    "random.seed(24)\n",
    "x_pos_test, x_neg_test = generate_linear_points(num_points_misclass, -1, 5, 6)\n",
    "\n",
    "X_pos_test, X_neg_test"
   ]
  },
  {
   "cell_type": "code",
   "execution_count": 77,
   "id": "9aed1b4b",
   "metadata": {},
   "outputs": [
    {
     "data": {
      "text/plain": [
       "(array([[ 0,  7],\n",
       "        [ 8,  1],\n",
       "        [ 6,  1],\n",
       "        [ 5,  4],\n",
       "        [ 0,  8],\n",
       "        [ 3,  4],\n",
       "        [ 0,  8],\n",
       "        [ 5,  4],\n",
       "        [ 2,  5],\n",
       "        [ 3,  6],\n",
       "        [ 5,  4],\n",
       "        [ 5,  2],\n",
       "        [ 4,  4],\n",
       "        [ 5,  2],\n",
       "        [ 1,  7],\n",
       "        [ 7,  0],\n",
       "        [ 2,  5],\n",
       "        [ 7,  2],\n",
       "        [ 7,  1],\n",
       "        [ 2,  6],\n",
       "        [ 6, -2],\n",
       "        [ 2,  2],\n",
       "        [ 3,  0]]),\n",
       " array([[ 0,  7],\n",
       "        [ 8,  1],\n",
       "        [ 6,  1],\n",
       "        [ 5,  4],\n",
       "        [ 0,  8],\n",
       "        [ 3,  4],\n",
       "        [ 0,  8],\n",
       "        [ 5,  4],\n",
       "        [ 2,  5],\n",
       "        [ 3,  6],\n",
       "        [ 5,  4],\n",
       "        [ 5,  2],\n",
       "        [ 4,  4],\n",
       "        [ 5,  2],\n",
       "        [ 1,  7],\n",
       "        [ 7,  0],\n",
       "        [ 2,  5],\n",
       "        [ 7,  2],\n",
       "        [ 7,  1],\n",
       "        [ 2,  6],\n",
       "        [ 6, -2],\n",
       "        [ 2,  2],\n",
       "        [ 3,  0]]))"
      ]
     },
     "execution_count": 77,
     "metadata": {},
     "output_type": "execute_result"
    }
   ],
   "source": [
    "# concatenate the 2 lists that are returned by the function, to pass in a single function\n",
    "X_pos_test = np.vstack([X_pos_test,x_neg_test])\n",
    "X_neg_test  = np.vstack([X_neg_test, x_pos_test])\n",
    "\n",
    "X_neg_test, X_neg_test"
   ]
  },
  {
   "cell_type": "code",
   "execution_count": 79,
   "id": "45b7819a",
   "metadata": {},
   "outputs": [
    {
     "data": {
      "image/png": "[encoded data removed]",
      "text/plain": [
       "<Figure size 432x288 with 1 Axes>"
      ]
     },
     "metadata": {},
     "output_type": "display_data"
    }
   ],
   "source": [
    "# Concatenate the 2 together\n",
    "X_test = np.vstack([X_pos_test, X_neg_test])\n",
    "y_test = np.hstack([np.ones(num_points_correct + num_points_misclass ).T, \n",
    "               np.ones(num_points_correct + num_points_misclass).T * -1])\n",
    "\n",
    "plt.title(\"Test Data\")\n",
    "plt.scatter(X_test[:, 0], X_test[:, 1], c = y_test);"
   ]
  },
  {
   "cell_type": "code",
   "execution_count": 82,
   "id": "ccb76de8",
   "metadata": {},
   "outputs": [
    {
     "ename": "AttributeError",
     "evalue": "module 'numpy' has no attribute 'int'",
     "output_type": "error",
     "traceback": [
      "\u001b[0;31m---------------------------------------------------------------------------\u001b[0m",
      "\u001b[0;31mAttributeError\u001b[0m                            Traceback (most recent call last)",
      "Input \u001b[0;32mIn [82]\u001b[0m, in \u001b[0;36m<cell line: 7>\u001b[0;34m()\u001b[0m\n\u001b[1;32m      5\u001b[0m svc \u001b[38;5;241m=\u001b[39m svm\u001b[38;5;241m.\u001b[39mSVC()\n\u001b[1;32m      6\u001b[0m clf \u001b[38;5;241m=\u001b[39m GridSearchCV(svc, parameters)\n\u001b[0;32m----> 7\u001b[0m \u001b[43mclf\u001b[49m\u001b[38;5;241;43m.\u001b[39;49m\u001b[43mfit\u001b[49m\u001b[43m(\u001b[49m\u001b[43mX\u001b[49m\u001b[43m,\u001b[49m\u001b[43m \u001b[49m\u001b[43my\u001b[49m\u001b[43m)\u001b[49m\n\u001b[1;32m      8\u001b[0m df_results \u001b[38;5;241m=\u001b[39m pd\u001b[38;5;241m.\u001b[39mDataFrame(clf\u001b[38;5;241m.\u001b[39mcv_results_)\n\u001b[1;32m      9\u001b[0m df_results\n",
      "File \u001b[0;32m~/.local/lib/python3.8/site-packages/sklearn/utils/validation.py:72\u001b[0m, in \u001b[0;36m_deprecate_positional_args.<locals>.inner_f\u001b[0;34m(*args, **kwargs)\u001b[0m\n\u001b[1;32m     67\u001b[0m     warnings\u001b[38;5;241m.\u001b[39mwarn(\u001b[38;5;124m\"\u001b[39m\u001b[38;5;124mPass \u001b[39m\u001b[38;5;132;01m{}\u001b[39;00m\u001b[38;5;124m as keyword args. From version 0.25 \u001b[39m\u001b[38;5;124m\"\u001b[39m\n\u001b[1;32m     68\u001b[0m                   \u001b[38;5;124m\"\u001b[39m\u001b[38;5;124mpassing these as positional arguments will \u001b[39m\u001b[38;5;124m\"\u001b[39m\n\u001b[1;32m     69\u001b[0m                   \u001b[38;5;124m\"\u001b[39m\u001b[38;5;124mresult in an error\u001b[39m\u001b[38;5;124m\"\u001b[39m\u001b[38;5;241m.\u001b[39mformat(\u001b[38;5;124m\"\u001b[39m\u001b[38;5;124m, \u001b[39m\u001b[38;5;124m\"\u001b[39m\u001b[38;5;241m.\u001b[39mjoin(args_msg)),\n\u001b[1;32m     70\u001b[0m                   \u001b[38;5;167;01mFutureWarning\u001b[39;00m)\n\u001b[1;32m     71\u001b[0m kwargs\u001b[38;5;241m.\u001b[39mupdate({k: arg \u001b[38;5;28;01mfor\u001b[39;00m k, arg \u001b[38;5;129;01min\u001b[39;00m \u001b[38;5;28mzip\u001b[39m(sig\u001b[38;5;241m.\u001b[39mparameters, args)})\n\u001b[0;32m---> 72\u001b[0m \u001b[38;5;28;01mreturn\u001b[39;00m \u001b[43mf\u001b[49m\u001b[43m(\u001b[49m\u001b[38;5;241;43m*\u001b[39;49m\u001b[38;5;241;43m*\u001b[39;49m\u001b[43mkwargs\u001b[49m\u001b[43m)\u001b[49m\n",
      "File \u001b[0;32m~/.local/lib/python3.8/site-packages/sklearn/model_selection/_search.py:736\u001b[0m, in \u001b[0;36mBaseSearchCV.fit\u001b[0;34m(self, X, y, groups, **fit_params)\u001b[0m\n\u001b[1;32m    732\u001b[0m         results \u001b[38;5;241m=\u001b[39m \u001b[38;5;28mself\u001b[39m\u001b[38;5;241m.\u001b[39m_format_results(\n\u001b[1;32m    733\u001b[0m             all_candidate_params, scorers, n_splits, all_out)\n\u001b[1;32m    734\u001b[0m         \u001b[38;5;28;01mreturn\u001b[39;00m results\n\u001b[0;32m--> 736\u001b[0m     \u001b[38;5;28;43mself\u001b[39;49m\u001b[38;5;241;43m.\u001b[39;49m\u001b[43m_run_search\u001b[49m\u001b[43m(\u001b[49m\u001b[43mevaluate_candidates\u001b[49m\u001b[43m)\u001b[49m\n\u001b[1;32m    738\u001b[0m \u001b[38;5;66;03m# For multi-metric evaluation, store the best_index_, best_params_ and\u001b[39;00m\n\u001b[1;32m    739\u001b[0m \u001b[38;5;66;03m# best_score_ iff refit is one of the scorer names\u001b[39;00m\n\u001b[1;32m    740\u001b[0m \u001b[38;5;66;03m# In single metric evaluation, refit_metric is \"score\"\u001b[39;00m\n\u001b[1;32m    741\u001b[0m \u001b[38;5;28;01mif\u001b[39;00m \u001b[38;5;28mself\u001b[39m\u001b[38;5;241m.\u001b[39mrefit \u001b[38;5;129;01mor\u001b[39;00m \u001b[38;5;129;01mnot\u001b[39;00m \u001b[38;5;28mself\u001b[39m\u001b[38;5;241m.\u001b[39mmultimetric_:\n\u001b[1;32m    742\u001b[0m     \u001b[38;5;66;03m# If callable, refit is expected to return the index of the best\u001b[39;00m\n\u001b[1;32m    743\u001b[0m     \u001b[38;5;66;03m# parameter set.\u001b[39;00m\n",
      "File \u001b[0;32m~/.local/lib/python3.8/site-packages/sklearn/model_selection/_search.py:1188\u001b[0m, in \u001b[0;36mGridSearchCV._run_search\u001b[0;34m(self, evaluate_candidates)\u001b[0m\n\u001b[1;32m   1186\u001b[0m \u001b[38;5;28;01mdef\u001b[39;00m \u001b[38;5;21m_run_search\u001b[39m(\u001b[38;5;28mself\u001b[39m, evaluate_candidates):\n\u001b[1;32m   1187\u001b[0m     \u001b[38;5;124;03m\"\"\"Search all candidates in param_grid\"\"\"\u001b[39;00m\n\u001b[0;32m-> 1188\u001b[0m     \u001b[43mevaluate_candidates\u001b[49m\u001b[43m(\u001b[49m\u001b[43mParameterGrid\u001b[49m\u001b[43m(\u001b[49m\u001b[38;5;28;43mself\u001b[39;49m\u001b[38;5;241;43m.\u001b[39;49m\u001b[43mparam_grid\u001b[49m\u001b[43m)\u001b[49m\u001b[43m)\u001b[49m\n",
      "File \u001b[0;32m~/.local/lib/python3.8/site-packages/sklearn/model_selection/_search.py:732\u001b[0m, in \u001b[0;36mBaseSearchCV.fit.<locals>.evaluate_candidates\u001b[0;34m(candidate_params)\u001b[0m\n\u001b[1;32m    729\u001b[0m all_out\u001b[38;5;241m.\u001b[39mextend(out)\n\u001b[1;32m    731\u001b[0m \u001b[38;5;28;01mnonlocal\u001b[39;00m results\n\u001b[0;32m--> 732\u001b[0m results \u001b[38;5;241m=\u001b[39m \u001b[38;5;28;43mself\u001b[39;49m\u001b[38;5;241;43m.\u001b[39;49m\u001b[43m_format_results\u001b[49m\u001b[43m(\u001b[49m\n\u001b[1;32m    733\u001b[0m \u001b[43m    \u001b[49m\u001b[43mall_candidate_params\u001b[49m\u001b[43m,\u001b[49m\u001b[43m \u001b[49m\u001b[43mscorers\u001b[49m\u001b[43m,\u001b[49m\u001b[43m \u001b[49m\u001b[43mn_splits\u001b[49m\u001b[43m,\u001b[49m\u001b[43m \u001b[49m\u001b[43mall_out\u001b[49m\u001b[43m)\u001b[49m\n\u001b[1;32m    734\u001b[0m \u001b[38;5;28;01mreturn\u001b[39;00m results\n",
      "File \u001b[0;32m~/.local/lib/python3.8/site-packages/sklearn/model_selection/_search.py:844\u001b[0m, in \u001b[0;36mBaseSearchCV._format_results\u001b[0;34m(self, candidate_params, scorers, n_splits, out)\u001b[0m\n\u001b[1;32m    840\u001b[0m results[\u001b[38;5;124m'\u001b[39m\u001b[38;5;124mparams\u001b[39m\u001b[38;5;124m'\u001b[39m] \u001b[38;5;241m=\u001b[39m candidate_params\n\u001b[1;32m    842\u001b[0m \u001b[38;5;66;03m# NOTE test_sample counts (weights) remain the same for all candidates\u001b[39;00m\n\u001b[1;32m    843\u001b[0m test_sample_counts \u001b[38;5;241m=\u001b[39m np\u001b[38;5;241m.\u001b[39marray(test_sample_counts[:n_splits],\n\u001b[0;32m--> 844\u001b[0m                               dtype\u001b[38;5;241m=\u001b[39m\u001b[43mnp\u001b[49m\u001b[38;5;241;43m.\u001b[39;49m\u001b[43mint\u001b[49m)\n\u001b[1;32m    846\u001b[0m \u001b[38;5;28;01mif\u001b[39;00m \u001b[38;5;28mself\u001b[39m\u001b[38;5;241m.\u001b[39miid \u001b[38;5;241m!=\u001b[39m \u001b[38;5;124m'\u001b[39m\u001b[38;5;124mdeprecated\u001b[39m\u001b[38;5;124m'\u001b[39m:\n\u001b[1;32m    847\u001b[0m     warnings\u001b[38;5;241m.\u001b[39mwarn(\n\u001b[1;32m    848\u001b[0m         \u001b[38;5;124m\"\u001b[39m\u001b[38;5;124mThe parameter \u001b[39m\u001b[38;5;124m'\u001b[39m\u001b[38;5;124miid\u001b[39m\u001b[38;5;124m'\u001b[39m\u001b[38;5;124m is deprecated in 0.22 and will be \u001b[39m\u001b[38;5;124m\"\u001b[39m\n\u001b[1;32m    849\u001b[0m         \u001b[38;5;124m\"\u001b[39m\u001b[38;5;124mremoved in 0.24.\u001b[39m\u001b[38;5;124m\"\u001b[39m, \u001b[38;5;167;01mFutureWarning\u001b[39;00m\n\u001b[1;32m    850\u001b[0m     )\n",
      "File \u001b[0;32m~/.local/lib/python3.8/site-packages/numpy/__init__.py:284\u001b[0m, in \u001b[0;36m__getattr__\u001b[0;34m(attr)\u001b[0m\n\u001b[1;32m    281\u001b[0m     \u001b[38;5;28;01mfrom\u001b[39;00m \u001b[38;5;21;01m.\u001b[39;00m\u001b[38;5;21;01mtesting\u001b[39;00m \u001b[38;5;28;01mimport\u001b[39;00m Tester\n\u001b[1;32m    282\u001b[0m     \u001b[38;5;28;01mreturn\u001b[39;00m Tester\n\u001b[0;32m--> 284\u001b[0m \u001b[38;5;28;01mraise\u001b[39;00m \u001b[38;5;167;01mAttributeError\u001b[39;00m(\u001b[38;5;124m\"\u001b[39m\u001b[38;5;124mmodule \u001b[39m\u001b[38;5;132;01m{!r}\u001b[39;00m\u001b[38;5;124m has no attribute \u001b[39m\u001b[38;5;124m\"\u001b[39m\n\u001b[1;32m    285\u001b[0m                      \u001b[38;5;124m\"\u001b[39m\u001b[38;5;132;01m{!r}\u001b[39;00m\u001b[38;5;124m\"\u001b[39m\u001b[38;5;241m.\u001b[39mformat(\u001b[38;5;18m__name__\u001b[39m, attr))\n",
      "\u001b[0;31mAttributeError\u001b[0m: module 'numpy' has no attribute 'int'"
     ]
    }
   ],
   "source": [
    "# Perform GridSearchCV across a lost of values of C for the linear kernel.\n",
    "parameters = {'C':[0.01, 0.1, 1, 10], \n",
    "              'kernel': ['linear']}\n",
    "\n",
    "svc = svm.SVC()\n",
    "clf = GridSearchCV(svc, parameters)\n",
    "clf.fit(X, y)\n",
    "df_results = pd.DataFrame(clf.cv_results_)\n",
    "df_results"
   ]
  },
  {
   "cell_type": "code",
   "execution_count": 84,
   "id": "06b3d9d0",
   "metadata": {},
   "outputs": [],
   "source": [
    "# To understand the behaviour of the hyperplanes, let us plot the hyperplane\n"
   ]
  },
  {
   "cell_type": "markdown",
   "id": "3c9569c1",
   "metadata": {},
   "source": [
    "### Plot Hyperplane\n",
    "\n",
    "**Decision rule:**\n",
    "\n",
    "$$y = \\vec{w}\\vec{x} + b$$\n",
    "\n",
    "**for positive support vector decision boundary**\n",
    "\n",
    "$$\\vec{w}\\vec{x} + b = 1$$\n",
    "\n",
    "**for negative support vector decision boundary**\n",
    "$$\\vec{w}\\vec{x} + b = -1$$\n",
    "\n",
    "**for decision boundary**\n",
    "\n",
    "$$\\vec{w}\\vec{x} + b = 0$$\n",
    "\n",
    "To draw the hyperplane, for a given point `x`, we need the corresponding `y`. So, consider $\\mathbf{\\vec{x}}$  as $\\mathbf{x_i}$, $\\mathbf{y_i}$. $\\mathbf{\\vec{w}}$ has 2 points $\\mathbf{w_0}$ and $\\mathbf{w_1}$.\n",
    "\n",
    "Let `v` be the value to be subtituted. Rewriting equation above,\n",
    "\n",
    "$$v = w_0.x_i + w_1.y_i + b$$\n",
    "\n",
    "$$y_i = \\frac{v - w_0.x_i - b}{w_1}$$"
   ]
  },
  {
   "cell_type": "code",
   "execution_count": 86,
   "id": "a331eae9",
   "metadata": {},
   "outputs": [],
   "source": [
    "def hyperplane(x,w,b,v):\n",
    "    # v = (w.x+b)\n",
    "    return (-w[0]*x-b+v) / w[1]"
   ]
  },
  {
   "cell_type": "markdown",
   "id": "973dd0f4",
   "metadata": {},
   "source": [
    "<img src=\"images/p23.png\">"
   ]
  },
  {
   "cell_type": "markdown",
   "id": "26c8ea15",
   "metadata": {},
   "source": [
    "#### Insights regarding C\n",
    "\n",
    "- For `C=.01`, margin width is very high. A lot of points are categorized as support vectors. Regularisation is inversely proportional to the value of C. Hence, this classifier is the least regularized classifier.\n",
    "\n",
    "<img src=\"images/p17.png\" align=\"center\">\n",
    "\n",
    "- For `C= .1`, margin width is lower than `C = .01`. Both gutters have moved by one line. \n",
    "\n",
    "<img src=\"images/p18.png\" align=\"center\">\n",
    "\n",
    "- For `C=1` and `C=10`, the margins move slightly closer.\n",
    "<img src=\"images/p19.png\" align=\"center\">\n",
    "<img src=\"images/p20.png\" align=\"center\">\n",
    "\n"
   ]
  },
  {
   "cell_type": "markdown",
   "id": "862d87a0",
   "metadata": {},
   "source": [
    "### Plot Hinge Loss vs. Squared Hinge Loss"
   ]
  },
  {
   "cell_type": "code",
   "execution_count": 91,
   "id": "ed19dd91",
   "metadata": {},
   "outputs": [],
   "source": [
    "# Plot Hinge Loss : max(0, 1 - yi*decision_function) (C = 10)\n",
    "clf = svm.SVC(kernel = 'linear', C = 10)\n",
    "clf.fit(X,y)\n",
    "hinge_loss =  np.maximum(0, 1 - y*clf.decision_function(X))\n",
    "plt.scatter(y*clf.decision_function(X) , hinge_loss);"
   ]
  },
  {
   "cell_type": "code",
   "execution_count": 92,
   "id": "4992580b",
   "metadata": {},
   "outputs": [],
   "source": [
    "# Plot Squared Hinge Loss (C = 10)\n",
    "hinge_loss =  np.maximum(0, 1 - y*clf.decision_function(X))\n",
    "squared_hinge_loss = hinge_loss ** 2\n",
    "plt.scatter(y*clf.decision_function(X) , squared_hinge_loss )"
   ]
  },
  {
   "cell_type": "code",
   "execution_count": null,
   "id": "92832b80",
   "metadata": {},
   "outputs": [],
   "source": [
    "# Plot Hinge Loss : max(0, 1 - yi*decision_function) (C = 1)\n",
    "\n",
    "clf = svm.SVC(kernel = 'linear', C = 1)\n",
    "clf.fit(X,y)\n",
    "hinge_loss =  np.maximum(0, 1 - y*clf.decision_function(X))\n",
    "plt.scatter(y*clf.decision_function(X) , hinge_loss)"
   ]
  },
  {
   "cell_type": "code",
   "execution_count": null,
   "id": "8708b7d1",
   "metadata": {},
   "outputs": [],
   "source": [
    "\n",
    "# Plot Squared Hinge Loss : max(0, 1 - yi*decision_function) (C = 1)\n",
    "squared_hinge_loss = hinge_loss ** 2\n",
    "plt.scatter(y*clf.decision_function(X) , squared_hinge_loss )"
   ]
  },
  {
   "cell_type": "code",
   "execution_count": null,
   "id": "5aca1c1c",
   "metadata": {},
   "outputs": [],
   "source": [
    "\n",
    "# Plot Hinge Loss : max(0, 1 - yi*decision_function) (C = .1)\n",
    "clf = svm.SVC(kernel = 'linear', C = .1)\n",
    "clf.fit(X,y)\n",
    "hinge_loss =  np.maximum(0, 1 - y*clf.decision_function(X))\n",
    "plt.scatter(y*clf.decision_function(X) , hinge_loss)"
   ]
  },
  {
   "cell_type": "code",
   "execution_count": null,
   "id": "3bd717ca",
   "metadata": {},
   "outputs": [],
   "source": [
    "\n",
    "# Plot Squared Hinge Loss : max(0, 1 - yi*decision_function) (C = .1)\n",
    "squared_hinge_loss = hinge_loss ** 2\n",
    "plt.scatter(y*clf.decision_function(X) , squared_hinge_loss )"
   ]
  },
  {
   "cell_type": "code",
   "execution_count": null,
   "id": "34c11e1b",
   "metadata": {},
   "outputs": [],
   "source": []
  },
  {
   "cell_type": "markdown",
   "id": "c06168ed",
   "metadata": {},
   "source": [
    "<h2 align=\"center\">kernel trick SVM</h2>\n",
    "\n",
    "The kernel trick is a mathematical technique used in support vector machines (SVMs) to transform the input data into a higher dimensional space where it is possible to find a linear boundary. This allows SVMs to perform well even when the data is not linearly separable in its original space.\n",
    "\n",
    "There are several types of kernels that can be used in SVMs, including:\n",
    "\n",
    "- **Linear kernel:** This is the default kernel used in SVMs. It does not use the kernel trick, and simply performs a linear boundary separation.\n",
    "\n",
    "- **Polynomial kernel:** This kernel raises the input data to a specified power (degree) and then performs a linear boundary separation in the transformed space.\n",
    "\n",
    "- **Radial basis function (RBF) kernel:** This kernel uses the radial distance between the input data and a fixed point (the \"center\" of the kernel) to perform a non-linear boundary separation.\n",
    "\n",
    "- **Sigmoid kernel:** This kernel uses the sigmoid function to perform a non-linear boundary separation.\n",
    "\n",
    "- **Custom kernel:** It's possible to use a custom kernel as well, in which case the kernel function needs to be defined by the user."
   ]
  },
  {
   "cell_type": "code",
   "execution_count": null,
   "id": "a58b330c",
   "metadata": {},
   "outputs": [],
   "source": []
  },
  {
   "cell_type": "code",
   "execution_count": null,
   "id": "59daca58",
   "metadata": {},
   "outputs": [],
   "source": []
  },
  {
   "cell_type": "code",
   "execution_count": null,
   "id": "f8c33630",
   "metadata": {},
   "outputs": [],
   "source": []
  },
  {
   "cell_type": "code",
   "execution_count": null,
   "id": "476df2f3",
   "metadata": {},
   "outputs": [],
   "source": []
  },
  {
   "cell_type": "code",
   "execution_count": null,
   "id": "802fd048",
   "metadata": {},
   "outputs": [],
   "source": []
  },
  {
   "cell_type": "code",
   "execution_count": 13,
   "id": "3920ee0d",
   "metadata": {},
   "outputs": [
    {
     "data": {
      "text/plain": [
       "array([[ 1.41281595,  1.5303347 ],\n",
       "       [ 1.81336135,  1.6311307 ],\n",
       "       [ 1.43289271,  4.37679234],\n",
       "       [ 1.87271752,  4.18069237],\n",
       "       [ 2.09517785,  1.0791468 ],\n",
       "       [ 2.73890793,  0.15676817],\n",
       "       [ 3.18515794,  0.08900822],\n",
       "       [ 2.06156753,  1.96918596],\n",
       "       [ 2.03835818,  1.15466278],\n",
       "       [-0.04749204,  5.47425256],\n",
       "       [ 1.71444449,  5.02521524],\n",
       "       [ 0.22459286,  4.77028154],\n",
       "       [ 1.06923853,  4.53068484],\n",
       "       [ 1.53278923,  0.55035386],\n",
       "       [ 1.4949318 ,  3.85848832],\n",
       "       [ 1.1641107 ,  3.79132988],\n",
       "       [ 0.74387399,  4.12240568],\n",
       "       [ 2.29667251,  0.48677761],\n",
       "       [ 0.44359863,  3.11530945],\n",
       "       [ 0.91433877,  4.55014643],\n",
       "       [ 1.67467427,  0.68001896],\n",
       "       [ 2.26908736,  1.32160756],\n",
       "       [ 1.5108885 ,  0.9288309 ],\n",
       "       [ 1.65179125,  0.68193176],\n",
       "       [ 2.49272186,  0.97505341],\n",
       "       [ 2.33812285,  3.43116792],\n",
       "       [ 0.67047877,  4.04094275],\n",
       "       [-0.55552381,  4.69595848],\n",
       "       [ 2.16172321,  0.6565951 ],\n",
       "       [ 2.09680487,  3.7174206 ],\n",
       "       [ 2.18023251,  1.48364708],\n",
       "       [ 0.43899014,  4.53592883],\n",
       "       [ 1.24258802,  4.50399192],\n",
       "       [ 0.00793137,  4.17614316],\n",
       "       [ 1.89593761,  5.18540259],\n",
       "       [ 1.868336  ,  0.93136287],\n",
       "       [ 2.13141478,  1.13885728],\n",
       "       [ 1.06269622,  5.17635143],\n",
       "       [ 2.33466499, -0.02408255],\n",
       "       [ 0.669787  ,  3.59540802],\n",
       "       [ 1.07714851,  1.17533301],\n",
       "       [ 1.54632313,  4.212973  ],\n",
       "       [ 1.56737975, -0.1381059 ],\n",
       "       [ 1.35617762,  1.43815955],\n",
       "       [ 1.00372519,  4.19147702],\n",
       "       [ 1.29297652,  1.47930168],\n",
       "       [ 2.94821884,  2.03519717],\n",
       "       [ 0.3471383 ,  3.45177657],\n",
       "       [ 2.76253526,  0.78970876],\n",
       "       [ 0.76752279,  4.39759671]])"
      ]
     },
     "execution_count": 13,
     "metadata": {},
     "output_type": "execute_result"
    }
   ],
   "source": [
    "# import the necessary libraries\n",
    "import numpy as np\n",
    "import matplotlib.pyplot as plt\n",
    "from sklearn import datasets\n",
    "from sklearn.model_selection import train_test_split\n",
    "from sklearn import svm\n",
    "\n",
    "# load the dataset\n",
    "X, y = datasets.make_blobs(n_samples=50, centers=2, random_state=0, cluster_std=0.60)\n",
    "\n",
    "X"
   ]
  },
  {
   "cell_type": "code",
   "execution_count": 14,
   "id": "0210fef3",
   "metadata": {},
   "outputs": [
    {
     "data": {
      "text/plain": [
       "array([1, 0, 0, 0, 0, 0, 1, 0, 1, 1, 0, 1, 0, 0, 0, 1, 0, 1, 1, 0])"
      ]
     },
     "execution_count": 14,
     "metadata": {},
     "output_type": "execute_result"
    }
   ],
   "source": [
    "# split the dataset into training and testing sets\n",
    "X_train, X_test, y_train, y_test = train_test_split(X, y, test_size=0.4, random_state=0)\n",
    "\n",
    "# create the SVM model with a linear kernel\n",
    "clf = svm.SVC(kernel='linear', C=1)\n",
    "\n",
    "# train the model\n",
    "clf.fit(X_train, y_train)\n",
    "\n",
    "# predict on the test set\n",
    "y_pred = clf.predict(X_test)\n",
    "\n",
    "y_pred"
   ]
  },
  {
   "cell_type": "code",
   "execution_count": 15,
   "id": "b979b0aa",
   "metadata": {},
   "outputs": [
    {
     "name": "stdout",
     "output_type": "stream",
     "text": [
      "Accuracy: 1.0\n"
     ]
    }
   ],
   "source": [
    "# evaluate the model\n",
    "score = clf.score(X_test, y_test)\n",
    "print(\"Accuracy:\", score)\n"
   ]
  },
  {
   "cell_type": "code",
   "execution_count": 16,
   "id": "d473af50",
   "metadata": {},
   "outputs": [
    {
     "data": {
      "text/plain": [
       "<matplotlib.collections.PathCollection at 0x7f9f1431d4f0>"
      ]
     },
     "execution_count": 16,
     "metadata": {},
     "output_type": "execute_result"
    },
    {
     "data": {
      "image/png": "[encoded data removed]",
      "text/plain": [
       "<Figure size 432x288 with 1 Axes>"
      ]
     },
     "metadata": {
      "needs_background": "light"
     },
     "output_type": "display_data"
    }
   ],
   "source": [
    "# plot the decision boundary\n",
    "plt.scatter(X[:, 0], X[:, 1], c=y, s=30, cmap=plt.cm.Paired)"
   ]
  },
  {
   "cell_type": "code",
   "execution_count": 19,
   "id": "b138d226",
   "metadata": {},
   "outputs": [
    {
     "data": {
      "image/png": "[encoded data removed]",
      "text/plain": [
       "<Figure size 432x288 with 1 Axes>"
      ]
     },
     "metadata": {
      "needs_background": "light"
     },
     "output_type": "display_data"
    }
   ],
   "source": [
    "# plot the decision boundary\n",
    "plt.scatter(X[:, 0], X[:, 1], c=y, s=30, cmap=plt.cm.Paired)\n",
    "\n",
    "# plot the decision boundary\n",
    "ax = plt.gca()\n",
    "xlim = ax.get_xlim()\n",
    "ylim = ax.get_ylim()\n",
    "\n",
    "# create grid to evaluate model\n",
    "xx = np.linspace(xlim[0], xlim[1], 30)\n",
    "yy = np.linspace(ylim[0], ylim[1], 30)\n",
    "YY, XX = np.meshgrid(yy, xx)\n",
    "xy = np.vstack([XX.ravel(), YY.ravel()]).T\n",
    "Z = clf.decision_function(xy).reshape(XX.shape)\n",
    "\n",
    "# plot decision boundary and margins\n",
    "ax.contour(XX, YY, Z, colors='k', levels=[-1, 0, 1], alpha=0.5,\n",
    "           linestyles=['--', '-', '--'])\n",
    "\n",
    "ax.scatter(clf.support_vectors_[:, 0], clf.support_vectors_[:, 1], s=100,\n",
    "linewidth=1, facecolors='none', edgecolors='k')\n",
    "\n",
    "plt.show()"
   ]
  },
  {
   "cell_type": "code",
   "execution_count": null,
   "id": "84cf8d8d",
   "metadata": {},
   "outputs": [],
   "source": []
  },
  {
   "cell_type": "code",
   "execution_count": null,
   "id": "e78d7f79",
   "metadata": {},
   "outputs": [],
   "source": []
  },
  {
   "cell_type": "code",
   "execution_count": null,
   "id": "c42a7fe1",
   "metadata": {},
   "outputs": [],
   "source": []
  },
  {
   "cell_type": "markdown",
   "id": "a11f1313",
   "metadata": {},
   "source": [
    "## SVC for  multiclass classification"
   ]
  },
  {
   "cell_type": "markdown",
   "id": "4e0225b7",
   "metadata": {},
   "source": [
    "## Purpose\n",
    "Purpose of the notebook is to deep dive into multiclass classification of SVM. Different variants of SVM handle multi class classification differently. For example, SVM with linear kernel does one vs. one classification under the hood. LineasrSVC does one vs. rest classification. Aim is to visualise one vs. one  and one vs. rest algorithms in the 3D space.\n",
    "\n",
    "### One vs. One\n",
    "\n",
    "Mode11        |  Model2 |  Model3\n",
    ":-------------------------:|:-------------------------:|:-------------------------:\n",
    "![mdl1](./images/ovo1.png)|![mdl2](./images/ovo2.png)|![mdl3](./images/ovo3.png)\n",
    "\n",
    "### One vs. Rest\n",
    "\n",
    "Mode11        |  Model2 |  Model3\n",
    ":-------------------------:|:-------------------------:|:-------------------------:\n",
    "![mdl1](./images/ovr1.png)|![mdl2](./images/ovr2.png)|![mdl3](./images/ovr3.png)"
   ]
  },
  {
   "cell_type": "code",
   "execution_count": null,
   "id": "d7220532",
   "metadata": {},
   "outputs": [],
   "source": []
  },
  {
   "cell_type": "code",
   "execution_count": 2,
   "id": "8378c9d9",
   "metadata": {},
   "outputs": [],
   "source": [
    "from mpl_toolkits import mplot3d\n",
    "from ipywidgets import interact\n",
    "import numpy as np\n",
    "import matplotlib.pyplot as plt\n",
    "from sklearn import svm, datasets"
   ]
  },
  {
   "cell_type": "code",
   "execution_count": null,
   "id": "d7da411f",
   "metadata": {},
   "outputs": [],
   "source": []
  },
  {
   "cell_type": "markdown",
   "id": "3575d76f",
   "metadata": {},
   "source": [
    "### Function"
   ]
  },
  {
   "cell_type": "code",
   "execution_count": 3,
   "id": "36c1aeaf",
   "metadata": {},
   "outputs": [],
   "source": [
    "def make_meshgrid(x, y, h=.02):\n",
    "    \"\"\"Create a mesh of points to plot in\n",
    "\n",
    "    Parameters\n",
    "    ----------\n",
    "    x: data to base x-axis meshgrid on\n",
    "    y: data to base y-axis meshgrid on\n",
    "    h: stepsize for meshgrid, optional\n",
    "\n",
    "    Returns\n",
    "    -------\n",
    "    xx, yy : ndarray\n",
    "    \"\"\"\n",
    "    x_min, x_max = x.min() - 1, x.max() + 1\n",
    "    y_min, y_max = y.min() - 1, y.max() + 1\n",
    "    xx, yy = np.meshgrid(np.arange(x_min, x_max, h),\n",
    "                         np.arange(y_min, y_max, h)\n",
    "                             )\n",
    "    return xx, yy"
   ]
  },
  {
   "cell_type": "code",
   "execution_count": null,
   "id": "3333cfd1",
   "metadata": {},
   "outputs": [],
   "source": []
  },
  {
   "cell_type": "markdown",
   "id": "eabc84e8",
   "metadata": {},
   "source": [
    "### Load dataset"
   ]
  },
  {
   "cell_type": "code",
   "execution_count": 4,
   "id": "fee7d750",
   "metadata": {},
   "outputs": [
    {
     "name": "stdout",
     "output_type": "stream",
     "text": [
      "(3,)\n",
      "[[-0.30488777  0.71125336 -1.15277433]\n",
      " [-0.02638523  0.23746706 -0.68601595]\n",
      " [ 0.56787236  0.63516669 -3.43616864]]\n"
     ]
    }
   ],
   "source": [
    "# import some data to play with\n",
    "iris = datasets.load_iris()\n",
    "# Take the first three features. \n",
    "X = iris.data[:, :3]\n",
    "y = iris.target\n",
    "\n",
    "# we create an instance of SVM and fit out data. We do not scale our\n",
    "# data since we want to plot the support vectors\n",
    "C = 1.0  # SVM regularization parameter\n",
    "# models = (svm.SVC(kernel='linear', C=C),\n",
    "#           svm.LinearSVC(C=C, max_iter=10000),\n",
    "#           svm.SVC(kernel='rbf', gamma=0.7, C=C),\n",
    "#           svm.SVC(kernel='poly', degree=3, gamma='auto', C=C))\n",
    "# models = (clf.fit(X, y) for clf in models)\n",
    "\n",
    "# title for the plots\n",
    "titles = ('SVC with linear kernel',\n",
    "          'LinearSVC (linear kernel)',\n",
    "          'SVC with RBF kernel',\n",
    "          'SVC with polynomial (degree 3) kernel')\n",
    "\n",
    "\n",
    "X0, X1, X2 = X[:, 0], X[:, 1], X[:, 2]\n",
    "xx, yy = make_meshgrid(X0, X1)\n",
    "\n",
    "clf = svm.SVC(kernel='linear', C=C)\n",
    "# clf = svm.LinearSVC(C=C, max_iter=10000)\n",
    "clf.fit(X, y)\n",
    "\n",
    "print(clf.intercept_.shape)\n",
    "print(clf.coef_)\n",
    "\n",
    "z0 = lambda x,y: (-clf.intercept_[0]-clf.coef_[0][0]*x-clf.coef_[0][1]*y) / clf.coef_[0][2]\n",
    "z1 = lambda x,y: (-clf.intercept_[1]-clf.coef_[1][0]*x-clf.coef_[1][1]*y) / clf.coef_[1][2]\n",
    "z2 = lambda x,y: (-clf.intercept_[2]-clf.coef_[2][0]*x-clf.coef_[2][1]*y) / clf.coef_[2][2]\n"
   ]
  },
  {
   "cell_type": "code",
   "execution_count": 5,
   "id": "34bf7bbb",
   "metadata": {},
   "outputs": [
    {
     "data": {
      "text/plain": [
       "SVC(kernel='linear')"
      ]
     },
     "execution_count": 5,
     "metadata": {},
     "output_type": "execute_result"
    }
   ],
   "source": [
    "clf"
   ]
  },
  {
   "cell_type": "code",
   "execution_count": null,
   "id": "ec5e3602",
   "metadata": {},
   "outputs": [],
   "source": []
  },
  {
   "cell_type": "code",
   "execution_count": null,
   "id": "7a1bc5fa",
   "metadata": {},
   "outputs": [],
   "source": []
  },
  {
   "cell_type": "markdown",
   "id": "07a87c1b",
   "metadata": {},
   "source": [
    "### Visualize SVC one_vs_one classification\n",
    "#### Plot model1"
   ]
  },
  {
   "cell_type": "code",
   "execution_count": 6,
   "id": "2398a5ac",
   "metadata": {},
   "outputs": [
    {
     "data": {
      "application/vnd.jupyter.widget-view+json": {
       "model_id": "21fdc3a2f4a142f2af8a4744d96a4a56",
       "version_major": 2,
       "version_minor": 0
      },
      "text/plain": [
       "interactive(children=(IntSlider(value=30, description='elev', max=90, min=-90), IntSlider(value=30, descriptio…"
      ]
     },
     "metadata": {},
     "output_type": "display_data"
    }
   ],
   "source": [
    "\n",
    "\n",
    "%matplotlib inline\n",
    "\n",
    "def plot_3D_z0(elev=30, azim=30):\n",
    "    ax = plt.subplot(projection='3d')\n",
    "    ax.scatter3D(X0, X1, X2, c=y, s=50, cmap='spring')\n",
    "    ax.plot_surface(xx, yy, z0(xx, yy))\n",
    "    ax.view_init(elev=elev, azim=azim)\n",
    "    ax.set_xlabel('x')\n",
    "    ax.set_ylabel('y')\n",
    "    ax.set_zlabel('z')\n",
    "\n",
    "interact(plot_3D_z0, elev=(-90, 90), azim=(-180, 180));"
   ]
  },
  {
   "cell_type": "code",
   "execution_count": null,
   "id": "75657b7f",
   "metadata": {},
   "outputs": [],
   "source": []
  },
  {
   "cell_type": "code",
   "execution_count": null,
   "id": "ef0aadaa",
   "metadata": {},
   "outputs": [],
   "source": []
  },
  {
   "cell_type": "markdown",
   "id": "f9e53dea",
   "metadata": {},
   "source": [
    "#### Plot Model2"
   ]
  },
  {
   "cell_type": "code",
   "execution_count": 7,
   "id": "a3d63274",
   "metadata": {},
   "outputs": [
    {
     "data": {
      "application/vnd.jupyter.widget-view+json": {
       "model_id": "8aa1142887d24463a1e6dc77414a3f92",
       "version_major": 2,
       "version_minor": 0
      },
      "text/plain": [
       "interactive(children=(IntSlider(value=30, description='elev', max=90, min=-90), IntSlider(value=30, descriptio…"
      ]
     },
     "metadata": {},
     "output_type": "display_data"
    }
   ],
   "source": [
    "def plot_3D_z1(elev=30, azim=30):\n",
    "    ax = plt.subplot(projection='3d')\n",
    "    ax.scatter3D(X0, X1, X2, c=y, s=50, cmap='spring')\n",
    "    ax.plot_surface(xx, yy, z1(xx, yy))\n",
    "    ax.view_init(elev=elev, azim=azim)\n",
    "    ax.set_xlabel('x')\n",
    "    ax.set_ylabel('y')\n",
    "    ax.set_zlabel('z')\n",
    "\n",
    "interact(plot_3D_z1, elev=(-90, 90), azim=(-180, 180));"
   ]
  },
  {
   "cell_type": "code",
   "execution_count": null,
   "id": "4b9ca6fe",
   "metadata": {},
   "outputs": [],
   "source": []
  },
  {
   "cell_type": "code",
   "execution_count": null,
   "id": "b839a562",
   "metadata": {},
   "outputs": [],
   "source": []
  },
  {
   "cell_type": "markdown",
   "id": "7aab180a",
   "metadata": {},
   "source": [
    "#### Plot Model3"
   ]
  },
  {
   "cell_type": "code",
   "execution_count": 8,
   "id": "cb745152",
   "metadata": {},
   "outputs": [
    {
     "data": {
      "application/vnd.jupyter.widget-view+json": {
       "model_id": "3edaf978ef4e43ef817c02b1dd4d2bf1",
       "version_major": 2,
       "version_minor": 0
      },
      "text/plain": [
       "interactive(children=(IntSlider(value=30, description='elev', max=90, min=-90), IntSlider(value=30, descriptio…"
      ]
     },
     "metadata": {},
     "output_type": "display_data"
    }
   ],
   "source": [
    "def plot_3D_z2(elev=30, azim=30):\n",
    "    ax = plt.subplot(projection='3d')\n",
    "    ax.scatter3D(X0, X1, X2, c=y, s=50, cmap='spring')\n",
    "    ax.plot_surface(xx, yy, z2(xx, yy))\n",
    "    ax.view_init(elev=elev, azim=azim)\n",
    "    ax.set_xlabel('x')\n",
    "    ax.set_ylabel('y')\n",
    "    ax.set_zlabel('z')\n",
    "\n",
    "interact(plot_3D_z2, elev=(-90, 90), azim=(-180, 180));"
   ]
  },
  {
   "cell_type": "code",
   "execution_count": null,
   "id": "dccd26e7",
   "metadata": {},
   "outputs": [],
   "source": []
  },
  {
   "cell_type": "code",
   "execution_count": null,
   "id": "7c620641",
   "metadata": {},
   "outputs": [],
   "source": []
  },
  {
   "cell_type": "code",
   "execution_count": null,
   "id": "1104cfa6",
   "metadata": {},
   "outputs": [],
   "source": []
  },
  {
   "cell_type": "code",
   "execution_count": null,
   "id": "3d0effb6",
   "metadata": {},
   "outputs": [],
   "source": []
  },
  {
   "cell_type": "markdown",
   "id": "8c8728a2",
   "metadata": {},
   "source": [
    "### Visualise one vs. rest classification"
   ]
  },
  {
   "cell_type": "code",
   "execution_count": 9,
   "id": "d9ea6826",
   "metadata": {},
   "outputs": [
    {
     "name": "stdout",
     "output_type": "stream",
     "text": [
      "(3,)\n",
      "[[ 0.16185743  0.53072174 -0.9759168 ]\n",
      " [ 0.25809274 -1.09973391 -0.09277015]\n",
      " [-0.97895606 -0.68369815  2.05955787]]\n"
     ]
    }
   ],
   "source": [
    "clf = svm.LinearSVC(C=C, max_iter=10000)\n",
    "clf.fit(X, y)\n",
    "\n",
    "print(clf.intercept_.shape)\n",
    "print(clf.coef_)\n",
    "\n",
    "z0 = lambda x,y: (-clf.intercept_[0]-clf.coef_[0][0]*x-clf.coef_[0][1]*y) / clf.coef_[0][2]\n",
    "z1 = lambda x,y: (-clf.intercept_[1]-clf.coef_[1][0]*x-clf.coef_[1][1]*y) / clf.coef_[1][2]\n",
    "z2 = lambda x,y: (-clf.intercept_[2]-clf.coef_[2][0]*x-clf.coef_[2][1]*y) / clf.coef_[2][2]\n"
   ]
  },
  {
   "cell_type": "code",
   "execution_count": 10,
   "id": "1ae32c31",
   "metadata": {},
   "outputs": [
    {
     "data": {
      "application/vnd.jupyter.widget-view+json": {
       "model_id": "63548fe09b144a9cbd48d29403d42fb5",
       "version_major": 2,
       "version_minor": 0
      },
      "text/plain": [
       "interactive(children=(IntSlider(value=30, description='elev', max=90, min=-90), IntSlider(value=30, descriptio…"
      ]
     },
     "metadata": {},
     "output_type": "display_data"
    }
   ],
   "source": [
    "interact(plot_3D_z0, elev=(-90, 90), azim=(-180, 180));\n"
   ]
  },
  {
   "cell_type": "code",
   "execution_count": null,
   "id": "99a6b96e",
   "metadata": {},
   "outputs": [],
   "source": []
  },
  {
   "cell_type": "code",
   "execution_count": null,
   "id": "84567646",
   "metadata": {},
   "outputs": [],
   "source": []
  },
  {
   "cell_type": "code",
   "execution_count": 11,
   "id": "12a4d04f",
   "metadata": {},
   "outputs": [
    {
     "data": {
      "application/vnd.jupyter.widget-view+json": {
       "model_id": "5053e8351ba3446080d65f2b68116e42",
       "version_major": 2,
       "version_minor": 0
      },
      "text/plain": [
       "interactive(children=(IntSlider(value=30, description='elev', max=90, min=-90), IntSlider(value=30, descriptio…"
      ]
     },
     "metadata": {},
     "output_type": "display_data"
    }
   ],
   "source": [
    "interact(plot_3D_z1, elev=(-90, 90), azim=(-180, 180));"
   ]
  },
  {
   "cell_type": "code",
   "execution_count": null,
   "id": "7a14072c",
   "metadata": {},
   "outputs": [],
   "source": []
  },
  {
   "cell_type": "code",
   "execution_count": null,
   "id": "b85b2538",
   "metadata": {},
   "outputs": [],
   "source": []
  },
  {
   "cell_type": "code",
   "execution_count": 12,
   "id": "c4512547",
   "metadata": {},
   "outputs": [
    {
     "data": {
      "application/vnd.jupyter.widget-view+json": {
       "model_id": "93b37fe725aa4cc19c24ca6d70d71689",
       "version_major": 2,
       "version_minor": 0
      },
      "text/plain": [
       "interactive(children=(IntSlider(value=30, description='elev', max=90, min=-90), IntSlider(value=30, descriptio…"
      ]
     },
     "metadata": {},
     "output_type": "display_data"
    }
   ],
   "source": [
    "interact(plot_3D_z2, elev=(-90, 90), azim=(-180, 180));"
   ]
  },
  {
   "cell_type": "code",
   "execution_count": null,
   "id": "02945c31",
   "metadata": {},
   "outputs": [],
   "source": []
  },
  {
   "cell_type": "code",
   "execution_count": null,
   "id": "50f332be",
   "metadata": {},
   "outputs": [],
   "source": []
  },
  {
   "cell_type": "code",
   "execution_count": null,
   "id": "4184bad9",
   "metadata": {},
   "outputs": [],
   "source": []
  },
  {
   "cell_type": "code",
   "execution_count": 1,
   "id": "185b0c45",
   "metadata": {},
   "outputs": [],
   "source": [
    "from sklearn.svm import SVC"
   ]
  },
  {
   "cell_type": "code",
   "execution_count": 5,
   "id": "34f737d3",
   "metadata": {},
   "outputs": [
    {
     "data": {
      "text/plain": [
       "{'C': 1.0,\n",
       " 'break_ties': False,\n",
       " 'cache_size': 200,\n",
       " 'class_weight': None,\n",
       " 'coef0': 0.0,\n",
       " 'decision_function_shape': 'ovr',\n",
       " 'degree': 3,\n",
       " 'gamma': 'scale',\n",
       " 'kernel': 'rbf',\n",
       " 'max_iter': -1,\n",
       " 'probability': False,\n",
       " 'random_state': None,\n",
       " 'shrinking': True,\n",
       " 'tol': 0.001,\n",
       " 'verbose': False}"
      ]
     },
     "execution_count": 5,
     "metadata": {},
     "output_type": "execute_result"
    }
   ],
   "source": [
    "SVC().get_params()"
   ]
  },
  {
   "cell_type": "markdown",
   "id": "b1409808",
   "metadata": {},
   "source": [
    "### Advantages and Disadvantages of SVM:\n",
    "\n",
    "#### Advantages:\n",
    "\n",
    "- `Effective in high dimensional spaces:` SVM is effective in high dimensional spaces, which means that it can handle a large number of features and work well even when the number of features is greater than the number of samples.\n",
    "\n",
    "- `Memory efficient:` SVM is memory efficient, as it only stores the support vectors, which are the data points that are closest to the decision boundary.\n",
    "\n",
    "- `Robust to outliers:` SVM is robust to outliers, which means that it is less affected by the presence of a few data points that deviate from the general pattern.\n",
    "\n",
    "- `Non-linear decision boundaries:` SVM can model non-linear decision boundaries by using kernel functions, which map the data into a higher-dimensional space where it becomes linearly separable.\n",
    "\n",
    "- `Versatile:`  SVM can be applied to a wide range of problems, including classification, regression, and outlier detection.\n",
    "\n",
    "#### Disadvantages:\n",
    "\n",
    "- `Complex optimization problem:` The training process of SVM can be computationally intensive, as it involves solving a complex optimization problem to find the optimal decision boundary.\n",
    "\n",
    "- `Requires careful preprocessing:` SVM is sensitive to the scaling of the data, so it requires careful preprocessing, such as normalization, to ensure optimal performance.\n",
    "\n",
    "- `Requires choosing a good kernel function:` SVM requires choosing a good kernel function to model non-linear decision boundaries, which can be challenging and time-consuming.\n",
    "\n",
    "- `Limited to small datasets:` SVM is not suitable for large datasets, as the training process can be computationally intensive and time-consuming.\n",
    "\n",
    "- `Hard to interpret:` SVM models can be hard to interpret, as the decision boundary is represented by a complex mathematical function, and it can be difficult to understand the relationship between the features and the decision boundary."
   ]
  },
  {
   "cell_type": "code",
   "execution_count": null,
   "id": "56dc6fdc",
   "metadata": {},
   "outputs": [],
   "source": []
  },
  {
   "cell_type": "markdown",
   "id": "8101a048",
   "metadata": {},
   "source": [
    "## Important Interview Questions of SVM\n",
    "- Can you explain the concept of a hyperplane in SVM?\n",
    "- How does SVM handle non-linearly separable data?\n",
    "- Can you explain the role of the kernel function in SVM?\n",
    "- How does SVM choose the optimal hyperplane?\n",
    "- How is the regularization parameter in SVM related to the trade-off between maximizing the margin and minimizing the misclassification rate?\n",
    "- Can you explain the difference between a linear and a non-linear SVM?\n",
    "- How does SVM handle multi-class classification problems?\n",
    "- Can you explain how the optimization problem in SVM is formulated and how it is solved?\n",
    "- Can you explain the concept of the dual problem in SVM and its significance in computational efficiency?\n",
    "- Can you explain the concept of hard margin and soft margin in SVM?\n",
    "- How does SVM handle non-linearly separable data using kernel trick?\n",
    "- Can you explain how different kernel functions like polynomial, radial basis function, and sigmoid affect the classifier?\n",
    "- How do you evaluate the performance of a SVM model?\n",
    "- How do you handle imbalanced data in SVM?\n",
    "- How does SVM handle missing values or outliers in the data?"
   ]
  },
  {
   "cell_type": "code",
   "execution_count": null,
   "id": "8266e326",
   "metadata": {},
   "outputs": [],
   "source": []
  },
  {
   "cell_type": "markdown",
   "id": "3f85e07e",
   "metadata": {},
   "source": [
    "## Applications of SVM\n",
    "\n",
    "Support Vector Machines (SVMs) have a wide range of applications in various industries, some of the most common use cases include:\n",
    "\n",
    "- **Image classification:** SVMs are commonly used in image classification tasks, such as recognizing handwritten digits or classifying images of objects.\n",
    "- **Text classification:** SVMs are also used in natural language processing tasks, such as document classification and sentiment analysis.\n",
    "- **Bioinformatics:** SVMs are used in bioinformatics to classify proteins, predict the effects of genetic variations and classify DNA sequences.\n",
    "- **Stock market prediction:** SVMs have been used to predict stock prices or identify patterns in financial data.\n",
    "- **Fraud detection:** SVMs can be used to identify fraudulent transactions in credit card or financial data.\n",
    "- **Handwriting recognition:** SVMs are used in handwriting recognition systems to classify handwritten characters and digits.\n",
    "- **Medical diagnosis:** SVMs are used to diagnose diseases by analyzing patient data, such as analyzing medical images or genetic data.\n",
    "- **Quality control:** SVMs are used to classify items as defective or non-defective in manufacturing industries\n",
    "- **Human resource management:** SVMs are used to analyze employee data and predict the potential of employees for promotion or identify high-risk employees.\n",
    "- **Cybersecurity:** SVMs are used to detect and classify intrusion attempts in computer networks and identify malicious software."
   ]
  },
  {
   "cell_type": "code",
   "execution_count": null,
   "id": "ca64f4bb",
   "metadata": {},
   "outputs": [],
   "source": []
  }
 ],
 "metadata": {
  "kernelspec": {
   "display_name": "Python 3 (ipykernel)",
   "language": "python",
   "name": "python3"
  },
  "language_info": {
   "codemirror_mode": {
    "name": "ipython",
    "version": 3
   },
   "file_extension": ".py",
   "mimetype": "text/x-python",
   "name": "python",
   "nbconvert_exporter": "python",
   "pygments_lexer": "ipython3",
   "version": "3.8.10"
  }
 },
 "nbformat": 4,
 "nbformat_minor": 5
}
