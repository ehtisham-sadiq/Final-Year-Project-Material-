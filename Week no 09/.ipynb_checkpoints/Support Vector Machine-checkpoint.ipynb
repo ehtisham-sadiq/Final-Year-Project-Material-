{
 "cells": [
  {
   "cell_type": "markdown",
   "id": "55a33a84",
   "metadata": {},
   "source": [
    "# Support Vector Machine\n",
    "\n",
    "- **Mathematics behind Support Vector Machines** \n",
    "    - Length of a Vector, Direction of a Vector, Dot Product\n",
    "    - Linear Separability, Concept of HyperPlane, Classifier\n",
    "    - [Video Link](https://www.youtube.com/watch?v=y0_Qq6fXzCs)\n",
    "- **Support Vector Machines (SVM) Overview**\n",
    "    - Maximum Margin Classifier \n",
    "    - Overview and Intuition \n",
    "    - Soft and Hard Margin\n",
    "    - [Video Link 1](https://www.youtube.com/watch?v=ugTxMLjLS8M&list=PLKnIA16_RmvbOIFee-ra7U6jR2oIbCZBL)\n",
    "    - [Video Link 2](https://www.youtube.com/watch?v=efR1C6CvhmE)\n",
    "    - [Video Link 3](https://www.youtube.com/watch?v=1NxnPkZM9bc)\n",
    "- **Hard SVM**\n",
    "    - Hard SVM – Mathematical Formulation\n",
    "    - Hard SVM – Optimization Problem Formulation\n",
    "    - Formulation of Dual Problem using Lagrange Multipliers\n",
    "    - Issues with hard SVM\n",
    "    - [Video Link 1](https://www.youtube.com/watch?v=yCAlHPDgWtM)\n",
    "    - [Video Link 2](https://www.cs.cornell.edu/courses/cs4780/2018fa/lectures/lecturenote09.html)\n",
    "    - [Video Link 3](https://www.youtube.com/watch?v=A7FeQekjd9Q)\n",
    "    - [Reading Link 1](https://towardsdatascience.com/understanding-support-vector-machine-part-1-lagrange-multipliers-5c24a52ffc5e)\n",
    "    - [Reading Link 2](https://towardsdatascience.com/support-vector-machine-python-example-d67d9b63f1c8)\n",
    "- **Soft SVM**\n",
    "    - [Video Link 1](https://www.youtube.com/watch?v=utqrvIFAE1k)\n",
    "    - [Video Link 2](https://www.youtube.com/watch?v=7vSGI9FCCaY)\n",
    "- **Kernel Trick**\n",
    "    - [Video Link](https://www.youtube.com/watch?v=egxjT0p7_K8)\n",
    "    - [Reading Link](https://towardsdatascience.com/understanding-support-vector-machine-part-2-kernel-trick-mercers-theorem-e1e6848c6c4d)\n",
    "- **OvR SVM classifier for Multi-class classification**\n",
    "    - [Video Link](https://www.youtube.com/watch?v=bW3PUCpj_AE)\n",
    "\n",
    "\n",
    "- **SVM: Python Implementation**\n",
    "- **SVM: Scikit-learn implementation**\n",
    "- **Interview Questions**\n",
    "- **Industrial Applications of SVM**\n",
    "- **Project**"
   ]
  },
  {
   "cell_type": "markdown",
   "id": "05108071",
   "metadata": {},
   "source": []
  },
  {
   "cell_type": "markdown",
   "id": "92f16b45",
   "metadata": {},
   "source": [
    "## Mathematics behind Support Vector Machines\n",
    "\n",
    "Before we get into the SVM algorithm, let’s first talk about some definitions we need to use later.\n",
    "\n",
    "#### Length of a vector\n",
    "\n",
    "The length of a vector $\\mathbf x$ is called its norm, which is written as $||\\mathbf{x}||$. The Euclidean norm formula to calculate the norm of a vector $ \\mathbf{x} = (x_1,x_2,...,x_n)$ is:\n",
    "\n",
    "$$||x|| = \\sqrt{x_1^2+x_2^2+...+x_n^2}$$\n",
    "\n",
    "#### Direction of a Vector\n",
    "The direction of a vector $\\mathbf{x} = (x_1, x_2)$ is written as $\\mathbf{w}$ and defined as :\n",
    "\n",
    "$$w = (\\frac{x_1}{||x||},\\frac{x_2}{||x||})$$\n",
    "\n",
    "If we look at below figure, we can see that $cos(\\theta)=\\frac{x_1}{\\|x\\|}$ and $cos(\\alpha)=\\frac{x_2}{\\|x\\|}$. Thus, the direction vector $\\mathbf{w}$ can also be written as:\n",
    "$$w = (cos(\\theta), cos(\\alpha))$$\n",
    "<img src=\"images/j2.jpg\" height =300px width=300px align=\"center\">\n",
    "\n",
    "> It is worth noting that the norm of a direction vector is always equal to `1`. Because of this, the direction vector $\\mathbf{w}$ is also called the unit vector.\n",
    "\n",
    "#### Dot product\n",
    "The dot product of two vectors returns a scalar. It gives us some insights into how the two vectors are related.\n",
    "\n",
    "Below figure shows two vectors $\\mathbf{x}$ and $\\mathbf{y}$ and the angle $θ$ between them. The geometric formula of dot product is defined as:\n",
    "\n",
    "$$x \\cdot y = ||x||\\space||y||\\space cos(\\theta)$$\n",
    "\n",
    "<img src=\"images/j1.jpg\" height = 500px width=500px align=\"center\">\n",
    "\n",
    "\n",
    "By looking at below figure, we can see $\\theta = \\beta-\\alpha$. Then we can get:\n",
    "\n",
    "$$cos(\\theta) = cos(\\beta-\\alpha)\\\\\n",
    "                =cos\\beta cos\\alpha+sin\\beta sin\\alpha \\\\\n",
    "                =\\frac{x_1}{||x||}\\frac{y_1}{||y||}+\\frac{x_2}{||x||}\\frac{y_2}{||y||} \\\\\n",
    "                =\\frac{x_1y_1+x_2y_2}{||x||\\space ||y||}$$\n",
    "                \n",
    "<img src=\"images/j3.jpg\" height = 350px width=350px align=\"center\">\n",
    "                \n",
    "                \n",
    "We substitute this into the geometric dot product formula, we get:\n",
    "$$x \\cdot y = ||x||\\space||y||\\space \\frac{x_1y_1+x_2y_2}{||x||\\space ||y||} = x_1y_1+x_2y_2$$\n",
    "\n",
    "> This is the `algebraic formula` of dot product. \n",
    "\n",
    "In general, dot product can be computed as the following for two `n-dimensional vectors`:\n",
    "$$x \\cdot y = \\sum_{i=1}^{n}x_iy_i$$\n",
    "\n",
    "\n",
    "### Linear separability\n",
    "\n",
    "Linear separability is one important concept in `SVM`. Although in practical cases the data might not be linearly separable, we will start from the linearly separable cases (since they are easy to understand and deal with) and then derive the non-linearly separable cases.\n",
    "\n",
    "First Figure shows the two-dimensional data are separated by a `line`. In this case, we say the data are linearly separable. Second figure is an example of non-linearly separable data, which means we can not find a line to separate the two-dimensional data. Similarly, for three-dimensional data, we say the data are linearly separable if we can find a `plane` to separate them.\n",
    "\n",
    "<img src=\"images/j6.jpg\" height = 500px width=500px align=\"center\">\n",
    "\n",
    "\n",
    "### Hyperplane\n",
    "Then, the question arises when there are more than three dimensions. What do we use to separate the multi-dimensional data? We use **hyperplane**. How could we define a hyperplane?\n",
    "\n",
    "Let’s look at the two-dimensional case first. The two-dimensional linearly separable data can be separated by a line. The function of the line is $y=ax+b$. We rename x with $x_1$ and y with $x_2$ and we get:\n",
    "\n",
    "$$ax_1-x_2+b=0$$\n",
    "\n",
    "If we define $\\mathbf{x} = (x_1, x_2)$ and $\\mathbf{w} = (a,-1)$, we get:\n",
    "$$w\\cdot x + b =0$$ Or\n",
    "\n",
    "$$w^Tx+b=0$$\n",
    "\n",
    "> This equation is derived from two-dimensional vectors. But in fact, it also works for any number of dimensions. This is the equation of the hyperplane.\n",
    "\n",
    "<img src=\"images/p2.png\" height = 500px width=500px align=\"center\">\n",
    "\n",
    "\n",
    "### Classifier\n",
    "\n",
    "Once we have the hyperplane, we can then use the hyperplane to make predictions. We define the hypothesis function $\\mathbf{h}$ as:\n",
    "\n",
    "$$h(x_i) =\n",
    "    \\begin{cases}\n",
    "    +1 & if \\space w^T x + b \\ge 0 \\\\\n",
    "    -1 & if \\space w^T x + b < 0\n",
    "    \\end{cases}$$\n",
    "    \n",
    "The point above or on the hyperplane will be classified as `class +1`, and the point below the hyperplane will be classified as `class -1`.\n",
    "\n",
    "**Goal of SVM**\n",
    "- So basically, the goal of the SVM learning algorithm is to find a `hyperplane` which could separate the data accurately. There might be many such `hyperplanes`. And we need to find the best one, which is often referred as the **optimal hyperplane.**"
   ]
  },
  {
   "cell_type": "code",
   "execution_count": 12,
   "id": "61cf152b",
   "metadata": {},
   "outputs": [
    {
     "data": {
      "image/png": "[encoded data removed]",
      "text/plain": [
       "<Figure size 432x288 with 1 Axes>"
      ]
     },
     "metadata": {
      "needs_background": "light"
     },
     "output_type": "display_data"
    }
   ],
   "source": [
    "# implementation of hyperplane\n",
    "from sklearn import svm\n",
    "\n",
    "# create the SVM model\n",
    "clf = svm.SVC(kernel='linear', C=1)\n",
    "\n",
    "# train the model\n",
    "clf.fit(X_train, y_train)\n",
    "\n",
    "# get the parameters of the hyperplane\n",
    "w = clf.coef_[0]\n",
    "a = -w[0] / w[1]\n",
    "xx = np.linspace(-5, 5)\n",
    "yy = a * xx - (clf.intercept_[0]) / w[1]\n",
    "\n",
    "# plot the hyperplane\n",
    "plt.plot(xx, yy)\n",
    "plt.scatter(X_train[:, 0], X_train[:, 1], c=y_train)\n",
    "plt.show()\n"
   ]
  },
  {
   "cell_type": "markdown",
   "id": "2ab07c24",
   "metadata": {},
   "source": [
    "**Explanation:**\n",
    "\n",
    "- Above code first creates an `SVM` model with a `linear kernel` using the SVC class from the svm module and trains it on the training data. Then, it gets the parameters of the hyperplane by accessing the `coef_` attribute of the trained model, which contains the coefficients of the hyperplane, and the `intercept_` attribute, which contains the bias term.\n",
    "- Then, it creates a grid of points to plot the hyperplane by generating a range of x-values and calculating the corresponding y-values using the parameters of the hyperplane. Finally, it plots the hyperplane and the data points on the same graph."
   ]
  },
  {
   "cell_type": "code",
   "execution_count": null,
   "id": "2a028e06",
   "metadata": {},
   "outputs": [],
   "source": []
  },
  {
   "cell_type": "code",
   "execution_count": null,
   "id": "bb66a46b",
   "metadata": {},
   "outputs": [],
   "source": []
  },
  {
   "cell_type": "code",
   "execution_count": null,
   "id": "d263e60d",
   "metadata": {},
   "outputs": [],
   "source": []
  },
  {
   "cell_type": "code",
   "execution_count": null,
   "id": "ca819dac",
   "metadata": {},
   "outputs": [],
   "source": []
  },
  {
   "cell_type": "code",
   "execution_count": null,
   "id": "3471415e",
   "metadata": {},
   "outputs": [],
   "source": []
  },
  {
   "cell_type": "code",
   "execution_count": null,
   "id": "74b77618",
   "metadata": {},
   "outputs": [],
   "source": []
  },
  {
   "cell_type": "code",
   "execution_count": null,
   "id": "c93681ca",
   "metadata": {},
   "outputs": [],
   "source": []
  },
  {
   "cell_type": "markdown",
   "id": "283b601a",
   "metadata": {},
   "source": [
    "<h2 align=\"center\">Support Vector Machines(SVM)</h2>\n",
    "\n",
    "### Overview - Maximum Margin Classifier"
   ]
  },
  {
   "cell_type": "markdown",
   "id": "a77a7d37",
   "metadata": {},
   "source": [
    "**Intuition:**\n",
    "\n",
    "Consider `2` clusters of points as below. It is possible to draw many `lines/Hyperplanes` to separate out the two set of points. Which `line/decision boundary` will **best** separate the 2 categories in unseen data points?\n",
    "\n",
    "For the best separating line, consider the margin possible for each of the lines. The one with the `maximum margin` is the one that separates best. In the diagram below, `middle line` has the maximum margin. Hence, it separates the 2 set of points better.\n",
    "\n",
    "<img src=\"images/p5.png\" align=\"center\">\n",
    "\n",
    "\n",
    "With this intuition, let us try to formalize how to determine the the line with the maximum margin. Extending the problem to `n dimensions`, question becomes how to determine the `hyperplane` with `maximum margin`.\n",
    "\n",
    "Separating hyperplane can be considered as `street`. We are trying to maximise the `width` of the street (the green shaded area above). `Street` is framed by `gutters` lying at ends of the street.\n",
    "\n",
    "\n",
    "<img src=\"images/j8.jpg\" align=\"center\">\n",
    "\n",
    "\n",
    "**Support Vectors:**\n",
    "- Support vectors are the data points that are `closest` to the `hyperplane` and have the greatest impact on the position of the hyperplane. These points are the most critical points in determining the position of the hyperplane.\n",
    "\n",
    "- It's the support vectors that are used to define the hyperplane. SVM algorithm finds the hyperplane that `maximizes` the distance between the support vectors of the different classes. Support vectors are the points that lies on the `margin` or in the `gutters`, but not all the points in the gutters are support vectors.\n",
    "\n",
    "**Gutters:**\n",
    "- Gutters refer to the area between the margins, which is the distance between the hyperplane and the closest data points from each class. The `width` of the gutters is equal to `twice` the margin.\n",
    "- The hyperplane is defined by the support vectors, but the gutters are defined by the hyperplane. In other words, support vectors are used to find the hyperplane, and the hyperplane is used to define the gutters.\n",
    "\n",
    "**Margin:**\n",
    "\n",
    "\n",
    "**Characteristics of Best Decision Boundary:**"
   ]
  },
  {
   "cell_type": "code",
   "execution_count": null,
   "id": "21ecda46",
   "metadata": {},
   "outputs": [],
   "source": []
  },
  {
   "cell_type": "code",
   "execution_count": null,
   "id": "43ce6eff",
   "metadata": {},
   "outputs": [],
   "source": []
  },
  {
   "cell_type": "code",
   "execution_count": null,
   "id": "e17f4c63",
   "metadata": {},
   "outputs": [],
   "source": []
  },
  {
   "cell_type": "code",
   "execution_count": null,
   "id": "eb7eefd7",
   "metadata": {},
   "outputs": [],
   "source": []
  },
  {
   "cell_type": "code",
   "execution_count": null,
   "id": "2deac7c3",
   "metadata": {},
   "outputs": [],
   "source": []
  },
  {
   "cell_type": "code",
   "execution_count": null,
   "id": "cba22623",
   "metadata": {},
   "outputs": [],
   "source": []
  },
  {
   "cell_type": "code",
   "execution_count": null,
   "id": "b62362d9",
   "metadata": {},
   "outputs": [],
   "source": []
  },
  {
   "cell_type": "code",
   "execution_count": null,
   "id": "be2bea56",
   "metadata": {},
   "outputs": [],
   "source": []
  },
  {
   "cell_type": "code",
   "execution_count": null,
   "id": "9aed1b4b",
   "metadata": {},
   "outputs": [],
   "source": []
  },
  {
   "cell_type": "code",
   "execution_count": null,
   "id": "45b7819a",
   "metadata": {},
   "outputs": [],
   "source": []
  },
  {
   "cell_type": "code",
   "execution_count": 13,
   "id": "3920ee0d",
   "metadata": {},
   "outputs": [
    {
     "data": {
      "text/plain": [
       "array([[ 1.41281595,  1.5303347 ],\n",
       "       [ 1.81336135,  1.6311307 ],\n",
       "       [ 1.43289271,  4.37679234],\n",
       "       [ 1.87271752,  4.18069237],\n",
       "       [ 2.09517785,  1.0791468 ],\n",
       "       [ 2.73890793,  0.15676817],\n",
       "       [ 3.18515794,  0.08900822],\n",
       "       [ 2.06156753,  1.96918596],\n",
       "       [ 2.03835818,  1.15466278],\n",
       "       [-0.04749204,  5.47425256],\n",
       "       [ 1.71444449,  5.02521524],\n",
       "       [ 0.22459286,  4.77028154],\n",
       "       [ 1.06923853,  4.53068484],\n",
       "       [ 1.53278923,  0.55035386],\n",
       "       [ 1.4949318 ,  3.85848832],\n",
       "       [ 1.1641107 ,  3.79132988],\n",
       "       [ 0.74387399,  4.12240568],\n",
       "       [ 2.29667251,  0.48677761],\n",
       "       [ 0.44359863,  3.11530945],\n",
       "       [ 0.91433877,  4.55014643],\n",
       "       [ 1.67467427,  0.68001896],\n",
       "       [ 2.26908736,  1.32160756],\n",
       "       [ 1.5108885 ,  0.9288309 ],\n",
       "       [ 1.65179125,  0.68193176],\n",
       "       [ 2.49272186,  0.97505341],\n",
       "       [ 2.33812285,  3.43116792],\n",
       "       [ 0.67047877,  4.04094275],\n",
       "       [-0.55552381,  4.69595848],\n",
       "       [ 2.16172321,  0.6565951 ],\n",
       "       [ 2.09680487,  3.7174206 ],\n",
       "       [ 2.18023251,  1.48364708],\n",
       "       [ 0.43899014,  4.53592883],\n",
       "       [ 1.24258802,  4.50399192],\n",
       "       [ 0.00793137,  4.17614316],\n",
       "       [ 1.89593761,  5.18540259],\n",
       "       [ 1.868336  ,  0.93136287],\n",
       "       [ 2.13141478,  1.13885728],\n",
       "       [ 1.06269622,  5.17635143],\n",
       "       [ 2.33466499, -0.02408255],\n",
       "       [ 0.669787  ,  3.59540802],\n",
       "       [ 1.07714851,  1.17533301],\n",
       "       [ 1.54632313,  4.212973  ],\n",
       "       [ 1.56737975, -0.1381059 ],\n",
       "       [ 1.35617762,  1.43815955],\n",
       "       [ 1.00372519,  4.19147702],\n",
       "       [ 1.29297652,  1.47930168],\n",
       "       [ 2.94821884,  2.03519717],\n",
       "       [ 0.3471383 ,  3.45177657],\n",
       "       [ 2.76253526,  0.78970876],\n",
       "       [ 0.76752279,  4.39759671]])"
      ]
     },
     "execution_count": 13,
     "metadata": {},
     "output_type": "execute_result"
    }
   ],
   "source": [
    "# import the necessary libraries\n",
    "import numpy as np\n",
    "import matplotlib.pyplot as plt\n",
    "from sklearn import datasets\n",
    "from sklearn.model_selection import train_test_split\n",
    "from sklearn import svm\n",
    "\n",
    "# load the dataset\n",
    "X, y = datasets.make_blobs(n_samples=50, centers=2, random_state=0, cluster_std=0.60)\n",
    "\n",
    "X"
   ]
  },
  {
   "cell_type": "code",
   "execution_count": 14,
   "id": "0210fef3",
   "metadata": {},
   "outputs": [
    {
     "data": {
      "text/plain": [
       "array([1, 0, 0, 0, 0, 0, 1, 0, 1, 1, 0, 1, 0, 0, 0, 1, 0, 1, 1, 0])"
      ]
     },
     "execution_count": 14,
     "metadata": {},
     "output_type": "execute_result"
    }
   ],
   "source": [
    "# split the dataset into training and testing sets\n",
    "X_train, X_test, y_train, y_test = train_test_split(X, y, test_size=0.4, random_state=0)\n",
    "\n",
    "# create the SVM model with a linear kernel\n",
    "clf = svm.SVC(kernel='linear', C=1)\n",
    "\n",
    "# train the model\n",
    "clf.fit(X_train, y_train)\n",
    "\n",
    "# predict on the test set\n",
    "y_pred = clf.predict(X_test)\n",
    "\n",
    "y_pred"
   ]
  },
  {
   "cell_type": "code",
   "execution_count": 15,
   "id": "b979b0aa",
   "metadata": {},
   "outputs": [
    {
     "name": "stdout",
     "output_type": "stream",
     "text": [
      "Accuracy: 1.0\n"
     ]
    }
   ],
   "source": [
    "# evaluate the model\n",
    "score = clf.score(X_test, y_test)\n",
    "print(\"Accuracy:\", score)\n"
   ]
  },
  {
   "cell_type": "code",
   "execution_count": 16,
   "id": "d473af50",
   "metadata": {},
   "outputs": [
    {
     "data": {
      "text/plain": [
       "<matplotlib.collections.PathCollection at 0x7f9f1431d4f0>"
      ]
     },
     "execution_count": 16,
     "metadata": {},
     "output_type": "execute_result"
    },
    {
     "data": {
      "image/png": "[encoded data removed]",
      "text/plain": [
       "<Figure size 432x288 with 1 Axes>"
      ]
     },
     "metadata": {
      "needs_background": "light"
     },
     "output_type": "display_data"
    }
   ],
   "source": [
    "# plot the decision boundary\n",
    "plt.scatter(X[:, 0], X[:, 1], c=y, s=30, cmap=plt.cm.Paired)"
   ]
  },
  {
   "cell_type": "code",
   "execution_count": 19,
   "id": "b138d226",
   "metadata": {},
   "outputs": [
    {
     "data": {
      "image/png": "[encoded data removed]",
      "text/plain": [
       "<Figure size 432x288 with 1 Axes>"
      ]
     },
     "metadata": {
      "needs_background": "light"
     },
     "output_type": "display_data"
    }
   ],
   "source": [
    "# plot the decision boundary\n",
    "plt.scatter(X[:, 0], X[:, 1], c=y, s=30, cmap=plt.cm.Paired)\n",
    "\n",
    "# plot the decision boundary\n",
    "ax = plt.gca()\n",
    "xlim = ax.get_xlim()\n",
    "ylim = ax.get_ylim()\n",
    "\n",
    "# create grid to evaluate model\n",
    "xx = np.linspace(xlim[0], xlim[1], 30)\n",
    "yy = np.linspace(ylim[0], ylim[1], 30)\n",
    "YY, XX = np.meshgrid(yy, xx)\n",
    "xy = np.vstack([XX.ravel(), YY.ravel()]).T\n",
    "Z = clf.decision_function(xy).reshape(XX.shape)\n",
    "\n",
    "# plot decision boundary and margins\n",
    "ax.contour(XX, YY, Z, colors='k', levels=[-1, 0, 1], alpha=0.5,\n",
    "           linestyles=['--', '-', '--'])\n",
    "\n",
    "ax.scatter(clf.support_vectors_[:, 0], clf.support_vectors_[:, 1], s=100,\n",
    "linewidth=1, facecolors='none', edgecolors='k')\n",
    "\n",
    "plt.show()"
   ]
  },
  {
   "cell_type": "code",
   "execution_count": null,
   "id": "84cf8d8d",
   "metadata": {},
   "outputs": [],
   "source": []
  },
  {
   "cell_type": "code",
   "execution_count": null,
   "id": "e78d7f79",
   "metadata": {},
   "outputs": [],
   "source": []
  },
  {
   "cell_type": "code",
   "execution_count": null,
   "id": "c42a7fe1",
   "metadata": {},
   "outputs": [],
   "source": []
  },
  {
   "cell_type": "code",
   "execution_count": null,
   "id": "3d0effb6",
   "metadata": {},
   "outputs": [],
   "source": []
  },
  {
   "cell_type": "code",
   "execution_count": null,
   "id": "35968c38",
   "metadata": {},
   "outputs": [],
   "source": []
  },
  {
   "cell_type": "code",
   "execution_count": null,
   "id": "d9ea6826",
   "metadata": {},
   "outputs": [],
   "source": []
  },
  {
   "cell_type": "code",
   "execution_count": null,
   "id": "c4512547",
   "metadata": {},
   "outputs": [],
   "source": []
  },
  {
   "cell_type": "code",
   "execution_count": 1,
   "id": "185b0c45",
   "metadata": {},
   "outputs": [],
   "source": [
    "from sklearn.svm import SVC"
   ]
  },
  {
   "cell_type": "code",
   "execution_count": 5,
   "id": "34f737d3",
   "metadata": {},
   "outputs": [
    {
     "data": {
      "text/plain": [
       "{'C': 1.0,\n",
       " 'break_ties': False,\n",
       " 'cache_size': 200,\n",
       " 'class_weight': None,\n",
       " 'coef0': 0.0,\n",
       " 'decision_function_shape': 'ovr',\n",
       " 'degree': 3,\n",
       " 'gamma': 'scale',\n",
       " 'kernel': 'rbf',\n",
       " 'max_iter': -1,\n",
       " 'probability': False,\n",
       " 'random_state': None,\n",
       " 'shrinking': True,\n",
       " 'tol': 0.001,\n",
       " 'verbose': False}"
      ]
     },
     "execution_count": 5,
     "metadata": {},
     "output_type": "execute_result"
    }
   ],
   "source": [
    "SVC().get_params()"
   ]
  },
  {
   "cell_type": "markdown",
   "id": "b1409808",
   "metadata": {},
   "source": [
    "### Advantages and Disadvantages of SVM:\n",
    "\n",
    "#### Advantages:\n",
    "\n",
    "- `Effective in high dimensional spaces:` SVM is effective in high dimensional spaces, which means that it can handle a large number of features and work well even when the number of features is greater than the number of samples.\n",
    "\n",
    "- `Memory efficient:` SVM is memory efficient, as it only stores the support vectors, which are the data points that are closest to the decision boundary.\n",
    "\n",
    "- `Robust to outliers:` SVM is robust to outliers, which means that it is less affected by the presence of a few data points that deviate from the general pattern.\n",
    "\n",
    "- `Non-linear decision boundaries:` SVM can model non-linear decision boundaries by using kernel functions, which map the data into a higher-dimensional space where it becomes linearly separable.\n",
    "\n",
    "- `Versatile:`  SVM can be applied to a wide range of problems, including classification, regression, and outlier detection.\n",
    "\n",
    "#### Disadvantages:\n",
    "\n",
    "- `Complex optimization problem:` The training process of SVM can be computationally intensive, as it involves solving a complex optimization problem to find the optimal decision boundary.\n",
    "\n",
    "- `Requires careful preprocessing:` SVM is sensitive to the scaling of the data, so it requires careful preprocessing, such as normalization, to ensure optimal performance.\n",
    "\n",
    "- `Requires choosing a good kernel function:` SVM requires choosing a good kernel function to model non-linear decision boundaries, which can be challenging and time-consuming.\n",
    "\n",
    "- `Limited to small datasets:` SVM is not suitable for large datasets, as the training process can be computationally intensive and time-consuming.\n",
    "\n",
    "- `Hard to interpret:` SVM models can be hard to interpret, as the decision boundary is represented by a complex mathematical function, and it can be difficult to understand the relationship between the features and the decision boundary."
   ]
  },
  {
   "cell_type": "code",
   "execution_count": null,
   "id": "56dc6fdc",
   "metadata": {},
   "outputs": [],
   "source": []
  },
  {
   "cell_type": "markdown",
   "id": "8101a048",
   "metadata": {},
   "source": [
    "## Important Interview Questions of SVM\n",
    "- Can you explain the concept of a hyperplane in SVM?\n",
    "- How does SVM handle non-linearly separable data?\n",
    "- Can you explain the role of the kernel function in SVM?\n",
    "- How does SVM choose the optimal hyperplane?\n",
    "- How is the regularization parameter in SVM related to the trade-off between maximizing the margin and minimizing the misclassification rate?\n",
    "- Can you explain the difference between a linear and a non-linear SVM?\n",
    "- How does SVM handle multi-class classification problems?\n",
    "- Can you explain how the optimization problem in SVM is formulated and how it is solved?\n",
    "- Can you explain the concept of the dual problem in SVM and its significance in computational efficiency?\n",
    "- Can you explain the concept of hard margin and soft margin in SVM?\n",
    "- How does SVM handle non-linearly separable data using kernel trick?\n",
    "- Can you explain how different kernel functions like polynomial, radial basis function, and sigmoid affect the classifier?\n",
    "- How do you evaluate the performance of a SVM model?\n",
    "- How do you handle imbalanced data in SVM?\n",
    "- How does SVM handle missing values or outliers in the data?"
   ]
  },
  {
   "cell_type": "code",
   "execution_count": null,
   "id": "8266e326",
   "metadata": {},
   "outputs": [],
   "source": []
  },
  {
   "cell_type": "markdown",
   "id": "3f85e07e",
   "metadata": {},
   "source": [
    "## Applications of SVM\n",
    "\n",
    "Support Vector Machines (SVMs) have a wide range of applications in various industries, some of the most common use cases include:\n",
    "\n",
    "- **Image classification:** SVMs are commonly used in image classification tasks, such as recognizing handwritten digits or classifying images of objects.\n",
    "- **Text classification:** SVMs are also used in natural language processing tasks, such as document classification and sentiment analysis.\n",
    "- **Bioinformatics:** SVMs are used in bioinformatics to classify proteins, predict the effects of genetic variations and classify DNA sequences.\n",
    "- **Stock market prediction:** SVMs have been used to predict stock prices or identify patterns in financial data.\n",
    "- **Fraud detection:** SVMs can be used to identify fraudulent transactions in credit card or financial data.\n",
    "- **Handwriting recognition:** SVMs are used in handwriting recognition systems to classify handwritten characters and digits.\n",
    "- **Medical diagnosis:** SVMs are used to diagnose diseases by analyzing patient data, such as analyzing medical images or genetic data.\n",
    "- **Quality control:** SVMs are used to classify items as defective or non-defective in manufacturing industries\n",
    "- **Human resource management:** SVMs are used to analyze employee data and predict the potential of employees for promotion or identify high-risk employees.\n",
    "- **Cybersecurity:** SVMs are used to detect and classify intrusion attempts in computer networks and identify malicious software."
   ]
  },
  {
   "cell_type": "code",
   "execution_count": null,
   "id": "ca64f4bb",
   "metadata": {},
   "outputs": [],
   "source": []
  }
 ],
 "metadata": {
  "kernelspec": {
   "display_name": "Python 3 (ipykernel)",
   "language": "python",
   "name": "python3"
  },
  "language_info": {
   "codemirror_mode": {
    "name": "ipython",
    "version": 3
   },
   "file_extension": ".py",
   "mimetype": "text/x-python",
   "name": "python",
   "nbconvert_exporter": "python",
   "pygments_lexer": "ipython3",
   "version": "3.8.10"
  }
 },
 "nbformat": 4,
 "nbformat_minor": 5
}
