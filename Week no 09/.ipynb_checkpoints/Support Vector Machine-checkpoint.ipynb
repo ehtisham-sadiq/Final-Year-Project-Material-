{
 "cells": [
  {
   "cell_type": "markdown",
   "id": "55a33a84",
   "metadata": {},
   "source": [
    "# Support Vector Machine\n",
    "\n",
    "- **Mathematics behind Support Vector Machines** \n",
    "    - Length of a Vector, Direction of a Vector, Dot Product\n",
    "    - Linear Separability, Concept of HyperPlane, Classifier\n",
    "    - [Video Link](https://www.youtube.com/watch?v=y0_Qq6fXzCs)\n",
    "- **Support Vector Machines (SVM) Overview**\n",
    "    - Maximum Margin Classifier \n",
    "    - Overview and Intuition \n",
    "    - Soft and Hard Margin\n",
    "    - [Video Link 1](https://www.youtube.com/watch?v=ugTxMLjLS8M&list=PLKnIA16_RmvbOIFee-ra7U6jR2oIbCZBL)\n",
    "    - [Video Link 2](https://www.youtube.com/watch?v=efR1C6CvhmE)\n",
    "    - [Video Link 3](https://www.youtube.com/watch?v=1NxnPkZM9bc)\n",
    "- **Hard SVM**\n",
    "    - Hard SVM – Mathematical Formulation\n",
    "    - Hard SVM – Optimization Problem Formulation\n",
    "    - Formulation of Dual Problem using Lagrange Multipliers\n",
    "    - Issues with hard SVM\n",
    "    - [Video Link 1](https://www.youtube.com/watch?v=yCAlHPDgWtM)\n",
    "    - [Video Link 2](https://www.cs.cornell.edu/courses/cs4780/2018fa/lectures/lecturenote09.html)\n",
    "    - [Video Link 3](https://www.youtube.com/watch?v=A7FeQekjd9Q)\n",
    "    - [Reading Link 1](https://towardsdatascience.com/understanding-support-vector-machine-part-1-lagrange-multipliers-5c24a52ffc5e)\n",
    "    - [Reading Link 2](https://towardsdatascience.com/support-vector-machine-python-example-d67d9b63f1c8)\n",
    "- **Soft SVM**\n",
    "    - [Video Link 1](https://www.youtube.com/watch?v=utqrvIFAE1k)\n",
    "    - [Video Link 2](https://www.youtube.com/watch?v=7vSGI9FCCaY)\n",
    "- **Kernel Trick**\n",
    "    - [Video Link](https://www.youtube.com/watch?v=egxjT0p7_K8)\n",
    "    - [Reading Link](https://towardsdatascience.com/understanding-support-vector-machine-part-2-kernel-trick-mercers-theorem-e1e6848c6c4d)\n",
    "- **OvR SVM classifier for Multi-class classification**\n",
    "    - [Video Link](https://www.youtube.com/watch?v=bW3PUCpj_AE)\n",
    "\n",
    "\n",
    "- **SVM: Python Implementation**\n",
    "- **SVM: Scikit-learn implementation**\n",
    "- **Interview Questions**\n",
    "- **Industrial Applications of SVM**\n",
    "- **Project**"
   ]
  },
  {
   "cell_type": "markdown",
   "id": "cfd0a388",
   "metadata": {},
   "source": []
  },
  {
   "cell_type": "markdown",
   "id": "a99b08b7",
   "metadata": {},
   "source": [
    "## Mathematics behind Support Vector Machines\n",
    "\n",
    "Before we get into the SVM algorithm, let’s first talk about some definitions we need to use later.\n",
    "\n",
    "#### Length of a vector\n",
    "\n",
    "The length of a vector $\\mathbf x$ is called its norm, which is written as $||\\mathbf{x}||$. The Euclidean norm formula to calculate the norm of a vector $ \\mathbf{x} = (x_1,x_2,...,x_n)$ is:\n",
    "\n",
    "$$||x|| = \\sqrt{x_1^2+x_2^2+...+x_n^2}$$"
   ]
  },
  {
   "cell_type": "code",
   "execution_count": null,
   "id": "185b0c45",
   "metadata": {},
   "outputs": [],
   "source": []
  },
  {
   "cell_type": "code",
   "execution_count": null,
   "id": "34f737d3",
   "metadata": {},
   "outputs": [],
   "source": []
  },
  {
   "cell_type": "markdown",
   "id": "1c8327ab",
   "metadata": {},
   "source": [
    "## Important Interview Questions of SVM\n",
    "- Can you explain the concept of a hyperplane in SVM?\n",
    "- How does SVM handle non-linearly separable data?\n",
    "- Can you explain the role of the kernel function in SVM?\n",
    "- How does SVM choose the optimal hyperplane?\n",
    "- How is the regularization parameter in SVM related to the trade-off between maximizing the margin and minimizing the misclassification rate?\n",
    "- Can you explain the difference between a linear and a non-linear SVM?\n",
    "- How does SVM handle multi-class classification problems?\n",
    "- Can you explain how the optimization problem in SVM is formulated and how it is solved?\n",
    "- Can you explain the concept of the dual problem in SVM and its significance in computational efficiency?\n",
    "- Can you explain the concept of hard margin and soft margin in SVM?\n",
    "- How does SVM handle non-linearly separable data using kernel trick?\n",
    "- Can you explain how different kernel functions like polynomial, radial basis function, and sigmoid affect the classifier?\n",
    "- How do you evaluate the performance of a SVM model?\n",
    "- How do you handle imbalanced data in SVM?\n",
    "- How does SVM handle missing values or outliers in the data?"
   ]
  },
  {
   "cell_type": "code",
   "execution_count": null,
   "id": "3f64112c",
   "metadata": {},
   "outputs": [],
   "source": []
  },
  {
   "cell_type": "markdown",
   "id": "2867fdd2",
   "metadata": {},
   "source": [
    "## Applications of SVM\n",
    "\n",
    "Support Vector Machines (SVMs) have a wide range of applications in various industries, some of the most common use cases include:\n",
    "\n",
    "- **Image classification:** SVMs are commonly used in image classification tasks, such as recognizing handwritten digits or classifying images of objects.\n",
    "- **Text classification:** SVMs are also used in natural language processing tasks, such as document classification and sentiment analysis.\n",
    "- **Bioinformatics:** SVMs are used in bioinformatics to classify proteins, predict the effects of genetic variations and classify DNA sequences.\n",
    "- **Stock market prediction:** SVMs have been used to predict stock prices or identify patterns in financial data.\n",
    "- **Fraud detection:** SVMs can be used to identify fraudulent transactions in credit card or financial data.\n",
    "- **Handwriting recognition:** SVMs are used in handwriting recognition systems to classify handwritten characters and digits.\n",
    "- **Medical diagnosis:** SVMs are used to diagnose diseases by analyzing patient data, such as analyzing medical images or genetic data.\n",
    "- **Quality control:** SVMs are used to classify items as defective or non-defective in manufacturing industries\n",
    "- **Human resource management:** SVMs are used to analyze employee data and predict the potential of employees for promotion or identify high-risk employees.\n",
    "- **Cybersecurity:** SVMs are used to detect and classify intrusion attempts in computer networks and identify malicious software."
   ]
  },
  {
   "cell_type": "code",
   "execution_count": null,
   "id": "62433f91",
   "metadata": {},
   "outputs": [],
   "source": []
  }
 ],
 "metadata": {
  "kernelspec": {
   "display_name": "Python 3 (ipykernel)",
   "language": "python",
   "name": "python3"
  },
  "language_info": {
   "codemirror_mode": {
    "name": "ipython",
    "version": 3
   },
   "file_extension": ".py",
   "mimetype": "text/x-python",
   "name": "python",
   "nbconvert_exporter": "python",
   "pygments_lexer": "ipython3",
   "version": "3.8.10"
  }
 },
 "nbformat": 4,
 "nbformat_minor": 5
}
