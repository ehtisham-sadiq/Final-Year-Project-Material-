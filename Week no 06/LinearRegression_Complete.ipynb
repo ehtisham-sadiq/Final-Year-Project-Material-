{
 "cells": [
  {
   "cell_type": "markdown",
   "id": "ccf0bf87",
   "metadata": {},
   "source": [
    "# In Depth Analysis of Linear Regression\n",
    "- **ML Overview**\n",
    "    - Example, Algorithms vs Model\n",
    "- **Supervised Learning**\n",
    "    - Definition, Examples\n",
    "- **Supervised Learning Setup**\n",
    "    - Nomenclature, Formulation(`Regression` & `Classification`),  Example,  Learning,  Hypothesis Class.\n",
    "    - Performance Evaluation\n",
    "        - Loss Function, 0/1 Loss Function, Squared Loss, Root Mean squared error, Absolute Loss\n",
    "    - Generalization: The Train-Test Split, Generalization loss.\n",
    "    \n",
    "[Linear Regression](#Linear-Regression)\n",
    "\n",
    "- **Single Feature**\n",
    "- **Multiple Feature**\n",
    "- **Model Formulation and Setup**\n",
    "- **Loss Function**\n",
    "   - How to solve?\n",
    "   - Reformulation\n",
    "   - Consequently\n",
    "- **Solve Optimization Problem (Analytical Solution employing Calculus)**\n",
    "- **Model Evaluation Techniques**\n",
    "- **Polynomial Regression**\n",
    "- **How to Handle Overfitting?**\n",
    "- **Regularization (Ridge Regression and Lasso Regression)**\n",
    "- **Gradient Descent Algorithm**\n",
    "   - Formulation\n",
    "   - Algorithm\n",
    "   - Types \n",
    "- **Linear Regression Implementation in Python**\n",
    "- **Linear Regression Implementation using sklearn**\n",
    "- **Project:** Medical Insurance Cost Prediction\n",
    "- **Interview Questions**"
   ]
  },
  {
   "cell_type": "code",
   "execution_count": null,
   "id": "bf1cc6a2",
   "metadata": {},
   "outputs": [],
   "source": []
  },
  {
   "cell_type": "markdown",
   "id": "40f24ee6",
   "metadata": {},
   "source": [
    "<h2 align='center' > ML Overview</h2> \n",
    "\n",
    "### What is Machine Learning?\n",
    "- Automating the process of automation\n",
    "- Getting computers to program themselves\n",
    "\n",
    "<figure>\n",
    "<img src=\"images/p1.png\" width=300px height=300px>\n",
    "<figcaption align = \"center\" ><b> Given examples(Training data), make a machine learn system behavior or discover patterns. </b> </figcaption>\n",
    "</figure>\n",
    "\n",
    "\n",
    "> **A simple definition of machine learning is the ability of a computer or machine to improve its performance on a specific task through experience. It involves training a model on a data set, and then using that model to make predictions or take actions based on new, unseen data.**\n",
    "\n",
    "> **In other words, machine learning is a way for computers to learn and make decisions on their own, without being explicitly programmed to perform a specific task.**\n",
    "-----\n",
    "\n",
    "<img src=\"images/p2.png\">\n",
    "\n",
    "&ensp;\n",
    "\n",
    "**Note**: An algorithm is a set of steps that a model follows to learn from data and make predictions. A model, on the other hand, is a representation of the relationships between the input data and the output predictions. It is trained on a dataset and is able to make predictions on new data based on what it has learned from the training data."
   ]
  },
  {
   "cell_type": "markdown",
   "id": "c033440f",
   "metadata": {},
   "source": [
    "### Rules vs. Learning\n",
    "- `Rules-based` approaches involve following a predetermined set of rules or instructions to solve a problem or make a decision. These rules are typically established in advance and are followed regardless of the specific circumstances or context.\n",
    "\n",
    "- On the other hand, `learning-based` approaches involve using data and experience to improve decision-making over time. In the context of machine learning, this involves training a model on a dataset, allowing the model to learn patterns and relationships in the data, and using this learned knowledge to make predictions on new data.\n",
    "\n",
    "- Both rules-based and learning-based approaches have their own strengths and weaknesses, and the most appropriate approach will depend on the specific problem or task at hand. Rules-based approaches are often simpler and easier to implement, but they may not be able to adapt to changing circumstances or new data as well as learning-based approaches. Learning-based approaches, on the other hand, may be more complex and require more data and computation, but they have the ability to improve over time and adapt to new situations."
   ]
  },
  {
   "cell_type": "markdown",
   "id": "c5940a3a",
   "metadata": {},
   "source": [
    "<h2 align=\"center\">Supervised Learning</h2> \n",
    "\n",
    "**Predicting the labels for unseen data based on labelled\n",
    "instances.** \n",
    "\n",
    "<img src=\"images/p4.png\" height=500px width=500px align='center'>\n",
    "\n",
    "- Each column is a feature and adds one dimension to the data\n",
    "- Number of columns define total number of features and hence data dimensionality.\n",
    "- `Inputs`: referred to as Features.\n",
    "- `Output`: referred to as Label.\n",
    "- `Training data`: (input, output) for which the output is known and is used for training a model by ML algorithm.\n",
    "- `A Loss, an objective or a cost function`: determines how well a trined model approximates the training data\n",
    "- `Test data`: (input, output) for which the output is known and is used for the evaluation of the performance of the trained model\n",
    "\n",
    "#### A Recipe for Applying Supervised Learning\n",
    "\n",
    "To apply supervised learning, we define a dataset and a learning algorithm.\n",
    "\n",
    "$$ \\text{Dataset} + \\text{Learning Algorithm} \\to \\text{Predictive Model} $$\n",
    "\n",
    "The output is a predictive model that maps inputs to targets. For instance, it can predict targets on new inputs.\n",
    "\n",
    "-----\n",
    "The learning algorithm would receive a set of inputs along with the corresponding correct outputs to train a model.\n",
    "\n",
    "<img src=\"images/p5.png\" height=600px width=600px align=\"center\">\n",
    "&ensp;\n",
    "\n",
    "<img src=\"images/p8.png\" height=600px width=600px align=\"center\">\n",
    "\n",
    "\n",
    "### Algorithms vs Model\n",
    "- `Linear regression` algorithm produces a model, that is, a vector of values of the coefficients of the model.\n",
    "- `Decision tree` algorithm produces a model comprised of a tree of if-then statements with specific values.\n",
    "- `Neural network` along with backpropagation + gradient descent: produces a model comprised of a trained (weights assigned) neural network."
   ]
  },
  {
   "cell_type": "markdown",
   "id": "f3e25535",
   "metadata": {},
   "source": [
    "<h2 align=\"center\">Supervised Learning Setup</h2>\n",
    "\n",
    "##### A Supervised Learning Dataset: Notation\n",
    "\n",
    "Using the adopted notation, we can formalize the supervised machine learning setup. We represent the entire training data as \n",
    "$$\\mathcal{D} = \\{(x^{(i)}, y^{(i)}) \\mid i = 1,2,...,n\\} \\in X^{R} \\times Y$$\n",
    "\n",
    "Where\n",
    "- D is a dataset\n",
    "- X is the d-dimensional feature space($R^d$)\n",
    "- $x_i$ is the input vector of the <i>ith</i> sample\n",
    "- Y is the label space\n",
    "\n",
    "Each $x^{(i)}$ denotes an input (e.g., the measurements for patient $i$), and each $y^{(i)} \\in \\mathcal{Y}$ is a target (e.g., the Heart Disease). \n",
    "\n",
    "<b><u>Regression</u></b>:    $\\mathcal{y} = R (prediction-on-continuous-scale)$\n",
    "\n",
    "<b><u>Classification</u></b>:    $\\mathcal{y} = {{0,1}} \\;\\;or \\;\\;{-1,1} \\;\\; or \\;\\; 1,2 \\;\\; binary-classification $\n",
    "\n",
    "$\\mathcal{y} = {1,2,3......,M} \\;\\;\\; M-class-Classification$\n",
    "\n",
    "\n",
    "\n",
    "\n",
    "Together, $(x^{(i)}, y^{(i)})$ form a *training example*.\n",
    "&emsp;\n",
    "<h3 align='center'>Example</h3>\n",
    "<img src=\"images/9.png\" height=500px width=500px >\n",
    "\n",
    "&emsp;\n",
    "\n",
    "<h3 align='center'>Learning </h3>\n",
    "\n",
    "We want to develop a model that can predict the label for the input for which label is **unknown.**\n",
    "\n",
    "We assume that the data points $(x_i,y_i)$ are drawn from some **unknown** distribution $P(X,Y)$.\n",
    "<img src=\"images/10.png\" align='center'>\n",
    "\n",
    "Our goal is to learn the machine (model, function or hypothesis) $h\\in H$, such that for a new pair/instance $(x,y)P$ , we can use *h* to obtain\n",
    "$$h(x) =y$$\n",
    "\n",
    "with high probability or \n",
    "$$h(x)\\approx y$$\n",
    "\n",
    "in some optimal sense.\n",
    "\n",
    "**Note:** Here, we do not know exact distribution but using **ML**, we try to estimate that distribution. Here, $h$ is our hypothesis, this is basically returns a mapping between input and output. $h$ is a machine. It is a sample from Hypothesis $H$. Here, we want to learn a function from dataset which takes input and produces its output.\n",
    "\n",
    "<h3 align='center'> Model/Function/Hypothesis: Notation</h3>\n",
    "\n",
    "We'll say that a model is a function\n",
    "$$ f : \\mathcal{X} \\to \\mathcal{Y} $$\n",
    "that maps inputs $x \\in \\mathcal{X}$ to targets $y \\in \\mathcal{Y}$.\n",
    "\n",
    "Often, models have *parameters* $\\theta \\in \\Theta$ living in a set $\\Theta$. We will then write the model as\n",
    "$$ f_\\theta : \\mathcal{X} \\to \\mathcal{Y} $$\n",
    "to denote that it's parametrized by $\\theta$."
   ]
  },
  {
   "cell_type": "markdown",
   "id": "6e91caaf",
   "metadata": {},
   "source": [
    "<h3 align=\"center\">Feature Space</h3>  \n",
    "\n",
    "**Definition:** A feature space is a set of mathematical features or variables that are used to represent the data. It is a multi-dimensional space where each dimension corresponds to a feature or variable, and each data point is represented as a point in this space.\n",
    "\n",
    "**Example:** If you have a dataset containing three features (age, height, and weight), the feature space would be a three-dimensional space where each data point is represented by its age, height, and weight.\n",
    "\n",
    "- Student data(e.g. for predicting grades), an input $x^{(i)} \\in \\mathcal{X}$ is a $d$-dimensional vector of the form\n",
    "$$ x^{(i)} = \\begin{bmatrix}\n",
    "x^{(i)}_1 \\\\\n",
    "x^{(i)}_2 \\\\\n",
    "\\vdots \\\\\n",
    "x^{(i)}_d\n",
    "\\end{bmatrix}$$\n",
    "- Where each $x_j^i \\;$ is the value of the $ith$ feature for student $j$.\n",
    "- Examples of features, $x^i$\n",
    "    - Scores in assignments, quizzes, exams\n",
    "    - Educational records, grades in previous courses\n",
    "    - Rankings of previous educational institutes\n",
    "    - Interaction with online tools? Missed instruments?\n",
    "- Small number of features and relatively low features with 0 values: **Dense vectors**.\n",
    "\n",
    "The set $\\mathcal{X}$ is called the feature space. Often, we have, $\\mathcal{X} = \\mathbb{R}^d$.\n",
    "\n",
    "**Attributes:** We refer to the numerical variables describing the patient as *attributes*. Examples of attributes include:\n",
    "* The age of a patient.\n",
    "* The patient's gender.\n",
    "* The patient's BMI.\n",
    "\n",
    "**Features:** Often, an input object has many attributes, and we want to use these attributes to define more complex descriptions of the input.\n",
    "\n",
    "* Is the patient old and a man? (Useful if old men are at risk).\n",
    "* Is the BMI above the obesity threshold?\n",
    "\n",
    "We call these custom attributes *features*.\n",
    "\n",
    "**Feature:** We may denote features via a function $\\phi : \\mathcal{X} \\to \\mathbb{R}^p$ that takes an input $x^{(i)} \\in \\mathcal{X}$ and outputs a $p$-dimensional vector\n",
    "$$ \\phi(x^{(i)}) = \\left[\\begin{array}{@{}c@{}}\n",
    "\\phi(x^{(i)})_1 \\\\\n",
    "\\phi(x^{(i)})_2 \\\\\n",
    "\\vdots \\\\\n",
    "\\phi(x^{(i)})_p\n",
    "\\end{array} \\right]$$\n",
    "We say that $\\phi(x^{(i)})$ is a *featurized* input, and each $\\phi(x^{(i)})_j$ is a *feature*.\n",
    "\n",
    "**Features vs Attributes**:\n",
    "In practice, the terms attribute and features are often used interchangeably. Most authors refer to $x^{(i)}$ as a vector of features. We will follow this convention and use the term \"attribute\" only when there is ambiguity between features and attributes. Features can be either discrete or continuous."
   ]
  },
  {
   "cell_type": "markdown",
   "id": "936edb6e",
   "metadata": {},
   "source": [
    "<h3 align='center'>Label Space</h3>\n",
    "Formally, when $(x^{(i)}, y^{(i)})$ form a *training example*, each $y^{(i)} \\in \\mathcal{Y}$ is a target. We call $\\mathcal{Y}$ the target space.\n",
    "\n",
    "- Binary (one-of-two) – Binary classification\n",
    "    - Sentiment: positive / negative\n",
    "    - Email: Spam / Not Spam\n",
    "    - Online Transactions: Fraudulent (Yes / No)\n",
    "    - Tumor: Malignant / Benign\n",
    "    - y ∈ 0,1 e.g. 0: Negative class, 1: Positive class\n",
    "    - y ∈ −1,1 e.g. -1: Negative class, 1: Positive class\n",
    "- **Multi-class (one-of-many, many-of-many problems) – Multi-class classification**\n",
    "    - Sentiment: Positive / negative / neutral\n",
    "    - Emotion: Happy, Sad, Surprised, Angry,...\n",
    "    - Part-of-Speech tag: Noun / verb / adjective / adverb /...\n",
    "    - Recognize a word: One of |V| tags\n",
    "    - y ∈ 0,1,2,3, ... e.g. 0: Happy, 1: Sad, 2, Angry,...\n",
    "- **Real-valued – Regression**\n",
    "    - Temperature, height, age, length, weight, duration, price...\n",
    "    \n",
    "**Regression vs. Classification**\n",
    "\n",
    "\n",
    "1. __Regression__: The target variable $y$ is continuous. We are fitting a curve in a high-dimensional feature space that approximates the shape of the dataset.\n",
    "2. __Classification__: The target variable $y$ is discrete. Each discrete value corresponds to a *class* and we are looking for a hyperplane that separates the different classes.\n",
    "\n",
    "<h3 align='center'>Feature Matrix</h3>\n",
    "\n",
    "Suppose that we have a dataset of size $n$ (e.g., $n$ patients), indexed by $i=1,2,...,n$. Each $x^{(i)}$ is a vector of $d$ features.\n",
    "\n",
    "Machine learning algorithms are most easily defined in the language of linear algebra. Therefore, it will be useful to represent the entire dataset as one matrix $X \\in \\mathbb{R}^{n \\times d}$, of the form:\n",
    "$$ X = \\begin{bmatrix}\n",
    "x^{(1)}_1 & x^{(2)}_1 & \\ldots & x^{(n)}_1 \\\\\n",
    "x^{(1)}_2 & x^{(2)}_2 & \\ldots & x^{(n)}_2 \\\\\n",
    "\\vdots \\\\\n",
    "x^{(1)}_d & x^{(2)}_d & \\ldots & x^{(n)}_d\n",
    "\\end{bmatrix}.$$\n",
    "\n",
    "Similarly, we can vectorize the target variables into a vector $y \\in \\mathbb{R}^n$ of the form\n",
    "$$ y = \\begin{bmatrix}\n",
    "y^{(1)} \\\\\n",
    "y^{(2)} \\\\\n",
    "\\vdots \\\\\n",
    "y^{(n)}\n",
    "\\end{bmatrix}.$$"
   ]
  },
  {
   "cell_type": "markdown",
   "id": "1ef7cd04",
   "metadata": {},
   "source": [
    "<h3 align=\"center\">Hypothesis Space</h3>\n",
    "\n",
    "- We call the set of possible functions or candidate models `the hypothesis class`.\n",
    "- The hypothesis $h$ is sampled from a hypothesis space $H$.\n",
    "$$h \\in H$$\n",
    "\n",
    "- $H$ can be thought of to contain classes of hypotheses which share sets of assumptions like\n",
    "    - Decisions tree\n",
    "    - Perceptron\n",
    "    - Neural networks\n",
    "    - Support Vector Machines\n",
    "    \n",
    "**Example:** $h \\in H$ for $H$: Decision trees, would be instances of\n",
    "decisions trees of different height, arity, thresholds, etc.\n",
    "\n",
    "- In machine learning, the `hypothesis space` is the set of all possible hypotheses that a learning algorithm can consider when making predictions. It is an important concept because the choice of hypotheses can significantly affect the performance of a learning algorithm."
   ]
  },
  {
   "cell_type": "code",
   "execution_count": 54,
   "id": "908967ba",
   "metadata": {
    "collapsed": true
   },
   "outputs": [
    {
     "name": "stdout",
     "output_type": "stream",
     "text": [
      "[<function <lambda> at 0x7f74c0c24ee0>, <function <lambda> at 0x7f74c0c24e50>, <function <lambda> at 0x7f74c0c24f70>, <function <lambda> at 0x7f74c0c24670>, <function <lambda> at 0x7f74c134e1f0>, <function <lambda> at 0x7f74c134e040>, <function <lambda> at 0x7f74c134e0d0>, <function <lambda> at 0x7f74c134e160>, <function <lambda> at 0x7f74c134e310>, <function <lambda> at 0x7f74c134e3a0>, <function <lambda> at 0x7f74c134e430>, <function <lambda> at 0x7f74c134e4c0>, <function <lambda> at 0x7f74c134e550>, <function <lambda> at 0x7f74c134e5e0>, <function <lambda> at 0x7f74c134e670>, <function <lambda> at 0x7f74c134e700>, <function <lambda> at 0x7f74c134e790>, <function <lambda> at 0x7f74c134e820>, <function <lambda> at 0x7f74c134e8b0>, <function <lambda> at 0x7f74c134e940>, <function <lambda> at 0x7f74c134e9d0>, <function <lambda> at 0x7f74c134ea60>, <function <lambda> at 0x7f74c134eaf0>, <function <lambda> at 0x7f74c134eb80>, <function <lambda> at 0x7f74c134ec10>, <function <lambda> at 0x7f74c134eca0>, <function <lambda> at 0x7f74c134ed30>, <function <lambda> at 0x7f74c134edc0>, <function <lambda> at 0x7f74c134ee50>, <function <lambda> at 0x7f74c134eee0>, <function <lambda> at 0x7f74c134ef70>, <function <lambda> at 0x7f74c136a1f0>, <function <lambda> at 0x7f74c136a040>, <function <lambda> at 0x7f74c136a0d0>, <function <lambda> at 0x7f74c136a160>, <function <lambda> at 0x7f74c136a280>, <function <lambda> at 0x7f74c136a3a0>, <function <lambda> at 0x7f74c136a430>, <function <lambda> at 0x7f74c136a4c0>, <function <lambda> at 0x7f74c136a550>, <function <lambda> at 0x7f74c136a5e0>, <function <lambda> at 0x7f74c136a670>, <function <lambda> at 0x7f74c136a700>, <function <lambda> at 0x7f74c136a790>, <function <lambda> at 0x7f74c136a820>, <function <lambda> at 0x7f74c136a8b0>, <function <lambda> at 0x7f74c136a940>, <function <lambda> at 0x7f74c136a9d0>, <function <lambda> at 0x7f74c136aa60>, <function <lambda> at 0x7f74c136aaf0>, <function <lambda> at 0x7f74c136ab80>, <function <lambda> at 0x7f74c136ac10>, <function <lambda> at 0x7f74c136aca0>, <function <lambda> at 0x7f74c136ad30>, <function <lambda> at 0x7f74c136adc0>, <function <lambda> at 0x7f74c136ae50>, <function <lambda> at 0x7f74c136aee0>, <function <lambda> at 0x7f74c136af70>, <function <lambda> at 0x7f74c141ce50>, <function <lambda> at 0x7f74c141cca0>, <function <lambda> at 0x7f74c141c040>, <function <lambda> at 0x7f74c0c85280>, <function <lambda> at 0x7f74c0c85040>, <function <lambda> at 0x7f74c0c850d0>, <function <lambda> at 0x7f74c0c85160>, <function <lambda> at 0x7f74c0c851f0>, <function <lambda> at 0x7f74c0c85310>, <function <lambda> at 0x7f74c0c85430>, <function <lambda> at 0x7f74c0c854c0>, <function <lambda> at 0x7f74c0c85550>, <function <lambda> at 0x7f74c0c855e0>, <function <lambda> at 0x7f74c0c85670>, <function <lambda> at 0x7f74c0c85700>, <function <lambda> at 0x7f74c0c85790>, <function <lambda> at 0x7f74c0c85820>, <function <lambda> at 0x7f74c0c858b0>, <function <lambda> at 0x7f74c0c85940>, <function <lambda> at 0x7f74c0c859d0>, <function <lambda> at 0x7f74c0c85a60>, <function <lambda> at 0x7f74c0c85af0>, <function <lambda> at 0x7f74c0c85b80>, <function <lambda> at 0x7f74c0c85c10>, <function <lambda> at 0x7f74c0c85ca0>, <function <lambda> at 0x7f74c0c85d30>, <function <lambda> at 0x7f74c0c85dc0>, <function <lambda> at 0x7f74c0c85e50>, <function <lambda> at 0x7f74c0c85ee0>, <function <lambda> at 0x7f74c0c85f70>, <function <lambda> at 0x7f74c0cb6280>, <function <lambda> at 0x7f74c0cb6040>, <function <lambda> at 0x7f74c0cb60d0>, <function <lambda> at 0x7f74c0cb6160>, <function <lambda> at 0x7f74c0cb61f0>, <function <lambda> at 0x7f7452c7c8b0>, <function <lambda> at 0x7f7452c7c3a0>, <function <lambda> at 0x7f7452c883a0>, <function <lambda> at 0x7f7452c88310>, <function <lambda> at 0x7f7452c88280>, <function <lambda> at 0x7f7452c880d0>, <function <lambda> at 0x7f7452c88700>, <function <lambda> at 0x7f7452c88790>, <function <lambda> at 0x7f7452c88820>, <function <lambda> at 0x7f7452c888b0>, <function <lambda> at 0x7f7452c88940>, <function <lambda> at 0x7f7452c889d0>, <function <lambda> at 0x7f7452c88a60>, <function <lambda> at 0x7f7452c88af0>, <function <lambda> at 0x7f7452c88b80>, <function <lambda> at 0x7f7452c88c10>, <function <lambda> at 0x7f7452c88ca0>, <function <lambda> at 0x7f7452c88d30>, <function <lambda> at 0x7f7452c88dc0>, <function <lambda> at 0x7f7452c88e50>, <function <lambda> at 0x7f7452c88ee0>, <function <lambda> at 0x7f7452c88f70>, <function <lambda> at 0x7f74c1359040>, <function <lambda> at 0x7f74c13590d0>, <function <lambda> at 0x7f74c1359160>, <function <lambda> at 0x7f74c13591f0>, <function <lambda> at 0x7f74c1359280>, <function <lambda> at 0x7f74c1359310>]\n"
     ]
    }
   ],
   "source": [
    "# Import necessary libraries\n",
    "import numpy as np\n",
    "\n",
    "# Define the input space X as a matrix of four rows and two columns, \n",
    "# representing four possible input examples with two features each.\n",
    "X = np.array([[0, 0], \n",
    "              [0, 1], \n",
    "              [1, 0], \n",
    "              [1, 1]])\n",
    "\n",
    "# Define the output space Y as a vector of four values, representing \n",
    "#  the corresponding output labels for each of the four input examples.\n",
    "Y = np.array([0, 1, 1, 0])\n",
    "\n",
    "# Define the hypothesis space H\n",
    "H = []\n",
    "\n",
    "# Iterate over all possible combinations of weights w1 and w2\n",
    "for w1 in range(-5, 6):\n",
    "    for w2 in range(-5, 6):\n",
    "        # Append the hypothesis h(x) = w1 * x1 + w2 * x2 to the hypothesis space H\n",
    "        result = lambda x: w1 * X[0] + w2 * X[1]\n",
    "        H.append(result)\n",
    "\n",
    "# Print the hypothesis space\n",
    "print(H)"
   ]
  },
  {
   "cell_type": "markdown",
   "id": "3452a33b",
   "metadata": {},
   "source": [
    ">**Note:** The code prints the resulting `hypothesis space` $H$, which is a list of all possible hypotheses that can be considered by the learning algorithm."
   ]
  },
  {
   "cell_type": "markdown",
   "id": "bb32a7a0",
   "metadata": {},
   "source": [
    "<h3><b><i>Question:</i></b> \n",
    "    For a given problem, How we can select/choose hypothesis(machine) $h \\in h$.</h3>\n",
    "    \n",
    "**Answer:**\n",
    "- **Randomly**\n",
    "    - May not work well\n",
    "    - Like using a random program to solve a sorting problem\n",
    "    - May work if $H$ is constrained enough\n",
    "\n",
    "- **Exhaustively**\n",
    "    - Would be very slow\n",
    "    - The space $H$ is usually very large (if not infinite)\n",
    "\n",
    "- $H$ is usually chosen by data scientists (you!) based on their experience!\n",
    "    - $h \\in H$ is estimated efficiently using various optimization techniques. Define hypothesis class $H$ for a given learning algorithm. Evaluate the performance of each candidate function and choose the best one."
   ]
  },
  {
   "cell_type": "markdown",
   "id": "a3b4de7a",
   "metadata": {},
   "source": [
    "<h3><i>Question<i/>: How do we evaluate the performance? </h3>\n",
    "\n",
    "**Answer:** \n",
    "    \n",
    "Define a loss function to quantify/calculate the accuracy of the prediction."
   ]
  },
  {
   "cell_type": "markdown",
   "id": "22de0490",
   "metadata": {},
   "source": [
    "<h3 align=\"center\">Loss Function</h3>\n",
    "\n",
    "- Loss function should quantify/calculate the average error in predicting $y$ using hypothesis function $h$ and input $x$. It is denoted by $L$.\n",
    "\n",
    "- Smaller is better\n",
    "    - 0 loss: No error\n",
    "    - 100% loss: Could not even get one instance right\n",
    "    - 50% loss: Your h is as informative as a coin toss\n",
    "    \n",
    "&emsp;    "
   ]
  },
  {
   "cell_type": "markdown",
   "id": "2aca097d",
   "metadata": {},
   "source": [
    "\n",
    "<h3 align=\"center\"><b>0/1 Loss</b></h3>\n",
    "\n",
    "- The `0/1 loss` is a loss function that is used to evaluate the performance of a machine learning model in binary classification tasks. It is defined as the number of incorrect predictions made by the model, divided by the total number of predictions.\n",
    "\n",
    "<img src=\"https://www.baeldung.com/wp-content/ql-cache/quicklatex.com-3fc482ec51a32e213970a07a3de41d10_l3.svg\" height=600px width=600px>\n",
    "\n",
    "- Counts the average number of mistakes in predicting $y$\n",
    "- Returns the training error rate\n",
    "- Not used due to Non-continuous and non-differentiable\n",
    "    - Difficult to utilize in optimization\n",
    "- Used to evaluate classifiers in binary/multiclass settings"
   ]
  },
  {
   "cell_type": "code",
   "execution_count": 55,
   "id": "673466a3",
   "metadata": {},
   "outputs": [
    {
     "name": "stdout",
     "output_type": "stream",
     "text": [
      "0.5\n"
     ]
    }
   ],
   "source": [
    "# Import necessary libraries\n",
    "import numpy as np\n",
    "\n",
    "# Define the true labels y_true as a numpy array of four values, \n",
    "# representing the correct class labels for four input examples. \n",
    "y_true = np.array([0, 1, 0, 1])\n",
    "\n",
    "# Define the predicted labels y_pred as a numpy array of \n",
    "# four values, representing the class labels predicted by the model.\n",
    "y_pred = np.array([0, 0, 1, 1])\n",
    "\n",
    "# Calculate the 0/1 loss\n",
    "loss = np.mean(y_true != y_pred)\n",
    "\n",
    "# def zero_one_loss(y_true, y_pred):\n",
    "#     loss = 0\n",
    "#     for yt, yp in zip(y_true, y_pred):\n",
    "#         if yt != yp:\n",
    "#             loss += 1\n",
    "#     return loss\n",
    "\n",
    "# Print the loss\n",
    "print(loss)"
   ]
  },
  {
   "cell_type": "markdown",
   "id": "72264972",
   "metadata": {},
   "source": [
    "> **Note:** The output will be `0.5`, indicating that the model made 2 incorrect predictions out of a total of 4, or 50% error."
   ]
  },
  {
   "cell_type": "markdown",
   "id": "b2866a04",
   "metadata": {},
   "source": [
    "<h3 align=\"center\"><b>Squared Loss Function</b></h3>\n",
    "\n",
    "The squared loss function, also known as the mean squared error (MSE) loss, is a common loss function used in regression tasks. It measures the average squared difference between the predicted values and the true values. The squared loss function is defined as:\n",
    "\n",
    "$$L_{sq}(h) = \\frac{1}{2n} \\sum_{i=1}^n \\left( h(x^{(i)}) - y^{(i)} \\right)^2$$\n",
    "\n",
    "Where $h(x^{(i)})$ is the predicted value, $y^{(i)}$ is the true value, and $n$ is the number of samples. These are defined for a dataset $\\mathcal{D} = \\{(x^{(i)}, y^{(i)}) \\mid i = 1,2,...,n\\}$.\n",
    "\n",
    "\n",
    "- Typically used in regression settings\n",
    "- The loss is always non-negative\n",
    "- The loss grows quadratically with the absolute magnitude of mis-prediction\n",
    "- Encourages no predictions to be really far off\n",
    "- If a prediction is very close to be correct, the square will be tiny and little attention will be given to that example to obtain zero error."
   ]
  },
  {
   "cell_type": "code",
   "execution_count": 56,
   "id": "f22d4220",
   "metadata": {},
   "outputs": [],
   "source": [
    "def squared_loss(y_true, y_pred):\n",
    "    loss = 0\n",
    "    for yt, yp in zip(y_true, y_pred):\n",
    "        loss += (yt - yp) ** 2\n",
    "    loss /= len(y_true)\n",
    "    return loss\n"
   ]
  },
  {
   "cell_type": "markdown",
   "id": "c54177eb",
   "metadata": {},
   "source": [
    "**Note:** Function `squared_loss` takes in two arguments: `y_true` and `y_pred`. `y_true` is a list of true values, and `y_pred` is a list of predicted values. The function calculates the squared difference between each pair of true and predicted values and sums them up. It then divides the total loss by the number of samples to get the average loss. The function returns the average loss as a float."
   ]
  },
  {
   "cell_type": "code",
   "execution_count": 61,
   "id": "13d8b9a6",
   "metadata": {},
   "outputs": [
    {
     "name": "stdout",
     "output_type": "stream",
     "text": [
      "0.65\n"
     ]
    }
   ],
   "source": [
    "y_true = [1, 2, 3, 4, 5]\n",
    "y_pred = [1.5, 2.5, 2.5, 4.5, 6.5]\n",
    "\n",
    "loss = squared_loss(y_true, y_pred)\n",
    "print(loss)  "
   ]
  },
  {
   "cell_type": "markdown",
   "id": "56d0091b",
   "metadata": {},
   "source": [
    "<h3 align=\"center\"><b>Absolute Loss Function</b></h3>\n",
    "\n",
    "The absolute loss function, also known as the mean absolute error (MAE) loss, is another common loss function used in regression tasks. It measures the average absolute difference between the predicted values and the true values. The absolute loss function is defined as:\n",
    "\n",
    "$$L_{abs}(h) = \\frac{1}{n} \\sum_{i=1}^n \\left| h(x^{(i)}) - y^{(i)} \\right|$$\n",
    "\n",
    "Where $h(x^{(i)})$ is the predicted value, $y^{(i)}$ is the true value, and $n$ is the number of samples. These are defined for a dataset $\\mathcal{D} = \\{(x^{(i)}, y^{(i)}) \\mid i = 1,2,...,n\\}$.\n",
    "\n",
    "\n",
    "- The loss is always non-negative\n",
    "- The loss grows linearly with the absolute magnitude of mis-prediction\n",
    "- Better suited for noisy data."
   ]
  },
  {
   "cell_type": "code",
   "execution_count": 58,
   "id": "ceb11696",
   "metadata": {},
   "outputs": [],
   "source": [
    "def absolute_loss(y_true, y_pred):\n",
    "    loss = 0\n",
    "    for yt, yp in zip(y_true, y_pred):\n",
    "        loss += abs(yt - yp)\n",
    "    loss /= len(y_true)\n",
    "    return loss"
   ]
  },
  {
   "cell_type": "markdown",
   "id": "aadf20f1",
   "metadata": {},
   "source": [
    "**Note:** The `absolute_loss` function takes in two arguments: `y_true` and `y_pred`. `y_true` is a list of true values, and `y_pred` is a list of predicted values. The function calculates the absolute difference between each pair of true and predicted values and sums them up. It then divides the total loss by the number of samples to get the average loss. The function returns the average loss as a float."
   ]
  },
  {
   "cell_type": "code",
   "execution_count": 60,
   "id": "61ef8124",
   "metadata": {},
   "outputs": [
    {
     "name": "stdout",
     "output_type": "stream",
     "text": [
      "0.7\n"
     ]
    }
   ],
   "source": [
    "y_true = [1, 2, 3, 4, 5]\n",
    "y_pred = [1.5, 2.5, 2.5, 4.5, 6.5]\n",
    "\n",
    "loss = absolute_loss(y_true, y_pred)\n",
    "print(loss)"
   ]
  },
  {
   "cell_type": "markdown",
   "id": "d9a5e164",
   "metadata": {},
   "source": [
    "<h4 align=\"center\"><b>Comparsion</b></h4>\n",
    "<img src=\"images/p12.png\" align=\"left\">\n",
    "<img src=\"images/p13.png\" align=\"right\" height=400px width=400px>\n"
   ]
  },
  {
   "cell_type": "markdown",
   "id": "f22bfa82",
   "metadata": {},
   "source": [
    "\n",
    "<h2 align=\"center\"> Learning: The elusive h</h2>\n",
    "\n",
    "We wish to select hypothesis (machine) $h\\in \\mathbf{H} $ such that \n",
    "$$h^* = avgmin_{h\\in H} L(h)$$\n",
    "\n",
    "> **Note:** The average of the minimum loss achieved by the hypothesis h when it is trained on different datasets. In other words, it is a measure of the performance of the hypothesis h across multiple datasets. To calculate the average minimum loss, we would need to first define a loss function that quantifies the difference between the model's predictions and the true values in the dataset. We would then train the hypothesis h on multiple datasets and record the minimum loss achieved on each dataset. Finally, we would take the average of all the minimum losses to get the average minimum loss of the hypothesis h. It is important to note that the average minimum loss is just one way to measure the performance of a hypothesis. Other metrics, such as accuracy or precision, may also be used to evaluate the performance of the model.\n",
    "\n",
    "**Recall:** We assume that the data points $(\\mathbf{x_i}, y_i)$ are drawn from some unknown distribution P(X,Y). We can come up with a function $h$ after solving this minimization problem that gives low loss on our data.\n",
    "\n",
    "**Question: How can we ensure that hypothesis h will give low loss on the input not in D?**\n",
    "\n",
    "**Answer:** To view this, let us consider a model $h$ trained on every input in D, that is, giving zero loss. Such fucntion is referred to as memorizer and can be formulated as follows\n",
    "<img src=\"images/p64.png\">\n",
    "\n",
    "> **Note:** A memorizer function is a type of machine learning model that simply memorizes the training data and uses it to make predictions, without attempting to learn any patterns or relationships. Memorizer functions are sometimes referred to as \"memorization algorithms\" or \"lookup tables.\" One disadvantage of memorizer functions is that they do not generalize well to new data. Since they have simply memorized the training data and do not understand the underlying patterns or relationships, they are not able to make accurate predictions on unseen data. This means that memorizer functions are likely to perform poorly on test sets or in real-world situations where they are presented with new data.\n",
    "\n",
    "**Interpretation:**\n",
    "We can interpretate from above function that\n",
    "- 0% loss error on the training data (Model is fit to every data point in D).\n",
    "- Large error for some input not in D\n",
    "- First glimpse of `overfitting.`\n",
    "\n",
    "\n",
    "**Revisit:**\n",
    "\n",
    "**Question: How can we ensure that hypothesis h will give low loss on the input not in D?**\n",
    "\n",
    "**Answer:**\n",
    "$$\\mathbf{Train/Test \\;Split} $$"
   ]
  },
  {
   "cell_type": "markdown",
   "id": "6d8b4ba9",
   "metadata": {},
   "source": [
    "<h3 align=\"center\"> Generalization: The Train-Test Split </h3>\n",
    "\n",
    "To resolve the overfitting issue, we usually, split $D$ into train and test subsets:\n",
    "\n",
    "   - $D_{TR} $ as the training data, (70,80, or 80%)\n",
    "   - $D_{TE} $ as the testing data, (30,20, or 10%)    \n",
    "<img src=\"images/p65.png\">\n",
    "\n",
    "How to carry out splitting?\n",
    "- Split should be capturing the variations in the distributions.\n",
    "- Usually, we carry out sampling using independent and identically distributed sampling and time series with respect to time.\n",
    "\n",
    "> **Note:** In statistics and machine learning, i.i.d. (independent and identically distributed) sampling refers to the process of selecting a sample of data from a population in such a way that each data point is chosen independently of the others, and the probability distribution of the sample is the same as the distribution of the population.\n",
    "\n",
    "**Note:**\n",
    "- **You can only use the test dataset once after deciding on the model using training dataset**"
   ]
  },
  {
   "cell_type": "markdown",
   "id": "0acd1565",
   "metadata": {},
   "source": [
    "<h3 align=\"center\">Learning (Revisit after train-test split</h3>\n",
    "\n",
    "We had the following optimization problem as  $h\\in \\mathbf{H} $ such that \n",
    "$$h^* = avgmin_{h\\in H} L(h)$$\n",
    "we generalize it as\n",
    "<img src=\"images/p66.png\">\n",
    "\n",
    "**Evaluation:**\n",
    "Loss on the testing data is given by\n",
    "<img src=\"images/p67.png\">"
   ]
  },
  {
   "cell_type": "markdown",
   "id": "4604a81e",
   "metadata": {},
   "source": [
    "<h3 align=\"center\">Generalization loss</h3>\n",
    "\n",
    "- We define the generalized loss on the distribution P from which the D is drawn as the expected value(average value, probaility weighted average to be precise) of the loss for a given $h^*s$\n",
    "$$e  = E_{(x,y)\\backsim P}[L(\\mathbf{x},y|h^*)] $$\n",
    "\n",
    "- That the expected loss should be calculated on any data point sampled from the distribution P, not necessarily those present in D.\n",
    "- Under the assumption that data D is i.i.d drawn from $P$, $e_TE$ serves as unbiased estimator of the generalized loss $e$. This simply means $e_TE$ converges to $e$ with the increase in the data size, that is, \n",
    "$$\\lim_{n \\to \\infty} e_{TE} = e$$\n",
    "\n",
    "- How to get a new datapoint $(x, y)$ ∼ P?\n",
    "    - All we have are the $n$ data points!\n",
    "\n",
    "- We estimate $e$ by splitting the D into parts.\n",
    "- We train on $D_{TR}$ and test on $D_{TE}$ only once! Don’t train on test inadvertently! (e.g. repeated testing). We never look at the test data. We train only using the $D_{TR}$ and only use the $D_{TE}$ once. Then the test error approximates the generalization loss\n",
    "\n",
    ">**Note:** Generalization loss refers to the difference between the performance of a ML model on the $D_{TR}$ and its performance on new, unseen data. It is a measure of how well a model is able to generalize from the training data to make accurate predictions on new data. In general, the goal of a ML model is to have low generalization loss, which means that it is able to perform well on both the $D_{TR}$ and new data. A model with high generalization loss may be overfitting, which means that it is too closely tailored to the training data and is not able to generalize to new data. On the other hand, a model with low generalization loss may be underfitting, which means that it is not able to fully capture the patterns and relationships in the $D_{TR}$. There are various techniques that can be used to reduce generalization loss, such as `regularization`, `feature selection`, and `early stopping`. These techniques aim to balance the complexity of the model with its ability to generalize to new data, in order to improve its overall performance.\n",
    "\n",
    "**Question: How to we evaluate the model, if we do not have access to\n",
    "the test data while training?**\n",
    "\n",
    "**Answer**:\n",
    "\n",
    "We usually split $D$ into three subsets datasets that are:\n",
    "\n",
    "   - $D_{TR} $ as training data, (80%)\n",
    "   - $D_{VA} $ as validation data, (10%)    \n",
    "   - $D_{TE} $ as test data, (10%)    \n",
    "   \n",
    "> **Idea:** Validation data is used evaluate the loss for a function h that is determined using the learning on the training data-set. If the loss on validation data is high for a given h, the hypothesis or model\n",
    "needs to be changed.\n",
    "\n",
    "**More explanation* to better understand the difference between validation and test data:**\n",
    "\n",
    "- **Training set:** A set of examples used for learning, that is to fit the parameters of the hypothesis (model).\n",
    "- **Validation set:** A set of examples used to tune the hyper-parameters of the hypothesis function, for example to choose the number of hidden units in a neural network OR the order of polynomial approximating the data.\n",
    "- **Test set:** A set of examples used only to assess the performance of a fully-specified model or hypothesis.\n",
    "\n",
    "### Generalization: The Train-Test Split (Example)\n",
    "<img src=\"images/p68.png\">\n",
    "\n",
    "- Train on DTR, tune parameters or calculate error on DVA, and finally test once on DTE\n",
    "- Cross validation simulates multiple train-test splits on the training data\n",
    "- Finally, train on the whole data once, before shipping out\n",
    "\n",
    "> **Note:** Cross-validation is a useful tool for evaluating the performance of a ML model and selecting the best model based on the performance. It helps to avoid `overfitting`, which is the phenomenon where a model performs well on the training data but poorly on new data."
   ]
  },
  {
   "cell_type": "code",
   "execution_count": null,
   "id": "14244c10",
   "metadata": {},
   "outputs": [],
   "source": []
  },
  {
   "cell_type": "markdown",
   "id": "106f08a0",
   "metadata": {},
   "source": [
    "# Linear Regression\n",
    "\n",
    "**Regression:** Quantitative Prediction on a continuous scale.\n",
    "<img src=\"images/p11.png\">\n",
    "\n",
    "> Here, `PROCESS` or `SYSTEM` refers to any underlying physical or logical phenomenon which maps our input data to our observed and noisy output data.\n",
    "\n",
    "- **One Variable Regression:** $\\;\\;y$ is a scalar.\n",
    "- **Multi-Variable Regression:** $\\;\\;y$ is a vector.\n",
    "- **Single feature Regression:** $\\;\\;x$ is a scalar.\n",
    "- **Multiple feature Regression:** $\\;\\;x$ is a vector.\n",
    "\n",
    "<h3 align=\"center\"> Model Formulation and Setup</h3>\n",
    "\n",
    "#### *True Model:*\n",
    "We assume there is an inherent but unknown relationship between\n",
    "input and output.\n",
    "$y = f(x) + n$\n",
    "\n",
    "<img src=\"images/p16.png\" align=\"right\" height=400px width=400px>\n",
    "\n",
    "#### *Goal:* \n",
    "Given noisy observations, we need to estimate the unknown functional\n",
    "relationship as accurately as possible.\n",
    "\n",
    "We have:\n",
    "- For some input $x,\\hat y$ is our model output.\n",
    "- Assume that our model is $\\hat f(x,\\theta)$, characterized by the paramter(s) $\\theta$.\n",
    "- Model $f(x,\\theta)$ has\n",
    "    - A structure (e.g linear, polynomial, inverse).\n",
    "    - Parameters in the vector $\\theta = [\\theta_1,\\theta_2, \\theta_3,....,\\theta_M]$\n",
    "- Our Model error is $\\epsilon = y - \\hat y$.\n",
    "\n",
    "<img src=\"images/p17.png\" align=\"left\" height=400px width=400px>\n",
    "\n",
    "<img src=\"images/p18.png\" align=\"right\" height=500px width=500px>\n",
    "\n"
   ]
  },
  {
   "cell_type": "markdown",
   "id": "e115be28",
   "metadata": {},
   "source": [
    "<h3 align=\"center\">Model</h3>\n",
    "\n",
    "We have :\n",
    "\n",
    "$$\\mathcal{D} = \\{(x^{(i)}, y^{(i)}) \\mid i = 1,2,...,n\\} \\in X^{R} \\times Y$$\n",
    "\n",
    "Model is a linear function of the features, that is \n",
    "\n",
    "$$\\hat f(X,\\theta) = \\theta_0 + \\sum_{i=1}^d(\\theta_ix_i) = \\theta_0 + \\theta^TX$$\n",
    "- Linear Structure\n",
    "- Model Parameters: $\\theta_0 \\;\\; and \\; \\theta = [\\theta_1,\\theta_2, \\theta_3,....,\\theta_d]$\n",
    "    - $\\theta_0$ is bias or intercept.\n",
    "    - $\\theta = [\\theta_1,\\theta_2, \\theta_3,....,\\theta_d]$ represents the weights or slope.\n",
    "    - $\\theta_i$ quanitfies the contribution of i-th feature $x_i$."
   ]
  },
  {
   "cell_type": "markdown",
   "id": "f10f3215",
   "metadata": {},
   "source": [
    "<h3 align=\"center\">What is Linear Model?</h3>\n",
    "\n",
    "#### When d = 1:\n",
    "$$\\hat f(X,\\theta) = \\theta_0 + \\theta_1x$$\n",
    "$$\\hat f(X,\\theta) = \\theta_0 + \\theta_1x$$\n",
    "- This represents the equation of `line`.\n",
    "<img src=\"images/p19.png\" align=\"right\">\n",
    "\n",
    "#### When d=2:\n",
    "$$\\hat f(X,\\theta) = \\theta_0 + \\theta_1x_1 + \\theta_2x_2$$\n",
    "- This represents the equation of the `Plane`\n",
    "<img src=\"images/p20.png\" align=\"right\">\n",
    "\n",
    "\n",
    "#### When d=d:\n",
    "$$\\hat f(X,\\theta) = \\theta_0 + \\theta_TX$$\n",
    "- This represents the `Hyper-plane` in $R^{d+1}$.\n",
    "\n",
    "----\n",
    "- For different $\\theta_0$ and , <b>$\\theta$</b>, we have differnt hyper-planes.\n",
    "- How do we find the `best` line?\n",
    "- What do we mean by the `best`?"
   ]
  },
  {
   "cell_type": "code",
   "execution_count": null,
   "id": "746dc641",
   "metadata": {},
   "outputs": [],
   "source": []
  },
  {
   "cell_type": "markdown",
   "id": "f1f282d4",
   "metadata": {},
   "source": [
    "<h3 align=\"center\">Linear Regression with one Variable </h3>\n",
    "\n",
    "**Notation:**\n",
    "\n",
    "- **m** = Number of training samples\n",
    "- **x** = Feature\n",
    "- **y** = Label\n",
    "- $(x^i , y^i)$: the ith sample in the dataset\n",
    "\n",
    "<img src=\"https://cdn.scribbr.com/wp-content/uploads//2020/02/simple-linear-regression-graph.png\" align=\"right\">\n",
    "<img src=\"images/21.png\" align=\"left\">\n",
    "\n"
   ]
  },
  {
   "cell_type": "markdown",
   "id": "3fdde7a7",
   "metadata": {},
   "source": [
    "$$h_\\theta(x) = \\theta_0+ \\theta_1x$$\n",
    "\n",
    "> **Linear Regression with one variable is also called univarite linear regression, simple linear regression.**\n",
    "\n",
    "**Parameters:**\n",
    "$$\\theta_0, \\theta_1$$\n",
    "\n",
    "**Cost Function**\n",
    "$$J(\\theta_0, \\theta_1) = \\frac{1}{m} \\sum_{i=1}^m (h_\\theta(x^{(i)})-y^{(i)})^2$$\n",
    "\n",
    "**Goal:**\n",
    "$$minimum_{\\theta_0,\\theta_1} J(\\theta_0,\\theta_1)$$"
   ]
  },
  {
   "cell_type": "code",
   "execution_count": 62,
   "id": "92a1b03c",
   "metadata": {},
   "outputs": [
    {
     "name": "stdout",
     "output_type": "stream",
     "text": [
      "0.3333333333333333\n"
     ]
    }
   ],
   "source": [
    "import numpy as np\n",
    "def cost_function(y_pred, y):\n",
    "    n = len(y)\n",
    "    cost = 1/n * np.sum((y_pred - y)**2)\n",
    "    return cost\n",
    "y_pred = np.array([1, 2, 3])\n",
    "y = np.array([1, 2, 2])\n",
    "cost = cost_function(y_pred, y)\n",
    "print(cost)"
   ]
  },
  {
   "cell_type": "markdown",
   "id": "1d52de0e",
   "metadata": {},
   "source": [
    "<h3 align=\"center\">A simplified case</h3>\n",
    "\n",
    "<img src=\"images/21.jpeg\">\n",
    "<img src=\"images/22.jpeg\">\n"
   ]
  },
  {
   "cell_type": "markdown",
   "id": "ca337a78",
   "metadata": {},
   "source": [
    "<h3 align=\"center\">Using both of the <i>knobs</i> </h3>\n",
    "\n",
    "**Hypothesis:**\n",
    "$$\\theta_0(x) = \\theta_0 + \\theta_1x$$\n",
    "\n",
    "**Parameters:**\n",
    "$$\\theta_0, \\theta_1$$\n",
    "\n",
    "**Cost Function**\n",
    "$$J(\\theta_0, \\theta_1) = \\frac{1}{m} \\sum_{i=1}^m (h_\\theta(x^{(i)})-y^{(i)})$$\n",
    "\n",
    "**Goal:**\n",
    "$$minimum_{\\theta_0,\\theta_1} J(\\theta_0,\\theta_1)$$"
   ]
  },
  {
   "cell_type": "code",
   "execution_count": null,
   "id": "064d618c",
   "metadata": {},
   "outputs": [],
   "source": []
  },
  {
   "cell_type": "markdown",
   "id": "099b9204",
   "metadata": {},
   "source": [
    "<h3><i>Question:</i> How do we find the <i>best</i> line? What do we mean by <i>best</i>?</h3>\n",
    "\n",
    "**Answer:**\n",
    "\n",
    "#### Define Loss Function:\n",
    ">Loss function should be a function of model parameters.\n",
    "\n",
    "- For input $x$, our model error is $e = y - \\hat y = y - \\hat f(x,\\theta) = y - \\theta_0 - \\theta^Tx$.\n",
    "- e is also termed as residual error as it is the differnce between observed value and predicted value.\n",
    "- **d=1**\n",
    "\n",
    "<img src=\"images/23.png\" align=\"center\">\n",
    "\n",
    "- For $\\mathcal{D} = \\{(x^{(i)}, y^{(i)}) \\mid i = 1,2,...,n\\} \\in X^{R} \\times Y$, we have\n",
    "$$e_i = y_i-\\theta_0-\\theta^T,\\;\\;\\;\\; i=1,2,3,4,.....,n$$\n",
    "\n",
    "- Using Residual error, we can define different loss functions:\n",
    "   $$L_{LSE}(\\theta_0,\\theta_1) = \\sum_{i=1}^n(y_i-\\theta_0-\\theta^Tx_i)^2$$\n",
    "   $$L_{MSE}(\\theta_0,\\theta_1) = {1/n} \\sum_{i=1}^n(y_i-\\theta_0-\\theta^Tx_i)^2$$\n",
    "   $$L_{MSE}(\\theta_0,\\theta_1) = \\sqrt {{1/n} \\sum_{i=1}^n(y_i-\\theta_0-\\theta^Tx_i)^2}$$\n",
    "   \n",
    "> One minimizer for all loss functions.\n",
    "\n",
    "- We minimize the following loss function:\n",
    "   $$L_{MSE}(\\theta_0,\\theta_1) = {1/n} \\sum_{i=1}^n(y_i-\\theta_0-\\theta^Tx_i)^2$$\n",
    "   \n",
    "- We have an **optimzation problem**: find the parameters which minimize the loss function. We write optimization problem (with no constraints) as \n",
    "   $$minimize_{\\theta_0,\\theta}\\;\\; L_{MSE}(\\theta_0,\\theta_1) = {1/n} \\sum_{i=1}^n(y_i-\\theta_0-\\theta^Tx_i)^2$$\n",
    "   \n",
    "   \n",
    "### How to solve?\n",
    "- **Analytically:** Determine a critical point that makes the derivtive(if it exists) equal to zero.\n",
    "- **Numerically:** Solve optimization using some algorithm that iteratively takes use closer to the critical point minimizing objective function."
   ]
  },
  {
   "cell_type": "markdown",
   "id": "44c686f9",
   "metadata": {},
   "source": [
    "## Example-1"
   ]
  },
  {
   "cell_type": "code",
   "execution_count": 63,
   "id": "0144d5df",
   "metadata": {},
   "outputs": [
    {
     "name": "stdout",
     "output_type": "stream",
     "text": [
      "Starting gradient descent at b = 0, m = 0, error = 5565.107834483211\n",
      "Running...\n",
      "After 1000 iterations b = 0.08893651993741346, m = 1.4777440851894448, error = 112.61481011613473\n"
     ]
    }
   ],
   "source": [
    "from numpy import *\n",
    "\n",
    "# y = mx + b\n",
    "# m is slope, b is y-intercept\n",
    "def compute_error_for_line_given_points(b, m, points):\n",
    "    totalError = 0\n",
    "    for i in range(0, len(points)):\n",
    "        x = points[i, 0]\n",
    "        y = points[i, 1]\n",
    "        totalError += (y - (m * x + b)) ** 2\n",
    "    return totalError / float(len(points))\n",
    "\n",
    "def step_gradient(b_current, m_current, points, learningRate):\n",
    "    b_gradient = 0\n",
    "    m_gradient = 0\n",
    "    N = float(len(points))\n",
    "    for i in range(0, len(points)):\n",
    "        x = points[i, 0]\n",
    "        y = points[i, 1]\n",
    "        b_gradient += -(2/N) * (y - ((m_current * x) + b_current))\n",
    "        m_gradient += -(2/N) * x * (y - ((m_current * x) + b_current))\n",
    "    new_b = b_current - (learningRate * b_gradient)\n",
    "    new_m = m_current - (learningRate * m_gradient)\n",
    "    return [new_b, new_m]\n",
    "\n",
    "def gradient_descent_runner(points, starting_b, starting_m, learning_rate, num_iterations):\n",
    "    b = starting_b\n",
    "    m = starting_m\n",
    "    for i in range(num_iterations):\n",
    "        b, m = step_gradient(b, m, array(points), learning_rate)\n",
    "    return [b, m]\n",
    "\n",
    "def run():\n",
    "    points = genfromtxt(\"datasets/data.csv\", delimiter=\",\")\n",
    "    learning_rate = 0.0001\n",
    "    initial_b = 0 # initial y-intercept guess\n",
    "    initial_m = 0 # initial slope guess\n",
    "    num_iterations = 1000\n",
    "    print(\"Starting gradient descent at b = {0}, m = {1}, error = {2}\".format(initial_b, initial_m, compute_error_for_line_given_points(initial_b, initial_m, points)))\n",
    "    print(\"Running...\")\n",
    "    [b, m] = gradient_descent_runner(points, initial_b, initial_m, learning_rate, num_iterations)\n",
    "    print(\"After {0} iterations b = {1}, m = {2}, error = {3}\".format(num_iterations, b, m, compute_error_for_line_given_points(b, m, points)))\n",
    "\n",
    "if __name__ == '__main__':\n",
    "    run()\n"
   ]
  },
  {
   "cell_type": "markdown",
   "id": "cc3a7a23",
   "metadata": {},
   "source": [
    "<img src=\"images/gradient_descent_example.gif\">"
   ]
  },
  {
   "cell_type": "markdown",
   "id": "6fd1cd0f",
   "metadata": {},
   "source": [
    "### Example - 2"
   ]
  },
  {
   "cell_type": "code",
   "execution_count": 64,
   "id": "4c21d5f7",
   "metadata": {},
   "outputs": [
    {
     "name": "stdout",
     "output_type": "stream",
     "text": [
      "Iteration 0: Cost = 1.5427137296536395\n",
      "Iteration 10: Cost = 0.4055899449885261\n",
      "Iteration 20: Cost = 0.12820367641883942\n",
      "Iteration 30: Cost = 0.06040293217462261\n",
      "Iteration 40: Cost = 0.04382901547954687\n",
      "Iteration 50: Cost = 0.03977749736664156\n",
      "Iteration 60: Cost = 0.038787097644943355\n",
      "Iteration 70: Cost = 0.03854499293476682\n",
      "Iteration 80: Cost = 0.03848581007209732\n",
      "Iteration 90: Cost = 0.03847134273178296\n",
      "Final w: 1.9890302120562438\n",
      "Final b: 0.9697502088675694\n"
     ]
    }
   ],
   "source": [
    "import numpy as np\n",
    "# Generate some fake data for linear regression\n",
    "N = 100\n",
    "x = np.linspace(-1, 1, N)\n",
    "y = 2 * x + 1 + np.random.randn(N) * 0.2\n",
    "# Initialize weight and bias with random values\n",
    "w = np.random.randn()\n",
    "b = np.random.randn()\n",
    "# Set the learning rate\n",
    "alpha = 0.1\n",
    "# Set the number of iterations\n",
    "num_iterations = 100\n",
    "# Iterate through the gradient descent algorithm\n",
    "for i in range(num_iterations):\n",
    "    # Calculate the predicted values\n",
    "    y_pred = w * x + b\n",
    "    # Calculate the cost function\n",
    "    cost = 1/N * np.sum((y_pred - y) ** 2)\n",
    "    # Calculate the gradients\n",
    "    dw = 2/N * np.sum((y_pred - y) * x)\n",
    "    db = 2/N * np.sum(y_pred - y)\n",
    "    # Update the weights and biases\n",
    "    w = w - alpha * dw\n",
    "    b = b - alpha * db\n",
    "    # Print the cost every 10 iterations\n",
    "    if i % 10 == 0:\n",
    "        print(f'Iteration {i}: Cost = {cost}')\n",
    "# Print the final weights and biases\n",
    "print(f'Final w: {w}')\n",
    "print(f'Final b: {b}')"
   ]
  },
  {
   "cell_type": "markdown",
   "id": "5c5d6332",
   "metadata": {},
   "source": [
    "<h3 align=\"center\">Define Loss Function: Reformulation</h3>\n",
    "\n",
    "   $$L_{MSE}(\\theta_0,\\theta_1) = {1/n} \\sum_{i=1}^n(y_i-\\theta_0-\\theta^Tx_i)^2 = \\frac{1}{2}e^Te$$\n",
    "   \n",
    "**Explanation:**\n",
    "The transpose of a vector `v` is denoted by `v^T` and is defined as the `reflection` of `v` over the main diagonal of a matrix. For example, if `v` is a column vector:\n",
    "\n",
    "`\n",
    "v = [v1]\n",
    "    [v2]\n",
    "    [v3]\n",
    "`\n",
    "\n",
    "then the transpose of `v` is:\n",
    "\n",
    "`v^T = [v1 v2 v3]`\n",
    "\n",
    "The `dot product` of two vectors `u` and `v` is denoted by `u.v` and is defined as the sum of the products of the corresponding elements of the two vectors. For example, if u and v are column vectors:\n",
    "\n",
    "`\n",
    "u = [u1]\n",
    "    [u2]\n",
    "    [u3]\n",
    "v = [v1]\n",
    "    [v2]\n",
    "    [v3]`\n",
    "    \n",
    "then the dot product of u and v is:\n",
    "\n",
    "`u.v = u1*v1 + u2*v2 + u3*v3`\n",
    "\n",
    "Now, to prove that `e^T.e = n`, where `e` is an n-dimensional column vector with all elements equal to `1` and `n` is the number of elements in `e`, we can use the definition of the dot product:\n",
    "\n",
    "`e^T.e = e1*e1 + e2*e2 + ... + en*en\n",
    "       = 1*1 + 1*1 + ... + 1*1\n",
    "       = n`\n",
    "       \n",
    "Therefore, `e^T.e = n.`\n",
    "\n",
    "Note that this result holds for any n-dimensional column vector e with all elements equal to 1.\n",
    "\n",
    "\n",
    "   $$L_{MSE}(\\theta_0,\\theta_1) = {1/n} \\sum_{i=1}^n(y_i-\\theta_0-\\theta^Tx_i)^2 = \\frac{1}{2}e^Te$$\n",
    "  \n",
    "Here $e=[e_1,e_2,....,e_n]^T$ (column vector) where\n",
    "$$e_i = y_i-\\theta_0-\\theta^T,\\;\\;\\;\\; i=1,2,3,4,.....,n$$\n",
    "\n",
    "<img src=\"images/p26.png\" align=\"left\">\n",
    "<img src=\"images/p24.png\" align=\"right\">\n"
   ]
  },
  {
   "cell_type": "markdown",
   "id": "95951fa1",
   "metadata": {},
   "source": [
    "**Consequently:** \n",
    "\n",
    "\n",
    "Recall that we may fit a linear model by choosing $\\theta$ that minimizes the squared error:\n",
    "$$J(\\theta_0,\\theta)=\\frac{1}{2}\\sum_{i=1}^n(y_i-\\theta_0-\\theta^\\top x_i)^2 = \\frac{1}{2}e^Te$$\n",
    "We can write this sum in matrix-vector form as:\n",
    "$$J(\\theta_0,\\theta)=J(w) = \\frac{1}{2} (y-Xw)^\\top(y-Xw) = \\frac{1}{2} \\|y-Xw\\|^2,$$\n",
    "where $X$ is the design matrix and $\\|\\cdot\\|$ denotes the Euclidean norm."
   ]
  },
  {
   "cell_type": "markdown",
   "id": "94a1e7e6",
   "metadata": {},
   "source": [
    "### Solve Optimization Problem: (Analytical Solution employing Calculus)\n",
    "- very beautiful, elegant function we have here!\n",
    "\n",
    "We first write the loss function as\n",
    "<img src=\"images/p27.png\" align=\"center\">\n",
    "\n",
    "-  To further solve this, let us quickly talk about the concept of a gradient of a function.\n",
    "\n",
    "#### Gradient of a function: Overview\n",
    "- For a function $f(x)$ that maps $x \\; \\epsilon \\; R^d$ to $R$, we define a gradient (directional derivative) with respect to $x$ as.\n",
    "<img src=\"images/p28.png\" align=\"center\">\n",
    "\n",
    "- Derivative quantifies the rate of change along different directions.\n",
    "\n",
    "**Question:** Calculate $\\nabla$ of following functions.\n",
    "- $f(x) = a^Tx = x^Ta$\n",
    "- $f(x) = x^Tx$\n",
    "- $f(x) = x^TPx$\n",
    "\n",
    "\n",
    "\n",
    "**We have a loss function:**\n",
    "$$L(w) = \\frac{1}{2}(y^Ty - 2w^TX^Ty + w^TX^TXw)$$\n",
    "\n",
    "- Take gradient with respect to $w$ as\n",
    "\\begin{align*}\n",
    "\\nabla_w J(w) \n",
    "& = \\nabla_w \\frac{1}{2} (X w - y)^\\top  (X w - y) \\\\\n",
    "& = \\frac{1}{2} \\nabla_w \\left( (Xw)^\\top  (X w) - (X w)^\\top y - y^\\top (X w) + y^\\top y \\right) \\\\\n",
    "& = \\frac{1}{2} \\nabla_w \\left( w^\\top  (X^\\top X) w - 2(X w)^\\top y \\right) \\\\\n",
    "& = \\frac{1}{2} \\left( 2(X^\\top X) w - 2X^\\top y \\right) \\\\\n",
    "& = (X^\\top X) w - X^\\top y\n",
    "\\end{align*}\n",
    "\n",
    "We used the facts that $a^\\top b = b^\\top a$ (line 3), that $\\nabla_x b^\\top x = b$ (line 4), and that $\\nabla_x x^\\top A x = 2 A x$ for a symmetric matrix $A$ (line 4).\n",
    "\n",
    "> We know from calculus that a function is minimized when its derivative is set to zero. In our case, our objective function is a (multivariate) quadratic; hence it only has one minimum, which is the global minimum.\n",
    "\n",
    "- Setting the above derivative to zero, we obtain the *normal equations*:\n",
    "$$ (X^\\top X) w = X^\\top y.$$\n",
    "\n",
    "Hence, the value $w^*$ that minimizes this objective is given by:\n",
    "$$ w^* = (X^\\top X)^{-1} X^\\top y.$$\n",
    "\n",
    "\n",
    "- We have determined the weights for which LSE,MSE,RMSE or the norm of the residual is minimized.\n",
    "- This solution is referred to as least-squared solution as it minimizes the squared error."
   ]
  },
  {
   "cell_type": "markdown",
   "id": "7e747c30",
   "metadata": {},
   "source": [
    "<h2 align=\"center\">Gradient Descent Algorihtm</h2>\n",
    "\n",
    "**Goal:**   Minimize cost function $J(\\theta_0, \\theta_1)$.\n",
    "\n",
    "**Definition:** Used all over machine learning for minimization.\n",
    "\n",
    "**Problem:**\n",
    "- We have $J(\\theta_0, \\theta_1)$.\n",
    "- We want to get $min\\;J(\\theta_0, \\theta_1)$.\n",
    "\n",
    "**Solution**:\n",
    "- Start with some $J(\\theta_0,\\theta_1)$. For example $J(0,0)$.\n",
    "\n",
    "\n",
    "#### How does it work?\n",
    "- Start with initial guesse\n",
    "    - Start at 0,0 (or any other value)\n",
    "    - Keeping changing $\\theta_0$ and $\\theta_1$ a little bit to try and reduce $J(\\theta_0,\\theta_1)$.\n",
    "- Each time you change the parameters, you select the gradient which reduces J(θ0,θ1) the most possible \n",
    "- Repeat\n",
    "- Do so until you converge to a local minimum\n",
    "- Has an interesting property\n",
    "    - Where you start can determine which minimum you end up\n",
    "    - Here we can see one initialization point led to one local minimum\n",
    "    - The other led to a different one\n",
    "\n",
    "<img src=\"images/p29.png\" align=\"center\">"
   ]
  },
  {
   "cell_type": "markdown",
   "id": "5993f004",
   "metadata": {},
   "source": [
    "<h3 align=\"center\">A simplified version of gradient descent</h3>\n",
    "\n",
    "Assume again that we set $\\theta_0 = 0$ and our hypothesis and cost function practically have only one coefficient, $\\theta_1$.\n",
    "   $$h_\\theta(x) = \\theta_1x$$\n",
    "\n",
    "repeat until convergence{"
   ]
  },
  {
   "cell_type": "code",
   "execution_count": 53,
   "id": "97a964c7",
   "metadata": {},
   "outputs": [
    {
     "name": "stdout",
     "output_type": "stream",
     "text": [
      "The minimum value of the function is 8.3156 at x = 3.8375\n"
     ]
    }
   ],
   "source": [
    "import numpy as np\n",
    "\n",
    "# Define the function to be minimized\n",
    "def f(x):\n",
    "    return x**2 + 10*np.sin(x)\n",
    "\n",
    "# Define the gradient of the function\n",
    "def grad_f(x):\n",
    "    return 2*x + 10*np.cos(x)\n",
    "\n",
    "# Choose the step size (learning rate)\n",
    "alpha = 0.1\n",
    "\n",
    "# Set the initial value of x\n",
    "x = 5\n",
    "\n",
    "# Set the tolerance for the convergence criterion\n",
    "tol = 1e-6\n",
    "\n",
    "# Initialize a list to store the values of x at each iteration\n",
    "x_values = [x]\n",
    "\n",
    "# Iterate until convergence\n",
    "while True:\n",
    "    # Compute the gradient at the current value of x\n",
    "    grad = grad_f(x)\n",
    "    \n",
    "    # Update the value of x using gradient descent\n",
    "    x = x - alpha * grad\n",
    "    \n",
    "    # Store the new value of x\n",
    "    x_values.append(x)\n",
    "    \n",
    "    # Check for convergence\n",
    "    if np.abs(grad) < tol:\n",
    "        break\n",
    "\n",
    "# Print the minimum value found\n",
    "print(f\"The minimum value of the function is {f(x):.4f} at x = {x:.4f}\")\n"
   ]
  },
  {
   "cell_type": "markdown",
   "id": "5298b7e5",
   "metadata": {},
   "source": [
    "### Batch gradient descent\n",
    "Batch gradient descent is an algorithm used to minimize a loss function in a model with multiple parameters, such as linear regression. In linear regression, we aim to find the values of the weights that minimize the mean squared error (MSE) between the predicted output and the true output.\n",
    "\n",
    "The MSE for a single sample is given by:\n",
    "\n",
    "$$ MSE(\\mathbf{w}) = \\frac{1}{2}(\\mathbf{x}^T \\mathbf{w} - y)^2 $$\n",
    "\n",
    "Where $\\mathbf{w}$ is the vector of weights, $\\mathbf{x}$ is the input feature vector, and $y$ is the true output.\n",
    "\n",
    "To find the weights that minimize the MSE for a dataset with $n$ samples, we can take the mean of the MSE for each sample:\n",
    "\n",
    "$$ J(\\mathbf{w}) = \\frac{1}{n} \\sum_{i=1}^n MSE(\\mathbf{w}) = \\frac{1}{n} \\sum_{i=1}^n \\frac{1}{2}(\\mathbf{x}_i^T \\mathbf{w} - y_i)^2 $$\n",
    "\n",
    "Where $J(\\mathbf{w})$ is the mean squared error loss function.\n",
    "\n",
    "To minimize this loss function, we can use gradient descent. In gradient descent, we iteratively update the weights in the opposite direction of the gradient of the loss function. The gradient of the loss function with respect to the weights is given by:\n",
    "\n",
    "$$ \\nabla_{\\mathbf{w}} J(\\mathbf{w}) = \\frac{1}{n} \\sum_{i=1}^n \\nabla_{\\mathbf{w}} MSE(\\mathbf{w}) = \\frac{1}{n} \\sum_{i=1}^n \\nabla_{\\mathbf{w}} \\frac{1}{2}(\\mathbf{x}_i^T \\mathbf{w} - y_i)^2 $$\n",
    "\n",
    "Using the chain rule, we can expand the gradient as:\n",
    "$$ \\nabla_{\\mathbf{w}} J(\\mathbf{w}) = \\frac{1}{n} \\sum_{i=1}^n (\\mathbf{x}_i^T \\mathbf{w} - y_i) \\mathbf{x}_i $$\n",
    "\n",
    "We can then update the weights in the opposite direction of the gradient using the learning rate $\\eta$:\n",
    "\n",
    "$$ \\mathbf{w} = \\mathbf{w} - \\eta \\nabla_{\\mathbf{w}} J(\\mathbf{w}) = \\mathbf{w} - \\eta \\frac{1}{n} \\sum_{i=1}^n (\\mathbf{x}_i^T \\mathbf{w} - y_i) \\mathbf{x}_i $$\n",
    "\n",
    "This process is repeated until the loss function reaches a minimum or the change in the weights is small enough."
   ]
  },
  {
   "cell_type": "markdown",
   "id": "acdd18cb",
   "metadata": {},
   "source": [
    "### Batch gradient descent algorithm pseudocode\n",
    "Here is a pseudocode for the batch gradient descent algorithm for minimizing a loss function $J(\\mathbf{w})$ with respect to the parameters $\\mathbf{w}$:\n",
    "\n"
   ]
  },
  {
   "cell_type": "code",
   "execution_count": null,
   "id": "000b974d",
   "metadata": {},
   "outputs": [],
   "source": [
    "input: learning rate eta, number of iterations n_iter\n",
    "\n",
    "# Initialize the weights w\n",
    "w = random initialization\n",
    "\n",
    "for iteration in range(n_iter):\n",
    "    # Calculate the gradient of the loss function with respect to the weights\n",
    "    gradient = gradient(J, w)\n",
    "    \n",
    "    # Update the weights in the opposite direction of the gradient\n",
    "    w = w - eta * gradient\n",
    "\n",
    "output: w"
   ]
  },
  {
   "cell_type": "markdown",
   "id": "4bdfdd20",
   "metadata": {},
   "source": [
    "This pseudocode assumes that the function gradient(J, w) calculates the gradient of the loss function $J$ with respect to the weights $\\mathbf{w}$, and returns it as a vector. The batch gradient descent algorithm iteratively updates the weights using the entire dataset, until the loss function reaches a minimum or the change in the weights is small enough."
   ]
  },
  {
   "cell_type": "code",
   "execution_count": null,
   "id": "c68a0118",
   "metadata": {},
   "outputs": [],
   "source": []
  },
  {
   "cell_type": "markdown",
   "id": "f8631fd0",
   "metadata": {},
   "source": [
    "### Stochastic gradient descent\n",
    "Stochastic gradient descent (SGD) is an optimization algorithm used to minimize a loss function in a model with multiple parameters, such as linear regression. Like batch gradient descent, SGD is an iterative algorithm that updates the model's parameters in the opposite direction of the gradient of the loss function. However, instead of calculating the gradient using the entire dataset, as in batch gradient descent, SGD calculates the gradient using a single sample at a time.\n",
    "\n",
    "In linear regression, we aim to find the values of the weights that minimize the mean squared error (MSE) between the predicted output and the true output. The MSE for a single sample is given by:\n",
    "\n",
    "$$ MSE(\\mathbf{w}) = \\frac{1}{2}(\\mathbf{x}^T \\mathbf{w} - y)^2 $$\n",
    "\n",
    "Where $\\mathbf{w}$ is the vector of weights, $\\mathbf{x}$ is the input feature vector, and $y$ is the true output.\n",
    "\n",
    "To minimize the MSE for a dataset with $n$ samples, we can use SGD to iteratively update the weights. In each iteration, we randomly select a sample from the dataset and calculate the gradient of the MSE with respect to the weights using only that sample:\n",
    "\n",
    "$$ \\nabla_{\\mathbf{w}} MSE(\\mathbf{w}) = (\\mathbf{x}^T \\mathbf{w} - y) \\mathbf{x} $$\n",
    "\n",
    "We can then update the weights in the opposite direction of the gradient using the learning rate $\\eta$:\n",
    "\n",
    "$$ \\mathbf{w} = \\mathbf{w} - \\eta \\nabla_{\\mathbf{w}} MSE(\\mathbf{w}) = \\mathbf{w} - \\eta (\\mathbf{x}^T \\mathbf{w} - y) \\mathbf{x} $$\n",
    "\n",
    "This process is repeated for a number of iterations, using a different sample in each iteration.\n",
    "One advantage of SGD over batch gradient descent is that it can make faster progress towards a minimum of the loss function, since it processes samples one at a time and updates the weights more frequently. However, the updates made by SGD can also be more erratic and have higher variance, which can make the optimization process more noisy and may lead to suboptimal solutions."
   ]
  },
  {
   "cell_type": "markdown",
   "id": "357bf7fc",
   "metadata": {},
   "source": [
    "### Stochastic gradient descent  algorithm pseudocode\n",
    "\n",
    "Here is a pseudocode for the stochastic gradient descent (SGD) algorithm for minimizing a loss function $J(\\mathbf{w})$ with respect to the parameters $\\mathbf{w}$:"
   ]
  },
  {
   "cell_type": "code",
   "execution_count": null,
   "id": "c76e305d",
   "metadata": {},
   "outputs": [],
   "source": [
    "input: learning rate eta, number of iterations n_iter\n",
    "\n",
    "# Initialize the weights w\n",
    "w = random initialization\n",
    "\n",
    "for iteration in range(n_iter):\n",
    "    # Shuffle the data at the beginning of the epoch\n",
    "    shuffled_indices = shuffle(data)\n",
    "    X_shuffled = X[shuffled_indices]\n",
    "    y_shuffled = y[shuffled_indices]\n",
    "    \n",
    "    for i in range(n):\n",
    "        # Select a sample from the data\n",
    "        x_i = X_shuffled[i]\n",
    "        y_i = y_shuffled[i]\n",
    "        \n",
    "        # Calculate the gradient of the loss function with respect to the weights\n",
    "        gradient = gradient(J, w, x_i, y_i)\n",
    "        \n",
    "        # Update the weights in the opposite direction of the gradient\n",
    "        w = w - eta * gradient\n",
    "output: w\n"
   ]
  },
  {
   "cell_type": "markdown",
   "id": "8bf4d6bd",
   "metadata": {},
   "source": [
    "This pseudocode assumes that the function gradient(J, w, x, y) calculates the gradient of the loss function $J$ with respect to the weights $\\mathbf{w}$ using the sample (x, y), and returns it as a vector. It also assumes that the function shuffle(data) shuffles the data and returns a list of shuffled indices. The SGD algorithm iteratively updates the weights using a single sample at a time, until the loss function reaches a minimum or the change in the weights is small enough."
   ]
  },
  {
   "cell_type": "code",
   "execution_count": null,
   "id": "9ab3cde3",
   "metadata": {},
   "outputs": [],
   "source": []
  },
  {
   "cell_type": "code",
   "execution_count": 223,
   "id": "3bacfc1a",
   "metadata": {},
   "outputs": [
    {
     "name": "stdout",
     "output_type": "stream",
     "text": [
      "[[4.1699862 ]\n",
      " [2.96811741]]\n"
     ]
    }
   ],
   "source": [
    "import numpy as np\n",
    "\n",
    "# Generate some synthetic data\n",
    "np.random.seed(42)\n",
    "X = 2 * np.random.rand(100, 1)\n",
    "y = 4 + 3 * X + np.random.randn(100, 1)\n",
    "\n",
    "# Add a column of ones to X to represent the bias term\n",
    "X_b = np.c_[np.ones((100, 1)), X]\n",
    "\n",
    "# Initialize the weights randomly\n",
    "w = np.random.randn(2, 1)\n",
    "\n",
    "# Set the learning rate and the number of iterations\n",
    "eta = 0.1\n",
    "n_iter = 50\n",
    "\n",
    "\n",
    "# Perform SGD for n_iter iterations\n",
    "for iteration in range(n_iter):\n",
    "    for i in range(len(X_b)):\n",
    "        # Select a sample from the data\n",
    "        x_i = X_b[i:i+1]\n",
    "        y_i = y[i:i+1]\n",
    "        \n",
    "        # Calculate the error\n",
    "        y_pred = x_i.dot(w)\n",
    "        error = y_i - y_pred\n",
    "        \n",
    "        # Calculate the gradient of the error with respect to the weights\n",
    "        gradient = -2 * x_i.T.dot(error)\n",
    "        \n",
    "        # Update the weights\n",
    "        w = w - eta * gradient\n",
    "print(w)\n"
   ]
  },
  {
   "cell_type": "code",
   "execution_count": null,
   "id": "efbf6e76",
   "metadata": {},
   "outputs": [],
   "source": []
  },
  {
   "cell_type": "markdown",
   "id": "25216510",
   "metadata": {},
   "source": [
    "Here's a brief explanation of what's happening in the code:\n",
    "\n",
    "- We generate some synthetic data with a linear relationship and add some noise.\n",
    "- We add a column of ones to the feature matrix X to represent the bias term.\n",
    "- We initialize the weights randomly.\n",
    "- We set the learning rate `eta` and the number of iterations `n_iter`.\n",
    "- We perform SGD for n_iter iterations. In each iteration, we:\n",
    "    - Select a sample from the data.\n",
    "    - Calculate the error between the predicted value and the true value for the sample.\n",
    "    - Calculate the gradient of the error with respect to the weights using the sample.\n",
    "    - Update the weights using the gradient and the learning rate.\n",
    "- Finally, we print the weights, which should be close to the true weights of the synthetic data we generated."
   ]
  },
  {
   "cell_type": "code",
   "execution_count": null,
   "id": "fc16dbc4",
   "metadata": {},
   "outputs": [],
   "source": []
  },
  {
   "cell_type": "markdown",
   "id": "81f2449e",
   "metadata": {},
   "source": [
    "### Mini-batch gradient descent\n",
    "Mini-batch gradient descent is an optimization algorithm used to minimize a loss function in a model with multiple parameters, such as linear regression. Like batch gradient descent, mini-batch gradient descent calculates the gradient of the loss function using the entire dataset. However, instead of updating the model's parameters using the entire dataset, as in batch gradient descent, mini-batch gradient descent divides the dataset into smaller \"mini-batches\" and updates the model's parameters using a mini-batch of samples at a time.\n",
    "\n",
    "In linear regression, we aim to find the values of the weights that minimize the mean squared error (MSE) between the predicted output and the true output. The MSE for a single sample is given by:\n",
    "\n",
    "$$ MSE(\\mathbf{w}) = \\frac{1}{2}(\\mathbf{x}^T \\mathbf{w} - y)^2 $$\n",
    "\n",
    "Where $\\mathbf{w}$ is the vector of weights, $\\mathbf{x}$ is the input feature vector, and $y$ is the true output.\n",
    "\n",
    "To minimize the MSE for a dataset with $n$ samples, we can use mini-batch gradient descent to iteratively update the weights. In each iteration, we divide the dataset into mini-batches of size $m$, and calculate the gradient of the MSE with respect to the weights using the samples in a single mini-batch:\n",
    "$$ \\nabla_{\\mathbf{w}} MSE(\\mathbf{w}) = \\frac{1}{m} \\sum_{i=1}^m (\\mathbf{x}_i^T \\mathbf{w} - y_i) \\mathbf{x}_i $$\n",
    "\n",
    "Where the sum is over the $m$ samples in the mini-batch.\n",
    "\n",
    "We can then update the weights in the opposite direction of the gradient using the learning rate $\\eta$:\n",
    "\n",
    "$$ \\mathbf{w} = \\mathbf{w} - \\eta \\nabla_{\\mathbf{w}} MSE(\\mathbf{w}) = \\mathbf{w} - \\eta \\frac{1}{m} \\sum_{i=1}^m (\\mathbf{x}_i^T \\mathbf{w} - y_i) \\mathbf{x}_i $$\n",
    "\n",
    "This process is repeated for a number of iterations, using a different mini-batch of samples in each iteration.\n",
    "\n",
    "One advantage of mini-batch gradient descent over batch gradient descent is that it can make faster progress towards a minimum of the loss function, since it processes samples in smaller batches and updates the weights more frequently. However, it still requires the storage and processing of the entire dataset, as opposed to stochastic gradient descent which only requires the storage and processing of a single sample at a time."
   ]
  },
  {
   "cell_type": "markdown",
   "id": "c5b81947",
   "metadata": {},
   "source": [
    "### Mini-Batch gradient descent algorithm pseudocode\n",
    "Here is a pseudocode for the mini-batch gradient descent algorithm for minimizing a loss function $J(\\mathbf{w})$ with respect to the parameters $\\mathbf{w}$:"
   ]
  },
  {
   "cell_type": "code",
   "execution_count": null,
   "id": "944ba601",
   "metadata": {},
   "outputs": [],
   "source": [
    "input: learning rate eta, number of iterations n_iter, mini-batch size m\n",
    "\n",
    "# Initialize the weights w\n",
    "w = random initialization\n",
    "\n",
    "for iteration in range(n_iter):\n",
    "    # Shuffle the data at the beginning of the epoch\n",
    "    shuffled_indices = shuffle(data)\n",
    "    X_shuffled = X[shuffled_indices]\n",
    "    y_shuffled = y[shuffled_indices]\n",
    "    \n",
    "    # Split the data into mini-batches\n",
    "    mini_batches = [(X_shuffled[i:i+m], y_shuffled[i:i+m]) for i in range(0, n, m)]\n",
    "    \n",
    "    # Update the weights for each mini-batch\n",
    "    for mini_batch in mini_batches:\n",
    "        X_mini, y_mini = mini_batch\n",
    "        # Calculate the gradient of the loss function with respect to the weights\n",
    "        gradient = gradient(J, w, X_mini, y_mini)\n",
    "        \n",
    "        # Update the weights in the opposite direction of the gradient\n",
    "        w = w - eta * gradient\n",
    "output: w"
   ]
  },
  {
   "cell_type": "markdown",
   "id": "1ad34316",
   "metadata": {},
   "source": [
    "This pseudocode assumes that the function gradient(J, w, X, y) calculates the gradient of the loss function $J$ with respect to the weights $\\mathbf{w}$ using the samples in the mini-batch (X, y), and returns it as a vector. It also assumes that the function shuffle(data) shuffles the data and returns a list of shuffled indices. The mini-batch gradient descent algorithm iteratively updates the weights using small batches of samples from the dataset, until the loss function reaches a minimum or the change in the weights is small enough."
   ]
  },
  {
   "cell_type": "markdown",
   "id": "ab50b424",
   "metadata": {},
   "source": [
    "### Example"
   ]
  },
  {
   "cell_type": "code",
   "execution_count": null,
   "id": "dbf5b425",
   "metadata": {},
   "outputs": [],
   "source": [
    "import numpy as np\n",
    "# Generate some synthetic data\n",
    "np.random.seed(42)\n",
    "X = 2 * np.random.rand(100, 1)\n",
    "y = 4 + 3 * X + np.random.randn(100, 1)\n",
    "\n",
    "# Add a column of ones to X to represent the bias term\n",
    "X_b = np.c_[np.ones((100, 1)), X]\n",
    "\n",
    "# Initialize the weights randomly\n",
    "w = np.random.randn(2, 1)\n",
    "\n",
    "# Set the learning rate and the number of samples per mini-batch\n",
    "eta = 0.1\n",
    "batch_size = 20\n",
    "\n",
    "# Perform mini-batch gradient descent for 50 iterations\n",
    "for iteration in range(50):\n",
    "    # Shuffle the data at the beginning of each epoch\n",
    "    shuffled_indices = np.random.permutation(len(X_b))\n",
    "    X_b_shuffled = X_b[shuffled_indices]\n",
    "    y_shuffled = y[shuffled_indices]\n",
    "    \n",
    "    # Split the data into mini-batches\n",
    "    mini_batches = [(X_b_shuffled[i:i+batch_size], y_shuffled[i:i+batch_size])\n",
    "                    for i in range(0, len(X_b_shuffled), batch_size)]\n",
    "    \n",
    "    # Update the weights for each mini-batch\n",
    "    for mini_batch in mini_batches:\n",
    "        X_mini, y_mini = mini_batch\n",
    "        # Calculate the error\n",
    "        y_pred = X_mini.dot(w)\n",
    "        error = y_mini - y_pred\n",
    "        \n",
    "        # Calculate the gradient of the error with respect to the weights\n",
    "        gradient = -2 * X_mini.T.dot(error) / len(X_mini)\n",
    "        \n",
    "        # Update the weights\n",
    "        w = w - eta * gradient\n",
    "print(w)\n"
   ]
  },
  {
   "cell_type": "markdown",
   "id": "399d323a",
   "metadata": {},
   "source": [
    "Here's a brief explanation of what's happening in the code:\n",
    "\n",
    "- We generate some synthetic data with a linear relationship and add some noise.\n",
    "- We add a column of ones to the feature matrix X to represent the bias term.\n",
    "- We initialize the weights randomly.\n",
    "- We set the learning rate eta and the number of samples per mini-batch batch_size.\n",
    "- We perform mini-batch gradient descent for 50 iterations. In each iteration, we:\n",
    "    - Shuffle the data at the beginning of the epoch.\n",
    "    - Split the data into mini-batches.\n",
    "    - For each mini-batch, we:\n",
    "        - Calculate the error between the predicted values and the true values.\n",
    "        - Calculate the gradient of the error with respect to the weights.\n",
    "        - Update the weights using the gradient and the learning rate.\n",
    "- Finally, we print the weights, which should be close to the true weights of the synthetic data we generated."
   ]
  },
  {
   "cell_type": "markdown",
   "id": "33b394f3",
   "metadata": {},
   "source": [
    "### Two extension to the algorithm\n",
    "#### 1. Normal equation for numeric solution\n",
    "To solve the minimization problem we can solve it $[ min J(\\theta_0, \\theta_1) ]$ exactly using a numeric method which avoids the iterative approach used by gradient descent. Normal equations method has advantages and disadvantages.\n",
    "\n",
    "**Advantage:**\n",
    "- No longer an alpha term\n",
    "- Can be much faster for some problems\n",
    "\n",
    "**Disadvantage:**\n",
    "- Much more complicated\n",
    "\n",
    "We discuss the normal equation in the linear regression with multiple features section\n",
    "#### 2. We can learn with a larger number of features\n",
    "- There are many parameters which contribute towards a price e.g. with houses (Size, Age, Number bedrooms, Number floors).\n",
    "- With multiple features becomes hard to plot can't really plot in more than 3 dimensions. Notation becomes more complicated too\n",
    "    - Best way to get around with this is the notation of linear algebra\n",
    "    - Gives notation and set of things you can do with matrices and vectors e.g. Matrix\n",
    "- We see here this matrix shows us (Size, Number of bedrooms, Number floors, Age of home). All in one variable Block of numbers, take all data organized into one big block. Vector shown as y, shows us the prices.\n",
    "\n",
    "<img src=\"images/p30.png\" align=\"left\">\n",
    "<img src=\"images/p31.png\" align=\"center\">\n",
    "\n"
   ]
  },
  {
   "cell_type": "markdown",
   "id": "3d28872c",
   "metadata": {},
   "source": [
    "<h2>Linear regression with multiple features(Multivariate)</h2>\n",
    "<img src=\"images/p32.png\">\n",
    "\n",
    "**Hypothesis:**\n",
    "$$h_\\theta (X) = \\theta_0 + \\theta_1 x_1 + \\theta_2x_2 + \\theta_3x_3 + ⋯ + \\theta_nx_n$$\n",
    "\n",
    "**Notation:**\n",
    "\n",
    "- **m** = Number of training samples\n",
    "- **n** = Number of features\n",
    "- **x** = Feature\n",
    "- **y** = Label\n",
    "- $(x_{j}^{(i)}, y_{j}^{(i)})$: the jth feature of the ith sample in the dataset\n",
    "\n",
    "<h4 align=\"center\">Hypothesis</h4>\n",
    "\n",
    "**Previously:**\n",
    "$$h_\\theta(x) = \\theta_0 + \\theta_1x$$\n",
    "\n",
    "**Now:**\n",
    "$$h_\\theta (x) = \\theta_0 + \\theta_1 x_1 + \\theta_2x_2 + \\theta_3x_3 + ⋯ + \\theta_nx_n$$\n",
    "\n",
    "where, $X = [x_1, x_2 ... x_n]$ is the n-dimensional feature vector, and $\\theta = [\\theta_0, \\theta_1 ... \\theta_n]$ is an (n+1)-dimensional vector of weights.\n",
    "\n",
    "To make this more uniform, assume $x_0 = 1$ to get:\n",
    "$$h_\\theta (X) = \\theta_0x_0 + \\theta_1 x_1 + \\theta_2x_2 + \\theta_3x_3 + ⋯ + \\theta_nx_n$$\n",
    "\n",
    "where, $X = [x_0,x_1, x_2 ... x_n]$ is the (n+1)-dimensional feature vector, and $\\theta = [\\theta_0, \\theta_1 ... \\theta_n]$ is an (n+1)-dimensional vector of weights.\n",
    "\n",
    "<h4 align=\"center\">Geometric Interpretation</h4>\n",
    "$$h_\\theta (X) = \\theta_0x_0 + \\theta_1 x_1 + \\theta_2x_2 $$ (a 2-D hyperplane in 3-D)\n",
    "<img src=\"images/p33.gif\" align=\"center\">"
   ]
  },
  {
   "cell_type": "markdown",
   "id": "ea732cc6",
   "metadata": {},
   "source": [
    "<h4 align=\"center\">Vectorizing the notation</h4>\n",
    "\n",
    "$$h_\\theta (x) = \\theta_0x_0 + \\theta_1 x_1 + \\theta_2x_2 + \\theta_3x_3 + ⋯ + \\theta_nx_n$$.\n",
    "\n",
    "Now we can redefine our hypothesis as:\n",
    "\n",
    "$$\\theta= \\begin{bmatrix} \\theta_0 \\\\ \\theta_1 \\\\ .. \\\\ \\theta_n \\end{bmatrix} \\;\\; X = \\begin{bmatrix} x_0 \\\\ x_1 \\\\ .. \\\\ x_n \\end{bmatrix}$$ and where $\\theta \\; \\epsilon \\; R ^ {n+1}$ and $X \\; \\epsilon \\; R ^ {n+1}$ and ,\n",
    "$$h_\\theta(X) = \\theta^TX$$\n",
    "This is represents **Multivariate Linear Regression**."
   ]
  },
  {
   "cell_type": "markdown",
   "id": "6794dd14",
   "metadata": {},
   "source": [
    "<h4 align=\"center\">For m-training instances<h4>\n",
    "\n",
    "$$h_\\theta (X) = \\theta_0x_0 + \\theta_1 x_1 + \\theta_2x_2 + \\theta_3x_3 + ⋯ + \\theta_nx_n$$.\n",
    "\n",
    "<img src=\"images/p33.png\" align=\"center\">\n",
    "\n",
    "$h_\\theta(X) = \\theta^TX = ?$"
   ]
  },
  {
   "cell_type": "markdown",
   "id": "e900a9be",
   "metadata": {},
   "source": [
    "### Example"
   ]
  },
  {
   "cell_type": "code",
   "execution_count": 126,
   "id": "19d21605",
   "metadata": {},
   "outputs": [
    {
     "data": {
      "text/html": [
       "<div>\n",
       "<style scoped>\n",
       "    .dataframe tbody tr th:only-of-type {\n",
       "        vertical-align: middle;\n",
       "    }\n",
       "\n",
       "    .dataframe tbody tr th {\n",
       "        vertical-align: top;\n",
       "    }\n",
       "\n",
       "    .dataframe thead th {\n",
       "        text-align: right;\n",
       "    }\n",
       "</style>\n",
       "<table border=\"1\" class=\"dataframe\">\n",
       "  <thead>\n",
       "    <tr style=\"text-align: right;\">\n",
       "      <th></th>\n",
       "      <th>speed</th>\n",
       "      <th>dist</th>\n",
       "    </tr>\n",
       "  </thead>\n",
       "  <tbody>\n",
       "    <tr>\n",
       "      <th>0</th>\n",
       "      <td>4</td>\n",
       "      <td>2</td>\n",
       "    </tr>\n",
       "    <tr>\n",
       "      <th>1</th>\n",
       "      <td>4</td>\n",
       "      <td>10</td>\n",
       "    </tr>\n",
       "  </tbody>\n",
       "</table>\n",
       "</div>"
      ],
      "text/plain": [
       "   speed  dist\n",
       "0      4     2\n",
       "1      4    10"
      ]
     },
     "execution_count": 126,
     "metadata": {},
     "output_type": "execute_result"
    }
   ],
   "source": [
    "import pandas as pd\n",
    "import matplotlib.pyplot as plt\n",
    "# To b#uild linear regression we will use the classic cars data from cmdlinetips.com‘s github page.\n",
    "data_url = 'https://raw.githubusercontent.com/cmdlinetips/data/master/cars.tsv'\n",
    "cars = pd.read_csv(data_url, sep=\"\\t\")\n",
    "cars.head(2)\n",
    "# cars dataset contains distance needed for cars at different speeds to stop from 1920 cars. "
   ]
  },
  {
   "cell_type": "code",
   "execution_count": 127,
   "id": "3dc74177",
   "metadata": {},
   "outputs": [
    {
     "data": {
      "image/png": "[encoded data removed]",
      "text/plain": [
       "<Figure size 432x288 with 1 Axes>"
      ]
     },
     "metadata": {
      "needs_background": "light"
     },
     "output_type": "display_data"
    }
   ],
   "source": [
    "# First, we visualize the relationship between speed and dist variables using a scatter plot.\n",
    "sns.scatterplot(x=\"dist\", y=\"speed\", data=cars);\n",
    "# We can see a clear linear relationship between the two variables."
   ]
  },
  {
   "cell_type": "markdown",
   "id": "dae91f2d",
   "metadata": {},
   "source": [
    "Here `X` is the predictor variable and `Y` is response variable. Our observed data are pairs of x and y values\n",
    "$$(x_1,y_1),(x_2,y_2),(x_3,y_3).....(x_n, y_n)$$.\n",
    "With linear regression model, we fit our observed data and estimate the parameters of the linear model.\n",
    "$$ y = w_0 + w_1x+ e$$"
   ]
  },
  {
   "cell_type": "code",
   "execution_count": 143,
   "id": "1eaa85b1",
   "metadata": {},
   "outputs": [],
   "source": [
    "# Add a column of ones to X to represent the bias term using np.vstack or np.c_\n",
    "X = cars.dist.values\n",
    "Y = cars.speed.values\n",
    "X_mat = np.vstack((np.ones(len(X)),X)).T\n"
   ]
  },
  {
   "cell_type": "markdown",
   "id": "71c62ce0",
   "metadata": {},
   "source": [
    "Our the goal is to minimize the mean square error of a system of linear equations we can get our parameter estimates in the form of matrix multiplications.\n",
    "$$ \\mathbf{w} \\;\\;or\\; \\beta^\\hat \\;= (\\mathbf{X}^T \\mathbf{X})^{-1} \\mathbf{X}^T \\mathbf{y} $$\n"
   ]
  },
  {
   "cell_type": "code",
   "execution_count": 144,
   "id": "9f1cc885",
   "metadata": {},
   "outputs": [
    {
     "data": {
      "text/plain": [
       "array([8.28390564, 0.16556757])"
      ]
     },
     "execution_count": 144,
     "metadata": {},
     "output_type": "execute_result"
    }
   ],
   "source": [
    "beta_hat = np.linalg.inv(X_mat.T.dot(X_mat)).dot(X_mat.T).dot(Y)\n",
    "beta_hat"
   ]
  },
  {
   "cell_type": "markdown",
   "id": "e6745eee",
   "metadata": {},
   "source": [
    "It is vector containing y-axis intercept and slope of the linear regression model. Let us use the parameters to estimate the values of Y using X values. "
   ]
  },
  {
   "cell_type": "code",
   "execution_count": 224,
   "id": "9e4a78e0",
   "metadata": {
    "scrolled": true
   },
   "outputs": [
    {
     "data": {
      "text/plain": [
       "array([ 8.61504079,  9.93958139,  8.94617594, 11.92639228, 10.93298684,\n",
       "        9.93958139, 11.26412199, 12.58866258, 13.91320318, 11.09855441,\n",
       "       12.91979773, 10.60185169, 11.59525713, 12.25752743, 12.91979773,\n",
       "       12.58866258, 13.91320318, 13.91320318, 15.90001408, 12.58866258,\n",
       "       14.24433833, 18.21796012, 21.52931161, 11.59525713, 12.58866258,\n",
       "       17.22455467, 13.58206803, 14.90660863, 13.58206803, 14.90660863,\n",
       "       16.56228437, 15.23774378, 17.55568982, 20.86704131, 22.19158191,\n",
       "       14.24433833, 15.90001408, 19.54250072, 13.58206803, 16.23114922,\n",
       "       16.89341952, 17.55568982, 18.88023042, 19.21136557, 17.22455467,\n",
       "       19.87363587, 23.51612251, 23.68169008, 28.1520146 , 22.35714949])"
      ]
     },
     "execution_count": 224,
     "metadata": {},
     "output_type": "execute_result"
    }
   ],
   "source": [
    "# predict using coefficients\n",
    "y_pred = X_mat.dot(beta_hat)\n",
    "y_pred"
   ]
  },
  {
   "cell_type": "code",
   "execution_count": 146,
   "id": "3b04bd12",
   "metadata": {},
   "outputs": [
    {
     "data": {
      "image/png": "[encoded data removed]",
      "text/plain": [
       "<Figure size 432x288 with 1 Axes>"
      ]
     },
     "metadata": {
      "needs_background": "light"
     },
     "output_type": "display_data"
    }
   ],
   "source": [
    "# plot data and predictions\n",
    "plt.scatter(X, Y)\n",
    "plt.plot(X, y_pred, color='red');"
   ]
  },
  {
   "cell_type": "code",
   "execution_count": null,
   "id": "ae297a02",
   "metadata": {},
   "outputs": [],
   "source": []
  },
  {
   "cell_type": "markdown",
   "id": "4b878b5b",
   "metadata": {},
   "source": [
    "<h4 align=\"center\">Gradient descent for multiple variables</h4>\n",
    "\n",
    "Fitting parameters for the hypothesis with gradient descent \n",
    "- Parameters are $\\theta_0 \\;\\; to \\;\\; \\theta_n$.\n",
    "- Instead of thinking about this as n separate values, think about the parameters as a single vector (θ). Where θ is n+1 dimensional \n",
    "\n",
    "**Hypothesis:**\n",
    "$$h_\\theta (x)= h_\\theta(X) = \\theta^TX = \\theta_0x_0 + \\theta_1 x_1 + \\theta_2x_2 + \\theta_3x_3 + ⋯ + \\theta_nx_n$$.\n",
    "\n",
    "**Parameter vector:** \n",
    "$$\\theta = \\theta_0, \\theta_1 ... \\theta_n$$\n",
    "\n",
    "**Feature vector:** \n",
    "$$x = x_0x_1 ⋯ x_n$$\n",
    "\n",
    "**Cost Function**:\n",
    "\n",
    "$$J(\\theta) = \\frac{1}{2n} \\sum_{i=1}^n \\left( h_\\theta(x^{(i)}) - y^{(i)} \\right)^2$$\n",
    "\n",
    "**Gradient Descent:**\n",
    "\n",
    "repeat{\n",
    "\n",
    "$$ \\theta_j := \\theta_j - \\alpha \\frac{\\partial} {\\partial \\theta_j} (J(\\theta))  \\;\\;\\;\\;\\;\\; // simultaneously \\; update \\; for \\;\\; all \\;\\; j = 0,1,..n $$\n",
    "}\n",
    "\n",
    "**Previously (n=1):**\n",
    "\n",
    "repeat{\n",
    "\n",
    "$$ \\theta_0 := \\theta_0 - \\alpha \\frac{\\partial} {\\partial \\theta_0} (J(\\theta)) $$  \n",
    "\n",
    "$$ \\theta_1 := \\theta_1 - \\alpha \\frac{\\partial} {\\partial \\theta_1} (J(\\theta)) \\;\\;\\;\\;\\; (simultaneously \\; update \\; \\theta_0, theta_1) $$\n",
    "}\n",
    "\n",
    "**New Algorithm (n $\\geq$ 1):**\n",
    "\n",
    "repeat{\n",
    "\n",
    "$$ \\theta_j := \\theta_j - \\alpha \\frac{\\partial} {\\partial \\theta_j} (J(\\theta))  \\;\\;\\;\\;\\;\\; // simultaneously \\; update \\; for \\;\\; all \\;\\; j = 0,1,..n $$\n",
    "}\n",
    "\n",
    "**Question:** Find $\\theta_0, \\theta_1, \\theta_2=?$"
   ]
  },
  {
   "cell_type": "markdown",
   "id": "e7d83087",
   "metadata": {},
   "source": [
    "### Implementing Gradient Descent using `Python` and `scikit-learn`."
   ]
  },
  {
   "cell_type": "code",
   "execution_count": 156,
   "id": "ccd7763f",
   "metadata": {},
   "outputs": [],
   "source": [
    "def generateXvector(X):\n",
    "    \"\"\" Taking the original independent variables matrix and add a row of 1 which corresponds to x_0\n",
    "        Parameters:\n",
    "          X:  independent variables matrix\n",
    "        Return value: the matrix that contains all the values in the dataset, not include the outcomes values \n",
    "    \"\"\"\n",
    "    vectorX = np.c_[np.ones((len(X), 1)), X]\n",
    "    return vectorX"
   ]
  },
  {
   "cell_type": "code",
   "execution_count": 157,
   "id": "151aea03",
   "metadata": {},
   "outputs": [],
   "source": [
    "def theta_init(X):\n",
    "    \"\"\" Generate an initial value of vector θ from the original independent variables matrix\n",
    "         Parameters:\n",
    "          X:  independent variables matrix\n",
    "        Return value: a vector of theta filled with initial guess\n",
    "    \"\"\"\n",
    "    theta = np.random.randn(len(X[0])+1, 1)\n",
    "    return theta"
   ]
  },
  {
   "cell_type": "code",
   "execution_count": 225,
   "id": "2187f1c3",
   "metadata": {},
   "outputs": [],
   "source": [
    "def Multivariable_Linear_Regression(X,y,learningrate, iterations):\n",
    "    \"\"\" Find the multivarite regression model for the data set\n",
    "         Parameters:\n",
    "          X:  independent variables matrix\n",
    "          y: dependent variables matrix\n",
    "          learningrate: learningrate of Gradient Descent\n",
    "          iterations: the number of iterations\n",
    "        Return value: the final theta vector and the plot of cost function\n",
    "    \"\"\"\n",
    "    y_new = np.reshape(y, (len(y), 1))   \n",
    "    cost_lst = []\n",
    "    vectorX = generateXvector(X)\n",
    "    theta = theta_init(X)\n",
    "    m = len(X)\n",
    "    for i in range(iterations):\n",
    "        gradients = 2/m * vectorX.T.dot(vectorX.dot(theta) - y_new)\n",
    "        theta = theta - learningrate * gradients\n",
    "        y_pred = vectorX.dot(theta)\n",
    "        cost_value = 1/(2*len(y))*((y_pred - y)**2) #Calculate the loss for each training instance\n",
    "        total = 0\n",
    "        for i in range(len(y)):\n",
    "            total += cost_value[i][0] #Calculate the cost function for each iteration\n",
    "        cost_lst.append(total)\n",
    "    plt.plot(np.arange(1,iterations),cost_lst[1:], color = 'red')\n",
    "    plt.title('Cost function Graph')\n",
    "    plt.xlabel('Number of iterations')\n",
    "    plt.ylabel('Cost')\n",
    "    return theta"
   ]
  },
  {
   "cell_type": "markdown",
   "id": "0ef98cb9",
   "metadata": {},
   "source": [
    "- This is a function for performing multivariate linear regression using gradient descent. The function takes four input parameters:\n",
    "\n",
    "    - `X` : a matrix of independent variables\n",
    "    - `y` : a matrix of dependent variables\n",
    "    - `learning-rate` : the learning rate for the gradient descent algorithm\n",
    "    - `iterations` : the number of iterations for the gradient descent algorithm\n",
    "\n",
    "- The function first reshapes the y matrix into a column vector, and then generates a feature vector vectorX by adding a column of ones to X. It initializes the model weights (theta) using the theta_init function (not shown).\n",
    "\n",
    "- The function then performs gradient descent by iterating over the number of iterations specified. For each iteration, it calculates the gradients using the feature vector vectorX and the model weights theta, updates the model weights, and calculates the mean squared error between the predicted values and the true values. The cost function is also calculated and appended to a list cost_lst.\n",
    "\n",
    "- Finally, the function plots the cost function using the number of iterations as the x-axis and the cost function as the y-axis. It returns the final model weights (theta)."
   ]
  },
  {
   "cell_type": "code",
   "execution_count": null,
   "id": "733fa62c",
   "metadata": {},
   "outputs": [],
   "source": []
  },
  {
   "cell_type": "markdown",
   "id": "312f3049",
   "metadata": {},
   "source": [
    "### Checking the code with built-in Linear Regression from sklearn"
   ]
  },
  {
   "cell_type": "code",
   "execution_count": 226,
   "id": "b44707d6",
   "metadata": {},
   "outputs": [],
   "source": [
    "from sklearn.datasets import load_diabetes\n",
    "diabetes = load_diabetes()\n",
    "X = diabetes.data\n",
    "y = diabetes.target"
   ]
  },
  {
   "cell_type": "code",
   "execution_count": 166,
   "id": "bd725186",
   "metadata": {},
   "outputs": [],
   "source": [
    "from sklearn.preprocessing import StandardScaler\n",
    "sc=StandardScaler()\n",
    "X_transform=sc.fit_transform(X)"
   ]
  },
  {
   "cell_type": "code",
   "execution_count": 227,
   "id": "337c5106",
   "metadata": {},
   "outputs": [
    {
     "data": {
      "text/plain": [
       "(152.13348416289594,\n",
       " array([ -0.47623169, -11.40703082,  24.72625713,  15.42967916,\n",
       "        -37.68035801,  22.67648701,   4.80620008,   8.422084  ,\n",
       "         35.73471316,   3.21661161]))"
      ]
     },
     "execution_count": 227,
     "metadata": {},
     "output_type": "execute_result"
    }
   ],
   "source": [
    "from sklearn.linear_model import LinearRegression\n",
    "lin_reg = LinearRegression()\n",
    "lin_reg.fit(X_transform, y)\n",
    "lin_reg.intercept_, lin_reg.coef_"
   ]
  },
  {
   "cell_type": "code",
   "execution_count": 228,
   "id": "3574ea89",
   "metadata": {
    "scrolled": true
   },
   "outputs": [
    {
     "data": {
      "text/plain": [
       "array([[152.13348416],\n",
       "       [ -0.3756836 ],\n",
       "       [-11.29461849],\n",
       "       [ 24.98117024],\n",
       "       [ 15.331643  ],\n",
       "       [-15.87196745],\n",
       "       [  5.35824149],\n",
       "       [ -4.93151521],\n",
       "       [  5.66509548],\n",
       "       [ 27.60164001],\n",
       "       [  3.29631025]])"
      ]
     },
     "execution_count": 228,
     "metadata": {},
     "output_type": "execute_result"
    },
    {
     "data": {
      "image/png": "[encoded data removed]",
      "text/plain": [
       "<Figure size 432x288 with 1 Axes>"
      ]
     },
     "metadata": {
      "needs_background": "light"
     },
     "output_type": "display_data"
    }
   ],
   "source": [
    "Multivariable_Linear_Regression(X_transform,y, 0.01, 3000)"
   ]
  },
  {
   "cell_type": "code",
   "execution_count": 229,
   "id": "58dac62b",
   "metadata": {},
   "outputs": [
    {
     "data": {
      "text/plain": [
       "array([[151.75490936],\n",
       "       [ -0.29632997],\n",
       "       [-11.22544074],\n",
       "       [ 25.14272388],\n",
       "       [ 15.26133206],\n",
       "       [ -3.19980516],\n",
       "       [ -5.24870086],\n",
       "       [ -9.91778104],\n",
       "       [  5.26898257],\n",
       "       [ 22.26433815],\n",
       "       [  3.62147395]])"
      ]
     },
     "execution_count": 229,
     "metadata": {},
     "output_type": "execute_result"
    },
    {
     "data": {
      "image/png": "[encoded data removed]",
      "text/plain": [
       "<Figure size 432x288 with 1 Axes>"
      ]
     },
     "metadata": {
      "needs_background": "light"
     },
     "output_type": "display_data"
    }
   ],
   "source": [
    "Multivariable_Linear_Regression(X_transform,y, 0.001, 3000)"
   ]
  },
  {
   "cell_type": "markdown",
   "id": "389b2ba0",
   "metadata": {},
   "source": [
    "<h4 align=\"center\">Practical Issues: Feature Scaling</h4>\n"
   ]
  },
  {
   "cell_type": "markdown",
   "id": "63cfdb42",
   "metadata": {},
   "source": [
    "Feature scaling is a technique that is used to standardize the range of independent variables or features of a data set. In linear regression, it is important to scale the features because the scale of the variables can affect the model's performance.\n",
    "\n",
    "Feature Scaling:\n",
    "   - If you have a problem with multiple features\n",
    "   - We should make sure those features have a similar scale. It means gradient descent will converge more quickly.\n",
    "**Example:**\n",
    "   - `x1` = size (0 - 2000 feet)\n",
    "   - `x2` = number of bedrooms (1-5)\n",
    "\n",
    "**Note:**\n",
    "This type of data generated `contours` as below if we plot $\\theta_1 \\; vs.\\; \\theta_2$ give a very tall and thin shape due to the huge range difference. Running gradient descent on this kind of cost function can take a long time to find the global minimum.\n",
    "<img src=\"images/p34.png\">\n",
    "\n",
    "Without scaling, the feature x1 will dominate the model because its range is much larger than the range of x2. As a result, the model may be biased towards x1. To avoid this issue, it is recommended to scale the features so that they have a similar range. There are several ways to scale the features, including:\n",
    "\n",
    "   - **Min-Max scaling**: This method scales the features to a specific range (e.g., 0-1). The transformed values are calculated as follows:\n",
    "\n",
    "$$ x_{scaled} = \\frac{x - x_{min}}{x_{max} - x_{min}} $$\n",
    "\n",
    "Where $x_{scaled}$ is the transformed value, $x$ is the original value, $x_{min}$ is the minimum value of the feature, and $x_{max}$ is the maximum value of the feature.\n",
    "\n",
    "   - **Standardization**: This method scales the features to have a mean of 0 and a standard deviation of 1. The transformed values are calculated as follows:\n",
    "\n",
    "$$ x_{scaled} = \\frac{x - \\mu}{\\sigma} $$\n",
    "\n",
    "Where $x_{scaled}$ is the transformed value, $x$ is the original value, $\\mu$ is the mean of the feature, and $\\sigma$ is the standard deviation of the feature.\n",
    "\n",
    "**Goal**:\n",
    "\n",
    "We want to get everything into -1 to +1 range (approximately). We want to avoid large ranges, small ranges or very different ranges from one another, for this purpose we use `mean normalization` or `standardization`. It is because `Standardization` is less sensitive to outliers because it is based on the `mean` and `standard deviation` of the feature, which are not influenced by extreme values as much as the minimum and maximum values. In contrast, `min-max` scaling is based on the minimum and maximum values of the feature, which can be affected by outliers. As a result, standardization is less likely to be affected by outliers than min-max scaling."
   ]
  },
  {
   "cell_type": "markdown",
   "id": "3f4055b2",
   "metadata": {},
   "source": [
    "<h3 align=\"center\"> Gradient Descent Questions</h3>\n",
    "\n",
    "- **How to make sure gradient descent is working correctly.**\n",
    "- **How to choose learning rate $\\alpha$.**\n",
    "\n",
    "**1. Check the convergence of the cost function:**\n",
    "\n",
    "One way to check the convergence of the gradient descent algorithm is to plot the cost function (e.g., mean squared error) over the number of iterations. If the cost function is decreasing over time and eventually reaches a minimum, then the algorithm is working correctly.\n",
    "<img src=\"images/p35.png\" height=300x width=300x>\n",
    "\n",
    "**2. Compare the model's performance with other algorithms:**\n",
    "\n",
    "You can compare the performance of the gradient descent algorithm with other algorithms (e.g., least squares, normal equation) to see if the results are similar. If the results are significantly different, it may indicate an issue with the gradient descent algorithm.\n",
    "\n",
    "**3. Monitor the learning rate:**\n",
    "\n",
    "If the learning rate is too high, the gradient descent algorithm may diverge and never converge to a minimum. If the learning rate is too low, it may take a long time to converge. Monitoring the learning rate can help ensure that it is set to a reasonable value. If $\\alpha$ is too small,  slow convergence. If $\\alpha$ is too large, $J(\\theta)$ may not decrease on every iteration; may not converge. So to choose $\\alpha$, try different values like 0.0001, 0.001, 0.1, 1.\n",
    "\n",
    "<img src=\"images/p36.png\" height=300px width=300px>\n",
    "\n",
    "**4. Check the initialization of the weights:**\n",
    "\n",
    "The initialization of the weights can also affect the convergence of the gradient descent algorithm. If the weights are initialized to extreme values, the algorithm may converge slowly or not at all. It is generally a good idea to initialize the weights to small random values."
   ]
  },
  {
   "cell_type": "markdown",
   "id": "c9d707a6",
   "metadata": {},
   "source": [
    "\n",
    "<h3 align=\"center\">Overfitting – Bias and Variance</h3>\n",
    "\n",
    "Overfitting and underfitting are two common issues that can affect the performance of a machine learning model.\n",
    "<img src=\"images/p37.png\">\n",
    "\n",
    "\n",
    "\n",
    "**Overfitting** occurs when the model is too complex and fits the training data too closely, resulting in poor generalization to new data. Overfitting can be caused by high variance and high bias. A model with high variance is sensitive to small fluctuations in the training data and may fit the training data too closely, leading to poor performance on new data. A model with high bias is unable to fit the training data well and may perform poorly on both the training and test sets.\n",
    "\n",
    "\n",
    "**Underfitting** occurs when the model is too simple and cannot capture the underlying pattern in the data, resulting in poor performance on both the training and test sets. Underfitting can be caused by high bias and low variance. A model with high bias is unable to fit the training data well and may perform poorly on both the training and test sets."
   ]
  },
  {
   "cell_type": "markdown",
   "id": "f965a61f",
   "metadata": {},
   "source": [
    "#### Bias and Variance\n",
    "\n",
    "In regression, bias and variance are two types of error that can affect the performance of a model.\n",
    "\n",
    "**Bias** refers to the difference between the average prediction of a model and the true value of the target. A model with high bias is prone to underfitting, which means that it does not capture the underlying pattern in the data and performs poorly on both the training and test sets.\n",
    "\n",
    "**Variance** refers to the variability of the model's predictions for a given input. A model with high variance is prone to overfitting, which means that it fits the training data too closely and performs poorly on new data.\n",
    "\n",
    "**Underfitting** is characterized by poor performance on both the training and test sets and is caused by high bias. To reduce bias and improve the performance of an underfitted model, you can try the following techniques:\n",
    "- Use more complex models: Adding more parameters or features to the model can increase its flexibility and improve its ability to capture the underlying pattern in the data.\n",
    "- Increase the size of the training set: Increasing the size of the training set can help the model learn more about the data and generalize better.\n",
    "- Use regularization: Regularization is a technique that adds a penalty to the model's complexity to prevent overfitting. However, it can also reduce bias by allowing the model to be more flexible.\n",
    "\n",
    "**Overfitting** is characterized by poor performance on the test set and is caused by high variance. To reduce variance and improve the performance of an overfitted model, you can try the following techniques:\n",
    "- Use simpler models: Removing parameters or features from the model can reduce its complexity and prevent overfitting.\n",
    "- Use regularization: Regularization is a technique that adds a penalty to the model's complexity to prevent overfitting.\n",
    "- Increase the size of the training set: Increasing the size of the training set can help the model generalize better because it will have more data to learn from.\n",
    "\n",
    "<img src=\"images/p38.png\" height=300px width=300px align=\"right\">\n",
    "<img src=\"images/p39.png\" height=300px width=300px align=\"left\">"
   ]
  },
  {
   "cell_type": "markdown",
   "id": "832a4be5",
   "metadata": {},
   "source": [
    "#### How to overcome Underfitting and overfitting?\n",
    "To address overfitting and underfitting, you can try the following techniques:\n",
    "\n",
    "- **Use regularization:** Regularization is a technique that adds a penalty to the model's complexity to prevent overfitting.\n",
    "    - Reduce the number of features: Removing unnecessary or correlated features can reduce the model's complexity and prevent overfitting.\n",
    "    - Increase the size of the training set: Increasing the size of the training set can help the model generalize better because it will have more data to learn from.\n",
    "\n",
    "- **Use cross-validation:** Cross-validation is a technique that divides the training set into multiple folds and uses each fold as a test set to evaluate the model's performance. This can help identify overfitting and improve the model's generalization.\n",
    "- **Use different models:** Trying different models with different architectures and parameters can help identify the model that performs best for the data.\n",
    "- **Reduce the number of features**\n",
    "    - Manually select features\n",
    "    - Model selection"
   ]
  },
  {
   "cell_type": "markdown",
   "id": "931faa55",
   "metadata": {},
   "source": [
    "#### Manual feature selection\n",
    "- Manual feature selection is the process of manually selecting a subset of features from the original dataset to use in a machine learning model. This can be done through domain knowledge or by examining the correlations between the features and the target.\n",
    "\n",
    "- There are several approaches to manual feature selection:\n",
    "    - **Forward selection:** This involves starting with an empty set of features and adding one feature at a time, based on some criterion such as the improvement in model performance. The process is repeated until no further improvement is achieved.\n",
    "\n",
    "    - **Backward selection:** This involves starting with the full set of features and removing one feature at a time, based on some criterion such as the decrease in model performance. The process is repeated until no further improvement is achieved.\n",
    "\n",
    "    - **Recursive feature elimination:** This involves recursively removing features, building the model using the remaining features, and selecting the best performing features. The process is repeated until the desired number of features is reached.\n",
    "\n",
    "    - **Genetic algorithms:** These are optimization algorithms that mimic the process of natural selection and can be used to select a subset of features.\n",
    "\n",
    "**Interpretation:**\n",
    "- Manual feature selection can be time-consuming and may not always yield the best results. It is important to carefully evaluate the impact of the selected features on the performance of the model. In some cases, manually selecting a subset of features may lead to a decrease in performance, while in other cases it may improve the performance of the model.\n",
    "\n",
    "#### Model-based feature selection\n",
    "- Model-based feature selection is a method of selecting a subset of features for a machine learning model using the model itself as a criterion. This is different from manual feature selection, which involves manually selecting features based on domain knowledge or correlations with the target.\n",
    "- There are several approaches to model-based feature selection:\n",
    "\n",
    "    - **Regularization:** Some machine learning models, such as linear and logistic regression, include regularization terms that penalize complex models and promote the selection of a smaller number of features.\n",
    "\n",
    "    - **Decision trees:** Decision tree-based models, such as random forests and gradient boosting, can be used to select features by ranking them based on their importance.\n",
    "\n",
    "    - **Mutual information:** This method selects features based on their mutual information with the target. It is a nonparametric method that does not assume a particular distribution of the data.\n",
    "\n",
    "    - **Embedded methods:** These are methods that incorporate feature selection as part of the training process, such as lasso regression and the elastic net.\n",
    "    \n",
    "**Interpretation:**\n",
    "\n",
    "- Model-based feature selection can be an effective way to select a subset of features that are most relevant to the problem at hand. It is important to carefully evaluate the impact of the selected features on the performance of the model. In some cases, model-based feature selection may lead to a decrease in performance, while in other cases it may improve the performance of the model.\n",
    "\n",
    "<img src=\"images/p107.png\">"
   ]
  },
  {
   "cell_type": "markdown",
   "id": "fa700cbd",
   "metadata": {},
   "source": [
    "<h2 align=\"center\">Polynomial Regression</h2>\n",
    "\n",
    "#### Overview\n",
    "- If the relationship between the inputs and output is not linear, we can use a polynomial to model the relationship.\n",
    "- We will formulate the polynomial regression model for single feature regression problem.\n",
    "- Polynomial Regression is often termed as Non-linear Regression or Linear in Parameter Regression.\n",
    "- We will also revisit the concept of `over-fitting`.\n",
    "\n",
    "<img src=\"images/p108.png\" align=\"center\" height=300px width=300px >\n",
    "\n",
    "**Single Feature Regression: Formulation**\n",
    "- `d=1`, input $x$ is a scalar.\n",
    "- Model is a polynomial function of the input, that is,\n",
    "$$\\hat f(x,\\mathbf{\\theta}) = \\theta_0 + \\theta_1x + \\theta_2x^2 + ....+ \\theta_ix^M = \\sum_{i=0}^M \\theta_ix^i$$\n",
    "$$ \n",
    "where \\; \\mathbf{\\theta} = \\begin{bmatrix} \\theta_0 \\\\ \\theta_1 \\\\ \\theta_2 \\\\ ..... \\\\ \\theta_M \\end{bmatrix} \n",
    "$$\n",
    "\n",
    "- $M$ is the degree of polynomial; characterized by $M+1$ coefficients $\\theta_0, \\theta_1, \\theta_2 ,....., \\theta_M$\n",
    "\n",
    "- $M$ is the Hyper-Parameter of the model and determines the complexity of the model. For $M=1$, we have a linear regression.\n",
    "- We can use linear regression to find these coefficients by formulating the input $x$ and its powers using a `vector-valued` function given by\n",
    "\n",
    "$$\\mathbf{g}(x) = [1,x,x^2,x^3,....,x^M]^T$$\n",
    "\n",
    "- With this notation , we can formulate model as $$\\hat f(x,\\mathbf{\\theta}) = \\mathbf{g}(x)^T \\mathbf{\\theta} $$\n",
    "\n",
    "- Note that the model is linear in terms of parameters due to which ploynomial regression is termed as `Linear in Parameters Regression`.\n",
    "\n",
    "- Note that $\\mathbf{g}(x)$ can be any function of $x$. For example, we can have \n",
    "$$\\mathbf{g}(x) = [\\frac{1}{x}, sin(2\\pi x), x^2, e^x,....]^T$$\n",
    "\n",
    "- For $n$ data points(input, output), we can define residual error in a similar way we computed for linear regression as follows:\n",
    "\n",
    "<img src=\"images/p110.png\" align=\"center\">\n",
    "\n",
    "$$where \\;\\;\\; e = y - X\\mathbf{\\theta}$$\n",
    "$$\\mathbf{\\theta} = (X^TX)^{-1}X^Ty$$\n",
    "\n",
    "> **Note**: We have seen this before. & We are capable to solve this!"
   ]
  },
  {
   "cell_type": "markdown",
   "id": "355f381c",
   "metadata": {},
   "source": [
    "<h3 align=\"center\">Polynomial Curve Fitting: A Simple Regression Problem</h3>\n",
    "    \n",
    "- We observe a real-valued input variable `x` and we wish to use this observation to predict the value of a real-valued target variable `t` or $f(x) = sin(2\\pi x)$.\n",
    "- We use synthetically generated data from the function sin(2πx) with random noise included in the target values.\n",
    "    - A small level of random noise having a Gaussian distribution\n",
    "\n",
    "- We have a training set comprising `N` observations of `x`, written $x ≡ (x_1, . . . , x_N)^T$, together with corresponding observations of the values of `f(x)`, denoted $f(x) ≡ (f(x_1), . . . , f(x_N)^T$.\n",
    "\n",
    "- Our goal is to predict the value of t for some new value of x\n",
    "\n",
    "\n",
    "<img src=\"images/p111.png\" align=\"right\" height=400px width=400px>\n",
    "<img src=\"images/p112.png\" align=\"right\" height=400px width=400px>\n",
    "\n",
    "$$\\newline$$\n",
    "$$\\newline$$\n",
    "$$\\newline$$\n",
    "$$\\newline$$\n",
    "$$\\newline$$\n",
    "$$\\newline$$\n",
    "$$\\newline$$\n",
    "$$\\newline$$\n",
    "\n",
    "$$\\newline$$\n",
    "$$\\newline$$\n",
    "$$\\newline$$\n",
    "$$\\newline$$\n",
    "$$\\newline$$\n",
    "$$\\newline$$\n",
    "\n",
    "\n",
    "**Process:**\n",
    "$$f(x) = sin(2\\pi x)$$\n",
    "\n",
    "**Observations:**\n",
    "$$y = f(x) + n$$\n",
    "\n",
    "**Model:**\n",
    "$$\\hat f(x,\\mathbf{\\theta}) = \\theta_0 + \\theta_1x + \\theta_2x^2 + ....+ \\theta_ix^M $$\n",
    "\n",
    "\n",
    "- A training data set of N = 10 points, (blue circles),\n",
    "- The green curve shows the actual function sin(2πx) used to generate the data.\n",
    "- Our goal is to predict the value of t for some new value of x, without knowledge of the green curve."
   ]
  },
  {
   "cell_type": "markdown",
   "id": "b004b044",
   "metadata": {},
   "source": [
    "### Polynomial Curve Fitting\n",
    "\n",
    "- We try to fit the data using a polynomial function/model of the form\n",
    "\n",
    "$$\\hat f(x,\\mathbf{\\theta}) = \\theta_0 + \\theta_1x + \\theta_2x^2 + ....+ \\theta_Mx^M =\\sum_{i=0}^M \\theta_ix^i$$\n",
    "\n",
    "<h4 align=\"center\"> OR</h4>\n",
    "\n",
    "$$y(x,\\mathbf{w}) = w_0 + w_1x + w_2x^2 + ....+ w_Mx^M =\\sum_{i=0}^M w_ix^i$$\n",
    "\n",
    "\n",
    "- The values of the coefficients will be determined by fitting the polynomial to the training data.\n",
    "- This can be done by minimizing an error function that measures the misfit between the function $y(x,\\mathbf{w})$ or $\\hat f(x, \\mathbf{\\theta})$, for any given value of $w$, and the training set data points.\n",
    "\n",
    "$$L(\\mathbf{w}) = \\frac{1}{2} \\sum_{n=1}^N (y(x_n,\\mathbf{w}) - f(x_n))^2$$\n",
    "\n",
    "- Error Function: the sum of the squares of the errors between the predictions $y(x_n ,w)$ for each data point $x_n$ and the corresponding target values $t_n$ or $f(x_n)$.\n",
    "\n",
    "<img src=\"images/p113.png\">\n",
    "\n",
    "\n",
    "- We can solve the curve fitting problem by choosing the value of w for which $L(w)$ or $L(\\mathbf{\\theta})$is as small as possible.\n",
    "- Since the error function is a quadratic function of the coefficients w, its derivatives with respect to the coefficients will be linear in the elements of w, and so the minimization of the error function has a unique solution, denoted by $w^*$ or $\\theta^*$.\n",
    "- The resulting polynomial is given by the function $y(x,w^*)$ or $\\hat f(x,\\theta^*)$.\n",
    "- Choosing the order M of the polynomial is  done by **model selection.**\n",
    "\n",
    "<img src=\"images/p120.png\">\n",
    "\n",
    "\n",
    "- The $0^th$ order `(M=0)` and first order `(M=1)` polynomials give rather poor fits to the data and consequently rather poor representations of the function `sin(2πx)`.\n",
    "- The third order `(M=3)` polynomial seems to give the best fit to the function `sin(2πx)` of the examples.\n",
    "- When we go to a much higher order polynomial `(M=9)`, we obtain an excellent fit to the training data.\n",
    "    - In fact, the polynomial passes exactly through each data point means we have zero residual error , that is , $L(w^*) = 0$ or $L(\\theta^*)=0$.\n",
    "    \n",
    "    \n",
    "**Question: What's happening with the increase in `M`?**\n",
    "\n",
    "**Answer:** `Overfitting` will occur.\n",
    "\n",
    "**Question: Is this a good solution?**\n",
    "\n",
    "**Answer:** No! The model is oscillating wildly and is not close to the the `true function` or $sin(2\\pi x)$.\n",
    "\n",
    "<img src=\"images/p117.png\" height=300px width=300px>\n",
    "\n",
    "\n",
    "- In this toy example, we had informationabout the true function and therefore we can conclude that `M=9`,  is not a good model to fit the data. We can then evaluate the residual value of $L(w*)$ for the training data, and we can also evaluate $L(w*)$ for the test data set.\n",
    "\n",
    "<img src=\"images/p121.png\">\n",
    "\n",
    "\n",
    "**Questions: How to choose model Order $M$ or How do we tell if a model is overfitting  when we do not have knowledge about the true process/function.**\n",
    "\n",
    "**Solution 1:** Train-Validation Split. Overfitting causes poor generalization performance, that is, large error on the testing or validation data.\n",
    "\n",
    "**Solution 2:** Take `MORE` data points to avoid over-fitting.\n",
    "\n",
    "**Solution 3:** Regularization."
   ]
  },
  {
   "cell_type": "markdown",
   "id": "932c4092",
   "metadata": {},
   "source": [
    "#### Polynomial Curve Fitting: Polynomial Coefficients\n",
    "- Magnitude of coefficients increases dramatically as order of polynomial increases.\n",
    "\n",
    "#### Example\n",
    "- Let's pose another question. $M = 3$ degree polynomial is a special case of $ M = 9$ degree polynomial. Why$ M = 9$ gives us poor performance?\n",
    "\n",
    "- $M = 3$ solution cannot be recovered from $ M = 9$ solution by setting the remaining weights equal to zero. 10 coefficients are tuned for 10 data-points when $ M = 9$.\n",
    "\n",
    "<img src=\"images/p122.png\" height=500px width=500px>"
   ]
  },
  {
   "cell_type": "markdown",
   "id": "2e6789f2",
   "metadata": {},
   "source": [
    "#### Polynomial Regression : How to Handle Overfitting?\n",
    "\n",
    "- The polynomial degree M is the hyper-parameter of our model, like we had k in kNN, Solution 2: Take more data points to avoid over-fittingand controls the complexity of the model.\n",
    "- If we stick with M=3 model, this is the restriction on the number of parameters.\n",
    "- We encounter overfitting for M=9 because we do not have sufficient data.\n",
    "\n",
    "**Solution 2:** Take more data points to avoid over-fitting.\n",
    "\n",
    "<img src=\"images/p123.png\">"
   ]
  },
  {
   "cell_type": "markdown",
   "id": "febba3cf",
   "metadata": {},
   "source": [
    "**Example:** Polynomial regression models with two predictor variables and interaction terms are quadratic forms. Their surfaces can have many different shapes depending on the values of the model parameters with the contour lines being either parallel lines, parabolas or ellipses.\n",
    "    \n",
    "$$y = \\theta_0 + \\theta_1x_1 +\\theta_2x_2 + \\theta_{11}x_1^2 + \\theta_{22}x_2^2 + \\theta_{12}x_1x_2 + e$$\n",
    "\n",
    "<img src=\"images/p124.png\">"
   ]
  },
  {
   "cell_type": "code",
   "execution_count": 37,
   "id": "878538c6",
   "metadata": {},
   "outputs": [
    {
     "name": "stdout",
     "output_type": "stream",
     "text": [
      "[ 9.06297259e-12  1.00000000e+00  7.46069873e-14 -4.44089210e-14]\n",
      "4.5929187419244395e-23\n"
     ]
    }
   ],
   "source": [
    "import numpy as np\n",
    "\n",
    "def poly_features(X, degree):\n",
    "    \"\"\"\n",
    "    Maps X to an m x d+1 matrix, where each row is a polynomial of X with degree d.\n",
    "    \"\"\"\n",
    "    X_poly = np.ones((X.shape[0], 1))\n",
    "    for i in range(1, degree+1):\n",
    "        X_poly = np.hstack((X_poly, np.power(X, i)))\n",
    "    return X_poly\n",
    "\n",
    "def normal_equation(X, y):\n",
    "    \"\"\"\n",
    "    Solves the linear regression problem using the normal equation.\n",
    "    \"\"\"\n",
    "    theta = np.linalg.inv(X.T @ X) @ X.T @ y\n",
    "    return theta\n",
    "\n",
    "def predict(X, theta):\n",
    "    \"\"\"\n",
    "    Makes predictions using the learned model parameters.\n",
    "    \"\"\"\n",
    "    y_pred = X @ theta\n",
    "    return y_pred\n",
    "\n",
    "def mean_squared_error(y, y_pred):\n",
    "    \"\"\"\n",
    "    Calculates the mean squared error between the true values and the predictions.\n",
    "    \"\"\"\n",
    "    mse = np.mean((y - y_pred) ** 2)\n",
    "    return mse\n",
    "\n",
    "# Test the polynomial regression function\n",
    "X = np.array([[1], [2], [3], [4]])\n",
    "y = np.array([1, 2, 3, 4])\n",
    "\n",
    "# Map the features to a higher-dimensional space\n",
    "X_poly = poly_features(X, 3)\n",
    "\n",
    "# Fit the model using the normal equation\n",
    "theta = normal_equation(X_poly, y)\n",
    "\n",
    "# Make predictions\n",
    "y_pred = predict(X_poly, theta)\n",
    "\n",
    "# Calculate the mean squared error\n",
    "mse = mean_squared_error(y, y_pred)\n",
    "\n",
    "print(theta)  \n",
    "print(mse) \n"
   ]
  },
  {
   "cell_type": "code",
   "execution_count": 1,
   "id": "dba41bc5",
   "metadata": {},
   "outputs": [
    {
     "name": "stdout",
     "output_type": "stream",
     "text": [
      "Position,Level,Salary\r\n",
      "Business Analyst,1,45000\r\n",
      "Junior Consultant,2,50000\r\n",
      "Senior Consultant,3,60000\r\n",
      "Manager,4,80000\r\n",
      "Country Manager,5,110000\r\n",
      "Region Manager,6,150000\r\n",
      "Partner,7,200000\r\n",
      "Senior Partner,8,300000\r\n",
      "C-level,9,500000\r\n",
      "CEO,10,1000000"
     ]
    }
   ],
   "source": [
    "!cat datasets/position_salaries.csv"
   ]
  },
  {
   "cell_type": "code",
   "execution_count": 32,
   "id": "c31503cb",
   "metadata": {},
   "outputs": [
    {
     "data": {
      "image/png": "[encoded data removed]",
      "text/plain": [
       "<Figure size 432x288 with 1 Axes>"
      ]
     },
     "metadata": {
      "needs_background": "light"
     },
     "output_type": "display_data"
    }
   ],
   "source": [
    "# Implementation of polynomial regression\n",
    "## importing libraries\n",
    "import numpy as np\n",
    "import matplotlib.pyplot as plt\n",
    "import pandas as pd\n",
    "\n",
    "### read data\n",
    "dataset = pd.read_csv(\"datasets/position_salaries.csv\")\n",
    "X = dataset.iloc[:, 1:2].values\n",
    "y = dataset.iloc[:, 2].values\n",
    "\n",
    "# Splitting the dataset into the Training set and Test set\n",
    "from sklearn.model_selection import train_test_split \n",
    "X_train, X_test, y_train, y_test = train_test_split(X, y, test_size=0.2, random_state=0)\n",
    "\n",
    "# Scaling\n",
    "from sklearn.preprocessing import StandardScaler\n",
    "sc_X = StandardScaler()\n",
    "X_train = sc_X.fit_transform(X_train)\n",
    "X_test = sc_X.transform(X_test)\n",
    "\n",
    "# Fitting Linear Regression to the dataset\n",
    "from sklearn.linear_model import LinearRegression\n",
    "lin_reg = LinearRegression()\n",
    "lin_reg.fit(X, y)\n",
    "\n",
    "# Visualizing the Linear Regression results\n",
    "def viz_linear():\n",
    "    plt.scatter(X, y, color='red')\n",
    "    plt.plot(X, lin_reg.predict(X), color='blue')\n",
    "    plt.title('Truth or Bluff (Linear Regression)')\n",
    "    plt.xlabel('Position level')\n",
    "    plt.ylabel('Salary')\n",
    "    plt.show()\n",
    "    return\n",
    "viz_linear()"
   ]
  },
  {
   "cell_type": "code",
   "execution_count": null,
   "id": "09db15cc",
   "metadata": {},
   "outputs": [],
   "source": []
  },
  {
   "cell_type": "code",
   "execution_count": 35,
   "id": "e8b456bb",
   "metadata": {},
   "outputs": [
    {
     "data": {
      "image/png": "[encoded data removed]",
      "text/plain": [
       "<Figure size 432x288 with 1 Axes>"
      ]
     },
     "metadata": {
      "needs_background": "light"
     },
     "output_type": "display_data"
    }
   ],
   "source": [
    "# Fitting Polynomial Regression to the dataset\n",
    "from sklearn.preprocessing import PolynomialFeatures\n",
    "poly_reg = PolynomialFeatures(degree=5)\n",
    "X_poly = poly_reg.fit_transform(X)\n",
    "pol_reg = LinearRegression()\n",
    "pol_reg.fit(X_poly, y)\n",
    "\n",
    "# Visualizing the Polymonial Regression results\n",
    "def viz_polymonial():\n",
    "    plt.scatter(X, y, color='red')\n",
    "    plt.plot(X, pol_reg.predict(poly_reg.fit_transform(X)), color='blue')\n",
    "    plt.title('Truth or Bluff (Linear Regression)')\n",
    "    plt.xlabel('Position level')\n",
    "    plt.ylabel('Salary')\n",
    "    plt.show()\n",
    "    return\n",
    "viz_polymonial()"
   ]
  },
  {
   "cell_type": "code",
   "execution_count": 27,
   "id": "c141851b",
   "metadata": {},
   "outputs": [
    {
     "data": {
      "text/plain": [
       "[<matplotlib.lines.Line2D at 0x7fa344ab2ac0>]"
      ]
     },
     "execution_count": 27,
     "metadata": {},
     "output_type": "execute_result"
    },
    {
     "data": {
      "image/png": "[encoded data removed]",
      "text/plain": [
       "<Figure size 432x288 with 1 Axes>"
      ]
     },
     "metadata": {
      "needs_background": "light"
     },
     "output_type": "display_data"
    }
   ],
   "source": [
    "from sklearn.preprocessing import PolynomialFeatures\n",
    "from sklearn.linear_model import LinearRegression\n",
    "from sklearn.pipeline import make_pipeline\n",
    "import numpy as np\n",
    "import matplotlib.pyplot as plt\n",
    "from sklearn.model_selection import GridSearchCV\n",
    "\n",
    "def make_data(N, err=1.0, rseed=1):\n",
    "\n",
    "    rng = np.random.RandomState(rseed)\n",
    "    X = rng.rand(N, 1) ** 2\n",
    "    y = 1. / (X.ravel() + 0.3)\n",
    "    if err > 0:\n",
    "        y += err * rng.randn(N)\n",
    "    return X, y\n",
    "\n",
    "def PolynomialRegression(degree=2, **kwargs):\n",
    "    return make_pipeline(PolynomialFeatures(degree), LinearRegression(**kwargs))\n",
    "\n",
    "\n",
    "X, y = make_data(60)\n",
    "X_test = np.linspace(-0.1, 1.1, 200)[:, None]\n",
    "\n",
    "param_grid = {'polynomialfeatures__degree': np.arange(20),\n",
    "'linearregression__fit_intercept': [True, False],\n",
    "'linearregression__normalize': [True, False]}\n",
    "grid = GridSearchCV(PolynomialRegression(), param_grid, cv=7)\n",
    "grid.fit(X, y)\n",
    "\n",
    "model = grid.best_estimator_\n",
    "\n",
    "y_test = model.fit(X, y).predict(X_test)\n",
    "\n",
    "plt.scatter(X, y)\n",
    "plt.plot(X_test.ravel(), y_test, 'r')\n"
   ]
  },
  {
   "cell_type": "code",
   "execution_count": null,
   "id": "76ef4e97",
   "metadata": {},
   "outputs": [],
   "source": []
  },
  {
   "cell_type": "markdown",
   "id": "decc5d6e",
   "metadata": {},
   "source": [
    "<h2 align=\"center\">Linear Regression: Regularization</h2>\n",
    "\n",
    "**Main Idea:**\n",
    "- Regularization works on assumption that smaller weights generate simpler model and thus helps avoid overfitting.\n",
    "\n",
    "$$f(x_i) = \\theta_0 + \\theta_1x_1 + \\theta_2x_2^2 + \\theta_3x_3^3 + \\theta_4x_4^4$$\n",
    "$$f(x_i) = \\theta_0 + \\theta_1x_1 + \\theta_2x_2^2 $$\n",
    "\n",
    "<img src=\"images/p125.png\">\n",
    "\n",
    "**Model:** \n",
    "$$h_\\theta (X) = \\theta^TX = \\theta_0 + \\theta_1x1$$\n",
    "\n",
    "**Loss Function:**\n",
    "\n",
    "\n",
    "$$J(\\theta) = \\frac{1}{2n} \\sum_{i=1}^n \\left( h_\\theta(x^{(i)}) - y^{(i)} \\right)^2$$\n",
    "\n",
    "**Goal:**\n",
    "$$ min_\\theta \\;\\; J(\\theta) = \\frac{1}{2n} \\sum_{i=1}^n \\left( (\\theta_0 + \\theta_1x1) - y^{(i)} \\right)^2$$\n",
    "\n",
    "- The concept is broad but we will see in the context of linear regression or polynomial regression which we formulated as linear regression. Encourages the model coefficients to be small by adding a penalty term to the error.\n",
    "- The over-fitting phenomenon can be controlled with `regularization`, which involves adding a penalty term to the error function. \n",
    "\n",
    "**We add a `penalty term`, known as `regularizer`, in the loss function**\n",
    "\n",
    "\n",
    "$$h_\\theta(X) = \\theta_0+\\theta_1x_1+\\theta_2x_2+....+\\theta_nx_n$$\n",
    "\n",
    "$$min_\\theta \\; J(\\theta) = min_\\theta \\; \\frac{1}{2n} \\sum_{i=1}^n \\left( h_\\theta(x^{(i)}) - y^{(i)} \\right)^2$$\n",
    "\n",
    "$$min_\\theta \\; J(\\theta) = min_\\theta \\; \\frac{1}{2n} [ \\sum_{i=1}^n \\left( h_\\theta(x^{(i)}) - y^{(i)} \\right)^2 + \\lambda \\sum_{i=1}^n \\theta_j^2 ]$$\n",
    "\n",
    "$$min_\\theta \\; J(\\theta) = min_\\theta \\; \\frac{1}{2n} [ \\sum_{i=1}^n \\left( h_\\theta(x^{(i)}) - y^{(i)} \\right)^2 + \\lambda \\sum_{i=1}^n |\\theta_j| ]$$\n",
    "\n",
    "- $\\lambda \\geq 0$ maintains the trade-off between regularizer and the original loss function as it controls the relative importance of the regulrization term.\n",
    "\n",
    "- `λ` is the penalty term or regularization parameter which determines how much to penalizes the weights\n",
    "- When `λ` is zero then the regularization term becomes zero. We are back to the original Loss function\n",
    "- When `λ` is large, we penalizes the weights and they become close to zero. This results is a very simple model having a high bias or is underfitting.\n",
    "    -  $h_\\theta(X) = \\theta_0$\n",
    "\n",
    "- Use cross-validation to find the optimal value of `λ`.\n",
    "\n",
    "### L2 Regularization or Ridge Regression\n",
    "\n",
    "- We require to discourage the model coefficients from reaching large values. \n",
    "$$min_\\theta \\; J(\\theta) = min_\\theta \\; \\frac{1}{2n} [ \\sum_{i=1}^n \\left( h_\\theta(x^{(i)}) - y^{(i)} \\right)^2 + \\lambda \\sum_{i=1}^n |\\theta_j| ]$$\n",
    "\n",
    "- This regularization term maintains a trade-off between `fit of the model to the data` and `square of norm of the coefficients`.\n",
    "    - If model is fitted poorly, the first term is large.\n",
    "    - If coefficients have high values, the second term (penalty term) is large.\n",
    "- Large $\\lambda$ penalizes coefficient values more.\n",
    "\n",
    "\n",
    "**Intuitive Interpretation:**  We want to minimize the error while\n",
    "keeping the norm of the coefficients bounded.\n",
    "\n",
    "- Regularized loss function is still quadratic, and we can find closed form solution by taking gradient with respect to $\\mathbf{\\theta}$, after gradient we have a solution of the ridge regression.\n",
    "\n",
    "$$\\mathbf\\theta(\\lambda) = (X^TX+\\lambda \\mathbf{I})^{-1} X^Ty$$\n",
    "\n",
    "- $\\lambda = 0$, we have non-regularized solution.\n",
    "- $\\lambda = \\infty$, the solution is a zero vector.\n",
    "- Too small $\\lambda$: no regularization.\n",
    "- Too large $\\lambda$: no weightage to the data.\n",
    "- In practice, we use very small value of $\\lambda$ and therefore it is convenient to work the **$\\ln \\lambda$** and compute it as $\\lambda = e^{\\ln \\lambda}$.\n",
    "\n",
    "\n",
    "<img src=\"images/p126.png\">"
   ]
  },
  {
   "cell_type": "markdown",
   "id": "e934a0bd",
   "metadata": {},
   "source": [
    "#### Example:\n",
    "- $\\lambda$ restricts the coefficients from exploding as we have included the sqaure of the norm of the coefficients in the loss function being minimized. \n",
    "\n",
    "<img src=\"images/p127.png\">\n",
    "\n",
    "- $\\lambda$ is a hypermeter of the model and we learn it in practice using the validate data."
   ]
  },
  {
   "cell_type": "markdown",
   "id": "d89434f3",
   "metadata": {},
   "source": [
    "#### Ridge Regression: Graphical Visualization\n",
    "- $\\mathbf{\\theta} = [\\theta_1, \\theta_2]$, we assume we have two coefficients Our loss function is :\n",
    "\n",
    "$$min_\\theta \\; J(\\theta) = min_\\theta \\; \\frac{1}{2n} [ \\sum_{i=1}^n \\left( h_\\theta(x^{(i)}) - y^{(i)} \\right)^2 + \\lambda \\sum_{i=1}^n |\\theta_j| ]$$\n",
    "\n",
    "- Good Value of $\\lambda$ hepls us in avoiding overfitting.\n",
    "- Irrelevant features get small but non-zero value in the regularized solution.\n",
    "\n",
    "- **Ideally:** we would like to assign zero weight to the irrevlevant features.\n",
    "\n",
    "\n",
    "<img src=\"images/p128.png\">\n",
    "\n",
    "- `L2` regularization forces the weights to be small but does not make them zero and does non-sparse solution.\n",
    "- `L2` is not robust to outliers as square terms blows up the error differences of the outliers and the regularization term tries to fix it by penalizing the weights\n",
    "- Ridge regression performs better when all the input features influence the output and all with weights are of roughly equal size."
   ]
  },
  {
   "cell_type": "markdown",
   "id": "cef45018",
   "metadata": {},
   "source": [
    "**Example**\n",
    "\n",
    "<img src=\"images/p129.png\">\n",
    "\n",
    "This plot shows us a few important things:\n",
    "\n",
    "- **Y-axis:** Regularized coefficients for each variable (ie. coefficients after penalization is applied)\n",
    "- **X-axis:** Logarithm of the penalization parameter Lambda (). The higher value of lambda indicates more regularization (ie. reduction of the coefficient magnitude, or shrinkage)\n",
    "- **Curves:** Change in the predictor coefficients as the penalty term increases.\n",
    "- **Numbers on top:** The number of variables in the regression model. Since Ridge regression doesn’t do feature selection, all the predictors are retained in the final model.\n",
    "- **Red dotted line:** The minimum value of lambda (lambda.min) that results in the smallest cross-validation error. This is calculated by dividing the dataset in ten subsets, followed by the calculation of fit in 9/10 of the subsets and testing the predicted model on the remaining 1/10. We would use ideally use this lambda value (or lambda.1se below) as our penalization level for predicting outcomes in a new dataset.\n",
    "- **Blue dotted line:** The largest value of lambda (ie. more regularized) within the 1 standard error of the lambda.min. This lambda.1se value corresponds to a higher level of penalization (ie more regularized model) and can be chosen for a simpler model in predictions (less impact from from coefficients)\n",
    "- **Log Lambda = 0** corresponds to “no regularization” (ie. regular linear model with minimum residual sum of squares).\n",
    "\n",
    "\n",
    "The way we read the plot is as follows:\n",
    "\n",
    "- Among the variables in the data frame, **watched_jaws** has the strongest potential to explain the variation in the response variable, and this remains true as the model regularization increases. **swimmers** has the second strongest potential to model the response, but it’s importance diminishes near zero as the regularization increases."
   ]
  },
  {
   "cell_type": "markdown",
   "id": "985b44e2",
   "metadata": {},
   "source": [
    "### L1 Regularization – Lasso Regression\n",
    "\n",
    "$$min_\\theta \\; J(\\theta) = min_\\theta \\; \\frac{1}{2n} [ \\sum_{i=1}^n \\left( h_\\theta(x^{(i)}) - y^{(i)} \\right)^2 + \\lambda \\sum_{i=1}^n |\\theta_j| ]$$\n",
    "\n",
    "\n",
    "- This regularization is referred to as least absolute shrinkage or selection operator(Lasso).\n",
    "- L1 norm shrinks the parameters to zero.\n",
    "    - When input features have weights closer to zero that leads to sparse L1 norm. In Sparse solution majority of the input features have zero weights and very few features have non-zero weights.\n",
    "- Not all input features have the same influence on the prediction. L1 norm will assign a zero weight to features with less predictive power.\n",
    "- L1 regularization does feature selection. It does this by assigning insignificant input features with zero weight and useful features with a non-zero weight.\n",
    "- The intersection is at the corner of the diamond.\n",
    "    - Lasso regression gives us sparse solution.\n",
    "\n",
    "<img src=\"images/p128.png\" height=500px width=500px>\n",
    "\n",
    "\n",
    "**Example:**\n",
    "\n",
    "- **Y-axis:** Regularized coefficients for each variable (i.e. coefficients after penalization is applied)\n",
    "- **X-axis:** Logarithm of the penalization parameter Lambda. The higher value of lambda indicates more regularization (i.e. reduction of the coefficient magnitude, or shrinkage)\n",
    "- **Curves:** Change in the predictor coefficients as the penalty term increases.\n",
    "- **Numbers on top:** The number of variables in the regression model. Since Ridge regression doesn’t do feature selection, all the predictors are retained in the final model.\n",
    "- **Red dotted line:** The minimum value of lambda that results in the smallest cross-validation error.\n",
    "- **Blue dotted line:** The largest value of lambda within the 1 standard error of the lambda.min. This lambda.1se value corresponds to a higher level of penalization (i.e. more regularized model) and can be chosen for a simpler model in predictions (less impact from coefficients)\n",
    "- **Log Lambda = 0** corresponds to `no regularization` (i.e. regular linear model with minimum residual sum of squares).\n",
    "\n",
    "**temp and stock_price get eliminated quickly.**\n",
    "\n",
    "<img src=\"images/p130.png\">"
   ]
  },
  {
   "cell_type": "markdown",
   "id": "aaafd93d",
   "metadata": {},
   "source": [
    "#### Differences\n",
    "\n",
    "**L1 Regularization**\n",
    "- L1 penalizes sum of absolute value of weights.\n",
    "- L1 has a sparse solution\n",
    "- L1 has multiple solutions\n",
    "- L1 has built in feature selection\n",
    "- L1 is robust to outliers\n",
    "- L1 generates model that are simple and interpretable but cannot learn complex patterns\n",
    "\n",
    "**L2 Regularization**\n",
    "- L2 regularization penalizes sum of square weights.\n",
    "- L2 has a non sparse solution\n",
    "- L2 has one solution\n",
    "- L2 has no feature selection\n",
    "- L2 is not robust to outliers\n",
    "- L2 gives better prediction when output variable is a function of all input features\n",
    "- L2 regularization is able to learn complex data patterns"
   ]
  },
  {
   "cell_type": "markdown",
   "id": "02cfe5f5",
   "metadata": {},
   "source": [
    "### Elastic Net Regression \n",
    "\n",
    "Hybrid version: Both `L1` and `L2` penalties.\n",
    "\n",
    "$$min_\\theta \\; J(\\theta) = min_\\theta \\; \\frac{1}{2n} [ \\sum_{i=1}^n \\left( h_\\theta(x^{(i)}) - y^{(i)} \\right)^2 + \\lambda_1 \\sum_{i=1}^n |\\theta_j| + \\lambda_2 \\sum_{i=1}^n \\theta_j^2 ]$$\n",
    "\n",
    "- Due to the corners included in the solution, regularized solution will have some weights equal to zero.\n",
    "    - Solution is sparse in general, and is therefore biased.\n",
    "- Ridge and Lasso are special cases of elastic net regression.\n",
    "- Combines the strength of both but require tuning of hyper-parameters $\\lambda_1$ and $\\lambda_2$ using validation data."
   ]
  },
  {
   "cell_type": "code",
   "execution_count": null,
   "id": "ef6be7bf",
   "metadata": {},
   "outputs": [],
   "source": [
    "# implementation of lasso regularization"
   ]
  },
  {
   "cell_type": "code",
   "execution_count": 40,
   "id": "8e6800f7",
   "metadata": {
    "collapsed": true
   },
   "outputs": [
    {
     "name": "stdout",
     "output_type": "stream",
     "text": [
      "Theta :  [0.98666667]\n",
      "Cost :  [3.21609375 2.76611146 2.38109537 2.05166598 1.76979795 1.52862462\n",
      " 1.32227069 1.14570911 0.99463861 0.86537891 0.75478108 0.66015081\n",
      " 0.57918279 0.50990452 0.45062831 0.3999101  0.35651433 0.31938382\n",
      " 0.28761403 0.26043101 0.23717253 0.21727199 0.2002446  0.18567554\n",
      " 0.17320988 0.16254395 0.15341792 0.14560946 0.13892834 0.13321181\n",
      " 0.12832061 0.12413557 0.12055475 0.11749091 0.11486941 0.11262639\n",
      " 0.1107072  0.1090651  0.10766008 0.1064579  0.10542929 0.10454919\n",
      " 0.10379615 0.10315183 0.10260053 0.10212883 0.10172523 0.1013799\n",
      " 0.10108443 0.10083161 0.1006153  0.10043022 0.10027185 0.10013635\n",
      " 0.10002042 0.09992122 0.09983634 0.09976372 0.09970158 0.09964842\n",
      " 0.09960293 0.09956401 0.0995307  0.09950221 0.09947783 0.09945696\n",
      " 0.09943912 0.09942384 0.09941078 0.0993996  0.09939003 0.09938184\n",
      " 0.09937484 0.09936885 0.09936372 0.09935933 0.09935558 0.09935237\n",
      " 0.09934962 0.09934727 0.09934526 0.09934353 0.09934206 0.0993408\n",
      " 0.09933972 0.0993388  0.09933801 0.09933734 0.09933676 0.09933626\n",
      " 0.09933584 0.09933548 0.09933517 0.0993349  0.09933468 0.09933448\n",
      " 0.09933432 0.09933418 0.09933405 0.09933395 0.09933386 0.09933378\n",
      " 0.09933372 0.09933366 0.09933362 0.09933358 0.09933354 0.09933351\n",
      " 0.09933348 0.09933346 0.09933344 0.09933343 0.09933341 0.0993334\n",
      " 0.09933339 0.09933338 0.09933338 0.09933337 0.09933337 0.09933336\n",
      " 0.09933336 0.09933335 0.09933335 0.09933335 0.09933335 0.09933334\n",
      " 0.09933334 0.09933334 0.09933334 0.09933334 0.09933334 0.09933334\n",
      " 0.09933334 0.09933334 0.09933334 0.09933334 0.09933334 0.09933333\n",
      " 0.09933333 0.09933333 0.09933333 0.09933333 0.09933333 0.09933333\n",
      " 0.09933333 0.09933333 0.09933333 0.09933333 0.09933333 0.09933333\n",
      " 0.09933333 0.09933333 0.09933333 0.09933333 0.09933333 0.09933333\n",
      " 0.09933333 0.09933333 0.09933333 0.09933333 0.09933333 0.09933333\n",
      " 0.09933333 0.09933333 0.09933333 0.09933333 0.09933333 0.09933333\n",
      " 0.09933333 0.09933333 0.09933333 0.09933333 0.09933333 0.09933333\n",
      " 0.09933333 0.09933333 0.09933333 0.09933333 0.09933333 0.09933333\n",
      " 0.09933333 0.09933333 0.09933333 0.09933333 0.09933333 0.09933333\n",
      " 0.09933333 0.09933333 0.09933333 0.09933333 0.09933333 0.09933333\n",
      " 0.09933333 0.09933333 0.09933333 0.09933333 0.09933333 0.09933333\n",
      " 0.09933333 0.09933333 0.09933333 0.09933333 0.09933333 0.09933333\n",
      " 0.09933333 0.09933333 0.09933333 0.09933333 0.09933333 0.09933333\n",
      " 0.09933333 0.09933333 0.09933333 0.09933333 0.09933333 0.09933333\n",
      " 0.09933333 0.09933333 0.09933333 0.09933333 0.09933333 0.09933333\n",
      " 0.09933333 0.09933333 0.09933333 0.09933333 0.09933333 0.09933333\n",
      " 0.09933333 0.09933333 0.09933333 0.09933333 0.09933333 0.09933333\n",
      " 0.09933333 0.09933333 0.09933333 0.09933333 0.09933333 0.09933333\n",
      " 0.09933333 0.09933333 0.09933333 0.09933333 0.09933333 0.09933333\n",
      " 0.09933333 0.09933333 0.09933333 0.09933333 0.09933333 0.09933333\n",
      " 0.09933333 0.09933333 0.09933333 0.09933333 0.09933333 0.09933333\n",
      " 0.09933333 0.09933333 0.09933333 0.09933333 0.09933333 0.09933333\n",
      " 0.09933333 0.09933333 0.09933333 0.09933333 0.09933333 0.09933333\n",
      " 0.09933333 0.09933333 0.09933333 0.09933333 0.09933333 0.09933333\n",
      " 0.09933333 0.09933333 0.09933333 0.09933333 0.09933333 0.09933333\n",
      " 0.09933333 0.09933333 0.09933333 0.09933333 0.09933333 0.09933333\n",
      " 0.09933333 0.09933333 0.09933333 0.09933333 0.09933333 0.09933333\n",
      " 0.09933333 0.09933333 0.09933333 0.09933333 0.09933333 0.09933333\n",
      " 0.09933333 0.09933333 0.09933333 0.09933333 0.09933333 0.09933333\n",
      " 0.09933333 0.09933333 0.09933333 0.09933333 0.09933333 0.09933333\n",
      " 0.09933333 0.09933333 0.09933333 0.09933333 0.09933333 0.09933333\n",
      " 0.09933333 0.09933333 0.09933333 0.09933333 0.09933333 0.09933333\n",
      " 0.09933333 0.09933333 0.09933333 0.09933333 0.09933333 0.09933333\n",
      " 0.09933333 0.09933333 0.09933333 0.09933333 0.09933333 0.09933333\n",
      " 0.09933333 0.09933333 0.09933333 0.09933333 0.09933333 0.09933333\n",
      " 0.09933333 0.09933333 0.09933333 0.09933333 0.09933333 0.09933333\n",
      " 0.09933333 0.09933333 0.09933333 0.09933333 0.09933333 0.09933333\n",
      " 0.09933333 0.09933333 0.09933333 0.09933333 0.09933333 0.09933333\n",
      " 0.09933333 0.09933333 0.09933333 0.09933333 0.09933333 0.09933333\n",
      " 0.09933333 0.09933333 0.09933333 0.09933333 0.09933333 0.09933333\n",
      " 0.09933333 0.09933333 0.09933333 0.09933333 0.09933333 0.09933333\n",
      " 0.09933333 0.09933333 0.09933333 0.09933333 0.09933333 0.09933333\n",
      " 0.09933333 0.09933333 0.09933333 0.09933333 0.09933333 0.09933333\n",
      " 0.09933333 0.09933333 0.09933333 0.09933333 0.09933333 0.09933333\n",
      " 0.09933333 0.09933333 0.09933333 0.09933333 0.09933333 0.09933333\n",
      " 0.09933333 0.09933333 0.09933333 0.09933333 0.09933333 0.09933333\n",
      " 0.09933333 0.09933333 0.09933333 0.09933333 0.09933333 0.09933333\n",
      " 0.09933333 0.09933333 0.09933333 0.09933333 0.09933333 0.09933333\n",
      " 0.09933333 0.09933333 0.09933333 0.09933333 0.09933333 0.09933333\n",
      " 0.09933333 0.09933333 0.09933333 0.09933333 0.09933333 0.09933333\n",
      " 0.09933333 0.09933333 0.09933333 0.09933333 0.09933333 0.09933333\n",
      " 0.09933333 0.09933333 0.09933333 0.09933333 0.09933333 0.09933333\n",
      " 0.09933333 0.09933333 0.09933333 0.09933333 0.09933333 0.09933333\n",
      " 0.09933333 0.09933333 0.09933333 0.09933333 0.09933333 0.09933333\n",
      " 0.09933333 0.09933333 0.09933333 0.09933333 0.09933333 0.09933333\n",
      " 0.09933333 0.09933333 0.09933333 0.09933333 0.09933333 0.09933333\n",
      " 0.09933333 0.09933333 0.09933333 0.09933333 0.09933333 0.09933333\n",
      " 0.09933333 0.09933333 0.09933333 0.09933333 0.09933333 0.09933333\n",
      " 0.09933333 0.09933333 0.09933333 0.09933333 0.09933333 0.09933333\n",
      " 0.09933333 0.09933333 0.09933333 0.09933333 0.09933333 0.09933333\n",
      " 0.09933333 0.09933333 0.09933333 0.09933333 0.09933333 0.09933333\n",
      " 0.09933333 0.09933333 0.09933333 0.09933333 0.09933333 0.09933333\n",
      " 0.09933333 0.09933333 0.09933333 0.09933333 0.09933333 0.09933333\n",
      " 0.09933333 0.09933333 0.09933333 0.09933333 0.09933333 0.09933333\n",
      " 0.09933333 0.09933333 0.09933333 0.09933333 0.09933333 0.09933333\n",
      " 0.09933333 0.09933333 0.09933333 0.09933333 0.09933333 0.09933333\n",
      " 0.09933333 0.09933333 0.09933333 0.09933333 0.09933333 0.09933333\n",
      " 0.09933333 0.09933333 0.09933333 0.09933333 0.09933333 0.09933333\n",
      " 0.09933333 0.09933333 0.09933333 0.09933333 0.09933333 0.09933333\n",
      " 0.09933333 0.09933333 0.09933333 0.09933333 0.09933333 0.09933333\n",
      " 0.09933333 0.09933333 0.09933333 0.09933333 0.09933333 0.09933333\n",
      " 0.09933333 0.09933333 0.09933333 0.09933333 0.09933333 0.09933333\n",
      " 0.09933333 0.09933333 0.09933333 0.09933333 0.09933333 0.09933333\n",
      " 0.09933333 0.09933333 0.09933333 0.09933333 0.09933333 0.09933333\n",
      " 0.09933333 0.09933333 0.09933333 0.09933333 0.09933333 0.09933333\n",
      " 0.09933333 0.09933333 0.09933333 0.09933333 0.09933333 0.09933333\n",
      " 0.09933333 0.09933333 0.09933333 0.09933333 0.09933333 0.09933333\n",
      " 0.09933333 0.09933333 0.09933333 0.09933333 0.09933333 0.09933333\n",
      " 0.09933333 0.09933333 0.09933333 0.09933333 0.09933333 0.09933333\n",
      " 0.09933333 0.09933333 0.09933333 0.09933333 0.09933333 0.09933333\n",
      " 0.09933333 0.09933333 0.09933333 0.09933333 0.09933333 0.09933333\n",
      " 0.09933333 0.09933333 0.09933333 0.09933333 0.09933333 0.09933333\n",
      " 0.09933333 0.09933333 0.09933333 0.09933333 0.09933333 0.09933333\n",
      " 0.09933333 0.09933333 0.09933333 0.09933333 0.09933333 0.09933333\n",
      " 0.09933333 0.09933333 0.09933333 0.09933333 0.09933333 0.09933333\n",
      " 0.09933333 0.09933333 0.09933333 0.09933333 0.09933333 0.09933333\n",
      " 0.09933333 0.09933333 0.09933333 0.09933333 0.09933333 0.09933333\n",
      " 0.09933333 0.09933333 0.09933333 0.09933333 0.09933333 0.09933333\n",
      " 0.09933333 0.09933333 0.09933333 0.09933333 0.09933333 0.09933333\n",
      " 0.09933333 0.09933333 0.09933333 0.09933333 0.09933333 0.09933333\n",
      " 0.09933333 0.09933333 0.09933333 0.09933333 0.09933333 0.09933333\n",
      " 0.09933333 0.09933333 0.09933333 0.09933333 0.09933333 0.09933333\n",
      " 0.09933333 0.09933333 0.09933333 0.09933333 0.09933333 0.09933333\n",
      " 0.09933333 0.09933333 0.09933333 0.09933333 0.09933333 0.09933333\n",
      " 0.09933333 0.09933333 0.09933333 0.09933333 0.09933333 0.09933333\n",
      " 0.09933333 0.09933333 0.09933333 0.09933333 0.09933333 0.09933333\n",
      " 0.09933333 0.09933333 0.09933333 0.09933333 0.09933333 0.09933333\n",
      " 0.09933333 0.09933333 0.09933333 0.09933333 0.09933333 0.09933333\n",
      " 0.09933333 0.09933333 0.09933333 0.09933333 0.09933333 0.09933333\n",
      " 0.09933333 0.09933333 0.09933333 0.09933333 0.09933333 0.09933333\n",
      " 0.09933333 0.09933333 0.09933333 0.09933333 0.09933333 0.09933333\n",
      " 0.09933333 0.09933333 0.09933333 0.09933333 0.09933333 0.09933333\n",
      " 0.09933333 0.09933333 0.09933333 0.09933333 0.09933333 0.09933333\n",
      " 0.09933333 0.09933333 0.09933333 0.09933333 0.09933333 0.09933333\n",
      " 0.09933333 0.09933333 0.09933333 0.09933333 0.09933333 0.09933333\n",
      " 0.09933333 0.09933333 0.09933333 0.09933333 0.09933333 0.09933333\n",
      " 0.09933333 0.09933333 0.09933333 0.09933333 0.09933333 0.09933333\n",
      " 0.09933333 0.09933333 0.09933333 0.09933333 0.09933333 0.09933333\n",
      " 0.09933333 0.09933333 0.09933333 0.09933333 0.09933333 0.09933333\n",
      " 0.09933333 0.09933333 0.09933333 0.09933333 0.09933333 0.09933333\n",
      " 0.09933333 0.09933333 0.09933333 0.09933333 0.09933333 0.09933333\n",
      " 0.09933333 0.09933333 0.09933333 0.09933333 0.09933333 0.09933333\n",
      " 0.09933333 0.09933333 0.09933333 0.09933333 0.09933333 0.09933333\n",
      " 0.09933333 0.09933333 0.09933333 0.09933333 0.09933333 0.09933333\n",
      " 0.09933333 0.09933333 0.09933333 0.09933333 0.09933333 0.09933333\n",
      " 0.09933333 0.09933333 0.09933333 0.09933333 0.09933333 0.09933333\n",
      " 0.09933333 0.09933333 0.09933333 0.09933333 0.09933333 0.09933333\n",
      " 0.09933333 0.09933333 0.09933333 0.09933333 0.09933333 0.09933333\n",
      " 0.09933333 0.09933333 0.09933333 0.09933333 0.09933333 0.09933333\n",
      " 0.09933333 0.09933333 0.09933333 0.09933333 0.09933333 0.09933333\n",
      " 0.09933333 0.09933333 0.09933333 0.09933333 0.09933333 0.09933333\n",
      " 0.09933333 0.09933333 0.09933333 0.09933333 0.09933333 0.09933333\n",
      " 0.09933333 0.09933333 0.09933333 0.09933333 0.09933333 0.09933333\n",
      " 0.09933333 0.09933333 0.09933333 0.09933333 0.09933333 0.09933333\n",
      " 0.09933333 0.09933333 0.09933333 0.09933333 0.09933333 0.09933333\n",
      " 0.09933333 0.09933333 0.09933333 0.09933333 0.09933333 0.09933333\n",
      " 0.09933333 0.09933333 0.09933333 0.09933333 0.09933333 0.09933333\n",
      " 0.09933333 0.09933333 0.09933333 0.09933333 0.09933333 0.09933333\n",
      " 0.09933333 0.09933333 0.09933333 0.09933333 0.09933333 0.09933333\n",
      " 0.09933333 0.09933333 0.09933333 0.09933333 0.09933333 0.09933333\n",
      " 0.09933333 0.09933333 0.09933333 0.09933333 0.09933333 0.09933333\n",
      " 0.09933333 0.09933333 0.09933333 0.09933333 0.09933333 0.09933333\n",
      " 0.09933333 0.09933333 0.09933333 0.09933333 0.09933333 0.09933333\n",
      " 0.09933333 0.09933333 0.09933333 0.09933333 0.09933333 0.09933333\n",
      " 0.09933333 0.09933333 0.09933333 0.09933333 0.09933333 0.09933333\n",
      " 0.09933333 0.09933333 0.09933333 0.09933333 0.09933333 0.09933333\n",
      " 0.09933333 0.09933333 0.09933333 0.09933333 0.09933333 0.09933333\n",
      " 0.09933333 0.09933333 0.09933333 0.09933333 0.09933333 0.09933333\n",
      " 0.09933333 0.09933333 0.09933333 0.09933333 0.09933333 0.09933333\n",
      " 0.09933333 0.09933333 0.09933333 0.09933333 0.09933333 0.09933333\n",
      " 0.09933333 0.09933333 0.09933333 0.09933333 0.09933333 0.09933333\n",
      " 0.09933333 0.09933333 0.09933333 0.09933333 0.09933333 0.09933333\n",
      " 0.09933333 0.09933333 0.09933333 0.09933333 0.09933333 0.09933333\n",
      " 0.09933333 0.09933333 0.09933333 0.09933333 0.09933333 0.09933333\n",
      " 0.09933333 0.09933333 0.09933333 0.09933333]\n"
     ]
    }
   ],
   "source": [
    "import numpy as np\n",
    "\n",
    "# Define the cost function for Lasso regularization\n",
    "def cost_function(X, y, theta, alpha):\n",
    "    m = len(y)\n",
    "    h = X @ theta\n",
    "    cost = 1/(2*m) * np.sum((h-y)**2) + alpha * np.sum(np.abs(theta))\n",
    "    return cost\n",
    "\n",
    "# Define the gradient descent function\n",
    "def gradient_descent(X, y, theta, alpha, iterations, learning_rate):\n",
    "    m = len(y)\n",
    "    cost_history = np.zeros(iterations)\n",
    "    for i in range(iterations):\n",
    "        h = X @ theta\n",
    "        theta = theta - learning_rate * (1/m) * (X.T @ (h-y)) - learning_rate * alpha * np.sign(theta)\n",
    "        cost_history[i] = cost_function(X, y, theta, alpha)\n",
    "    return theta, cost_history\n",
    "\n",
    "# Set the hyperparameters\n",
    "alpha = 0.1\n",
    "iterations = 1000\n",
    "learning_rate = 0.01\n",
    "\n",
    "# Initialize the model parameters\n",
    "theta = np.zeros(X.shape[1])\n",
    "\n",
    "# Run gradient descent to fit the model\n",
    "theta, cost_history = gradient_descent(X, y, theta, alpha, iterations, learning_rate)\n",
    "\n",
    "print(\"Theta : \", theta)\n",
    "print(\"Cost : \", cost_history)"
   ]
  },
  {
   "cell_type": "code",
   "execution_count": null,
   "id": "a0e15ad9",
   "metadata": {},
   "outputs": [],
   "source": [
    "# implementation of ridge regularization"
   ]
  },
  {
   "cell_type": "code",
   "execution_count": 41,
   "id": "6d6d7bce",
   "metadata": {},
   "outputs": [],
   "source": [
    "import numpy as np\n",
    "\n",
    "# Define the cost function for ridge regularization\n",
    "def cost_function(X, y, theta, alpha):\n",
    "    m = len(y)\n",
    "    h = X @ theta\n",
    "    cost = 1/(2*m) * np.sum((h-y)**2) + alpha * np.sum(theta**2)\n",
    "    return cost\n",
    "\n",
    "# Define the gradient descent function\n",
    "def gradient_descent(X, y, theta, alpha, iterations, learning_rate):\n",
    "    m = len(y)\n",
    "    cost_history = np.zeros(iterations)\n",
    "    for i in range(iterations):\n",
    "        h = X @ theta\n",
    "        theta = theta - learning_rate * (1/m) * (X.T @ (h-y)) - learning_rate * alpha * np.sign(theta)\n",
    "        cost_history[i] = cost_function(X, y, theta, alpha)\n",
    "    return theta, cost_history\n",
    "\n",
    "# Set the hyperparameters\n",
    "alpha = 0.1\n",
    "iterations = 1000\n",
    "learning_rate = 0.01\n",
    "\n",
    "# Initialize the model parameters\n",
    "theta = np.zeros(X.shape[1])\n",
    "\n",
    "# Run gradient descent to fit the model\n",
    "theta, cost_history = gradient_descent(X, y, theta, alpha, iterations, learning_rate)\n"
   ]
  },
  {
   "cell_type": "code",
   "execution_count": null,
   "id": "2268ad39",
   "metadata": {},
   "outputs": [],
   "source": [
    "from sklearn.linear_model import LinearRegression, Ridge, Lasso\n",
    "\n",
    "\n",
    "# Fit a linear regression model\n",
    "lin_reg = LinearRegression()\n",
    "lin_reg.fit(X_train, y_train)\n",
    "\n",
    "# Fit a Ridge model with alpha=0.1\n",
    "ridge = Ridge(alpha=0.1)\n",
    "ridge.fit(X_train, y_train)\n",
    "\n",
    "# Fit a Lasso model with alpha=0.1\n",
    "lasso = Lasso(alpha=0.1)\n",
    "lasso.fit(X_train, y_train)"
   ]
  },
  {
   "cell_type": "code",
   "execution_count": null,
   "id": "9dfd3f39",
   "metadata": {},
   "outputs": [],
   "source": []
  },
  {
   "cell_type": "code",
   "execution_count": null,
   "id": "30a73a38",
   "metadata": {},
   "outputs": [],
   "source": []
  },
  {
   "cell_type": "markdown",
   "id": "d71c54e1",
   "metadata": {},
   "source": [
    "## **Project:** Medical Insurance Cost Prediction\n",
    "\n",
    "- Basic Understanding of Data\n",
    "- Exploratory Data Analysis\n",
    "- Data Preprocessing and Feature Engineering\n",
    "- Train Test Split\n",
    "- Model Building and Model Evaluation \n",
    "- Hyper-Parameter Tuning\n",
    "- Prediction on new Data\n",
    "- Model Deployment \n",
    "\n",
    "\n"
   ]
  },
  {
   "cell_type": "markdown",
   "id": "39ad9279",
   "metadata": {},
   "source": [
    "**Which Factors Influence the Price/Cost of Health Insurance?**\n",
    "\n",
    "<img src=\"images/p5.jpg\" height=400px width=400px>\n",
    "\n",
    "Many factors that affect how much you pay for health insurance are not within your control. Nonetheless, it's good to have an understanding of what they are. Here are some factors that affect how much health insurance premiums cost\n",
    "\n",
    "- **age:** age of primary beneficiary\n",
    "- **sex:** insurance contractor gender, female, male\n",
    "- **bmi:** Body mass index, providing an understanding of body, weights that are relatively high or low relative to height, objective index of body weight $(\\frac {kg} {m^2})$ using the ratio of height to weight, ideally 18.5 to 24.9\n",
    "- **children:** Number of children covered by health insurance / Number of dependents\n",
    "- **smoker:** Smoking\n",
    "- **region:** The beneficiary's residential area in the US, northeast, southeast, southwest, northwest"
   ]
  },
  {
   "cell_type": "code",
   "execution_count": null,
   "id": "998153c1",
   "metadata": {},
   "outputs": [],
   "source": []
  },
  {
   "cell_type": "code",
   "execution_count": 1,
   "id": "bc65065c",
   "metadata": {},
   "outputs": [],
   "source": [
    "url =\"https://raw.githubusercontent.com/stedy/Machine-Learning-with-R-datasets/master/insurance.csv\"\n",
    "import pandas as pd\n",
    "import numpy as np\n",
    "import matplotlib.pyplot as plt\n",
    "import seaborn as sns\n",
    "import warnings\n",
    "warnings.filterwarnings('ignore')\n",
    "from sklearn.preprocessing import StandardScaler, OneHotEncoder\n",
    "from sklearn.linear_model import LinearRegression\n",
    "from sklearn.pipeline import Pipeline\n",
    "from sklearn.model_selection import cross_val_score\n",
    "from sklearn.compose import ColumnTransformer\n",
    "from sklearn.model_selection import train_test_split"
   ]
  },
  {
   "cell_type": "code",
   "execution_count": 2,
   "id": "246d180e",
   "metadata": {},
   "outputs": [],
   "source": [
    "df = pd.read_csv(url)\n"
   ]
  },
  {
   "cell_type": "markdown",
   "id": "38b287df",
   "metadata": {},
   "source": [
    "## Basic Understanding of Dataset"
   ]
  },
  {
   "cell_type": "code",
   "execution_count": 3,
   "id": "8bfeddba",
   "metadata": {},
   "outputs": [
    {
     "data": {
      "text/html": [
       "<div>\n",
       "<style scoped>\n",
       "    .dataframe tbody tr th:only-of-type {\n",
       "        vertical-align: middle;\n",
       "    }\n",
       "\n",
       "    .dataframe tbody tr th {\n",
       "        vertical-align: top;\n",
       "    }\n",
       "\n",
       "    .dataframe thead th {\n",
       "        text-align: right;\n",
       "    }\n",
       "</style>\n",
       "<table border=\"1\" class=\"dataframe\">\n",
       "  <thead>\n",
       "    <tr style=\"text-align: right;\">\n",
       "      <th></th>\n",
       "      <th>age</th>\n",
       "      <th>sex</th>\n",
       "      <th>bmi</th>\n",
       "      <th>children</th>\n",
       "      <th>smoker</th>\n",
       "      <th>region</th>\n",
       "      <th>charges</th>\n",
       "    </tr>\n",
       "  </thead>\n",
       "  <tbody>\n",
       "    <tr>\n",
       "      <th>0</th>\n",
       "      <td>19</td>\n",
       "      <td>female</td>\n",
       "      <td>27.90</td>\n",
       "      <td>0</td>\n",
       "      <td>yes</td>\n",
       "      <td>southwest</td>\n",
       "      <td>16884.9240</td>\n",
       "    </tr>\n",
       "    <tr>\n",
       "      <th>1</th>\n",
       "      <td>18</td>\n",
       "      <td>male</td>\n",
       "      <td>33.77</td>\n",
       "      <td>1</td>\n",
       "      <td>no</td>\n",
       "      <td>southeast</td>\n",
       "      <td>1725.5523</td>\n",
       "    </tr>\n",
       "  </tbody>\n",
       "</table>\n",
       "</div>"
      ],
      "text/plain": [
       "   age     sex    bmi  children smoker     region     charges\n",
       "0   19  female  27.90         0    yes  southwest  16884.9240\n",
       "1   18    male  33.77         1     no  southeast   1725.5523"
      ]
     },
     "execution_count": 3,
     "metadata": {},
     "output_type": "execute_result"
    }
   ],
   "source": [
    "df.head(2)\n"
   ]
  },
  {
   "cell_type": "code",
   "execution_count": 4,
   "id": "3bedf92a",
   "metadata": {},
   "outputs": [
    {
     "data": {
      "text/html": [
       "<div>\n",
       "<style scoped>\n",
       "    .dataframe tbody tr th:only-of-type {\n",
       "        vertical-align: middle;\n",
       "    }\n",
       "\n",
       "    .dataframe tbody tr th {\n",
       "        vertical-align: top;\n",
       "    }\n",
       "\n",
       "    .dataframe thead th {\n",
       "        text-align: right;\n",
       "    }\n",
       "</style>\n",
       "<table border=\"1\" class=\"dataframe\">\n",
       "  <thead>\n",
       "    <tr style=\"text-align: right;\">\n",
       "      <th></th>\n",
       "      <th>age</th>\n",
       "      <th>sex</th>\n",
       "      <th>bmi</th>\n",
       "      <th>children</th>\n",
       "      <th>smoker</th>\n",
       "      <th>region</th>\n",
       "      <th>charges</th>\n",
       "    </tr>\n",
       "  </thead>\n",
       "  <tbody>\n",
       "    <tr>\n",
       "      <th>1336</th>\n",
       "      <td>21</td>\n",
       "      <td>female</td>\n",
       "      <td>25.80</td>\n",
       "      <td>0</td>\n",
       "      <td>no</td>\n",
       "      <td>southwest</td>\n",
       "      <td>2007.9450</td>\n",
       "    </tr>\n",
       "    <tr>\n",
       "      <th>1337</th>\n",
       "      <td>61</td>\n",
       "      <td>female</td>\n",
       "      <td>29.07</td>\n",
       "      <td>0</td>\n",
       "      <td>yes</td>\n",
       "      <td>northwest</td>\n",
       "      <td>29141.3603</td>\n",
       "    </tr>\n",
       "  </tbody>\n",
       "</table>\n",
       "</div>"
      ],
      "text/plain": [
       "      age     sex    bmi  children smoker     region     charges\n",
       "1336   21  female  25.80         0     no  southwest   2007.9450\n",
       "1337   61  female  29.07         0    yes  northwest  29141.3603"
      ]
     },
     "execution_count": 4,
     "metadata": {},
     "output_type": "execute_result"
    }
   ],
   "source": [
    "df.tail(2)"
   ]
  },
  {
   "cell_type": "code",
   "execution_count": 5,
   "id": "999eaca7",
   "metadata": {},
   "outputs": [
    {
     "data": {
      "text/plain": [
       "(1338, 7)"
      ]
     },
     "execution_count": 5,
     "metadata": {},
     "output_type": "execute_result"
    }
   ],
   "source": [
    "# number of row/columns\n",
    "df.shape"
   ]
  },
  {
   "cell_type": "code",
   "execution_count": 6,
   "id": "4ab1c777",
   "metadata": {},
   "outputs": [
    {
     "data": {
      "text/plain": [
       "age           int64\n",
       "sex          object\n",
       "bmi         float64\n",
       "children      int64\n",
       "smoker       object\n",
       "region       object\n",
       "charges     float64\n",
       "dtype: object"
      ]
     },
     "execution_count": 6,
     "metadata": {},
     "output_type": "execute_result"
    }
   ],
   "source": [
    "df.dtypes"
   ]
  },
  {
   "cell_type": "code",
   "execution_count": 7,
   "id": "fdc7fa34",
   "metadata": {},
   "outputs": [
    {
     "data": {
      "text/plain": [
       "age         0\n",
       "sex         0\n",
       "bmi         0\n",
       "children    0\n",
       "smoker      0\n",
       "region      0\n",
       "charges     0\n",
       "dtype: int64"
      ]
     },
     "execution_count": 7,
     "metadata": {},
     "output_type": "execute_result"
    }
   ],
   "source": [
    "# check missing values\n",
    "df.isna().sum()"
   ]
  },
  {
   "cell_type": "code",
   "execution_count": 8,
   "id": "e3bb8ed6",
   "metadata": {},
   "outputs": [],
   "source": [
    "# df.age.fillna(value=0)"
   ]
  },
  {
   "cell_type": "code",
   "execution_count": 9,
   "id": "06a18564",
   "metadata": {},
   "outputs": [
    {
     "data": {
      "text/html": [
       "<div>\n",
       "<style scoped>\n",
       "    .dataframe tbody tr th:only-of-type {\n",
       "        vertical-align: middle;\n",
       "    }\n",
       "\n",
       "    .dataframe tbody tr th {\n",
       "        vertical-align: top;\n",
       "    }\n",
       "\n",
       "    .dataframe thead th {\n",
       "        text-align: right;\n",
       "    }\n",
       "</style>\n",
       "<table border=\"1\" class=\"dataframe\">\n",
       "  <thead>\n",
       "    <tr style=\"text-align: right;\">\n",
       "      <th></th>\n",
       "      <th>age</th>\n",
       "      <th>bmi</th>\n",
       "      <th>children</th>\n",
       "      <th>charges</th>\n",
       "    </tr>\n",
       "  </thead>\n",
       "  <tbody>\n",
       "    <tr>\n",
       "      <th>count</th>\n",
       "      <td>1338.000000</td>\n",
       "      <td>1338.000000</td>\n",
       "      <td>1338.000000</td>\n",
       "      <td>1338.000000</td>\n",
       "    </tr>\n",
       "    <tr>\n",
       "      <th>mean</th>\n",
       "      <td>39.207025</td>\n",
       "      <td>30.663397</td>\n",
       "      <td>1.094918</td>\n",
       "      <td>13270.422265</td>\n",
       "    </tr>\n",
       "    <tr>\n",
       "      <th>std</th>\n",
       "      <td>14.049960</td>\n",
       "      <td>6.098187</td>\n",
       "      <td>1.205493</td>\n",
       "      <td>12110.011237</td>\n",
       "    </tr>\n",
       "    <tr>\n",
       "      <th>min</th>\n",
       "      <td>18.000000</td>\n",
       "      <td>15.960000</td>\n",
       "      <td>0.000000</td>\n",
       "      <td>1121.873900</td>\n",
       "    </tr>\n",
       "    <tr>\n",
       "      <th>25%</th>\n",
       "      <td>27.000000</td>\n",
       "      <td>26.296250</td>\n",
       "      <td>0.000000</td>\n",
       "      <td>4740.287150</td>\n",
       "    </tr>\n",
       "    <tr>\n",
       "      <th>50%</th>\n",
       "      <td>39.000000</td>\n",
       "      <td>30.400000</td>\n",
       "      <td>1.000000</td>\n",
       "      <td>9382.033000</td>\n",
       "    </tr>\n",
       "    <tr>\n",
       "      <th>75%</th>\n",
       "      <td>51.000000</td>\n",
       "      <td>34.693750</td>\n",
       "      <td>2.000000</td>\n",
       "      <td>16639.912515</td>\n",
       "    </tr>\n",
       "    <tr>\n",
       "      <th>max</th>\n",
       "      <td>64.000000</td>\n",
       "      <td>53.130000</td>\n",
       "      <td>5.000000</td>\n",
       "      <td>63770.428010</td>\n",
       "    </tr>\n",
       "  </tbody>\n",
       "</table>\n",
       "</div>"
      ],
      "text/plain": [
       "               age          bmi     children       charges\n",
       "count  1338.000000  1338.000000  1338.000000   1338.000000\n",
       "mean     39.207025    30.663397     1.094918  13270.422265\n",
       "std      14.049960     6.098187     1.205493  12110.011237\n",
       "min      18.000000    15.960000     0.000000   1121.873900\n",
       "25%      27.000000    26.296250     0.000000   4740.287150\n",
       "50%      39.000000    30.400000     1.000000   9382.033000\n",
       "75%      51.000000    34.693750     2.000000  16639.912515\n",
       "max      64.000000    53.130000     5.000000  63770.428010"
      ]
     },
     "execution_count": 9,
     "metadata": {},
     "output_type": "execute_result"
    }
   ],
   "source": [
    "df.describe()"
   ]
  },
  {
   "cell_type": "code",
   "execution_count": 10,
   "id": "a9c4b8cb",
   "metadata": {},
   "outputs": [
    {
     "name": "stdout",
     "output_type": "stream",
     "text": [
      "<class 'pandas.core.frame.DataFrame'>\n",
      "RangeIndex: 1338 entries, 0 to 1337\n",
      "Data columns (total 7 columns):\n",
      " #   Column    Non-Null Count  Dtype  \n",
      "---  ------    --------------  -----  \n",
      " 0   age       1338 non-null   int64  \n",
      " 1   sex       1338 non-null   object \n",
      " 2   bmi       1338 non-null   float64\n",
      " 3   children  1338 non-null   int64  \n",
      " 4   smoker    1338 non-null   object \n",
      " 5   region    1338 non-null   object \n",
      " 6   charges   1338 non-null   float64\n",
      "dtypes: float64(2), int64(2), object(3)\n",
      "memory usage: 73.3+ KB\n"
     ]
    }
   ],
   "source": [
    "df.info()"
   ]
  },
  {
   "cell_type": "code",
   "execution_count": 11,
   "id": "2bdba2b0",
   "metadata": {},
   "outputs": [
    {
     "data": {
      "text/plain": [
       "['sex', 'smoker', 'region']"
      ]
     },
     "execution_count": 11,
     "metadata": {},
     "output_type": "execute_result"
    }
   ],
   "source": [
    "cat_columns = df.select_dtypes(exclude=np.number).columns.to_list()\n",
    "cat_columns"
   ]
  },
  {
   "cell_type": "code",
   "execution_count": 14,
   "id": "8f324092",
   "metadata": {},
   "outputs": [
    {
     "data": {
      "text/plain": [
       "['age', 'bmi', 'children', 'charges']"
      ]
     },
     "execution_count": 14,
     "metadata": {},
     "output_type": "execute_result"
    }
   ],
   "source": [
    "num_columns = df.select_dtypes(include=np.number).columns.to_list()\n",
    "num_columns"
   ]
  },
  {
   "cell_type": "code",
   "execution_count": 15,
   "id": "d1b23125",
   "metadata": {},
   "outputs": [],
   "source": [
    "# separate categorical columns & Numerical columns , features and label variable\n",
    "\n",
    "cat_columns = df.select_dtypes(exclude=np.number).columns.to_list()\n",
    "num_columns = df.select_dtypes(include=np.number).columns.to_list()\n",
    "features = df.drop(['charges'], axis=1).columns.to_list()\n",
    "label = 'charges'"
   ]
  },
  {
   "cell_type": "code",
   "execution_count": null,
   "id": "84f182f8",
   "metadata": {},
   "outputs": [],
   "source": []
  },
  {
   "cell_type": "markdown",
   "id": "3e9d541a",
   "metadata": {},
   "source": [
    "# Expolatory Data Analysis"
   ]
  },
  {
   "cell_type": "markdown",
   "id": "ed0089b2",
   "metadata": {},
   "source": [
    "### Uni-variate Analysis"
   ]
  },
  {
   "cell_type": "markdown",
   "id": "6c3c0237",
   "metadata": {},
   "source": [
    "**Plot `count-plot` for all the categorical columns**"
   ]
  },
  {
   "cell_type": "code",
   "execution_count": 26,
   "id": "b819a1ae",
   "metadata": {},
   "outputs": [],
   "source": [
    "# for i in range(len(cat_columns)):\n",
    "#     plt.subplot(2,2,i+1)\n",
    "#     sns.countplot(cat_columns[i], data=df)\n",
    "#     plt.show()"
   ]
  },
  {
   "cell_type": "code",
   "execution_count": 213,
   "id": "e5426bae",
   "metadata": {},
   "outputs": [
    {
     "data": {
      "image/png": "[encoded data removed]",
      "text/plain": [
       "<Figure size 576x576 with 1 Axes>"
      ]
     },
     "metadata": {},
     "output_type": "display_data"
    },
    {
     "data": {
      "image/png": "[encoded data removed]",
      "text/plain": [
       "<Figure size 576x576 with 1 Axes>"
      ]
     },
     "metadata": {},
     "output_type": "display_data"
    },
    {
     "data": {
      "image/png": "[encoded data removed]",
      "text/plain": [
       "<Figure size 576x576 with 1 Axes>"
      ]
     },
     "metadata": {},
     "output_type": "display_data"
    }
   ],
   "source": [
    "sns.set_style('darkgrid')\n",
    "for col in cat_columns:\n",
    "#     print(col)\n",
    "    plt.figure(figsize=(8,8))\n",
    "    sns.countplot(x=col, data=df)\n",
    "    plt.title(f\"Distribution of {col}\", fontsize=20)\n",
    "    plt.xlabel(f\"{col}\", fontsize=15)\n",
    "    plt.ylabel(\"Frequency\", fontsize=15)\n",
    "    plt.xticks(rotation=50)\n",
    "    plt.show()"
   ]
  },
  {
   "cell_type": "markdown",
   "id": "d2ac61b4",
   "metadata": {},
   "source": [
    "**Plot `histogram` for all the Numerical Columns**"
   ]
  },
  {
   "cell_type": "code",
   "execution_count": 214,
   "id": "a93afd80",
   "metadata": {},
   "outputs": [
    {
     "data": {
      "image/png": "[encoded data removed]",
      "text/plain": [
       "<Figure size 576x576 with 1 Axes>"
      ]
     },
     "metadata": {},
     "output_type": "display_data"
    },
    {
     "data": {
      "image/png": "[encoded data removed]",
      "text/plain": [
       "<Figure size 576x576 with 1 Axes>"
      ]
     },
     "metadata": {},
     "output_type": "display_data"
    },
    {
     "data": {
      "image/png": "[encoded data removed]",
      "text/plain": [
       "<Figure size 576x576 with 1 Axes>"
      ]
     },
     "metadata": {},
     "output_type": "display_data"
    },
    {
     "data": {
      "image/png": "[encoded data removed]",
      "text/plain": [
       "<Figure size 576x576 with 1 Axes>"
      ]
     },
     "metadata": {},
     "output_type": "display_data"
    }
   ],
   "source": [
    "sns.set_style('darkgrid')\n",
    "for col in num_columns:\n",
    "#     print(col)\n",
    "    plt.figure(figsize=(8,8))\n",
    "    sns.histplot(df[col])\n",
    "    plt.title(f\"Histogram of {col}\", fontsize=20)\n",
    "    plt.xlabel(f\"{col}\", fontsize=15)\n",
    "    plt.ylabel(\"Frequency\", fontsize=15)\n",
    "    plt.xticks(rotation=50)\n",
    "    plt.show()"
   ]
  },
  {
   "cell_type": "markdown",
   "id": "c4ba9fad",
   "metadata": {},
   "source": [
    "**Plot `boxplot` for all the Numerical Columns**"
   ]
  },
  {
   "cell_type": "code",
   "execution_count": 45,
   "id": "13998fd9",
   "metadata": {
    "collapsed": true
   },
   "outputs": [
    {
     "data": {
      "image/png": "[encoded data removed]",
      "text/plain": [
       "<Figure size 576x576 with 1 Axes>"
      ]
     },
     "metadata": {},
     "output_type": "display_data"
    },
    {
     "data": {
      "image/png": "[encoded data removed]",
      "text/plain": [
       "<Figure size 576x576 with 1 Axes>"
      ]
     },
     "metadata": {},
     "output_type": "display_data"
    },
    {
     "data": {
      "image/png": "[encoded data removed]",
      "text/plain": [
       "<Figure size 576x576 with 1 Axes>"
      ]
     },
     "metadata": {},
     "output_type": "display_data"
    },
    {
     "data": {
      "image/png": "[encoded data removed]",
      "text/plain": [
       "<Figure size 576x576 with 1 Axes>"
      ]
     },
     "metadata": {},
     "output_type": "display_data"
    }
   ],
   "source": [
    "sns.set_style('darkgrid')\n",
    "for col in num_columns:\n",
    "#     print(col)\n",
    "    plt.figure(figsize=(8,8))\n",
    "    sns.boxplot(y = df[col])\n",
    "    plt.title(f\"Boxplot of {col}\", fontsize=20)\n",
    "    plt.xlabel(f\"{col}\", fontsize=15)\n",
    "    plt.ylabel(\"Frequency\", fontsize=15)\n",
    "    plt.xticks(rotation=50)\n",
    "    plt.show()"
   ]
  },
  {
   "cell_type": "markdown",
   "id": "6c050f78",
   "metadata": {},
   "source": [
    "**Plot `Scatter plot` for Numerical-Categorical columns**"
   ]
  },
  {
   "cell_type": "code",
   "execution_count": 50,
   "id": "979dfc85",
   "metadata": {},
   "outputs": [],
   "source": [
    "# for num in num_columns:\n",
    "#     for cat in cat_columns:\n",
    "#         sns.scatterplot(x=num, y=cat, data=df)\n",
    "#         plt.show()"
   ]
  },
  {
   "cell_type": "code",
   "execution_count": null,
   "id": "8c060ddd",
   "metadata": {},
   "outputs": [],
   "source": []
  },
  {
   "cell_type": "markdown",
   "id": "5542464b",
   "metadata": {},
   "source": [
    "**Plot `Scatter-Plot` for Numerical-Target columns**"
   ]
  },
  {
   "cell_type": "code",
   "execution_count": 56,
   "id": "5533301b",
   "metadata": {
    "collapsed": true
   },
   "outputs": [
    {
     "data": {
      "image/png": "[encoded data removed]",
      "text/plain": [
       "<Figure size 576x576 with 1 Axes>"
      ]
     },
     "metadata": {},
     "output_type": "display_data"
    },
    {
     "data": {
      "image/png": "[encoded data removed]",
      "text/plain": [
       "<Figure size 576x576 with 1 Axes>"
      ]
     },
     "metadata": {},
     "output_type": "display_data"
    },
    {
     "data": {
      "image/png": "[encoded data removed]",
      "text/plain": [
       "<Figure size 576x576 with 1 Axes>"
      ]
     },
     "metadata": {},
     "output_type": "display_data"
    },
    {
     "data": {
      "image/png": "[encoded data removed]",
      "text/plain": [
       "<Figure size 576x576 with 1 Axes>"
      ]
     },
     "metadata": {},
     "output_type": "display_data"
    }
   ],
   "source": [
    "for num in num_columns:\n",
    "    plt.figure(figsize=(8,8))    \n",
    "    sns.scatterplot(x=num, y=label, data=df)\n",
    "    plt.title(f\"Scatter plot of {num} vs {label}\", fontsize=20)\n",
    "    plt.show()"
   ]
  },
  {
   "cell_type": "markdown",
   "id": "d8991ff7",
   "metadata": {},
   "source": [
    "**Plot a `heatmap` for numerical-categorical colummns**"
   ]
  },
  {
   "cell_type": "code",
   "execution_count": 68,
   "id": "d0954299",
   "metadata": {},
   "outputs": [
    {
     "data": {
      "image/png": "[encoded data removed]",
      "text/plain": [
       "<Figure size 432x288 with 2 Axes>"
      ]
     },
     "metadata": {},
     "output_type": "display_data"
    }
   ],
   "source": [
    "sns.heatmap(df.corr(), annot=True)\n",
    "plt.show()"
   ]
  },
  {
   "cell_type": "markdown",
   "id": "d16842b8",
   "metadata": {},
   "source": [
    "### Pipeline for Feature Engineering"
   ]
  },
  {
   "cell_type": "code",
   "execution_count": 16,
   "id": "07e91a13",
   "metadata": {},
   "outputs": [],
   "source": [
    "cat_columns = df.select_dtypes(exclude=np.number).columns.to_list()\n",
    "num_columns = df.select_dtypes(include=np.number).columns.to_list()\n",
    "features = df.drop(['charges'], axis=1).columns.to_list()\n",
    "label = 'charges'\n",
    "num_columns.remove('charges')"
   ]
  },
  {
   "cell_type": "code",
   "execution_count": 18,
   "id": "4e38c4b0",
   "metadata": {},
   "outputs": [
    {
     "data": {
      "text/plain": [
       "['age', 'bmi', 'children']"
      ]
     },
     "execution_count": 18,
     "metadata": {},
     "output_type": "execute_result"
    }
   ],
   "source": [
    "# features\n",
    "num_columns"
   ]
  },
  {
   "cell_type": "code",
   "execution_count": null,
   "id": "a0514fee",
   "metadata": {},
   "outputs": [],
   "source": []
  },
  {
   "cell_type": "markdown",
   "id": "841dc7c3",
   "metadata": {},
   "source": [
    "### Column Transformer"
   ]
  },
  {
   "cell_type": "code",
   "execution_count": 19,
   "id": "8db83d9a",
   "metadata": {},
   "outputs": [],
   "source": [
    "# Combine the transformers into a single ColumnTransformer\n",
    "preprocessor = ColumnTransformer(\n",
    "    transformers=[\n",
    "        ('cat', OneHotEncoder(handle_unknown='ignore'), cat_columns),\n",
    "        ('num', StandardScaler(), num_columns)\n",
    "    ], remainder='passthrough', sparse_threshold=0\n",
    ")"
   ]
  },
  {
   "cell_type": "markdown",
   "id": "3c8c8f74",
   "metadata": {},
   "source": [
    "### Train Test Validate Split"
   ]
  },
  {
   "cell_type": "code",
   "execution_count": 22,
   "id": "035536c8",
   "metadata": {},
   "outputs": [
    {
     "data": {
      "text/plain": [
       "0       16884.92400\n",
       "1        1725.55230\n",
       "2        4449.46200\n",
       "3       21984.47061\n",
       "4        3866.85520\n",
       "           ...     \n",
       "1333    10600.54830\n",
       "1334     2205.98080\n",
       "1335     1629.83350\n",
       "1336     2007.94500\n",
       "1337    29141.36030\n",
       "Name: charges, Length: 1338, dtype: float64"
      ]
     },
     "execution_count": 22,
     "metadata": {},
     "output_type": "execute_result"
    }
   ],
   "source": [
    "# df[features]\n",
    "# df[label]"
   ]
  },
  {
   "cell_type": "code",
   "execution_count": 23,
   "id": "f50c2cf0",
   "metadata": {},
   "outputs": [],
   "source": [
    "# Split the data into training and testing sets\n",
    "X_train, X_test, y_train, y_test = train_test_split(df[features], df[label], test_size=0.2, random_state=42)\n",
    "\n",
    "# Split the training set into training and validation sets\n",
    "X_train, X_val, y_train, y_val = train_test_split(X_train, y_train, test_size=0.2, random_state=42)"
   ]
  },
  {
   "cell_type": "code",
   "execution_count": 24,
   "id": "9bfa0c08",
   "metadata": {},
   "outputs": [
    {
     "name": "stdout",
     "output_type": "stream",
     "text": [
      "(856, 6)\n",
      "(268, 6)\n",
      "(856,)\n",
      "(268,)\n",
      "(214,)\n",
      "(214, 6)\n"
     ]
    }
   ],
   "source": [
    "print(X_train.shape)\n",
    "print(X_test.shape)\n",
    "print(y_train.shape)\n",
    "print(y_test.shape)\n",
    "print(y_val.shape)\n",
    "print(X_val.shape)"
   ]
  },
  {
   "cell_type": "code",
   "execution_count": null,
   "id": "631f0c3b",
   "metadata": {},
   "outputs": [],
   "source": []
  },
  {
   "cell_type": "markdown",
   "id": "66023ad7",
   "metadata": {},
   "source": [
    "### Model Buidling\n",
    "<img src=\"images/p132.png\" height=500px width=500px>"
   ]
  },
  {
   "cell_type": "code",
   "execution_count": 28,
   "id": "9e954513",
   "metadata": {},
   "outputs": [],
   "source": [
    "# from sklearn.neighbors import KNeighborsClassifier\n",
    "# KNN = KNeighborsClassifier()"
   ]
  },
  {
   "cell_type": "code",
   "execution_count": 25,
   "id": "bb9fd265",
   "metadata": {},
   "outputs": [
    {
     "data": {
      "text/plain": [
       "Pipeline(steps=[('preprocessor',\n",
       "                 ColumnTransformer(remainder='passthrough', sparse_threshold=0,\n",
       "                                   transformers=[('cat',\n",
       "                                                  OneHotEncoder(handle_unknown='ignore'),\n",
       "                                                  ['sex', 'smoker', 'region']),\n",
       "                                                 ('num', StandardScaler(),\n",
       "                                                  ['age', 'bmi',\n",
       "                                                   'children'])])),\n",
       "                ('lr', LinearRegression())])"
      ]
     },
     "execution_count": 25,
     "metadata": {},
     "output_type": "execute_result"
    }
   ],
   "source": [
    "from sklearn.pipeline import Pipeline\n",
    "model =  Pipeline([('preprocessor',preprocessor),\n",
    "                   ('lr', LinearRegression())])\n",
    "model"
   ]
  },
  {
   "cell_type": "code",
   "execution_count": 26,
   "id": "82fdac24",
   "metadata": {},
   "outputs": [
    {
     "data": {
      "text/plain": [
       "Pipeline(steps=[('preprocessor',\n",
       "                 ColumnTransformer(remainder='passthrough', sparse_threshold=0,\n",
       "                                   transformers=[('cat',\n",
       "                                                  OneHotEncoder(handle_unknown='ignore'),\n",
       "                                                  ['sex', 'smoker', 'region']),\n",
       "                                                 ('num', StandardScaler(),\n",
       "                                                  ['age', 'bmi',\n",
       "                                                   'children'])])),\n",
       "                ('lr', LinearRegression())])"
      ]
     },
     "execution_count": 26,
     "metadata": {},
     "output_type": "execute_result"
    }
   ],
   "source": [
    "# fit the model on training dataset using fit method\n",
    "model.fit(X_train, y_train)"
   ]
  },
  {
   "cell_type": "code",
   "execution_count": 30,
   "id": "493df0e0",
   "metadata": {},
   "outputs": [
    {
     "data": {
      "text/plain": [
       "764      9095.06825\n",
       "887      5272.17580\n",
       "890     29330.98315\n",
       "1293     9301.89355\n",
       "259     33750.29180\n",
       "           ...     \n",
       "109     47055.53210\n",
       "575     12222.89830\n",
       "535      6067.12675\n",
       "543     63770.42801\n",
       "846      9872.70100\n",
       "Name: charges, Length: 268, dtype: float64"
      ]
     },
     "execution_count": 30,
     "metadata": {},
     "output_type": "execute_result"
    }
   ],
   "source": [
    "y_test"
   ]
  },
  {
   "cell_type": "code",
   "execution_count": 31,
   "id": "bf4e7344",
   "metadata": {},
   "outputs": [],
   "source": [
    "y_pred = model.predict(X_test)"
   ]
  },
  {
   "cell_type": "code",
   "execution_count": 32,
   "id": "76f910a1",
   "metadata": {},
   "outputs": [
    {
     "data": {
      "text/plain": [
       "array([ 8192.,  6976., 36416.,  9600., 27328., 11072.,   192., 17088.,\n",
       "         512., 11328., 28096.,  9600.,  4800., 38080., 39936., 36800.,\n",
       "       14592., 35200.,  8512., 31168.,  3904., 10176.,  2752.,  6656.,\n",
       "       10944., 12224., 14144.,  5952.,  9152.,  2240.,  8704., 12800.,\n",
       "        4224.,  3200.,  4736., 12800.,  1856.,  8512., 32896., 32384.,\n",
       "        3584.,  4736., 13760., 11584.,  8640., 12096.,  5184.,  2880.,\n",
       "       35136.,  9024., 15168.,  2368., 12224.,  1408., 13184., 12160.,\n",
       "        4160., 32256., 12992., 12160., 13760., 10048., 16256.,  7488.,\n",
       "       11136.,  3968., 26688., 10560.,  2048.,  6592., 10496., 10880.,\n",
       "       10432.,  8960., 11776.,  6272.,  6976., 10496.,  6080.,  8320.,\n",
       "        3840., 36096.,  6144., 30080., 34816., 34816.,  6848., 13056.,\n",
       "        9664., 14400., 16832., 34432., 32128.,  5888., 31808.,  9600.,\n",
       "       29248.,  3328., 27968.,  5120.,  5312.,  1856., 11456., 15040.,\n",
       "       11328.,  4352.,  9664., 31424.,  -192., 32000.,  3648., 10176.,\n",
       "       13504., 30848., 10688.,  4224., 12736., 31296.,  7616.,  3648.,\n",
       "        7808., 10816., 14400.,  5696.,  3648.,  9984., 10368., 10752.,\n",
       "       13824.,  7488.,  4928.,  9024.,  8832., 11904.,  8128., 15360.,\n",
       "        8256., 31872., 35520., 30848.,  5888., 11904.,  6016., 14272.,\n",
       "        2496., 32896.,  6528.,  4864., 14016.,  7104., 38208.,  3072.,\n",
       "        6016., 31296., 11392.,  8320., 14400.,  9216., 26624., 33024.,\n",
       "       13696.,  1664., 13056.,  2112.,  5632., 11392., 39296., 36160.,\n",
       "       33536.,  3776.,  7104.,  8448., 12288.,  5184.,  1984., 31808.,\n",
       "       25344., 17216., 26112.,  9856., 36288., -1024.,  6976.,  7552.,\n",
       "        4032.,  5120.,  5696.,  4160., 14656., 11328.,  7104.,  2048.,\n",
       "        1024., 32000., 16192., 11456.,  1216., 11712.,  1088.,  8448.,\n",
       "        1856., 33984., 10752.,  3008., 25088., 25792.,  9664.,  1600.,\n",
       "       13120.,   960., 10368.,  9856., 16192., 26752.,  6720.,  4608.,\n",
       "        5376., 12416., 10432.,  7872.,  5184., 12608., 13696., 35456.,\n",
       "        4608., 28800.,  -960.,  3392., 10816., 14976.,  5312.,  6656.,\n",
       "        3584., 31360.,  6976., 12288.,  5952.,  9728., 35584.,  4480.,\n",
       "        8832., 31232.,  5760.,  4160.,  1536.,  5248.,  4352.,  6720.,\n",
       "       17856., -1088.,  2304., 10752.,  3008.,  9408.,  3712.,  4736.,\n",
       "       12416.,  6592.,  7936.,  6848.,  8640., 10176., 27712., 38720.,\n",
       "       11456.,  7424., 40192., 11968.])"
      ]
     },
     "execution_count": 32,
     "metadata": {},
     "output_type": "execute_result"
    }
   ],
   "source": [
    "y_pred"
   ]
  },
  {
   "cell_type": "code",
   "execution_count": 35,
   "id": "2d104980",
   "metadata": {},
   "outputs": [
    {
     "data": {
      "text/plain": [
       "array([ 2.16212592e+17,  2.16212592e+17, -4.64308720e+15, -4.64308720e+15,\n",
       "        2.15111170e+17,  2.15111170e+17,  2.15111170e+17,  2.15111170e+17,\n",
       "        3.52600000e+03,  2.08300000e+03,  4.59000000e+02])"
      ]
     },
     "execution_count": 35,
     "metadata": {},
     "output_type": "execute_result"
    }
   ],
   "source": [
    "model.named_steps['lr'].coef_\n",
    "# sgd_randomized_pipe.named_steps['clf'].coef_\n"
   ]
  },
  {
   "cell_type": "code",
   "execution_count": 37,
   "id": "e444048a",
   "metadata": {},
   "outputs": [
    {
     "data": {
      "text/plain": [
       "{'copy_X': True, 'fit_intercept': True, 'n_jobs': None, 'normalize': False}"
      ]
     },
     "execution_count": 37,
     "metadata": {},
     "output_type": "execute_result"
    }
   ],
   "source": [
    "# LinearRegression()."
   ]
  },
  {
   "cell_type": "code",
   "execution_count": 41,
   "id": "0d5525be",
   "metadata": {},
   "outputs": [],
   "source": [
    "# model.named_steps['lr'].features"
   ]
  },
  {
   "cell_type": "code",
   "execution_count": 36,
   "id": "489e1a7a",
   "metadata": {},
   "outputs": [
    {
     "data": {
      "text/plain": [
       "-4.2668067556419757e+17"
      ]
     },
     "execution_count": 36,
     "metadata": {},
     "output_type": "execute_result"
    }
   ],
   "source": [
    "model.named_steps['lr'].intercept_"
   ]
  },
  {
   "cell_type": "code",
   "execution_count": null,
   "id": "adfb5bdf",
   "metadata": {},
   "outputs": [],
   "source": []
  },
  {
   "cell_type": "code",
   "execution_count": null,
   "id": "0c2c215e",
   "metadata": {},
   "outputs": [],
   "source": []
  },
  {
   "cell_type": "markdown",
   "id": "5f6bd9f8",
   "metadata": {},
   "source": [
    "## Model Evaluarion for Train/Test Split\n",
    "\n",
    "There are several techniques to evaluate a linear regression model. Some of the most commonly used techniques are:\n",
    "\n",
    "<img src=\"images/p1.JPG\" align=\"right\">\n",
    "\n",
    "**Mean Absolute Error (MAE):**\n",
    "\n",
    "- It is the average of the absolute differences between the predicted and actual values. Lower the value of MAE, better the model.\n",
    "\n",
    "**Mean Squared Error (MSE):**\n",
    "\n",
    "- It is the average of the squared differences between the predicted and actual values. Lower the value of MSE, better the model.\n",
    "\n",
    "**Root Mean Squared Error (RMSE):**\n",
    "\n",
    "- It is the square root of the mean squared error. Lower the value of RMSE, better the model.\n",
    "\n",
    "**R-squared:**\n",
    "- It is a statistical measure that represents the proportion of the variance for a dependent variable that's explained by an independent variable or variables. R-squared value ranges from 0 to 1, and the closer it is to 1, the better the model.\n",
    "\n",
    "**Adjusted R-squared:**\n",
    "- It is similar to R-squared, but it adjusts for the number of independent variables in the model. It is a more reliable measure of model fit when the sample size is small or when there are many independent variables.\n",
    "\n",
    "**Residual Plot:**\n",
    "- It is a plot of the residuals (predicted - actual) versus the predicted values. If the model is a good fit, the residuals should be randomly distributed around a horizontal line at zero."
   ]
  },
  {
   "cell_type": "code",
   "execution_count": 42,
   "id": "43a79180",
   "metadata": {},
   "outputs": [],
   "source": [
    "from sklearn.metrics import mean_absolute_error, mean_squared_error, r2_score\n",
    "from math import sqrt"
   ]
  },
  {
   "cell_type": "code",
   "execution_count": 43,
   "id": "4e87d9f2",
   "metadata": {},
   "outputs": [],
   "source": [
    "mae = mean_absolute_error(y_test, y_pred)\n",
    "mse = mean_squared_error(y_test, y_pred)\n",
    "rmse = sqrt(mean_squared_error(y_test, y_pred))\n",
    "r2 =  r2_score(y_test, y_pred)"
   ]
  },
  {
   "cell_type": "code",
   "execution_count": 44,
   "id": "147675b8",
   "metadata": {},
   "outputs": [
    {
     "data": {
      "text/plain": [
       "0.7775016012022304"
      ]
     },
     "execution_count": 44,
     "metadata": {},
     "output_type": "execute_result"
    }
   ],
   "source": [
    "n = len(y_test)\n",
    "p = len(X_train.columns)\n",
    "adjusted_r2 = 1 - (1 - r2) * (n - 1) / (n - p - 1)\n",
    "adjusted_r2"
   ]
  },
  {
   "cell_type": "code",
   "execution_count": 45,
   "id": "45c98a27",
   "metadata": {},
   "outputs": [
    {
     "name": "stdout",
     "output_type": "stream",
     "text": [
      "Train/Test Split Result of Linear Regression .... \n",
      "Mean Absolute Error : 4157.693\n",
      "Mean Squared Error : 33766356.101\n",
      "Root Mean Squared Error : 5810.883\n",
      "R-Squared : 0.783\n",
      "Adjusted R-Squared : 0.778\n"
     ]
    }
   ],
   "source": [
    "print(\"Train/Test Split Result of Linear Regression .... \")\n",
    "print(f\"Mean Absolute Error : {mae:.3f}\")\n",
    "print(f\"Mean Squared Error : {mse:.3f}\")\n",
    "print(f\"Root Mean Squared Error : {rmse:.3f}\")\n",
    "print(f\"R-Squared : {r2:.3f}\")\n",
    "print(f\"Adjusted R-Squared : {adjusted_r2:.3f}\")"
   ]
  },
  {
   "cell_type": "markdown",
   "id": "e4f50cea",
   "metadata": {},
   "source": [
    "#### Residual Plot"
   ]
  },
  {
   "cell_type": "code",
   "execution_count": 171,
   "id": "decedf59",
   "metadata": {},
   "outputs": [
    {
     "data": {
      "image/png": "[encoded data removed]",
      "text/plain": [
       "<Figure size 432x288 with 1 Axes>"
      ]
     },
     "metadata": {},
     "output_type": "display_data"
    }
   ],
   "source": [
    "import matplotlib.pyplot as plt\n",
    "residuals = y_test - y_pred\n",
    "plt.scatter(y_pred, residuals)\n",
    "plt.show()"
   ]
  },
  {
   "cell_type": "markdown",
   "id": "e2440fef",
   "metadata": {},
   "source": [
    "### Model evaluation based on K-fold cross-validation using `cross_val_score()` function with` validation data`"
   ]
  },
  {
   "cell_type": "code",
   "execution_count": 46,
   "id": "e93397c4",
   "metadata": {},
   "outputs": [],
   "source": [
    "model1 =  Pipeline([('preprocessor',preprocessor),\n",
    "                   ('lr', LinearRegression())])\n",
    "nmae = cross_val_score(model1, X_val, y_val, cv=10, scoring='neg_mean_absolute_error')\n",
    "nmse =  cross_val_score(model1, X_val, y_val, cv=10, scoring='neg_mean_squared_error')\n",
    "nrmse =  cross_val_score(model1, X_val, y_val, cv=10, scoring='neg_root_mean_squared_error')\n",
    "r2_ =  cross_val_score(model1, X_val, y_val, cv=10, scoring='r2')"
   ]
  },
  {
   "cell_type": "code",
   "execution_count": 47,
   "id": "06fc6d1f",
   "metadata": {},
   "outputs": [
    {
     "name": "stdout",
     "output_type": "stream",
     "text": [
      "Cross Validation Result of Linear Regression .... \n",
      "Mean Absolute Error : 4839.647\n",
      "Mean Squared Error : 46585385.302\n",
      "Root Mean Squared Error : 6676.807\n",
      "R-Squared : 0.652\n"
     ]
    }
   ],
   "source": [
    "print(\"Cross Validation Result of Linear Regression .... \")\n",
    "print(f\"Mean Absolute Error : {-nmae.mean():.3f}\")\n",
    "print(f\"Mean Squared Error : {-nmse.mean():.3f}\")\n",
    "print(f\"Root Mean Squared Error : {-nrmse.mean():.3f}\")\n",
    "print(f\"R-Squared : {r2_.mean():.3f}\")"
   ]
  },
  {
   "cell_type": "markdown",
   "id": "4cf16c3a",
   "metadata": {},
   "source": [
    "#### Save the Model"
   ]
  },
  {
   "cell_type": "code",
   "execution_count": 200,
   "id": "5a4214fb",
   "metadata": {},
   "outputs": [],
   "source": [
    "import pickle\n",
    "\n",
    "# Save the model to a file using pickle\n",
    "with open(\"Model/insurance_prediction.pkl\", 'wb') as file:\n",
    "    pickle.dump(model, file)"
   ]
  },
  {
   "cell_type": "markdown",
   "id": "7508dac5",
   "metadata": {},
   "source": [
    "#### Load the Model using Pickle"
   ]
  },
  {
   "cell_type": "code",
   "execution_count": 201,
   "id": "d2a29309",
   "metadata": {},
   "outputs": [],
   "source": [
    "import pickle\n",
    "\n",
    "# Load the model to a file using pickle\n",
    "with open(\"Model/insurance_prediction.pkl\", 'rb') as file:\n",
    "    model_file = pickle.load(file)"
   ]
  },
  {
   "cell_type": "markdown",
   "id": "c5e574f8",
   "metadata": {},
   "source": [
    "#### Prediction on new Data"
   ]
  },
  {
   "cell_type": "code",
   "execution_count": 189,
   "id": "047ccfbe",
   "metadata": {},
   "outputs": [],
   "source": [
    "new_data = pd.DataFrame({\n",
    "    'children':3,\n",
    "    'sex':'female',\n",
    "    'age':10.0,\n",
    "    'bmi':20.0,\n",
    "    'smoker':'yes',\n",
    "    'region': 'southwest', \n",
    "},index=[0])"
   ]
  },
  {
   "cell_type": "code",
   "execution_count": 202,
   "id": "b687a665",
   "metadata": {},
   "outputs": [
    {
     "name": "stdout",
     "output_type": "stream",
     "text": [
      "Medical Insurance Cost 21248.0\n"
     ]
    }
   ],
   "source": [
    "result = model_file.predict(new_data)[0]\n",
    "print(\"Medical Insurance Cost\", result)"
   ]
  },
  {
   "cell_type": "code",
   "execution_count": null,
   "id": "acfb8c4a",
   "metadata": {},
   "outputs": [],
   "source": []
  },
  {
   "cell_type": "markdown",
   "id": "7041cd53",
   "metadata": {},
   "source": [
    "### Medical Insurance Cost Prediction App"
   ]
  },
  {
   "cell_type": "code",
   "execution_count": 209,
   "id": "88090139",
   "metadata": {},
   "outputs": [
    {
     "name": "stdout",
     "output_type": "stream",
     "text": [
      "## Medical Insurance Cost Prediction\r\n",
      "import streamlit as st\r\n",
      "import pandas as pd\r\n",
      "import pickle\r\n",
      "\r\n",
      "# Load the Model \r\n",
      "\r\n",
      "with open('Model/insurance_prediction.pkl', 'rb') as file:\r\n",
      "    model_file = pickle.load(file)\r\n",
      "\r\n",
      "# Title of Page\r\n",
      "st.title('Medical Insurance Cost Prediction')\r\n",
      "\r\n",
      "with st.form(\"my_form\"):\r\n",
      "    # Input form\r\n",
      "    children = st.number_input('Children', min_value=0, max_value=10)\r\n",
      "    smoker = st.selectbox('Smoker', ['yes','no'])\r\n",
      "    age = st.number_input('Age', min_value=1, max_value=100)\r\n",
      "    bmi = st.number_input('BMI', min_value=0, max_value=55)\r\n",
      "    gender = st.selectbox('Gender', ['male', 'female'])\r\n",
      "    region = st.selectbox('Region', ['southwest', 'southeast', 'northwest', 'northeast'])\r\n",
      "\r\n",
      "    # Preprocess the input\r\n",
      "    new_data = pd.DataFrame({\r\n",
      "    'children':children,\r\n",
      "    'sex':gender,\r\n",
      "    'age':age,\r\n",
      "    'bmi':bmi,\r\n",
      "    'smoker':smoker,\r\n",
      "    'region': region, },index=[0])\r\n",
      "    # use dataframe to predict result by passing into predict method\r\n",
      "    result = model_file.predict(new_data)[0]\r\n",
      "    \r\n",
      "   # create a button in the form\r\n",
      "    submitted = st.form_submit_button(\"Predict\")\r\n",
      "    if submitted:\r\n",
      "        st.write(\"Medical Insurance Cost\", result)\r\n"
     ]
    }
   ],
   "source": [
    "!cat MICP.py"
   ]
  },
  {
   "cell_type": "code",
   "execution_count": 215,
   "id": "a89aa0e2",
   "metadata": {},
   "outputs": [
    {
     "name": "stdout",
     "output_type": "stream",
     "text": [
      "2023-01-19 13:07:30.583 INFO    numexpr.utils: NumExpr defaulting to 8 threads.\n",
      "\u001b[0m\n",
      "\u001b[34m\u001b[1m  You can now view your Streamlit app in your browser.\u001b[0m\n",
      "\u001b[0m\n",
      "\u001b[34m  Local URL: \u001b[0m\u001b[1mhttp://localhost:8501\u001b[0m\n",
      "\u001b[34m  Network URL: \u001b[0m\u001b[1mhttp://192.168.244.91:8501\u001b[0m\n",
      "\u001b[0m\n",
      "/home/dell/.local/lib/python3.8/site-packages/sklearn/compose/_column_transformer.py:437: FutureWarning: Given feature/column names or counts do not match the ones for the data given during fit. This will fail from v0.24.\n",
      "  warnings.warn(\"Given feature/column names or counts do not match \"\n",
      "/home/dell/.local/lib/python3.8/site-packages/sklearn/compose/_column_transformer.py:437: FutureWarning: Given feature/column names or counts do not match the ones for the data given during fit. This will fail from v0.24.\n",
      "  warnings.warn(\"Given feature/column names or counts do not match \"\n",
      "^C\n",
      "\u001b[34m  Stopping...\u001b[0m\n"
     ]
    }
   ],
   "source": [
    "!streamlit run MICP.py"
   ]
  },
  {
   "cell_type": "code",
   "execution_count": null,
   "id": "4807c2c3",
   "metadata": {},
   "outputs": [],
   "source": []
  },
  {
   "cell_type": "markdown",
   "id": "16887c94",
   "metadata": {},
   "source": [
    "### Interview questions of Linear regression in machine learning\n",
    "Here are some common interview questions on linear regression in machine learning:\n",
    "- What is linear regression and how does it work?\n",
    "- What is the difference between simple linear regression and multiple linear regression?\n",
    "- How do you evaluate the performance of a linear regression model?\n",
    "- What is the ordinary least squares (OLS) method and how is it used in linear regression?\n",
    "- How can you prevent overfitting in linear regression?\n",
    "- Can you give an example of how linear regression can be used in a real-world problem?\n",
    "- How do you decide which variables to include in a linear regression model?\n",
    "- How do you handle collinearity in a linear regression model?\n",
    "- What are some common assumptions made in linear regression?\n",
    "- Can you discuss the limitations of linear regression?\n",
    "- What is gradient descent and how does it work?\n",
    "- How is gradient descent used in linear regression?\n",
    "- What is the purpose of the learning rate in gradient descent?\n",
    "- Can you explain the difference between batch gradient descent and stochastic gradient descent?\n",
    "- How do you choose the initial values of the model parameters in gradient descent?\n",
    "- Can you discuss the convergence of gradient descent and how to monitor it?\n",
    "- How do you implement gradient descent in practice?\n",
    "- Can you discuss the limitations and potential challenges of using gradient descent in linear regression?\n",
    "- Can you give an example of how gradient descent can be used to solve a linear regression problem?\n",
    "- Can you explain the mathematical concept of a straight line and how it is used in linear regression?\n",
    "- How do you represent a linear regression model mathematically?\n",
    "- Can you explain the mathematical concept of an objective function and how it is used in linear regression?\n",
    "- How do you optimize the objective function in linear regression using an iterative optimization algorithm like gradient descent?\n",
    "- Can you explain the mathematical concept of a gradient and how it is used to update the model parameters in gradient descent?\n",
    "- How do you represent the residuals (errors) of a linear regression model mathematically?\n",
    "- Can you discuss the mathematical concept of an orthogonal projection and how it is used in linear regression?\n",
    "- Can you explain the concepts of overfitting and underfitting in linear regression?\n",
    "- How do you detect overfitting or underfitting in a linear regression model?\n",
    "- What are some common causes of overfitting or underfitting in linear regression?\n",
    "- How do you prevent overfitting or underfitting in linear regression?"
   ]
  },
  {
   "cell_type": "code",
   "execution_count": null,
   "id": "458c780f",
   "metadata": {},
   "outputs": [],
   "source": []
  },
  {
   "cell_type": "markdown",
   "id": "acbc6ca4",
   "metadata": {},
   "source": [
    "### Applications of Linear Regression:\n",
    "\n",
    "Linear regression is a widely used machine learning technique and has many applications in various industries. Here are a few examples of industry use cases of linear regression:\n",
    "\n",
    "- **Financial analysis:** Linear regression can be used to model and predict stock prices, analyze the relationship between different financial indicators, and identify trends in financial data.\n",
    "- **Healthcare:** Linear regression can be used to predict patient outcomes based on various factors such as age, medical history, and treatment options. It can also be used to analyze the effectiveness of different medical treatments.\n",
    "- **Marketing:** Linear regression can be used to predict customer behavior and identify the factors that influence customer decisions. It can also be used to optimize marketing campaigns and predict the success of a product launch.\n",
    "- **Sales forecasting:** Linear regression can be used to predict sales figures based on various factors such as advertising spend, economic indicators, and competition.\n",
    "- **Energy consumption:** Linear regression can be used to predict energy consumption patterns and identify ways to reduce energy use.\n",
    "- **Agriculture:** Linear regression can be used to predict crop yields and identify the factors that influence crop production.\n",
    "- **Sports analytics:** Linear regression can be used to predict the performance of sports teams or individual players based on various factors such as player statistics, team dynamics, and external factors.\n",
    "\n"
   ]
  },
  {
   "cell_type": "code",
   "execution_count": null,
   "id": "0d6c2108",
   "metadata": {},
   "outputs": [],
   "source": []
  }
 ],
 "metadata": {
  "kernelspec": {
   "display_name": "Python 3 (ipykernel)",
   "language": "python",
   "name": "python3"
  },
  "language_info": {
   "codemirror_mode": {
    "name": "ipython",
    "version": 3
   },
   "file_extension": ".py",
   "mimetype": "text/x-python",
   "name": "python",
   "nbconvert_exporter": "python",
   "pygments_lexer": "ipython3",
   "version": "3.8.10"
  }
 },
 "nbformat": 4,
 "nbformat_minor": 5
}
