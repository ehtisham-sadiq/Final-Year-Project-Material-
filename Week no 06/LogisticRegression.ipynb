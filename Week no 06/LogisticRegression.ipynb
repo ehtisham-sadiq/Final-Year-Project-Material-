{
 "cells": [
  {
   "cell_type": "markdown",
   "id": "ccb2060f",
   "metadata": {},
   "source": [
    "# In Depth Analysis of Logistic Regression\n",
    "- **Logistic Regression**\n",
    "    - Binary or Binomial Classification\n",
    "    - Multi-class(Multinomial) Classification\n",
    "    - Overview of LR\n",
    "    - Model\n",
    "    - Logistic (Sigmoid) Function\n",
    "    - Example\n",
    "- **Decision Boundaries**\n",
    "    - Decision Boundary and Example\n",
    "    - Hyper-Plane\n",
    "    - Non-linear Decision Boundary and Example\n",
    "- **Loss/Cost Function**\n",
    "    - Model Training(Learning of Parameters)\n",
    "- **Logistic Regression Gradient Descent**\n",
    "    - Gradient Descent:\n",
    "    - Gradient Descent Computation\n",
    "- **Model Evaluation Techniques**\n",
    "   - Classification Accuracy (0/1 Loss)\n",
    "   - TP, TN, FP and FN\n",
    "   - Confusion Matrix\n",
    "   - Sensitivity, Specificity, Precision Trade-offs, ROC, AUC\n",
    "   - F1-Score and Matthew’s Correlation Coefficient\n",
    "   - Multi-class Classification, Evaluation, Micro, Macro Averaging\n",
    "- **Multi-class Logistic Regression**\n",
    "    - Build a one-vs-all `(OvA)` one-vs-rest `(OvR)` classifier\n",
    "    - Build an all-vs-all classifier (commonly known as one-vs-one classifier)\n",
    "    - Graphical Representation of the Model\n",
    "- **Logistic Regression Implementation in Python**\n",
    "- **Logistic Regression Implementation using sklearn**\n",
    "\n",
    " [Titanic: Logistic Regression with Python](#Titanic:-Logistic-Regression-with-Python)\n",
    " \n",
    "- **Interview Questions**"
   ]
  },
  {
   "cell_type": "markdown",
   "id": "0f640ffd",
   "metadata": {},
   "source": [
    "<h2 align=\"center\">Logisti Regression</h2>\n",
    "\n",
    "**An event occur**\n",
    "<img src=\"images/p40.png\" height=500px width=500px>\n",
    "\n",
    "**Explanation:**\n",
    "- In terms of logistic regression, we could frame the situation as a binary classification problem where the dependent variable is whether or not the person passed the exam `(pass/fail)` and the independent variables are the reasons for failure (e.g., \"did not study,\" \"distracting child\", etc). We could use logistic regression to model the relationship between the dependent variable (pass/fail) and the independent variables (reasons for failure).\n",
    "- Once the model is trained, we can use it to predict the `likelihood` of a student passing or failing the exam given their reasons for failure. For example, if a student did not study and had a distracting child, we could use the logistic regression model to predict the probability that they will pass or fail the exam.\n",
    "\n",
    "<h3 align=\"center\">Logistic Regression Overview</h3>\n",
    "\n",
    "- Discover the relation between `features/cues/events` and some  `outcome`.\n",
    "- Logistic regression is the baseline supervised machine  learning algorithm for classification it is a simple and straightforward method that can be used to predict a binary outcome. It is also easy to interpret, as the model provides probabilities of an instance belonging to each class, which can be converted into class predictions by setting a threshold (e.g., 0.5).\n",
    "- It has a very close relationship with neural networks\n",
    "    - A neural network can be viewed as a series of logistic regression  classifiers stacked on top of each other.\n",
    "    \n",
    "- **KNN**: Instance based Classifier.\n",
    "- **Naive Bayes**: Generative Classifier\n",
    "    - Indirectly compute $P(y|x)$ as $P(y|x) \\; P(y)$ from the data using Bayes Rule\n",
    "- **Logistic Regression:** Discriminative Classifier\n",
    "    - Estimate $P(y|x)$ directly from the data.\n",
    "    \n",
    "- **Logistic Regression** is an algorihtm to carry out classification.\n",
    "    - Name is misleading; the word `regression` is due to the fact that the method attempts to fit a linear model in the feature space to fit a linear model in the feature space.\n",
    "    - Instead of predicting class, we compute the probability of instance being that class.\n",
    "- Mathematically, model is characterized by variable $\\mathbf{\\theta}\\; or \\; \\mathbf{w}$\n",
    "$$h_\\theta(\\mathbf{x}) = P(y|\\mathbf{x}) \\;\\;\\;\\;Posterior \\;Probability $$\n",
    "> A Simple form of a neural network.\n",
    "\n",
    "<h4 align=\"center\">Logistic Regression: Outcome</h4>\n",
    "\n",
    "The outcome (i.e., the probability that an instance belongs to the positive class) is modeled as a weighted sum of the input features. This means that the value of each feature is multiplied by a weight, and the resulting values are summed together to produce a prediction.\n",
    "\n",
    "**For example**, suppose we have a logistic regression model with three input features, x1, x2, and x3, and corresponding weights w1, w2, and w3. The predicted probability of the positive class for an instance with input features x1, x2, and x3 would be calculated as:\n",
    "\n",
    "$$P(y=1|x) = \\sigma(w_1x_1 + w_2x_2 + w_3x_3 + b)$$\n",
    "\n",
    "where b is the bias term.\n",
    "\n",
    "This weighted sum of the input features is used to make a prediction based on the values of the input features. The weights learned by the model during training reflect the importance or influence of each feature on the prediction. For example, a large positive weight for a feature indicates that the feature is important for predicting the positive class, while a large negative weight indicates that the feature is important for predicting the negative class.\n",
    "\n",
    "<h4 align=\"center\">Classification</h4>\n",
    "\n",
    "Classify an observation into:\n",
    "- **One of two classes (binary or binomial)**\n",
    "    - Sentiment: positive / negative?\n",
    "    - Email: Spam / Not Spam?\n",
    "    - Online Transactions: Fraudulent (Yes / No)?\n",
    "    - Tumor: Malignant / Benign ?\n",
    "    - e.g 0: Negative Class , 1: Positive Class\n",
    "$$y \\;\\; \\epsilon \\;\\ {0,1} $$\n",
    "\n",
    "- One of many classes(Multinomial)\n",
    "    - Sentiment: Positive / negative / neutral?\n",
    "    - Emotion: Happy, Sad, Surprised, Angry,…?\n",
    "    - Part-of-Speech tag: Noun / verb / adjective / adverb /…?\n",
    "    - Recognize a word: One of |V| tags\n",
    "    - e.g.\t0: Happy, 1: Sad, 2, Angry,…\n",
    "    $$ y \\;\\; \\epsilon \\;\\;\t𝟎, 𝟏, 𝟐, 𝟑, …$$\n",
    "\n"
   ]
  },
  {
   "cell_type": "markdown",
   "id": "8c00b6fb",
   "metadata": {},
   "source": [
    "<h3 align=\"center\">Can we use regression for classification?</h3>\n",
    "Yes, it is possible to use regression algorithms for classification tasks. In the given example, we could use a regression algorithm to predict the probability that a tumor is malignant based on its size.\n",
    "\n",
    "To do this, we would first need to convert the binary outcome (malignant or benign) into a probability. For example, you could assign a probability of 1 to tumors that are malignant and a probability of 0 to tumors that are benign. For the below example, our model is $$h_\\theta(\\mathbf{x}) = \\mathbf{\\theta}^T\\mathbf{x}$$\n",
    "<img src=\"images/p42.png\">\n",
    "\n",
    "\n",
    "Next, we would use a regression algorithm to predict the probability that a given tumor is malignant based on its size. The output of the regression model would be a continuous value between 0 and 1, representing the predicted probability that the tumor is malignant.\n",
    "\n",
    "To classify the tumor as either malignant or benign, we would then need to define a threshold probability. Tumors with a probability greater than the threshold would be classified as malignant, and tumors with a probability less than the threshold would be classified as benign.\n",
    "\n",
    "For example, if we set the threshold probability to 0.5, tumors with a predicted probability greater than 0.5 would be classified as malignant, and tumors with a predicted probability less than 0.5 would be classified as benign.\n",
    "\n",
    "Threshold classifier output $h_\\theta(x)$ at 0.5:\n",
    "\n",
    "\n",
    "$$if \\; \\theta(x) \\geq 0.5 ,\\;predict \\;`y=1`$$\n",
    "\n",
    "$$if \\; h_\\theta(x) \\lt 0.5 , \\;predict \\;`y=1`$$\n",
    "\n",
    "\n",
    "<img src=\"images/p43.png\">"
   ]
  },
  {
   "cell_type": "markdown",
   "id": "760b973d",
   "metadata": {},
   "source": [
    "<h3 align=\"center\"> Logistic Regression : Model </h3>\n",
    "    \n",
    "- Logistic regression learns a vector of $\\mathbf{weights}, \\;\\mathbf{\\theta_i}$, from a training set.\n",
    "\n",
    "- Each weight $\\mathbf\\theta_i \\epsilon R$, is associated with one of the input features $\\mathbf{x_i}$.\n",
    "\n",
    "- The weight $\\mathbf\\theta_i$ represents how important $\\mathbf{x_i}$ is to the classification decision\n",
    "    - can be positive (meaning the feature is associated with the class)\n",
    "    - or negative (meaning the feature is not associated with the class)\n",
    "- E.g. `positive sentiment` versus `negative sentiment`\n",
    "    - The features represent counts of words in a document\n",
    "    - P(y = 1|x) is the probability that the document has positive sentiment\n",
    "    - P(y = 0|x) is the probability that the document has negative sentiment.\n",
    "    - `awesome` has a high positive weight\n",
    "    - `abysmal` has a very negative weight\n",
    "    $$h_\\theta (x) = \\theta^T\\mathbf{x}$$\n",
    "    \n",
    "#### For Example:\n",
    "- Consider a binary classification problem.\n",
    "- We have a multi-dimensional feature space (d features).\n",
    "- Features can be categorical (e.g., gender, ethnicity) or continuous (e.g., height, temperature).\n",
    "\n",
    "**Logistic Regression Model:**\n",
    "<img src=\"images/p46.png\">\n",
    "\n",
    "- In logistic regression model, the `weights` are the coefficients that are learned during the training process and are used to make predictions about the probability of a given input belonging to a particular class. These weights are used to define the l`ogistic`/`sigmoid` function, which is used to make predictions about the probability of an input belonging to a particular class. The logistic function is defined as:\n",
    "\n",
    "$$ \\sigma(z) = \\frac{1}{(1 + e^{-z})}$$\n",
    "\n",
    "where  z is $(\\theta_0x_0 + \\theta_1x_1 + ... + \\theta_nx_n)$, p is the predicted probability that the input belongs to a particular class, x1, x2, ..., xn are the input features, and $\\theta_0$, $\\theta_1$, ..., $\\theta_n$ are the weights.\n",
    "\n",
    "The weights are learned by minimizing the error between the predicted probabilities and the true class labels during the training process. This is typically done using an optimization algorithm, such as gradient descent, which adjusts the weights in small increments until the error between the predicted probabilities and the true class labels is minimized.\n",
    "\n",
    "Once the weights have been learned, they can be used to make predictions about new input data by applying the learned weights to the logistic function."
   ]
  },
  {
   "cell_type": "markdown",
   "id": "aa15a936",
   "metadata": {},
   "source": [
    "<h3 align=\"center\"> `Squishing` results to be between 0 and 1 or (Sigmoid Function) </h3>\n",
    "\n",
    "\n",
    "- $h_\\theta(\\mathbf{x})$ is not forced to be a legal probability, that is, to lie between 0 and 1.\n",
    "    - In fact, since weights are real-valued, the output might even be negative\n",
    "    - $h_\\theta (x)$ ranges from −∞ to ∞.\n",
    "    \n",
    "- To create a probability, we’ll pass $h_\\theta(x)$ through the sigmoid function, σ(z).\n",
    "    - The sigmoid function (named because it looks like an s) is also called the **logistic function**. It maps input values to output values in the range of 0 to 1. It is commonly used in the field of neural networks and deep learning, as an activation function.\n",
    "    \n",
    "$$ \\sigma(z) = \\frac{1}{(1 + e^{-z})}$$\n",
    "$$ \\sigma(h_\\theta(x)) = \\frac{1}{(1 + e^{-h_\\theta(x)})}$$\n",
    "where\n",
    "$$z = \\theta^Tx+b$$\n",
    "\n",
    "<img src=\"images/p47.png\">"
   ]
  },
  {
   "cell_type": "markdown",
   "id": "e4afba2d",
   "metadata": {},
   "source": [
    "<h3 align=\"center\">The Sigmoid </h3>"
   ]
  },
  {
   "cell_type": "code",
   "execution_count": 25,
   "id": "7aaf739f",
   "metadata": {},
   "outputs": [
    {
     "data": {
      "text/html": [
       "<div>\n",
       "<style scoped>\n",
       "    .dataframe tbody tr th:only-of-type {\n",
       "        vertical-align: middle;\n",
       "    }\n",
       "\n",
       "    .dataframe tbody tr th {\n",
       "        vertical-align: top;\n",
       "    }\n",
       "\n",
       "    .dataframe thead th {\n",
       "        text-align: right;\n",
       "    }\n",
       "</style>\n",
       "<table border=\"1\" class=\"dataframe\">\n",
       "  <thead>\n",
       "    <tr style=\"text-align: right;\">\n",
       "      <th></th>\n",
       "      <th>x</th>\n",
       "      <th>Sigmoid</th>\n",
       "    </tr>\n",
       "  </thead>\n",
       "  <tbody>\n",
       "    <tr>\n",
       "      <th>0</th>\n",
       "      <td>-10</td>\n",
       "      <td>0.000045</td>\n",
       "    </tr>\n",
       "    <tr>\n",
       "      <th>1</th>\n",
       "      <td>-9</td>\n",
       "      <td>0.000123</td>\n",
       "    </tr>\n",
       "    <tr>\n",
       "      <th>2</th>\n",
       "      <td>-8</td>\n",
       "      <td>0.000335</td>\n",
       "    </tr>\n",
       "    <tr>\n",
       "      <th>3</th>\n",
       "      <td>-7</td>\n",
       "      <td>0.000911</td>\n",
       "    </tr>\n",
       "    <tr>\n",
       "      <th>4</th>\n",
       "      <td>-6</td>\n",
       "      <td>0.002473</td>\n",
       "    </tr>\n",
       "    <tr>\n",
       "      <th>5</th>\n",
       "      <td>-5</td>\n",
       "      <td>0.006693</td>\n",
       "    </tr>\n",
       "    <tr>\n",
       "      <th>6</th>\n",
       "      <td>-4</td>\n",
       "      <td>0.017986</td>\n",
       "    </tr>\n",
       "    <tr>\n",
       "      <th>7</th>\n",
       "      <td>-3</td>\n",
       "      <td>0.047426</td>\n",
       "    </tr>\n",
       "    <tr>\n",
       "      <th>8</th>\n",
       "      <td>-2</td>\n",
       "      <td>0.119203</td>\n",
       "    </tr>\n",
       "    <tr>\n",
       "      <th>9</th>\n",
       "      <td>-1</td>\n",
       "      <td>0.268941</td>\n",
       "    </tr>\n",
       "    <tr>\n",
       "      <th>10</th>\n",
       "      <td>0</td>\n",
       "      <td>0.500000</td>\n",
       "    </tr>\n",
       "    <tr>\n",
       "      <th>11</th>\n",
       "      <td>1</td>\n",
       "      <td>0.731059</td>\n",
       "    </tr>\n",
       "    <tr>\n",
       "      <th>12</th>\n",
       "      <td>2</td>\n",
       "      <td>0.880797</td>\n",
       "    </tr>\n",
       "    <tr>\n",
       "      <th>13</th>\n",
       "      <td>3</td>\n",
       "      <td>0.952574</td>\n",
       "    </tr>\n",
       "    <tr>\n",
       "      <th>14</th>\n",
       "      <td>4</td>\n",
       "      <td>0.982014</td>\n",
       "    </tr>\n",
       "    <tr>\n",
       "      <th>15</th>\n",
       "      <td>5</td>\n",
       "      <td>0.993307</td>\n",
       "    </tr>\n",
       "    <tr>\n",
       "      <th>16</th>\n",
       "      <td>6</td>\n",
       "      <td>0.997527</td>\n",
       "    </tr>\n",
       "    <tr>\n",
       "      <th>17</th>\n",
       "      <td>7</td>\n",
       "      <td>0.999089</td>\n",
       "    </tr>\n",
       "    <tr>\n",
       "      <th>18</th>\n",
       "      <td>8</td>\n",
       "      <td>0.999665</td>\n",
       "    </tr>\n",
       "    <tr>\n",
       "      <th>19</th>\n",
       "      <td>9</td>\n",
       "      <td>0.999877</td>\n",
       "    </tr>\n",
       "    <tr>\n",
       "      <th>20</th>\n",
       "      <td>10</td>\n",
       "      <td>0.999955</td>\n",
       "    </tr>\n",
       "  </tbody>\n",
       "</table>\n",
       "</div>"
      ],
      "text/plain": [
       "     x   Sigmoid\n",
       "0  -10  0.000045\n",
       "1   -9  0.000123\n",
       "2   -8  0.000335\n",
       "3   -7  0.000911\n",
       "4   -6  0.002473\n",
       "5   -5  0.006693\n",
       "6   -4  0.017986\n",
       "7   -3  0.047426\n",
       "8   -2  0.119203\n",
       "9   -1  0.268941\n",
       "10   0  0.500000\n",
       "11   1  0.731059\n",
       "12   2  0.880797\n",
       "13   3  0.952574\n",
       "14   4  0.982014\n",
       "15   5  0.993307\n",
       "16   6  0.997527\n",
       "17   7  0.999089\n",
       "18   8  0.999665\n",
       "19   9  0.999877\n",
       "20  10  0.999955"
      ]
     },
     "execution_count": 25,
     "metadata": {},
     "output_type": "execute_result"
    }
   ],
   "source": [
    "# plot sigmoid curve using a example\n",
    "import numpy as np\n",
    "import pandas as pd\n",
    "import seaborn as sns\n",
    "import matplotlib.pyplot as plt\n",
    "x = np.arange(-10,11)\n",
    "sigmoid = 1/(1+np.exp(-x))\n",
    "df = pd.DataFrame(data = {\"x\":x,\n",
    "                  \"Sigmoid\":sigmoid})\n",
    "df"
   ]
  },
  {
   "cell_type": "code",
   "execution_count": 33,
   "id": "c633a721",
   "metadata": {},
   "outputs": [
    {
     "data": {
      "image/png": "[encoded data removed]",
      "text/plain": [
       "<Figure size 432x288 with 1 Axes>"
      ]
     },
     "metadata": {
      "needs_background": "light"
     },
     "output_type": "display_data"
    }
   ],
   "source": [
    "plt.grid(True)\n",
    "plt.plot(x,sigmoid, marker='o');\n",
    "plt.xlabel(\"x\")\n",
    "plt.ylabel(\"Sigmoid\");"
   ]
  },
  {
   "cell_type": "markdown",
   "id": "54e4fa2c",
   "metadata": {},
   "source": [
    "# <h3 align=\"center\">Advantages of a Sigmoid</h3>\n",
    "- **Maps real-valued numbers (R) into the range `[0,1]`**:\n",
    "    - The output of the model is interpretable as a probability. It maps input values to output values in the range of 0 to 1, which makes it easy to interpret the output of the model as a probability that an input belongs to a particular class.(e.g., a yes/no response, a 0/1 label).\n",
    "    \n",
    "- Nearly linear around 0 but has a sharp slope toward the ends, it tends to squash outlier values toward 0 or 1. This property allows the model to learn complex relationships between the input and output.\n",
    "- **It is differentiable**: \n",
    "    - The model is less prone to vanishing gradients. The function has a relatively smooth curve, which means that the derivative of the function is relatively stable. This can make it easier for the model to learn and improve during training, and can help to prevent vanishing gradients.\n",
    "- To make it a probability, we just need to make sure that the two cases, p(y = 1) and p(y = 0), sum to 1:\n",
    "    $$P(y=1) = \\sigma(\\theta^Tx)$$\n",
    "    $$ = \\frac{1}{(1 + e^{-\\theta^Tx})}$$\n",
    "    &emsp;\n",
    "    &emsp;\n",
    "    &emsp;\n",
    "    \n",
    "    $$P(y=0) =1 -  \\sigma(\\theta^Tx)$$\n",
    "    $$ = 1 -  \\frac{1}{(1 + e^{-\\theta^Tx})}$$\n",
    "    $$ = \\frac{e^{-\\theta^Tx}}{(1 + e^{-\\theta^Tx})}$$\n",
    "    \n",
    "    \n",
    "- **How do we decide?**\n",
    "    - For a test instance x, we say **yes** if the probability P(y = 1|x) is more than .5, and no otherwise.\n",
    "    - We call .5 the **decision boundary**. We can also use values other than **0.5** as threshold. Assign class by applying threshold as\n",
    "<img src=\"images/p48.png\">\n",
    "\n",
    "\n",
    "**How about other thresholds?**\n",
    "- If we change the value of the threshold, it will affect the classification of the inputs. For example, if we lower the threshold, the model will be more likely to classify inputs as belonging to the class with the higher probability. Conversely, if we raise the threshold, the model will be less likely to classify inputs as belonging to that class.\n",
    "\n",
    "- Changing the threshold can also affect the overall performance of the model. For example, if the threshold is set too low, the model may classify too many inputs as belonging to the positive class, leading to a high false positive rate. On the other hand, if the threshold is set too high, the model may classify too few inputs as belonging to the positive class, leading to a high false negative rate.\n",
    "\n",
    "- In general, the optimal value of the threshold will depend on the specific problem we are trying to solve and the trade-off we are willing to make between false positives and false negatives. It is generally a good idea to experiment with different threshold values and evaluate the performance of the model in order to find the best value for our specific problem."
   ]
  },
  {
   "cell_type": "markdown",
   "id": "136b7aa5",
   "metadata": {},
   "source": [
    "### Example Sentiment Classification\n",
    "- Suppose we are doing binary sentiment classification on movie review text, and we would like to know whether to assign the sentiment class `+` or `−` to a review document `doc`. We’ll represent each input observation by the 6 features `x1`...`x6` of the input shown in the following table.\n",
    "<img src=\"images/p49.png\" align=\"center\">\n",
    "\n",
    "<img src=\"images/p50.png\" align=\"center\">\n",
    "\n",
    "- We’ve already learned a real-valued weight for each of these features, and that the 6 weights corresponding to the 6 features are `[2.5,−5.0,−1.2,0.5,2.0,0.7]`, while `b = 0.1`. The weight `w1`, for example indicates how important a feature the number of positive lexicon words (`great`, `nice`, `enjoyable`, etc.) is to a positive sentiment decision, while `w2` tells us the importance of negative lexicon words. Note that `w1 = 2.5` is positive, while `w2 = −5.0`, meaning that negative words are negatively associated with a positive sentiment decision, and are about twice as important as positive words.\n",
    "<img src=\"images/p51.png\" align =\"center\">\n",
    "\n",
    "\n",
    "This example is taken from **SLP3 by Jurafsky & Martin**."
   ]
  },
  {
   "cell_type": "code",
   "execution_count": null,
   "id": "7813140a",
   "metadata": {},
   "outputs": [],
   "source": []
  },
  {
   "cell_type": "markdown",
   "id": "d89e626d",
   "metadata": {},
   "source": [
    "<h2 align=\"center\">Logistic Regression : Decision Boundary</h2>\n",
    "\n",
    "- The decision boundary in logistic regression is a line or curve that separates the input space into two regions, one for each class. The line or curve is determined by the weights learned during the training process.\n",
    "- To train a logistic regression model, we need a labeled dataset that includes the inputs and the corresponding class labels. During training, the model learns the weights that define the decision boundary between the different classes.\n",
    "- Once the model has been trained, we can use it to make predictions about the class of a given input by inputting the features and getting the predicted probability as the output. If the predicted probability is above a certain threshold, the input is classified as belonging to the class with the higher probability. If the predicted probability is below the threshold, the input is classified as belonging to the other class.\n",
    "- The threshold can be adjusted to tune the performance of the model. Overall, the decision boundary is an important concept that helps to understand how the model makes predictions.\n",
    "<img src=\"images/p52.png\" align = \"center\">\n",
    "\n",
    "\n",
    "#### Decision Boundary:\n",
    "\n",
    "$$P(y = 1|x) = h_\\theta(x) = \\sigma(\\mathbf{\\theta^Tx}) = \\frac{1}{(1 + e^{-\\theta^Tx})}$$\n",
    "\n",
    "<img src=\"images/p53.png\" align=\"left\">\n",
    "<img src=\"images/p54.png\" align=\"right\">\n",
    "\n",
    "&emsp;&emsp;&emsp;&emsp;&emsp;&emsp;&emsp;\n",
    "&emsp;&emsp;&emsp;&emsp;&emsp;&emsp;&emsp;\n",
    "&emsp;&emsp;&emsp;&emsp;&emsp;&emsp;&emsp;\n",
    "&emsp;&emsp;&emsp;&emsp;&emsp;&emsp;&emsp;\n",
    "&emsp;&emsp;&emsp;&emsp;&emsp;&emsp;&emsp;\n",
    "\n",
    "- All $\\mathbf{x}$ for which $\\mathbf{\\theta^Tx} > 0$ classified as Class 1.\n",
    "- What does $\\mathbf{\\theta^Tx} > 0$ represent?\n",
    "    - It represents a half-space in d-dimensional space.\n",
    "    - $\\mathbf{\\theta^Tx} = 0$ represents a hyperplane in d-dimensional space."
   ]
  },
  {
   "cell_type": "markdown",
   "id": "de6134e7",
   "metadata": {},
   "source": [
    "**Hyper-Plane:**\n",
    "\n",
    "- In a d-dimensional space, a hyperplane is a subspace of one dimension less than the space itself. In other words, a hyperplane is a flat surface that divides the space into two regions. For example, in a two-dimensional space (e.g., a plane), a hyperplane is a line. In a three-dimensional space (e.g., a cube), a hyperplane is a flat surface (e.g., a plane). In a four-dimensional space, a hyperplane is a three-dimensional subspace, and so on. Hyperplanes are often used as decision boundaries, to separate the input space into different regions corresponding to different classes. For example, in a classification problem with two classes, a hyperplane can be used to divide the input space into two regions, one for each class.\n",
    "-  $\\mathbf{\\theta^Tx} = 0$ represents a hyperplane in d-dimensional space.\n",
    "- **d=1**:\n",
    "$$ \\mathbf{\\theta^Tx} = \\theta_0 + \\theta_1x^1= 0$$\n",
    "<img src=\"images/p55.png\">\n",
    "\n",
    "- **d=2**:\n",
    "$$ \\mathbf{\\theta^Tx} = \\theta_0 + \\theta_1x^1 + \\theta_2x^2= 0$$\n",
    "<img src=\"images/p56.png\">\n",
    "\n",
    "> $\\theta_0 \\; and \\; \\theta_2$ defines a normal to the hyper-plane.\n",
    "\n",
    "- Hyper-plane $\\mathbf{\\theta^Tx}=0$ divides the space into two half-spaces\n",
    "    - Half-space $\\mathbf{\\theta^Tx}>0$\n",
    "    - Half-space $\\mathbf{\\theta^Tx}<0$"
   ]
  },
  {
   "cell_type": "markdown",
   "id": "ea516221",
   "metadata": {},
   "source": [
    "### Example 1\n",
    "**Decision Boundary**\n",
    "- Suppose we have $$h_\\theta(x) = g(\\theta_0+\\theta_1x_1+\\theta_2x_2)$$ and $$\\theta = \\begin{bmatrix} -3 \\\\ 1 \\\\ 1 \\end{bmatrix}$$, and, we want to predict $y\\;=\\;1$, then our equation is $$h_\\theta(x) = -3 + x_1 + x_2 \\ \\geq 0$$, by rearranging the equation, we will get $$x_1 + x_2 \\geq 3$$, now in this case, the decision boundary represents: $$x_1+x_2 = 3$$\n",
    "\n",
    "<img src=\"images/p57.png\" align=\"center\" height=400px width=400px>"
   ]
  },
  {
   "cell_type": "markdown",
   "id": "84d058c7",
   "metadata": {},
   "source": [
    "### Non-linear Decision Boundary:\n",
    "- **Can we have non-linear decision boundaries in logistic regression?**\n",
    "\n",
    "**Answer:**\n",
    "- We fisrt understand the origin of the linear decision boundary. As we know, $\\mathbf{\\theta^Tx}=0$ represents a linear combination of the features. We connect it with the concept of the polynomial regression. We replace linear with polynomial, If we have **d=2**, then\n",
    "\n",
    "$$Linear \\; Boundary: \\;\\; h_\\theta(x) = \\sigma(\\theta_0+\\theta_1x^1 + \\theta_2x^2)$$\n",
    "$$Non-Linear \\; Boundary: \\;\\; h_\\theta(x) = \\sigma(\\theta_0+\\theta_1x^1 + \\theta_2x^2+\\theta_3(x^1)^2)+\\theta_4(x^2)^2)$$\n",
    "\n",
    ">**Note:** Another way to create a non-linear decision boundary is to use kernel methods. Kernel methods transform the input features into a higher-dimensional space, where it may be easier to learn a non-linear relationship between the input and the output."
   ]
  },
  {
   "cell_type": "markdown",
   "id": "9ce73696",
   "metadata": {},
   "source": [
    "### Example\n",
    "**Non-linear decision boundaries**\n",
    "- Suppose we have $$h_\\theta(x) = \\sigma(\\theta_0+\\theta_1x^1 + \\theta_2x^2+\\theta_3(x^1)^2)+\\theta_4(x^2)^2)$$ and $$\\theta = \\begin{bmatrix} -1\\\\ 0 \\\\ 0 \\\\ 1 \\\\ 1 \\end{bmatrix}$$, and, we want to predict $y\\;=\\;1$, then our equation is $$h_\\theta(x) = -1 + x_1^2 + x_2^2 \\ \\geq 0$$, by rearranging the equation, we will get $$x_1^2 + x_2^2 \\geq 1$$, now in this case, the decision boundary represents: $$x_1^2 + x_2^2 = 1$$\n",
    "<img src=\"images/p58.png\" align=\"center\">"
   ]
  },
  {
   "cell_type": "markdown",
   "id": "6716b5ad",
   "metadata": {},
   "source": [
    "### Different Decision Boundaries\n",
    "<img src=\"images/p59.gif\" height=400px width=400px align=\"left\">\n",
    "<img src=\"images/p58.gif\" height=400px width=400px align=\"right\">\n",
    "<img src=\"images/p57.gif\" height=400px width=400px align=\"left\">\n"
   ]
  },
  {
   "cell_type": "markdown",
   "id": "91b0884c",
   "metadata": {},
   "source": [
    "> Here, background `red` means our prediction is very close to `0` which means it is confidently classified as red. And conversely, background `blue` means our prediction is very close to `1` which means it is confidently classified as blue. For our predictions in the purpleish middle area, we are not confident on our predictions. Our predictions are close to 0.5, as expected.\n",
    "<img src=\"images/p60.png\" height=400px width=400px align=\"right\">\n",
    "<img src=\"images/p61.png\" height=400px width=400px align=\"left\">\n",
    "<img src=\"images/p62.png\" height=400px width=400px align=\"right\">\n",
    "<img src=\"images/p63.png\" height=400px width=400px align=\"left\">"
   ]
  },
  {
   "cell_type": "markdown",
   "id": "d7ba9f4b",
   "metadata": {},
   "source": [
    "<h3 align=\"center\">Logistic Regression: Cost Function</h3>\n",
    "\n",
    "**Model Training(Learning of Parameters):**\n",
    "- We assume we have training data $D$ given by \n",
    "$$D = \\{(\\mathbf{x_1},y_1), (\\mathbf{x_2},y_2),.....(\\mathbf{x_n},y_n) \\} \\subseteq \\mathbf{X}^d x Y$$\n",
    "\n",
    "$$y = \\{ 0,1 \\}$$\n",
    "\n",
    "**Logistic Regression Model:**\n",
    "\n",
    "$$ h_\\theta (\\mathbf{x}) = \\sigma (\\mathbf{\\theta^T} \\mathbf{x}) = \\frac{1}{(1 + e^{-\\theta^Tx})}$$\n",
    "\n",
    "Where\n",
    "$$\\mathbf{\\theta} = [\\theta_0, \\theta_1,....\\theta_d] \\;\\; \\mathbf{\\theta} \\; represents \\; d+1 \\; parameters \\; of \\; the \\; model.$$\n",
    "\n",
    "**Objective:** \n",
    "- Given the training data, that is `n` training samples, we want to find the parameters of the model.\n",
    "- We first formulate the loss (cost, objective) function that we want to optimize.\n",
    "- We will employ gradient descent to solve the optimization problem.\n",
    "\n",
    "**How to choose parameters ?**\n",
    "\n",
    "Our goal for the cost function is :\n",
    "- Differentiable\n",
    "- Convex \n",
    " $$h_\\theta (\\mathbf{x}) = \\frac{1}{(1 + e^{-\\theta^Tx^{(i)}})} \\; varies \\; between \\; 0 \\; and \\; 1$$\n",
    " \n",
    "- Punish incorrect answers with high cost\n",
    "    - y=1, $h_\\theta (x)$ → 0\n",
    "    - y=0, $h_\\theta (x)$ → 1\n",
    "- Reward correct answers with a low cost\n",
    "    - y=1, $h_\\theta (x)$ → 1\n",
    "    - y=0, $h_\\theta (x)$ → 0\n",
    "    \n",
    "### Loss/Cost Function:\n",
    "**Candidate 1: Squared-error**, the one we used in regression.\n",
    "$$L(\\mathbf{\\theta}) = \\frac{1}{2} \\sum_{i=1}^n (h_\\mathbf{\\theta} (\\mathbf{x_i}) - y_i)^2 = \\frac{1}{2} \\sum_{i=1}^n (\\sigma(\\mathbf{\\theta^T x_i}) - y_i)^2$$\n",
    "\n",
    "$$L(\\mathbf{\\theta}) = \\frac{1}{2} \\sum_{i=1}^n ( \\frac{1}{(1 + e^{-\\theta^Tx^{(i)}})}- y_i)^2$$\n",
    "\n",
    "- We wish to have a loss function that is differentiable and convex.\n",
    "- The squared-error is not a convex function due to sigmoid operation.\n",
    "- Due to non-convexity, we cannot numerically solve to find the global minima.\n",
    "- Furthermore, the hypothesis function is estimating probability and we do not use difference operation to determine the distance between the two probability distributions.\n",
    "\n",
    "**Candidate 2: Cross entropy loss or Log loss function** is used when classifier output is in terms of probability.\n",
    "- **Idea:** Cross-entropy loss increases when the predicted probability diverges from the actual label.\n",
    "    - If the actual class is 1 and the model predicts 0, we should highly penalize it and vice-versa. \n",
    "    \n",
    "**Loss/cost function** for single training example:\n",
    "\n",
    "$$cost (h_\\mathbf{\\theta}(x_i), y_i)  = \\begin{cases}\n",
    "-log(h_\\mathbf{\\theta}(x_i)) ,  & \\text{if}\\ \\quad  y = 1 \\\\\n",
    "-log(1-h_\\mathbf{\\theta}(x_i) ), & \\text{if}\\ \\quad  y =0 \n",
    "\\end{cases}$$\n",
    "\n",
    "- For **$y_i = 1$**,\n",
    "    \n",
    "   - Cost = 0, when $h_\\mathbf{\\theta}(x_i) = 1$ \n",
    "   - Cost = $\\infty $, when $h_\\mathbf{\\theta}(x_i) = 0$\n",
    "   \n",
    "- Mismatched is penalized : Larger mistakes get larger penalties.\n",
    "\n",
    "<img src=\"images/p78.png\">\n",
    "\n",
    "**Graphical Representation:**\n",
    "\n",
    "\n",
    "Plot it live: https://www.desmos.com/calculator\n",
    "\n",
    "**Case 1: y=1, Cost= log($h_\\theta (x)$)**\n",
    "- Rewards $h_\\theta (x) = 1$, with cost = 0\n",
    "- Rewards $h_\\theta (x)$ → 0 even further with asymptotically smaller costs\n",
    "\n",
    "<img src=\"images/p79.png\" height=500px width=500px>\n",
    "\n",
    "**Case 2: y=1, Cost= -log($h_\\theta (x)$)**\n",
    "- Rewards $h_\\theta (x) = 1$, with cost = 0\n",
    "- Rewards $h_\\theta (x)$ → 0 with asymptotically higher costs\n",
    "\n",
    "<img src=\"images/Picture1.png\" height=500px width=500px>\n",
    "\n",
    "\n",
    "**Case 3: y=0, Cost= log(1- $h_\\theta (x)$)**\n",
    "- Rewards $h_\\theta (x) = 0$, with cost = 0\n",
    "- Rewards $h_\\theta (x)$ → 1 even further with asymptotically smaller costs\n",
    "\n",
    "<img src=\"images/Picture2.png\" height=500px width=500px>\n",
    "\n",
    "\n",
    "**Case 4: y=0, Cost= -log(1 - $h_\\theta (x)$)**\n",
    "- Rewards $h_\\theta (x) = 1$, with cost = 0\n",
    "- Rewards $h_\\theta (x)$ → 1 with asymptotically higher costs\n",
    "\n",
    "<img src=\"images/Picture3.png\" height=500px width=500px>"
   ]
  },
  {
   "cell_type": "markdown",
   "id": "d2ce8ec1",
   "metadata": {},
   "source": [
    "### Logistic regression cost function\n",
    "\n",
    "$$L(\\theta) = \\frac{1}{m} \\sum_{i=1}^m Cost(h_\\theta(x^i), y^i)$$\n",
    "\n",
    "$$cost (h_\\mathbf{\\theta}(x_i), y_i)  = \\begin{cases}\n",
    "-log(h_\\mathbf{\\theta}(x_i)) ,  & \\text{if}\\ \\quad  y = 1 \\\\\n",
    "-log(1-h_\\mathbf{\\theta}(x_i) ), & \\text{if}\\ \\quad  y =0 \n",
    "\\end{cases}$$\n",
    "\n",
    "**Can we combine these and create a switch that turns on the correct cost values for the values of y?**\n",
    "- **Note:** y=0 or 1 always (Bernoulli Distribution)\n",
    "\n",
    "- We can combine summations and products using interpolation: e.g. if $y ∈ \\{0,1\\}$\n",
    "    - $Cost = a^y b^{(1−y)}$, chooses a if y=1 and b if y=0\n",
    "    - $Cost = y. a + (1 − y).b$, chooses a if y=1 and b if y=0\n",
    "    \n",
    "    $$cost (h_\\mathbf{\\theta}(x), y) = -(y\\text{log}(h_\\theta(x)) + (1-y) \\text{log}(1-h_\\theta(x)))$$\n",
    "    \n",
    "    \n",
    "- $if \\; y = 1: cost (h_\\mathbf{\\theta}(x), y) = - \\text{log}(h_\\theta(x))$\n",
    "\n",
    "-  $if \\; y = 0: cost (h_\\mathbf{\\theta}(x), y) = - \\text{log}(1- h_\\theta(x))$\n",
    "\n",
    "- We have created a loss function that prefers the correct classlabels of the `training examples` to be more likely\n",
    "    - It estimates the model parameters to `maximize` the `likelihood` of the training set\n",
    "    - This is called `maximum likelihood estimation` (MLE).\n",
    "- We choose the parameters $θ_i$ that maximize the log probability of the true $y$ labels in the training data given the observations $x$.\n",
    "- The resulting loss function is the negative log likelihood loss, generally called the `cross-entropy loss`.\n",
    "\n",
    "\n",
    "**Note:**\n",
    "- In logistic regression, maximum likelihood estimation (MLE) and cross entropy loss are both used to estimate the model parameters and evaluate the performance of the model. However, there are some key differences between these techniques:\n",
    "\n",
    "    - MLE is a method for estimating the model parameters (weights and bias) in logistic regression based on a set of observed data. The goal is to choose the parameters that are most likely to have generated the observed data. This is done by maximizing the likelihood function, which is a function of the model parameters and the data.\n",
    "\n",
    "    - Cross entropy loss is a measure of the difference between the predicted probabilities and the actual labels in logistic regression. It is commonly used as a loss function in machine learning, particularly in classification tasks. The goal is to minimize the cross entropy loss between the predicted probabilities and the actual labels.\n",
    "\n",
    "- In summary, MLE is a method for estimating the model parameters in logistic regression based on observed data, while cross entropy loss is a measure of the difference between predicted and actual probabilities that is used to evaluate the performance of the model and to guide the optimization process during training.\n",
    "\n",
    "\n",
    "**Cost Function Equation:**\n",
    "$$J(\\theta) = - \\sum_{i=1}^m y^{(i)} log \\; h_\\theta \\left( x^{(i)} \\right ) + (1-y^{(i)}) \\text{log} \\left ( 1- h_\\theta \\left (x^{(i)} \\right ) \\right )$$\n",
    "\n",
    "- To fit parameters $\\theta$:\n",
    "$$min_\\theta J(\\theta)$$\n",
    "\n",
    "    - We do not attempt to find analytical solution.\n",
    "    - We can use properties of convex functions, composition rules and concavity of log to show that the loss function is a convex function.\n",
    "    - We use gradient descent to numerically solve the optimization problem.\n",
    "\n",
    "- To make a prediction given new $x$:\n",
    "    - Output : $h_\\theta (x) = \\frac{1}{(1 + e^{-\\theta^Tx})}$\n",
    "    - Gives $p(y=1|x;\\theta)$"
   ]
  },
  {
   "cell_type": "code",
   "execution_count": 55,
   "id": "63feed2a",
   "metadata": {},
   "outputs": [
    {
     "name": "stdout",
     "output_type": "stream",
     "text": [
      "Cost: 0.6931\n"
     ]
    }
   ],
   "source": [
    "# Set the number of data points and number of features\n",
    "m = 100\n",
    "n = 3\n",
    "\n",
    "# Generate random data and labels\n",
    "X = np.random.randn(m, n)\n",
    "y = np.random.randint(0, 2, size=m)\n",
    "\n",
    "# Initialize the weights and bias\n",
    "w = np.zeros(n)\n",
    "b = 0\n",
    "\n",
    "# Define the sigmoid function\n",
    "def sigmoid(z):\n",
    "    return 1 / (1 + np.exp(-z))\n",
    "\n",
    "# Define the cost function\n",
    "def cost(X, y, w, b):\n",
    "    # Compute the dot product of the inputs and the weights\n",
    "    z = np.dot(X, w) + b\n",
    "    \n",
    "    # Apply the sigmoid function\n",
    "    h = sigmoid(z)\n",
    "    \n",
    "    # Compute the cross entropy loss\n",
    "    J = -np.mean(y * np.log(h) + (1 - y) * np.log(1 - h))\n",
    "    \n",
    "    return J\n",
    "\n",
    "# Calculate the cost\n",
    "J = cost(X, y, w, b)\n",
    "print(f\"Cost: {J:.4f}\")\n"
   ]
  },
  {
   "cell_type": "markdown",
   "id": "6c84601c",
   "metadata": {},
   "source": [
    "> **Note:** In this example, we generated random data and labels, initialized the weights and bias, defined the sigmoid function, and then defined the cost function. The cost function calculates the dot product of the inputs and weights, applies the sigmoid function, and then computes the average cross entropy loss over all data points. The resulting cost can be used to evaluate the performance of the model and to guide the optimization process during training."
   ]
  },
  {
   "cell_type": "markdown",
   "id": "7a18696c",
   "metadata": {},
   "source": [
    "<h3 align=\"center\">Logistic Regression: Gradient Descent</h3>\n",
    "    \n",
    "- For gradient descent, we defined the following update in each iteration:\n",
    "    $$\\theta_j \\leftarrow \\theta_j - \\alpha \\frac{\\partial L}{\\partial \\theta_j}, \\;\\;\\; \\alpha > 0$$\n",
    "    \n",
    "- $ \\frac{\\partial L}{\\partial \\theta_j}$: Rate of change in the loss function with respect to $\\theta_j$\n",
    "- $\\alpha$ is referred to as step size or learning rate.\n",
    "- **Idea:** Step size in the direction of negative of the derivative. \n",
    "\n",
    "#### Algorithm:\n",
    "**Overall:**\n",
    "- Start with some $\\mathbf{\\theta} \\; \\epsilon \\; \\mathbf{R}^d$ and keep updating to reduce the loss function until we reach the minimum. Repeat until convergence. \n",
    "\n",
    "**Pseudo-Code:**\n",
    "- Initialize $\\mathbf{\\theta} \\; \\epsilon \\; \\mathbf{R}^d$.\n",
    "- Repeat until convergence:\n",
    "\n",
    "$$J(\\theta) = - \\sum_{i=1}^m y^{(i)} log \\; h_\\theta \\left( x^{(i)} \\right ) + (1-y^{(i)}) \\text{log} \\left ( 1- h_\\theta \\left (x^{(i)} \\right ) \\right )$$\n",
    "\n",
    "Want $min_\\theta J(\\theta)$:\n",
    "\n",
    "repeat{\n",
    "\n",
    "$$ \\theta_j := \\theta_j - \\alpha \\frac{\\partial} {\\partial \\theta_j} (J(\\theta))  \\;\\;\\;\\;\\;\\; // simultaneously \\; update \\; for \\;\\; all \\;\\; j = 0,1,..n $$\n",
    "}"
   ]
  },
  {
   "cell_type": "markdown",
   "id": "e29e15ea",
   "metadata": {},
   "source": [
    "<h3 align=\"center\">Logistic Regression: Gradient Descent Computation</h3>\n",
    "\n",
    "- Linear regression uses `Least Squared Error` as a loss function that gives a `convex loss function` and then we can complete the optimization by finding its vertex as a global minimum. However for logistic regression, the hypothesis is changed, the Least Squared Error will result in a `non-convex loss function` with local minimums by calculating with the sigmoid function applied on raw model output.\n",
    "\n",
    "<img src=\"images/p3.webp\">\n",
    "\n",
    "- In order to preserve the convex nature for the loss function, a log loss error function has been designed for logistic regression. The cost function is split for two cases y=1 and y=0.\n",
    "\n",
    "- For the case when we have y=1 we can observe that when hypothesis function tends to 1 the error is minimized to zero and when it tends to 0 the error is maximum. This criterion exactly follows the criterion as we wanted\n",
    "<img src=\"images/p4.webp\">\n",
    "\n",
    "- Combining both the equation we get a convex log loss function as shown below-\n",
    "\n",
    "<img src=\"images/p5.webp\">\n",
    "\n",
    "- In order to optimize this convex function, we can either go with gradient-descent or newtons method. For both cases, we need to derive the gradient of this complex loss function.\n",
    "\n",
    "\n",
    "**Linear Regression**\n",
    "\n",
    "<img src=\"images/p80.png\">\n",
    "\n",
    "**Logistic Regression**\n",
    "\n",
    "<img src=\"images/p81.png\">\n",
    "\n",
    "<img src=\"images/p82.png\">\n",
    "\n",
    "<img src=\"images/p83.png\">\n",
    "\n",
    "\n",
    "Finally, we got our simplified formula to doing derivation.\n",
    "\n",
    "\n",
    "#### Batch Gradient Descent\n",
    "\n",
    "<img src=\"images/p84.png\" height=400px width=400px >\n",
    "\n",
    "$$\\text{Repeat} \\; until\\; \\theta_{t+1} - \\theta \\geq \\varepsilon \\{ \\\\ \\theta_j := \\theta_j - \\alpha \\frac{1} {m} \\sum_{i=1}^m (h_\\theta{(x^i)} - y^i)x_j^i  \\;\\;\\;\\;\\;\\; \\\\ // simultaneously \\; update \\; for \\;\\; all \\;\\; \\theta_j = 0,1,..n \n",
    "\\\\ \\}\n",
    "$$\n",
    "\n",
    "\n",
    "\n",
    "#### Stochastic Gradient Descent\n",
    "\n",
    "<img src=\"images/p84.png\" height=400px width=400px >\n",
    "\n",
    "**Repeat** until $\\theta{t+1} - \\theta_t \\geq \\varepsilon $ { \n",
    "\n",
    "   Repeat for each traning instance $(x^i, y^i)$, in random order {\n",
    "    $$\\theta_j := \\theta_j - \\alpha (h_\\theta{(x^i)} - y^i)x_j^i$$\n",
    "$$ simultaneously \\; update \\; for \\;\\; all \\;\\; \\theta_j = 0,1,..n $$\n",
    "\n",
    "$\\newline \\}$\n",
    "\n",
    "$\\newline \\}$\n",
    "\n",
    "\n",
    "#### Mini-Batch Gradient Descent\n",
    "\n",
    "<img src=\"images/p84.png\" height=400px width=400px >\n",
    "\n",
    "**Repeat** until $\\theta{t+1} - \\theta_t \\geq \\varepsilon $ { \n",
    "\n",
    "   Repeat for each randomly selected minibatch of size $k$ {\n",
    "    $$\\theta_j := \\theta_j - \\alpha \\frac{1}{k} \\sum_{i=1}^k (h_\\theta{(x^i)} - y^i)x_j^i$$\n",
    "$$ simultaneously \\; update \\; for \\;\\; all \\;\\; \\theta_j = 0,1,..n $$\n",
    "\n",
    "$\\newline \\}$\n",
    "\n",
    "$\\newline \\}$\n"
   ]
  },
  {
   "cell_type": "markdown",
   "id": "6a8436bf",
   "metadata": {},
   "source": [
    "### Example 1\n",
    "Implementation of cost function"
   ]
  },
  {
   "cell_type": "code",
   "execution_count": 64,
   "id": "1b79736f",
   "metadata": {},
   "outputs": [
    {
     "name": "stdout",
     "output_type": "stream",
     "text": [
      "dJdw: [ 0.04431387  0.01039799 -0.00869976]\n",
      "dJdb: -0.05\n"
     ]
    }
   ],
   "source": [
    "# Set the number of data points and number of features\n",
    "m = 100\n",
    "n = 3\n",
    "\n",
    "# Generate random data and labels\n",
    "X = np.random.randn(m, n)\n",
    "y = np.random.randint(0, 2, size=m)\n",
    "\n",
    "# Initialize the weights and bias\n",
    "w = np.zeros(n)\n",
    "b = 0\n",
    "\n",
    "# Define the sigmoid function\n",
    "def sigmoid(z):\n",
    "    return 1 / (1 + np.exp(-z))\n",
    "\n",
    "# Define the cost function\n",
    "def cost(X, y, w, b):\n",
    "    # Compute the dot product of the inputs and the weights\n",
    "    z = np.dot(X, w) + b\n",
    "    \n",
    "    # Apply the sigmoid function\n",
    "    h = sigmoid(z)\n",
    "    \n",
    "    # Compute the cross entropy loss\n",
    "    J = -np.mean(y * np.log(h) + (1 - y) * np.log(1 - h))\n",
    "    \n",
    "    return J\n",
    "\n",
    "# Define the derivative of the cost function with respect to the weights\n",
    "def dJdw(X, y, w, b):\n",
    "    # Compute the dot product of the inputs and the weights\n",
    "    z = np.dot(X, w) + b\n",
    "    \n",
    "    # Apply the sigmoid function\n",
    "    h = sigmoid(z)\n",
    "    \n",
    "    # Compute the derivative of the cost function with respect to the weights\n",
    "    dJdw = (1 / m) * np.dot(X.T, h - y)\n",
    "    \n",
    "    return dJdw\n",
    "\n",
    "# Define the derivative of the cost function with respect to the bias\n",
    "def dJdb(X, y, w, b):\n",
    "    # Compute the dot product of the inputs and the weights\n",
    "    z = np.dot(X, w) + b\n",
    "    \n",
    "    # Apply the sigmoid function\n",
    "    h = sigmoid(z)\n",
    "    \n",
    "    # Compute the derivative of the cost function with respect to the bias\n",
    "    dJdb = (1 / m) * np.sum(h - y)\n",
    "    \n",
    "    return dJdb\n",
    "\n",
    "# Calculate the derivative of the cost function with respect to the weights\n",
    "dJdw = dJdw(X, y, w, b)\n",
    "print(f\"dJdw: {dJdw}\")\n",
    "\n",
    "# Calculate the derivative of the cost function with respect to the bais \n",
    "dJdb = dJdb(X,y,w,b)\n",
    "print(f\"dJdb: {dJdb}\")\n"
   ]
  },
  {
   "cell_type": "markdown",
   "id": "eb30d4d7",
   "metadata": {},
   "source": [
    "### Example 2 :Implement the cost function for logistic regression using gradient descent"
   ]
  },
  {
   "cell_type": "markdown",
   "id": "83ec0985",
   "metadata": {},
   "source": [
    "**Step 1:** Define the `sigmoid function`, which will be used to predict the probability that a given example belongs to the `positive` class. "
   ]
  },
  {
   "cell_type": "code",
   "execution_count": 65,
   "id": "b6af5180",
   "metadata": {},
   "outputs": [],
   "source": [
    "def sigmoid(z):\n",
    "    return 1 / (1 + np.exp(-z))"
   ]
  },
  {
   "cell_type": "markdown",
   "id": "51ad6ae0",
   "metadata": {},
   "source": [
    "**Step 2:** Define the `cost function`, which measures the difference between the predicted probabilities and the actual labels. "
   ]
  },
  {
   "cell_type": "code",
   "execution_count": 67,
   "id": "3b247418",
   "metadata": {},
   "outputs": [],
   "source": [
    "def cost(h, y):\n",
    "    return (-y * np.log(h) - (1 - y) * np.log(1 - h)).mean()"
   ]
  },
  {
   "cell_type": "markdown",
   "id": "d161c4d3",
   "metadata": {},
   "source": [
    "> **Note:** Where `h` is the predicted probability and `y` is the actual label (0 or 1)."
   ]
  },
  {
   "cell_type": "markdown",
   "id": "16f801ba",
   "metadata": {},
   "source": [
    "**Step 3:** Define the `gradient descent function`, which will be used to update the model's parameters (i.e., the weights and bias)."
   ]
  },
  {
   "cell_type": "code",
   "execution_count": 68,
   "id": "69b75c8f",
   "metadata": {},
   "outputs": [],
   "source": [
    "def gradient_descent(X, y, alpha, num_iter):\n",
    "    m, n = X.shape\n",
    "    theta = np.zeros(n)\n",
    "    \n",
    "    for i in range(num_iter):\n",
    "        z = X @ theta\n",
    "        h = sigmoid(z)\n",
    "        gradient = X.T @ (h - y) / m\n",
    "        theta -= alpha * gradient\n",
    "        \n",
    "    return theta"
   ]
  },
  {
   "cell_type": "markdown",
   "id": "a2209f2a",
   "metadata": {},
   "source": [
    "- Where `X` is the training data, `y` is the target labels, `alpha` is the learning rate, and `num_iter` is the number of iterations to run the algorithm.\n",
    "\n",
    "    - To use the cost function and gradient descent function, you can first split your data into a training set and a test set using the `train_test_split` function from the `sklearn.model_selection` module.\n",
    "\n",
    "    Next, you can call the gradient_descent function to fit the model to the training data. You can pass in the training data `(X_train)`, the target labels `(y_train)`, the learning rate `(alpha)`, and the number of iterations `(num_iter)` as arguments.\n",
    "\n",
    "    - After the model has been trained, you can use the sigmoid function to predict the probabilities for the test data `(X_test)`.\n",
    "\n",
    "    - You can then compute the cost for the predicted probabilities and the actual labels `(y_test)` using the `cost` function. This will give you an idea of how well the model is performing.\n",
    "\n",
    "    - You can also use the `accuracy_score` function from the `sklearn.metrics` module to compute the accuracy of the model on the test data.\n",
    "\n",
    "    - To improve the model's performance, you can try adjusting the learning rate, the number of iterations, and the features included in the model. You can also try using regularization techniques to prevent overfitting."
   ]
  },
  {
   "cell_type": "code",
   "execution_count": 78,
   "id": "51094a90",
   "metadata": {},
   "outputs": [
    {
     "data": {
      "text/plain": [
       "array([[6, 7],\n",
       "       [2, 4],\n",
       "       [3, 6],\n",
       "       [4, 7],\n",
       "       [1, 6],\n",
       "       [5, 2],\n",
       "       [2, 0],\n",
       "       [6, 3],\n",
       "       [4, 1],\n",
       "       [7, 2]])"
      ]
     },
     "execution_count": 78,
     "metadata": {},
     "output_type": "execute_result"
    }
   ],
   "source": [
    "from sklearn.datasets import make_classification\n",
    "from sklearn.model_selection import train_test_split\n",
    "from sklearn.preprocessing import StandardScaler\n",
    "from sklearn import linear_model\n",
    "from sklearn.datasets import make_classification\n",
    "\n",
    "# Creating some manual data on which the custom Logistice function that I will define below will train on\n",
    "X_train = np.array(\n",
    "    [[6, 7], [2, 4], [3, 6], [4, 7], [1, 6], [5, 2], [2, 0], [6, 3], [4, 1], [7, 2]])\n",
    "y_train = np.array([0, 0, 0, 0, 0, 1, 1, 1, 1, 1])\n",
    "X_test = np.array([[6, 1], [1, 3], [3, 1], [4, 5]])\n",
    "X_train"
   ]
  },
  {
   "cell_type": "code",
   "execution_count": 79,
   "id": "af804551",
   "metadata": {},
   "outputs": [],
   "source": [
    "def sigmoid(input):\n",
    "    return 1.0/(1+ np.exp(-input))\n",
    "\n",
    "def compute_prediction(X, weights):\n",
    "    #Compute the prediction y_hat based on current weights\n",
    "    z = np.dot(X, weights)\n",
    "    predictions = sigmoid(z)\n",
    "    return predictions\n",
    "\n",
    "def predict(X, weights):\n",
    "    if X.shape[1] == weights.shape[0] - 1:\n",
    "        intercept = np.ones((X.shape[0], 1))\n",
    "        X = np.hstack((intercept, X))\n",
    "    return compute_prediction(X, weights)"
   ]
  },
  {
   "cell_type": "code",
   "execution_count": 80,
   "id": "1d6ca92d",
   "metadata": {},
   "outputs": [],
   "source": [
    "# Compute the cost J(w)\n",
    "def compute_cost(X, y, weights):\n",
    "    predictions = compute_prediction(X,weights)\n",
    "    cost_logistic = np.mean(-y * np.log(predictions) - (1 - y) * np.log(1 - predictions) )\n",
    "    return cost_logistic"
   ]
  },
  {
   "cell_type": "code",
   "execution_count": 81,
   "id": "2f674a44",
   "metadata": {},
   "outputs": [],
   "source": [
    "# Training a logistic regression model using stochastic gradient descent\n",
    "def sgd_update_weights(X_train, y_train, weights, learning_rate):\n",
    "    \"\"\"One weight update iteration: moving weights by one step based on each individual sample\n",
    "    Args:\n",
    "        X_train, y_train (numpy.ndarray, training data set)\n",
    "        weights (numpy.ndarray)\n",
    "        learning_rate (float)\n",
    "    Returns:\n",
    "        numpy.ndarray, updated weights\n",
    "    \"\"\"\n",
    "    for X_each, y_each in zip(X_train, y_train):\n",
    "        predictions = compute_prediction(X_each, weights)\n",
    "        delta_weights = X_each.T * (y_each - predictions)\n",
    "        weights += learning_rate * delta_weights\n",
    "    return weights"
   ]
  },
  {
   "cell_type": "code",
   "execution_count": 105,
   "id": "7b2d549f",
   "metadata": {},
   "outputs": [],
   "source": [
    "def train_logistic_regression_sgd(\n",
    "    X_train, y_train, max_iter, learning_rate, fit_intercept=False\n",
    "):\n",
    "    \"\"\"Train a logistic regression model via SGD\n",
    "    Args:\n",
    "        X_train, y_train (numpy.ndarray, training data set)\n",
    "        max_iter (int, number of iterations)\n",
    "        learning_rate (float)\n",
    "        fit_intercept (bool, with an intercept w0 or not)\n",
    "    Returns:\n",
    "        numpy.ndarray, learned weights\n",
    "    \"\"\"\n",
    "    # If fit_intercept, then initialize a intercept value \n",
    "    if fit_intercept:\n",
    "        intercept = np.ones((X_train.shape[0], 1))\n",
    "        X_train = np.hstack((intercept, X_train))\n",
    "    \n",
    "    # initialize weights with zeros\n",
    "    weights = np.zeros(X_train.shape[1])\n",
    "\n",
    "    for iteration in range(max_iter):\n",
    "        weights = sgd_update_weights(X_train, y_train, weights, learning_rate)\n",
    "        # Check the cost for every 2 (for example) iterations\n",
    "        if iteration % 2 == 0:\n",
    "                print(compute_cost(X_train, y_train, weights))\n",
    "    return weights"
   ]
  },
  {
   "cell_type": "code",
   "execution_count": 106,
   "id": "5e3fc3c1",
   "metadata": {},
   "outputs": [
    {
     "name": "stdout",
     "output_type": "stream",
     "text": [
      "0.5925561752624662\n",
      "0.45124164011276724\n",
      "0.3605989658416807\n",
      "0.2992023417251532\n",
      "0.25540548197896334\n",
      "0.22277248630624552\n",
      "0.19758240370556324\n",
      "0.17757297044312126\n",
      "0.16130291507522063\n",
      "0.1478155104202422\n",
      "0.13645276699626\n",
      "0.126748150185035\n",
      "0.11836206176219921\n",
      "0.11104160058314945\n",
      "0.10459464187516168\n",
      "0.09887265505222564\n",
      "0.09375902069894883\n",
      "0.08916090457696889\n",
      "0.08500348983349584\n",
      "0.08122580769790162\n",
      "0.07777767362590254\n",
      "0.07461740193360676\n",
      "0.07171007779924378\n",
      "0.06902623438155288\n",
      "0.06654082848892706\n",
      "weights from train_logistic_regression_sgd  [ 0.1520753   0.89428318 -1.08484352]\n"
     ]
    }
   ],
   "source": [
    "# Train the SGD model based on the manual data defined at the top of this file\n",
    "learned_weights_after_sgd = train_logistic_regression_sgd(\n",
    "    X_train, y_train, max_iter=50, learning_rate=0.01, fit_intercept=True\n",
    ")\n",
    "print(\"weights from train_logistic_regression_sgd \", learned_weights_after_sgd)"
   ]
  },
  {
   "cell_type": "code",
   "execution_count": 107,
   "id": "665c0454",
   "metadata": {},
   "outputs": [
    {
     "data": {
      "text/plain": [
       "array([1, 0, 1, 0])"
      ]
     },
     "execution_count": 107,
     "metadata": {},
     "output_type": "execute_result"
    }
   ],
   "source": [
    "pred_y = predict(X_test, learned_weights_after_sgd)\n",
    "np.where(pred_y>0.5, 1,0 )\n",
    "# print(pred_y)"
   ]
  },
  {
   "cell_type": "markdown",
   "id": "9f0444b7",
   "metadata": {},
   "source": [
    "<h3 align=\"center\">Regularization for Gradient Descent for logistic regression</h3>\n",
    "\n",
    "- **Regularization** is a technique used to prevent `overfitting` in machine learning models by adding a penalty term to the cost function. This penalty term helps to reduce the complexity of the model, which in turn helps to improve the generalization performance of the model on new data.\n",
    "\n",
    "The cost function of the logistic regression is updated to penalize high values of the parameters and is given by,\n",
    "<img src=\"images/p85.png\">\n",
    "\n",
    "So, without regularization, the gradient descent for logistic regressionwas would be given by,\n",
    "\n",
    "<img src=\"images/p86.png\">\n",
    "\n",
    "But since the equation for cost function has changed in (1) to include the regularization term, there will be a change in the derivative of cost function that was plugged in the gradient descent algorithm,\n",
    "\n",
    "<img src=\"images/p87.png\">\n",
    "\n",
    "\n",
    "Because the first term of cost fuction remains the same, so does the first term of the derivative. So taking derivative of second term gives $\\frac{λ}{m} \\theta_j$ as seen above.\n",
    "\n",
    "<img src=\"images/p88.png\">\n",
    "\n",
    "Now below is for Vectorized logistic regression with regularization\n",
    "\n",
    "\n",
    "**Gradient of loss function w.r.t each weight in weight vector**\n",
    "$$d\\theta^{(t)} = x_n(y_n − σ((\\theta^{(t)})^{T} x_n+b^{t}))- \\frac{λ}{N}\\theta^{(t)})$$\n",
    "\n",
    "**Gradient of the Intercept**\n",
    "$$db^{(t)} = y_n- σ((\\theta^{(t)})^{T} x_n+b^{t}))$$\n",
    "\n",
    "- In the case of gradient descent for logistic regression, regularization can be implemented by adding a penalty term to the cost function that is proportional to the sum of the squared weights. This penalty term is known as the `L2 regularization term.`\n",
    "\n",
    "```\n",
    "cost(h, y, theta, lambda) = \n",
    "(-y * log(h) - (1 - y) * log(1 - h)).mean() + lambda * sum(theta^2)\n",
    "```\n",
    "\n",
    "> **Note:** Where `h` is the predicted probability, `y` is the actual label (0 or 1), `theta` is the model's parameters (i.e., the weights and bias), and `lambda` is the regularization strength."
   ]
  },
  {
   "cell_type": "code",
   "execution_count": 111,
   "id": "138c7651",
   "metadata": {},
   "outputs": [],
   "source": [
    "# To implement L2 regularization for gradient descent for logistic regression in Python, \n",
    "# we can modify the gradient descent function as follows:\n",
    "def gradient_descent(X, y, alpha, num_iter, lambda):\n",
    "    m, n = X.shape\n",
    "    theta = np.zeros(n)\n",
    "    \n",
    "    for i in range(num_iter):\n",
    "        z = X @ theta\n",
    "        h = sigmoid(z)\n",
    "        gradient = X.T @ (h - y) / m + lambda * theta\n",
    "        theta -= alpha * gradient\n",
    "        \n",
    "    return theta\n"
   ]
  },
  {
   "cell_type": "markdown",
   "id": "f0bbea1d",
   "metadata": {},
   "source": [
    "- Where `X` is the training data, `y` is the target labels, `alpha` is the learning rate, `num_iter` is the number of iterations to run the algorithm, and `lambda` is the regularization strength.\n",
    "\n",
    "- You can then call the modified gradient descent function with the regularization strength as an additional argument to fit the model to the training data.\n",
    "\n",
    "> **Note:** It's important to note that the regularization strength should be tuned using `cross-validation` to find the optimal value that helps to improve the generalization performance of the model on new data."
   ]
  },
  {
   "cell_type": "markdown",
   "id": "b6407b38",
   "metadata": {},
   "source": [
    "<h2 align=\"center\">Logistic Regression: Multiclass (multinomial) classification</h2>\n",
    "\n",
    "<img src=\"images/p89.png\" height=400px width=400px>\n",
    "\n",
    "- Logistic Regression inherently models binary classification and needs meta-strategies for multiclass classification\n",
    "- Multiclass classification\n",
    "    - Multiple class labels(`red`,`green`, `blue`) are present in the dataset.\n",
    "- There are several approaches/binary classifiers to implementing multi-class classification\n",
    "    - **One vs Rest (aka One vs All):** \n",
    "        -  In this approach, a separate logistic regression model is trained for each class, and the class with the highest predicted probability is chosen as the final prediction.\n",
    "        - Splits a multi-class classification into one binary classification problem per class.\n",
    "        - $n$-class instances then $n$ binary classifier models.\n",
    "        \n",
    "    - **One vs One:**\n",
    "        -  In this approach, a separate logistic regression model is trained for each pair of classes, and the class with the highest combined predicted probability across all models is chosen as the final prediction.\n",
    "        - Splits a multi-class classification into one binary classification problem per each pair of classes.\n",
    "        - $n$-class instances then $\\binom nk=\\frac{n*(n-1)}{2}$  binary classifier models"
   ]
  },
  {
   "cell_type": "markdown",
   "id": "6cb9bdf6",
   "metadata": {},
   "source": [
    "### One vs. All (One-vs-Rest)\n",
    "- In one-vs-All classification, for the N-class instances dataset, we have to generate the N-binary classifier models. One classifier per class $(x ∈ class_i \\; vs \\; x ∉ class_i)$ for all n classes\n",
    "- The number of class labels present in the dataset and the number of generated binary classifiers must be the same.\n",
    "- In the scoring phase all the n classifiers predict the probability of each class and class with highest probability is selected.\n",
    "\n",
    "    - Classifier 1: [Green] vs [Red, Blue]\n",
    "    - Classifier 2: [Blue] vs [Green, Red]\n",
    "    - Classifier 3: [Red] vs [Green , Blue]\n",
    "    \n",
    "<img src=\"images/p6.webp\">\n",
    "\n",
    "### Create separate data sets for training\n",
    "<img src=\"images/image.webp\">\n",
    "\n",
    "Let’s understand it by an example,\n",
    "\n",
    "- Consider the primary dataset, in the first row; we have x1, x2, x3 feature values, and the corresponding class value is G, which means these feature values belong to G class. So we put +1 value in the class column for the correspondence of green type. Then we applied the same for the x10, x11, x12 input train data.\n",
    "- For the rest of the values of the features which are not in correspondence with the Green class, we put -1 in their class column.\n",
    "\n",
    "### One vs All pipeline\n",
    "\n",
    "- After creating a training dataset for each classifier, we provide it to our classifier model and train the model by applying an algorithm.\n",
    "- After the training model, when we pass input test data to the model, then that data is considered as input for all generated classifiers. If there is any possibility that our input test data belongs to a particular class, then the classifier created for that class gives a positive response in the form of +1, and all other classifier models provide an adverse reaction in the way of -1. Similarly, binary classifier models predict the probability of correspondence with concerning classes.\n",
    "- By analyzing the probability scores, we predict the result as the class index having a maximum probability score.\n",
    "\n",
    "<img src=\"images/11.webp\">\n",
    "\n",
    "<img src=\"images/p12.webp\">\n",
    "\n",
    "\n",
    "\n",
    "- Let’s understand with one example by taking three test features values as y1, y2, and y3, respectively.\n",
    "- We passed test data to the classifier models. We got the outcome in the form of a positive rating derived from the `Green` class classifier with a probability score of `(0.9)`.\n",
    "- Again We got a positive rating from the `Blue` class with a probability score of `(0.4)` along with a negative classification score from the remaining `Red` classifier.\n",
    "- Hence, based on the positive responses and decisive probability score, we can say that our test input belongs to the `Green` class."
   ]
  },
  {
   "cell_type": "code",
   "execution_count": 115,
   "id": "9a50eeb3",
   "metadata": {},
   "outputs": [],
   "source": [
    "#Import LogisticRegression() model from scikit_learn\n",
    "from sklearn.datasets import make_classification\n",
    "from sklearn.linear_model import LogisticRegression\n",
    "\n",
    "#define dataset\n",
    "X_train, y_train = make_classification(n_samples=500, n_features=8, n_informative=3, n_redundant=3, n_classes=4, random_state=1)\n",
    "\n",
    "#define classification model\n",
    "Multiclass_model = LogisticRegression(multi_class='ovr')\n",
    "\n",
    "#fit model\n",
    "Multiclass_model.fit(X_train, y_train)\n",
    "\n",
    "#make final predictions\n",
    "y_pred = Multiclass_model.predict(X_train)\n",
    "y_pred"
   ]
  },
  {
   "cell_type": "markdown",
   "id": "d0c94d3a",
   "metadata": {},
   "source": [
    "### One vs. One (OvO)\n",
    "\n",
    "- In One-vs-One classification, for the `N-class` instances dataset, we have to generate the `N* (N-1)/2` binary classifier models. Using this classification approach, we split the primary dataset into one dataset for each class opposite to every other class.\n",
    "- Taking the above example, we have a classification problem having three types: `Green`, `Blue`, and `Red (N=3)`.\n",
    "- We divide this problem into `N* (N-1)/2 = 3` binary classifier problems:\n",
    "\n",
    "    - Classifier 1: Green vs. Blue\n",
    "    - Classifier 2: Green vs. Red\n",
    "    - Classifier 3: Blue vs. Red\n",
    "    \n",
    "<img src=\"images/p13.webp\" height=400px width=400px>\n",
    "\n",
    "- Each binary classifier predicts one class label. When we input the test data to the classifier, then the model with the majority counts is concluded as a result or the model with the most predictions or votes is predicted by the one-vs-one strategy.\n",
    "- If the binary classification models predict a numerical class membership, such as a probability, then the argmax of the sum of the scores (class with the largest sum score) is predicted as the class label.\n",
    "\n",
    "\n",
    "**Note: oVr vs oVo**\n",
    "-  `oVr` trains fewer classifiers and is faster overall.\n",
    "- `oVo` is less prone to imbalance in datasets.\n",
    "\n",
    "> **Note:** It's worth noting that logistic regression is generally more suited for binary classification tasks, as it can struggle to perform well on multi-class classification tasks due to the inherent limitations of the sigmoid activation function used in logistic regression. Alternative techniques, such as multi-class support vector machines (SVMs) or multi-class neural networks, may be more suitable for multi-class classification tasks."
   ]
  },
  {
   "cell_type": "code",
   "execution_count": 118,
   "id": "5333452d",
   "metadata": {},
   "outputs": [],
   "source": [
    "# SVM for multi-class classification using one-vs-one\n",
    "from sklearn.multiclass import OneVsOneClassifier\n",
    "# define dataset\n",
    "X, y = make_classification(n_samples=1000, n_features=10, n_informative=5, n_redundant=5, n_classes=3, random_state=1)\n",
    "# define model\n",
    "model = LogisticRegression()\n",
    "# define ovo strategy\n",
    "ovo = OneVsOneClassifier(model)\n",
    "# fit model\n",
    "ovo.fit(X, y)\n",
    "# make predictions\n",
    "ypred = ovo.predict(X)\n",
    "# ypred"
   ]
  },
  {
   "cell_type": "markdown",
   "id": "cee6b7f1",
   "metadata": {},
   "source": [
    "<h2 align=\"center\">Logistic Regression: Softmax / Multinomial </h2>\n",
    "\n",
    "**Idea:**\n",
    "- Softmax is a variant of logistic regression that is used for multi-class classification tasks, where the goal is to classify a given example into one of multiple classes (e.g., red, green, or blue).\n",
    "- In logistic regression, the output of the model is a probability that the given example belongs to the positive class. However, in the case of multi-class classification, we need a way to predict the probability that an example belongs to each class. This is where the Softmax function comes in.\n",
    "- The Softmax function is a generalization of the sigmoid function, which is used in traditional logistic regression. Like the sigmoid function, the Softmax function maps the output of the model to a probability range of 0 to 1. However, the Softmax function can handle multiple classes, whereas the sigmoid function is limited to binary classification.\n",
    "\n",
    "### Softmax\n",
    "- Recall that the sigmoid produces a number between 0 and 1.\n",
    "    - The sum of the probabilities of an email being either spam or not spam is 1.0.\n",
    "\n",
    "- Softmax extends this idea into a multi-class world.\n",
    "    - Softmax assigns a probability to each class in a multi-class problem and the probabilities across classes add up to 1.0.\n",
    "    - Works only when each example is a member of only one class.\n",
    "        - If this is not true, rely on multiple logistic regression.\n",
    "        \n",
    "**We have following logistic regression model for binary classification case `(M=2)`.**\n",
    "\n",
    "<img src=\"images/p46.png\" height=600px width=600px>\n",
    "\n",
    "- $h_\\theta(x) = p(y=1|x)$ represents the probability of membership of class 1.\n",
    "- **Model :** weighted sum of features followed by sigmoid for squishing the values of weighted sum between 0 and 1.\n",
    "\n",
    "\n",
    "#### A quick side note on math\n",
    "\n",
    "$$\\sigma(x) = \\frac{1}{1+e^{-x}}$$\n",
    "\n",
    "$$\\sigma(x) = \\frac{1}{1+ \\frac{1}{e^x}} = \\frac{1}{\\frac{(e^x + 1)}{e^x}} = \\frac{e^x}{e^x+1} = \\frac {e^x}{e^x + e^0}$$\n",
    "\n",
    "\n",
    "### Softmax for `M` classes\n",
    "\n",
    "- For `M` class, we extend the the formulation of the logistic regression.\n",
    "- Again, the model gives us probability of class membership.\n",
    "- We assign the label that is more likely.\n",
    "\n",
    "**Model for $m^{th}$ class:**\n",
    "\n",
    "<img src=\"images/p91.png\">\n",
    "\n",
    "- **Model:** weighted sum of feaatures followed by softmax function.\n",
    "- Softmax- extension of logistic function:\n",
    "\n",
    "**Logistic Function for 2 classes**\n",
    "$$\\sigma(z) = \\frac{1}{1+e^{-z}} = \\frac{e^z}{e^z + e^0}$$\n",
    "\n",
    "**Softmax for M classes:**\n",
    "$$softmax(z_m) = \\frac{1}{1+e^{-z}} = \\frac{e^{z_m}}{\\sum_{k=0}^{M-1} e^{z_k}}$$\n",
    "> This is a softmax activation function.\n",
    "\n",
    "- For 2 classes `{z, 0}`, the softmax is identical to sigmoid\n",
    "\n",
    "$$S(z)_1 = \\frac{e^z}{e^z + e^0} = \\sigma(z)$$\n",
    "\n",
    "$$S(z)_2 = \\frac{e^0}{e^z + e^0} = 1-  \\sigma(z)$$\n",
    "\n",
    "If x = [5,2,-1,3], then find $\\hat y$ using softmax activation function?\n",
    "\n",
    "\n",
    "#### Interpretation:\n",
    "\n",
    "<img src=\"images/p91.png\">\n",
    "\n",
    "- A critical assumption here: no ordinal relationship between the classes.\n",
    "- Linear function for each of the m classes.\n",
    "- The softmax function\n",
    "    - **Input:** a vector of M real numbers\n",
    "    - **Output:** M probabilities proportional to the exponentials of the input numbers.\n",
    "    \n",
    "    \n",
    "-  We have $\\mathbf{\\theta_m} = [\\theta_{m,0}, \\theta_{m,1}, \\theta_{m,2} ,..., \\theta_{m,d}]$ for each class $m = \\{ 0,1,2,3,...,M-1\\}.$\n",
    "\n",
    "- In total, we have $(d+1)xM$ parameters\n",
    "\n",
    "\n",
    "#### Graphical Representation of the Model\n",
    "\n",
    "<img src=\"images/p92.png\">\n",
    "\n",
    "- **Prediction:**\n",
    "$$\\hat y = max_{m=1,2,3,4,...,M-1} \\;\\;h_\\theta m(\\mathbf{x})$$\n",
    "\n",
    "<img src=\"images/p93.png\">"
   ]
  },
  {
   "cell_type": "markdown",
   "id": "24ba5c1a",
   "metadata": {},
   "source": [
    "### Multi-Class (Multinomial) Logistic Regression – Cost Function\n",
    "\n",
    "**For Binary classification**\n",
    "$$ J(\\mathbf{\\theta}) = - \\sum_{i=1}^n y_i log(h_\\mathbf{\\theta}(\\mathbf{x}_i)) + (1- y_i)log(1- h_\\mathbf{\\theta}(\\mathbf{x}_i))$$\n",
    "\n",
    "\n",
    "**For Multi-class Classification**\n",
    "\n",
    "$$ J(\\mathbf{\\theta}) = - \\sum_{i=1}^n \\sum_{m=0}^{M-1} \\delta(y_i-m) log(h_\\mathbf{\\theta_m}(\\mathbf{x}_i))$$\n",
    "\n",
    "\n",
    "\n",
    "$$ J(\\mathbf{\\theta}) = - \\sum_{i=1}^n \\sum_{m=0}^{M-1} \\delta(y_i-m) log(\\frac{e^{z_m}}{\\sum_{k=0}^{M-1} e^{z_k}})$$\n",
    "\n"
   ]
  },
  {
   "cell_type": "markdown",
   "id": "08fbe6a0",
   "metadata": {},
   "source": [
    "#### Implementation of Logistic Regression: Softmax\n",
    "\n",
    "- The Softmax activation function is a generalization of the sigmoid function, which is used to perform multi-class classification, rather than binary classification.\n",
    "\n",
    "- The Softmax function maps the output of the model to a probability range of 0 to 1, such that the sum of the probabilities for all classes is 1. This allows us to predict the probability that an example belongs to each class, rather than just a single class.\n"
   ]
  },
  {
   "cell_type": "code",
   "execution_count": 120,
   "id": "48ebc0fd",
   "metadata": {},
   "outputs": [],
   "source": [
    "# softmax function\n",
    "def softmax(z):\n",
    "    z = np.array(z, dtype=float)\n",
    "    exp_z = np.exp(z)\n",
    "    return exp_z / np.sum(exp_z, axis=1, keepdims=True)\n"
   ]
  },
  {
   "cell_type": "markdown",
   "id": "96d74a34",
   "metadata": {},
   "source": [
    ">**Note:** Where `z` is the output of the model (i.e., the weighted sum of the input features and the bias). To use the Softmax function in a logistic regression model, we can simply replace the sigmoid function with the Softmax function in the model's prediction and cost functions."
   ]
  },
  {
   "cell_type": "code",
   "execution_count": 121,
   "id": "073eadf5",
   "metadata": {},
   "outputs": [],
   "source": [
    "#  The prediction function for a multi-class logistic regression model \n",
    "# with Softmax activation is\n",
    "\n",
    "def predict(X, theta):\n",
    "    z = X @ theta\n",
    "    return softmax(z)"
   ]
  },
  {
   "cell_type": "code",
   "execution_count": 122,
   "id": "d1dcd134",
   "metadata": {},
   "outputs": [],
   "source": [
    "# And the cost function for the same model\n",
    "def cost(h, y):\n",
    "    return -np.sum(y * np.log(h))\n"
   ]
  },
  {
   "cell_type": "markdown",
   "id": "18bc8dd1",
   "metadata": {},
   "source": [
    "> **Note:** Where `X` is the input data, theta is the model's parameters (i.e., the weights and bias), `h` is the predicted probabilities, and `y` is the target labels."
   ]
  },
  {
   "cell_type": "code",
   "execution_count": 123,
   "id": "909bbab3",
   "metadata": {},
   "outputs": [
    {
     "data": {
      "image/png": "[encoded data removed]",
      "text/plain": [
       "<Figure size 640x480 with 1 Axes>"
      ]
     },
     "metadata": {},
     "output_type": "display_data"
    }
   ],
   "source": [
    "import numpy as np\n",
    "import matplotlib.pyplot as plt\n",
    "plt.style.use('classic')\n",
    "np.set_printoptions(precision=3, suppress=True)\n",
    "\n",
    "X = np.array([[-0.1, 1.4],\n",
    "              [-0.5, 0.2],\n",
    "      [ 1.3, 0.9],\n",
    "      [-0.6, 0.4],\n",
    "      [-1.6, 0.2],\n",
    "      [ 0.2, 0.2],\n",
    "      [-0.3,-0.4],\n",
    "      [ 0.7,-0.8],\n",
    "      [ 1.1,-1.5],\n",
    "      [-1.0, 0.9],\n",
    "      [-0.5, 1.5],\n",
    "      [-1.3,-0.4],\n",
    "      [-1.4,-1.2],\n",
    "      [-0.9,-0.7],\n",
    "      [ 0.4,-1.3],\n",
    "      [-0.4, 0.6],\n",
    "      [ 0.3,-0.5],\n",
    "      [-1.6,-0.7],\n",
    "      [-0.5,-1.4],\n",
    "      [-1.0,-1.4]])\n",
    "\n",
    "y = np.array([0, 0, 1, 0, 2, 1, 1, 1, 1, 0, 0, 2, 2, 2, 1, 0, 1, 2, 2, 2])\n",
    "Y = np.eye(3)[y]\n",
    "colormap = np.array(['r', 'g', 'b'])\n",
    "\n",
    "def plot_scatter(X, y, colormap):\n",
    "   plt.grid()\n",
    "   plt.xlim([-2.0, 2.0])\n",
    "   plt.ylim([-2.0, 2.0])\n",
    "   plt.xlabel('$x_1$', size=20)\n",
    "   plt.ylabel('$x_2$', size=20)\n",
    "   plt.title('Input 2D points', size=18)\n",
    "   plt.scatter(X[:,0], X[:,1], s=50, c=colormap[y])\n",
    "\n",
    "plot_scatter(X, y, colormap)\n"
   ]
  },
  {
   "cell_type": "markdown",
   "id": "f6786b0d",
   "metadata": {},
   "source": [
    "- We have given a point in 2-dimensions, $x=(x1,x2)$, we want to output either `red`, `green` or `blue`.\n",
    "\n",
    "- We can use `Softmax Regression` for this problem. We first learn `weights`, $w_{1,1},w_{1,2},w_{2,1},w_{2,2},w_{3,1},w_{3,2},$ and `bias`, $b_1,b_2,b_3$. This phase is called `training`. And then, we will use those weights and the bias to predict a new point, $X$.\n",
    "\n",
    "- We will use Softmax Regression or sometimes called `Multinomial logistic regression` to solve this problem. This is a simple generalization of Logistic Regression (binary) to arbitrary number of classes."
   ]
  },
  {
   "cell_type": "markdown",
   "id": "9d46be9e",
   "metadata": {},
   "source": [
    "### Bonus\n",
    "**Decision Boundary for above problem :** \n",
    "\n",
    "<img src=\"images/p94.png\" height=400px width=400px>"
   ]
  },
  {
   "cell_type": "markdown",
   "id": "0dc4bbf5",
   "metadata": {},
   "source": [
    "<h2 align=\"center\"> Evaluation of Classifiers: The Confusion Matrix</h2>"
   ]
  },
  {
   "cell_type": "markdown",
   "id": "f5ed765a",
   "metadata": {},
   "source": [
    "<h4 align=\"center\">Classification Accuracy, Misclassification Rate (0/1 Loss)</h4>\n",
    "\n",
    "$$L_{0/1}(h) = \\frac{1}{n} \\sum_{i=1}^n 1- \\delta_{{h}{(\\mathbf x_i)}}  - y_i  \\;\\;\\;\\; \\;\\; \\delta_k = \\begin{cases}\n",
    "1,  & \\text{if}\\ \\quad  k = 0 \\\\\n",
    "0, & \\text{if}\\ \\quad  otherwise\n",
    "\\end{cases}$$"
   ]
  },
  {
   "cell_type": "markdown",
   "id": "7e3dd823",
   "metadata": {},
   "source": [
    "- For each test-point, the loss is either 0 or 1; whether the prediction is correct or incorrect.\n",
    "- Averaged over n data-points, this loss is a `Misclassification Rate`.\n",
    "\n",
    "**Interpretation:**\n",
    "- _Misclassification Rate_: Estimate of the probability that a point is incorrectly classified.\n",
    "- _Accuracy_ = 1- Misclassification rate\n",
    "\n",
    "**Issue:**\n",
    "- Not meaningful when the classes are imbalanced or skewed."
   ]
  },
  {
   "cell_type": "markdown",
   "id": "e926fe09",
   "metadata": {},
   "source": [
    "#### Example\n",
    "**Example:**\n",
    "- Predict if a bowler will not bowl a `no-ball`?\n",
    "- Assuming 15 no-balls in an inning, a model that says `Yes` all the time will have\n",
    "95% accuracy.\n",
    "- Using accuracy as performance metric, we can say that a model is very accurate, but it is not useful or valuable in fact.\n",
    "\n",
    "**Why?**\n",
    "\n",
    "- Total points: 315 (assuming other balls are legal ☺)\n",
    "- No-ball label: Class 0 (4.76% are from this class)\n",
    "- Not a no-ball label: Class 1 (95.24% are from this class)"
   ]
  },
  {
   "cell_type": "markdown",
   "id": "2565841c",
   "metadata": {},
   "source": [
    "### TP, TN, FP and FN:\n",
    "- Consider a binary classification problem.\n",
    "$$D = \\{(\\mathbf{x_1},y_1), (\\mathbf{x_2},y_2),.....(\\mathbf{x_n},y_n) \\} \\subseteq \\mathbf{X}^d x Y$$\n",
    "\n",
    "$$y = \\{ 0,1 \\}$$\n",
    "\n",
    "Where:\n",
    "    -  Referring 0 as Negative, 1 as Positive\n",
    "    - $y$ is Actual labels, Ground Truth, Gold Labels or Standards\n",
    "    \n",
    "We have a classifier (hypothesis function) $ h{(\\mathbf{x})} = \\hat y$.\n",
    "\n",
    "   - $y, \\hat y$ - Positive (1) or Negative (0)\n",
    "   - $\\hat y$ is `True` if $\\hat y = y$\n",
    "   - $\\hat y$ is `False` if $\\hat \\neq y$\n",
    "   \n",
    "- **TP**: True Positive. Number of points with `y=1` and are classified as $\\hat y = 1$ \n",
    "- **TN**: True Negative. Number of points with `y=0` and are classified as $\\hat y = 0$ \n",
    "- **TP**: False Positive. Number of points with `y=0` and are classified as $\\hat y = 1$ \n",
    "- **TP**: False Negative. Number of points with `y=1` and are classified as $\\hat y = 0$ "
   ]
  },
  {
   "cell_type": "markdown",
   "id": "f1d5972a",
   "metadata": {},
   "source": [
    "### Example\n",
    "- Predict if a bowler will not bowl a no-ball?\n",
    "    - 15 no-balls in an inning (Total balls: 315)\n",
    "    - Bowl no-ball (Class 0), Bowl regular ball (Class 1)\n",
    "    - Model(*) predicted 10 no-balls (8 correct predictions, 2 incorrect)\n",
    "        - TP - 298\n",
    "        - TN - 8\n",
    "        - FP - 7\n",
    "        - FN - 2\n",
    "        \n",
    "> **Note:** Assume you have a model that has been observing the bowlers for the last 15 years and used these observations for learning."
   ]
  },
  {
   "cell_type": "markdown",
   "id": "263e00ee",
   "metadata": {},
   "source": [
    "### Confusion Matrix (Contingency Table):\n",
    "- (TP; TN; FP; FN); usefully summarized in a table, referred to as confusion matrix:\n",
    "    - the rows correspond to predicted class ($\\hat y$)\n",
    "    - and the columns to true class (𝑦)\n",
    "    \n",
    "<img src=\"images/p71.png\" align=\"center\" height=700px width=700px>\n",
    "\n",
    "**Example 1:**\n",
    "- **Disease Detection** : Given pathology reports and scans, predict heart disease\n",
    "- Yes: 1, No: 0\n",
    "\n",
    "<img src=\"images/p72.png\" align=\"right\"  width=500px height=500px>\n",
    "\n",
    "**Interpretation:**\n",
    "\n",
    "Out of 165 cases\n",
    "- Predicted: `Yes` 110 times, and `No` 55 times.\n",
    "- In reality: `Yes` 105 times, and `No` 60 times.\n",
    "\n",
    "&emsp;&emsp;&emsp;&emsp;&emsp;&emsp;&emsp;\n",
    "&emsp;&emsp;&emsp;&emsp;&emsp;&emsp;&emsp;\n",
    "&emsp;&emsp;&emsp;&emsp;&emsp;&emsp;&emsp;\n",
    "&emsp;&emsp;&emsp;&emsp;&emsp;&emsp;&emsp;\n",
    "&emsp;&emsp;&emsp;&emsp;&emsp;&emsp;&emsp;\n",
    "&emsp;&emsp;&emsp;&emsp;&emsp;&emsp;&emsp;\n",
    "\n",
    "**Example 2:**\n",
    "\n",
    "- Predict if a bowler will not bowl a `no-ball`?\n",
    "<img src=\"images/p73.png\" align=\"right\"  width=500px height=500px>\n",
    "\n",
    "**Interpretation :**\n",
    "- Out of 315 balls, we had 15 no-balls.\n",
    "    - Model predicted 305 regular balls and 10 no-balls (8 correct predictions, 2 incorrect)."
   ]
  },
  {
   "cell_type": "code",
   "execution_count": 45,
   "id": "13c8ec8e",
   "metadata": {},
   "outputs": [],
   "source": [
    "# Implementation of TP,TN,FP,FN"
   ]
  },
  {
   "cell_type": "code",
   "execution_count": 46,
   "id": "4259a012",
   "metadata": {},
   "outputs": [
    {
     "name": "stdout",
     "output_type": "stream",
     "text": [
      "[[4 1]\n",
      " [0 5]]\n",
      "TP: 4, TN: 5, FP: 1, FN: 0\n"
     ]
    }
   ],
   "source": [
    "from sklearn.metrics import confusion_matrix\n",
    "\n",
    "# Load the predicted and actual class labels\n",
    "predictions = [1, 0, 1, 1, 0, 0, 1, 0, 1, 1]\n",
    "actual = [1, 0, 1, 1, 0, 0, 0, 0, 1, 1]\n",
    "\n",
    "# Create a confusion matrix\n",
    "conf_matrix = confusion_matrix(actual, predictions)\n",
    "print(conf_matrix)\n",
    "\n",
    "# Calculate TP, TN, FP, and FN\n",
    "TP = conf_matrix[0, 0]\n",
    "TN = conf_matrix[1, 1]\n",
    "FP = conf_matrix[0, 1]\n",
    "FN = conf_matrix[1, 0]\n",
    "print(f\"TP: {TP}, TN: {TN}, FP: {FP}, FN: {FN}\")\n"
   ]
  },
  {
   "cell_type": "markdown",
   "id": "a85d00d5",
   "metadata": {},
   "source": [
    "<h3 align=\"center\">Metrics using Confusion Matrix</h3>\n",
    "\n",
    "<img src=\"images/p74.png\" align=\"right\">\n",
    "\n",
    "- **Accuracy:** Overall, how frequently is the classifier correct?\n",
    "\n",
    "    $$Accuracy = \\frac{TP+TN}{Total} = \\frac {TP+TN}{P+N}$$\n",
    "    \n",
    "- **Misclassification or Error Rate:** Overall, how frequently is it wrong?\n",
    "\n",
    "    $$Error Rate = 1-  Accuracy$$\n",
    "    \n",
    "- **Sensitivity or Recall or True Positive Rate (TPR):** How often does it predict Positive when it is actually Positive?\n",
    "\n",
    "$$TPR = S_e = \\frac{TP}{TP+FN} = \\frac{TP}{P}$$\n",
    "\n",
    "- **False Positive Rate:** Actual Negative, how often does it predict Positive?\n",
    "$$FPR = \\frac{FP}{TN+FP} = \\frac{FP}{N}$$\n",
    "\n",
    "- **Specificity or True Negative Rate (TNR):** When it's actually Negative, how often does it predict Negative?\n",
    "\n",
    "$$TNR = S_p = \\frac{TN}{TN+FP} = \\frac{TN}{N} = 1 - FPR$$\n",
    "\n",
    "- **Precision:** When it predicts Positive, how often is it Positive?\n",
    "$$Precision = \\frac {TP}{TP+FP}$$\n",
    "\n",
    "<img src=\"images/p74.jpg\">"
   ]
  },
  {
   "cell_type": "markdown",
   "id": "6178e83f",
   "metadata": {},
   "source": [
    "### Example: Disease Prediction\n",
    "<img src=\"images/p75.png\" align =\"right\">\n",
    "\n",
    "- **Accuracy:** Disease/Healthy prediction accuracy\n",
    "\n",
    "$$Accuracy = \\frac{TP+TN}{Total} = \\frac {TP+TN}{P+N} = (100+50)/165 = 0.91$$\n",
    "\n",
    "\n",
    "- **Misclassification or Error Rate:** Disease/Healthy prediction accuracy.\n",
    "\n",
    "$$Error Rate = 1-  Accuracy = 1 - 0.91 = 0.09$$\n",
    "\n",
    "- **Sensitivity or Recall or True Positive Rate (TPR):** When it's positive, how often does the model detected disease?\n",
    "\n",
    "$$TPR = S_e = \\frac{TP}{TP+FN} = \\frac{TP}{P} = 100/105 = 0.95$$\n",
    "\n",
    "- **False Positive Rate:** Actually heathy, how often does it predict yes?\n",
    "\n",
    "$$FPR = \\frac{FP}{TN+FP} = \\frac{FP}{N} = 10/60 = 0.17$$\n",
    "\n",
    "\n",
    "- **Specificity or True Negative Rate (TNR):** When it's actually health, how often does it predict healthy?\n",
    "\n",
    "$$TNR = S_p = \\frac{TN}{TN+FP} = \\frac{TN}{N} = 1 - FPR = 1 - 0.17 = 0.83$$\n",
    "\n",
    "- **Precision:** When it predicts disease, how often is it correct?\n",
    "\n",
    "$$Precision = \\frac {TP}{TP+FP} = 100/110 = 0.91$$\n"
   ]
  },
  {
   "cell_type": "code",
   "execution_count": 47,
   "id": "e613de4f",
   "metadata": {},
   "outputs": [],
   "source": [
    "# Implementation of Metric using Confusion Matrix"
   ]
  },
  {
   "cell_type": "code",
   "execution_count": 51,
   "id": "28f71bc3",
   "metadata": {},
   "outputs": [
    {
     "name": "stdout",
     "output_type": "stream",
     "text": [
      "Accuracy: 0.90\n",
      "Precision: 0.80\n",
      "Recall: 1.00\n"
     ]
    }
   ],
   "source": [
    "from sklearn.metrics import confusion_matrix\n",
    "\n",
    "# Load the predicted and actual class labels\n",
    "predictions = [1, 0, 1, 1, 0, 0, 1, 0, 1, 1]\n",
    "actual = [1, 0, 1, 1, 0, 0, 0, 0, 1, 1]\n",
    "\n",
    "# Create a confusion matrix\n",
    "conf_matrix = confusion_matrix(actual, predictions)\n",
    "\n",
    "# Calculate TP, TN, FP, and FN\n",
    "TP = conf_matrix[0, 0]\n",
    "TN = conf_matrix[1, 1]\n",
    "FP = conf_matrix[0, 1]\n",
    "FN = conf_matrix[1, 0]\n",
    "\n",
    "# Calculate the accuracy\n",
    "accuracy = (TP + TN) / (TP + TN + FP + FN)\n",
    "print(f\"Accuracy: {accuracy:.2f}\")\n",
    "\n",
    "# Calculate the precision\n",
    "precision = TP / (TP + FP)\n",
    "print(f\"Precision: {precision:.2f}\")\n",
    "\n",
    "# Calculate the recall\n",
    "recall = TP / (TP + FN)\n",
    "print(f\"Recall: {recall:.2f}\")\n"
   ]
  },
  {
   "cell_type": "markdown",
   "id": "052c713b",
   "metadata": {},
   "source": [
    "<h3 align=\"center\">Confusion Matrix : Precision and Sensitivity (Recall) Trade-off</h3>\n",
    "\n",
    "**Disease Detection:**\n",
    "- **Sensitivity or Recall or True Positive Rate (TPR):** How often does it predict Positive when it is actually Positive?\n",
    "\n",
    "$$TPR = S_e = \\frac{TP}{TP+FN} = \\frac{TP}{P}$$\n",
    "\n",
    "\n",
    "- **Precision:** When it predicts Positive, how often is it Positive?\n",
    "$$Precision = \\frac {TP}{TP+FP}$$\n",
    "\n",
    "\n",
    "- **Recall or Sensitivity ($S_e$);** how good we are at detecting `diseased` people.\n",
    "\n",
    "- **Precision:** How many have been correctly diagnosed as unhealthy.\n",
    "\n",
    "- If we have diagnosed everyone unhealthy, $S_e=1$ (diagnose all unhealthy people correctly) but `Precision may be low` (because TN=0 that increases the value of FP).\n",
    "\n",
    "- We want high Precision and high $S_e$ (=1, Ideally).\n",
    "\n",
    "- We should combine precision and sensitivity to evaluate the performance of classifier.\n",
    "    - F1-Score"
   ]
  },
  {
   "cell_type": "markdown",
   "id": "27ac4be1",
   "metadata": {},
   "source": [
    "<h3 align=\"center\">Confusion Matrix : Sensitivity  and Specificity Trade-off</h3>\n",
    "\n",
    "**Disease Detection:**\n",
    "- **Sensitivity or Recall or True Positive Rate (TPR):** How often does it predict Positive when it is actually Positive?\n",
    "\n",
    "$$TPR = S_e = \\frac{TP}{TP+FN} = \\frac{TP}{P}$$\n",
    "\n",
    "- **Specificity or True Negative Rate (TNR):** When it's actually Negative, how often does it predict Negative?\n",
    "\n",
    "$$TNR = S_p = \\frac{TN}{TN+FP} = \\frac{TN}{N} = 1 - FPR$$\n",
    "\n",
    "- $S_p$ and $S_e$; how good we are at detecting `healthy` and `diseased` people, respectively.\n",
    "- If we have diagnosed everyone healthy, $S_p=1$ (diagnose all healthy people correctly) but $S_e=0$ (diagnose all unhealthy people incorrectly)\n",
    "- Ideally: we want $S_p= S_e= 1$ (perfect sensitivity and specificity) but unrealistic.\n",
    "\n",
    "**How optimal a pair of sensitivity, specificity values is?**\n",
    "\n",
    "- Is $S_p= 0.8$, $S_e= 0.7$ better than $S_p= 0.7$, $S_e= 0.8$?\n",
    "\n",
    "- The answer depends on the application.\n",
    "- In disease diagnosis;\n",
    "     - happy to reduce $S_p$ in order to increase $S_e$.\n",
    "- In other applications, we may have different requirements.\n",
    "- `Trade-off` is better explained by ROC curve and AUC.\n",
    "\n",
    "<img src=\"images/p76.png\" align=\"center\" height=500px width=500px>\n",
    "\n",
    "- In case of True Negative: $S_e = 1$\n",
    "- In case of True Positive: $S_p = 1$"
   ]
  },
  {
   "cell_type": "markdown",
   "id": "1f9288d8",
   "metadata": {},
   "source": [
    "<h3 align=\"center\"> Confusion Matrix: ROC (Receiver Operating Characteristic) Curve</h3>\n",
    "\n",
    "- Plot of `TPR` (Sensitivity) against `FPR` (1 – Specificity) for different values of `threshold`. Also referred to as `Sensitivity`-`(1-Specificity)` plot.\n",
    "- Threshold of `0.0`, every case is diagnosed as positive.\n",
    "    - $S_e$ = TPR = 1\n",
    "    - FPR = 1\n",
    "    - $S_p$ = 0\n",
    "- Threshold of `1.0`, every case is diagnosed as negative.\n",
    "- $S_e$= TPR = 0\n",
    "- FPR = 0\n",
    "- $S_p$= 1\n",
    "\n",
    "<img src=\"images/p76.png\" align=\"center\" height=500px width=500px>\n"
   ]
  },
  {
   "cell_type": "markdown",
   "id": "c33db303",
   "metadata": {},
   "source": [
    "<h3 align=\"center\">Confusion Matrix: ROC Curve and AUC </h3>\n",
    "    \n",
    "- `TPR` (Sensitivity): how many correct positive results\n",
    "occur among all positive samples.\n",
    "\n",
    "- `FPR` (1 – Specificity): how many incorrect positive\n",
    "results occur among all negative samples.\n",
    "\n",
    "- The best possible prediction method\n",
    "    - $S_e$ = $S_p$ = 1 (Upper left corner of ROC space)\n",
    "- Random guess; a point along a diagonal line (the so-called line of no-discrimination), No Power!\n",
    "- Area Under the ROC Curve, abbreviated as (AUC) quantifies the power of the classifier.\n",
    "\n",
    "<img src=\"images/p77.png\" align=\"center\" height=400px width=400px>\n"
   ]
  },
  {
   "cell_type": "markdown",
   "id": "80eefdc2",
   "metadata": {},
   "source": [
    "<h3 align=\"center\"> Practical Implementation Issues: ROC, PR Curves, AUC, EER</h3>\n",
    "\n",
    "<img src=\"images/file.png\">\n",
    "\n",
    "\n",
    "- `Precision` aka `Positive Predictive Value`.\n",
    "- `Recall` aka `Sensitivity` aka `True Positive Rate` or `True Acceptance Rate`.\n",
    "- `Specificity` aka `True Negative Rate` or `True Rejection Rate`.\n",
    "\n",
    "- Sensitivity, specificity, FNR and FPR are not influenced by real-world data imbalances\n",
    "    - These imbalances impact the denominators\n",
    "    - E.g. a rare disease, or a rare phenomena (like a fraud email)\n",
    "    \n",
    "|Example|Actual + |Actual -|\n",
    "|-------|---------|--------|\n",
    "|Test + | 5       | 5000   |\n",
    "|Test - | 5       | 5000   |\n",
    "\n",
    "- Sensitivity = 5/10 = 0.5\n",
    "- Precision = 5/5+5000 = 0.0009\n",
    "\n",
    "> **Note:** Precision and Negative Predictive Value are impacted by these imbalances and are sensitive to them."
   ]
  },
  {
   "cell_type": "markdown",
   "id": "55ecd0fe",
   "metadata": {},
   "source": [
    "#### The Thresholding Problem in Classification\n",
    "\n",
    "In classification tasks, the thresholding problem refers to the issue of deciding at what threshold to classify a predicted probability as a positive or negative case. For example, in a binary classification task, if the predicted probability of a positive case is greater than some threshold, the model might classify the case as positive, while if the predicted probability is below the threshold, the model might classify it as negative.\n",
    "\n",
    "There are several factors to consider when choosing the classification threshold:\n",
    "\n",
    "- **Sensitivity vs. specificity:** A higher threshold will result in higher specificity (lower false positive rate) but lower sensitivity (lower true positive rate), and vice versa.\n",
    "\n",
    "- **Cost of false positives vs. false negatives:** In some cases, it may be more important to minimize false positives or false negatives, depending on the consequences of making these types of errors. For example, if a medical test has high false negative rate, it could result in missed diagnoses, while a high false positive rate could lead to unnecessary treatment or procedures.\n",
    "\n",
    "- **Data imbalance:** If the data is imbalanced (e.g., there are more negative cases than positive cases), the optimal threshold may be different than if the data were balanced.\n",
    "\n",
    "Ultimately, the choice of threshold will depend on the specific goals of the model and the characteristics of the data. It is often useful to visualize the trade-offs between sensitivity and specificity at different thresholds to help choose the optimal threshold for a given model.\n",
    "\n",
    "\n",
    "#### Question: How to choose the optimal threshold for a given model?\n",
    "\n",
    "**Answer:**\n",
    "\n",
    "- The most common method for classification threshold selection is plotting the `ROC curve`. ROC plots the `true positive rate` (TPR=TPTP + FN) and `false positive rate` (FPR=FPFP + TN) at all classification thresholds. \n",
    "\n",
    "<img src=\"images/p14.webp\">\n",
    "\n",
    "- The ROC curve gives a quick visual understanding of the classifier’s accuracy. The closer to a right angle the curve, the more accurate the model. The classification threshold that returns the upper-left corner of the curve—minimizing the difference between `TPR` and `FPR` is the optimal threshold.\n",
    "\n",
    "\n",
    "- Additional methods to select the desired threshold value in include:\n",
    "    - Plotting the precision-recall curve\n",
    "    - Performing model evaluation on multiple thresholds via grid search performance, including visualizing the confusion matrix\n",
    "\n",
    "\n",
    "\n",
    "### Characteristics of ROC Curve\n",
    "- The best possible prediction method would yield a point in the upper left corner (0,1) i.e.100% `sensitivity` (no false negatives) and 100% `specificity` (no false positives)\n",
    "- A random guess would give a point along a diagonal line (the line of no-discrimination) from the left bottom to the top right corners `(TPR = FPR)`\n",
    "- The **red diagonal** divides the ROC space.\n",
    "    - Points above the diagonal represent good classification (better than random)\n",
    "    - Points below the line represent bad results (worse than random)\n",
    "    - The output of a consistently bad predictor could simply be inverted to obtain a good predictor.\n",
    "\n",
    "- The blue diagonal is the Equal Error Diagonal\n",
    "    - Here `FPR = FNR`\n",
    "        - Where FNR = 1-TPR\n",
    "    - A viable way to locate desired threshold\n",
    "    - Smaller is better (in the graph: higher and to the left)\n",
    "    \n",
    "<img src=\"images/p95.png\" height=400px width=400px>\n",
    "\n",
    "\n",
    "### More Characteristics\n",
    "- It is hard to compare classifiers using ROC curves\n",
    "- A way around that is to use AUC – Area under the ROC Curve.\n",
    "    - Larger is better.\n",
    "- The Area Under the ROC Curve `(AUC)`, and the Equal Error Rate `(EER)` are two performancemeasure derived from the ROC that are typically used to compare the perfor-mance of diﬀerent experts. The AUC is the area under the ROC curve, **the larger the AUC**, **the better the ROC**. The `EER` represents the point where the false positive rate and the false negative rate are equal, and a good system should keep this value as small as possible.\n",
    "\n",
    "<img src=\"images/p96.png\">\n",
    "\n",
    "\n",
    "- `AUC ROC can be interpreted as the probability that the scores given by a classifier will rank a randomly chosen positive instance higher than a randomly chosen negative one.` (Page 54, Learning from Imbalanced Data Sets, 2018)\n",
    "\n",
    "- **For imbalanced datasets:** `ROC analysis does not have any bias toward models that perform well on the minority class at the expense of the majority class—a property that is quite attractive when dealing with imbalanced data.` (Page 27, Imbalanced Learning: Foundations, Algorithms, and Applications, 2013)"
   ]
  },
  {
   "cell_type": "markdown",
   "id": "bdbeb8f5",
   "metadata": {},
   "source": [
    "### How to speculate about the performance of the model?\n",
    "- An excellent model has AUC near to the `1` which means it has a good measure of separability. A poor model has an AUC near `0` which means it has the worst measure of separability. In fact, it means it is reciprocating the result. It is predicting 0s as 1s and 1s as 0s. And when AUC is `0.5`, it means the model has no class separation capacity whatsoever. \n",
    "- As we know, ROC is a curve of probability. So let's plot the distributions of those probabilities. **Note:** `Red` distribution curve is of the positive class (patients with disease) and the `green` distribution curve is of the negative class(patients with no disease).\n",
    "\n",
    "**Case 1:**\n",
    "- This is an ideal situation. When two curves don’t overlap at all means model has an ideal measure of separability. It is perfectly able to distinguish between positive class and negative class.\n",
    "\n",
    "<img src=\"images/p15.webp\">\n",
    "\n",
    "**Case 2:**\n",
    "- When two distributions overlap, we introduce type 1 and type 2 errors. Depending upon the threshold, we can minimize or maximize them. When AUC is 0.7, it means there is a 70% chance that the model will be able to distinguish between positive class and negative class.\n",
    "\n",
    "<img src=\"images/p16.webp\">\n",
    "\n",
    "\n",
    "**Case 3:**\n",
    "- This is the worst situation. When AUC is approximately 0.5, the model has no discrimination capacity to distinguish between positive class and negative class.\n",
    "\n",
    "<img src=\"images/p17.webp\">\n",
    "\n",
    "**Case 4:**\n",
    "- When AUC is approximately 0, the model is actually reciprocating the classes. It means the model is predicting a negative class as a positive class and vice versa.\n",
    "\n",
    "<img src=\"images/p18.webp\">\n",
    "\n",
    "\n",
    "\n",
    "#### The relation between Sensitivity, Specificity, FPR, and Threshold.\n",
    "\n",
    "- Sensitivity and Specificity are inversely proportional to each other. So when we increase Sensitivity, Specificity decreases, and vice versa.\n",
    "\n",
    "    Sensitivity⬆️, Specificity⬇️ and Sensitivity⬇️, Specificity⬆️\n",
    "\n",
    "\n",
    "- When we decrease the threshold, we get more positive values thus it increases the sensitivity and decreasing the specificity.\n",
    "\n",
    "- Similarly, when we increase the threshold, we get more negative values thus we get higher specificity and lower sensitivity. As we know FPR is 1 - specificity. So when we increase TPR, FPR also increases and vice versa.\n",
    "\n",
    "     TPR⬆️, FPR⬆️ and TPR⬇️, FPR⬇️\n",
    "     \n",
    "     \n",
    "**How to use the AUC ROC curve for the multi-class model?**\n",
    "\n",
    "- In a multi-class model, we can plot the `N number` of `AUC ROC Curves` for N number classes using the One vs ALL methodology. So for example, If you have three classes named X, Y, and Z, you will have one ROC for X classified against Y and Z, another ROC for Y classified against X and Z, and the third one of Z classified against Y and X."
   ]
  },
  {
   "cell_type": "code",
   "execution_count": 129,
   "id": "1db48e43",
   "metadata": {},
   "outputs": [
    {
     "name": "stdout",
     "output_type": "stream",
     "text": [
      "Sensitivity: 1.00\n",
      "Specificity: 0.83\n",
      "Precision: 0.80\n",
      "AUC-ROC: 0.90\n"
     ]
    },
    {
     "data": {
      "image/png": "[encoded data removed]",
      "text/plain": [
       "<Figure size 640x480 with 1 Axes>"
      ]
     },
     "metadata": {},
     "output_type": "display_data"
    }
   ],
   "source": [
    "from sklearn.metrics import confusion_matrix, roc_auc_score, roc_curve\n",
    "\n",
    "# Load the predicted and actual class labels\n",
    "predictions = [1, 0, 1, 1, 0, 0, 1, 0, 1, 1]\n",
    "actual = [1, 0, 1, 1, 0, 0, 0, 0, 1, 1]\n",
    "\n",
    "# Create a confusion matrix\n",
    "conf_matrix = confusion_matrix(actual, predictions)\n",
    "\n",
    "# Calculate TP, TN, FP, and FN\n",
    "TP = conf_matrix[0, 0]\n",
    "TN = conf_matrix[1, 1]\n",
    "FP = conf_matrix[0, 1]\n",
    "FN = conf_matrix[1, 0]\n",
    "\n",
    "# Calculate sensitivity (recall)\n",
    "sensitivity = TP / (TP + FN)\n",
    "print(f\"Sensitivity: {sensitivity:.2f}\")\n",
    "\n",
    "# Calculate specificity\n",
    "specificity = TN / (TN + FP)\n",
    "print(f\"Specificity: {specificity:.2f}\")\n",
    "\n",
    "# Calculate precision\n",
    "precision = TP / (TP + FP)\n",
    "print(f\"Precision: {precision:.2f}\")\n",
    "\n",
    "# Calculate the AUC-ROC\n",
    "auc = roc_auc_score(actual, predictions)\n",
    "print(f\"AUC-ROC: {auc:.2f}\")\n",
    "\n",
    "# Calculate the ROC curve\n",
    "fpr, tpr, thresholds = roc_curve(actual, predictions)\n",
    "\n",
    "# Plot the ROC curve\n",
    "plt.plot(fpr, tpr, 'b')\n",
    "plt.plot([0, 1], [0, 1],'r--')\n",
    "plt.xlim([0, 1])\n",
    "plt.ylim([0, 1])\n",
    "plt.ylabel('True Positive Rate')\n",
    "plt.xlabel('False Positive Rate')\n",
    "plt.title(\"ROC Curve\")\n",
    "plt.show()"
   ]
  },
  {
   "cell_type": "code",
   "execution_count": 127,
   "id": "3b243fd3",
   "metadata": {},
   "outputs": [
    {
     "data": {
      "image/png": "[encoded data removed]",
      "text/plain": [
       "<Figure size 640x480 with 1 Axes>"
      ]
     },
     "metadata": {},
     "output_type": "display_data"
    }
   ],
   "source": [
    "from sklearn.datasets import make_classification\n",
    "from sklearn.metrics import roc_auc_score, roc_curve\n",
    "from sklearn.linear_model import LogisticRegression\n",
    "\n",
    "# Generate synthetic data\n",
    "X, y = make_classification(n_samples=1000, n_features=10, n_classes=2, random_state=42)\n",
    "\n",
    "# Split the data into training and test sets\n",
    "X_train, X_test, y_train, y_test = train_test_split(X, y, test_size=0.2, random_state=42)\n",
    "\n",
    "# Train a logistic regression model\n",
    "model = LogisticRegression(random_state=42)\n",
    "model.fit(X_train, y_train)\n",
    "\n",
    "# Make predictions on the test set\n",
    "y_pred = model.predict_proba(X_test)[:, 1]\n",
    "\n",
    "# Calculate the AUC score\n",
    "auc = roc_auc_score(y_test, y_pred)\n",
    "\n",
    "# Calculate the false positive rate and true positive rate\n",
    "fpr, tpr, thresholds = roc_curve(y_test, y_pred)\n",
    "\n",
    "# Plot the ROC curve\n",
    "plt.plot(fpr, tpr)\n",
    "plt.xlabel(\"False Positive Rate\")\n",
    "plt.ylabel(\"True Positive Rate\")\n",
    "plt.title(f\"ROC curve (AUC = {auc:.2f})\")\n",
    "plt.show()\n"
   ]
  },
  {
   "cell_type": "markdown",
   "id": "34d8419f",
   "metadata": {},
   "source": [
    "> **Note:** In above example, we generated synthetic data, split it into training and test sets, trained a logistic regression model, made predictions on the test set, calculated the AUC score, calculated the false positive rate and true positive rate, and plotted the ROC curve. The ROC curve shows the trade-off between the false positive rate and the true positive rate for different threshold values. A high true positive rate means that the model is good at identifying positive examples, while a low false positive rate means that the model is good at avoiding false positives. The AUC score is the area under the ROC curve, which can be interpreted as the probability that the model will rank a randomly chosen positive example higher than a randomly chosen negative example. AUC ranges from 0 to 1, with a higher value indicating a better model."
   ]
  },
  {
   "cell_type": "markdown",
   "id": "cc53d243",
   "metadata": {},
   "source": [
    "### Precision-Recall Curve\n",
    "- The precision-recall curve shows the tradeoff between precision and recall for different thresholds. A high area under the curve represents both high recall and high precision\n",
    "- High scores for both show that the classifier is returning accurate results (high precision), as well as returning a majority of all positive results (high recall).\n",
    "\n",
    "<img src=\"images/p19.webp\" height=500px width=500px>"
   ]
  },
  {
   "cell_type": "code",
   "execution_count": 126,
   "id": "55205551",
   "metadata": {},
   "outputs": [
    {
     "data": {
      "image/png": "[encoded data removed]",
      "text/plain": [
       "<Figure size 640x480 with 1 Axes>"
      ]
     },
     "metadata": {},
     "output_type": "display_data"
    }
   ],
   "source": [
    "from sklearn.datasets import make_classification\n",
    "from sklearn.metrics import precision_recall_curve\n",
    "from sklearn.linear_model import LogisticRegression\n",
    "\n",
    "X, y = make_classification(n_samples=1000, n_features=10, n_classes=2, random_state=42)\n",
    "\n",
    "# Split the data into training and test sets\n",
    "X_train, X_test, y_train, y_test = train_test_split(X, y, test_size=0.2, random_state=42)\n",
    "\n",
    "# Train a logistic regression model\n",
    "model = LogisticRegression(random_state=42)\n",
    "model.fit(X_train, y_train)\n",
    "\n",
    "# Make predictions on the test set\n",
    "y_pred = model.predict_proba(X_test)[:, 1]\n",
    "\n",
    "# Calculate the precision and recall\n",
    "precision, recall, thresholds = precision_recall_curve(y_test, y_pred)\n",
    "\n",
    "# Plot the Precision-Recall curve\n",
    "plt.plot(recall, precision)\n",
    "plt.xlabel(\"Recall\")\n",
    "plt.ylabel(\"Precision\")\n",
    "plt.title(\"Precision-Recall curve\")\n",
    "plt.show()\n"
   ]
  },
  {
   "cell_type": "markdown",
   "id": "37641992",
   "metadata": {},
   "source": [
    "### Discussion: PR vs ROC\n",
    "\n",
    "- Assuming a `positive` class 1 and a `negative` class 0. $\\hat y$ is our estimate of the true class label y.\n",
    "$$\n",
    "\\mathbf{Precision} = P(y = 1|\\hat y = 1) \\newline\n",
    "\\mathbf{Recall} = \\mathbf{Sensitivity} = P(\\hat y= 1|y = 1) \\newline\n",
    "\\mathbf{Specificity} = P(\\hat y = 0|y = 0) \\newline\n",
    "$$\n",
    "\n",
    "- $P(y = 1)$ is the baseline probability depending on how common the event is in the real world\n",
    "- $P(\\hat y = 1)$ is the probability that our classifier will classify a sample as positive\n",
    "- `ROC` curves will be the same regardless of P(y = 1)\n",
    "- `PR` curves may be more useful in practice for `needle-in-haystack` type problems or problems where the `positive` class is more interesting than the negative class.\n",
    "\n",
    "**Bottomline:**\n",
    "\n",
    "- Use precision and recall to focus on a small positive class\n",
    "    - When $P(y = 1)$ is low and the ability to detect correctly positive samples is our main focus (correct detection of negatives examples is less important to the problem).\n",
    "\n",
    "- Use ROC when both the detection of both classes is equally important\n",
    "    - When we want to give equal weight to the prediction ability of both classes.\n",
    "- Use ROC when the positives are the majority or switch the labels and use precision and recall\n",
    "    - When the positive class is larger, use the ROC metrics because the precision and recall would reflect mostly the ability of prediction of the positive class and not the negative class which will naturally be harder to detect due to the smaller number of samples.\n",
    "    - If the negative class (the minority in this case) is more important, we can switch the labels and use precision and recall.\n",
    "    \n",
    "**Further Reading:**\n",
    "\n",
    "- https://stats.stackexchange.com/questions/7207/roc-vs-precision-and-recall-curves, \n",
    "- https://towardsdatascience.com/what-metrics-should-we-use-on-imbalanced-data-set-precision-recall-roc-e2e79252aeba  "
   ]
  },
  {
   "cell_type": "markdown",
   "id": "16037c89",
   "metadata": {},
   "source": [
    "> **Note:** Precision-Recall (PR) curves and Receiver Operating Characteristic (ROC) curves are two common evaluation metrics for binary classification models. PR curves show the trade-off between precision and recall for different threshold values, while ROC curves show the trade-off between the false positive rate and the true positive rate for different threshold values."
   ]
  },
  {
   "cell_type": "code",
   "execution_count": 132,
   "id": "586ab9ae",
   "metadata": {},
   "outputs": [
    {
     "data": {
      "image/png": "[encoded data removed]",
      "text/plain": [
       "<Figure size 640x480 with 1 Axes>"
      ]
     },
     "metadata": {},
     "output_type": "display_data"
    },
    {
     "data": {
      "image/png": "[encoded data removed]",
      "text/plain": [
       "<Figure size 640x480 with 1 Axes>"
      ]
     },
     "metadata": {},
     "output_type": "display_data"
    }
   ],
   "source": [
    "from sklearn.datasets import make_classification\n",
    "from sklearn.metrics import precision_recall_curve, roc_auc_score, roc_curve\n",
    "from sklearn.linear_model import LogisticRegression\n",
    "\n",
    "X, y = make_classification(n_samples=1000, n_features=10, n_classes=2, random_state=42)\n",
    "\n",
    "# Split the data into training and test sets\n",
    "X_train, X_test, y_train, y_test = train_test_split(X, y, test_size=0.2, random_state=42)\n",
    "\n",
    "# Train a logistic regression model\n",
    "model = LogisticRegression(random_state=42)\n",
    "model.fit(X_train, y_train)\n",
    "\n",
    "# Make predictions on the test set\n",
    "y_pred = model.predict_proba(X_test)[:, 1]\n",
    "\n",
    "# Calculate the AUC score\n",
    "auc = roc_auc_score(y_test, y_pred)\n",
    "\n",
    "# Calculate the precision and recall\n",
    "precision, recall, thresholds = precision_recall_curve(y_test, y_pred)\n",
    "\n",
    "# Calculate the false positive rate and true positive rate\n",
    "fpr, tpr, thresholds = roc_curve(y_test, y_pred)\n",
    "\n",
    "# Plot the Precision-Recall curve\n",
    "plt.plot(recall, precision)\n",
    "plt.xlabel(\"Recall\")\n",
    "plt.ylabel(\"Precision\")\n",
    "plt.title(\"Precision-Recall curve\")\n",
    "plt.show()\n",
    "\n",
    "# Plot the ROC curve\n",
    "plt.plot(fpr, tpr)\n",
    "plt.xlabel(\"False Positive Rate\")\n",
    "plt.ylabel(\"True Positive Rate\")\n",
    "plt.title(f\"ROC curve (AUC = {auc:.2f})\")\n",
    "plt.show()\n"
   ]
  },
  {
   "cell_type": "markdown",
   "id": "893529bd",
   "metadata": {},
   "source": [
    "### Evaluation of Classifiers : More than 2 Classes\n",
    "\n",
    "- Lots of classification tasks in language processing have more than two classes:\n",
    "    - Sentiment analysis (positive, negative, neutral),\n",
    "    - Part-of-speech tagging (|POS tags|)\n",
    "    - Word sense disambiguation (|word senses|)\n",
    "    - Emotion detection (|emotions|)\n",
    "    \n",
    "#### More Than Two Classes: Sets of binary classifiers(Multi-Label)\n",
    "\n",
    "- Any-of or multi-label classification\n",
    "    - An instance can belong to 0, 1, or more than one classes.\n",
    "- For each class c∈C\n",
    "    - Build a binary classifier $h_c$ to distinguish c from all other classes $c’∈C$ (c vs not c)\n",
    "- Given test instance d,\n",
    "    - Evaluate it for membership in each class using each $h_c$\n",
    "    - `d` belongs to any class for which $h_c$ returns true\n",
    "    \n",
    "#### More Than Two Classes: Sets of binary classifiers(Multi-Nomial)\n",
    "\n",
    "- One-of or multinomial classification\n",
    "    - Classes are mutually exclusive: each instance in exactly one class\n",
    "- For each class $c∈C$\n",
    "    - Build a classifier $h_c$ to distinguish `c` from all other classes $c’∈C$.\n",
    "\n",
    "- Given test instance d,\n",
    "    - Evaluate it for membership in each class using each $h_c$\n",
    "    - `d` belongs to the one class with maximum score\n",
    "    \n",
    "    \n",
    "**Multi-nomial Classification:**\n",
    "- Predicting the type of fruit (apple, orange, or banana) based on features such as color, shape, and texture\n",
    "- Predicting the type of animal (cat, dog, or bird) based on features such as size, fur, and habitat\n",
    "\n",
    "**Multi-Label Classification:**\n",
    "- Predicting the tags for a blog post (e.g., machine learning, data science, programming)\n",
    "- Predicting the genres of a movie (e.g., action, comedy, drama, romance)\n",
    "- Predicting the labels for an image (e.g., car, person, tree, sky)\n",
    "\n",
    ">**Note:** In the multi-nomial classification, each fruit can belong to only one class (apple, orange, or banana). And, each animal can belong to only one class (cat, dog, or bird). In the  multi-label classification, each blog post can be associated with multiple tags. And, each movie can belong to multiple genres. In the third example of multi-label classification, each image can have multiple labels."
   ]
  },
  {
   "cell_type": "code",
   "execution_count": 140,
   "id": "13af3b16",
   "metadata": {},
   "outputs": [],
   "source": [
    "# Implementation of multinomial classification\n",
    "from sklearn.datasets import make_classification\n",
    "from sklearn.linear_model import LogisticRegression\n",
    "\n",
    "X, y = make_classification(n_samples=1000, n_features=10, n_classes=3, n_clusters_per_class=1, random_state=42)\n",
    "\n",
    "# Split the data into training and test sets\n",
    "X_train, X_test, y_train, y_test = train_test_split(X, y, test_size=0.2, random_state=42)\n",
    "\n",
    "model = LogisticRegression(random_state=42)\n",
    "model.fit(X_train, y_train)\n",
    "\n",
    "# Make predictions on the test set\n",
    "y_pred = model.predict(X_test)"
   ]
  },
  {
   "cell_type": "code",
   "execution_count": 146,
   "id": "484b67c8",
   "metadata": {},
   "outputs": [],
   "source": [
    "# # Implementation of multilabel classification\n",
    "# import numpy as np\n",
    "# from sklearn.datasets import make_multilabel_classification\n",
    "# from sklearn.linear_model import LogisticRegression\n",
    "\n",
    "# X, y = make_multilabel_classification(n_samples=1000, n_features=10, n_classes=3 ,random_state=42)\n",
    "\n",
    "# # Split the data into training and test sets\n",
    "# X_train, X_test, y_train, y_test = train_test_split(X, y, test_size=0.2, random_state=42)\n",
    "\n",
    "# model = LogisticRegression(random_state=42)\n",
    "# model.fit(X_train, y_train)\n",
    "\n",
    "# # Make predictions on the test set\n",
    "# y_pred = model.predict(X_test)\n"
   ]
  },
  {
   "cell_type": "markdown",
   "id": "6f03a971",
   "metadata": {},
   "source": [
    "### Evaluation: More than two classes\n",
    "\n",
    "**3-way one-of email categorization decision (urgent, normal,spam)**\n",
    "\n",
    "<img src=\"images/p98.png\">\n",
    "\n",
    "#### Micro- vs. Macro-Averaging\n",
    "- If we have more than one class, how do we combine multiple performance measures into one quantity?\n",
    "\n",
    "**Macro-averaging:** Compute performance for each class, then average.\n",
    "\n",
    "**Micro-averaging:** Collect decisions for all classes, compute contingency table, evaluate\n",
    "\n",
    "<img src=\"images/p99.png\">\n",
    "\n",
    "- A micro-average is dominated by the more frequent class (in this case spam)\n",
    "    - as the counts are pooled\n",
    "- he macro-average better reflects the statistics of the smaller classes,\n",
    "    - is more appropriate when performance on all the classes is equally important.\n",
    "    \n",
    "    \n",
    "- In classification tasks, micro-averaging and macro-averaging are two methods for calculating evaluation metrics such as precision, recall, and F1 score across multiple classes.\n",
    "\n",
    "    - In **micro-averaging**, the evaluation metric is calculated by summing the true positives, false positives, true negatives, and false negatives for all classes and dividing by the total number of examples. This approach weights each example equally, regardless of the class. Micro-averaging is appropriate when we want to give equal weight to all examples, regardless of the class distribution.\n",
    "\n",
    "    - In **macro-averaging**, the evaluation metric is calculated by averaging the evaluation metric for each class. This approach gives equal weight to each class, regardless of the number of examples in the class. Macro-averaging is appropriate when we want to give equal weight to all classes, regardless of the number of examples in each class.\n",
    "\n",
    "> **Note:** Which approach we choose depends on the needs of our application. If we want to give equal weight to all examples, regardless of the class distribution, we should use micro-averaging. If we want to give equal weight to all classes, regardless of the number of examples in each class, we should use macro-averaging."
   ]
  },
  {
   "cell_type": "code",
   "execution_count": 149,
   "id": "851c81e0",
   "metadata": {},
   "outputs": [
    {
     "name": "stdout",
     "output_type": "stream",
     "text": [
      "Micro-averaged Precision: 0.667\n",
      "Micro-averaged Recall: 0.667\n",
      "Micro-averaged F1 Score: 0.667\n",
      "Macro-averaged Precision: 0.833\n",
      "Macro-averaged Recall: 0.667\n",
      "Macro-averaged F1 Score: 0.667\n"
     ]
    }
   ],
   "source": [
    "from sklearn.metrics import precision_recall_fscore_support\n",
    "\n",
    "y_true = np.array([0, 0, 1, 1, 2, 2])\n",
    "y_pred = np.array([0, 1, 1, 1, 2, 1])\n",
    "\n",
    "# Calculate evaluation metrics\n",
    "precision, recall, f1, _ = precision_recall_fscore_support(y_true, y_pred, average='micro')\n",
    "print(f'Micro-averaged Precision: {precision:.3f}')\n",
    "print(f'Micro-averaged Recall: {recall:.3f}')\n",
    "print(f'Micro-averaged F1 Score: {f1:.3f}')\n",
    "\n",
    "precision, recall, f1, _ = precision_recall_fscore_support(y_true, y_pred, average='macro')\n",
    "print(f'Macro-averaged Precision: {precision:.3f}')\n",
    "print(f'Macro-averaged Recall: {recall:.3f}')\n",
    "print(f'Macro-averaged F1 Score: {f1:.3f}')\n"
   ]
  },
  {
   "cell_type": "markdown",
   "id": "a6342753",
   "metadata": {},
   "source": [
    "<h3 align=\"center\">Evaluation of Classifiers: The Gold Labels</h3>\n",
    "\n",
    "**The Output of a Classifier**\n",
    "\n",
    "<img src=\"images/p100.png\">\n",
    "\n",
    "- $\\mathbf{y}$ : Gold standards / Gold labels / Ground truth\n",
    "- $\\mathbf{\\vec h}$ : Predicted labels\n",
    "\n",
    "#### **(How) can we trust the Gold Labels?**\n",
    "\n",
    "- Objective data gathered from the real world:\n",
    "    - Measurement of heights, weights, weather phenomena\n",
    "        - Aberrations, sensor malfunctions and errors\n",
    "        \n",
    "- Subjective data, annotated by humans (experts or community)\n",
    "    - Tagging emotions, SPAM/HAM, sentiment, misinformation\n",
    "        - Errors of judgement, biases, human error\n",
    "        > For example, if an annotator is asked to label images of people based on their \n",
    "         gender, they may be influenced by societal biases and stereotypes.\n",
    "\n",
    "- Use multiple sources for each label\n",
    "    - Multiple sensors measuring the same phenomenon\n",
    "    - Multiple humans annotating the same data\n",
    "        - Inter-annotator agreements\n",
    "    - Resource intense\n",
    "        - Partial overlap of data\n",
    "        > For example, if a dataset has 95% negative examples and 5% positive examples, gold labels may be biased towards the negative class.\n",
    "\n",
    "- Is annotator agreement the answer to all our worries?\n",
    "    - Distribution of annotators\n",
    "    - Chance agreements\n",
    "\n",
    "\n",
    "**Answer:**\n",
    "- To address these issues, it is important to use multiple annotators, ensure that the annotators are trained and calibrated, and use techniques such as active learning to ensure that the gold labels are accurate and unbiased. It is also important to carefully consider the class distribution when generating gold labels and to apply techniques such as oversampling or undersampling to address class imbalance.\n",
    "    - Distribution of annotators\n",
    "    - Chance agreements"
   ]
  },
  {
   "cell_type": "markdown",
   "id": "321b1199",
   "metadata": {},
   "source": [
    "#### Gold Labels, Annotators and Agreement\n",
    "\n",
    "- **Gold labels** refer to the ground truth or true labels of a dataset. In supervised learning, gold labels are used to train and evaluate machine learning models. It is important to have accurate gold labels in order to train and evaluate machine learning models effectively.\n",
    "\n",
    "- **Annotators** are individuals who are responsible for labeling examples in a dataset. Annotators may be humans or machines, depending on the task.\n",
    "\n",
    "- **Agreement** refers to the level of consensus among annotators on the labels of a dataset. In other words, it measures how well the annotators agree on the labels of the examples. Agreement is typically measured using metrics such as `inter-rater reliability` or `kappa coefficient`.\n",
    "\n",
    "- Having high agreement among annotators is important because it ensures that the gold labels are accurate and reliable. If there is low agreement among annotators, it may indicate that the labeling process is subjective or that the annotators are making mistakes.\n",
    "\n",
    "**Note:**\n",
    "- To improve agreement among annotators, it is important to provide clear instructions and guidelines for the labeling task, to train and calibrate the annotators, and to use techniques such as active learning or crowd sourcing to gather multiple labels for each example. It is also important to carefully consider the complexity and subjectivity of the labeling task and to use appropriate metrics to measure agreement.\n",
    "\n",
    "**Multiple Annotators**\n",
    "\n",
    "<img src=\"images/p101.png\">\n"
   ]
  },
  {
   "cell_type": "markdown",
   "id": "f3ebb543",
   "metadata": {},
   "source": [
    "<h3 align=\"center\">Evaluation of Classifiers: Which Mean to Use?</h3>\n",
    "\n",
    "<img src=\"images/p102.png\">\n",
    "\n",
    "$$ \\frac {True Positive Rate}{False Positive Rate} = \\; \"Positive \\; Likelihood \\; Ratio\" $$\n",
    "\n",
    "$$ \\frac{False Negative Rate}{True Negative Rate} = \\; \"Negative \\; Likelihood \\; Ratio\" $$\n",
    "\n",
    "$$\\frac {Probability}{1 - Probability} = \\; \"Odds,\" \\; often \\; expressed \\; as\\;  X:Y $$\n",
    "\n",
    "\n",
    "**A worked example**\n",
    "\n",
    "You are shown a set of 21 coins: 10 gold and 11 copper. Your task to accept all gold coins and reject all copper ones.  You accept `7` coins as being gold (these are your positives)\n",
    "- `5` of these are actually gold (these are your true positives, tp)\n",
    "- `2` of these are copper (these are your false positives, fp)\n",
    "- You falsely rejected `5` gold ones (false negatives, fn)\n",
    "- You correctly rejected `9` copper ones (true negatives, tn)\n",
    "\n",
    "|          |Actual Gold   |Actual Copper|\n",
    "|----------|--------------|-------------|\n",
    "|Pr Glod   |  5           |   2         |\n",
    "|Pr Copper |  5           |   9         |\n",
    "\n",
    "- Your **precision** $= \\frac {tp}{ tp+fp} = \\frac{5} {7}$\n",
    "\n",
    "- Your **recall** $=\\frac{tp}{tp+fn}=\\frac{5}{10}$\n",
    "\n",
    "- Your **specificity** $=\\frac{tn}{fn+tn}=\\frac{9}{11}$\n",
    "\n",
    "- Your **accuracy** $=\\frac{tp+tn}{tp+tn+fp+fn}=\\frac{5+9}{5+9+2+5} =\\frac{14}{21}$\n",
    "\n",
    "\n",
    "#### Realistic extremes\n",
    "\n",
    "- You accept only one coin and that is gold\n",
    "    - Your `precision` is very high (1/1) but `recall` is very low (1/10)\n",
    "\n",
    "- You return all 21 coins\n",
    "    - Your `recall` is very high (10/10) but `precision` is very low (10/21)\n",
    "\n",
    "- Only one out of the 21 coins is gold. And you reject everything.\n",
    "    - Your `accuracy` is very high (20/21 = 0.95) but `precision/recall` are 0.\n",
    "\n",
    "**Question: So, what do we do now?**\n",
    "\n",
    "- A combined measure?\n",
    "\n",
    "#### A combined measure of Precision and Recall\n",
    "\n",
    "- It is useful to have a single number to describe performance. Should be high when both `P` and `R` are `high`.\n",
    "- The mean of precision and recall?\n",
    "- But what kind of a mean should we use?\n",
    "- Simple Arithmetic Mean is problematic: e.g.\n",
    "    - P = 0.0, R = 1.0, AM = 0.5\n",
    "    - P = 0.1, R = 0.9, AM = 0.5\n",
    "- **Requirements:**\n",
    "    - We need a weighted mean as we may care more about `P` or `R`\n",
    "    - We need a conservative (deliberately lower) estimate of mean\n",
    "    - If `P` and `R` are far apart we need the mean to tend to the lower value\n",
    "    - In order to do well, a classifier must do well on both P and R so that it cannot beat the system by being either too selective or too indiscriminate.\n",
    "    \n",
    "    \n",
    "#### What is mean (or average)?\n",
    "- The **central tendency** is a single number that represents the most common value for a list of numbers.\n",
    "    - It is the value that has the highest probability from the probability distribution that describes all possible values that a random variable may have.\n",
    "\n",
    "- Many ways to calculate it\n",
    "    - **Mode:** the most common value in the data distribution\n",
    "    - **Median:** the middle value if all values in the data sample were ordered\n",
    "    - **Mean:** the average value – Three common types\n",
    "- The mean is different from the median and the mode in that it is a measure of the central tendency that is calculated from the data.\n",
    "\n",
    "- Different ways to calculate the mean based on the type of data. Three common types:\n",
    "    - Arithmetic mean\n",
    "    - Geometric mean\n",
    "    - Harmonic mean aka, the Pythagorean means\n",
    "    \n",
    "#### Types of Means\n",
    "\n",
    "**Arithmetic Mean**\n",
    "$$AM = \\frac{a_1+a_2+a_3+.....+a_n}{n}$$\n",
    "\n",
    "**Geometric Mean**\n",
    "$$GM =  \\sqrt[n]{a_1.a_2.a_3....a_n} $$\n",
    "\n",
    "**Harmonic Mean**\n",
    "\n",
    "$$HM = \\frac{n}{\\frac{1}{a_1}+\\frac{1}{a_2}+.....+\\frac{1}{a_n}}$$\n",
    "\n",
    "**Ref:** http://economistatlarge.com/finance/applied-finance/differences-arithmetic-geometric-harmonic-means\n",
    "\n",
    "#### Arithmetic Mean\n",
    "\n",
    "- The most common average, simplest to compute\n",
    "- The AM of 2, 3 and 4 is 3\n",
    "- Suitable when:\n",
    "    - the data is not skewed (no extreme outliers)\n",
    "    - the individual data points are not dependent on each other\n",
    "    - the numbers are relatively evenly distributed, e.g.\n",
    "        - follow a normal distribution\n",
    "        - when you are rolling a fair die, the expected value is the mean of all the numbers on it\n",
    "\n",
    "- Easily distorted if the sample of observations contains outliers or for data that has a non-Gaussian distribution (e.g. multiple peaks – a multi-modal probability distribution).\n",
    "\n",
    "- The AM is more meaningful when a variable has a Gaussian or Gaussian-like data distribution.\n",
    "\n",
    "\n",
    "\n",
    "#### Geometric Mean\n",
    "- The geometric mean multiplies rather than sums values, then takes the `nth` root rather than dividing by `n`\n",
    "- It essentially says: if every number in our dataset was the same number, what would that number have to be in order to have the same _multiplicative product_ as our actual dataset?\n",
    "- This makes it well-suited for describing multiplicative relationships, such as rates and ratios, even if those ratios are on different scales (i.e. do not have the same denominator)\n",
    "- The geometric mean works well when the data is in an multiplicative relationship or in cases where the data is compounded\n",
    "- Geometric mean should be used when the data points are inter-related\n",
    "- It’s appropriate for numbers that are distributed along a logarithmic scale - that is, when you’re as likely to find a number twice the size as a number half the size.\n",
    "- The geometric mean does not accept negative or zero values, e.g. all values must be positive.\n",
    "- A fancy feature of the geometric mean is that you can `often` average across numbers on _completely different_ scales.\n",
    "\n",
    "### **Example:**\n",
    "- Compare ratings for two coffee shops using two different sources.\n",
    "- The problem is that _source 1_ uses a _5-star scale_ and _source 2_ uses a _100- point scale_:\n",
    "\n",
    "**Coffeeshop A**\n",
    "\n",
    "- Source 1 rating: 4.5\n",
    "- Source 2 rating: 68\n",
    "\n",
    "**Coffeeshop B**\n",
    "- Source 1 rating: 3\n",
    "- Source 2 rating: 75\n",
    "\n",
    "- If we naively take the arithmetic mean of raw ratings for each coffee shop:\n",
    "- Coffee shop A = (4.5 + 68) ÷ 2 = 36.25\n",
    "- Coffee shop B = (3 + 75) ÷ 2 = 39\n",
    "\n",
    "**We’d conclude that `Coffee shop B` was the winner.**\n",
    "\n",
    "**The right way to do this is:**\n",
    "\n",
    "- We need to normalize our values onto the same scale before averaging them with the arithmetic mean, to get an accurate result.\n",
    "- So we multiply the source 1 ratings by 20 to bring them from a _5-star scale_ to the _100-point scale_ of source 2:\n",
    "\n",
    "**Coffee shop A**\n",
    "\n",
    "- 4.5 * 20 = 90\n",
    "- (90 + 68) ÷ 2 = 79\n",
    "\n",
    "**Coffees hop B**\n",
    "- 3 * 20 = 60\n",
    "- (60 + 75) ÷ 2 = 67.5\n",
    "\n",
    "So we find that **Coffee shop A** is the true winner, contrary to the naive\n",
    "application of arithmetic mean above.\n",
    "\n",
    "- **For this particular problem**, the geometric mean, allows us to reach the same conclusion:\n",
    "    - **Coffee shop A** = square root of (4.5 * 68) = 17.5\n",
    "    - **Coffee shop B** = square root of (3 * 75) = 15\n",
    "\n",
    "- The arithmetic mean is dominated by numbers on the larger scale, which makes us think Coffeeshop B is the higher rated shop. This is because the arithmetic mean expects an additive relationship between numbers and does not account for scales and proportions. Hence the need to bring numbers onto the same scale before applying the arithmetic mean.\n",
    "- The geometric mean, on the other hand, can handle varying proportions with ease, due to it’s multiplicative nature. This is a tremendously useful property, but **we no longer have any interpretable scale at all**. The geometric mean is effectively unitless in such situations.\n",
    "\n",
    "#### **Harmonic Mean**\n",
    "- The harmonic mean of a set of numbers is the reciprocal of the arithmetic mean of reciprocals\n",
    "- Best used in situations where extreme outliers exist in the population\n",
    "\n",
    "<img src=\"images/p103.png\">\n",
    "\n",
    "**Why harmonic mean?**\n",
    "\n",
    "- We could also use arithmetic mean (AM) or geometric mean (GM).\n",
    "- HM is preferred as it penalizes model the most; a conservative average, that is, for two real positive numbers, we have\n",
    "\n",
    "$$HM \\leq GM \\leq AM$$\n",
    "\n",
    "\n",
    "<img src=\"images/p131.png\">\n",
    "\n",
    "\n",
    "\n",
    "- Improvement in HM implies improvement in AM or GM.\n",
    "- Use harmonic mean instead of arithmetic mean as we are taking the average of ratios \n",
    "- Harmonic mean punishes extreme values more strictly:\n",
    "    - Consider a trivial classifier (always returns class A)\n",
    "    - A very large number of data elements of class B, and a single element of class A:\n",
    "        - Precision: 0.0\n",
    "        - Recall: 1.0\n",
    "        - Arithmetic mean = 0.5 (50% correct), despite being the worst possible outcome!\n",
    "        - The harmonic mean is nearly 0.\n",
    "        - To have a high F-score, you need both a high precision and high recall\n",
    "        \n",
    "**One way to combine precision and recall into a single metric is to use the `F1 score`, which is the harmonic mean of precision and recall. The F1 score ranges from 0 to 1, with higher values indicating better performance.**"
   ]
  },
  {
   "cell_type": "code",
   "execution_count": 151,
   "id": "f3d55829",
   "metadata": {},
   "outputs": [
    {
     "name": "stdout",
     "output_type": "stream",
     "text": [
      "Arithmetic Mean: 3.000\n",
      "Geometric Mean: 2.605\n",
      "Harmonic Mean: 2.190\n"
     ]
    }
   ],
   "source": [
    "# Define a sample of data\n",
    "data = [1, 2, 3, 4, 5]\n",
    "\n",
    "# Calculate the arithmetic mean\n",
    "arithmetic_mean = np.mean(data)\n",
    "print(f'Arithmetic Mean: {arithmetic_mean:.3f}')\n",
    "\n",
    "# Calculate the geometric mean\n",
    "geometric_mean = np.prod(data) ** (1/len(data))\n",
    "print(f'Geometric Mean: {geometric_mean:.3f}')\n",
    "\n",
    "# Calculate the harmonic mean\n",
    "harmonic_mean = len(data) / sum([1/x for x in data])\n",
    "print(f'Harmonic Mean: {harmonic_mean:.3f}')"
   ]
  },
  {
   "cell_type": "markdown",
   "id": "6fabeeb1",
   "metadata": {},
   "source": [
    "### F-1-MEASURE\n",
    "- A combined measure that assesses the `P/R` tradeoff is `F` measure (weighted harmonic mean):\n",
    "$$F = \\frac{2}{\\frac{1}{P}+\\frac{1}{R}} = \\frac{2PR}{P+R}$$\n",
    "\n",
    "\n",
    "### F-β-MEASURE\n",
    "- We can choose to favor precision or recall by using an interpolation weight $\\alpha$:\n",
    "$$F = \\frac{1}{\\alpha \\frac{1}{P}+(1-\\alpha)\\frac{1}{R}} = \\frac{(\\beta^2+1)PR}{\\beta^2P+R}$$\n",
    "\n",
    "$ where \\; \\; \\beta = \\frac{1-\\alpha}{\\alpha}$\n",
    "\n",
    "\n",
    "- Balanced `F1` measure has $\\beta$ = 1 (that is, $\\alpha$ = 1⁄2) as shown above.\n",
    "- To give more weight to the Precision, we pick a $\\beta$ value in the interval\n",
    "    - 0 < $\\beta$ < 1.\n",
    "    - Notice that it is getting multiplied with P in the denominator\n",
    "- To give more weight to the Recall, we pick a $\\beta$ Value in the interval\n",
    "    - 1 < $\\beta$ < +∞\n",
    "    \n",
    "- $\\beta$ -> 0 considers only `precision`, $\\beta$ -> +∞ only `recall`\n",
    "\n",
    "### F-MEASURE\n",
    "$$F_{\\beta}  = \\frac{(\\beta^2+1)PR}{\\beta^2P+R}$$\n",
    "\n",
    "- The β parameter differentially weights the importance of recall and precision\n",
    "    - based on the needs of an application\n",
    "    - values of $β$ > 1 favor recall, while\n",
    "    - values of $β$ < 1 favor precision\n",
    "    \n",
    "- When β = 1, precision and recall are equally balanced This is the most frequently used metric, and is called $F_β$ =1 or just F1:\n",
    "\n",
    "$$F_1 = \\frac{2PR}{P+R}$$\n",
    "\n",
    "\n",
    "**Intuition**\n",
    "- The formula for F-measure (F1, with β=1) is the same as the formula giving the equivalent resistance composed of two resistances placed in parallel in physics \n",
    "\n",
    "<img src=\"images/p105.png\">\n",
    "\n",
    "- This analogy would define F-measure as the equivalent resistance formed by sensitivity and precision placed in parallel.\n",
    "- Net resistance gets reduced as soon as any one among the two looses resistance"
   ]
  },
  {
   "cell_type": "code",
   "execution_count": 152,
   "id": "5c21569a",
   "metadata": {},
   "outputs": [
    {
     "name": "stdout",
     "output_type": "stream",
     "text": [
      "F1 Score: 0.822\n"
     ]
    }
   ],
   "source": [
    "from sklearn.metrics import f1_score\n",
    "\n",
    "y_true = np.array([0, 0, 1, 1, 2, 2])\n",
    "y_pred = np.array([0, 1, 1, 1, 2, 2])\n",
    "\n",
    "# Calculate F1 score\n",
    "f1 = f1_score(y_true, y_pred, average='macro')\n",
    "print(f'F1 Score: {f1:.3f}')\n"
   ]
  },
  {
   "cell_type": "code",
   "execution_count": 155,
   "id": "85d0e7a3",
   "metadata": {},
   "outputs": [
    {
     "name": "stdout",
     "output_type": "stream",
     "text": [
      "Accuracy: 0.89\n",
      "Confusion matrix:\n",
      "[[49  8  4]\n",
      " [ 5 51  2]\n",
      " [ 2  1 78]]\n"
     ]
    }
   ],
   "source": [
    "# Implementation of all evaluation techniques\n",
    "from sklearn.datasets import make_classification\n",
    "from sklearn.metrics import confusion_matrix, accuracy_score\n",
    "from sklearn.linear_model import LogisticRegression\n",
    "\n",
    "X, y = make_classification(n_samples=1000, n_features=10, n_classes=3,n_clusters_per_class=1, random_state=42)\n",
    "\n",
    "X_train, X_test, y_train, y_test = train_test_split(X, y, test_size=0.2, random_state=42)\n",
    "\n",
    "# Train a logistic regression model\n",
    "model = LogisticRegression(random_state=42)\n",
    "model.fit(X_train, y_train)\n",
    "\n",
    "# Make predictions on the test set\n",
    "y_pred = model.predict(X_test)\n",
    "\n",
    "# Calculate the accuracy\n",
    "accuracy = accuracy_score(y_test, y_pred)\n",
    "print(f\"Accuracy: {accuracy:.2f}\")\n",
    "\n",
    "# Calculate the confusion matrix\n",
    "confusion_matrix = confusion_matrix(y_test, y_pred)\n",
    "print(f\"Confusion matrix:\\n{confusion_matrix}\")\n"
   ]
  },
  {
   "cell_type": "code",
   "execution_count": 156,
   "id": "1467f966",
   "metadata": {
    "scrolled": true
   },
   "outputs": [
    {
     "name": "stdout",
     "output_type": "stream",
     "text": [
      "              precision    recall  f1-score   support\n",
      "\n",
      "           0       0.88      0.80      0.84        61\n",
      "           1       0.85      0.88      0.86        58\n",
      "           2       0.93      0.96      0.95        81\n",
      "\n",
      "    accuracy                           0.89       200\n",
      "   macro avg       0.88      0.88      0.88       200\n",
      "weighted avg       0.89      0.89      0.89       200\n",
      "\n"
     ]
    }
   ],
   "source": [
    "# we can use the classification_report to calculate various evaluation metrics for each class\n",
    "from sklearn.metrics import classification_report\n",
    "\n",
    "y_pred = model.predict(X_test)\n",
    "\n",
    "# Calculate the classification report\n",
    "report = classification_report(y_test, y_pred)\n",
    "print(report)"
   ]
  },
  {
   "cell_type": "markdown",
   "id": "ed6b6cc3",
   "metadata": {},
   "source": [
    "#### Matthew’s correlation coefficient\n",
    "- Precision, Recall and F1-score are asymmetric. Get a different result if the classes are switched. `MCC` is a measure of the quality of a binary classification. It ranges from -1 to 1, with higher values indicating better performance..\n",
    "- Matthew’s correlation coefficient determines the correlation between true class and predicted class. The higher the correlation between true and predicted values, the better the prediction.\n",
    "- Defined as\n",
    "<img src=\"images/p106.png\">\n",
    "- MCC=1 when FP = FN = 0 (Perfect classification)\n",
    "- MCC=-1 when TP = TN = 0 (Perfect misclassification)\n",
    "- MCC=0; Performance of classifier is not better than a random classifier (flip coin)\n",
    "- MCC is symmetric by design"
   ]
  },
  {
   "cell_type": "code",
   "execution_count": 159,
   "id": "11093ce0",
   "metadata": {},
   "outputs": [
    {
     "name": "stdout",
     "output_type": "stream",
     "text": [
      "Matthews Correlation Coefficient: 0.783\n"
     ]
    }
   ],
   "source": [
    "from sklearn.metrics import matthews_corrcoef\n",
    "\n",
    "y_true = np.array([0, 0, 1, 1, 2, 2])\n",
    "y_pred = np.array([0, 1, 1, 1, 2, 2])\n",
    "\n",
    "# Calculate MCC\n",
    "mcc = matthews_corrcoef(y_true, y_pred)\n",
    "print(f'Matthews Correlation Coefficient: {mcc:.3f}')"
   ]
  },
  {
   "cell_type": "code",
   "execution_count": null,
   "id": "875f4c4e",
   "metadata": {},
   "outputs": [],
   "source": []
  },
  {
   "cell_type": "markdown",
   "id": "9a3dd019",
   "metadata": {},
   "source": [
    "## Question: When to Use which Evaluation Metric?\n",
    "\n",
    "It is important to choose the appropriate evaluation metric for our machine learning model based on the characteristics of our data and the goals of our model. Here are some general guidelines for choosing evaluation metrics:\n",
    "\n",
    "- **Classification accuracy:** If our data is balanced and we are interested in the overall accuracy of your model, classification accuracy can be a good metric to use. This metric measures the percentage of correct predictions made by the model.\n",
    "\n",
    "- **Precision and recall:** If our data is imbalanced or we are interested in minimizing false positives or false negatives, precision and recall can be useful metrics to use. Precision measures the percentage of true positive predictions made by the model, while recall measures the percentage of actual positive cases that were correctly predicted by the model.\n",
    "\n",
    "- **F1 score:** The F1 score is a balanced metric that combines precision and recall. It is a good choice if we want to balance precision and recall and avoid one metric dominating the other.\n",
    "\n",
    "- **AUC-ROC:** If we are interested in the model's ability to discriminate between positive and negative cases, the AUC-ROC (area under the receiver operating characteristic curve) can be a good metric to use. The AUC-ROC measures the model's ability to correctly classify positive and negative cases, and is often used in binary classification tasks.\n",
    "\n",
    "- **RMSE:** If we are working with a regression task and we are interested in the model's ability to predict continuous values, the root mean squared error (RMSE) can be a good metric to use. The RMSE measures the average distance between the predicted values and the true values.\n",
    "\n",
    "Ultimately, the choice of evaluation metric will depend on the characteristics of our data and the goals of our model. It is important to carefully consider the metric that is most appropriate for our model."
   ]
  },
  {
   "cell_type": "markdown",
   "id": "46add2db",
   "metadata": {},
   "source": [
    "## Titanic: Logistic Regression with Python\n",
    "- Exploratory Data Analysis\n",
    "- Understanding of Data \n",
    "- Data Preproccessing \n",
    "    - Data Cleansing\n",
    "    - Feature Scaling\n",
    "    - Feature Selection\n",
    "- Train Test Split\n",
    "- Model Building\n",
    "- Model Evaluation \n",
    "- Prediction on new data"
   ]
  },
  {
   "cell_type": "code",
   "execution_count": 54,
   "id": "74534c6b",
   "metadata": {},
   "outputs": [],
   "source": [
    "# import all the necessary libraries\n",
    "import numpy as np\n",
    "import seaborn as sns\n",
    "import pandas as pd\n",
    "import matplotlib.pyplot as plt\n",
    "import joblib\n",
    "import warnings \n",
    "warnings.filterwarnings(\"ignore\")\n",
    "from sklearn.preprocessing import StandardScaler, OneHotEncoder\n",
    "from sklearn.linear_model import LogisticRegression\n",
    "from sklearn.pipeline import Pipeline\n",
    "from sklearn.model_selection import cross_val_score\n",
    "from sklearn.compose import ColumnTransformer\n",
    "from sklearn.model_selection import train_test_split"
   ]
  },
  {
   "cell_type": "code",
   "execution_count": 55,
   "id": "c66a4ab9",
   "metadata": {},
   "outputs": [
    {
     "data": {
      "text/html": [
       "<div>\n",
       "<style scoped>\n",
       "    .dataframe tbody tr th:only-of-type {\n",
       "        vertical-align: middle;\n",
       "    }\n",
       "\n",
       "    .dataframe tbody tr th {\n",
       "        vertical-align: top;\n",
       "    }\n",
       "\n",
       "    .dataframe thead th {\n",
       "        text-align: right;\n",
       "    }\n",
       "</style>\n",
       "<table border=\"1\" class=\"dataframe\">\n",
       "  <thead>\n",
       "    <tr style=\"text-align: right;\">\n",
       "      <th></th>\n",
       "      <th>pclass</th>\n",
       "      <th>name</th>\n",
       "      <th>sex</th>\n",
       "      <th>age</th>\n",
       "      <th>sibsp</th>\n",
       "      <th>parch</th>\n",
       "      <th>ticket</th>\n",
       "      <th>fare</th>\n",
       "      <th>cabin</th>\n",
       "      <th>embarked</th>\n",
       "      <th>boat</th>\n",
       "      <th>body</th>\n",
       "      <th>home.dest</th>\n",
       "      <th>target</th>\n",
       "    </tr>\n",
       "  </thead>\n",
       "  <tbody>\n",
       "    <tr>\n",
       "      <th>0</th>\n",
       "      <td>1.0</td>\n",
       "      <td>Allen, Miss. Elisabeth Walton</td>\n",
       "      <td>female</td>\n",
       "      <td>29.0000</td>\n",
       "      <td>0.0</td>\n",
       "      <td>0.0</td>\n",
       "      <td>24160</td>\n",
       "      <td>211.3375</td>\n",
       "      <td>B5</td>\n",
       "      <td>S</td>\n",
       "      <td>2</td>\n",
       "      <td>NaN</td>\n",
       "      <td>St Louis, MO</td>\n",
       "      <td>1</td>\n",
       "    </tr>\n",
       "    <tr>\n",
       "      <th>1</th>\n",
       "      <td>1.0</td>\n",
       "      <td>Allison, Master. Hudson Trevor</td>\n",
       "      <td>male</td>\n",
       "      <td>0.9167</td>\n",
       "      <td>1.0</td>\n",
       "      <td>2.0</td>\n",
       "      <td>113781</td>\n",
       "      <td>151.5500</td>\n",
       "      <td>C22 C26</td>\n",
       "      <td>S</td>\n",
       "      <td>11</td>\n",
       "      <td>NaN</td>\n",
       "      <td>Montreal, PQ / Chesterville, ON</td>\n",
       "      <td>1</td>\n",
       "    </tr>\n",
       "    <tr>\n",
       "      <th>2</th>\n",
       "      <td>1.0</td>\n",
       "      <td>Allison, Miss. Helen Loraine</td>\n",
       "      <td>female</td>\n",
       "      <td>2.0000</td>\n",
       "      <td>1.0</td>\n",
       "      <td>2.0</td>\n",
       "      <td>113781</td>\n",
       "      <td>151.5500</td>\n",
       "      <td>C22 C26</td>\n",
       "      <td>S</td>\n",
       "      <td>None</td>\n",
       "      <td>NaN</td>\n",
       "      <td>Montreal, PQ / Chesterville, ON</td>\n",
       "      <td>0</td>\n",
       "    </tr>\n",
       "    <tr>\n",
       "      <th>3</th>\n",
       "      <td>1.0</td>\n",
       "      <td>Allison, Mr. Hudson Joshua Creighton</td>\n",
       "      <td>male</td>\n",
       "      <td>30.0000</td>\n",
       "      <td>1.0</td>\n",
       "      <td>2.0</td>\n",
       "      <td>113781</td>\n",
       "      <td>151.5500</td>\n",
       "      <td>C22 C26</td>\n",
       "      <td>S</td>\n",
       "      <td>None</td>\n",
       "      <td>135.0</td>\n",
       "      <td>Montreal, PQ / Chesterville, ON</td>\n",
       "      <td>0</td>\n",
       "    </tr>\n",
       "    <tr>\n",
       "      <th>4</th>\n",
       "      <td>1.0</td>\n",
       "      <td>Allison, Mrs. Hudson J C (Bessie Waldo Daniels)</td>\n",
       "      <td>female</td>\n",
       "      <td>25.0000</td>\n",
       "      <td>1.0</td>\n",
       "      <td>2.0</td>\n",
       "      <td>113781</td>\n",
       "      <td>151.5500</td>\n",
       "      <td>C22 C26</td>\n",
       "      <td>S</td>\n",
       "      <td>None</td>\n",
       "      <td>NaN</td>\n",
       "      <td>Montreal, PQ / Chesterville, ON</td>\n",
       "      <td>0</td>\n",
       "    </tr>\n",
       "  </tbody>\n",
       "</table>\n",
       "</div>"
      ],
      "text/plain": [
       "   pclass                                             name     sex      age  \\\n",
       "0     1.0                    Allen, Miss. Elisabeth Walton  female  29.0000   \n",
       "1     1.0                   Allison, Master. Hudson Trevor    male   0.9167   \n",
       "2     1.0                     Allison, Miss. Helen Loraine  female   2.0000   \n",
       "3     1.0             Allison, Mr. Hudson Joshua Creighton    male  30.0000   \n",
       "4     1.0  Allison, Mrs. Hudson J C (Bessie Waldo Daniels)  female  25.0000   \n",
       "\n",
       "   sibsp  parch  ticket      fare    cabin embarked  boat   body  \\\n",
       "0    0.0    0.0   24160  211.3375       B5        S     2    NaN   \n",
       "1    1.0    2.0  113781  151.5500  C22 C26        S    11    NaN   \n",
       "2    1.0    2.0  113781  151.5500  C22 C26        S  None    NaN   \n",
       "3    1.0    2.0  113781  151.5500  C22 C26        S  None  135.0   \n",
       "4    1.0    2.0  113781  151.5500  C22 C26        S  None    NaN   \n",
       "\n",
       "                         home.dest target  \n",
       "0                     St Louis, MO      1  \n",
       "1  Montreal, PQ / Chesterville, ON      1  \n",
       "2  Montreal, PQ / Chesterville, ON      0  \n",
       "3  Montreal, PQ / Chesterville, ON      0  \n",
       "4  Montreal, PQ / Chesterville, ON      0  "
      ]
     },
     "execution_count": 55,
     "metadata": {},
     "output_type": "execute_result"
    }
   ],
   "source": [
    "# Import the dataset using sklearn built-in `titanic dataset`\n",
    "from sklearn import datasets\n",
    "\n",
    "titanic = datasets.fetch_openml(name='titanic', version=1, as_frame=True)\n",
    "df = pd.DataFrame(titanic.data, columns=titanic.feature_names)\n",
    "df['target'] = titanic.target\n",
    "df.head()"
   ]
  },
  {
   "cell_type": "markdown",
   "id": "7d7746c0",
   "metadata": {},
   "source": [
    "#### VARIABLE DESCRIPTIONS\n",
    "`Pclass` -> Passenger Class (1 = 1st; 2 = 2nd; 3 = 3rd).   \n",
    "`survival` ->  Survival (0 = No; 1 = Yes)   \n",
    "`name` -> Name    \n",
    "`sex` -> Sex     \n",
    "`age` -> Age     \n",
    "`sibsp` -> Number of Siblings/Spouses Aboard        \n",
    "`parch` -> Number of Parents/Children Aboard       \n",
    "`ticket` -> Ticket Number            \n",
    "`fare` -> Passenger Fare (British pound)          \n",
    "`cabin` -> Cabin       \n",
    "`embarked` -> Port of Embarkation (C = Cherbourg; Q = Queenstown; S = Southampton)       \n",
    "`boat` -> Lifeboat        \n",
    "`body` -> Body Identification Number       \n",
    "`home.dest`->  Home/Destination "
   ]
  },
  {
   "cell_type": "markdown",
   "id": "559cf5fa",
   "metadata": {},
   "source": [
    "### Understanding of Data"
   ]
  },
  {
   "cell_type": "code",
   "execution_count": 179,
   "id": "85627696",
   "metadata": {},
   "outputs": [
    {
     "data": {
      "text/plain": [
       "(1309, 14)"
      ]
     },
     "execution_count": 179,
     "metadata": {},
     "output_type": "execute_result"
    }
   ],
   "source": [
    "# number of rows and columns \n",
    "df.shape"
   ]
  },
  {
   "cell_type": "code",
   "execution_count": 180,
   "id": "8a816882",
   "metadata": {},
   "outputs": [
    {
     "data": {
      "text/plain": [
       "pclass        float64\n",
       "name           object\n",
       "sex          category\n",
       "age           float64\n",
       "sibsp         float64\n",
       "parch         float64\n",
       "ticket         object\n",
       "fare          float64\n",
       "cabin          object\n",
       "embarked     category\n",
       "boat           object\n",
       "body          float64\n",
       "home.dest      object\n",
       "target       category\n",
       "dtype: object"
      ]
     },
     "execution_count": 180,
     "metadata": {},
     "output_type": "execute_result"
    }
   ],
   "source": [
    "# dtypes of all the columns\n",
    "df.dtypes"
   ]
  },
  {
   "cell_type": "code",
   "execution_count": 181,
   "id": "252484ac",
   "metadata": {},
   "outputs": [
    {
     "data": {
      "text/plain": [
       "pclass          0\n",
       "name            0\n",
       "sex             0\n",
       "age           263\n",
       "sibsp           0\n",
       "parch           0\n",
       "ticket          0\n",
       "fare            1\n",
       "cabin        1014\n",
       "embarked        2\n",
       "boat          823\n",
       "body         1188\n",
       "home.dest     564\n",
       "target          0\n",
       "dtype: int64"
      ]
     },
     "execution_count": 181,
     "metadata": {},
     "output_type": "execute_result"
    }
   ],
   "source": [
    "# check missing values\n",
    "df.isna().sum()"
   ]
  },
  {
   "cell_type": "markdown",
   "id": "b475e90e",
   "metadata": {},
   "source": [
    "**Observation:** We can see that `age`, `cabin`, `boat`, `body` and `home.dest` have some missing values"
   ]
  },
  {
   "cell_type": "code",
   "execution_count": 14,
   "id": "f0f21e3a",
   "metadata": {},
   "outputs": [
    {
     "data": {
      "text/html": [
       "<div>\n",
       "<style scoped>\n",
       "    .dataframe tbody tr th:only-of-type {\n",
       "        vertical-align: middle;\n",
       "    }\n",
       "\n",
       "    .dataframe tbody tr th {\n",
       "        vertical-align: top;\n",
       "    }\n",
       "\n",
       "    .dataframe thead th {\n",
       "        text-align: right;\n",
       "    }\n",
       "</style>\n",
       "<table border=\"1\" class=\"dataframe\">\n",
       "  <thead>\n",
       "    <tr style=\"text-align: right;\">\n",
       "      <th></th>\n",
       "      <th>pclass</th>\n",
       "      <th>age</th>\n",
       "      <th>sibsp</th>\n",
       "      <th>parch</th>\n",
       "      <th>fare</th>\n",
       "      <th>body</th>\n",
       "    </tr>\n",
       "  </thead>\n",
       "  <tbody>\n",
       "    <tr>\n",
       "      <th>count</th>\n",
       "      <td>1309.000000</td>\n",
       "      <td>1046.000000</td>\n",
       "      <td>1309.000000</td>\n",
       "      <td>1309.000000</td>\n",
       "      <td>1308.000000</td>\n",
       "      <td>121.000000</td>\n",
       "    </tr>\n",
       "    <tr>\n",
       "      <th>mean</th>\n",
       "      <td>2.294882</td>\n",
       "      <td>29.881135</td>\n",
       "      <td>0.498854</td>\n",
       "      <td>0.385027</td>\n",
       "      <td>33.295479</td>\n",
       "      <td>160.809917</td>\n",
       "    </tr>\n",
       "    <tr>\n",
       "      <th>std</th>\n",
       "      <td>0.837836</td>\n",
       "      <td>14.413500</td>\n",
       "      <td>1.041658</td>\n",
       "      <td>0.865560</td>\n",
       "      <td>51.758668</td>\n",
       "      <td>97.696922</td>\n",
       "    </tr>\n",
       "    <tr>\n",
       "      <th>min</th>\n",
       "      <td>1.000000</td>\n",
       "      <td>0.166700</td>\n",
       "      <td>0.000000</td>\n",
       "      <td>0.000000</td>\n",
       "      <td>0.000000</td>\n",
       "      <td>1.000000</td>\n",
       "    </tr>\n",
       "    <tr>\n",
       "      <th>25%</th>\n",
       "      <td>2.000000</td>\n",
       "      <td>21.000000</td>\n",
       "      <td>0.000000</td>\n",
       "      <td>0.000000</td>\n",
       "      <td>7.895800</td>\n",
       "      <td>72.000000</td>\n",
       "    </tr>\n",
       "    <tr>\n",
       "      <th>50%</th>\n",
       "      <td>3.000000</td>\n",
       "      <td>28.000000</td>\n",
       "      <td>0.000000</td>\n",
       "      <td>0.000000</td>\n",
       "      <td>14.454200</td>\n",
       "      <td>155.000000</td>\n",
       "    </tr>\n",
       "    <tr>\n",
       "      <th>75%</th>\n",
       "      <td>3.000000</td>\n",
       "      <td>39.000000</td>\n",
       "      <td>1.000000</td>\n",
       "      <td>0.000000</td>\n",
       "      <td>31.275000</td>\n",
       "      <td>256.000000</td>\n",
       "    </tr>\n",
       "    <tr>\n",
       "      <th>max</th>\n",
       "      <td>3.000000</td>\n",
       "      <td>80.000000</td>\n",
       "      <td>8.000000</td>\n",
       "      <td>9.000000</td>\n",
       "      <td>512.329200</td>\n",
       "      <td>328.000000</td>\n",
       "    </tr>\n",
       "  </tbody>\n",
       "</table>\n",
       "</div>"
      ],
      "text/plain": [
       "            pclass          age        sibsp        parch         fare  \\\n",
       "count  1309.000000  1046.000000  1309.000000  1309.000000  1308.000000   \n",
       "mean      2.294882    29.881135     0.498854     0.385027    33.295479   \n",
       "std       0.837836    14.413500     1.041658     0.865560    51.758668   \n",
       "min       1.000000     0.166700     0.000000     0.000000     0.000000   \n",
       "25%       2.000000    21.000000     0.000000     0.000000     7.895800   \n",
       "50%       3.000000    28.000000     0.000000     0.000000    14.454200   \n",
       "75%       3.000000    39.000000     1.000000     0.000000    31.275000   \n",
       "max       3.000000    80.000000     8.000000     9.000000   512.329200   \n",
       "\n",
       "             body  \n",
       "count  121.000000  \n",
       "mean   160.809917  \n",
       "std     97.696922  \n",
       "min      1.000000  \n",
       "25%     72.000000  \n",
       "50%    155.000000  \n",
       "75%    256.000000  \n",
       "max    328.000000  "
      ]
     },
     "execution_count": 14,
     "metadata": {},
     "output_type": "execute_result"
    }
   ],
   "source": [
    "# descriptive view of the data\n",
    "df.describe()"
   ]
  },
  {
   "cell_type": "markdown",
   "id": "d0f65c59",
   "metadata": {},
   "source": [
    "**Observation:** We can see that `fare` has high value for `std`. So, we need to normalize it."
   ]
  },
  {
   "cell_type": "code",
   "execution_count": 16,
   "id": "7ddc7ff0",
   "metadata": {},
   "outputs": [
    {
     "name": "stdout",
     "output_type": "stream",
     "text": [
      "<class 'pandas.core.frame.DataFrame'>\n",
      "RangeIndex: 1309 entries, 0 to 1308\n",
      "Data columns (total 14 columns):\n",
      " #   Column     Non-Null Count  Dtype   \n",
      "---  ------     --------------  -----   \n",
      " 0   pclass     1309 non-null   float64 \n",
      " 1   name       1309 non-null   object  \n",
      " 2   sex        1309 non-null   category\n",
      " 3   age        1046 non-null   float64 \n",
      " 4   sibsp      1309 non-null   float64 \n",
      " 5   parch      1309 non-null   float64 \n",
      " 6   ticket     1309 non-null   object  \n",
      " 7   fare       1308 non-null   float64 \n",
      " 8   cabin      295 non-null    object  \n",
      " 9   embarked   1307 non-null   category\n",
      " 10  boat       486 non-null    object  \n",
      " 11  body       121 non-null    float64 \n",
      " 12  home.dest  745 non-null    object  \n",
      " 13  target     1309 non-null   category\n",
      "dtypes: category(3), float64(6), object(5)\n",
      "memory usage: 116.8+ KB\n"
     ]
    }
   ],
   "source": [
    "# info of the data\n",
    "df.info()"
   ]
  },
  {
   "cell_type": "code",
   "execution_count": 361,
   "id": "8ec065c1",
   "metadata": {},
   "outputs": [],
   "source": [
    "# separate numeric columns and categorical columns of the data\n",
    "num_colunms = df.select_dtypes(include=np.number).columns.to_list()\n",
    "cat_columns = df.select_dtypes('O').columns.to_list()"
   ]
  },
  {
   "cell_type": "code",
   "execution_count": 19,
   "id": "b4a18834",
   "metadata": {},
   "outputs": [
    {
     "data": {
      "text/html": [
       "<div>\n",
       "<style scoped>\n",
       "    .dataframe tbody tr th:only-of-type {\n",
       "        vertical-align: middle;\n",
       "    }\n",
       "\n",
       "    .dataframe tbody tr th {\n",
       "        vertical-align: top;\n",
       "    }\n",
       "\n",
       "    .dataframe thead th {\n",
       "        text-align: right;\n",
       "    }\n",
       "</style>\n",
       "<table border=\"1\" class=\"dataframe\">\n",
       "  <thead>\n",
       "    <tr style=\"text-align: right;\">\n",
       "      <th></th>\n",
       "      <th>pclass</th>\n",
       "      <th>age</th>\n",
       "      <th>sibsp</th>\n",
       "      <th>parch</th>\n",
       "      <th>fare</th>\n",
       "      <th>body</th>\n",
       "    </tr>\n",
       "  </thead>\n",
       "  <tbody>\n",
       "    <tr>\n",
       "      <th>pclass</th>\n",
       "      <td>1.000000</td>\n",
       "      <td>-0.408106</td>\n",
       "      <td>0.060832</td>\n",
       "      <td>0.018322</td>\n",
       "      <td>-0.558629</td>\n",
       "      <td>-0.034642</td>\n",
       "    </tr>\n",
       "    <tr>\n",
       "      <th>age</th>\n",
       "      <td>-0.408106</td>\n",
       "      <td>1.000000</td>\n",
       "      <td>-0.243699</td>\n",
       "      <td>-0.150917</td>\n",
       "      <td>0.178739</td>\n",
       "      <td>0.058809</td>\n",
       "    </tr>\n",
       "    <tr>\n",
       "      <th>sibsp</th>\n",
       "      <td>0.060832</td>\n",
       "      <td>-0.243699</td>\n",
       "      <td>1.000000</td>\n",
       "      <td>0.373587</td>\n",
       "      <td>0.160238</td>\n",
       "      <td>-0.099961</td>\n",
       "    </tr>\n",
       "    <tr>\n",
       "      <th>parch</th>\n",
       "      <td>0.018322</td>\n",
       "      <td>-0.150917</td>\n",
       "      <td>0.373587</td>\n",
       "      <td>1.000000</td>\n",
       "      <td>0.221539</td>\n",
       "      <td>0.051099</td>\n",
       "    </tr>\n",
       "    <tr>\n",
       "      <th>fare</th>\n",
       "      <td>-0.558629</td>\n",
       "      <td>0.178739</td>\n",
       "      <td>0.160238</td>\n",
       "      <td>0.221539</td>\n",
       "      <td>1.000000</td>\n",
       "      <td>-0.043110</td>\n",
       "    </tr>\n",
       "    <tr>\n",
       "      <th>body</th>\n",
       "      <td>-0.034642</td>\n",
       "      <td>0.058809</td>\n",
       "      <td>-0.099961</td>\n",
       "      <td>0.051099</td>\n",
       "      <td>-0.043110</td>\n",
       "      <td>1.000000</td>\n",
       "    </tr>\n",
       "  </tbody>\n",
       "</table>\n",
       "</div>"
      ],
      "text/plain": [
       "          pclass       age     sibsp     parch      fare      body\n",
       "pclass  1.000000 -0.408106  0.060832  0.018322 -0.558629 -0.034642\n",
       "age    -0.408106  1.000000 -0.243699 -0.150917  0.178739  0.058809\n",
       "sibsp   0.060832 -0.243699  1.000000  0.373587  0.160238 -0.099961\n",
       "parch   0.018322 -0.150917  0.373587  1.000000  0.221539  0.051099\n",
       "fare   -0.558629  0.178739  0.160238  0.221539  1.000000 -0.043110\n",
       "body   -0.034642  0.058809 -0.099961  0.051099 -0.043110  1.000000"
      ]
     },
     "execution_count": 19,
     "metadata": {},
     "output_type": "execute_result"
    }
   ],
   "source": [
    "# the correlation  matrix of numeric columns\n",
    "df.corr()"
   ]
  },
  {
   "cell_type": "markdown",
   "id": "354ffa98",
   "metadata": {},
   "source": [
    "### Exploratory Data Analysis\n",
    "#### Univariate Analysis"
   ]
  },
  {
   "cell_type": "code",
   "execution_count": 50,
   "id": "3b45c11b",
   "metadata": {
    "collapsed": true
   },
   "outputs": [
    {
     "data": {
      "image/png": "[encoded data removed]",
      "text/plain": [
       "<Figure size 648x504 with 1 Axes>"
      ]
     },
     "metadata": {},
     "output_type": "display_data"
    }
   ],
   "source": [
    "sns.set_style(\"darkgrid\")\n",
    "sns.set(rc={'figure.figsize':(9,7)})\n",
    "sns.countplot('pclass', data=df);\n",
    "plt.title(\"Pclass Distribution\", fontsize= 30);"
   ]
  },
  {
   "cell_type": "markdown",
   "id": "25603209",
   "metadata": {},
   "source": [
    "**Observation:** More people are in class `3.0`, on the other hand, same number is in class `1.0`. and `2.0`.\n",
    "Here, we need to find the reason why people in class `3.0` are more than other two classes."
   ]
  },
  {
   "cell_type": "code",
   "execution_count": 52,
   "id": "993604a9",
   "metadata": {
    "collapsed": true
   },
   "outputs": [
    {
     "data": {
      "image/png": "[encoded data removed]",
      "text/plain": [
       "<Figure size 648x504 with 1 Axes>"
      ]
     },
     "metadata": {},
     "output_type": "display_data"
    }
   ],
   "source": [
    "sns.countplot('sex', data=df);\n",
    "plt.title(\"Sex Distribution\", fontsize= 30);"
   ]
  },
  {
   "cell_type": "markdown",
   "id": "4659b02a",
   "metadata": {},
   "source": [
    "**Observation:** Number of males are more than females in the dataset."
   ]
  },
  {
   "cell_type": "code",
   "execution_count": 58,
   "id": "fa0e9751",
   "metadata": {
    "collapsed": true
   },
   "outputs": [
    {
     "data": {
      "image/png": "[encoded data removed]",
      "text/plain": [
       "<Figure size 648x504 with 1 Axes>"
      ]
     },
     "metadata": {},
     "output_type": "display_data"
    }
   ],
   "source": [
    "sns.histplot(x = df.age, bins=30);\n",
    "plt.title(\"Distribution of Age\", fontsize=30);"
   ]
  },
  {
   "cell_type": "markdown",
   "id": "4b77872a",
   "metadata": {},
   "source": [
    "**Observation:** Age of mostly people is beween 20 - 50. But there are also children in the data."
   ]
  },
  {
   "cell_type": "code",
   "execution_count": 65,
   "id": "b6f7a995",
   "metadata": {
    "collapsed": true
   },
   "outputs": [
    {
     "data": {
      "image/png": "[encoded data removed]",
      "text/plain": [
       "<Figure size 648x504 with 1 Axes>"
      ]
     },
     "metadata": {},
     "output_type": "display_data"
    }
   ],
   "source": [
    "sns.countplot('sibsp', data=df);\n",
    "plt.title(\"sibsp distribution\", fontsize= 30);"
   ]
  },
  {
   "cell_type": "markdown",
   "id": "62b64bd7",
   "metadata": {},
   "source": [
    "**Observation:** We can see that mostly people do not have their sibsp and more than 300 people have their sibsp."
   ]
  },
  {
   "cell_type": "code",
   "execution_count": 67,
   "id": "98e0459e",
   "metadata": {
    "collapsed": true
   },
   "outputs": [
    {
     "data": {
      "image/png": "[encoded data removed]",
      "text/plain": [
       "<Figure size 648x504 with 1 Axes>"
      ]
     },
     "metadata": {},
     "output_type": "display_data"
    }
   ],
   "source": [
    "sns.countplot('parch', data=df);\n",
    "plt.title(\"parent children distribution\", fontsize= 30);"
   ]
  },
  {
   "cell_type": "markdown",
   "id": "1d8670a4",
   "metadata": {},
   "source": [
    "**Observation:** We can see that mostly parents do not have children. But some parents have one or two childs."
   ]
  },
  {
   "cell_type": "code",
   "execution_count": 71,
   "id": "c576857b",
   "metadata": {
    "collapsed": true
   },
   "outputs": [
    {
     "data": {
      "image/png": "[encoded data removed]",
      "text/plain": [
       "<Figure size 648x504 with 1 Axes>"
      ]
     },
     "metadata": {},
     "output_type": "display_data"
    }
   ],
   "source": [
    "sns.histplot(x = df['fare'], bins=40);\n",
    "plt.title(\"Distribution of Fare\", fontsize= 30);"
   ]
  },
  {
   "cell_type": "markdown",
   "id": "fb423e92",
   "metadata": {},
   "source": [
    "**Observation:** We can see that range of fare is between 0-100 but there is some outliers in the data."
   ]
  },
  {
   "cell_type": "code",
   "execution_count": 73,
   "id": "4b0ee23e",
   "metadata": {
    "collapsed": true
   },
   "outputs": [
    {
     "data": {
      "image/png": "[encoded data removed]",
      "text/plain": [
       "<Figure size 648x504 with 1 Axes>"
      ]
     },
     "metadata": {},
     "output_type": "display_data"
    }
   ],
   "source": [
    "sns.boxplot('fare', data=df);\n",
    "plt.title(\"Boxplot of Fare\", fontsize= 30);"
   ]
  },
  {
   "cell_type": "markdown",
   "id": "3869a148",
   "metadata": {},
   "source": [
    "**Observation:** We can also see that from above plot that there are outliers in the fare columns."
   ]
  },
  {
   "cell_type": "code",
   "execution_count": 77,
   "id": "9fcfeed9",
   "metadata": {
    "collapsed": true
   },
   "outputs": [
    {
     "data": {
      "image/png": "[encoded data removed]",
      "text/plain": [
       "<Figure size 648x504 with 1 Axes>"
      ]
     },
     "metadata": {},
     "output_type": "display_data"
    }
   ],
   "source": [
    "sns.countplot('embarked', data=df);\n",
    "plt.title(\"Distribution of Embarked\", fontsize= 30);"
   ]
  },
  {
   "cell_type": "markdown",
   "id": "d2c8b13d",
   "metadata": {},
   "source": [
    "**Observation:** We can see that mostly people belong to `S = Southampton`  embarked."
   ]
  },
  {
   "cell_type": "code",
   "execution_count": 83,
   "id": "6dc5381d",
   "metadata": {
    "collapsed": true
   },
   "outputs": [
    {
     "data": {
      "image/png": "[encoded data removed]",
      "text/plain": [
       "<Figure size 648x504 with 1 Axes>"
      ]
     },
     "metadata": {},
     "output_type": "display_data"
    }
   ],
   "source": [
    "sns.countplot('target', data=df);\n",
    "plt.title(\"Distribution of Target\", fontsize= 30);"
   ]
  },
  {
   "cell_type": "markdown",
   "id": "9a373d3a",
   "metadata": {},
   "source": [
    "**Observation:** Mostly people were not survived , on the other hand almost 500 people were survived."
   ]
  },
  {
   "cell_type": "markdown",
   "id": "17175c5f",
   "metadata": {},
   "source": [
    "#### Bivariate Analysis"
   ]
  },
  {
   "cell_type": "code",
   "execution_count": 111,
   "id": "1c54f817",
   "metadata": {},
   "outputs": [
    {
     "data": {
      "text/plain": [
       "target  pclass\n",
       "0       1.0       123\n",
       "        2.0       158\n",
       "        3.0       528\n",
       "1       1.0       200\n",
       "        2.0       119\n",
       "        3.0       181\n",
       "Name: pclass, dtype: int64"
      ]
     },
     "execution_count": 111,
     "metadata": {},
     "output_type": "execute_result"
    }
   ],
   "source": [
    "df.groupby([\"target\",'pclass'])['pclass'].count()"
   ]
  },
  {
   "cell_type": "code",
   "execution_count": 90,
   "id": "28ce2ad0",
   "metadata": {
    "collapsed": true
   },
   "outputs": [
    {
     "data": {
      "image/png": "[encoded data removed]",
      "text/plain": [
       "<Figure size 648x504 with 1 Axes>"
      ]
     },
     "metadata": {},
     "output_type": "display_data"
    }
   ],
   "source": [
    "sns.countplot(x = 'target', hue='pclass', data=df);\n",
    "plt.title(\"Distribution of Target and pclass\", fontsize= 30);"
   ]
  },
  {
   "cell_type": "code",
   "execution_count": 115,
   "id": "b97e7725",
   "metadata": {
    "collapsed": true
   },
   "outputs": [
    {
     "data": {
      "image/png": "[encoded data removed]",
      "text/plain": [
       "<Figure size 648x504 with 1 Axes>"
      ]
     },
     "metadata": {},
     "output_type": "display_data"
    }
   ],
   "source": [
    "sns.countplot(x = 'target', hue='sex', data=df);\n",
    "plt.title(\"Distribution of Target vs Sex\", fontsize= 30);"
   ]
  },
  {
   "cell_type": "code",
   "execution_count": 117,
   "id": "12f9a0d4",
   "metadata": {
    "collapsed": true
   },
   "outputs": [
    {
     "data": {
      "image/png": "[encoded data removed]",
      "text/plain": [
       "<Figure size 648x504 with 1 Axes>"
      ]
     },
     "metadata": {},
     "output_type": "display_data"
    }
   ],
   "source": [
    "sns.countplot(x = 'target', hue='sibsp', data=df);\n",
    "plt.title(\"Distribution of Target vs Sibsp\", fontsize= 30);"
   ]
  },
  {
   "cell_type": "code",
   "execution_count": 120,
   "id": "e3f26b3f",
   "metadata": {
    "collapsed": true
   },
   "outputs": [
    {
     "data": {
      "image/png": "[encoded data removed]",
      "text/plain": [
       "<Figure size 648x504 with 1 Axes>"
      ]
     },
     "metadata": {},
     "output_type": "display_data"
    }
   ],
   "source": [
    "sns.countplot(x = 'target', hue='embarked', data=df);\n",
    "plt.title(\"Distribution of Target vs Embarked\", fontsize= 30);"
   ]
  },
  {
   "cell_type": "code",
   "execution_count": 123,
   "id": "b4572be6",
   "metadata": {
    "collapsed": true
   },
   "outputs": [
    {
     "data": {
      "image/png": "[encoded data removed]",
      "text/plain": [
       "<Figure size 648x504 with 1 Axes>"
      ]
     },
     "metadata": {},
     "output_type": "display_data"
    }
   ],
   "source": [
    "sns.scatterplot(x='age', y='fare', data=df)\n",
    "plt.title(\"Relationship of Age vs Fare\", fontsize= 30);"
   ]
  },
  {
   "cell_type": "markdown",
   "id": "d3f578a0",
   "metadata": {},
   "source": [
    "#### Multi-variate Analysis"
   ]
  },
  {
   "cell_type": "code",
   "execution_count": 125,
   "id": "a137b244",
   "metadata": {
    "collapsed": true
   },
   "outputs": [
    {
     "data": {
      "image/png": "[encoded data removed]",
      "text/plain": [
       "<Figure size 1080x1080 with 42 Axes>"
      ]
     },
     "metadata": {},
     "output_type": "display_data"
    }
   ],
   "source": [
    "sns.pairplot(df);"
   ]
  },
  {
   "cell_type": "code",
   "execution_count": 129,
   "id": "e96b45ee",
   "metadata": {
    "collapsed": true
   },
   "outputs": [
    {
     "data": {
      "image/png": "[encoded data removed]",
      "text/plain": [
       "<Figure size 864x864 with 2 Axes>"
      ]
     },
     "metadata": {},
     "output_type": "display_data"
    }
   ],
   "source": [
    "plt.figure(figsize=(12,12))\n",
    "sns.heatmap(df.corr(), annot=True);"
   ]
  },
  {
   "cell_type": "markdown",
   "id": "ba3571b2",
   "metadata": {},
   "source": [
    "## Data Preprocessing"
   ]
  },
  {
   "cell_type": "markdown",
   "id": "5459862e",
   "metadata": {},
   "source": [
    "#### Percent of Missing in data"
   ]
  },
  {
   "cell_type": "code",
   "execution_count": 56,
   "id": "3b1cf490",
   "metadata": {},
   "outputs": [
    {
     "data": {
      "text/plain": [
       "age          20.091673\n",
       "fare          0.076394\n",
       "cabin        77.463713\n",
       "embarked      0.152788\n",
       "boat         62.872422\n",
       "body         90.756303\n",
       "home.dest    43.086325\n",
       "dtype: float64"
      ]
     },
     "execution_count": 56,
     "metadata": {},
     "output_type": "execute_result"
    }
   ],
   "source": [
    "# percent of missing in data\n",
    "(df.loc[:,df.isna().sum()>0].isna().sum()/len(df))*100"
   ]
  },
  {
   "cell_type": "markdown",
   "id": "52b536de",
   "metadata": {},
   "source": [
    "#### Fill Missing values"
   ]
  },
  {
   "cell_type": "markdown",
   "id": "7b8eb814",
   "metadata": {},
   "source": [
    "- If `Age` and `Fare` is missing for a given row, I'll impute with their (median age, fare).\n",
    "- If `Embarked` is missing for a riven row, I'll impute with \"S\" (the most common boarding port).\n",
    "- I'll ignore `Cabin`,`boat`,`body`,`home.dext` as  variables. There are too many missing values for imputation."
   ]
  },
  {
   "cell_type": "code",
   "execution_count": 57,
   "id": "e42c7712",
   "metadata": {},
   "outputs": [],
   "source": [
    "df['age'].fillna(df['age'].median(skipna=True), inplace=True)\n",
    "df['fare'].fillna(df['age'].median(skipna=True), inplace=True)\n",
    "df['embarked'].fillna(df['embarked'].value_counts().idxmax(), inplace=True)\n",
    "df.drop(columns=['cabin','boat','body','home.dest'], axis=1, inplace=True)"
   ]
  },
  {
   "cell_type": "code",
   "execution_count": 58,
   "id": "ec5d1d49",
   "metadata": {},
   "outputs": [
    {
     "data": {
      "text/plain": [
       "pclass      0\n",
       "name        0\n",
       "sex         0\n",
       "age         0\n",
       "sibsp       0\n",
       "parch       0\n",
       "ticket      0\n",
       "fare        0\n",
       "embarked    0\n",
       "target      0\n",
       "dtype: int64"
      ]
     },
     "execution_count": 58,
     "metadata": {},
     "output_type": "execute_result"
    }
   ],
   "source": [
    "# percent of missing\n",
    "df.isna().sum()"
   ]
  },
  {
   "cell_type": "code",
   "execution_count": 186,
   "id": "a9d46c01",
   "metadata": {},
   "outputs": [
    {
     "data": {
      "text/html": [
       "<div>\n",
       "<style scoped>\n",
       "    .dataframe tbody tr th:only-of-type {\n",
       "        vertical-align: middle;\n",
       "    }\n",
       "\n",
       "    .dataframe tbody tr th {\n",
       "        vertical-align: top;\n",
       "    }\n",
       "\n",
       "    .dataframe thead th {\n",
       "        text-align: right;\n",
       "    }\n",
       "</style>\n",
       "<table border=\"1\" class=\"dataframe\">\n",
       "  <thead>\n",
       "    <tr style=\"text-align: right;\">\n",
       "      <th></th>\n",
       "      <th>pclass</th>\n",
       "      <th>name</th>\n",
       "      <th>sex</th>\n",
       "      <th>age</th>\n",
       "      <th>sibsp</th>\n",
       "      <th>parch</th>\n",
       "      <th>ticket</th>\n",
       "      <th>fare</th>\n",
       "      <th>embarked</th>\n",
       "      <th>target</th>\n",
       "    </tr>\n",
       "  </thead>\n",
       "  <tbody>\n",
       "    <tr>\n",
       "      <th>0</th>\n",
       "      <td>1.0</td>\n",
       "      <td>Allen, Miss. Elisabeth Walton</td>\n",
       "      <td>female</td>\n",
       "      <td>29.0000</td>\n",
       "      <td>0.0</td>\n",
       "      <td>0.0</td>\n",
       "      <td>24160</td>\n",
       "      <td>211.3375</td>\n",
       "      <td>S</td>\n",
       "      <td>1</td>\n",
       "    </tr>\n",
       "    <tr>\n",
       "      <th>1</th>\n",
       "      <td>1.0</td>\n",
       "      <td>Allison, Master. Hudson Trevor</td>\n",
       "      <td>male</td>\n",
       "      <td>0.9167</td>\n",
       "      <td>1.0</td>\n",
       "      <td>2.0</td>\n",
       "      <td>113781</td>\n",
       "      <td>151.5500</td>\n",
       "      <td>S</td>\n",
       "      <td>1</td>\n",
       "    </tr>\n",
       "    <tr>\n",
       "      <th>2</th>\n",
       "      <td>1.0</td>\n",
       "      <td>Allison, Miss. Helen Loraine</td>\n",
       "      <td>female</td>\n",
       "      <td>2.0000</td>\n",
       "      <td>1.0</td>\n",
       "      <td>2.0</td>\n",
       "      <td>113781</td>\n",
       "      <td>151.5500</td>\n",
       "      <td>S</td>\n",
       "      <td>0</td>\n",
       "    </tr>\n",
       "    <tr>\n",
       "      <th>3</th>\n",
       "      <td>1.0</td>\n",
       "      <td>Allison, Mr. Hudson Joshua Creighton</td>\n",
       "      <td>male</td>\n",
       "      <td>30.0000</td>\n",
       "      <td>1.0</td>\n",
       "      <td>2.0</td>\n",
       "      <td>113781</td>\n",
       "      <td>151.5500</td>\n",
       "      <td>S</td>\n",
       "      <td>0</td>\n",
       "    </tr>\n",
       "    <tr>\n",
       "      <th>4</th>\n",
       "      <td>1.0</td>\n",
       "      <td>Allison, Mrs. Hudson J C (Bessie Waldo Daniels)</td>\n",
       "      <td>female</td>\n",
       "      <td>25.0000</td>\n",
       "      <td>1.0</td>\n",
       "      <td>2.0</td>\n",
       "      <td>113781</td>\n",
       "      <td>151.5500</td>\n",
       "      <td>S</td>\n",
       "      <td>0</td>\n",
       "    </tr>\n",
       "  </tbody>\n",
       "</table>\n",
       "</div>"
      ],
      "text/plain": [
       "   pclass                                             name     sex      age  \\\n",
       "0     1.0                    Allen, Miss. Elisabeth Walton  female  29.0000   \n",
       "1     1.0                   Allison, Master. Hudson Trevor    male   0.9167   \n",
       "2     1.0                     Allison, Miss. Helen Loraine  female   2.0000   \n",
       "3     1.0             Allison, Mr. Hudson Joshua Creighton    male  30.0000   \n",
       "4     1.0  Allison, Mrs. Hudson J C (Bessie Waldo Daniels)  female  25.0000   \n",
       "\n",
       "   sibsp  parch  ticket      fare embarked target  \n",
       "0    0.0    0.0   24160  211.3375        S      1  \n",
       "1    1.0    2.0  113781  151.5500        S      1  \n",
       "2    1.0    2.0  113781  151.5500        S      0  \n",
       "3    1.0    2.0  113781  151.5500        S      0  \n",
       "4    1.0    2.0  113781  151.5500        S      0  "
      ]
     },
     "execution_count": 186,
     "metadata": {},
     "output_type": "execute_result"
    }
   ],
   "source": [
    "df.head()"
   ]
  },
  {
   "cell_type": "markdown",
   "id": "59cd229e",
   "metadata": {},
   "source": [
    "#### Drop unnecessary Columns like `name`, `ticket`\n",
    "These columns are not related to our model prediction."
   ]
  },
  {
   "cell_type": "code",
   "execution_count": 59,
   "id": "91c4039a",
   "metadata": {},
   "outputs": [],
   "source": [
    "df.drop(columns=['name','ticket'], axis=1, inplace=True)"
   ]
  },
  {
   "cell_type": "code",
   "execution_count": null,
   "id": "c619f172",
   "metadata": {},
   "outputs": [],
   "source": []
  },
  {
   "cell_type": "markdown",
   "id": "3ee395ef",
   "metadata": {},
   "source": [
    "#### Add new Column/Feature \n",
    "Both `sibsp` and `parch` relate to traveling with family. I'll combine these two variables/columns into one categorical variable, which represents if a person is traveling alone or not."
   ]
  },
  {
   "cell_type": "code",
   "execution_count": 60,
   "id": "34abc6d9",
   "metadata": {},
   "outputs": [],
   "source": [
    "df['TravelAlone'] = np.where((df['sibsp']+df['parch'])>0,0,1)"
   ]
  },
  {
   "cell_type": "code",
   "execution_count": 61,
   "id": "ff87e618",
   "metadata": {},
   "outputs": [],
   "source": [
    "df.drop(['sibsp','parch'], axis=1, inplace=True)"
   ]
  },
  {
   "cell_type": "code",
   "execution_count": 62,
   "id": "59529ef1",
   "metadata": {},
   "outputs": [
    {
     "data": {
      "text/html": [
       "<div>\n",
       "<style scoped>\n",
       "    .dataframe tbody tr th:only-of-type {\n",
       "        vertical-align: middle;\n",
       "    }\n",
       "\n",
       "    .dataframe tbody tr th {\n",
       "        vertical-align: top;\n",
       "    }\n",
       "\n",
       "    .dataframe thead th {\n",
       "        text-align: right;\n",
       "    }\n",
       "</style>\n",
       "<table border=\"1\" class=\"dataframe\">\n",
       "  <thead>\n",
       "    <tr style=\"text-align: right;\">\n",
       "      <th></th>\n",
       "      <th>pclass</th>\n",
       "      <th>sex</th>\n",
       "      <th>age</th>\n",
       "      <th>fare</th>\n",
       "      <th>embarked</th>\n",
       "      <th>target</th>\n",
       "      <th>TravelAlone</th>\n",
       "    </tr>\n",
       "  </thead>\n",
       "  <tbody>\n",
       "    <tr>\n",
       "      <th>0</th>\n",
       "      <td>1.0</td>\n",
       "      <td>female</td>\n",
       "      <td>29.0000</td>\n",
       "      <td>211.3375</td>\n",
       "      <td>S</td>\n",
       "      <td>1</td>\n",
       "      <td>1</td>\n",
       "    </tr>\n",
       "    <tr>\n",
       "      <th>1</th>\n",
       "      <td>1.0</td>\n",
       "      <td>male</td>\n",
       "      <td>0.9167</td>\n",
       "      <td>151.5500</td>\n",
       "      <td>S</td>\n",
       "      <td>1</td>\n",
       "      <td>0</td>\n",
       "    </tr>\n",
       "  </tbody>\n",
       "</table>\n",
       "</div>"
      ],
      "text/plain": [
       "   pclass     sex      age      fare embarked target  TravelAlone\n",
       "0     1.0  female  29.0000  211.3375        S      1            1\n",
       "1     1.0    male   0.9167  151.5500        S      1            0"
      ]
     },
     "execution_count": 62,
     "metadata": {},
     "output_type": "execute_result"
    }
   ],
   "source": [
    "df.head(2)"
   ]
  },
  {
   "cell_type": "code",
   "execution_count": 63,
   "id": "2593e374",
   "metadata": {},
   "outputs": [
    {
     "data": {
      "text/plain": [
       "pclass          float64\n",
       "sex            category\n",
       "age             float64\n",
       "fare            float64\n",
       "embarked       category\n",
       "target         category\n",
       "TravelAlone       int64\n",
       "dtype: object"
      ]
     },
     "execution_count": 63,
     "metadata": {},
     "output_type": "execute_result"
    }
   ],
   "source": [
    "df.dtypes"
   ]
  },
  {
   "cell_type": "markdown",
   "id": "79b547f3",
   "metadata": {},
   "source": [
    "**Save Clean Data on the Local Disk**"
   ]
  },
  {
   "cell_type": "code",
   "execution_count": 64,
   "id": "313effd3",
   "metadata": {},
   "outputs": [],
   "source": [
    "df.to_csv(\"datasets/cleaned_data.csv\", index=False)"
   ]
  },
  {
   "cell_type": "code",
   "execution_count": 66,
   "id": "d23f105e",
   "metadata": {},
   "outputs": [],
   "source": [
    "# !ls"
   ]
  },
  {
   "cell_type": "markdown",
   "id": "634e473d",
   "metadata": {},
   "source": [
    "**Load the cleaned Data**"
   ]
  },
  {
   "cell_type": "code",
   "execution_count": 273,
   "id": "ad129f34",
   "metadata": {},
   "outputs": [
    {
     "data": {
      "text/html": [
       "<div>\n",
       "<style scoped>\n",
       "    .dataframe tbody tr th:only-of-type {\n",
       "        vertical-align: middle;\n",
       "    }\n",
       "\n",
       "    .dataframe tbody tr th {\n",
       "        vertical-align: top;\n",
       "    }\n",
       "\n",
       "    .dataframe thead th {\n",
       "        text-align: right;\n",
       "    }\n",
       "</style>\n",
       "<table border=\"1\" class=\"dataframe\">\n",
       "  <thead>\n",
       "    <tr style=\"text-align: right;\">\n",
       "      <th></th>\n",
       "      <th>pclass</th>\n",
       "      <th>sex</th>\n",
       "      <th>age</th>\n",
       "      <th>fare</th>\n",
       "      <th>embarked</th>\n",
       "      <th>target</th>\n",
       "      <th>TravelAlone</th>\n",
       "    </tr>\n",
       "  </thead>\n",
       "  <tbody>\n",
       "    <tr>\n",
       "      <th>0</th>\n",
       "      <td>1.0</td>\n",
       "      <td>female</td>\n",
       "      <td>29.0000</td>\n",
       "      <td>211.3375</td>\n",
       "      <td>S</td>\n",
       "      <td>1</td>\n",
       "      <td>1</td>\n",
       "    </tr>\n",
       "    <tr>\n",
       "      <th>1</th>\n",
       "      <td>1.0</td>\n",
       "      <td>male</td>\n",
       "      <td>0.9167</td>\n",
       "      <td>151.5500</td>\n",
       "      <td>S</td>\n",
       "      <td>1</td>\n",
       "      <td>0</td>\n",
       "    </tr>\n",
       "  </tbody>\n",
       "</table>\n",
       "</div>"
      ],
      "text/plain": [
       "   pclass     sex      age      fare embarked  target  TravelAlone\n",
       "0     1.0  female  29.0000  211.3375        S       1            1\n",
       "1     1.0    male   0.9167  151.5500        S       1            0"
      ]
     },
     "execution_count": 273,
     "metadata": {},
     "output_type": "execute_result"
    }
   ],
   "source": [
    "cleaned_data = pd.read_csv('datasets/cleaned_data.csv')\n",
    "cleaned_data.head(2)"
   ]
  },
  {
   "cell_type": "code",
   "execution_count": null,
   "id": "a21f8d98",
   "metadata": {},
   "outputs": [],
   "source": []
  },
  {
   "cell_type": "markdown",
   "id": "49a620a4",
   "metadata": {},
   "source": [
    "### Feature Encoding"
   ]
  },
  {
   "cell_type": "code",
   "execution_count": 277,
   "id": "4dc0991f",
   "metadata": {},
   "outputs": [],
   "source": [
    "# extract numerical and categorical columns from the df\n",
    "numeric_cols = df.select_dtypes(include=np.number).columns.to_list()\n",
    "categorical_cols = ['sex','embarked']"
   ]
  },
  {
   "cell_type": "markdown",
   "id": "843555d3",
   "metadata": {},
   "source": [
    "#### Pipeline for Encoding of Numerical columns"
   ]
  },
  {
   "cell_type": "code",
   "execution_count": 278,
   "id": "22e5e5bd",
   "metadata": {},
   "outputs": [],
   "source": [
    "# Create a ColumnTransformer to handle numeric columns\n",
    "numeric_transformer = Pipeline(steps=[\n",
    "    ('scaler', StandardScaler())\n",
    "])"
   ]
  },
  {
   "cell_type": "markdown",
   "id": "43307920",
   "metadata": {},
   "source": [
    "#### Pipeline for Encoding of Categorical Columns"
   ]
  },
  {
   "cell_type": "code",
   "execution_count": 279,
   "id": "16ec9c56",
   "metadata": {},
   "outputs": [],
   "source": [
    "# Create a ColumnTransformer to handle categorical columns\n",
    "categorical_transformer = Pipeline(steps=[\n",
    "    ('onehot', OneHotEncoder(handle_unknown='ignore'))\n",
    "])\n"
   ]
  },
  {
   "cell_type": "code",
   "execution_count": null,
   "id": "10b1df72",
   "metadata": {},
   "outputs": [],
   "source": []
  },
  {
   "cell_type": "markdown",
   "id": "c071f0dd",
   "metadata": {},
   "source": [
    "#### Pipeline for Column Transformer\n",
    "We will Combine both numerical and categorical column using the Column Transformer module"
   ]
  },
  {
   "cell_type": "code",
   "execution_count": 280,
   "id": "cb26461f",
   "metadata": {},
   "outputs": [],
   "source": [
    "# Combine the transformers into a single ColumnTransformer\n",
    "preprocessor = ColumnTransformer(\n",
    "    transformers=[\n",
    "        ('cat', categorical_transformer, categorical_cols),\n",
    "        ('num', numeric_transformer, numeric_cols)\n",
    "    ]\n",
    ")"
   ]
  },
  {
   "cell_type": "code",
   "execution_count": null,
   "id": "1cbe993a",
   "metadata": {},
   "outputs": [],
   "source": []
  },
  {
   "cell_type": "markdown",
   "id": "3785d63d",
   "metadata": {},
   "source": [
    "### Train Test Validate Split"
   ]
  },
  {
   "cell_type": "code",
   "execution_count": 281,
   "id": "3f22c26b",
   "metadata": {},
   "outputs": [],
   "source": [
    "# select input features and target feature\n",
    "X = df.drop(['target'], axis=1)"
   ]
  },
  {
   "cell_type": "code",
   "execution_count": 282,
   "id": "689bd098",
   "metadata": {},
   "outputs": [],
   "source": [
    "y = df['target']"
   ]
  },
  {
   "cell_type": "code",
   "execution_count": 284,
   "id": "f8f413c9",
   "metadata": {},
   "outputs": [],
   "source": [
    "# Split the data into training and testing sets\n",
    "X_train, X_test, y_train, y_test = train_test_split(X, y, test_size=0.2, random_state=42)\n",
    "\n",
    "# Split the training set into training and validation sets\n",
    "X_train, X_val, y_train, y_val = train_test_split(X_train, y_train, test_size=0.2, random_state=42)"
   ]
  },
  {
   "cell_type": "code",
   "execution_count": 287,
   "id": "f0db0a31",
   "metadata": {},
   "outputs": [
    {
     "name": "stdout",
     "output_type": "stream",
     "text": [
      "(837, 6)\n",
      "(262, 6)\n",
      "(837,)\n",
      "(262,)\n",
      "(210,)\n",
      "(210, 6)\n"
     ]
    }
   ],
   "source": [
    "print(X_train.shape)\n",
    "print(X_test.shape)\n",
    "print(y_train.shape)\n",
    "print(y_test.shape)\n",
    "print(y_val.shape)\n",
    "print(X_val.shape)"
   ]
  },
  {
   "cell_type": "code",
   "execution_count": null,
   "id": "cc48ca23",
   "metadata": {},
   "outputs": [],
   "source": []
  },
  {
   "cell_type": "markdown",
   "id": "67398420",
   "metadata": {},
   "source": [
    "### Model Buidling"
   ]
  },
  {
   "cell_type": "code",
   "execution_count": 290,
   "id": "c318a3f8",
   "metadata": {},
   "outputs": [
    {
     "data": {
      "text/plain": [
       "Pipeline(steps=[('preprocessor',\n",
       "                 ColumnTransformer(transformers=[('cat',\n",
       "                                                  Pipeline(steps=[('onehot',\n",
       "                                                                   OneHotEncoder(handle_unknown='ignore'))]),\n",
       "                                                  ['sex', 'embarked']),\n",
       "                                                 ('num',\n",
       "                                                  Pipeline(steps=[('scaler',\n",
       "                                                                   StandardScaler())]),\n",
       "                                                  ['pclass', 'age', 'fare',\n",
       "                                                   'TravelAlone'])])),\n",
       "                ('lr', LogisticRegression(max_iter=500))])"
      ]
     },
     "execution_count": 290,
     "metadata": {},
     "output_type": "execute_result"
    }
   ],
   "source": [
    "from sklearn.pipeline import Pipeline\n",
    "model =  Pipeline([('preprocessor',preprocessor),\n",
    "                   ('lr', LogisticRegression(max_iter=500))])\n",
    "model"
   ]
  },
  {
   "cell_type": "code",
   "execution_count": 294,
   "id": "f4bfb7b8",
   "metadata": {},
   "outputs": [
    {
     "data": {
      "text/plain": [
       "Pipeline(steps=[('preprocessor',\n",
       "                 ColumnTransformer(transformers=[('cat',\n",
       "                                                  Pipeline(steps=[('onehot',\n",
       "                                                                   OneHotEncoder(handle_unknown='ignore'))]),\n",
       "                                                  ['sex', 'embarked']),\n",
       "                                                 ('num',\n",
       "                                                  Pipeline(steps=[('scaler',\n",
       "                                                                   StandardScaler())]),\n",
       "                                                  ['pclass', 'age', 'fare',\n",
       "                                                   'TravelAlone'])])),\n",
       "                ('lr', LogisticRegression(max_iter=500))])"
      ]
     },
     "execution_count": 294,
     "metadata": {},
     "output_type": "execute_result"
    }
   ],
   "source": [
    "model.fit(X_train, y_train)"
   ]
  },
  {
   "cell_type": "code",
   "execution_count": 297,
   "id": "b1401f9f",
   "metadata": {},
   "outputs": [
    {
     "data": {
      "text/plain": [
       "array(['0', '0', '0', '0', '0', '0', '0', '0', '0', '1', '0', '0', '1',\n",
       "       '0', '0', '0', '0', '1', '1', '0', '1', '0', '0', '0', '0', '1',\n",
       "       '0', '1', '0', '1', '0', '0', '0', '1', '0', '0', '1', '0', '1',\n",
       "       '1', '1', '0', '1', '0', '0', '0', '0', '1', '1', '1', '1', '0',\n",
       "       '0', '1', '0', '0', '0', '0', '0', '1', '0', '0', '1', '0', '1',\n",
       "       '1', '1', '0', '0', '0', '0', '0', '0', '0', '0', '0', '0', '1',\n",
       "       '0', '1', '0', '0', '0', '0', '1', '0', '0', '1', '1', '1', '1',\n",
       "       '0', '1', '0', '0', '0', '0', '1', '0', '0', '0', '0', '0', '0',\n",
       "       '0', '0', '0', '0', '0', '1', '0', '0', '0', '1', '1', '0', '0',\n",
       "       '0', '0', '1', '0', '0', '0', '0', '0', '0', '0', '0', '1', '0',\n",
       "       '1', '1', '0', '0', '0', '1', '0', '0', '0', '1', '0', '0', '1',\n",
       "       '1', '0', '1', '0', '0', '1', '0', '1', '0', '0', '0', '0', '0',\n",
       "       '1', '0', '0', '0', '0', '1', '0', '0', '1', '0', '0', '0', '0',\n",
       "       '1', '1', '1', '1', '0', '1', '0', '1', '0', '1', '0', '1', '1',\n",
       "       '0', '1', '0', '1', '0', '0', '1', '0', '0', '0', '0', '0', '0',\n",
       "       '0', '0', '1', '1', '1', '0', '0', '0', '0', '0', '0', '1', '0',\n",
       "       '0', '1', '0', '1', '0', '1', '0', '1', '1', '0', '0', '0', '1',\n",
       "       '0', '1', '0', '0', '0', '0', '0', '0', '0', '0', '1', '0', '0',\n",
       "       '0', '1', '0', '0', '0', '0', '0', '0', '0', '0', '1', '0', '0',\n",
       "       '0', '0', '0', '0', '0', '1', '1', '0', '0', '1', '1', '1', '1',\n",
       "       '0', '1'], dtype=object)"
      ]
     },
     "execution_count": 297,
     "metadata": {},
     "output_type": "execute_result"
    }
   ],
   "source": [
    "y_pred = model.predict(X_test)\n",
    "y_pred"
   ]
  },
  {
   "cell_type": "markdown",
   "id": "555b1e8d",
   "metadata": {},
   "source": [
    "### Model Evaluation using Train/Test Split"
   ]
  },
  {
   "cell_type": "code",
   "execution_count": 298,
   "id": "c7446bc1",
   "metadata": {},
   "outputs": [],
   "source": [
    "from sklearn.metrics import confusion_matrix, precision_score,precision_recall_curve \n",
    "from sklearn.metrics import roc_curve, auc, log_loss, accuracy_score, recall_score\n"
   ]
  },
  {
   "cell_type": "markdown",
   "id": "e6646567",
   "metadata": {},
   "source": [
    "**Accuracy Score**"
   ]
  },
  {
   "cell_type": "code",
   "execution_count": 300,
   "id": "c02f432d",
   "metadata": {},
   "outputs": [
    {
     "name": "stdout",
     "output_type": "stream",
     "text": [
      "Classification Accuracy: 0.767\n"
     ]
    }
   ],
   "source": [
    "accuracy = accuracy_score(y_test, y_pred)\n",
    "print(f'Classification Accuracy: {accuracy:.3f}')"
   ]
  },
  {
   "cell_type": "markdown",
   "id": "0bdedd95",
   "metadata": {},
   "source": [
    "**Confusion Matric**"
   ]
  },
  {
   "cell_type": "code",
   "execution_count": 301,
   "id": "b6b2f226",
   "metadata": {},
   "outputs": [
    {
     "name": "stdout",
     "output_type": "stream",
     "text": [
      "Confusion Matrix: \n",
      "[[131  13]\n",
      " [ 48  70]]\n"
     ]
    },
    {
     "data": {
      "image/png": "[encoded data removed]",
      "text/plain": [
       "<Figure size 432x288 with 2 Axes>"
      ]
     },
     "metadata": {
      "needs_background": "light"
     },
     "output_type": "display_data"
    }
   ],
   "source": [
    "Result = confusion_matrix(y_test, y_pred)\n",
    "print(f'Confusion Matrix: \\n{Result}')\n",
    "\n",
    "sns.heatmap(Result, annot=True, fmt='.3g');"
   ]
  },
  {
   "cell_type": "markdown",
   "id": "8a822443",
   "metadata": {},
   "source": [
    "**Precision and Recall**"
   ]
  },
  {
   "cell_type": "code",
   "execution_count": 302,
   "id": "05c77dbd",
   "metadata": {},
   "outputs": [
    {
     "name": "stdout",
     "output_type": "stream",
     "text": [
      "Precision: 0.843, Recall: 0.593\n"
     ]
    }
   ],
   "source": [
    "precision = precision_score(y_test, y_pred, pos_label=\"1\")\n",
    "\n",
    "recall = recall_score(y_test, y_pred, pos_label=\"1\")\n",
    "\n",
    "print(f'Precision: {precision:.3f}, Recall: {recall:.3f}')\n"
   ]
  },
  {
   "cell_type": "markdown",
   "id": "2cd60e2d",
   "metadata": {},
   "source": [
    "**F1 Score**"
   ]
  },
  {
   "cell_type": "code",
   "execution_count": 303,
   "id": "8a0c5de9",
   "metadata": {},
   "outputs": [
    {
     "name": "stdout",
     "output_type": "stream",
     "text": [
      "F1 Score: 0.697\n"
     ]
    }
   ],
   "source": [
    "# Import necessary libraries\n",
    "f1 = f1_score(y_test, y_pred, pos_label=\"1\")\n",
    "print(f'F1 Score: {f1:.3f}')\n"
   ]
  },
  {
   "cell_type": "code",
   "execution_count": 304,
   "id": "2c670fa1",
   "metadata": {},
   "outputs": [
    {
     "name": "stdout",
     "output_type": "stream",
     "text": [
      "AUC: 0.847\n"
     ]
    }
   ],
   "source": [
    "# Import necessary libraries\n",
    "from sklearn.metrics import roc_curve, roc_auc_score\n",
    "\n",
    "# Calculate ROC curve and AUC\n",
    "y_pred_proba = model.predict_proba(X_test)[:,1]\n",
    "fpr, tpr, thresholds = roc_curve(y_test, y_pred_proba, pos_label=\"1\")\n",
    "auc = roc_auc_score(Y_test, y_pred_proba)\n",
    "print(f'AUC: {auc:.3f}')\n"
   ]
  },
  {
   "cell_type": "code",
   "execution_count": 305,
   "id": "7417e02c",
   "metadata": {},
   "outputs": [
    {
     "name": "stdout",
     "output_type": "stream",
     "text": [
      "Train/Test split result of Logistic Regression : \n",
      "Classification Accuracy: 0.767\n",
      "Precision: 0.843, Recall: 0.593\n",
      "F1 Score: 0.697\n",
      "AUC: 0.847\n"
     ]
    }
   ],
   "source": [
    "print(\"Train/Test split result of Logistic Regression : \")\n",
    "print(f'Classification Accuracy: {accuracy:.3f}')\n",
    "print(f'Precision: {precision:.3f}, Recall: {recall:.3f}')\n",
    "print(f'F1 Score: {f1:.3f}')\n",
    "print(f'AUC: {auc:.3f}')"
   ]
  },
  {
   "cell_type": "markdown",
   "id": "2a717bbb",
   "metadata": {},
   "source": [
    "#### Model evaluation based on K-fold cross-validation using `cross_val_score()` function with` validation data`"
   ]
  },
  {
   "cell_type": "code",
   "execution_count": 307,
   "id": "b6986d39",
   "metadata": {},
   "outputs": [],
   "source": [
    "model1 =  Pipeline([('preprocessor',preprocessor),\n",
    "                   ('lr', LogisticRegression(max_iter=500))])\n",
    "result_accuracy = cross_val_score(model1, X_val, y_val, cv=10, scoring=\"accuracy\")\n",
    "result_log_loss = cross_val_score(model1, X_val, y_val, cv=10, scoring=\"neg_log_loss\")\n",
    "result_auc = cross_val_score(model1, X_val, y_val, cv=10, scoring=\"roc_auc\")"
   ]
  },
  {
   "cell_type": "code",
   "execution_count": 308,
   "id": "efb2fe8e",
   "metadata": {},
   "outputs": [
    {
     "name": "stdout",
     "output_type": "stream",
     "text": [
      "K-fold cross-validation results:\n",
      "Average Accuracy : 0.752\n",
      "Average Log Loss : 0.528\n",
      "Average AUC : 0.813\n"
     ]
    }
   ],
   "source": [
    "print('K-fold cross-validation results:')\n",
    "print(f\"Average Accuracy : {result_accuracy.mean():.3f}\")\n",
    "print(f\"Average Log Loss : {-result_log_loss.mean():.3f}\")\n",
    "print(f\"Average AUC : {result_auc.mean():.3f}\")"
   ]
  },
  {
   "cell_type": "markdown",
   "id": "b704f299",
   "metadata": {},
   "source": [
    "### Hyper-Parameter Tunning of Logistic Regression Model using GridSearchCV \n",
    "> In this example, the `GridSearchCV` class is used to perform a grid search over the values of the hyper-parameters defined in the param_grid dictionary. The fit method is used to train the logistic regression model on the training data, and the best_params_ attribute is used to print the best hyper-parameters found by the grid search. The model's performance is then evaluated on the test set using the score method.\n",
    "\n",
    "> You can use the `RandomizedSearchCV` class in a similar way to perform a random search for the best hyper-parameters of a logistic regression model. The main difference is that instead of specifying a grid of values for each hyper-parameter, you can specify a distribution from which the hyper-parameter values will be sampled randomly. This can be useful if you want to explore a larger range of hyper-parameter values, but don't want to specify every possible value.\n",
    "\n",
    "Here is a list of some common hyperparameters that you can include in the param_grid for logistic regression:\n",
    "\n",
    "- **C:** The inverse of the regularization strength. Higher values of C correspond to less regularization and larger model complexity.\n",
    "- **penalty:** The type of regularization to be used. Options include 'l1' for L1 regularization and 'l2' for L2 regularization.\n",
    "- **solver:** The algorithm to be used to optimize the logistic regression model. Options include 'newton-cg', 'lbfgs', 'liblinear', 'sag', and 'saga'.\n",
    "- **max_iter:** The maximum number of iterations to be used by the solver. Higher values may result in better model convergence, but may also increase computation time.\n",
    "- **tol:** The tolerance for the solver to consider the optimization as converged. Lower values may result in better model convergence, but may also increase computation time.\n",
    "- **class_weight:** The weights to be used for the different classes in the dataset. Options include None for equal weights, 'balanced' for weights proportional to the inverse of the class frequencies, or a user-defined dictionary of weights."
   ]
  },
  {
   "cell_type": "code",
   "execution_count": 314,
   "id": "d75040c6",
   "metadata": {},
   "outputs": [
    {
     "name": "stdout",
     "output_type": "stream",
     "text": [
      "Best Hyperparameters: {'classifier__C': 1, 'classifier__class_weight': None, 'classifier__max_iter': 100, 'classifier__penalty': 'l1', 'classifier__solver': 'saga', 'classifier__tol': 0.001}\n",
      "Best Score: 0.827\n"
     ]
    }
   ],
   "source": [
    "from sklearn.model_selection import GridSearchCV\n",
    "\n",
    "model = Pipeline(steps=[('preprocessor', preprocessor),\n",
    "                      ('classifier', LogisticRegression())])\n",
    "\n",
    "param_grid = {\n",
    "    'classifier__C': [0.001, 0.01, 0.1, 1, 10, 100],\n",
    "    'classifier__penalty': ['l1', 'l2'],\n",
    "    'classifier__solver': ['newton-cg', 'lbfgs', 'liblinear', 'sag', 'saga'],\n",
    "    'classifier__max_iter': [100, 250, 500, 1000],\n",
    "    'classifier__tol': [1e-3, 1e-4, 1e-5],\n",
    "    'classifier__class_weight': [None, 'balanced']\n",
    "}\n",
    "\n",
    "\n",
    "final_model = GridSearchCV(model, param_grid, cv=5, scoring='roc_auc', return_train_score=True)\n",
    "\n",
    "final_model.fit(X_val, y_val)\n",
    "\n",
    "# the best hyperparameters and the best score\n",
    "print(f'Best Hyperparameters: {final_model.best_params_}')\n",
    "print(f'Best Score: {final_model.best_score_:.3f}')\n"
   ]
  },
  {
   "cell_type": "code",
   "execution_count": 315,
   "id": "67ec6d9d",
   "metadata": {},
   "outputs": [
    {
     "data": {
      "text/plain": [
       "array(['0', '0', '0', '0', '0', '0', '0', '0', '0', '1', '0', '0', '1',\n",
       "       '0', '0', '1', '0', '1', '1', '0', '1', '0', '0', '0', '0', '1',\n",
       "       '0', '1', '1', '1', '0', '0', '1', '1', '0', '0', '1', '0', '1',\n",
       "       '0', '1', '0', '1', '0', '0', '0', '0', '1', '1', '1', '1', '0',\n",
       "       '0', '1', '0', '0', '0', '0', '0', '1', '0', '0', '1', '0', '1',\n",
       "       '1', '1', '0', '0', '0', '0', '0', '0', '0', '0', '0', '0', '1',\n",
       "       '0', '1', '0', '0', '0', '0', '1', '0', '0', '1', '1', '1', '1',\n",
       "       '0', '1', '0', '0', '0', '0', '1', '0', '1', '0', '0', '1', '1',\n",
       "       '0', '0', '1', '0', '1', '1', '0', '0', '0', '1', '1', '0', '0',\n",
       "       '0', '0', '1', '0', '0', '0', '1', '0', '0', '0', '1', '1', '1',\n",
       "       '1', '1', '0', '0', '0', '1', '0', '0', '0', '1', '0', '0', '1',\n",
       "       '1', '0', '1', '0', '0', '1', '0', '1', '1', '0', '0', '0', '0',\n",
       "       '1', '0', '0', '0', '0', '1', '0', '0', '1', '1', '0', '1', '0',\n",
       "       '1', '1', '1', '1', '1', '1', '0', '1', '0', '1', '0', '1', '0',\n",
       "       '0', '1', '0', '1', '0', '0', '1', '1', '0', '0', '0', '0', '0',\n",
       "       '0', '0', '1', '1', '1', '0', '0', '0', '0', '1', '0', '1', '0',\n",
       "       '0', '1', '0', '1', '0', '0', '0', '1', '1', '0', '0', '0', '1',\n",
       "       '0', '1', '0', '0', '0', '0', '0', '0', '0', '0', '1', '0', '0',\n",
       "       '0', '1', '0', '0', '0', '0', '0', '0', '0', '0', '1', '0', '0',\n",
       "       '0', '0', '0', '0', '0', '1', '1', '0', '0', '0', '1', '0', '1',\n",
       "       '0', '1'], dtype=object)"
      ]
     },
     "execution_count": 315,
     "metadata": {},
     "output_type": "execute_result"
    }
   ],
   "source": [
    "final_model.predict(X_test)"
   ]
  },
  {
   "cell_type": "markdown",
   "id": "0ed5b5ae",
   "metadata": {},
   "source": [
    "### Save the Model using Pickle"
   ]
  },
  {
   "cell_type": "code",
   "execution_count": 316,
   "id": "f408be54",
   "metadata": {},
   "outputs": [],
   "source": [
    "import pickle\n",
    "\n",
    "# Save the model to a file using pickle\n",
    "with open(\"Model/titanic_Survival.pkl\", 'wb') as file:\n",
    "    pickle.dump(final_model, file)"
   ]
  },
  {
   "cell_type": "code",
   "execution_count": null,
   "id": "c75d5ae9",
   "metadata": {},
   "outputs": [],
   "source": []
  },
  {
   "cell_type": "markdown",
   "id": "67e40b47",
   "metadata": {},
   "source": [
    "### Load the Model using Pickle"
   ]
  },
  {
   "cell_type": "code",
   "execution_count": 317,
   "id": "274ee3a0",
   "metadata": {},
   "outputs": [],
   "source": [
    "import pickle\n",
    "\n",
    "# Load the model to a file using pickle\n",
    "with open(\"Model/titanic_Survival.pkl\", 'rb') as file:\n",
    "    model_file = pickle.load(file)"
   ]
  },
  {
   "cell_type": "raw",
   "id": "db143d33",
   "metadata": {},
   "source": []
  },
  {
   "cell_type": "markdown",
   "id": "5de83003",
   "metadata": {},
   "source": [
    "### Prediction on New Data"
   ]
  },
  {
   "cell_type": "code",
   "execution_count": 341,
   "id": "f27c08a3",
   "metadata": {},
   "outputs": [],
   "source": [
    "new_data = pd.DataFrame({\n",
    "    'pclass':3,\n",
    "    'sex':'female',\n",
    "    'age':50.0,\n",
    "    'fare':10.0,\n",
    "    'embarked':'S',\n",
    "    'TravelAlone': 0, \n",
    "},index=[0])"
   ]
  },
  {
   "cell_type": "code",
   "execution_count": 342,
   "id": "647eb246",
   "metadata": {},
   "outputs": [
    {
     "name": "stdout",
     "output_type": "stream",
     "text": [
      "Sorry, you did not survive the Titanic.\n"
     ]
    }
   ],
   "source": [
    "result = model_file.predict(new_data)[0]\n",
    "if result == '0':\n",
    "    print('Sorry, you did not survive the Titanic.')\n",
    "else:\n",
    "    print('Congratulations, you survived the Titanic!')"
   ]
  },
  {
   "cell_type": "markdown",
   "id": "bfbe4e71",
   "metadata": {},
   "source": [
    "## Titanic Survival App"
   ]
  },
  {
   "cell_type": "code",
   "execution_count": 347,
   "id": "6b650c5d",
   "metadata": {},
   "outputs": [
    {
     "name": "stdout",
     "output_type": "stream",
     "text": [
      "import streamlit as st\r\n",
      "import pickle\r\n",
      "import pandas as pd\r\n",
      "\r\n",
      "# Load the Model \r\n",
      "\r\n",
      "with open('Model/titanic_Survival.pkl', 'rb') as file:\r\n",
      "    model_file = pickle.load(file)\r\n",
      "\r\n",
      "# Title of Page\r\n",
      "st.title('Titanic Survival App')\r\n",
      "\r\n",
      "with st.form(\"my_form\"):\r\n",
      "    # Input form\r\n",
      "    age = st.number_input('Age', min_value=0, max_value=100)\r\n",
      "    fare = st.number_input('Fare', min_value=0, max_value=500)\r\n",
      "    pclass = st.number_input('Class', min_value=1, max_value=3)\r\n",
      "    TravelAlone = st.number_input('TravelAlone', min_value=0, max_value=1)\r\n",
      "    gender = st.selectbox('Gender', ['male', 'female'])\r\n",
      "    embarked = st.selectbox('Embarked', ['S', 'C', 'Q'])\r\n",
      "\r\n",
      "    # Preprocess the input\r\n",
      "    input_dict = {\r\n",
      "    'age': [age],\r\n",
      "    'fare': [fare],\r\n",
      "    'sex': [gender],\r\n",
      "    'embarked': [embarked],\r\n",
      "    'pclass':[pclass],\r\n",
      "    'TravelAlone':[TravelAlone]\r\n",
      "    }\r\n",
      "    input_df = pd.DataFrame(input_dict, index=[0])\r\n",
      "    result = model_file.predict(input_df)[0]\r\n",
      "    submitted = st.form_submit_button(\"Predict\")\r\n",
      "    if submitted:\r\n",
      "        if result == '0':\r\n",
      "            st.write('Sorry, you did not survive the Titanic.')\r\n",
      "        else:\r\n",
      "            st.write('Congratulations, you survived the Titanic!')\r\n",
      "\r\n"
     ]
    }
   ],
   "source": [
    "!cat app.py"
   ]
  },
  {
   "cell_type": "code",
   "execution_count": 346,
   "id": "c56080af",
   "metadata": {},
   "outputs": [],
   "source": [
    "# !streamlit run app.py"
   ]
  },
  {
   "cell_type": "markdown",
   "id": "0f7635ef",
   "metadata": {},
   "source": [
    "### Interview Questions\n",
    "Here are some potential interview questions about logistic regression:\n",
    "\n",
    "- Can you explain what logistic regression is and how it is used in machine learning?\n",
    "- What is the logistic function and how does it relate to logistic regression?\n",
    "- How is logistic regression different from linear regression?\n",
    "- How do you train a logistic regression model, and what optimization algorithms are commonly used for this task?\n",
    "- Can you describe some common applications of logistic regression in real-world problems?\n",
    "- How do you evaluate the performance of a logistic regression model, and what metrics are commonly used for this purpose?\n",
    "- Can you discuss some potential limitations of logistic regression and how these limitations can be overcome?\n",
    "- Have you ever encountered a problem where logistic regression was not suitable and, if so, how did you handle it? what other algorithms did you consider and why did you choose the one you did?\n",
    "- Can you provide an example of a logistic regression model that you have worked on, and what were the results of using this model?\n",
    "- How do you think logistic regression compares to other popular classification algorithms, such as decision trees and support vector machines, in terms of performance and suitability for different types of data and problems?\n",
    "- How does logistic regression estimate the probability of a binary outcome?\n",
    "- How is the logistic regression model trained?\n",
    "- What is the cost function used in logistic regression and how is it minimized?\n",
    "- How do you evaluate the performance of a logistic regression model?\n",
    "- What are some common challenges and limitations of logistic regression?\n",
    "- How do you handle imbalanced classes in logistic regression?\n",
    "- How do you handle multicollinearity in logistic regression?\n",
    "- How do you interpret the coefficients of a logistic regression model?\n",
    "- What are some common evaluation metrics for classification tasks?\n",
    "- How do you calculate precision, recall, and the F1 score?\n",
    "- What is the difference between micro-averaging and macro-averaging in classification evaluation?\n",
    "- What is the confusion matrix and how is it used to evaluate a classification model?\n",
    "- What is the ROC curve and how is it used to evaluate a classification model?\n",
    "- What is the AUC and how is it used to compare different classification models?\n",
    "- What are some factors that can affect the evaluation of a classification model?\n",
    "- How do you handle imbalanced classes when evaluating a classification model?\n",
    "- How do you handle multi-class classification tasks when evaluating a model?\n",
    "- How do you handle multi-label classification tasks when evaluating a model?"
   ]
  },
  {
   "cell_type": "code",
   "execution_count": null,
   "id": "1ed8aea2",
   "metadata": {},
   "outputs": [],
   "source": []
  },
  {
   "cell_type": "markdown",
   "id": "7dbd6ac6",
   "metadata": {},
   "source": [
    "### References\n",
    "- Jurafsky and Martin, SLP3\n",
    "- en.wikipedia.org"
   ]
  },
  {
   "cell_type": "code",
   "execution_count": null,
   "id": "ccba6917",
   "metadata": {},
   "outputs": [],
   "source": []
  },
  {
   "cell_type": "code",
   "execution_count": null,
   "id": "818b0383",
   "metadata": {},
   "outputs": [],
   "source": []
  },
  {
   "cell_type": "code",
   "execution_count": null,
   "id": "d7df6d59",
   "metadata": {},
   "outputs": [],
   "source": []
  },
  {
   "cell_type": "code",
   "execution_count": null,
   "id": "a78c042a",
   "metadata": {},
   "outputs": [],
   "source": []
  },
  {
   "cell_type": "code",
   "execution_count": null,
   "id": "c6c3267a",
   "metadata": {},
   "outputs": [],
   "source": []
  },
  {
   "cell_type": "code",
   "execution_count": null,
   "id": "64ef7464",
   "metadata": {},
   "outputs": [],
   "source": []
  }
 ],
 "metadata": {
  "kernelspec": {
   "display_name": "Python 3 (ipykernel)",
   "language": "python",
   "name": "python3"
  },
  "language_info": {
   "codemirror_mode": {
    "name": "ipython",
    "version": 3
   },
   "file_extension": ".py",
   "mimetype": "text/x-python",
   "name": "python",
   "nbconvert_exporter": "python",
   "pygments_lexer": "ipython3",
   "version": "3.10.4"
  }
 },
 "nbformat": 4,
 "nbformat_minor": 5
}
