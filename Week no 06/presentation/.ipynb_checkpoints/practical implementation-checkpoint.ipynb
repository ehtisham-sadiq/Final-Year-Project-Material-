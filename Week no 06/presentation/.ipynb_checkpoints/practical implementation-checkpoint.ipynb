{
 "cells": [
  {
   "cell_type": "markdown",
   "id": "91a1dca7",
   "metadata": {},
   "source": [
    "## Logistic Regression python Implementation"
   ]
  },
  {
   "cell_type": "code",
   "execution_count": 24,
   "id": "e6364faa",
   "metadata": {},
   "outputs": [],
   "source": [
    "import numpy as np\n",
    "import pandas as pd\n",
    "import seaborn as sns\n",
    "import matplotlib.pyplot as plt"
   ]
  },
  {
   "cell_type": "code",
   "execution_count": 6,
   "id": "95d8f992",
   "metadata": {},
   "outputs": [],
   "source": [
    "# Set the number of data points and number of features\n",
    "m = 100\n",
    "n = 3\n"
   ]
  },
  {
   "cell_type": "code",
   "execution_count": 7,
   "id": "9bae432c",
   "metadata": {},
   "outputs": [],
   "source": [
    "# Generate random data and labels\n",
    "X = np.random.randn(m, n)\n",
    "y = np.random.randint(0, 2, size=m)"
   ]
  },
  {
   "cell_type": "code",
   "execution_count": 8,
   "id": "6d0746de",
   "metadata": {},
   "outputs": [],
   "source": [
    "# Initialize the weights and bias\n",
    "w = np.zeros(n)\n",
    "b = 0"
   ]
  },
  {
   "cell_type": "code",
   "execution_count": 9,
   "id": "b98147d4",
   "metadata": {},
   "outputs": [],
   "source": [
    "# Define the sigmoid function\n",
    "def sigmoid(z):\n",
    "    return 1 / (1 + np.exp(-z))"
   ]
  },
  {
   "cell_type": "code",
   "execution_count": 10,
   "id": "889f6705",
   "metadata": {},
   "outputs": [],
   "source": [
    "# Define the cost function\n",
    "def cost(X, y, w, b):\n",
    "    # Compute the dot product of the inputs and the weights\n",
    "    z = np.dot(X, w) + b\n",
    "    \n",
    "    # Apply the sigmoid function\n",
    "    h = sigmoid(z)\n",
    "    \n",
    "    # Compute the cross entropy loss\n",
    "    J = -np.mean(y * np.log(h) + (1 - y) * np.log(1 - h))\n",
    "    \n",
    "    return J"
   ]
  },
  {
   "cell_type": "code",
   "execution_count": 11,
   "id": "e0801fef",
   "metadata": {},
   "outputs": [],
   "source": [
    "# Define the derivative of the cost function with respect to the weights\n",
    "def dJdw(X, y, w, b):\n",
    "    # Compute the dot product of the inputs and the weights\n",
    "    z = np.dot(X, w) + b\n",
    "    \n",
    "    # Apply the sigmoid function\n",
    "    h = sigmoid(z)\n",
    "    \n",
    "    # Compute the derivative of the cost function with respect to the weights\n",
    "    dJdw = (1 / m) * np.dot(X.T, h - y)\n",
    "    \n",
    "    return dJdw"
   ]
  },
  {
   "cell_type": "code",
   "execution_count": 12,
   "id": "7ff9e203",
   "metadata": {},
   "outputs": [],
   "source": [
    "# Define the derivative of the cost function with respect to the bias\n",
    "def dJdb(X, y, w, b):\n",
    "    # Compute the dot product of the inputs and the weights\n",
    "    z = np.dot(X, w) + b\n",
    "    \n",
    "    # Apply the sigmoid function\n",
    "    h = sigmoid(z)\n",
    "    \n",
    "    # Compute the derivative of the cost function with respect to the bias\n",
    "    dJdb = (1 / m) * np.sum(h - y)\n",
    "    \n",
    "    return dJdb"
   ]
  },
  {
   "cell_type": "code",
   "execution_count": 13,
   "id": "8d3a8e01",
   "metadata": {},
   "outputs": [
    {
     "name": "stdout",
     "output_type": "stream",
     "text": [
      "Cost: 0.6931\n"
     ]
    }
   ],
   "source": [
    "# Calculate the cost\n",
    "J = cost(X, y, w, b)\n",
    "print(f\"Cost: {J:.4f}\")\n"
   ]
  },
  {
   "cell_type": "code",
   "execution_count": 14,
   "id": "a1f8ae50",
   "metadata": {},
   "outputs": [
    {
     "name": "stdout",
     "output_type": "stream",
     "text": [
      "dJdw: [ 0.01500388 -0.06934313 -0.06054017]\n"
     ]
    }
   ],
   "source": [
    "# Calculate the derivative of the cost function with respect to the weights\n",
    "dJdw = dJdw(X, y, w, b)\n",
    "print(f\"dJdw: {dJdw}\")"
   ]
  },
  {
   "cell_type": "code",
   "execution_count": 15,
   "id": "61d104dc",
   "metadata": {},
   "outputs": [
    {
     "name": "stdout",
     "output_type": "stream",
     "text": [
      "dJdb: 0.07\n"
     ]
    }
   ],
   "source": [
    "# Calculate the derivative of the cost function with respect to the bais \n",
    "dJdb = dJdb(X,y,w,b)\n",
    "print(f\"dJdb: {dJdb}\")"
   ]
  },
  {
   "cell_type": "markdown",
   "id": "5caa1231",
   "metadata": {},
   "source": [
    "> **Note:** In this example, we generated random data and labels, initialized the weights and bias, defined the sigmoid function, and then defined the cost function. The cost function calculates the dot product of the inputs and weights, applies the sigmoid function, and then computes the average cross entropy loss over all data points. The resulting cost can be used to evaluate the performance of the model and to guide the optimization process during training."
   ]
  },
  {
   "cell_type": "code",
   "execution_count": 16,
   "id": "8ba727bf",
   "metadata": {},
   "outputs": [],
   "source": [
    "def gradient_descent(X, y, alpha, num_iter):\n",
    "    m, n = X.shape\n",
    "    theta = np.zeros(n)\n",
    "    \n",
    "    for i in range(num_iter):\n",
    "        z = X @ theta\n",
    "        h = sigmoid(z)\n",
    "        gradient = X.T @ (h - y) / m\n",
    "        theta -= alpha * gradient\n",
    "        \n",
    "    return theta"
   ]
  },
  {
   "cell_type": "code",
   "execution_count": 19,
   "id": "0df38b51",
   "metadata": {},
   "outputs": [
    {
     "name": "stdout",
     "output_type": "stream",
     "text": [
      "[-0.00010499  0.00048496  0.00042341]\n"
     ]
    }
   ],
   "source": [
    "J = gradient_descent(X, y, 0.001, 7)\n",
    "print(J)"
   ]
  },
  {
   "cell_type": "markdown",
   "id": "41dc8196",
   "metadata": {},
   "source": [
    "### Confusion matrix and evaluation techniques"
   ]
  },
  {
   "cell_type": "code",
   "execution_count": 22,
   "id": "8759e614",
   "metadata": {},
   "outputs": [
    {
     "name": "stdout",
     "output_type": "stream",
     "text": [
      "Accuracy: 0.90\n",
      "Precision: 0.80\n",
      "Recall: 1.00\n"
     ]
    }
   ],
   "source": [
    "from sklearn.metrics import confusion_matrix, roc_auc_score, roc_curve\n",
    "\n",
    "# Load the predicted and actual class labels\n",
    "predictions = [1, 0, 1, 1, 0, 0, 1, 0, 1, 1]\n",
    "actual = [1, 0, 1, 1, 0, 0, 0, 0, 1, 1]\n",
    "\n",
    "# Create a confusion matrix\n",
    "conf_matrix = confusion_matrix(actual, predictions)\n",
    "\n",
    "# Calculate TP, TN, FP, and FN\n",
    "TP = conf_matrix[0, 0]\n",
    "TN = conf_matrix[1, 1]\n",
    "FP = conf_matrix[0, 1]\n",
    "FN = conf_matrix[1, 0]\n",
    "\n",
    "# Calculate the accuracy\n",
    "accuracy = (TP + TN) / (TP + TN + FP + FN)\n",
    "print(f\"Accuracy: {accuracy:.2f}\")\n",
    "\n",
    "# Calculate the precision\n",
    "precision = TP / (TP + FP)\n",
    "print(f\"Precision: {precision:.2f}\")\n",
    "\n",
    "# Calculate the recall\n",
    "recall = TP / (TP + FN)\n",
    "print(f\"Recall: {recall:.2f}\")"
   ]
  },
  {
   "cell_type": "code",
   "execution_count": 25,
   "id": "d1bdb167",
   "metadata": {},
   "outputs": [
    {
     "name": "stdout",
     "output_type": "stream",
     "text": [
      "AUC-ROC: 0.90\n"
     ]
    },
    {
     "data": {
      "image/png": "[encoded data removed]",
      "text/plain": [
       "<Figure size 640x480 with 1 Axes>"
      ]
     },
     "metadata": {},
     "output_type": "display_data"
    }
   ],
   "source": [
    "# Calculate the AUC-ROC\n",
    "auc = roc_auc_score(actual, predictions)\n",
    "print(f\"AUC-ROC: {auc:.2f}\")\n",
    "\n",
    "# Calculate the ROC curve\n",
    "fpr, tpr, thresholds = roc_curve(actual, predictions)\n",
    "\n",
    "# Plot the ROC curve\n",
    "plt.plot(fpr, tpr, 'b')\n",
    "plt.plot([0, 1], [0, 1],'r--')\n",
    "plt.xlim([0, 1])\n",
    "plt.ylim([0, 1])\n",
    "plt.ylabel('True Positive Rate')\n",
    "plt.xlabel('False Positive Rate')\n",
    "plt.title(\"ROC Curve\")\n",
    "plt.show()"
   ]
  },
  {
   "cell_type": "code",
   "execution_count": null,
   "id": "1df5605a",
   "metadata": {},
   "outputs": [],
   "source": []
  }
 ],
 "metadata": {
  "kernelspec": {
   "display_name": "Python 3 (ipykernel)",
   "language": "python",
   "name": "python3"
  },
  "language_info": {
   "codemirror_mode": {
    "name": "ipython",
    "version": 3
   },
   "file_extension": ".py",
   "mimetype": "text/x-python",
   "name": "python",
   "nbconvert_exporter": "python",
   "pygments_lexer": "ipython3",
   "version": "3.10.4"
  }
 },
 "nbformat": 4,
 "nbformat_minor": 5
}
