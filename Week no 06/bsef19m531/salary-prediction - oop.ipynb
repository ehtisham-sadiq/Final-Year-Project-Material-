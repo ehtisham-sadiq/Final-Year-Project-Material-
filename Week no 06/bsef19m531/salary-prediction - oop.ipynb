{
 "cells": [
  {
   "cell_type": "markdown",
   "id": "0199a17e",
   "metadata": {},
   "source": [
    "# Salary Prediction on the basis of years of Experience \n",
    "## Implementation of linear regression in python without scikit learn library"
   ]
  },
  {
   "cell_type": "code",
   "execution_count": 1,
   "id": "04ae8c0a",
   "metadata": {},
   "outputs": [],
   "source": [
    "import numpy as np\n",
    "import pandas as pd\n",
    "import seaborn as sns\n",
    "import matplotlib.pyplot as plt"
   ]
  },
  {
   "cell_type": "code",
   "execution_count": 2,
   "id": "e7ec1fd3",
   "metadata": {},
   "outputs": [
    {
     "data": {
      "text/html": [
       "<div>\n",
       "<style scoped>\n",
       "    .dataframe tbody tr th:only-of-type {\n",
       "        vertical-align: middle;\n",
       "    }\n",
       "\n",
       "    .dataframe tbody tr th {\n",
       "        vertical-align: top;\n",
       "    }\n",
       "\n",
       "    .dataframe thead th {\n",
       "        text-align: right;\n",
       "    }\n",
       "</style>\n",
       "<table border=\"1\" class=\"dataframe\">\n",
       "  <thead>\n",
       "    <tr style=\"text-align: right;\">\n",
       "      <th></th>\n",
       "      <th>YearsExperience</th>\n",
       "      <th>Salary</th>\n",
       "    </tr>\n",
       "  </thead>\n",
       "  <tbody>\n",
       "    <tr>\n",
       "      <th>0</th>\n",
       "      <td>1.1</td>\n",
       "      <td>39343.0</td>\n",
       "    </tr>\n",
       "    <tr>\n",
       "      <th>1</th>\n",
       "      <td>1.3</td>\n",
       "      <td>46205.0</td>\n",
       "    </tr>\n",
       "    <tr>\n",
       "      <th>2</th>\n",
       "      <td>1.5</td>\n",
       "      <td>37731.0</td>\n",
       "    </tr>\n",
       "    <tr>\n",
       "      <th>3</th>\n",
       "      <td>2.0</td>\n",
       "      <td>43525.0</td>\n",
       "    </tr>\n",
       "    <tr>\n",
       "      <th>4</th>\n",
       "      <td>2.2</td>\n",
       "      <td>39891.0</td>\n",
       "    </tr>\n",
       "  </tbody>\n",
       "</table>\n",
       "</div>"
      ],
      "text/plain": [
       "   YearsExperience   Salary\n",
       "0              1.1  39343.0\n",
       "1              1.3  46205.0\n",
       "2              1.5  37731.0\n",
       "3              2.0  43525.0\n",
       "4              2.2  39891.0"
      ]
     },
     "execution_count": 2,
     "metadata": {},
     "output_type": "execute_result"
    }
   ],
   "source": [
    "data = pd.read_csv('dataset/Salary_Data.csv')\n",
    "data.head()"
   ]
  },
  {
   "cell_type": "code",
   "execution_count": 3,
   "id": "2aa8d33f",
   "metadata": {},
   "outputs": [
    {
     "data": {
      "text/plain": [
       "(30, 2)"
      ]
     },
     "execution_count": 3,
     "metadata": {},
     "output_type": "execute_result"
    }
   ],
   "source": [
    "data.shape"
   ]
  },
  {
   "cell_type": "code",
   "execution_count": 4,
   "id": "fbda30d5",
   "metadata": {},
   "outputs": [
    {
     "name": "stdout",
     "output_type": "stream",
     "text": [
      "<class 'pandas.core.frame.DataFrame'>\n",
      "RangeIndex: 30 entries, 0 to 29\n",
      "Data columns (total 2 columns):\n",
      " #   Column           Non-Null Count  Dtype  \n",
      "---  ------           --------------  -----  \n",
      " 0   YearsExperience  30 non-null     float64\n",
      " 1   Salary           30 non-null     float64\n",
      "dtypes: float64(2)\n",
      "memory usage: 608.0 bytes\n"
     ]
    }
   ],
   "source": [
    "data.info()"
   ]
  },
  {
   "cell_type": "code",
   "execution_count": 5,
   "id": "bbde56ad",
   "metadata": {},
   "outputs": [
    {
     "data": {
      "text/html": [
       "<div>\n",
       "<style scoped>\n",
       "    .dataframe tbody tr th:only-of-type {\n",
       "        vertical-align: middle;\n",
       "    }\n",
       "\n",
       "    .dataframe tbody tr th {\n",
       "        vertical-align: top;\n",
       "    }\n",
       "\n",
       "    .dataframe thead th {\n",
       "        text-align: right;\n",
       "    }\n",
       "</style>\n",
       "<table border=\"1\" class=\"dataframe\">\n",
       "  <thead>\n",
       "    <tr style=\"text-align: right;\">\n",
       "      <th></th>\n",
       "      <th>YearsExperience</th>\n",
       "      <th>Salary</th>\n",
       "    </tr>\n",
       "  </thead>\n",
       "  <tbody>\n",
       "    <tr>\n",
       "      <th>count</th>\n",
       "      <td>30.000000</td>\n",
       "      <td>30.000000</td>\n",
       "    </tr>\n",
       "    <tr>\n",
       "      <th>mean</th>\n",
       "      <td>5.313333</td>\n",
       "      <td>76003.000000</td>\n",
       "    </tr>\n",
       "    <tr>\n",
       "      <th>std</th>\n",
       "      <td>2.837888</td>\n",
       "      <td>27414.429785</td>\n",
       "    </tr>\n",
       "    <tr>\n",
       "      <th>min</th>\n",
       "      <td>1.100000</td>\n",
       "      <td>37731.000000</td>\n",
       "    </tr>\n",
       "    <tr>\n",
       "      <th>25%</th>\n",
       "      <td>3.200000</td>\n",
       "      <td>56720.750000</td>\n",
       "    </tr>\n",
       "    <tr>\n",
       "      <th>50%</th>\n",
       "      <td>4.700000</td>\n",
       "      <td>65237.000000</td>\n",
       "    </tr>\n",
       "    <tr>\n",
       "      <th>75%</th>\n",
       "      <td>7.700000</td>\n",
       "      <td>100544.750000</td>\n",
       "    </tr>\n",
       "    <tr>\n",
       "      <th>max</th>\n",
       "      <td>10.500000</td>\n",
       "      <td>122391.000000</td>\n",
       "    </tr>\n",
       "  </tbody>\n",
       "</table>\n",
       "</div>"
      ],
      "text/plain": [
       "       YearsExperience         Salary\n",
       "count        30.000000      30.000000\n",
       "mean          5.313333   76003.000000\n",
       "std           2.837888   27414.429785\n",
       "min           1.100000   37731.000000\n",
       "25%           3.200000   56720.750000\n",
       "50%           4.700000   65237.000000\n",
       "75%           7.700000  100544.750000\n",
       "max          10.500000  122391.000000"
      ]
     },
     "execution_count": 5,
     "metadata": {},
     "output_type": "execute_result"
    }
   ],
   "source": [
    "data.describe()"
   ]
  },
  {
   "cell_type": "code",
   "execution_count": null,
   "id": "f3769610",
   "metadata": {},
   "outputs": [],
   "source": []
  },
  {
   "cell_type": "code",
   "execution_count": 6,
   "id": "8adad4c1",
   "metadata": {},
   "outputs": [
    {
     "data": {
      "text/plain": [
       "<AxesSubplot:xlabel='YearsExperience', ylabel='Salary'>"
      ]
     },
     "execution_count": 6,
     "metadata": {},
     "output_type": "execute_result"
    },
    {
     "data": {
      "image/png": "[encoded data removed]",
      "text/plain": [
       "<Figure size 432x288 with 1 Axes>"
      ]
     },
     "metadata": {
      "needs_background": "light"
     },
     "output_type": "display_data"
    }
   ],
   "source": [
    "sns.scatterplot(data=data, x='YearsExperience', y='Salary')"
   ]
  },
  {
   "cell_type": "markdown",
   "id": "d32764aa",
   "metadata": {},
   "source": [
    "# Gradient Descent "
   ]
  },
  {
   "cell_type": "code",
   "execution_count": 7,
   "id": "4d932e60",
   "metadata": {},
   "outputs": [],
   "source": [
    "X= np.array(data['YearsExperience'])\n",
    "Y = np.array(data['Salary'])"
   ]
  },
  {
   "cell_type": "code",
   "execution_count": 8,
   "id": "cf6f0cdc",
   "metadata": {},
   "outputs": [
    {
     "data": {
      "text/plain": [
       "30.0"
      ]
     },
     "execution_count": 8,
     "metadata": {},
     "output_type": "execute_result"
    }
   ],
   "source": [
    "m,c =0,0\n",
    "L = 0.0001\n",
    "epochs = 1000\n",
    "n = float(len(X))\n",
    "n"
   ]
  },
  {
   "cell_type": "code",
   "execution_count": 9,
   "id": "9a016e60",
   "metadata": {},
   "outputs": [
    {
     "name": "stdout",
     "output_type": "stream",
     "text": [
      "12836.600965885045 2915.2044856014018\n"
     ]
    }
   ],
   "source": [
    "for i in range(epochs):\n",
    "        y_pred = m*X+c  # current predicted value of y\n",
    "        D_m =(-2/n)*sum(X*(Y-y_pred)) # Derivative w.r.t slope m\n",
    "        D_c = (-2/n)*sum(Y - y_pred)  # Derivative w.r.t intercept c\n",
    "        m = m-L*D_m   # updated m\n",
    "        c = c-L*D_c   # updated c\n",
    "print(m,c)"
   ]
  },
  {
   "cell_type": "code",
   "execution_count": 10,
   "id": "70928d2b",
   "metadata": {},
   "outputs": [
    {
     "data": {
      "text/plain": [
       "array([ 17035.46554807,  19602.78574125,  22170.10593443,  28588.40641737,\n",
       "        31155.72661055,  40141.34728667,  41425.00738326,  43992.32757643,\n",
       "        43992.32757643,  50410.62805938,  52977.94825255,  54261.60834914,\n",
       "        54261.60834914,  55545.26844573,  60679.90883208,  65814.54921844,\n",
       "        68381.86941162,  70949.18960479,  78651.15018432,  79934.81028091,\n",
       "        90204.09105362,  94055.07134339, 104324.35211609, 108175.33240586,\n",
       "       114593.6328888 , 118444.61317857, 124862.91366151, 126146.5737581 ,\n",
       "       135132.19443422, 137699.51462739])"
      ]
     },
     "execution_count": 10,
     "metadata": {},
     "output_type": "execute_result"
    }
   ],
   "source": [
    "y_pred = m*X+c\n",
    "y_pred"
   ]
  },
  {
   "cell_type": "code",
   "execution_count": 11,
   "id": "13400737",
   "metadata": {},
   "outputs": [
    {
     "data": {
      "text/plain": [
       "array([ 1.1,  1.3,  1.5,  2. ,  2.2,  2.9,  3. ,  3.2,  3.2,  3.7,  3.9,\n",
       "        4. ,  4. ,  4.1,  4.5,  4.9,  5.1,  5.3,  5.9,  6. ,  6.8,  7.1,\n",
       "        7.9,  8.2,  8.7,  9. ,  9.5,  9.6, 10.3, 10.5])"
      ]
     },
     "execution_count": 11,
     "metadata": {},
     "output_type": "execute_result"
    }
   ],
   "source": [
    "X"
   ]
  },
  {
   "cell_type": "code",
   "execution_count": 12,
   "id": "55d8e96f",
   "metadata": {},
   "outputs": [
    {
     "data": {
      "text/plain": [
       "(1.1, 10.5)"
      ]
     },
     "execution_count": 12,
     "metadata": {},
     "output_type": "execute_result"
    }
   ],
   "source": [
    "min(X), max(X)"
   ]
  },
  {
   "cell_type": "code",
   "execution_count": 13,
   "id": "52af7030",
   "metadata": {},
   "outputs": [
    {
     "data": {
      "text/plain": [
       "(17035.465548074953, 137699.51462739438)"
      ]
     },
     "execution_count": 13,
     "metadata": {},
     "output_type": "execute_result"
    }
   ],
   "source": [
    "min(y_pred), max(y_pred)"
   ]
  },
  {
   "cell_type": "code",
   "execution_count": 14,
   "id": "a858f285",
   "metadata": {},
   "outputs": [
    {
     "data": {
      "text/plain": [
       "[<matplotlib.lines.Line2D at 0x18f127a11f0>]"
      ]
     },
     "execution_count": 14,
     "metadata": {},
     "output_type": "execute_result"
    },
    {
     "data": {
      "image/png": "[encoded data removed]",
      "text/plain": [
       "<Figure size 432x288 with 1 Axes>"
      ]
     },
     "metadata": {
      "needs_background": "light"
     },
     "output_type": "display_data"
    }
   ],
   "source": [
    "sns.scatterplot(data=data, x=X, y=Y)\n",
    "plt.plot([min(X),max(X)],[min(y_pred),max(y_pred)])"
   ]
  },
  {
   "cell_type": "code",
   "execution_count": 15,
   "id": "cabf39c3",
   "metadata": {},
   "outputs": [
    {
     "data": {
      "text/plain": [
       "28588.406417371494"
      ]
     },
     "execution_count": 15,
     "metadata": {},
     "output_type": "execute_result"
    }
   ],
   "source": [
    "rs = m*2+c   # X is input feature change value of X and predict y\n",
    "rs"
   ]
  },
  {
   "cell_type": "code",
   "execution_count": null,
   "id": "b3e8a46a",
   "metadata": {},
   "outputs": [],
   "source": []
  },
  {
   "cell_type": "markdown",
   "id": "848ec0f7",
   "metadata": {},
   "source": [
    "# Linear Least Square "
   ]
  },
  {
   "cell_type": "code",
   "execution_count": 16,
   "id": "6804255e",
   "metadata": {},
   "outputs": [
    {
     "data": {
      "text/plain": [
       "9449.962321455077"
      ]
     },
     "execution_count": 16,
     "metadata": {},
     "output_type": "execute_result"
    }
   ],
   "source": [
    "beta1 = np.cov(X,Y)   # find covariance to get beta1 (slope)\n",
    "beta1 = beta1[0,1]/beta1[0,0]  # taking [0,0] loc of covariance matrix  for variance and [0,1] for covariance  \n",
    "beta1"
   ]
  },
  {
   "cell_type": "code",
   "execution_count": 17,
   "id": "11a00ef7",
   "metadata": {},
   "outputs": [
    {
     "data": {
      "text/plain": [
       "25792.20019866869"
      ]
     },
     "execution_count": 17,
     "metadata": {},
     "output_type": "execute_result"
    }
   ],
   "source": [
    "beta0 = np.mean(Y)-beta1*np.mean(X)  # beta0 (intercept value)\n",
    "beta0 "
   ]
  },
  {
   "cell_type": "code",
   "execution_count": 18,
   "id": "deb9896e",
   "metadata": {},
   "outputs": [],
   "source": [
    "ypol = beta1*X +beta0  #predicted values of y\n"
   ]
  },
  {
   "cell_type": "code",
   "execution_count": 19,
   "id": "28b14253",
   "metadata": {},
   "outputs": [
    {
     "data": {
      "text/plain": [
       "<AxesSubplot:>"
      ]
     },
     "execution_count": 19,
     "metadata": {},
     "output_type": "execute_result"
    },
    {
     "data": {
      "image/png": "[encoded data removed]",
      "text/plain": [
       "<Figure size 432x288 with 1 Axes>"
      ]
     },
     "metadata": {
      "needs_background": "light"
     },
     "output_type": "display_data"
    }
   ],
   "source": [
    "sns.scatterplot(data=data, x=X, y=Y)\n",
    "sns.lineplot(x=X, y=ypol)"
   ]
  },
  {
   "cell_type": "code",
   "execution_count": 20,
   "id": "d268a322",
   "metadata": {},
   "outputs": [
    {
     "data": {
      "text/plain": [
       "44692.12484157884"
      ]
     },
     "execution_count": 20,
     "metadata": {},
     "output_type": "execute_result"
    }
   ],
   "source": [
    "x_i = 2\n",
    "rs2 = beta1*x_i + beta0\n",
    "rs2"
   ]
  },
  {
   "cell_type": "code",
   "execution_count": 21,
   "id": "37c061b1",
   "metadata": {},
   "outputs": [
    {
     "data": {
      "text/plain": [
       "[<matplotlib.lines.Line2D at 0x18f12cbf6d0>]"
      ]
     },
     "execution_count": 21,
     "metadata": {},
     "output_type": "execute_result"
    },
    {
     "data": {
      "image/png": "[encoded data removed]",
      "text/plain": [
       "<Figure size 432x288 with 1 Axes>"
      ]
     },
     "metadata": {
      "needs_background": "light"
     },
     "output_type": "display_data"
    }
   ],
   "source": [
    "sns.scatterplot(data= data,x=X,y=Y)\n",
    "sns.lineplot(x=X, y=ypol,)\n",
    "plt.plot(x_i, rs2, marker =\"o\",color='red')"
   ]
  },
  {
   "cell_type": "code",
   "execution_count": null,
   "id": "e36c3226",
   "metadata": {},
   "outputs": [],
   "source": []
  },
  {
   "cell_type": "code",
   "execution_count": null,
   "id": "421e8170",
   "metadata": {},
   "outputs": [],
   "source": []
  },
  {
   "cell_type": "code",
   "execution_count": null,
   "id": "4bab80b3",
   "metadata": {},
   "outputs": [],
   "source": []
  },
  {
   "cell_type": "code",
   "execution_count": null,
   "id": "94706ca2",
   "metadata": {},
   "outputs": [],
   "source": []
  },
  {
   "cell_type": "markdown",
   "id": "b509f49d",
   "metadata": {},
   "source": [
    "# Linear Regression using OOP Concepts"
   ]
  },
  {
   "cell_type": "code",
   "execution_count": 22,
   "id": "2e057ca3",
   "metadata": {},
   "outputs": [],
   "source": [
    "# Defining class\n",
    "class LinearRegression:\n",
    "    def __init__(self,inputFeature,outputFeature):\n",
    "        self.inputFeature = inputFeature\n",
    "        self.outputFeature = outputFeature\n",
    "        \n",
    "    def printGDmc(self):\n",
    "        m,c =0,0\n",
    "        L = 0.0001\n",
    "        epochs = 1000\n",
    "        n = float(len(self.inputFeature))\n",
    "        for i in range(epochs):\n",
    "            y_pred = m*self.inputFeature+c  # current predicted value of y\n",
    "            D_m =(-2/n)*sum(self.inputFeature*(self.outputFeature-y_pred)) # Derivative w.r.t slope m\n",
    "            D_c = (-2/n)*sum(self.outputFeature - y_pred)  # Derivative w.r.t intercept c\n",
    "            m = m-L*D_m   # updated m\n",
    "            c = c-L*D_c   # updated c\n",
    "        return m,c\n",
    "        \n",
    "    def printLSmc(self):\n",
    "        beta1 = np.cov(self.inputFeature,self.outputFeature)   # find covariance to get beta1 (slope)\n",
    "        beta1 = beta1[0,1]/beta1[0,0]  # taking [0,0] loc of covariance matrix  for variance and [0,1] for covariance\n",
    "        beta0 = np.mean(self.outputFeature)-beta1*np.mean(self.inputFeature)  # beta0 (intercept value)\n",
    "        return beta1,beta0\n",
    "    \n",
    "    def compareGDnLS(self,mGD,cGD,mLS,cLS):\n",
    "        y_predGD = mGD*self.inputFeature+cGD\n",
    "        y_predLS = mLS*self.inputFeature +cLS\n",
    "        sns.scatterplot(self.inputFeature,self.outputFeature);\n",
    "        plt.plot([min(self.inputFeature),max(self.inputFeature)],[min(y_predGD),max(y_predGD)], color='r');\n",
    "        plt.plot([min(self.inputFeature),max(self.inputFeature)],[min(y_predLS),max(y_predLS)], color='g');\n",
    "        \n",
    "    def userOutput(self,years):\n",
    "        gdOut=self.printGDmc()\n",
    "        #print(gdOut[0])\n",
    "        resultGD = gdOut[0]*years+gdOut[1]\n",
    "        #print(resultGD)\n",
    "        lsOut=self.printLSmc()\n",
    "        resultLS = lsOut[0]*years+lsOut[1]\n",
    "        return resultGD, resultLS\n",
    "    \n",
    "    def mse(self):\n",
    "        gdOut=self.printGDmc()\n",
    "        predGD = gdOut[0]*self.inputFeature+gdOut[1]\n",
    "        lsOut=self.printLSmc()\n",
    "        predLS=lsOut[0]*self.inputFeature+lsOut[1]\n",
    "        differenceGD = predGD-self.outputFeature\n",
    "        sqGD = np.square(differenceGD)\n",
    "        \n",
    "\n"
   ]
  },
  {
   "cell_type": "markdown",
   "id": "f28373f4",
   "metadata": {},
   "source": [
    "## Feature and Target Column"
   ]
  },
  {
   "cell_type": "code",
   "execution_count": 23,
   "id": "ad4e63fa",
   "metadata": {},
   "outputs": [
    {
     "name": "stdout",
     "output_type": "stream",
     "text": [
      "Input Features:  [ 1.1  1.3  1.5  2.   2.2  2.9  3.   3.2  3.2  3.7  3.9  4.   4.   4.1\n",
      "  4.5  4.9  5.1  5.3  5.9  6.   6.8  7.1  7.9  8.2  8.7  9.   9.5  9.6\n",
      " 10.3 10.5]\n",
      "Output Features:  [ 39343.  46205.  37731.  43525.  39891.  56642.  60150.  54445.  64445.\n",
      "  57189.  63218.  55794.  56957.  57081.  61111.  67938.  66029.  83088.\n",
      "  81363.  93940.  91738.  98273. 101302. 113812. 109431. 105582. 116969.\n",
      " 112635. 122391. 121872.]\n"
     ]
    }
   ],
   "source": [
    "salaryPrediction = LinearRegression(X,Y)\n",
    "print(\"Input Features: \",salaryPrediction.inputFeature)\n",
    "print(\"Output Features: \",salaryPrediction.outputFeature)"
   ]
  },
  {
   "cell_type": "markdown",
   "id": "2e242181",
   "metadata": {},
   "source": [
    "## Slope and intercept using gradient descent"
   ]
  },
  {
   "cell_type": "code",
   "execution_count": 24,
   "id": "5abb609c",
   "metadata": {},
   "outputs": [
    {
     "data": {
      "text/plain": [
       "(12836.600965885045, 2915.2044856014018)"
      ]
     },
     "execution_count": 24,
     "metadata": {},
     "output_type": "execute_result"
    }
   ],
   "source": [
    "salaryPrediction.printGDmc()"
   ]
  },
  {
   "cell_type": "markdown",
   "id": "6adf7b04",
   "metadata": {},
   "source": [
    "## Slope and intercept using Loss function"
   ]
  },
  {
   "cell_type": "code",
   "execution_count": 25,
   "id": "f394cdb1",
   "metadata": {},
   "outputs": [
    {
     "data": {
      "text/plain": [
       "(9449.962321455077, 25792.20019866869)"
      ]
     },
     "execution_count": 25,
     "metadata": {},
     "output_type": "execute_result"
    }
   ],
   "source": [
    "salaryPrediction.printLSmc()"
   ]
  },
  {
   "cell_type": "code",
   "execution_count": 26,
   "id": "09a98bb1",
   "metadata": {},
   "outputs": [
    {
     "name": "stderr",
     "output_type": "stream",
     "text": [
      "C:\\Users\\Home\\anaconda3\\lib\\site-packages\\seaborn\\_decorators.py:36: FutureWarning: Pass the following variables as keyword args: x, y. From version 0.12, the only valid positional argument will be `data`, and passing other arguments without an explicit keyword will result in an error or misinterpretation.\n",
      "  warnings.warn(\n"
     ]
    },
    {
     "data": {
      "image/png": "[encoded data removed]",
      "text/plain": [
       "<Figure size 432x288 with 1 Axes>"
      ]
     },
     "metadata": {
      "needs_background": "light"
     },
     "output_type": "display_data"
    }
   ],
   "source": [
    "gd = salaryPrediction.printGDmc()\n",
    "ls = salaryPrediction.printLSmc()\n",
    "salaryPrediction.compareGDnLS(gd[0],gd[1],ls[0],ls[1])"
   ]
  },
  {
   "cell_type": "markdown",
   "id": "76f5af12",
   "metadata": {},
   "source": [
    "## User Input"
   ]
  },
  {
   "cell_type": "code",
   "execution_count": 27,
   "id": "fa2c0a45",
   "metadata": {},
   "outputs": [
    {
     "name": "stdout",
     "output_type": "stream",
     "text": [
      "Enter your years of experience: 3\n",
      "Predicted value using Gradient Descent:  41425.00738325654\n",
      "Predicted value using Least Square:  54142.087163033924\n"
     ]
    }
   ],
   "source": [
    "inputYearsofExp = float(input(\"Enter your years of experience: \"))\n",
    "result = salaryPrediction.userOutput(inputYearsofExp)\n",
    "print(\"Predicted value using Gradient Descent: \",result[0])\n",
    "print(\"Predicted value using Least Square: \",result[1])"
   ]
  },
  {
   "cell_type": "markdown",
   "id": "6a78dbec",
   "metadata": {},
   "source": [
    "## MSE"
   ]
  },
  {
   "cell_type": "code",
   "execution_count": null,
   "id": "bd8ebf30",
   "metadata": {},
   "outputs": [],
   "source": []
  },
  {
   "cell_type": "code",
   "execution_count": null,
   "id": "51ea1309",
   "metadata": {},
   "outputs": [],
   "source": []
  },
  {
   "cell_type": "code",
   "execution_count": null,
   "id": "3481799c",
   "metadata": {},
   "outputs": [],
   "source": []
  },
  {
   "cell_type": "code",
   "execution_count": null,
   "id": "cc3cc1de",
   "metadata": {},
   "outputs": [],
   "source": []
  }
 ],
 "metadata": {
  "kernelspec": {
   "display_name": "Python 3 (ipykernel)",
   "language": "python",
   "name": "python3"
  },
  "language_info": {
   "codemirror_mode": {
    "name": "ipython",
    "version": 3
   },
   "file_extension": ".py",
   "mimetype": "text/x-python",
   "name": "python",
   "nbconvert_exporter": "python",
   "pygments_lexer": "ipython3",
   "version": "3.9.12"
  }
 },
 "nbformat": 4,
 "nbformat_minor": 5
}
