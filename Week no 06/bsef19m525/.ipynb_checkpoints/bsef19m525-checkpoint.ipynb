{
 "cells": [
  {
   "cell_type": "markdown",
   "id": "9d0b1993",
   "metadata": {},
   "source": [
    "# Python Implementation"
   ]
  },
  {
   "cell_type": "markdown",
   "id": "a89fb8ea",
   "metadata": {},
   "source": [
    "### Import Libs"
   ]
  },
  {
   "cell_type": "code",
   "execution_count": 1,
   "id": "e9596423",
   "metadata": {},
   "outputs": [],
   "source": [
    "import pandas as pd\n",
    "import numpy as np\n",
    "import seaborn as sns\n",
    "import matplotlib.pyplot as plt"
   ]
  },
  {
   "cell_type": "markdown",
   "id": "13e574b0",
   "metadata": {},
   "source": [
    "### Read Data"
   ]
  },
  {
   "cell_type": "code",
   "execution_count": 2,
   "id": "c792dadf",
   "metadata": {},
   "outputs": [
    {
     "data": {
      "text/html": [
       "<div>\n",
       "<style scoped>\n",
       "    .dataframe tbody tr th:only-of-type {\n",
       "        vertical-align: middle;\n",
       "    }\n",
       "\n",
       "    .dataframe tbody tr th {\n",
       "        vertical-align: top;\n",
       "    }\n",
       "\n",
       "    .dataframe thead th {\n",
       "        text-align: right;\n",
       "    }\n",
       "</style>\n",
       "<table border=\"1\" class=\"dataframe\">\n",
       "  <thead>\n",
       "    <tr style=\"text-align: right;\">\n",
       "      <th></th>\n",
       "      <th>age</th>\n",
       "      <th>sex</th>\n",
       "      <th>bmi</th>\n",
       "      <th>children</th>\n",
       "      <th>smoker</th>\n",
       "      <th>region</th>\n",
       "      <th>charges</th>\n",
       "    </tr>\n",
       "  </thead>\n",
       "  <tbody>\n",
       "    <tr>\n",
       "      <th>0</th>\n",
       "      <td>19</td>\n",
       "      <td>female</td>\n",
       "      <td>27.900</td>\n",
       "      <td>0</td>\n",
       "      <td>yes</td>\n",
       "      <td>southwest</td>\n",
       "      <td>16884.92400</td>\n",
       "    </tr>\n",
       "    <tr>\n",
       "      <th>1</th>\n",
       "      <td>18</td>\n",
       "      <td>male</td>\n",
       "      <td>33.770</td>\n",
       "      <td>1</td>\n",
       "      <td>no</td>\n",
       "      <td>southeast</td>\n",
       "      <td>1725.55230</td>\n",
       "    </tr>\n",
       "    <tr>\n",
       "      <th>2</th>\n",
       "      <td>28</td>\n",
       "      <td>male</td>\n",
       "      <td>33.000</td>\n",
       "      <td>3</td>\n",
       "      <td>no</td>\n",
       "      <td>southeast</td>\n",
       "      <td>4449.46200</td>\n",
       "    </tr>\n",
       "    <tr>\n",
       "      <th>3</th>\n",
       "      <td>33</td>\n",
       "      <td>male</td>\n",
       "      <td>22.705</td>\n",
       "      <td>0</td>\n",
       "      <td>no</td>\n",
       "      <td>northwest</td>\n",
       "      <td>21984.47061</td>\n",
       "    </tr>\n",
       "    <tr>\n",
       "      <th>4</th>\n",
       "      <td>32</td>\n",
       "      <td>male</td>\n",
       "      <td>28.880</td>\n",
       "      <td>0</td>\n",
       "      <td>no</td>\n",
       "      <td>northwest</td>\n",
       "      <td>3866.85520</td>\n",
       "    </tr>\n",
       "    <tr>\n",
       "      <th>...</th>\n",
       "      <td>...</td>\n",
       "      <td>...</td>\n",
       "      <td>...</td>\n",
       "      <td>...</td>\n",
       "      <td>...</td>\n",
       "      <td>...</td>\n",
       "      <td>...</td>\n",
       "    </tr>\n",
       "    <tr>\n",
       "      <th>1333</th>\n",
       "      <td>50</td>\n",
       "      <td>male</td>\n",
       "      <td>30.970</td>\n",
       "      <td>3</td>\n",
       "      <td>no</td>\n",
       "      <td>northwest</td>\n",
       "      <td>10600.54830</td>\n",
       "    </tr>\n",
       "    <tr>\n",
       "      <th>1334</th>\n",
       "      <td>18</td>\n",
       "      <td>female</td>\n",
       "      <td>31.920</td>\n",
       "      <td>0</td>\n",
       "      <td>no</td>\n",
       "      <td>northeast</td>\n",
       "      <td>2205.98080</td>\n",
       "    </tr>\n",
       "    <tr>\n",
       "      <th>1335</th>\n",
       "      <td>18</td>\n",
       "      <td>female</td>\n",
       "      <td>36.850</td>\n",
       "      <td>0</td>\n",
       "      <td>no</td>\n",
       "      <td>southeast</td>\n",
       "      <td>1629.83350</td>\n",
       "    </tr>\n",
       "    <tr>\n",
       "      <th>1336</th>\n",
       "      <td>21</td>\n",
       "      <td>female</td>\n",
       "      <td>25.800</td>\n",
       "      <td>0</td>\n",
       "      <td>no</td>\n",
       "      <td>southwest</td>\n",
       "      <td>2007.94500</td>\n",
       "    </tr>\n",
       "    <tr>\n",
       "      <th>1337</th>\n",
       "      <td>61</td>\n",
       "      <td>female</td>\n",
       "      <td>29.070</td>\n",
       "      <td>0</td>\n",
       "      <td>yes</td>\n",
       "      <td>northwest</td>\n",
       "      <td>29141.36030</td>\n",
       "    </tr>\n",
       "  </tbody>\n",
       "</table>\n",
       "<p>1338 rows × 7 columns</p>\n",
       "</div>"
      ],
      "text/plain": [
       "      age     sex     bmi  children smoker     region      charges\n",
       "0      19  female  27.900         0    yes  southwest  16884.92400\n",
       "1      18    male  33.770         1     no  southeast   1725.55230\n",
       "2      28    male  33.000         3     no  southeast   4449.46200\n",
       "3      33    male  22.705         0     no  northwest  21984.47061\n",
       "4      32    male  28.880         0     no  northwest   3866.85520\n",
       "...   ...     ...     ...       ...    ...        ...          ...\n",
       "1333   50    male  30.970         3     no  northwest  10600.54830\n",
       "1334   18  female  31.920         0     no  northeast   2205.98080\n",
       "1335   18  female  36.850         0     no  southeast   1629.83350\n",
       "1336   21  female  25.800         0     no  southwest   2007.94500\n",
       "1337   61  female  29.070         0    yes  northwest  29141.36030\n",
       "\n",
       "[1338 rows x 7 columns]"
      ]
     },
     "execution_count": 2,
     "metadata": {},
     "output_type": "execute_result"
    }
   ],
   "source": [
    "data = pd.read_csv('insurance.csv')\n",
    "data"
   ]
  },
  {
   "cell_type": "code",
   "execution_count": 3,
   "id": "a82ee376",
   "metadata": {},
   "outputs": [
    {
     "data": {
      "text/plain": [
       "(1338, 7)"
      ]
     },
     "execution_count": 3,
     "metadata": {},
     "output_type": "execute_result"
    }
   ],
   "source": [
    "data.shape"
   ]
  },
  {
   "cell_type": "code",
   "execution_count": 4,
   "id": "e69ecb1a",
   "metadata": {},
   "outputs": [
    {
     "name": "stdout",
     "output_type": "stream",
     "text": [
      "<class 'pandas.core.frame.DataFrame'>\n",
      "RangeIndex: 1338 entries, 0 to 1337\n",
      "Data columns (total 7 columns):\n",
      " #   Column    Non-Null Count  Dtype  \n",
      "---  ------    --------------  -----  \n",
      " 0   age       1338 non-null   int64  \n",
      " 1   sex       1338 non-null   object \n",
      " 2   bmi       1338 non-null   float64\n",
      " 3   children  1338 non-null   int64  \n",
      " 4   smoker    1338 non-null   object \n",
      " 5   region    1338 non-null   object \n",
      " 6   charges   1338 non-null   float64\n",
      "dtypes: float64(2), int64(2), object(3)\n",
      "memory usage: 73.3+ KB\n"
     ]
    }
   ],
   "source": [
    "data.info()"
   ]
  },
  {
   "cell_type": "code",
   "execution_count": 5,
   "id": "a58dee6d",
   "metadata": {},
   "outputs": [
    {
     "data": {
      "text/plain": [
       "Index(['age', 'sex', 'bmi', 'children', 'smoker', 'region', 'charges'], dtype='object')"
      ]
     },
     "execution_count": 5,
     "metadata": {},
     "output_type": "execute_result"
    }
   ],
   "source": [
    "data.columns"
   ]
  },
  {
   "cell_type": "code",
   "execution_count": 6,
   "id": "fd90e1dd",
   "metadata": {},
   "outputs": [
    {
     "data": {
      "text/plain": [
       "<AxesSubplot:xlabel='age', ylabel='charges'>"
      ]
     },
     "execution_count": 6,
     "metadata": {},
     "output_type": "execute_result"
    },
    {
     "data": {
      "image/png": "[encoded data removed]",
      "text/plain": [
       "<Figure size 432x288 with 1 Axes>"
      ]
     },
     "metadata": {
      "needs_background": "light"
     },
     "output_type": "display_data"
    }
   ],
   "source": [
    "sns.scatterplot(data=data, x='age', y='charges', hue='smoker')"
   ]
  },
  {
   "cell_type": "code",
   "execution_count": null,
   "id": "031b4a2e",
   "metadata": {},
   "outputs": [],
   "source": []
  },
  {
   "cell_type": "code",
   "execution_count": 7,
   "id": "97e451f9",
   "metadata": {},
   "outputs": [
    {
     "data": {
      "text/html": [
       "<div>\n",
       "<style scoped>\n",
       "    .dataframe tbody tr th:only-of-type {\n",
       "        vertical-align: middle;\n",
       "    }\n",
       "\n",
       "    .dataframe tbody tr th {\n",
       "        vertical-align: top;\n",
       "    }\n",
       "\n",
       "    .dataframe thead th {\n",
       "        text-align: right;\n",
       "    }\n",
       "</style>\n",
       "<table border=\"1\" class=\"dataframe\">\n",
       "  <thead>\n",
       "    <tr style=\"text-align: right;\">\n",
       "      <th></th>\n",
       "      <th>age</th>\n",
       "      <th>sex</th>\n",
       "      <th>bmi</th>\n",
       "      <th>children</th>\n",
       "      <th>smoker</th>\n",
       "      <th>region</th>\n",
       "      <th>charges</th>\n",
       "    </tr>\n",
       "  </thead>\n",
       "  <tbody>\n",
       "    <tr>\n",
       "      <th>0</th>\n",
       "      <td>19</td>\n",
       "      <td>female</td>\n",
       "      <td>27.900</td>\n",
       "      <td>0</td>\n",
       "      <td>yes</td>\n",
       "      <td>southwest</td>\n",
       "      <td>16884.92400</td>\n",
       "    </tr>\n",
       "    <tr>\n",
       "      <th>11</th>\n",
       "      <td>62</td>\n",
       "      <td>female</td>\n",
       "      <td>26.290</td>\n",
       "      <td>0</td>\n",
       "      <td>yes</td>\n",
       "      <td>southeast</td>\n",
       "      <td>27808.72510</td>\n",
       "    </tr>\n",
       "    <tr>\n",
       "      <th>14</th>\n",
       "      <td>27</td>\n",
       "      <td>male</td>\n",
       "      <td>42.130</td>\n",
       "      <td>0</td>\n",
       "      <td>yes</td>\n",
       "      <td>southeast</td>\n",
       "      <td>39611.75770</td>\n",
       "    </tr>\n",
       "    <tr>\n",
       "      <th>19</th>\n",
       "      <td>30</td>\n",
       "      <td>male</td>\n",
       "      <td>35.300</td>\n",
       "      <td>0</td>\n",
       "      <td>yes</td>\n",
       "      <td>southwest</td>\n",
       "      <td>36837.46700</td>\n",
       "    </tr>\n",
       "    <tr>\n",
       "      <th>23</th>\n",
       "      <td>34</td>\n",
       "      <td>female</td>\n",
       "      <td>31.920</td>\n",
       "      <td>1</td>\n",
       "      <td>yes</td>\n",
       "      <td>northeast</td>\n",
       "      <td>37701.87680</td>\n",
       "    </tr>\n",
       "    <tr>\n",
       "      <th>...</th>\n",
       "      <td>...</td>\n",
       "      <td>...</td>\n",
       "      <td>...</td>\n",
       "      <td>...</td>\n",
       "      <td>...</td>\n",
       "      <td>...</td>\n",
       "      <td>...</td>\n",
       "    </tr>\n",
       "    <tr>\n",
       "      <th>1313</th>\n",
       "      <td>19</td>\n",
       "      <td>female</td>\n",
       "      <td>34.700</td>\n",
       "      <td>2</td>\n",
       "      <td>yes</td>\n",
       "      <td>southwest</td>\n",
       "      <td>36397.57600</td>\n",
       "    </tr>\n",
       "    <tr>\n",
       "      <th>1314</th>\n",
       "      <td>30</td>\n",
       "      <td>female</td>\n",
       "      <td>23.655</td>\n",
       "      <td>3</td>\n",
       "      <td>yes</td>\n",
       "      <td>northwest</td>\n",
       "      <td>18765.87545</td>\n",
       "    </tr>\n",
       "    <tr>\n",
       "      <th>1321</th>\n",
       "      <td>62</td>\n",
       "      <td>male</td>\n",
       "      <td>26.695</td>\n",
       "      <td>0</td>\n",
       "      <td>yes</td>\n",
       "      <td>northeast</td>\n",
       "      <td>28101.33305</td>\n",
       "    </tr>\n",
       "    <tr>\n",
       "      <th>1323</th>\n",
       "      <td>42</td>\n",
       "      <td>female</td>\n",
       "      <td>40.370</td>\n",
       "      <td>2</td>\n",
       "      <td>yes</td>\n",
       "      <td>southeast</td>\n",
       "      <td>43896.37630</td>\n",
       "    </tr>\n",
       "    <tr>\n",
       "      <th>1337</th>\n",
       "      <td>61</td>\n",
       "      <td>female</td>\n",
       "      <td>29.070</td>\n",
       "      <td>0</td>\n",
       "      <td>yes</td>\n",
       "      <td>northwest</td>\n",
       "      <td>29141.36030</td>\n",
       "    </tr>\n",
       "  </tbody>\n",
       "</table>\n",
       "<p>274 rows × 7 columns</p>\n",
       "</div>"
      ],
      "text/plain": [
       "      age     sex     bmi  children smoker     region      charges\n",
       "0      19  female  27.900         0    yes  southwest  16884.92400\n",
       "11     62  female  26.290         0    yes  southeast  27808.72510\n",
       "14     27    male  42.130         0    yes  southeast  39611.75770\n",
       "19     30    male  35.300         0    yes  southwest  36837.46700\n",
       "23     34  female  31.920         1    yes  northeast  37701.87680\n",
       "...   ...     ...     ...       ...    ...        ...          ...\n",
       "1313   19  female  34.700         2    yes  southwest  36397.57600\n",
       "1314   30  female  23.655         3    yes  northwest  18765.87545\n",
       "1321   62    male  26.695         0    yes  northeast  28101.33305\n",
       "1323   42  female  40.370         2    yes  southeast  43896.37630\n",
       "1337   61  female  29.070         0    yes  northwest  29141.36030\n",
       "\n",
       "[274 rows x 7 columns]"
      ]
     },
     "execution_count": 7,
     "metadata": {},
     "output_type": "execute_result"
    }
   ],
   "source": [
    "data_smoker=data.loc[data['smoker'] == 'yes']\n",
    "data_smoker"
   ]
  },
  {
   "cell_type": "code",
   "execution_count": 8,
   "id": "a97c20a7",
   "metadata": {},
   "outputs": [
    {
     "name": "stderr",
     "output_type": "stream",
     "text": [
      "C:\\Users\\Home\\AppData\\Local\\Temp\\ipykernel_6332\\2964469358.py:1: SettingWithCopyWarning: \n",
      "A value is trying to be set on a copy of a slice from a DataFrame\n",
      "\n",
      "See the caveats in the documentation: https://pandas.pydata.org/pandas-docs/stable/user_guide/indexing.html#returning-a-view-versus-a-copy\n",
      "  data_smoker.drop(['bmi','sex','smoker','region','children'], axis=1, inplace=True)\n"
     ]
    },
    {
     "data": {
      "text/html": [
       "<div>\n",
       "<style scoped>\n",
       "    .dataframe tbody tr th:only-of-type {\n",
       "        vertical-align: middle;\n",
       "    }\n",
       "\n",
       "    .dataframe tbody tr th {\n",
       "        vertical-align: top;\n",
       "    }\n",
       "\n",
       "    .dataframe thead th {\n",
       "        text-align: right;\n",
       "    }\n",
       "</style>\n",
       "<table border=\"1\" class=\"dataframe\">\n",
       "  <thead>\n",
       "    <tr style=\"text-align: right;\">\n",
       "      <th></th>\n",
       "      <th>age</th>\n",
       "      <th>charges</th>\n",
       "    </tr>\n",
       "  </thead>\n",
       "  <tbody>\n",
       "    <tr>\n",
       "      <th>0</th>\n",
       "      <td>19</td>\n",
       "      <td>16884.92400</td>\n",
       "    </tr>\n",
       "    <tr>\n",
       "      <th>11</th>\n",
       "      <td>62</td>\n",
       "      <td>27808.72510</td>\n",
       "    </tr>\n",
       "    <tr>\n",
       "      <th>14</th>\n",
       "      <td>27</td>\n",
       "      <td>39611.75770</td>\n",
       "    </tr>\n",
       "    <tr>\n",
       "      <th>19</th>\n",
       "      <td>30</td>\n",
       "      <td>36837.46700</td>\n",
       "    </tr>\n",
       "    <tr>\n",
       "      <th>23</th>\n",
       "      <td>34</td>\n",
       "      <td>37701.87680</td>\n",
       "    </tr>\n",
       "    <tr>\n",
       "      <th>...</th>\n",
       "      <td>...</td>\n",
       "      <td>...</td>\n",
       "    </tr>\n",
       "    <tr>\n",
       "      <th>1313</th>\n",
       "      <td>19</td>\n",
       "      <td>36397.57600</td>\n",
       "    </tr>\n",
       "    <tr>\n",
       "      <th>1314</th>\n",
       "      <td>30</td>\n",
       "      <td>18765.87545</td>\n",
       "    </tr>\n",
       "    <tr>\n",
       "      <th>1321</th>\n",
       "      <td>62</td>\n",
       "      <td>28101.33305</td>\n",
       "    </tr>\n",
       "    <tr>\n",
       "      <th>1323</th>\n",
       "      <td>42</td>\n",
       "      <td>43896.37630</td>\n",
       "    </tr>\n",
       "    <tr>\n",
       "      <th>1337</th>\n",
       "      <td>61</td>\n",
       "      <td>29141.36030</td>\n",
       "    </tr>\n",
       "  </tbody>\n",
       "</table>\n",
       "<p>274 rows × 2 columns</p>\n",
       "</div>"
      ],
      "text/plain": [
       "      age      charges\n",
       "0      19  16884.92400\n",
       "11     62  27808.72510\n",
       "14     27  39611.75770\n",
       "19     30  36837.46700\n",
       "23     34  37701.87680\n",
       "...   ...          ...\n",
       "1313   19  36397.57600\n",
       "1314   30  18765.87545\n",
       "1321   62  28101.33305\n",
       "1323   42  43896.37630\n",
       "1337   61  29141.36030\n",
       "\n",
       "[274 rows x 2 columns]"
      ]
     },
     "execution_count": 8,
     "metadata": {},
     "output_type": "execute_result"
    }
   ],
   "source": [
    "data_smoker.drop(['bmi','sex','smoker','region','children'], axis=1, inplace=True)\n",
    "data_smoker"
   ]
  },
  {
   "cell_type": "code",
   "execution_count": 9,
   "id": "0b138064",
   "metadata": {},
   "outputs": [
    {
     "data": {
      "text/plain": [
       "<AxesSubplot:xlabel='age', ylabel='charges'>"
      ]
     },
     "execution_count": 9,
     "metadata": {},
     "output_type": "execute_result"
    },
    {
     "data": {
      "image/png": "[encoded data removed]",
      "text/plain": [
       "<Figure size 432x288 with 1 Axes>"
      ]
     },
     "metadata": {
      "needs_background": "light"
     },
     "output_type": "display_data"
    }
   ],
   "source": [
    "sns.scatterplot(data=data_smoker, x='age', y='charges')"
   ]
  },
  {
   "cell_type": "code",
   "execution_count": null,
   "id": "3b85e0ba",
   "metadata": {},
   "outputs": [],
   "source": []
  },
  {
   "cell_type": "markdown",
   "id": "91cb468d",
   "metadata": {},
   "source": [
    "## Using gradient Descent"
   ]
  },
  {
   "cell_type": "code",
   "execution_count": 10,
   "id": "a9b4af5f",
   "metadata": {},
   "outputs": [
    {
     "data": {
      "text/plain": [
       "array([19, 62, 27, 30, 34, 31, 22, 28, 35, 60, 36, 48, 36, 58, 18, 53, 20,\n",
       "       28, 27, 22, 37, 45, 57, 59, 64, 56, 38, 61, 20, 63, 29, 44, 19, 32,\n",
       "       34, 30, 46, 42, 48, 18, 30, 42, 18, 63, 36, 27, 35, 19, 42, 40, 19,\n",
       "       23, 63, 18, 63, 54, 50, 56, 19, 20, 52, 19, 46, 40, 50, 40, 54, 59,\n",
       "       25, 19, 47, 31, 53, 43, 27, 34, 45, 64, 61, 52, 50, 19, 26, 23, 39,\n",
       "       24, 27, 55, 44, 26, 36, 63, 64, 61, 40, 33, 56, 42, 30, 54, 61, 24,\n",
       "       44, 21, 29, 51, 19, 39, 42, 57, 54, 49, 43, 35, 48, 31, 34, 21, 19,\n",
       "       59, 30, 47, 49, 19, 37, 18, 44, 39, 42, 52, 64, 43, 40, 62, 44, 60,\n",
       "       39, 27, 41, 51, 30, 29, 35, 37, 23, 29, 27, 53, 37, 47, 18, 33, 19,\n",
       "       30, 50, 53, 27, 33, 18, 47, 33, 56, 36, 41, 23, 57, 60, 37, 46, 49,\n",
       "       48, 25, 37, 51, 32, 57, 64, 47, 43, 60, 32, 18, 43, 45, 37, 25, 51,\n",
       "       44, 34, 54, 43, 51, 29, 31, 24, 27, 30, 24, 47, 43, 22, 47, 19, 46,\n",
       "       55, 18, 22, 45, 35, 20, 43, 22, 49, 47, 59, 37, 28, 39, 47, 22, 51,\n",
       "       33, 38, 48, 25, 33, 23, 53, 23, 19, 60, 43, 19, 18, 43, 52, 31, 23,\n",
       "       20, 43, 19, 18, 36, 37, 46, 20, 52, 20, 52, 64, 32, 24, 20, 64, 24,\n",
       "       26, 39, 47, 18, 61, 20, 19, 45, 62, 43, 42, 29, 32, 25, 19, 30, 62,\n",
       "       42, 61], dtype=int64)"
      ]
     },
     "execution_count": 10,
     "metadata": {},
     "output_type": "execute_result"
    }
   ],
   "source": [
    "X = np.array(data_smoker['age'])\n",
    "X"
   ]
  },
  {
   "cell_type": "code",
   "execution_count": 11,
   "id": "792404de",
   "metadata": {},
   "outputs": [
    {
     "data": {
      "text/plain": [
       "array([16884.924  , 27808.7251 , 39611.7577 , 36837.467  , 37701.8768 ,\n",
       "       38711.     , 35585.576  , 51194.55914, 39774.2763 , 48173.361  ,\n",
       "       38709.176  , 23568.272  , 37742.5757 , 47496.49445, 34303.1672 ,\n",
       "       23244.7902 , 14711.7438 , 17663.1442 , 16577.7795 , 37165.1638 ,\n",
       "       39836.519  , 21098.55405, 43578.9394 , 30184.9367 , 47291.055  ,\n",
       "       22412.6485 , 15820.699  , 30942.1918 , 17560.37975, 47055.5321 ,\n",
       "       19107.7796 , 39556.4945 , 17081.08   , 32734.1863 , 18972.495  ,\n",
       "       20745.9891 , 40720.55105, 19964.7463 , 21223.6758 , 15518.18025,\n",
       "       36950.2567 , 21348.706  , 36149.4835 , 48824.45   , 43753.33705,\n",
       "       37133.8982 , 20984.0936 , 34779.615  , 19515.5416 , 19444.2658 ,\n",
       "       17352.6803 , 38511.6283 , 29523.1656 , 12829.4551 , 47305.305  ,\n",
       "       44260.7499 , 41097.16175, 43921.1837 , 33750.2918 , 17085.2676 ,\n",
       "       24869.8368 , 36219.40545, 46151.1245 , 17179.522  , 42856.838  ,\n",
       "       22331.5668 , 48549.17835, 47896.79135, 42112.2356 , 16297.846  ,\n",
       "       21978.6769 , 38746.3551 , 24873.3849 , 42124.5153 , 34838.873  ,\n",
       "       35491.64   , 42760.5022 , 47928.03   , 48517.56315, 24393.6224 ,\n",
       "       41919.097  , 13844.506  , 36085.219  , 18033.9679 , 21659.9301 ,\n",
       "       38126.2465 , 15006.57945, 42303.69215, 19594.80965, 14455.64405,\n",
       "       18608.262  , 28950.4692 , 46889.2612 , 46599.1084 , 39125.33225,\n",
       "       37079.372  , 26109.32905, 22144.032  , 19521.9682 , 25382.297  ,\n",
       "       28868.6639 , 35147.52848, 48885.13561, 17942.106  , 36197.699  ,\n",
       "       22218.1149 , 32548.3405 , 21082.16   , 38245.59327, 48675.5177 ,\n",
       "       63770.42801, 23807.2406 , 45863.205  , 39983.42595, 45702.02235,\n",
       "       58571.07448, 43943.8761 , 15359.1045 , 17468.9839 , 25678.77845,\n",
       "       39241.442  , 42969.8527 , 23306.547  , 34439.8559 , 40182.246  ,\n",
       "       34617.84065, 42983.4585 , 20149.3229 , 32787.45859, 24667.419  ,\n",
       "       27037.9141 , 42560.4304 , 40003.33225, 45710.20785, 46200.9851 ,\n",
       "       46130.5265 , 40103.89   , 34806.4677 , 40273.6455 , 44400.4064 ,\n",
       "       40932.4295 , 16657.71745, 19361.9988 , 40419.0191 , 36189.1017 ,\n",
       "       44585.45587, 18246.4955 , 43254.41795, 19539.243  , 23065.4207 ,\n",
       "       36307.7983 , 19040.876  , 17748.5062 , 18259.216  , 24520.264  ,\n",
       "       21195.818  , 18310.742  , 17904.52705, 38792.6856 , 23401.30575,\n",
       "       55135.40209, 43813.8661 , 20773.62775, 39597.4072 , 36021.0112 ,\n",
       "       27533.9129 , 45008.9555 , 37270.1512 , 42111.6647 , 24106.91255,\n",
       "       40974.1649 , 15817.9857 , 46113.511  , 46255.1125 , 19719.6947 ,\n",
       "       27218.43725, 29330.98315, 44202.6536 , 19798.05455, 48673.5588 ,\n",
       "       17496.306  , 33732.6867 , 21774.32215, 35069.37452, 39047.285  ,\n",
       "       19933.458  , 47462.894  , 38998.546  , 20009.63365, 41999.52   ,\n",
       "       41034.2214 , 23967.38305, 16138.76205, 19199.944  , 14571.8908 ,\n",
       "       16420.49455, 17361.7661 , 34472.841  , 24915.22085, 18767.7377 ,\n",
       "       35595.5898 , 42211.1382 , 16450.8947 , 21677.28345, 44423.803  ,\n",
       "       13747.87235, 37484.4493 , 39725.51805, 20234.85475, 33475.81715,\n",
       "       21880.82   , 44501.3982 , 39727.614  , 25309.489  , 48970.2476 ,\n",
       "       39871.7043 , 34672.1472 , 19023.26   , 41676.0811 , 33907.548  ,\n",
       "       44641.1974 , 16776.30405, 41949.2441 , 24180.9335 , 36124.5737 ,\n",
       "       38282.7495 , 34166.273  , 46661.4424 , 40904.1995 , 36898.73308,\n",
       "       52590.82939, 40941.2854 , 39722.7462 , 17178.6824 , 22478.6    ,\n",
       "       23887.6627 , 19350.3689 , 18328.2381 , 37465.34375, 21771.3423 ,\n",
       "       33307.5508 , 18223.4512 , 38415.474  , 20296.86345, 41661.602  ,\n",
       "       26125.67477, 60021.39897, 20167.33603, 47269.854  , 49577.6624 ,\n",
       "       37607.5277 , 18648.4217 , 16232.847  , 26926.5144 , 34254.05335,\n",
       "       17043.3414 , 22462.04375, 24535.69855, 14283.4594 , 47403.88   ,\n",
       "       38344.566  , 34828.654  , 62592.87309, 46718.16325, 37829.7242 ,\n",
       "       21259.37795, 16115.3045 , 21472.4788 , 33900.653  , 36397.576  ,\n",
       "       18765.87545, 28101.33305, 43896.3763 , 29141.3603 ])"
      ]
     },
     "execution_count": 11,
     "metadata": {},
     "output_type": "execute_result"
    }
   ],
   "source": [
    "Y = np.array(data_smoker['charges'])\n",
    "Y"
   ]
  },
  {
   "cell_type": "code",
   "execution_count": 12,
   "id": "6d08de20",
   "metadata": {},
   "outputs": [
    {
     "data": {
      "text/plain": [
       "274.0"
      ]
     },
     "execution_count": 12,
     "metadata": {},
     "output_type": "execute_result"
    }
   ],
   "source": [
    "slope,intercept=0,0\n",
    "LR = 0.0001\n",
    "epochs = 10000\n",
    "n = float(len(X))\n",
    "n"
   ]
  },
  {
   "cell_type": "code",
   "execution_count": 13,
   "id": "6f5b1691",
   "metadata": {},
   "outputs": [
    {
     "name": "stdout",
     "output_type": "stream",
     "text": [
      "675.2539652658594 4188.6005403914\n"
     ]
    }
   ],
   "source": [
    "for i in range(epochs):\n",
    "    y_pred = slope*X+intercept\n",
    "    D_slope = (-2/n) * sum(X*(Y-y_pred))\n",
    "    D_intercept = (-2/n)*sum(Y-y_pred)\n",
    "    slope = slope- LR*D_slope\n",
    "    intercept = intercept- LR*D_intercept\n",
    "print(slope,intercept)"
   ]
  },
  {
   "cell_type": "code",
   "execution_count": 14,
   "id": "7c6ce3b9",
   "metadata": {},
   "outputs": [
    {
     "data": {
      "text/plain": [
       "array([17018.42588044, 46054.34638687, 22420.45760257, 24446.21949837,\n",
       "       27147.23535943, 25121.47346363, 19044.18777624, 23095.71156784,\n",
       "       27822.4893247 , 44703.83845634, 28497.74328996, 36600.79087315,\n",
       "       28497.74328996, 43353.33052581, 16343.17191518, 39977.06069948,\n",
       "       17693.67984571, 23095.71156784, 22420.45760257, 19044.18777624,\n",
       "       29172.99725523, 34575.02897736, 42678.07656055, 44028.58449108,\n",
       "       47404.85431741, 42002.82259528, 29848.25122049, 45379.09242161,\n",
       "       17693.67984571, 46729.60035214, 23770.9655331 , 33899.77501209,\n",
       "       17018.42588044, 25796.7274289 , 27147.23535943, 24446.21949837,\n",
       "       35250.28294262, 32549.26708156, 36600.79087315, 16343.17191518,\n",
       "       24446.21949837, 32549.26708156, 16343.17191518, 46729.60035214,\n",
       "       28497.74328996, 22420.45760257, 27822.4893247 , 17018.42588044,\n",
       "       32549.26708156, 31198.75915103, 17018.42588044, 19719.44174151,\n",
       "       46729.60035214, 16343.17191518, 46729.60035214, 40652.31466475,\n",
       "       37951.29880368, 42002.82259528, 17018.42588044, 17693.67984571,\n",
       "       39301.80673422, 17018.42588044, 35250.28294262, 31198.75915103,\n",
       "       37951.29880368, 31198.75915103, 40652.31466475, 44028.58449108,\n",
       "       21069.94967204, 17018.42588044, 35925.53690789, 25121.47346363,\n",
       "       39977.06069948, 33224.52104682, 22420.45760257, 27147.23535943,\n",
       "       34575.02897736, 47404.85431741, 45379.09242161, 39301.80673422,\n",
       "       37951.29880368, 17018.42588044, 21745.2036373 , 19719.44174151,\n",
       "       30523.50518576, 20394.69570677, 22420.45760257, 41327.56863001,\n",
       "       33899.77501209, 21745.2036373 , 28497.74328996, 46729.60035214,\n",
       "       47404.85431741, 45379.09242161, 31198.75915103, 26471.98139416,\n",
       "       42002.82259528, 32549.26708156, 24446.21949837, 40652.31466475,\n",
       "       45379.09242161, 20394.69570677, 33899.77501209, 18368.93381097,\n",
       "       23770.9655331 , 38626.55276895, 17018.42588044, 30523.50518576,\n",
       "       32549.26708156, 42678.07656055, 40652.31466475, 37276.04483842,\n",
       "       33224.52104682, 27822.4893247 , 36600.79087315, 25121.47346363,\n",
       "       27147.23535943, 18368.93381097, 17018.42588044, 44028.58449108,\n",
       "       24446.21949837, 35925.53690789, 37276.04483842, 17018.42588044,\n",
       "       29172.99725523, 16343.17191518, 33899.77501209, 30523.50518576,\n",
       "       32549.26708156, 39301.80673422, 47404.85431741, 33224.52104682,\n",
       "       31198.75915103, 46054.34638687, 33899.77501209, 44703.83845634,\n",
       "       30523.50518576, 22420.45760257, 31874.01311629, 38626.55276895,\n",
       "       24446.21949837, 23770.9655331 , 27822.4893247 , 29172.99725523,\n",
       "       19719.44174151, 23770.9655331 , 22420.45760257, 39977.06069948,\n",
       "       29172.99725523, 35925.53690789, 16343.17191518, 26471.98139416,\n",
       "       17018.42588044, 24446.21949837, 37951.29880368, 39977.06069948,\n",
       "       22420.45760257, 26471.98139416, 16343.17191518, 35925.53690789,\n",
       "       26471.98139416, 42002.82259528, 28497.74328996, 31874.01311629,\n",
       "       19719.44174151, 42678.07656055, 44703.83845634, 29172.99725523,\n",
       "       35250.28294262, 37276.04483842, 36600.79087315, 21069.94967204,\n",
       "       29172.99725523, 38626.55276895, 25796.7274289 , 42678.07656055,\n",
       "       47404.85431741, 35925.53690789, 33224.52104682, 44703.83845634,\n",
       "       25796.7274289 , 16343.17191518, 33224.52104682, 34575.02897736,\n",
       "       29172.99725523, 21069.94967204, 38626.55276895, 33899.77501209,\n",
       "       27147.23535943, 40652.31466475, 33224.52104682, 38626.55276895,\n",
       "       23770.9655331 , 25121.47346363, 20394.69570677, 22420.45760257,\n",
       "       24446.21949837, 20394.69570677, 35925.53690789, 33224.52104682,\n",
       "       19044.18777624, 35925.53690789, 17018.42588044, 35250.28294262,\n",
       "       41327.56863001, 16343.17191518, 19044.18777624, 34575.02897736,\n",
       "       27822.4893247 , 17693.67984571, 33224.52104682, 19044.18777624,\n",
       "       37276.04483842, 35925.53690789, 44028.58449108, 29172.99725523,\n",
       "       23095.71156784, 30523.50518576, 35925.53690789, 19044.18777624,\n",
       "       38626.55276895, 26471.98139416, 29848.25122049, 36600.79087315,\n",
       "       21069.94967204, 26471.98139416, 19719.44174151, 39977.06069948,\n",
       "       19719.44174151, 17018.42588044, 44703.83845634, 33224.52104682,\n",
       "       17018.42588044, 16343.17191518, 33224.52104682, 39301.80673422,\n",
       "       25121.47346363, 19719.44174151, 17693.67984571, 33224.52104682,\n",
       "       17018.42588044, 16343.17191518, 28497.74328996, 29172.99725523,\n",
       "       35250.28294262, 17693.67984571, 39301.80673422, 17693.67984571,\n",
       "       39301.80673422, 47404.85431741, 25796.7274289 , 20394.69570677,\n",
       "       17693.67984571, 47404.85431741, 20394.69570677, 21745.2036373 ,\n",
       "       30523.50518576, 35925.53690789, 16343.17191518, 45379.09242161,\n",
       "       17693.67984571, 17018.42588044, 34575.02897736, 46054.34638687,\n",
       "       33224.52104682, 32549.26708156, 23770.9655331 , 25796.7274289 ,\n",
       "       21069.94967204, 17018.42588044, 24446.21949837, 46054.34638687,\n",
       "       32549.26708156, 45379.09242161])"
      ]
     },
     "execution_count": 14,
     "metadata": {},
     "output_type": "execute_result"
    }
   ],
   "source": [
    "y_pred = slope*X+intercept\n",
    "y_pred"
   ]
  },
  {
   "cell_type": "code",
   "execution_count": 15,
   "id": "726f96c5",
   "metadata": {},
   "outputs": [
    {
     "data": {
      "text/plain": [
       "(18, 64)"
      ]
     },
     "execution_count": 15,
     "metadata": {},
     "output_type": "execute_result"
    }
   ],
   "source": [
    "min(X), max(X)"
   ]
  },
  {
   "cell_type": "code",
   "execution_count": 16,
   "id": "25fefb9e",
   "metadata": {},
   "outputs": [
    {
     "data": {
      "text/plain": [
       "(16343.17191517687, 47404.8543174064)"
      ]
     },
     "execution_count": 16,
     "metadata": {},
     "output_type": "execute_result"
    }
   ],
   "source": [
    "min(y_pred), max(y_pred)"
   ]
  },
  {
   "cell_type": "code",
   "execution_count": 17,
   "id": "ed25caa0",
   "metadata": {},
   "outputs": [
    {
     "name": "stderr",
     "output_type": "stream",
     "text": [
      "C:\\Users\\Home\\anaconda3\\lib\\site-packages\\seaborn\\_decorators.py:36: FutureWarning: Pass the following variables as keyword args: x, y. From version 0.12, the only valid positional argument will be `data`, and passing other arguments without an explicit keyword will result in an error or misinterpretation.\n",
      "  warnings.warn(\n"
     ]
    },
    {
     "data": {
      "image/png": "[encoded data removed]",
      "text/plain": [
       "<Figure size 432x288 with 1 Axes>"
      ]
     },
     "metadata": {
      "needs_background": "light"
     },
     "output_type": "display_data"
    }
   ],
   "source": [
    "sns.scatterplot(X,Y);\n",
    "plt.plot([min(X),max(X)],[min(y_pred),max(y_pred)], color='r');"
   ]
  },
  {
   "cell_type": "code",
   "execution_count": 18,
   "id": "b316ffb4",
   "metadata": {},
   "outputs": [
    {
     "data": {
      "text/plain": [
       "17018.425880442726"
      ]
     },
     "execution_count": 18,
     "metadata": {},
     "output_type": "execute_result"
    }
   ],
   "source": [
    "try_value = slope*19+intercept\n",
    "try_value"
   ]
  },
  {
   "cell_type": "code",
   "execution_count": 19,
   "id": "b96e9de1",
   "metadata": {},
   "outputs": [
    {
     "data": {
      "text/plain": [
       "31198.759151025773"
      ]
     },
     "execution_count": 19,
     "metadata": {},
     "output_type": "execute_result"
    }
   ],
   "source": [
    "try_value1 = slope*40+intercept\n",
    "try_value1"
   ]
  },
  {
   "cell_type": "code",
   "execution_count": 20,
   "id": "929303d7",
   "metadata": {},
   "outputs": [
    {
     "data": {
      "text/plain": [
       "44703.838456342964"
      ]
     },
     "execution_count": 20,
     "metadata": {},
     "output_type": "execute_result"
    }
   ],
   "source": [
    "try_value2 = slope*60+intercept\n",
    "try_value2"
   ]
  },
  {
   "cell_type": "markdown",
   "id": "d3398be5",
   "metadata": {},
   "source": [
    "## Linear Least Square(LLS)"
   ]
  },
  {
   "cell_type": "code",
   "execution_count": 21,
   "id": "61238a50",
   "metadata": {},
   "outputs": [
    {
     "data": {
      "text/plain": [
       "305.2376021098289"
      ]
     },
     "execution_count": 21,
     "metadata": {},
     "output_type": "execute_result"
    }
   ],
   "source": [
    "beta1 = np.cov(X,Y)\n",
    "beta1 = beta1[0,1]/beta1[0,0]\n",
    "beta1"
   ]
  },
  {
   "cell_type": "code",
   "execution_count": 22,
   "id": "7a8a18b4",
   "metadata": {},
   "outputs": [
    {
     "data": {
      "text/plain": [
       "20294.128126915966"
      ]
     },
     "execution_count": 22,
     "metadata": {},
     "output_type": "execute_result"
    }
   ],
   "source": [
    "beta0 = np.mean(Y) - beta1*np.mean(X)\n",
    "beta0"
   ]
  },
  {
   "cell_type": "code",
   "execution_count": 23,
   "id": "6eb8bd44",
   "metadata": {},
   "outputs": [],
   "source": [
    "y_Pred = beta1*X + beta0"
   ]
  },
  {
   "cell_type": "code",
   "execution_count": 24,
   "id": "651f6dc0",
   "metadata": {},
   "outputs": [
    {
     "name": "stderr",
     "output_type": "stream",
     "text": [
      "C:\\Users\\Home\\anaconda3\\lib\\site-packages\\seaborn\\_decorators.py:36: FutureWarning: Pass the following variables as keyword args: x, y. From version 0.12, the only valid positional argument will be `data`, and passing other arguments without an explicit keyword will result in an error or misinterpretation.\n",
      "  warnings.warn(\n"
     ]
    },
    {
     "data": {
      "text/plain": [
       "<AxesSubplot:>"
      ]
     },
     "execution_count": 24,
     "metadata": {},
     "output_type": "execute_result"
    },
    {
     "data": {
      "image/png": "[encoded data removed]",
      "text/plain": [
       "<Figure size 432x288 with 1 Axes>"
      ]
     },
     "metadata": {
      "needs_background": "light"
     },
     "output_type": "display_data"
    }
   ],
   "source": [
    "sns.scatterplot(X,Y)\n",
    "sns.lineplot(x=X, y=y_Pred, palette='red')"
   ]
  },
  {
   "cell_type": "markdown",
   "id": "628b5a78",
   "metadata": {},
   "source": [
    "## MSE"
   ]
  },
  {
   "cell_type": "code",
   "execution_count": 39,
   "id": "eb820556",
   "metadata": {},
   "outputs": [
    {
     "data": {
      "text/plain": [
       "array([  9208.718567  ,  11410.13435773, -11076.21431612,  -7386.21080979,\n",
       "        -7029.67020135,  -8954.50620768,  -8576.22062667, -22353.77815401,\n",
       "        -8796.83209924,  -9564.97674649,  -7426.49419713,  11377.26102819,\n",
       "        -6459.89389713,  -9498.58540071,  -8514.76223511,  13226.93083874,\n",
       "        11687.13636911,  11177.63678599,  11957.76388388, -10155.80842667,\n",
       "        -8248.59959502,  12931.26617186,  -5886.26795282,   8118.2099514 ,\n",
       "        -7461.72033805,  14974.78534507,  16072.45800709,   7971.43005562,\n",
       "         8838.50041911,  -7531.43504016,  10038.2389881 ,  -5831.91188025,\n",
       "         9012.562567  ,  -2672.45490557,  11699.71159865,   8705.26709021,\n",
       "        -6385.49322603,  13149.36111553,  13721.85722819,  10270.22471489,\n",
       "        -7499.00050979,  11765.40141553, -10361.07853511,  -9300.35294016,\n",
       "       -12470.65524713,  -8598.35481612,   9993.35060076,  -8685.972433  ,\n",
       "        13598.56581553,  13059.36641131,   8740.962267  , -11197.03532456,\n",
       "        10000.93145984,  12958.94986489,  -7781.20794016,  -7483.79125915,\n",
       "        -5541.15351759,  -6533.74985493,  -7656.649233  ,   9313.61256911,\n",
       "        11296.64663663, -10125.762883  , -11816.06667603,  15324.11021131,\n",
       "        -7300.82976759,  10172.06541131, -11772.21970915,  -9593.6446986 ,\n",
       "       -14187.16742034,   9795.796567  ,  12661.61852608,  -8989.86130768,\n",
       "        11598.33613874,  -8705.17028236,  -6303.32961612,  -4819.43340135,\n",
       "        -8730.68197814,  -8098.69533805,  -9603.94129438,  11772.86103663,\n",
       "        -6363.08876759,  12249.136567  ,  -7854.91321823,   9280.62507544,\n",
       "        10538.4645092 , -10506.41592245,  13528.96393388,  -5221.49590704,\n",
       "        14129.77296975,  13774.66173177,  12674.41980287,  10573.62785984,\n",
       "        -7059.92653805,  -7685.48654438,  -6621.70003869,  -6712.40300346,\n",
       "        11278.10479507,  10970.07541553,   9929.28799021,  11394.66164085,\n",
       "        10044.95795562,  -7527.69790245, -15160.55299025,   8762.01177122,\n",
       "        -7051.6804119 ,  13643.13093452,  -6454.697933  ,  11116.2346092 ,\n",
       "        -5131.48585447, -10982.84625282, -26993.46936915,  11443.5300303 ,\n",
       "       -12443.85998236,  -9005.98174924, -10756.48932181, -28814.58068768,\n",
       "       -13271.66950135,  11345.01327122,   8624.658667  ,  12624.3682014 ,\n",
       "        -9790.18580979,  -8329.55727392,  11944.2236303 ,  -8346.213333  ,\n",
       "        -8594.32659502,  -8829.43568511,  -9258.87588025,  12049.0717092 ,\n",
       "          326.64882553,  11499.06443663,  12791.42056195,  -9141.08538236,\n",
       "        -7499.70003869,  -6491.34839227, -12476.40248025,  -7522.14224649,\n",
       "        -7905.4953908 ,  -6270.92431612,  -7464.77568658,  -8539.16056548,\n",
       "       -11481.17330979,  12488.3011381 ,  11615.44540076,  -8831.09969502,\n",
       "        -8874.50872456, -15439.4372819 ,  10289.04788388,  -6782.69691126,\n",
       "        12048.67640498,  11574.87472608, -10519.39333511,  11326.09299654,\n",
       "         8345.136367  ,  11192.04019021,  11035.74423241,  15275.90303874,\n",
       "        10224.80138388,  12462.44194654, -13004.28063511,  11238.98967608,\n",
       "       -24768.43309346,  -6426.43225493,  10509.05405287,  -6788.53738658,\n",
       "        -8706.41822456,  10158.75854718,  -6400.57124649,  -5682.23179502,\n",
       "        -7776.60687603,  11143.8580803 ,  -6028.63187181,  12107.08247966,\n",
       "       -14525.59159502, -10393.86666548,  10342.03669443,  10474.23419718,\n",
       "        10498.35151195,  -9562.35817392,  13621.29046764, -10065.17454649,\n",
       "        12565.42539443,  -7944.28173511,  11645.02286764,  -1039.55429814,\n",
       "        -7459.36559502,   7991.61017966, -11601.64816548,  -5273.96338025,\n",
       "        10662.57294865,  -5222.56135915,  -7614.87638236,  11893.86278452,\n",
       "        13007.2565381 ,  10556.54979232,  13047.93977755,  12115.04883388,\n",
       "        12089.49009021,  -6853.01042245,   9725.07457608,  14651.60731764,\n",
       "        -8586.23442667,  -7570.84277392,   9642.747867  ,  12657.77437397,\n",
       "        -7341.60675704,  12040.53261489, -10475.09392667,  -5695.69782814,\n",
       "        10742.58945076,  -7076.93698089,  11538.52501764, -17492.04282667,\n",
       "        -4476.8433697 ,   9330.80642608, -10667.1009486 ,  -8283.78489502,\n",
       "        -5831.36621401,  13175.1346092 ,  -7035.78567392,  -6898.19262667,\n",
       "        -8779.95156548,  13590.66494654, -10056.08709291,  10764.59952819,\n",
       "        -8199.50552034,  -7915.78050346,  -6851.68002456, -10189.72136126,\n",
       "       -13589.60652456, -10805.090513  , -13982.44513649,  -7521.94038236,\n",
       "       -13629.103633  ,   8609.72256489,  10940.74501764,  12278.82073663,\n",
       "        10406.12489232,   8986.35487544, -11066.46358089,  11648.00271764,\n",
       "        -7213.908233  ,   7564.95376489,  -7132.79219713,  11291.05595498,\n",
       "        -7326.54417603,    273.20539911, -23854.91553337,   6231.54413911,\n",
       "       -11103.37056337,  -9748.32773805,  -7545.79630557,   8971.40887755,\n",
       "        10166.03316911,  12902.82026195,  -6634.22277245,  11186.96438177,\n",
       "         9736.3508592 ,  10104.59687608,  11504.94556489,  -8490.25814438,\n",
       "       -11945.68583089,  -8735.011433  , -28563.05286814,  -7499.30379227,\n",
       "        -4410.37918236,  11854.72946553,  13030.7140881 ,   8589.25259443,\n",
       "        -5975.58482034, -10303.933433  ,  10685.38074021,  11117.52640773,\n",
       "       -10782.26888447,   9772.26155562])"
      ]
     },
     "execution_count": 39,
     "metadata": {},
     "output_type": "execute_result"
    }
   ],
   "source": [
    "diff = y_Pred-Y\n",
    "diff"
   ]
  },
  {
   "cell_type": "code",
   "execution_count": 41,
   "id": "c755b24e",
   "metadata": {},
   "outputs": [
    {
     "data": {
      "text/plain": [
       "array([8.48004976e+07, 1.30191166e+08, 1.22682524e+08, 5.45561101e+07,\n",
       "       4.94162631e+07, 8.01831814e+07, 7.35515602e+07, 4.99691398e+08,\n",
       "       7.73842550e+07, 9.14887802e+07, 5.51528161e+07, 1.29442069e+08,\n",
       "       4.17302292e+07, 9.02231246e+07, 7.25011759e+07, 1.74951699e+08,\n",
       "       1.36589157e+08, 1.24939564e+08, 1.42988117e+08, 1.03140445e+08,\n",
       "       6.80393953e+07, 1.67217645e+08, 3.46481504e+07, 6.59053328e+07,\n",
       "       5.56772704e+07, 2.24244196e+08, 2.58323906e+08, 6.35436971e+07,\n",
       "       7.81190897e+07, 5.67225138e+07, 1.00766242e+08, 3.40111962e+07,\n",
       "       8.12262840e+07, 7.14201522e+06, 1.36883251e+08, 7.57816751e+07,\n",
       "       4.07745237e+07, 1.72905698e+08, 1.88289366e+08, 1.05477516e+08,\n",
       "       5.62350086e+07, 1.38424670e+08, 1.07351948e+08, 8.64965648e+07,\n",
       "       1.55517242e+08, 7.39317055e+07, 9.98670562e+07, 7.54461171e+07,\n",
       "       1.84920992e+08, 1.70547051e+08, 7.64044214e+07, 1.25373600e+08,\n",
       "       1.00018630e+08, 1.67934382e+08, 6.05471970e+07, 5.60071316e+07,\n",
       "       3.07043823e+07, 4.26898872e+07, 5.86242775e+07, 8.67433791e+07,\n",
       "       1.27614225e+08, 1.02531074e+08, 1.39619432e+08, 2.34828354e+08,\n",
       "       5.33021153e+07, 1.03470915e+08, 1.38585157e+08, 9.20380186e+07,\n",
       "       2.01275719e+08, 9.59576304e+07, 1.60316584e+08, 8.08176063e+07,\n",
       "       1.34521401e+08, 7.57799896e+07, 3.97319642e+07, 2.32269383e+07,\n",
       "       7.62248078e+07, 6.55888662e+07, 9.22356884e+07, 1.38600257e+08,\n",
       "       4.04888987e+07, 1.50041347e+08, 6.16996617e+07, 8.61300018e+07,\n",
       "       1.11059234e+08, 1.10384776e+08, 1.83032865e+08, 2.72640195e+07,\n",
       "       1.99650484e+08, 1.89741306e+08, 1.60640917e+08, 1.11801606e+08,\n",
       "       4.98425627e+07, 5.90667034e+07, 4.38469114e+07, 4.50563541e+07,\n",
       "       1.27195648e+08, 1.20342555e+08, 9.85907600e+07, 1.29838314e+08,\n",
       "       1.00901180e+08, 5.66662357e+07, 2.29842367e+08, 7.67728503e+07,\n",
       "       4.97261966e+07, 1.86135022e+08, 4.16631254e+07, 1.23570672e+08,\n",
       "       2.63321471e+07, 1.20622912e+08, 7.28647389e+08, 1.30954380e+08,\n",
       "       1.54849651e+08, 8.11077073e+07, 1.15702063e+08, 8.30280060e+08,\n",
       "       1.76137211e+08, 1.28709326e+08, 7.43847371e+07, 1.59374672e+08,\n",
       "       9.58477382e+07, 6.93815244e+07, 1.42664478e+08, 6.96592770e+07,\n",
       "       7.38624496e+07, 7.79589345e+07, 8.57267826e+07, 1.45180129e+08,\n",
       "       1.06699455e+05, 1.32228483e+08, 1.63620440e+08, 8.35594420e+07,\n",
       "       5.62455007e+07, 4.21376039e+07, 1.55660619e+08, 5.65826240e+07,\n",
       "       6.24968574e+07, 3.93244918e+07, 5.57228761e+07, 7.29172632e+07,\n",
       "       1.31817341e+08, 1.55957665e+08, 1.34918572e+08, 7.79883218e+07,\n",
       "       7.87569051e+07, 2.38376224e+08, 1.05864506e+08, 4.60049774e+07,\n",
       "       1.45170603e+08, 1.33977725e+08, 1.10657636e+08, 1.28280383e+08,\n",
       "       6.96413010e+07, 1.25261764e+08, 1.21787651e+08, 2.33353214e+08,\n",
       "       1.04546563e+08, 1.55312459e+08, 1.69111315e+08, 1.26314889e+08,\n",
       "       6.13475278e+08, 4.12990315e+07, 1.10440217e+08, 4.60842398e+07,\n",
       "       7.58017183e+07, 1.03200375e+08, 4.09673123e+07, 3.22877582e+07,\n",
       "       6.04756145e+07, 1.24185573e+08, 3.63444022e+07, 1.46581446e+08,\n",
       "       2.10992811e+08, 1.08032464e+08, 1.06957723e+08, 1.09709582e+08,\n",
       "       1.10215384e+08, 9.14386938e+07, 1.85539554e+08, 1.01307739e+08,\n",
       "       1.57889915e+08, 6.31116123e+07, 1.35606558e+08, 1.08067314e+06,\n",
       "       5.56421351e+07, 6.38658333e+07, 1.34598240e+08, 2.78146897e+07,\n",
       "       1.13690462e+08, 2.72751472e+07, 5.79863423e+07, 1.41463972e+08,\n",
       "       1.69188723e+08, 1.11440744e+08, 1.70248732e+08, 1.46774408e+08,\n",
       "       1.46155771e+08, 4.69637519e+07, 9.45770755e+07, 2.14669597e+08,\n",
       "       7.37234216e+07, 5.73176603e+07, 9.29825864e+07, 1.60219252e+08,\n",
       "       5.38991898e+07, 1.44974426e+08, 1.09727593e+08, 3.24409737e+07,\n",
       "       1.15403228e+08, 5.00830370e+07, 1.33137560e+08, 3.05971562e+08,\n",
       "       2.00421266e+07, 8.70639486e+07, 1.13787043e+08, 6.86210922e+07,\n",
       "       3.40048319e+07, 1.73584172e+08, 4.95022800e+07, 4.75850615e+07,\n",
       "       7.70875495e+07, 1.84706174e+08, 1.01124888e+08, 1.15876603e+08,\n",
       "       6.72318908e+07, 6.26595810e+07, 4.69455192e+07, 1.03830421e+08,\n",
       "       1.84677405e+08, 1.16749981e+08, 1.95508772e+08, 5.65795871e+07,\n",
       "       1.85752466e+08, 7.41273226e+07, 1.19699902e+08, 1.50769439e+08,\n",
       "       1.08287435e+08, 8.07545739e+07, 1.22466616e+08, 1.35675967e+08,\n",
       "       5.20404720e+07, 5.72285255e+07, 5.08767245e+07, 1.27487945e+08,\n",
       "       5.36782496e+07, 7.46411901e+04, 5.69056995e+08, 3.88321424e+07,\n",
       "       1.23284838e+08, 9.50298937e+07, 5.69390419e+07, 8.04861772e+07,\n",
       "       1.03348230e+08, 1.66482771e+08, 4.40129118e+07, 1.25148172e+08,\n",
       "       9.47965281e+07, 1.02102878e+08, 1.32363772e+08, 7.20844834e+07,\n",
       "       1.42699410e+08, 7.63004247e+07, 8.15847989e+08, 5.62395574e+07,\n",
       "       1.94514445e+07, 1.40534611e+08, 1.69799510e+08, 7.37752601e+07,\n",
       "       3.57076139e+07, 1.06171044e+08, 1.14177362e+08, 1.23599393e+08,\n",
       "       1.16257322e+08, 9.54970959e+07])"
      ]
     },
     "execution_count": 41,
     "metadata": {},
     "output_type": "execute_result"
    }
   ],
   "source": [
    "sq=np.square(diff)\n",
    "sq"
   ]
  },
  {
   "cell_type": "code",
   "execution_count": 43,
   "id": "30762e85",
   "metadata": {},
   "outputs": [
    {
     "data": {
      "text/plain": [
       "31434812406.11872"
      ]
     },
     "execution_count": 43,
     "metadata": {},
     "output_type": "execute_result"
    }
   ],
   "source": [
    "sum1 =np.sum(sq)\n",
    "sum1"
   ]
  },
  {
   "cell_type": "code",
   "execution_count": 45,
   "id": "dfda5136",
   "metadata": {},
   "outputs": [
    {
     "data": {
      "text/plain": [
       "114725592.72306103"
      ]
     },
     "execution_count": 45,
     "metadata": {},
     "output_type": "execute_result"
    }
   ],
   "source": [
    "sum1/n"
   ]
  },
  {
   "cell_type": "code",
   "execution_count": null,
   "id": "3eb44ef4",
   "metadata": {},
   "outputs": [],
   "source": []
  },
  {
   "cell_type": "code",
   "execution_count": null,
   "id": "86555aca",
   "metadata": {},
   "outputs": [],
   "source": []
  },
  {
   "cell_type": "code",
   "execution_count": null,
   "id": "18fd5242",
   "metadata": {},
   "outputs": [],
   "source": []
  },
  {
   "cell_type": "code",
   "execution_count": null,
   "id": "beac63d8",
   "metadata": {},
   "outputs": [],
   "source": []
  }
 ],
 "metadata": {
  "kernelspec": {
   "display_name": "Python 3 (ipykernel)",
   "language": "python",
   "name": "python3"
  },
  "language_info": {
   "codemirror_mode": {
    "name": "ipython",
    "version": 3
   },
   "file_extension": ".py",
   "mimetype": "text/x-python",
   "name": "python",
   "nbconvert_exporter": "python",
   "pygments_lexer": "ipython3",
   "version": "3.9.12"
  }
 },
 "nbformat": 4,
 "nbformat_minor": 5
}
