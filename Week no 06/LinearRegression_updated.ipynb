{
 "cells": [
  {
   "cell_type": "markdown",
   "id": "ccf0bf87",
   "metadata": {},
   "source": [
    "# In Depth Analysis of Linear Regression\n",
    "- **ML Overview**\n",
    "    - Example, Algorithms vs Model\n",
    "- **Supervised Learning**\n",
    "    - Definition, Examples\n",
    "- **Supervised Learning Setup**\n",
    "    - Nomenclature, Formulation(`Regression` & `Classification`),  Example,  Learning,  Hypothesis Class.\n",
    "    - Performance Evaluation\n",
    "        - Loss Function, 0/1 Loss Function, Squared Loss, Root Mean squared error, Absolute Loss\n",
    "    - Generalization: The Train-Test Split, Generalization loss.\n",
    "    \n",
    "[Linear Regression](#Linear-Regression)\n",
    "\n",
    "- **Single Feature**\n",
    "- **Multiple Feature**\n",
    "- **Model Formulation and Setup**\n",
    "- **Loss Function**\n",
    "   - How to solve?\n",
    "   - Reformulation\n",
    "   - Consequently\n",
    "- **Solve Optimization Problem (Analytical Solution employing Calculus)**\n",
    "- **Model Evaluation Techniques**\n",
    "- **Polynomial Regression**\n",
    "- **How to Handle Overfitting?**\n",
    "- **Regularization (Ridge Regression and Lasso Regression)**\n",
    "- **Gradient Descent Algorithm**\n",
    "   - Formulation\n",
    "   - Algorithm\n",
    "   - Types \n",
    "- **Linear Regression Implementation in Python**\n",
    "- **Linear Regression Implementation using sklearn**\n",
    "- **Interview Questions**"
   ]
  },
  {
   "cell_type": "code",
   "execution_count": null,
   "id": "bf1cc6a2",
   "metadata": {},
   "outputs": [],
   "source": []
  },
  {
   "cell_type": "markdown",
   "id": "40f24ee6",
   "metadata": {},
   "source": [
    "<h2 align='center' > ML Overview</h2> \n",
    "\n",
    "### What is Machine Learning?\n",
    "- Automating the process of automation\n",
    "- Getting computers to program themselves\n",
    "\n",
    "<figure>\n",
    "<img src=\"images/p1.png\" width=300px height=300px>\n",
    "<figcaption align = \"center\" ><b> Given examples(Training data), make a machine learn system behavior or discover patterns. </b> </figcaption>\n",
    "</figure>\n",
    "\n",
    "\n",
    "> **A simple definition of machine learning is the ability of a computer or machine to improve its performance on a specific task through experience. It involves training a model on a data set, and then using that model to make predictions or take actions based on new, unseen data.**\n",
    "\n",
    "> **In other words, machine learning is a way for computers to learn and make decisions on their own, without being explicitly programmed to perform a specific task.**\n",
    "-----\n",
    "\n",
    "<img src=\"images/p2.png\">\n",
    "\n",
    "&ensp;\n",
    "\n",
    "**Note**: An algorithm is a set of steps that a model follows to learn from data and make predictions. A model, on the other hand, is a representation of the relationships between the input data and the output predictions. It is trained on a dataset and is able to make predictions on new data based on what it has learned from the training data."
   ]
  },
  {
   "cell_type": "markdown",
   "id": "c033440f",
   "metadata": {},
   "source": [
    "### Rules vs. Learning\n",
    "- `Rules-based` approaches involve following a predetermined set of rules or instructions to solve a problem or make a decision. These rules are typically established in advance and are followed regardless of the specific circumstances or context.\n",
    "\n",
    "- On the other hand, `learning-based` approaches involve using data and experience to improve decision-making over time. In the context of machine learning, this involves training a model on a dataset, allowing the model to learn patterns and relationships in the data, and using this learned knowledge to make predictions on new data.\n",
    "\n",
    "- Both rules-based and learning-based approaches have their own strengths and weaknesses, and the most appropriate approach will depend on the specific problem or task at hand. Rules-based approaches are often simpler and easier to implement, but they may not be able to adapt to changing circumstances or new data as well as learning-based approaches. Learning-based approaches, on the other hand, may be more complex and require more data and computation, but they have the ability to improve over time and adapt to new situations."
   ]
  },
  {
   "cell_type": "markdown",
   "id": "c5940a3a",
   "metadata": {},
   "source": [
    "<h2 align=\"center\">Supervised Learning</h2> \n",
    "\n",
    "**Predicting the labels for unseen data based on labelled\n",
    "instances.** \n",
    "\n",
    "<img src=\"images/p4.png\" height=500px width=500px align='center'>\n",
    "\n",
    "- Each column is a feature and adds one dimension to the data\n",
    "- Number of columns define total number of features and hence data dimensionality.\n",
    "- `Inputs`: referred to as Features.\n",
    "- `Output`: referred to as Label.\n",
    "- `Training data`: (input, output) for which the output is known and is used for training a model by ML algorithm.\n",
    "- `A Loss, an objective or a cost function`: determines how well a trined model approximates the training data\n",
    "- `Test data`: (input, output) for which the output is known and is used for the evaluation of the performance of the trained model\n",
    "\n",
    "#### A Recipe for Applying Supervised Learning\n",
    "\n",
    "To apply supervised learning, we define a dataset and a learning algorithm.\n",
    "\n",
    "$$ \\text{Dataset} + \\text{Learning Algorithm} \\to \\text{Predictive Model} $$\n",
    "\n",
    "The output is a predictive model that maps inputs to targets. For instance, it can predict targets on new inputs.\n",
    "\n",
    "-----\n",
    "The learning algorithm would receive a set of inputs along with the corresponding correct outputs to train a model.\n",
    "\n",
    "<img src=\"images/p5.png\" height=600px width=600px align=\"center\">\n",
    "&ensp;\n",
    "\n",
    "<img src=\"images/p8.png\" height=600px width=600px align=\"center\">\n",
    "\n",
    "\n",
    "### Algorithms vs Model\n",
    "- `Linear regression` algorithm produces a model, that is, a vector of values of the coefficients of the model.\n",
    "- `Decision tree` algorithm produces a model comprised of a tree of if-then statements with specific values.\n",
    "- `Neural network` along with backpropagation + gradient descent: produces a model comprised of a trained (weights assigned) neural network."
   ]
  },
  {
   "cell_type": "markdown",
   "id": "f3e25535",
   "metadata": {},
   "source": [
    "<h2 align=\"center\">Supervised Learning Setup</h2>\n",
    "\n",
    "##### A Supervised Learning Dataset: Notation\n",
    "\n",
    "Using the adopted notation, we can formalize the supervised machine learning setup. We represent the entire training data as \n",
    "$$\\mathcal{D} = \\{(x^{(i)}, y^{(i)}) \\mid i = 1,2,...,n\\} \\in X^{R} \\times Y$$\n",
    "\n",
    "Where\n",
    "- D is a dataset\n",
    "- X is the d-dimensional feature space($R^d$)\n",
    "- $x_i$ is the input vector of the <i>ith</i> sample\n",
    "- Y is the label space\n",
    "\n",
    "Each $x^{(i)}$ denotes an input (e.g., the measurements for patient $i$), and each $y^{(i)} \\in \\mathcal{Y}$ is a target (e.g., the Heart Disease). \n",
    "\n",
    "<b><u>Regression</u></b>:    $\\mathcal{y} = R (prediction-on-continuous-scale)$\n",
    "\n",
    "<b><u>Classification</u></b>:    $\\mathcal{y} = {{0,1}} \\;\\;or \\;\\;{-1,1} \\;\\; or \\;\\; 1,2 \\;\\; binary-classification $\n",
    "\n",
    "$\\mathcal{y} = {1,2,3......,M} \\;\\;\\; M-class-Classification$\n",
    "\n",
    "\n",
    "\n",
    "\n",
    "Together, $(x^{(i)}, y^{(i)})$ form a *training example*.\n",
    "&emsp;\n",
    "<h3 align='center'>Example</h3>\n",
    "<img src=\"images/9.png\" height=500px width=500px >\n",
    "\n",
    "&emsp;\n",
    "\n",
    "<h3 align='center'>Learning </h3>\n",
    "\n",
    "We want to develop a model that can predict the label for the input for which label is **unknown.**\n",
    "\n",
    "We assume that the data points $(x_i,y_i)$ are drawn from some **unknown** distribution $P(X,Y)$.\n",
    "<img src=\"images/10.png\" align='center'>\n",
    "\n",
    "Our goal is to learn the machine (model, function or hypothesis) $h\\in H$, such that for a new pair/instance $(x,y)P$ , we can use *h* to obtain\n",
    "$$h(x) =y$$\n",
    "\n",
    "with high probability or \n",
    "$$h(x)\\approx y$$\n",
    "\n",
    "in some optimal sense.\n",
    "\n",
    "**Note:** Here, we do not know exact distribution but using **ML**, we try to estimate that distribution. Here, $h$ is our hypothesis, this is basically returns a mapping between input and output. $h$ is a machine. It is a sample from Hypothesis $H$. Here, we want to learn a function from dataset which takes input and produces its output.\n",
    "\n",
    "<h3 align='center'> Model/Function/Hypothesis: Notation</h3>\n",
    "\n",
    "We'll say that a model is a function\n",
    "$$ f : \\mathcal{X} \\to \\mathcal{Y} $$\n",
    "that maps inputs $x \\in \\mathcal{X}$ to targets $y \\in \\mathcal{Y}$.\n",
    "\n",
    "Often, models have *parameters* $\\theta \\in \\Theta$ living in a set $\\Theta$. We will then write the model as\n",
    "$$ f_\\theta : \\mathcal{X} \\to \\mathcal{Y} $$\n",
    "to denote that it's parametrized by $\\theta$."
   ]
  },
  {
   "cell_type": "markdown",
   "id": "6e91caaf",
   "metadata": {},
   "source": [
    "<h3 align=\"center\">Feature Space</h3>  \n",
    "\n",
    "**Definition:** A feature space is a set of mathematical features or variables that are used to represent the data. It is a multi-dimensional space where each dimension corresponds to a feature or variable, and each data point is represented as a point in this space.\n",
    "\n",
    "**Example:** If you have a dataset containing three features (age, height, and weight), the feature space would be a three-dimensional space where each data point is represented by its age, height, and weight.\n",
    "\n",
    "- Student data(e.g. for predicting grades), an input $x^{(i)} \\in \\mathcal{X}$ is a $d$-dimensional vector of the form\n",
    "$$ x^{(i)} = \\begin{bmatrix}\n",
    "x^{(i)}_1 \\\\\n",
    "x^{(i)}_2 \\\\\n",
    "\\vdots \\\\\n",
    "x^{(i)}_d\n",
    "\\end{bmatrix}$$\n",
    "- Where each $x_j^i \\;$ is the value of the $ith$ feature for student $j$.\n",
    "- Examples of features, $x^i$\n",
    "    - Scores in assignments, quizzes, exams\n",
    "    - Educational records, grades in previous courses\n",
    "    - Rankings of previous educational institutes\n",
    "    - Interaction with online tools? Missed instruments?\n",
    "- Small number of features and relatively low features with 0 values: **Dense vectors**.\n",
    "\n",
    "The set $\\mathcal{X}$ is called the feature space. Often, we have, $\\mathcal{X} = \\mathbb{R}^d$.\n",
    "\n",
    "**Attributes:** We refer to the numerical variables describing the patient as *attributes*. Examples of attributes include:\n",
    "* The age of a patient.\n",
    "* The patient's gender.\n",
    "* The patient's BMI.\n",
    "\n",
    "**Features:** Often, an input object has many attributes, and we want to use these attributes to define more complex descriptions of the input.\n",
    "\n",
    "* Is the patient old and a man? (Useful if old men are at risk).\n",
    "* Is the BMI above the obesity threshold?\n",
    "\n",
    "We call these custom attributes *features*.\n",
    "\n",
    "**Feature:** We may denote features via a function $\\phi : \\mathcal{X} \\to \\mathbb{R}^p$ that takes an input $x^{(i)} \\in \\mathcal{X}$ and outputs a $p$-dimensional vector\n",
    "$$ \\phi(x^{(i)}) = \\left[\\begin{array}{@{}c@{}}\n",
    "\\phi(x^{(i)})_1 \\\\\n",
    "\\phi(x^{(i)})_2 \\\\\n",
    "\\vdots \\\\\n",
    "\\phi(x^{(i)})_p\n",
    "\\end{array} \\right]$$\n",
    "We say that $\\phi(x^{(i)})$ is a *featurized* input, and each $\\phi(x^{(i)})_j$ is a *feature*.\n",
    "\n",
    "**Features vs Attributes**:\n",
    "In practice, the terms attribute and features are often used interchangeably. Most authors refer to $x^{(i)}$ as a vector of features. We will follow this convention and use the term \"attribute\" only when there is ambiguity between features and attributes. Features can be either discrete or continuous."
   ]
  },
  {
   "cell_type": "markdown",
   "id": "936edb6e",
   "metadata": {},
   "source": [
    "<h3 align='center'>Label Space</h3>\n",
    "Formally, when $(x^{(i)}, y^{(i)})$ form a *training example*, each $y^{(i)} \\in \\mathcal{Y}$ is a target. We call $\\mathcal{Y}$ the target space.\n",
    "\n",
    "- Binary (one-of-two) – Binary classification\n",
    "    - Sentiment: positive / negative\n",
    "    - Email: Spam / Not Spam\n",
    "    - Online Transactions: Fraudulent (Yes / No)\n",
    "    - Tumor: Malignant / Benign\n",
    "    - y ∈ 0,1 e.g. 0: Negative class, 1: Positive class\n",
    "    - y ∈ −1,1 e.g. -1: Negative class, 1: Positive class\n",
    "- **Multi-class (one-of-many, many-of-many problems) – Multi-class classification**\n",
    "    - Sentiment: Positive / negative / neutral\n",
    "    - Emotion: Happy, Sad, Surprised, Angry,...\n",
    "    - Part-of-Speech tag: Noun / verb / adjective / adverb /...\n",
    "    - Recognize a word: One of |V| tags\n",
    "    - y ∈ 0,1,2,3, ... e.g. 0: Happy, 1: Sad, 2, Angry,...\n",
    "- **Real-valued – Regression**\n",
    "    - Temperature, height, age, length, weight, duration, price...\n",
    "    \n",
    "**Regression vs. Classification**\n",
    "\n",
    "\n",
    "1. __Regression__: The target variable $y$ is continuous. We are fitting a curve in a high-dimensional feature space that approximates the shape of the dataset.\n",
    "2. __Classification__: The target variable $y$ is discrete. Each discrete value corresponds to a *class* and we are looking for a hyperplane that separates the different classes.\n",
    "\n",
    "<h3 align='center'>Feature Matrix</h3>\n",
    "\n",
    "Suppose that we have a dataset of size $n$ (e.g., $n$ patients), indexed by $i=1,2,...,n$. Each $x^{(i)}$ is a vector of $d$ features.\n",
    "\n",
    "Machine learning algorithms are most easily defined in the language of linear algebra. Therefore, it will be useful to represent the entire dataset as one matrix $X \\in \\mathbb{R}^{n \\times d}$, of the form:\n",
    "$$ X = \\begin{bmatrix}\n",
    "x^{(1)}_1 & x^{(2)}_1 & \\ldots & x^{(n)}_1 \\\\\n",
    "x^{(1)}_2 & x^{(2)}_2 & \\ldots & x^{(n)}_2 \\\\\n",
    "\\vdots \\\\\n",
    "x^{(1)}_d & x^{(2)}_d & \\ldots & x^{(n)}_d\n",
    "\\end{bmatrix}.$$\n",
    "\n",
    "Similarly, we can vectorize the target variables into a vector $y \\in \\mathbb{R}^n$ of the form\n",
    "$$ y = \\begin{bmatrix}\n",
    "y^{(1)} \\\\\n",
    "y^{(2)} \\\\\n",
    "\\vdots \\\\\n",
    "y^{(n)}\n",
    "\\end{bmatrix}.$$"
   ]
  },
  {
   "cell_type": "markdown",
   "id": "1ef7cd04",
   "metadata": {},
   "source": [
    "<h3 align=\"center\">Hypothesis Space</h3>\n",
    "\n",
    "- We call the set of possible functions or candidate models `the hypothesis class`.\n",
    "- The hypothesis $h$ is sampled from a hypothesis space $H$.\n",
    "$$h \\in H$$\n",
    "\n",
    "- $H$ can be thought of to contain classes of hypotheses which share sets of assumptions like\n",
    "    - Decisions tree\n",
    "    - Perceptron\n",
    "    - Neural networks\n",
    "    - Support Vector Machines\n",
    "    \n",
    "**Example:** $h \\in H$ for $H$: Decision trees, would be instances of\n",
    "decisions trees of different height, arity, thresholds, etc.\n",
    "\n",
    "- In machine learning, the `hypothesis space` is the set of all possible hypotheses that a learning algorithm can consider when making predictions. It is an important concept because the choice of hypotheses can significantly affect the performance of a learning algorithm."
   ]
  },
  {
   "cell_type": "code",
   "execution_count": 54,
   "id": "908967ba",
   "metadata": {
    "collapsed": true
   },
   "outputs": [
    {
     "name": "stdout",
     "output_type": "stream",
     "text": [
      "[<function <lambda> at 0x7f74c0c24ee0>, <function <lambda> at 0x7f74c0c24e50>, <function <lambda> at 0x7f74c0c24f70>, <function <lambda> at 0x7f74c0c24670>, <function <lambda> at 0x7f74c134e1f0>, <function <lambda> at 0x7f74c134e040>, <function <lambda> at 0x7f74c134e0d0>, <function <lambda> at 0x7f74c134e160>, <function <lambda> at 0x7f74c134e310>, <function <lambda> at 0x7f74c134e3a0>, <function <lambda> at 0x7f74c134e430>, <function <lambda> at 0x7f74c134e4c0>, <function <lambda> at 0x7f74c134e550>, <function <lambda> at 0x7f74c134e5e0>, <function <lambda> at 0x7f74c134e670>, <function <lambda> at 0x7f74c134e700>, <function <lambda> at 0x7f74c134e790>, <function <lambda> at 0x7f74c134e820>, <function <lambda> at 0x7f74c134e8b0>, <function <lambda> at 0x7f74c134e940>, <function <lambda> at 0x7f74c134e9d0>, <function <lambda> at 0x7f74c134ea60>, <function <lambda> at 0x7f74c134eaf0>, <function <lambda> at 0x7f74c134eb80>, <function <lambda> at 0x7f74c134ec10>, <function <lambda> at 0x7f74c134eca0>, <function <lambda> at 0x7f74c134ed30>, <function <lambda> at 0x7f74c134edc0>, <function <lambda> at 0x7f74c134ee50>, <function <lambda> at 0x7f74c134eee0>, <function <lambda> at 0x7f74c134ef70>, <function <lambda> at 0x7f74c136a1f0>, <function <lambda> at 0x7f74c136a040>, <function <lambda> at 0x7f74c136a0d0>, <function <lambda> at 0x7f74c136a160>, <function <lambda> at 0x7f74c136a280>, <function <lambda> at 0x7f74c136a3a0>, <function <lambda> at 0x7f74c136a430>, <function <lambda> at 0x7f74c136a4c0>, <function <lambda> at 0x7f74c136a550>, <function <lambda> at 0x7f74c136a5e0>, <function <lambda> at 0x7f74c136a670>, <function <lambda> at 0x7f74c136a700>, <function <lambda> at 0x7f74c136a790>, <function <lambda> at 0x7f74c136a820>, <function <lambda> at 0x7f74c136a8b0>, <function <lambda> at 0x7f74c136a940>, <function <lambda> at 0x7f74c136a9d0>, <function <lambda> at 0x7f74c136aa60>, <function <lambda> at 0x7f74c136aaf0>, <function <lambda> at 0x7f74c136ab80>, <function <lambda> at 0x7f74c136ac10>, <function <lambda> at 0x7f74c136aca0>, <function <lambda> at 0x7f74c136ad30>, <function <lambda> at 0x7f74c136adc0>, <function <lambda> at 0x7f74c136ae50>, <function <lambda> at 0x7f74c136aee0>, <function <lambda> at 0x7f74c136af70>, <function <lambda> at 0x7f74c141ce50>, <function <lambda> at 0x7f74c141cca0>, <function <lambda> at 0x7f74c141c040>, <function <lambda> at 0x7f74c0c85280>, <function <lambda> at 0x7f74c0c85040>, <function <lambda> at 0x7f74c0c850d0>, <function <lambda> at 0x7f74c0c85160>, <function <lambda> at 0x7f74c0c851f0>, <function <lambda> at 0x7f74c0c85310>, <function <lambda> at 0x7f74c0c85430>, <function <lambda> at 0x7f74c0c854c0>, <function <lambda> at 0x7f74c0c85550>, <function <lambda> at 0x7f74c0c855e0>, <function <lambda> at 0x7f74c0c85670>, <function <lambda> at 0x7f74c0c85700>, <function <lambda> at 0x7f74c0c85790>, <function <lambda> at 0x7f74c0c85820>, <function <lambda> at 0x7f74c0c858b0>, <function <lambda> at 0x7f74c0c85940>, <function <lambda> at 0x7f74c0c859d0>, <function <lambda> at 0x7f74c0c85a60>, <function <lambda> at 0x7f74c0c85af0>, <function <lambda> at 0x7f74c0c85b80>, <function <lambda> at 0x7f74c0c85c10>, <function <lambda> at 0x7f74c0c85ca0>, <function <lambda> at 0x7f74c0c85d30>, <function <lambda> at 0x7f74c0c85dc0>, <function <lambda> at 0x7f74c0c85e50>, <function <lambda> at 0x7f74c0c85ee0>, <function <lambda> at 0x7f74c0c85f70>, <function <lambda> at 0x7f74c0cb6280>, <function <lambda> at 0x7f74c0cb6040>, <function <lambda> at 0x7f74c0cb60d0>, <function <lambda> at 0x7f74c0cb6160>, <function <lambda> at 0x7f74c0cb61f0>, <function <lambda> at 0x7f7452c7c8b0>, <function <lambda> at 0x7f7452c7c3a0>, <function <lambda> at 0x7f7452c883a0>, <function <lambda> at 0x7f7452c88310>, <function <lambda> at 0x7f7452c88280>, <function <lambda> at 0x7f7452c880d0>, <function <lambda> at 0x7f7452c88700>, <function <lambda> at 0x7f7452c88790>, <function <lambda> at 0x7f7452c88820>, <function <lambda> at 0x7f7452c888b0>, <function <lambda> at 0x7f7452c88940>, <function <lambda> at 0x7f7452c889d0>, <function <lambda> at 0x7f7452c88a60>, <function <lambda> at 0x7f7452c88af0>, <function <lambda> at 0x7f7452c88b80>, <function <lambda> at 0x7f7452c88c10>, <function <lambda> at 0x7f7452c88ca0>, <function <lambda> at 0x7f7452c88d30>, <function <lambda> at 0x7f7452c88dc0>, <function <lambda> at 0x7f7452c88e50>, <function <lambda> at 0x7f7452c88ee0>, <function <lambda> at 0x7f7452c88f70>, <function <lambda> at 0x7f74c1359040>, <function <lambda> at 0x7f74c13590d0>, <function <lambda> at 0x7f74c1359160>, <function <lambda> at 0x7f74c13591f0>, <function <lambda> at 0x7f74c1359280>, <function <lambda> at 0x7f74c1359310>]\n"
     ]
    }
   ],
   "source": [
    "# Import necessary libraries\n",
    "import numpy as np\n",
    "\n",
    "# Define the input space X as a matrix of four rows and two columns, \n",
    "# representing four possible input examples with two features each.\n",
    "X = np.array([[0, 0], \n",
    "              [0, 1], \n",
    "              [1, 0], \n",
    "              [1, 1]])\n",
    "\n",
    "# Define the output space Y as a vector of four values, representing \n",
    "#  the corresponding output labels for each of the four input examples.\n",
    "Y = np.array([0, 1, 1, 0])\n",
    "\n",
    "# Define the hypothesis space H\n",
    "H = []\n",
    "\n",
    "# Iterate over all possible combinations of weights w1 and w2\n",
    "for w1 in range(-5, 6):\n",
    "    for w2 in range(-5, 6):\n",
    "        # Append the hypothesis h(x) = w1 * x1 + w2 * x2 to the hypothesis space H\n",
    "        result = lambda x: w1 * X[0] + w2 * X[1]\n",
    "        H.append(result)\n",
    "\n",
    "# Print the hypothesis space\n",
    "print(H)"
   ]
  },
  {
   "cell_type": "markdown",
   "id": "3452a33b",
   "metadata": {},
   "source": [
    ">**Note:** The code prints the resulting `hypothesis space` $H$, which is a list of all possible hypotheses that can be considered by the learning algorithm."
   ]
  },
  {
   "cell_type": "markdown",
   "id": "bb32a7a0",
   "metadata": {},
   "source": [
    "<h3><b><i>Question:</i></b> \n",
    "    For a given problem, How we can select/choose hypothesis(machine) $h \\in h$.</h3>\n",
    "    \n",
    "**Answer:**\n",
    "- **Randomly**\n",
    "    - May not work well\n",
    "    - Like using a random program to solve a sorting problem\n",
    "    - May work if $H$ is constrained enough\n",
    "\n",
    "- **Exhaustively**\n",
    "    - Would be very slow\n",
    "    - The space $H$ is usually very large (if not infinite)\n",
    "\n",
    "- $H$ is usually chosen by data scientists (you!) based on their experience!\n",
    "    - $h \\in H$ is estimated efficiently using various optimization techniques. Define hypothesis class $H$ for a given learning algorithm. Evaluate the performance of each candidate function and choose the best one."
   ]
  },
  {
   "cell_type": "markdown",
   "id": "a3b4de7a",
   "metadata": {},
   "source": [
    "<h3><i>Question<i/>: How do we evaluate the performance? </h3>\n",
    "\n",
    "**Answer:** \n",
    "    \n",
    "Define a loss function to quantify/calculate the accuracy of the prediction."
   ]
  },
  {
   "cell_type": "markdown",
   "id": "22de0490",
   "metadata": {},
   "source": [
    "<h3 align=\"center\">Loss Function</h3>\n",
    "\n",
    "- Loss function should quantify/calculate the average error in predicting $y$ using hypothesis function $h$ and input $x$. It is denoted by $L$.\n",
    "\n",
    "- Smaller is better\n",
    "    - 0 loss: No error\n",
    "    - 100% loss: Could not even get one instance right\n",
    "    - 50% loss: Your h is as informative as a coin toss\n",
    "    \n",
    "&emsp;    "
   ]
  },
  {
   "cell_type": "markdown",
   "id": "2aca097d",
   "metadata": {},
   "source": [
    "\n",
    "<h3 align=\"center\"><b>0/1 Loss</b></h3>\n",
    "\n",
    "- The `0/1 loss` is a loss function that is used to evaluate the performance of a machine learning model in binary classification tasks. It is defined as the number of incorrect predictions made by the model, divided by the total number of predictions.\n",
    "\n",
    "<img src=\"https://www.baeldung.com/wp-content/ql-cache/quicklatex.com-3fc482ec51a32e213970a07a3de41d10_l3.svg\" height=600px width=600px>\n",
    "\n",
    "- Counts the average number of mistakes in predicting $y$\n",
    "- Returns the training error rate\n",
    "- Not used due to Non-continuous and non-differentiable\n",
    "    - Difficult to utilize in optimization\n",
    "- Used to evaluate classifiers in binary/multiclass settings"
   ]
  },
  {
   "cell_type": "code",
   "execution_count": 55,
   "id": "673466a3",
   "metadata": {},
   "outputs": [
    {
     "name": "stdout",
     "output_type": "stream",
     "text": [
      "0.5\n"
     ]
    }
   ],
   "source": [
    "# Import necessary libraries\n",
    "import numpy as np\n",
    "\n",
    "# Define the true labels y_true as a numpy array of four values, \n",
    "# representing the correct class labels for four input examples. \n",
    "y_true = np.array([0, 1, 0, 1])\n",
    "\n",
    "# Define the predicted labels y_pred as a numpy array of \n",
    "# four values, representing the class labels predicted by the model.\n",
    "y_pred = np.array([0, 0, 1, 1])\n",
    "\n",
    "# Calculate the 0/1 loss\n",
    "loss = np.mean(y_true != y_pred)\n",
    "\n",
    "# def zero_one_loss(y_true, y_pred):\n",
    "#     loss = 0\n",
    "#     for yt, yp in zip(y_true, y_pred):\n",
    "#         if yt != yp:\n",
    "#             loss += 1\n",
    "#     return loss\n",
    "\n",
    "# Print the loss\n",
    "print(loss)"
   ]
  },
  {
   "cell_type": "markdown",
   "id": "72264972",
   "metadata": {},
   "source": [
    "> **Note:** The output will be `0.5`, indicating that the model made 2 incorrect predictions out of a total of 4, or 50% error."
   ]
  },
  {
   "cell_type": "markdown",
   "id": "b2866a04",
   "metadata": {},
   "source": [
    "<h3 align=\"center\"><b>Squared Loss Function</b></h3>\n",
    "\n",
    "The squared loss function, also known as the mean squared error (MSE) loss, is a common loss function used in regression tasks. It measures the average squared difference between the predicted values and the true values. The squared loss function is defined as:\n",
    "\n",
    "$$L_{sq}(h) = \\frac{1}{2n} \\sum_{i=1}^n \\left( h(x^{(i)}) - y^{(i)} \\right)^2$$\n",
    "\n",
    "Where $h(x^{(i)})$ is the predicted value, $y^{(i)}$ is the true value, and $n$ is the number of samples. These are defined for a dataset $\\mathcal{D} = \\{(x^{(i)}, y^{(i)}) \\mid i = 1,2,...,n\\}$.\n",
    "\n",
    "\n",
    "- Typically used in regression settings\n",
    "- The loss is always non-negative\n",
    "- The loss grows quadratically with the absolute magnitude of mis-prediction\n",
    "- Encourages no predictions to be really far off\n",
    "- If a prediction is very close to be correct, the square will be tiny and little attention will be given to that example to obtain zero error."
   ]
  },
  {
   "cell_type": "code",
   "execution_count": 56,
   "id": "f22d4220",
   "metadata": {},
   "outputs": [],
   "source": [
    "def squared_loss(y_true, y_pred):\n",
    "    loss = 0\n",
    "    for yt, yp in zip(y_true, y_pred):\n",
    "        loss += (yt - yp) ** 2\n",
    "    loss /= len(y_true)\n",
    "    return loss\n"
   ]
  },
  {
   "cell_type": "markdown",
   "id": "c54177eb",
   "metadata": {},
   "source": [
    "**Note:** Function `squared_loss` takes in two arguments: `y_true` and `y_pred`. `y_true` is a list of true values, and `y_pred` is a list of predicted values. The function calculates the squared difference between each pair of true and predicted values and sums them up. It then divides the total loss by the number of samples to get the average loss. The function returns the average loss as a float."
   ]
  },
  {
   "cell_type": "code",
   "execution_count": 61,
   "id": "13d8b9a6",
   "metadata": {},
   "outputs": [
    {
     "name": "stdout",
     "output_type": "stream",
     "text": [
      "0.65\n"
     ]
    }
   ],
   "source": [
    "y_true = [1, 2, 3, 4, 5]\n",
    "y_pred = [1.5, 2.5, 2.5, 4.5, 6.5]\n",
    "\n",
    "loss = squared_loss(y_true, y_pred)\n",
    "print(loss)  "
   ]
  },
  {
   "cell_type": "markdown",
   "id": "56d0091b",
   "metadata": {},
   "source": [
    "<h3 align=\"center\"><b>Absolute Loss Function</b></h3>\n",
    "\n",
    "The absolute loss function, also known as the mean absolute error (MAE) loss, is another common loss function used in regression tasks. It measures the average absolute difference between the predicted values and the true values. The absolute loss function is defined as:\n",
    "\n",
    "$$L_{abs}(h) = \\frac{1}{n} \\sum_{i=1}^n \\left| h(x^{(i)}) - y^{(i)} \\right|$$\n",
    "\n",
    "Where $h(x^{(i)})$ is the predicted value, $y^{(i)}$ is the true value, and $n$ is the number of samples. These are defined for a dataset $\\mathcal{D} = \\{(x^{(i)}, y^{(i)}) \\mid i = 1,2,...,n\\}$.\n",
    "\n",
    "\n",
    "- The loss is always non-negative\n",
    "- The loss grows linearly with the absolute magnitude of mis-prediction\n",
    "- Better suited for noisy data."
   ]
  },
  {
   "cell_type": "code",
   "execution_count": 58,
   "id": "ceb11696",
   "metadata": {},
   "outputs": [],
   "source": [
    "def absolute_loss(y_true, y_pred):\n",
    "    loss = 0\n",
    "    for yt, yp in zip(y_true, y_pred):\n",
    "        loss += abs(yt - yp)\n",
    "    loss /= len(y_true)\n",
    "    return loss"
   ]
  },
  {
   "cell_type": "markdown",
   "id": "aadf20f1",
   "metadata": {},
   "source": [
    "**Note:** The `absolute_loss` function takes in two arguments: `y_true` and `y_pred`. `y_true` is a list of true values, and `y_pred` is a list of predicted values. The function calculates the absolute difference between each pair of true and predicted values and sums them up. It then divides the total loss by the number of samples to get the average loss. The function returns the average loss as a float."
   ]
  },
  {
   "cell_type": "code",
   "execution_count": 60,
   "id": "61ef8124",
   "metadata": {},
   "outputs": [
    {
     "name": "stdout",
     "output_type": "stream",
     "text": [
      "0.7\n"
     ]
    }
   ],
   "source": [
    "y_true = [1, 2, 3, 4, 5]\n",
    "y_pred = [1.5, 2.5, 2.5, 4.5, 6.5]\n",
    "\n",
    "loss = absolute_loss(y_true, y_pred)\n",
    "print(loss)"
   ]
  },
  {
   "cell_type": "markdown",
   "id": "d9a5e164",
   "metadata": {},
   "source": [
    "<h4 align=\"center\"><b>Comparsion</b></h4>\n",
    "<img src=\"images/p12.png\" align=\"left\">\n",
    "<img src=\"images/p13.png\" align=\"right\" height=400px width=400px>\n"
   ]
  },
  {
   "cell_type": "code",
   "execution_count": null,
   "id": "12a14a30",
   "metadata": {},
   "outputs": [],
   "source": []
  },
  {
   "cell_type": "code",
   "execution_count": null,
   "id": "7f9ffb34",
   "metadata": {},
   "outputs": [],
   "source": []
  },
  {
   "cell_type": "markdown",
   "id": "106f08a0",
   "metadata": {},
   "source": [
    "# Linear Regression\n",
    "\n",
    "**Regression:** Quantitative Prediction on a continuous scale.\n",
    "<img src=\"images/p11.png\">\n",
    "\n",
    "> Here, `PROCESS` or `SYSTEM` refers to any underlying physical or logical phenomenon which maps our input data to our observed and noisy output data.\n",
    "\n",
    "- **One Variable Regression:** $\\;\\;y$ is a scalar.\n",
    "- **Multi-Variable Regression:** $\\;\\;y$ is a vector.\n",
    "- **Single feature Regression:** $\\;\\;x$ is a scalar.\n",
    "- **Multiple feature Regression:** $\\;\\;x$ is a vector.\n",
    "\n",
    "<h3 align=\"center\"> Model Formulation and Setup</h3>\n",
    "\n",
    "#### *True Model:*\n",
    "We assume there is an inherent but unknown relationship between\n",
    "input and output.\n",
    "$y = f(x) + n$\n",
    "\n",
    "<img src=\"images/p16.png\" align=\"right\" height=400px width=400px>\n",
    "\n",
    "#### *Goal:* \n",
    "Given noisy observations, we need to estimate the unknown functional\n",
    "relationship as accurately as possible.\n",
    "\n",
    "We have:\n",
    "- For some input $x,\\hat y$ is our model output.\n",
    "- Assume that our model is $\\hat f(x,\\theta)$, characterized by the paramter(s) $\\theta$.\n",
    "- Model $f(x,\\theta)$ has\n",
    "    - A structure (e.g linear, polynomial, inverse).\n",
    "    - Parameters in the vector $\\theta = [\\theta_1,\\theta_2, \\theta_3,....,\\theta_M]$\n",
    "- Our Model error is $\\epsilon = y - \\hat y$.\n",
    "\n",
    "<img src=\"images/p17.png\" align=\"left\" height=400px width=400px>\n",
    "\n",
    "<img src=\"images/p18.png\" align=\"right\" height=500px width=500px>\n",
    "\n"
   ]
  },
  {
   "cell_type": "markdown",
   "id": "e115be28",
   "metadata": {},
   "source": [
    "<h3 align=\"center\">Model</h3>\n",
    "\n",
    "We have :\n",
    "\n",
    "$$\\mathcal{D} = \\{(x^{(i)}, y^{(i)}) \\mid i = 1,2,...,n\\} \\in X^{R} \\times Y$$\n",
    "\n",
    "Model is a linear function of the features, that is \n",
    "\n",
    "$$\\hat f(X,\\theta) = \\theta_0 + \\sum_{i=1}^d(\\theta_ix_i) = \\theta_0 + \\theta^TX$$\n",
    "- Linear Structure\n",
    "- Model Parameters: $\\theta_0 \\;\\; and \\; \\theta = [\\theta_1,\\theta_2, \\theta_3,....,\\theta_d]$\n",
    "    - $\\theta_0$ is bias or intercept.\n",
    "    - $\\theta = [\\theta_1,\\theta_2, \\theta_3,....,\\theta_d]$ represents the weights or slope.\n",
    "    - $\\theta_i$ quanitfies the contribution of i-th feature $x_i$."
   ]
  },
  {
   "cell_type": "markdown",
   "id": "f10f3215",
   "metadata": {},
   "source": [
    "<h3 align=\"center\">What is Linear Model?</h3>\n",
    "\n",
    "#### When d = 1:\n",
    "$$\\hat f(X,\\theta) = \\theta_0 + \\theta_1x$$\n",
    "$$\\hat f(X,\\theta) = \\theta_0 + \\theta_1x$$\n",
    "- This represents the equation of `line`.\n",
    "<img src=\"images/p19.png\" align=\"right\">\n",
    "\n",
    "#### When d=2:\n",
    "$$\\hat f(X,\\theta) = \\theta_0 + \\theta_1x_1 + \\theta_2x_2$$\n",
    "- This represents the equation of the `Plane`\n",
    "<img src=\"images/p20.png\" align=\"right\">\n",
    "\n",
    "\n",
    "#### When d=d:\n",
    "$$\\hat f(X,\\theta) = \\theta_0 + \\theta_TX$$\n",
    "- This represents the `Hyper-plane` in $R^{d+1}$.\n",
    "\n",
    "----\n",
    "- For different $\\theta_0$ and , <b>$\\theta$</b>, we have differnt hyper-planes.\n",
    "- How do we find the `best` line?\n",
    "- What do we mean by the `best`?"
   ]
  },
  {
   "cell_type": "code",
   "execution_count": null,
   "id": "746dc641",
   "metadata": {},
   "outputs": [],
   "source": []
  },
  {
   "cell_type": "markdown",
   "id": "f1f282d4",
   "metadata": {},
   "source": [
    "<h3 align=\"center\">Linear Regression with one Variable </h3>\n",
    "\n",
    "**Notation:**\n",
    "\n",
    "- **m** = Number of training samples\n",
    "- **x** = Feature\n",
    "- **y** = Label\n",
    "- $(x^i , y^i)$: the ith sample in the dataset\n",
    "\n",
    "<img src=\"https://cdn.scribbr.com/wp-content/uploads//2020/02/simple-linear-regression-graph.png\" align=\"right\">\n",
    "<img src=\"images/21.png\" align=\"left\">\n",
    "\n"
   ]
  },
  {
   "cell_type": "markdown",
   "id": "3fdde7a7",
   "metadata": {},
   "source": [
    "$$h_\\theta(x) = \\theta_0+ \\theta_1x$$\n",
    "\n",
    "> **Linear Regression with one variable is also called univarite linear regression, simple linear regression.**\n",
    "\n",
    "**Parameters:**\n",
    "$$\\theta_0, \\theta_1$$\n",
    "\n",
    "**Cost Function**\n",
    "$$J(\\theta_0, \\theta_1) = \\frac{1}{m} \\sum_{i=1}^m (h_\\theta(x^{(i)})-y^{(i)})^2$$\n",
    "\n",
    "**Goal:**\n",
    "$$minimum_{\\theta_0,\\theta_1} J(\\theta_0,\\theta_1)$$"
   ]
  },
  {
   "cell_type": "code",
   "execution_count": 62,
   "id": "92a1b03c",
   "metadata": {},
   "outputs": [
    {
     "name": "stdout",
     "output_type": "stream",
     "text": [
      "0.3333333333333333\n"
     ]
    }
   ],
   "source": [
    "import numpy as np\n",
    "def cost_function(y_pred, y):\n",
    "    n = len(y)\n",
    "    cost = 1/n * np.sum((y_pred - y)**2)\n",
    "    return cost\n",
    "y_pred = np.array([1, 2, 3])\n",
    "y = np.array([1, 2, 2])\n",
    "cost = cost_function(y_pred, y)\n",
    "print(cost)"
   ]
  },
  {
   "cell_type": "markdown",
   "id": "1d52de0e",
   "metadata": {},
   "source": [
    "<h3 align=\"center\">A simplified case</h3>\n",
    "\n",
    "<img src=\"images/21.jpeg\">\n",
    "<img src=\"images/22.jpeg\">\n"
   ]
  },
  {
   "cell_type": "markdown",
   "id": "ca337a78",
   "metadata": {},
   "source": [
    "<h3 align=\"center\">Using both of the <i>knobs</i> </h3>\n",
    "\n",
    "**Hypothesis:**\n",
    "$$\\theta_0(x) = \\theta_0 + \\theta_1x$$\n",
    "\n",
    "**Parameters:**\n",
    "$$\\theta_0, \\theta_1$$\n",
    "\n",
    "**Cost Function**\n",
    "$$J(\\theta_0, \\theta_1) = \\frac{1}{m} \\sum_{i=1}^m (h_\\theta(x^{(i)})-y^{(i)})$$\n",
    "\n",
    "**Goal:**\n",
    "$$minimum_{\\theta_0,\\theta_1} J(\\theta_0,\\theta_1)$$"
   ]
  },
  {
   "cell_type": "code",
   "execution_count": null,
   "id": "064d618c",
   "metadata": {},
   "outputs": [],
   "source": []
  },
  {
   "cell_type": "markdown",
   "id": "099b9204",
   "metadata": {},
   "source": [
    "<h3><i>Question:</i> How do we find the <i>best</i> line? What do we mean by <i>best</i>?</h3>\n",
    "\n",
    "**Answer:**\n",
    "\n",
    "#### Define Loss Function:\n",
    ">Loss function should be a function of model parameters.\n",
    "\n",
    "- For input $x$, our model error is $e = y - \\hat y = y - \\hat f(x,\\theta) = y - \\theta_0 - \\theta^Tx$.\n",
    "- e is also termed as residual error as it is the differnce between observed value and predicted value.\n",
    "- **d=1**\n",
    "\n",
    "<img src=\"images/23.png\" align=\"center\">\n",
    "\n",
    "- For $\\mathcal{D} = \\{(x^{(i)}, y^{(i)}) \\mid i = 1,2,...,n\\} \\in X^{R} \\times Y$, we have\n",
    "$$e_i = y_i-\\theta_0-\\theta^T,\\;\\;\\;\\; i=1,2,3,4,.....,n$$\n",
    "\n",
    "- Using Residual error, we can define different loss functions:\n",
    "   $$L_{LSE}(\\theta_0,\\theta_1) = \\sum_{i=1}^n(y_i-\\theta_0-\\theta^Tx_i)^2$$\n",
    "   $$L_{MSE}(\\theta_0,\\theta_1) = {1/n} \\sum_{i=1}^n(y_i-\\theta_0-\\theta^Tx_i)^2$$\n",
    "   $$L_{MSE}(\\theta_0,\\theta_1) = \\sqrt {{1/n} \\sum_{i=1}^n(y_i-\\theta_0-\\theta^Tx_i)^2}$$\n",
    "   \n",
    "> One minimizer for all loss functions.\n",
    "\n",
    "- We minimize the following loss function:\n",
    "   $$L_{MSE}(\\theta_0,\\theta_1) = {1/n} \\sum_{i=1}^n(y_i-\\theta_0-\\theta^Tx_i)^2$$\n",
    "   \n",
    "- We have an **optimzation problem**: find the parameters which minimize the loss function. We write optimization problem (with no constraints) as \n",
    "   $$minimize_{\\theta_0,\\theta}\\;\\; L_{MSE}(\\theta_0,\\theta_1) = {1/n} \\sum_{i=1}^n(y_i-\\theta_0-\\theta^Tx_i)^2$$\n",
    "   \n",
    "   \n",
    "### How to solve?\n",
    "- **Analytically:** Determine a critical point that makes the derivtive(if it exists) equal to zero.\n",
    "- **Numerically:** Solve optimization using some algorithm that iteratively takes use closer to the critical point minimizing objective function."
   ]
  },
  {
   "cell_type": "markdown",
   "id": "44c686f9",
   "metadata": {},
   "source": [
    "## Example-1"
   ]
  },
  {
   "cell_type": "code",
   "execution_count": 63,
   "id": "0144d5df",
   "metadata": {},
   "outputs": [
    {
     "name": "stdout",
     "output_type": "stream",
     "text": [
      "Starting gradient descent at b = 0, m = 0, error = 5565.107834483211\n",
      "Running...\n",
      "After 1000 iterations b = 0.08893651993741346, m = 1.4777440851894448, error = 112.61481011613473\n"
     ]
    }
   ],
   "source": [
    "from numpy import *\n",
    "\n",
    "# y = mx + b\n",
    "# m is slope, b is y-intercept\n",
    "def compute_error_for_line_given_points(b, m, points):\n",
    "    totalError = 0\n",
    "    for i in range(0, len(points)):\n",
    "        x = points[i, 0]\n",
    "        y = points[i, 1]\n",
    "        totalError += (y - (m * x + b)) ** 2\n",
    "    return totalError / float(len(points))\n",
    "\n",
    "def step_gradient(b_current, m_current, points, learningRate):\n",
    "    b_gradient = 0\n",
    "    m_gradient = 0\n",
    "    N = float(len(points))\n",
    "    for i in range(0, len(points)):\n",
    "        x = points[i, 0]\n",
    "        y = points[i, 1]\n",
    "        b_gradient += -(2/N) * (y - ((m_current * x) + b_current))\n",
    "        m_gradient += -(2/N) * x * (y - ((m_current * x) + b_current))\n",
    "    new_b = b_current - (learningRate * b_gradient)\n",
    "    new_m = m_current - (learningRate * m_gradient)\n",
    "    return [new_b, new_m]\n",
    "\n",
    "def gradient_descent_runner(points, starting_b, starting_m, learning_rate, num_iterations):\n",
    "    b = starting_b\n",
    "    m = starting_m\n",
    "    for i in range(num_iterations):\n",
    "        b, m = step_gradient(b, m, array(points), learning_rate)\n",
    "    return [b, m]\n",
    "\n",
    "def run():\n",
    "    points = genfromtxt(\"datasets/data.csv\", delimiter=\",\")\n",
    "    learning_rate = 0.0001\n",
    "    initial_b = 0 # initial y-intercept guess\n",
    "    initial_m = 0 # initial slope guess\n",
    "    num_iterations = 1000\n",
    "    print(\"Starting gradient descent at b = {0}, m = {1}, error = {2}\".format(initial_b, initial_m, compute_error_for_line_given_points(initial_b, initial_m, points)))\n",
    "    print(\"Running...\")\n",
    "    [b, m] = gradient_descent_runner(points, initial_b, initial_m, learning_rate, num_iterations)\n",
    "    print(\"After {0} iterations b = {1}, m = {2}, error = {3}\".format(num_iterations, b, m, compute_error_for_line_given_points(b, m, points)))\n",
    "\n",
    "if __name__ == '__main__':\n",
    "    run()\n"
   ]
  },
  {
   "cell_type": "markdown",
   "id": "cc3a7a23",
   "metadata": {},
   "source": [
    "<img src=\"images/gradient_descent_example.gif\">"
   ]
  },
  {
   "cell_type": "markdown",
   "id": "6fd1cd0f",
   "metadata": {},
   "source": [
    "### Example - 2"
   ]
  },
  {
   "cell_type": "code",
   "execution_count": 64,
   "id": "4c21d5f7",
   "metadata": {},
   "outputs": [
    {
     "name": "stdout",
     "output_type": "stream",
     "text": [
      "Iteration 0: Cost = 1.5427137296536395\n",
      "Iteration 10: Cost = 0.4055899449885261\n",
      "Iteration 20: Cost = 0.12820367641883942\n",
      "Iteration 30: Cost = 0.06040293217462261\n",
      "Iteration 40: Cost = 0.04382901547954687\n",
      "Iteration 50: Cost = 0.03977749736664156\n",
      "Iteration 60: Cost = 0.038787097644943355\n",
      "Iteration 70: Cost = 0.03854499293476682\n",
      "Iteration 80: Cost = 0.03848581007209732\n",
      "Iteration 90: Cost = 0.03847134273178296\n",
      "Final w: 1.9890302120562438\n",
      "Final b: 0.9697502088675694\n"
     ]
    }
   ],
   "source": [
    "import numpy as np\n",
    "# Generate some fake data for linear regression\n",
    "N = 100\n",
    "x = np.linspace(-1, 1, N)\n",
    "y = 2 * x + 1 + np.random.randn(N) * 0.2\n",
    "# Initialize weight and bias with random values\n",
    "w = np.random.randn()\n",
    "b = np.random.randn()\n",
    "# Set the learning rate\n",
    "alpha = 0.1\n",
    "# Set the number of iterations\n",
    "num_iterations = 100\n",
    "# Iterate through the gradient descent algorithm\n",
    "for i in range(num_iterations):\n",
    "    # Calculate the predicted values\n",
    "    y_pred = w * x + b\n",
    "    # Calculate the cost function\n",
    "    cost = 1/N * np.sum((y_pred - y) ** 2)\n",
    "    # Calculate the gradients\n",
    "    dw = 2/N * np.sum((y_pred - y) * x)\n",
    "    db = 2/N * np.sum(y_pred - y)\n",
    "    # Update the weights and biases\n",
    "    w = w - alpha * dw\n",
    "    b = b - alpha * db\n",
    "    # Print the cost every 10 iterations\n",
    "    if i % 10 == 0:\n",
    "        print(f'Iteration {i}: Cost = {cost}')\n",
    "# Print the final weights and biases\n",
    "print(f'Final w: {w}')\n",
    "print(f'Final b: {b}')"
   ]
  },
  {
   "cell_type": "markdown",
   "id": "5c5d6332",
   "metadata": {},
   "source": [
    "<h3 align=\"center\">Define Loss Function: Reformulation</h3>\n",
    "\n",
    "   $$L_{MSE}(\\theta_0,\\theta_1) = {1/n} \\sum_{i=1}^n(y_i-\\theta_0-\\theta^Tx_i)^2 = \\frac{1}{2}e^Te$$\n",
    "   \n",
    "**Explanation:**\n",
    "The transpose of a vector `v` is denoted by `v^T` and is defined as the `reflection` of `v` over the main diagonal of a matrix. For example, if `v` is a column vector:\n",
    "\n",
    "`\n",
    "v = [v1]\n",
    "    [v2]\n",
    "    [v3]\n",
    "`\n",
    "\n",
    "then the transpose of `v` is:\n",
    "\n",
    "`v^T = [v1 v2 v3]`\n",
    "\n",
    "The `dot product` of two vectors `u` and `v` is denoted by `u.v` and is defined as the sum of the products of the corresponding elements of the two vectors. For example, if u and v are column vectors:\n",
    "\n",
    "`\n",
    "u = [u1]\n",
    "    [u2]\n",
    "    [u3]\n",
    "v = [v1]\n",
    "    [v2]\n",
    "    [v3]`\n",
    "    \n",
    "then the dot product of u and v is:\n",
    "\n",
    "`u.v = u1*v1 + u2*v2 + u3*v3`\n",
    "\n",
    "Now, to prove that `e^T.e = n`, where `e` is an n-dimensional column vector with all elements equal to `1` and `n` is the number of elements in `e`, we can use the definition of the dot product:\n",
    "\n",
    "`e^T.e = e1*e1 + e2*e2 + ... + en*en\n",
    "       = 1*1 + 1*1 + ... + 1*1\n",
    "       = n`\n",
    "       \n",
    "Therefore, `e^T.e = n.`\n",
    "\n",
    "Note that this result holds for any n-dimensional column vector e with all elements equal to 1.\n",
    "\n",
    "\n",
    "   $$L_{MSE}(\\theta_0,\\theta_1) = {1/n} \\sum_{i=1}^n(y_i-\\theta_0-\\theta^Tx_i)^2 = \\frac{1}{2}e^Te$$\n",
    "  \n",
    "Here $e=[e_1,e_2,....,e_n]^T$ (column vector) where\n",
    "$$e_i = y_i-\\theta_0-\\theta^T,\\;\\;\\;\\; i=1,2,3,4,.....,n$$\n",
    "\n",
    "<img src=\"images/p26.png\" align=\"left\">\n",
    "<img src=\"images/p24.png\" align=\"right\">\n"
   ]
  },
  {
   "cell_type": "markdown",
   "id": "95951fa1",
   "metadata": {},
   "source": [
    "**Consequently:** \n",
    "\n",
    "\n",
    "Recall that we may fit a linear model by choosing $\\theta$ that minimizes the squared error:\n",
    "$$J(\\theta_0,\\theta)=\\frac{1}{2}\\sum_{i=1}^n(y_i-\\theta_0-\\theta^\\top x_i)^2 = \\frac{1}{2}e^Te$$\n",
    "We can write this sum in matrix-vector form as:\n",
    "$$J(\\theta_0,\\theta)=J(w) = \\frac{1}{2} (y-Xw)^\\top(y-Xw) = \\frac{1}{2} \\|y-Xw\\|^2,$$\n",
    "where $X$ is the design matrix and $\\|\\cdot\\|$ denotes the Euclidean norm."
   ]
  },
  {
   "cell_type": "markdown",
   "id": "94a1e7e6",
   "metadata": {},
   "source": [
    "### Solve Optimization Problem: (Analytical Solution employing Calculus)\n",
    "- very beautiful, elegant function we have here!\n",
    "\n",
    "We first write the loss function as\n",
    "<img src=\"images/p27.png\" align=\"center\">\n",
    "\n",
    "-  To further solve this, let us quickly talk about the concept of a gradient of a function.\n",
    "\n",
    "#### Gradient of a function: Overview\n",
    "- For a function $f(x)$ that maps $x \\; \\epsilon \\; R^d$ to $R$, we define a gradient (directional derivative) with respect to $x$ as.\n",
    "<img src=\"images/p28.png\" align=\"center\">\n",
    "\n",
    "- Derivative quantifies the rate of change along different directions.\n",
    "\n",
    "**Question:** Calculate $\\nabla$ of following functions.\n",
    "- $f(x) = a^Tx = x^Ta$\n",
    "- $f(x) = x^Tx$\n",
    "- $f(x) = x^TPx$\n",
    "\n",
    "\n",
    "\n",
    "**We have a loss function:**\n",
    "$$L(w) = \\frac{1}{2}(y^Ty - 2w^TX^Ty + w^TX^TXw)$$\n",
    "\n",
    "- Take gradient with respect to $w$ as\n",
    "\\begin{align*}\n",
    "\\nabla_w J(w) \n",
    "& = \\nabla_w \\frac{1}{2} (X w - y)^\\top  (X w - y) \\\\\n",
    "& = \\frac{1}{2} \\nabla_w \\left( (Xw)^\\top  (X w) - (X w)^\\top y - y^\\top (X w) + y^\\top y \\right) \\\\\n",
    "& = \\frac{1}{2} \\nabla_w \\left( w^\\top  (X^\\top X) w - 2(X w)^\\top y \\right) \\\\\n",
    "& = \\frac{1}{2} \\left( 2(X^\\top X) w - 2X^\\top y \\right) \\\\\n",
    "& = (X^\\top X) w - X^\\top y\n",
    "\\end{align*}\n",
    "\n",
    "We used the facts that $a^\\top b = b^\\top a$ (line 3), that $\\nabla_x b^\\top x = b$ (line 4), and that $\\nabla_x x^\\top A x = 2 A x$ for a symmetric matrix $A$ (line 4).\n",
    "\n",
    "> We know from calculus that a function is minimized when its derivative is set to zero. In our case, our objective function is a (multivariate) quadratic; hence it only has one minimum, which is the global minimum.\n",
    "\n",
    "- Setting the above derivative to zero, we obtain the *normal equations*:\n",
    "$$ (X^\\top X) w = X^\\top y.$$\n",
    "\n",
    "Hence, the value $w^*$ that minimizes this objective is given by:\n",
    "$$ w^* = (X^\\top X)^{-1} X^\\top y.$$\n",
    "\n",
    "\n",
    "- We have determined the weights for which LSE,MSE,RMSE or the norm of the residual is minimized.\n",
    "- This solution is referred to as least-squared solution as it minimizes the squared error."
   ]
  },
  {
   "cell_type": "markdown",
   "id": "7e747c30",
   "metadata": {},
   "source": [
    "<h2 align=\"center\">Gradient Descent Algorihtm</h2>\n",
    "\n",
    "**Goal:**   Minimize cost function $J(\\theta_0, \\theta_1)$.\n",
    "\n",
    "**Definition:** Used all over machine learning for minimization.\n",
    "\n",
    "**Problem:**\n",
    "- We have $J(\\theta_0, \\theta_1)$.\n",
    "- We want to get $min\\;J(\\theta_0, \\theta_1)$.\n",
    "\n",
    "**Solution**:\n",
    "- Start with some $J(\\theta_0,\\theta_1)$. For example $J(0,0)$.\n",
    "\n",
    "\n",
    "#### How does it work?\n",
    "- Start with initial guesse\n",
    "    - Start at 0,0 (or any other value)\n",
    "    - Keeping changing $\\theta_0$ and $\\theta_1$ a little bit to try and reduce $J(\\theta_0,\\theta_1)$.\n",
    "- Each time you change the parameters, you select the gradient which reduces J(θ0,θ1) the most possible \n",
    "- Repeat\n",
    "- Do so until you converge to a local minimum\n",
    "- Has an interesting property\n",
    "    - Where you start can determine which minimum you end up\n",
    "    - Here we can see one initialization point led to one local minimum\n",
    "    - The other led to a different one\n",
    "\n",
    "<img src=\"images/p29.png\" align=\"center\">"
   ]
  },
  {
   "cell_type": "markdown",
   "id": "5993f004",
   "metadata": {},
   "source": [
    "<h3 align=\"center\">A simplified version of gradient descent</h3>\n",
    "\n",
    "Assume again that we set $\\theta_0 = 0$ and our hypothesis and cost function practically have only one coefficient, $\\theta_1$.\n",
    "   $$h_\\theta(x) = \\theta_1x$$\n",
    "\n",
    "repeat until convergence{"
   ]
  },
  {
   "cell_type": "code",
   "execution_count": 53,
   "id": "97a964c7",
   "metadata": {},
   "outputs": [
    {
     "name": "stdout",
     "output_type": "stream",
     "text": [
      "The minimum value of the function is 8.3156 at x = 3.8375\n"
     ]
    }
   ],
   "source": [
    "import numpy as np\n",
    "\n",
    "# Define the function to be minimized\n",
    "def f(x):\n",
    "    return x**2 + 10*np.sin(x)\n",
    "\n",
    "# Define the gradient of the function\n",
    "def grad_f(x):\n",
    "    return 2*x + 10*np.cos(x)\n",
    "\n",
    "# Choose the step size (learning rate)\n",
    "alpha = 0.1\n",
    "\n",
    "# Set the initial value of x\n",
    "x = 5\n",
    "\n",
    "# Set the tolerance for the convergence criterion\n",
    "tol = 1e-6\n",
    "\n",
    "# Initialize a list to store the values of x at each iteration\n",
    "x_values = [x]\n",
    "\n",
    "# Iterate until convergence\n",
    "while True:\n",
    "    # Compute the gradient at the current value of x\n",
    "    grad = grad_f(x)\n",
    "    \n",
    "    # Update the value of x using gradient descent\n",
    "    x = x - alpha * grad\n",
    "    \n",
    "    # Store the new value of x\n",
    "    x_values.append(x)\n",
    "    \n",
    "    # Check for convergence\n",
    "    if np.abs(grad) < tol:\n",
    "        break\n",
    "\n",
    "# Print the minimum value found\n",
    "print(f\"The minimum value of the function is {f(x):.4f} at x = {x:.4f}\")\n"
   ]
  },
  {
   "cell_type": "markdown",
   "id": "5298b7e5",
   "metadata": {},
   "source": [
    "### Batch gradient descent\n",
    "Batch gradient descent is an algorithm used to minimize a loss function in a model with multiple parameters, such as linear regression. In linear regression, we aim to find the values of the weights that minimize the mean squared error (MSE) between the predicted output and the true output.\n",
    "\n",
    "The MSE for a single sample is given by:\n",
    "\n",
    "$$ MSE(\\mathbf{w}) = \\frac{1}{2}(\\mathbf{x}^T \\mathbf{w} - y)^2 $$\n",
    "\n",
    "Where $\\mathbf{w}$ is the vector of weights, $\\mathbf{x}$ is the input feature vector, and $y$ is the true output.\n",
    "\n",
    "To find the weights that minimize the MSE for a dataset with $n$ samples, we can take the mean of the MSE for each sample:\n",
    "\n",
    "$$ J(\\mathbf{w}) = \\frac{1}{n} \\sum_{i=1}^n MSE(\\mathbf{w}) = \\frac{1}{n} \\sum_{i=1}^n \\frac{1}{2}(\\mathbf{x}_i^T \\mathbf{w} - y_i)^2 $$\n",
    "\n",
    "Where $J(\\mathbf{w})$ is the mean squared error loss function.\n",
    "\n",
    "To minimize this loss function, we can use gradient descent. In gradient descent, we iteratively update the weights in the opposite direction of the gradient of the loss function. The gradient of the loss function with respect to the weights is given by:\n",
    "\n",
    "$$ \\nabla_{\\mathbf{w}} J(\\mathbf{w}) = \\frac{1}{n} \\sum_{i=1}^n \\nabla_{\\mathbf{w}} MSE(\\mathbf{w}) = \\frac{1}{n} \\sum_{i=1}^n \\nabla_{\\mathbf{w}} \\frac{1}{2}(\\mathbf{x}_i^T \\mathbf{w} - y_i)^2 $$\n",
    "\n",
    "Using the chain rule, we can expand the gradient as:\n",
    "$$ \\nabla_{\\mathbf{w}} J(\\mathbf{w}) = \\frac{1}{n} \\sum_{i=1}^n (\\mathbf{x}_i^T \\mathbf{w} - y_i) \\mathbf{x}_i $$\n",
    "\n",
    "We can then update the weights in the opposite direction of the gradient using the learning rate $\\eta$:\n",
    "\n",
    "$$ \\mathbf{w} = \\mathbf{w} - \\eta \\nabla_{\\mathbf{w}} J(\\mathbf{w}) = \\mathbf{w} - \\eta \\frac{1}{n} \\sum_{i=1}^n (\\mathbf{x}_i^T \\mathbf{w} - y_i) \\mathbf{x}_i $$\n",
    "\n",
    "This process is repeated until the loss function reaches a minimum or the change in the weights is small enough."
   ]
  },
  {
   "cell_type": "markdown",
   "id": "acdd18cb",
   "metadata": {},
   "source": [
    "### Batch gradient descent algorithm pseudocode\n",
    "Here is a pseudocode for the batch gradient descent algorithm for minimizing a loss function $J(\\mathbf{w})$ with respect to the parameters $\\mathbf{w}$:\n",
    "\n"
   ]
  },
  {
   "cell_type": "code",
   "execution_count": null,
   "id": "000b974d",
   "metadata": {},
   "outputs": [],
   "source": [
    "input: learning rate eta, number of iterations n_iter\n",
    "\n",
    "# Initialize the weights w\n",
    "w = random initialization\n",
    "\n",
    "for iteration in range(n_iter):\n",
    "    # Calculate the gradient of the loss function with respect to the weights\n",
    "    gradient = gradient(J, w)\n",
    "    \n",
    "    # Update the weights in the opposite direction of the gradient\n",
    "    w = w - eta * gradient\n",
    "\n",
    "output: w"
   ]
  },
  {
   "cell_type": "markdown",
   "id": "4bdfdd20",
   "metadata": {},
   "source": [
    "This pseudocode assumes that the function gradient(J, w) calculates the gradient of the loss function $J$ with respect to the weights $\\mathbf{w}$, and returns it as a vector. The batch gradient descent algorithm iteratively updates the weights using the entire dataset, until the loss function reaches a minimum or the change in the weights is small enough."
   ]
  },
  {
   "cell_type": "code",
   "execution_count": null,
   "id": "c68a0118",
   "metadata": {},
   "outputs": [],
   "source": []
  },
  {
   "cell_type": "markdown",
   "id": "f8631fd0",
   "metadata": {},
   "source": [
    "### Stochastic gradient descent\n",
    "Stochastic gradient descent (SGD) is an optimization algorithm used to minimize a loss function in a model with multiple parameters, such as linear regression. Like batch gradient descent, SGD is an iterative algorithm that updates the model's parameters in the opposite direction of the gradient of the loss function. However, instead of calculating the gradient using the entire dataset, as in batch gradient descent, SGD calculates the gradient using a single sample at a time.\n",
    "\n",
    "In linear regression, we aim to find the values of the weights that minimize the mean squared error (MSE) between the predicted output and the true output. The MSE for a single sample is given by:\n",
    "\n",
    "$$ MSE(\\mathbf{w}) = \\frac{1}{2}(\\mathbf{x}^T \\mathbf{w} - y)^2 $$\n",
    "\n",
    "Where $\\mathbf{w}$ is the vector of weights, $\\mathbf{x}$ is the input feature vector, and $y$ is the true output.\n",
    "\n",
    "To minimize the MSE for a dataset with $n$ samples, we can use SGD to iteratively update the weights. In each iteration, we randomly select a sample from the dataset and calculate the gradient of the MSE with respect to the weights using only that sample:\n",
    "\n",
    "$$ \\nabla_{\\mathbf{w}} MSE(\\mathbf{w}) = (\\mathbf{x}^T \\mathbf{w} - y) \\mathbf{x} $$\n",
    "\n",
    "We can then update the weights in the opposite direction of the gradient using the learning rate $\\eta$:\n",
    "\n",
    "$$ \\mathbf{w} = \\mathbf{w} - \\eta \\nabla_{\\mathbf{w}} MSE(\\mathbf{w}) = \\mathbf{w} - \\eta (\\mathbf{x}^T \\mathbf{w} - y) \\mathbf{x} $$\n",
    "\n",
    "This process is repeated for a number of iterations, using a different sample in each iteration.\n",
    "One advantage of SGD over batch gradient descent is that it can make faster progress towards a minimum of the loss function, since it processes samples one at a time and updates the weights more frequently. However, the updates made by SGD can also be more erratic and have higher variance, which can make the optimization process more noisy and may lead to suboptimal solutions."
   ]
  },
  {
   "cell_type": "markdown",
   "id": "357bf7fc",
   "metadata": {},
   "source": [
    "### Stochastic gradient descent  algorithm pseudocode\n",
    "\n",
    "Here is a pseudocode for the stochastic gradient descent (SGD) algorithm for minimizing a loss function $J(\\mathbf{w})$ with respect to the parameters $\\mathbf{w}$:"
   ]
  },
  {
   "cell_type": "code",
   "execution_count": null,
   "id": "c76e305d",
   "metadata": {},
   "outputs": [],
   "source": [
    "input: learning rate eta, number of iterations n_iter\n",
    "\n",
    "# Initialize the weights w\n",
    "w = random initialization\n",
    "\n",
    "for iteration in range(n_iter):\n",
    "    # Shuffle the data at the beginning of the epoch\n",
    "    shuffled_indices = shuffle(data)\n",
    "    X_shuffled = X[shuffled_indices]\n",
    "    y_shuffled = y[shuffled_indices]\n",
    "    \n",
    "    for i in range(n):\n",
    "        # Select a sample from the data\n",
    "        x_i = X_shuffled[i]\n",
    "        y_i = y_shuffled[i]\n",
    "        \n",
    "        # Calculate the gradient of the loss function with respect to the weights\n",
    "        gradient = gradient(J, w, x_i, y_i)\n",
    "        \n",
    "        # Update the weights in the opposite direction of the gradient\n",
    "        w = w - eta * gradient\n",
    "output: w\n"
   ]
  },
  {
   "cell_type": "markdown",
   "id": "8bf4d6bd",
   "metadata": {},
   "source": [
    "This pseudocode assumes that the function gradient(J, w, x, y) calculates the gradient of the loss function $J$ with respect to the weights $\\mathbf{w}$ using the sample (x, y), and returns it as a vector. It also assumes that the function shuffle(data) shuffles the data and returns a list of shuffled indices. The SGD algorithm iteratively updates the weights using a single sample at a time, until the loss function reaches a minimum or the change in the weights is small enough."
   ]
  },
  {
   "cell_type": "code",
   "execution_count": null,
   "id": "9ab3cde3",
   "metadata": {},
   "outputs": [],
   "source": []
  },
  {
   "cell_type": "code",
   "execution_count": 223,
   "id": "3bacfc1a",
   "metadata": {},
   "outputs": [
    {
     "name": "stdout",
     "output_type": "stream",
     "text": [
      "[[4.1699862 ]\n",
      " [2.96811741]]\n"
     ]
    }
   ],
   "source": [
    "import numpy as np\n",
    "\n",
    "# Generate some synthetic data\n",
    "np.random.seed(42)\n",
    "X = 2 * np.random.rand(100, 1)\n",
    "y = 4 + 3 * X + np.random.randn(100, 1)\n",
    "\n",
    "# Add a column of ones to X to represent the bias term\n",
    "X_b = np.c_[np.ones((100, 1)), X]\n",
    "\n",
    "# Initialize the weights randomly\n",
    "w = np.random.randn(2, 1)\n",
    "\n",
    "# Set the learning rate and the number of iterations\n",
    "eta = 0.1\n",
    "n_iter = 50\n",
    "\n",
    "\n",
    "# Perform SGD for n_iter iterations\n",
    "for iteration in range(n_iter):\n",
    "    for i in range(len(X_b)):\n",
    "        # Select a sample from the data\n",
    "        x_i = X_b[i:i+1]\n",
    "        y_i = y[i:i+1]\n",
    "        \n",
    "        # Calculate the error\n",
    "        y_pred = x_i.dot(w)\n",
    "        error = y_i - y_pred\n",
    "        \n",
    "        # Calculate the gradient of the error with respect to the weights\n",
    "        gradient = -2 * x_i.T.dot(error)\n",
    "        \n",
    "        # Update the weights\n",
    "        w = w - eta * gradient\n",
    "print(w)\n"
   ]
  },
  {
   "cell_type": "code",
   "execution_count": null,
   "id": "efbf6e76",
   "metadata": {},
   "outputs": [],
   "source": []
  },
  {
   "cell_type": "markdown",
   "id": "25216510",
   "metadata": {},
   "source": [
    "Here's a brief explanation of what's happening in the code:\n",
    "\n",
    "- We generate some synthetic data with a linear relationship and add some noise.\n",
    "- We add a column of ones to the feature matrix X to represent the bias term.\n",
    "- We initialize the weights randomly.\n",
    "- We set the learning rate `eta` and the number of iterations `n_iter`.\n",
    "- We perform SGD for n_iter iterations. In each iteration, we:\n",
    "    - Select a sample from the data.\n",
    "    - Calculate the error between the predicted value and the true value for the sample.\n",
    "    - Calculate the gradient of the error with respect to the weights using the sample.\n",
    "    - Update the weights using the gradient and the learning rate.\n",
    "- Finally, we print the weights, which should be close to the true weights of the synthetic data we generated."
   ]
  },
  {
   "cell_type": "code",
   "execution_count": null,
   "id": "fc16dbc4",
   "metadata": {},
   "outputs": [],
   "source": []
  },
  {
   "cell_type": "markdown",
   "id": "81f2449e",
   "metadata": {},
   "source": [
    "### Mini-batch gradient descent\n",
    "Mini-batch gradient descent is an optimization algorithm used to minimize a loss function in a model with multiple parameters, such as linear regression. Like batch gradient descent, mini-batch gradient descent calculates the gradient of the loss function using the entire dataset. However, instead of updating the model's parameters using the entire dataset, as in batch gradient descent, mini-batch gradient descent divides the dataset into smaller \"mini-batches\" and updates the model's parameters using a mini-batch of samples at a time.\n",
    "\n",
    "In linear regression, we aim to find the values of the weights that minimize the mean squared error (MSE) between the predicted output and the true output. The MSE for a single sample is given by:\n",
    "\n",
    "$$ MSE(\\mathbf{w}) = \\frac{1}{2}(\\mathbf{x}^T \\mathbf{w} - y)^2 $$\n",
    "\n",
    "Where $\\mathbf{w}$ is the vector of weights, $\\mathbf{x}$ is the input feature vector, and $y$ is the true output.\n",
    "\n",
    "To minimize the MSE for a dataset with $n$ samples, we can use mini-batch gradient descent to iteratively update the weights. In each iteration, we divide the dataset into mini-batches of size $m$, and calculate the gradient of the MSE with respect to the weights using the samples in a single mini-batch:\n",
    "$$ \\nabla_{\\mathbf{w}} MSE(\\mathbf{w}) = \\frac{1}{m} \\sum_{i=1}^m (\\mathbf{x}_i^T \\mathbf{w} - y_i) \\mathbf{x}_i $$\n",
    "\n",
    "Where the sum is over the $m$ samples in the mini-batch.\n",
    "\n",
    "We can then update the weights in the opposite direction of the gradient using the learning rate $\\eta$:\n",
    "\n",
    "$$ \\mathbf{w} = \\mathbf{w} - \\eta \\nabla_{\\mathbf{w}} MSE(\\mathbf{w}) = \\mathbf{w} - \\eta \\frac{1}{m} \\sum_{i=1}^m (\\mathbf{x}_i^T \\mathbf{w} - y_i) \\mathbf{x}_i $$\n",
    "\n",
    "This process is repeated for a number of iterations, using a different mini-batch of samples in each iteration.\n",
    "\n",
    "One advantage of mini-batch gradient descent over batch gradient descent is that it can make faster progress towards a minimum of the loss function, since it processes samples in smaller batches and updates the weights more frequently. However, it still requires the storage and processing of the entire dataset, as opposed to stochastic gradient descent which only requires the storage and processing of a single sample at a time."
   ]
  },
  {
   "cell_type": "markdown",
   "id": "c5b81947",
   "metadata": {},
   "source": [
    "### Mini-Batch gradient descent algorithm pseudocode\n",
    "Here is a pseudocode for the mini-batch gradient descent algorithm for minimizing a loss function $J(\\mathbf{w})$ with respect to the parameters $\\mathbf{w}$:"
   ]
  },
  {
   "cell_type": "code",
   "execution_count": null,
   "id": "944ba601",
   "metadata": {},
   "outputs": [],
   "source": [
    "input: learning rate eta, number of iterations n_iter, mini-batch size m\n",
    "\n",
    "# Initialize the weights w\n",
    "w = random initialization\n",
    "\n",
    "for iteration in range(n_iter):\n",
    "    # Shuffle the data at the beginning of the epoch\n",
    "    shuffled_indices = shuffle(data)\n",
    "    X_shuffled = X[shuffled_indices]\n",
    "    y_shuffled = y[shuffled_indices]\n",
    "    \n",
    "    # Split the data into mini-batches\n",
    "    mini_batches = [(X_shuffled[i:i+m], y_shuffled[i:i+m]) for i in range(0, n, m)]\n",
    "    \n",
    "    # Update the weights for each mini-batch\n",
    "    for mini_batch in mini_batches:\n",
    "        X_mini, y_mini = mini_batch\n",
    "        # Calculate the gradient of the loss function with respect to the weights\n",
    "        gradient = gradient(J, w, X_mini, y_mini)\n",
    "        \n",
    "        # Update the weights in the opposite direction of the gradient\n",
    "        w = w - eta * gradient\n",
    "output: w"
   ]
  },
  {
   "cell_type": "markdown",
   "id": "1ad34316",
   "metadata": {},
   "source": [
    "This pseudocode assumes that the function gradient(J, w, X, y) calculates the gradient of the loss function $J$ with respect to the weights $\\mathbf{w}$ using the samples in the mini-batch (X, y), and returns it as a vector. It also assumes that the function shuffle(data) shuffles the data and returns a list of shuffled indices. The mini-batch gradient descent algorithm iteratively updates the weights using small batches of samples from the dataset, until the loss function reaches a minimum or the change in the weights is small enough."
   ]
  },
  {
   "cell_type": "markdown",
   "id": "ab50b424",
   "metadata": {},
   "source": [
    "### Example"
   ]
  },
  {
   "cell_type": "code",
   "execution_count": null,
   "id": "dbf5b425",
   "metadata": {},
   "outputs": [],
   "source": [
    "import numpy as np\n",
    "# Generate some synthetic data\n",
    "np.random.seed(42)\n",
    "X = 2 * np.random.rand(100, 1)\n",
    "y = 4 + 3 * X + np.random.randn(100, 1)\n",
    "\n",
    "# Add a column of ones to X to represent the bias term\n",
    "X_b = np.c_[np.ones((100, 1)), X]\n",
    "\n",
    "# Initialize the weights randomly\n",
    "w = np.random.randn(2, 1)\n",
    "\n",
    "# Set the learning rate and the number of samples per mini-batch\n",
    "eta = 0.1\n",
    "batch_size = 20\n",
    "\n",
    "# Perform mini-batch gradient descent for 50 iterations\n",
    "for iteration in range(50):\n",
    "    # Shuffle the data at the beginning of each epoch\n",
    "    shuffled_indices = np.random.permutation(len(X_b))\n",
    "    X_b_shuffled = X_b[shuffled_indices]\n",
    "    y_shuffled = y[shuffled_indices]\n",
    "    \n",
    "    # Split the data into mini-batches\n",
    "    mini_batches = [(X_b_shuffled[i:i+batch_size], y_shuffled[i:i+batch_size])\n",
    "                    for i in range(0, len(X_b_shuffled), batch_size)]\n",
    "    \n",
    "    # Update the weights for each mini-batch\n",
    "    for mini_batch in mini_batches:\n",
    "        X_mini, y_mini = mini_batch\n",
    "        # Calculate the error\n",
    "        y_pred = X_mini.dot(w)\n",
    "        error = y_mini - y_pred\n",
    "        \n",
    "        # Calculate the gradient of the error with respect to the weights\n",
    "        gradient = -2 * X_mini.T.dot(error) / len(X_mini)\n",
    "        \n",
    "        # Update the weights\n",
    "        w = w - eta * gradient\n",
    "print(w)\n"
   ]
  },
  {
   "cell_type": "markdown",
   "id": "399d323a",
   "metadata": {},
   "source": [
    "Here's a brief explanation of what's happening in the code:\n",
    "\n",
    "- We generate some synthetic data with a linear relationship and add some noise.\n",
    "- We add a column of ones to the feature matrix X to represent the bias term.\n",
    "- We initialize the weights randomly.\n",
    "- We set the learning rate eta and the number of samples per mini-batch batch_size.\n",
    "- We perform mini-batch gradient descent for 50 iterations. In each iteration, we:\n",
    "    - Shuffle the data at the beginning of the epoch.\n",
    "    - Split the data into mini-batches.\n",
    "    - For each mini-batch, we:\n",
    "        - Calculate the error between the predicted values and the true values.\n",
    "        - Calculate the gradient of the error with respect to the weights.\n",
    "        - Update the weights using the gradient and the learning rate.\n",
    "- Finally, we print the weights, which should be close to the true weights of the synthetic data we generated."
   ]
  },
  {
   "cell_type": "markdown",
   "id": "33b394f3",
   "metadata": {},
   "source": [
    "### Two extension to the algorithm\n",
    "#### 1. Normal equation for numeric solution\n",
    "To solve the minimization problem we can solve it $[ min J(\\theta_0, \\theta_1) ]$ exactly using a numeric method which avoids the iterative approach used by gradient descent. Normal equations method has advantages and disadvantages.\n",
    "\n",
    "**Advantage:**\n",
    "- No longer an alpha term\n",
    "- Can be much faster for some problems\n",
    "\n",
    "**Disadvantage:**\n",
    "- Much more complicated\n",
    "\n",
    "We discuss the normal equation in the linear regression with multiple features section\n",
    "#### 2. We can learn with a larger number of features\n",
    "- There are many parameters which contribute towards a price e.g. with houses (Size, Age, Number bedrooms, Number floors).\n",
    "- With multiple features becomes hard to plot can't really plot in more than 3 dimensions. Notation becomes more complicated too\n",
    "    - Best way to get around with this is the notation of linear algebra\n",
    "    - Gives notation and set of things you can do with matrices and vectors e.g. Matrix\n",
    "- We see here this matrix shows us (Size, Number of bedrooms, Number floors, Age of home). All in one variable Block of numbers, take all data organized into one big block. Vector shown as y, shows us the prices.\n",
    "\n",
    "<img src=\"images/p30.png\" align=\"left\">\n",
    "<img src=\"images/p31.png\" align=\"center\">\n",
    "\n"
   ]
  },
  {
   "cell_type": "markdown",
   "id": "3d28872c",
   "metadata": {},
   "source": [
    "<h2>Linear regression with multiple features(Multivariate)</h2>\n",
    "<img src=\"images/p32.png\">\n",
    "\n",
    "**Hypothesis:**\n",
    "$$h_\\theta (X) = \\theta_0 + \\theta_1 x_1 + \\theta_2x_2 + \\theta_3x_3 + ⋯ + \\theta_nx_n$$\n",
    "\n",
    "**Notation:**\n",
    "\n",
    "- **m** = Number of training samples\n",
    "- **n** = Number of features\n",
    "- **x** = Feature\n",
    "- **y** = Label\n",
    "- $(x_{j}^{(i)}, y_{j}^{(i)})$: the jth feature of the ith sample in the dataset\n",
    "\n",
    "<h4 align=\"center\">Hypothesis</h4>\n",
    "\n",
    "**Previously:**\n",
    "$$h_\\theta(x) = \\theta_0 + \\theta_1x$$\n",
    "\n",
    "**Now:**\n",
    "$$h_\\theta (x) = \\theta_0 + \\theta_1 x_1 + \\theta_2x_2 + \\theta_3x_3 + ⋯ + \\theta_nx_n$$\n",
    "\n",
    "where, $X = [x_1, x_2 ... x_n]$ is the n-dimensional feature vector, and $\\theta = [\\theta_0, \\theta_1 ... \\theta_n]$ is an (n+1)-dimensional vector of weights.\n",
    "\n",
    "To make this more uniform, assume $x_0 = 1$ to get:\n",
    "$$h_\\theta (X) = \\theta_0x_0 + \\theta_1 x_1 + \\theta_2x_2 + \\theta_3x_3 + ⋯ + \\theta_nx_n$$\n",
    "\n",
    "where, $X = [x_0,x_1, x_2 ... x_n]$ is the (n+1)-dimensional feature vector, and $\\theta = [\\theta_0, \\theta_1 ... \\theta_n]$ is an (n+1)-dimensional vector of weights.\n",
    "\n",
    "<h4 align=\"center\">Geometric Interpretation</h4>\n",
    "$$h_\\theta (X) = \\theta_0x_0 + \\theta_1 x_1 + \\theta_2x_2 $$ (a 2-D hyperplane in 3-D)\n",
    "<img src=\"images/p33.gif\" align=\"center\">"
   ]
  },
  {
   "cell_type": "markdown",
   "id": "ea732cc6",
   "metadata": {},
   "source": [
    "<h4 align=\"center\">Vectorizing the notation</h4>\n",
    "\n",
    "$$h_\\theta (x) = \\theta_0x_0 + \\theta_1 x_1 + \\theta_2x_2 + \\theta_3x_3 + ⋯ + \\theta_nx_n$$.\n",
    "\n",
    "Now we can redefine our hypothesis as:\n",
    "\n",
    "$$\\theta= \\begin{bmatrix} \\theta_0 \\\\ \\theta_1 \\\\ .. \\\\ \\theta_n \\end{bmatrix} \\;\\; X = \\begin{bmatrix} x_0 \\\\ x_1 \\\\ .. \\\\ x_n \\end{bmatrix}$$ and where $\\theta \\; \\epsilon \\; R ^ {n+1}$ and $X \\; \\epsilon \\; R ^ {n+1}$ and ,\n",
    "$$h_\\theta(X) = \\theta^TX$$\n",
    "This is represents **Multivariate Linear Regression**."
   ]
  },
  {
   "cell_type": "markdown",
   "id": "6794dd14",
   "metadata": {},
   "source": [
    "<h4 align=\"center\">For m-training instances<h4>\n",
    "\n",
    "$$h_\\theta (X) = \\theta_0x_0 + \\theta_1 x_1 + \\theta_2x_2 + \\theta_3x_3 + ⋯ + \\theta_nx_n$$.\n",
    "\n",
    "<img src=\"images/p33.png\" align=\"center\">\n",
    "\n",
    "$h_\\theta(X) = \\theta^TX = ?$"
   ]
  },
  {
   "cell_type": "markdown",
   "id": "e900a9be",
   "metadata": {},
   "source": [
    "### Example"
   ]
  },
  {
   "cell_type": "code",
   "execution_count": 126,
   "id": "19d21605",
   "metadata": {},
   "outputs": [
    {
     "data": {
      "text/html": [
       "<div>\n",
       "<style scoped>\n",
       "    .dataframe tbody tr th:only-of-type {\n",
       "        vertical-align: middle;\n",
       "    }\n",
       "\n",
       "    .dataframe tbody tr th {\n",
       "        vertical-align: top;\n",
       "    }\n",
       "\n",
       "    .dataframe thead th {\n",
       "        text-align: right;\n",
       "    }\n",
       "</style>\n",
       "<table border=\"1\" class=\"dataframe\">\n",
       "  <thead>\n",
       "    <tr style=\"text-align: right;\">\n",
       "      <th></th>\n",
       "      <th>speed</th>\n",
       "      <th>dist</th>\n",
       "    </tr>\n",
       "  </thead>\n",
       "  <tbody>\n",
       "    <tr>\n",
       "      <th>0</th>\n",
       "      <td>4</td>\n",
       "      <td>2</td>\n",
       "    </tr>\n",
       "    <tr>\n",
       "      <th>1</th>\n",
       "      <td>4</td>\n",
       "      <td>10</td>\n",
       "    </tr>\n",
       "  </tbody>\n",
       "</table>\n",
       "</div>"
      ],
      "text/plain": [
       "   speed  dist\n",
       "0      4     2\n",
       "1      4    10"
      ]
     },
     "execution_count": 126,
     "metadata": {},
     "output_type": "execute_result"
    }
   ],
   "source": [
    "import pandas as pd\n",
    "import matplotlib.pyplot as plt\n",
    "# To b#uild linear regression we will use the classic cars data from cmdlinetips.com‘s github page.\n",
    "data_url = 'https://raw.githubusercontent.com/cmdlinetips/data/master/cars.tsv'\n",
    "cars = pd.read_csv(data_url, sep=\"\\t\")\n",
    "cars.head(2)\n",
    "# cars dataset contains distance needed for cars at different speeds to stop from 1920 cars. "
   ]
  },
  {
   "cell_type": "code",
   "execution_count": 127,
   "id": "3dc74177",
   "metadata": {},
   "outputs": [
    {
     "data": {
      "image/png": "[encoded data removed]",
      "text/plain": [
       "<Figure size 432x288 with 1 Axes>"
      ]
     },
     "metadata": {
      "needs_background": "light"
     },
     "output_type": "display_data"
    }
   ],
   "source": [
    "# First, we visualize the relationship between speed and dist variables using a scatter plot.\n",
    "sns.scatterplot(x=\"dist\", y=\"speed\", data=cars);\n",
    "# We can see a clear linear relationship between the two variables."
   ]
  },
  {
   "cell_type": "markdown",
   "id": "dae91f2d",
   "metadata": {},
   "source": [
    "Here `X` is the predictor variable and `Y` is response variable. Our observed data are pairs of x and y values\n",
    "$$(x_1,y_1),(x_2,y_2),(x_3,y_3).....(x_n, y_n)$$.\n",
    "With linear regression model, we fit our observed data and estimate the parameters of the linear model.\n",
    "$$ y = w_0 + w_1x+ e$$"
   ]
  },
  {
   "cell_type": "code",
   "execution_count": 143,
   "id": "1eaa85b1",
   "metadata": {},
   "outputs": [],
   "source": [
    "# Add a column of ones to X to represent the bias term using np.vstack or np.c_\n",
    "X = cars.dist.values\n",
    "Y = cars.speed.values\n",
    "X_mat = np.vstack((np.ones(len(X)),X)).T\n"
   ]
  },
  {
   "cell_type": "markdown",
   "id": "71c62ce0",
   "metadata": {},
   "source": [
    "Our the goal is to minimize the mean square error of a system of linear equations we can get our parameter estimates in the form of matrix multiplications.\n",
    "$$ \\mathbf{w} \\;\\;or\\; \\beta^\\hat \\;= (\\mathbf{X}^T \\mathbf{X})^{-1} \\mathbf{X}^T \\mathbf{y} $$\n"
   ]
  },
  {
   "cell_type": "code",
   "execution_count": 144,
   "id": "9f1cc885",
   "metadata": {},
   "outputs": [
    {
     "data": {
      "text/plain": [
       "array([8.28390564, 0.16556757])"
      ]
     },
     "execution_count": 144,
     "metadata": {},
     "output_type": "execute_result"
    }
   ],
   "source": [
    "beta_hat = np.linalg.inv(X_mat.T.dot(X_mat)).dot(X_mat.T).dot(Y)\n",
    "beta_hat"
   ]
  },
  {
   "cell_type": "markdown",
   "id": "e6745eee",
   "metadata": {},
   "source": [
    "It is vector containing y-axis intercept and slope of the linear regression model. Let us use the parameters to estimate the values of Y using X values. "
   ]
  },
  {
   "cell_type": "code",
   "execution_count": 224,
   "id": "9e4a78e0",
   "metadata": {
    "scrolled": true
   },
   "outputs": [
    {
     "data": {
      "text/plain": [
       "array([ 8.61504079,  9.93958139,  8.94617594, 11.92639228, 10.93298684,\n",
       "        9.93958139, 11.26412199, 12.58866258, 13.91320318, 11.09855441,\n",
       "       12.91979773, 10.60185169, 11.59525713, 12.25752743, 12.91979773,\n",
       "       12.58866258, 13.91320318, 13.91320318, 15.90001408, 12.58866258,\n",
       "       14.24433833, 18.21796012, 21.52931161, 11.59525713, 12.58866258,\n",
       "       17.22455467, 13.58206803, 14.90660863, 13.58206803, 14.90660863,\n",
       "       16.56228437, 15.23774378, 17.55568982, 20.86704131, 22.19158191,\n",
       "       14.24433833, 15.90001408, 19.54250072, 13.58206803, 16.23114922,\n",
       "       16.89341952, 17.55568982, 18.88023042, 19.21136557, 17.22455467,\n",
       "       19.87363587, 23.51612251, 23.68169008, 28.1520146 , 22.35714949])"
      ]
     },
     "execution_count": 224,
     "metadata": {},
     "output_type": "execute_result"
    }
   ],
   "source": [
    "# predict using coefficients\n",
    "y_pred = X_mat.dot(beta_hat)\n",
    "y_pred"
   ]
  },
  {
   "cell_type": "code",
   "execution_count": 146,
   "id": "3b04bd12",
   "metadata": {},
   "outputs": [
    {
     "data": {
      "image/png": "[encoded data removed]",
      "text/plain": [
       "<Figure size 432x288 with 1 Axes>"
      ]
     },
     "metadata": {
      "needs_background": "light"
     },
     "output_type": "display_data"
    }
   ],
   "source": [
    "# plot data and predictions\n",
    "plt.scatter(X, Y)\n",
    "plt.plot(X, y_pred, color='red');"
   ]
  },
  {
   "cell_type": "code",
   "execution_count": null,
   "id": "ae297a02",
   "metadata": {},
   "outputs": [],
   "source": []
  },
  {
   "cell_type": "markdown",
   "id": "4b878b5b",
   "metadata": {},
   "source": [
    "<h4 align=\"center\">Gradient descent for multiple variables</h4>\n",
    "\n",
    "Fitting parameters for the hypothesis with gradient descent \n",
    "- Parameters are $\\theta_0 \\;\\; to \\;\\; \\theta_n$.\n",
    "- Instead of thinking about this as n separate values, think about the parameters as a single vector (θ). Where θ is n+1 dimensional \n",
    "\n",
    "**Hypothesis:**\n",
    "$$h_\\theta (x)= h_\\theta(X) = \\theta^TX = \\theta_0x_0 + \\theta_1 x_1 + \\theta_2x_2 + \\theta_3x_3 + ⋯ + \\theta_nx_n$$.\n",
    "\n",
    "**Parameter vector:** \n",
    "$$\\theta = \\theta_0, \\theta_1 ... \\theta_n$$\n",
    "\n",
    "**Feature vector:** \n",
    "$$x = x_0x_1 ⋯ x_n$$\n",
    "\n",
    "**Cost Function**:\n",
    "\n",
    "$$J(\\theta) = \\frac{1}{2n} \\sum_{i=1}^n \\left( h_\\theta(x^{(i)}) - y^{(i)} \\right)^2$$\n",
    "\n",
    "**Gradient Descent:**\n",
    "\n",
    "repeat{\n",
    "\n",
    "$$ \\theta_j := \\theta_j - \\alpha \\frac{\\partial} {\\partial \\theta_j} (J(\\theta))  \\;\\;\\;\\;\\;\\; // simultaneously \\; update \\; for \\;\\; all \\;\\; j = 0,1,..n $$\n",
    "}\n",
    "\n",
    "**Previously (n=1):**\n",
    "\n",
    "repeat{\n",
    "\n",
    "$$ \\theta_0 := \\theta_0 - \\alpha \\frac{\\partial} {\\partial \\theta_0} (J(\\theta)) $$  \n",
    "\n",
    "$$ \\theta_1 := \\theta_1 - \\alpha \\frac{\\partial} {\\partial \\theta_1} (J(\\theta)) \\;\\;\\;\\;\\; (simultaneously \\; update \\; \\theta_0, theta_1) $$\n",
    "}\n",
    "\n",
    "**New Algorithm (n $\\geq$ 1):**\n",
    "\n",
    "repeat{\n",
    "\n",
    "$$ \\theta_j := \\theta_j - \\alpha \\frac{\\partial} {\\partial \\theta_j} (J(\\theta))  \\;\\;\\;\\;\\;\\; // simultaneously \\; update \\; for \\;\\; all \\;\\; j = 0,1,..n $$\n",
    "}\n",
    "\n",
    "**Question:** Find $\\theta_0, \\theta_1, \\theta_2=?$"
   ]
  },
  {
   "cell_type": "markdown",
   "id": "e7d83087",
   "metadata": {},
   "source": [
    "### Implementing Gradient Descent using `Python` and `scikit-learn`."
   ]
  },
  {
   "cell_type": "code",
   "execution_count": 156,
   "id": "ccd7763f",
   "metadata": {},
   "outputs": [],
   "source": [
    "def generateXvector(X):\n",
    "    \"\"\" Taking the original independent variables matrix and add a row of 1 which corresponds to x_0\n",
    "        Parameters:\n",
    "          X:  independent variables matrix\n",
    "        Return value: the matrix that contains all the values in the dataset, not include the outcomes values \n",
    "    \"\"\"\n",
    "    vectorX = np.c_[np.ones((len(X), 1)), X]\n",
    "    return vectorX"
   ]
  },
  {
   "cell_type": "code",
   "execution_count": 157,
   "id": "151aea03",
   "metadata": {},
   "outputs": [],
   "source": [
    "def theta_init(X):\n",
    "    \"\"\" Generate an initial value of vector θ from the original independent variables matrix\n",
    "         Parameters:\n",
    "          X:  independent variables matrix\n",
    "        Return value: a vector of theta filled with initial guess\n",
    "    \"\"\"\n",
    "    theta = np.random.randn(len(X[0])+1, 1)\n",
    "    return theta"
   ]
  },
  {
   "cell_type": "code",
   "execution_count": 225,
   "id": "2187f1c3",
   "metadata": {},
   "outputs": [],
   "source": [
    "def Multivariable_Linear_Regression(X,y,learningrate, iterations):\n",
    "    \"\"\" Find the multivarite regression model for the data set\n",
    "         Parameters:\n",
    "          X:  independent variables matrix\n",
    "          y: dependent variables matrix\n",
    "          learningrate: learningrate of Gradient Descent\n",
    "          iterations: the number of iterations\n",
    "        Return value: the final theta vector and the plot of cost function\n",
    "    \"\"\"\n",
    "    y_new = np.reshape(y, (len(y), 1))   \n",
    "    cost_lst = []\n",
    "    vectorX = generateXvector(X)\n",
    "    theta = theta_init(X)\n",
    "    m = len(X)\n",
    "    for i in range(iterations):\n",
    "        gradients = 2/m * vectorX.T.dot(vectorX.dot(theta) - y_new)\n",
    "        theta = theta - learningrate * gradients\n",
    "        y_pred = vectorX.dot(theta)\n",
    "        cost_value = 1/(2*len(y))*((y_pred - y)**2) #Calculate the loss for each training instance\n",
    "        total = 0\n",
    "        for i in range(len(y)):\n",
    "            total += cost_value[i][0] #Calculate the cost function for each iteration\n",
    "        cost_lst.append(total)\n",
    "    plt.plot(np.arange(1,iterations),cost_lst[1:], color = 'red')\n",
    "    plt.title('Cost function Graph')\n",
    "    plt.xlabel('Number of iterations')\n",
    "    plt.ylabel('Cost')\n",
    "    return theta"
   ]
  },
  {
   "cell_type": "markdown",
   "id": "0ef98cb9",
   "metadata": {},
   "source": [
    "- This is a function for performing multivariate linear regression using gradient descent. The function takes four input parameters:\n",
    "\n",
    "    - `X` : a matrix of independent variables\n",
    "    - `y` : a matrix of dependent variables\n",
    "    - `learning-rate` : the learning rate for the gradient descent algorithm\n",
    "    - `iterations` : the number of iterations for the gradient descent algorithm\n",
    "\n",
    "- The function first reshapes the y matrix into a column vector, and then generates a feature vector vectorX by adding a column of ones to X. It initializes the model weights (theta) using the theta_init function (not shown).\n",
    "\n",
    "- The function then performs gradient descent by iterating over the number of iterations specified. For each iteration, it calculates the gradients using the feature vector vectorX and the model weights theta, updates the model weights, and calculates the mean squared error between the predicted values and the true values. The cost function is also calculated and appended to a list cost_lst.\n",
    "\n",
    "- Finally, the function plots the cost function using the number of iterations as the x-axis and the cost function as the y-axis. It returns the final model weights (theta)."
   ]
  },
  {
   "cell_type": "code",
   "execution_count": null,
   "id": "733fa62c",
   "metadata": {},
   "outputs": [],
   "source": []
  },
  {
   "cell_type": "markdown",
   "id": "312f3049",
   "metadata": {},
   "source": [
    "### Checking the code with built-in Linear Regression from sklearn"
   ]
  },
  {
   "cell_type": "code",
   "execution_count": 226,
   "id": "b44707d6",
   "metadata": {},
   "outputs": [],
   "source": [
    "from sklearn.datasets import load_diabetes\n",
    "diabetes = load_diabetes()\n",
    "X = diabetes.data\n",
    "y = diabetes.target"
   ]
  },
  {
   "cell_type": "code",
   "execution_count": 166,
   "id": "bd725186",
   "metadata": {},
   "outputs": [],
   "source": [
    "from sklearn.preprocessing import StandardScaler\n",
    "sc=StandardScaler()\n",
    "X_transform=sc.fit_transform(X)"
   ]
  },
  {
   "cell_type": "code",
   "execution_count": 227,
   "id": "337c5106",
   "metadata": {},
   "outputs": [
    {
     "data": {
      "text/plain": [
       "(152.13348416289594,\n",
       " array([ -0.47623169, -11.40703082,  24.72625713,  15.42967916,\n",
       "        -37.68035801,  22.67648701,   4.80620008,   8.422084  ,\n",
       "         35.73471316,   3.21661161]))"
      ]
     },
     "execution_count": 227,
     "metadata": {},
     "output_type": "execute_result"
    }
   ],
   "source": [
    "from sklearn.linear_model import LinearRegression\n",
    "lin_reg = LinearRegression()\n",
    "lin_reg.fit(X_transform, y)\n",
    "lin_reg.intercept_, lin_reg.coef_"
   ]
  },
  {
   "cell_type": "code",
   "execution_count": 228,
   "id": "3574ea89",
   "metadata": {
    "scrolled": true
   },
   "outputs": [
    {
     "data": {
      "text/plain": [
       "array([[152.13348416],\n",
       "       [ -0.3756836 ],\n",
       "       [-11.29461849],\n",
       "       [ 24.98117024],\n",
       "       [ 15.331643  ],\n",
       "       [-15.87196745],\n",
       "       [  5.35824149],\n",
       "       [ -4.93151521],\n",
       "       [  5.66509548],\n",
       "       [ 27.60164001],\n",
       "       [  3.29631025]])"
      ]
     },
     "execution_count": 228,
     "metadata": {},
     "output_type": "execute_result"
    },
    {
     "data": {
      "image/png": "[encoded data removed]",
      "text/plain": [
       "<Figure size 432x288 with 1 Axes>"
      ]
     },
     "metadata": {
      "needs_background": "light"
     },
     "output_type": "display_data"
    }
   ],
   "source": [
    "Multivariable_Linear_Regression(X_transform,y, 0.01, 3000)"
   ]
  },
  {
   "cell_type": "code",
   "execution_count": 229,
   "id": "58dac62b",
   "metadata": {},
   "outputs": [
    {
     "data": {
      "text/plain": [
       "array([[151.75490936],\n",
       "       [ -0.29632997],\n",
       "       [-11.22544074],\n",
       "       [ 25.14272388],\n",
       "       [ 15.26133206],\n",
       "       [ -3.19980516],\n",
       "       [ -5.24870086],\n",
       "       [ -9.91778104],\n",
       "       [  5.26898257],\n",
       "       [ 22.26433815],\n",
       "       [  3.62147395]])"
      ]
     },
     "execution_count": 229,
     "metadata": {},
     "output_type": "execute_result"
    },
    {
     "data": {
      "image/png": "[encoded data removed]",
      "text/plain": [
       "<Figure size 432x288 with 1 Axes>"
      ]
     },
     "metadata": {
      "needs_background": "light"
     },
     "output_type": "display_data"
    }
   ],
   "source": [
    "Multivariable_Linear_Regression(X_transform,y, 0.001, 3000)"
   ]
  },
  {
   "cell_type": "markdown",
   "id": "389b2ba0",
   "metadata": {},
   "source": [
    "<h4 align=\"center\">Practical Issues: Feature Scaling</h4>\n"
   ]
  },
  {
   "cell_type": "markdown",
   "id": "63cfdb42",
   "metadata": {},
   "source": [
    "Feature scaling is a technique that is used to standardize the range of independent variables or features of a data set. In linear regression, it is important to scale the features because the scale of the variables can affect the model's performance.\n",
    "\n",
    "Feature Scaling:\n",
    "   - If you have a problem with multiple features\n",
    "   - We should make sure those features have a similar scale. It means gradient descent will converge more quickly.\n",
    "**Example:**\n",
    "   - `x1` = size (0 - 2000 feet)\n",
    "   - `x2` = number of bedrooms (1-5)\n",
    "\n",
    "**Note:**\n",
    "This type of data generated `contours` as below if we plot $\\theta_1 \\; vs.\\; \\theta_2$ give a very tall and thin shape due to the huge range difference. Running gradient descent on this kind of cost function can take a long time to find the global minimum.\n",
    "<img src=\"images/p34.png\">\n",
    "\n",
    "Without scaling, the feature x1 will dominate the model because its range is much larger than the range of x2. As a result, the model may be biased towards x1. To avoid this issue, it is recommended to scale the features so that they have a similar range. There are several ways to scale the features, including:\n",
    "\n",
    "   - **Min-Max scaling**: This method scales the features to a specific range (e.g., 0-1). The transformed values are calculated as follows:\n",
    "\n",
    "$$ x_{scaled} = \\frac{x - x_{min}}{x_{max} - x_{min}} $$\n",
    "\n",
    "Where $x_{scaled}$ is the transformed value, $x$ is the original value, $x_{min}$ is the minimum value of the feature, and $x_{max}$ is the maximum value of the feature.\n",
    "\n",
    "   - **Standardization**: This method scales the features to have a mean of 0 and a standard deviation of 1. The transformed values are calculated as follows:\n",
    "\n",
    "$$ x_{scaled} = \\frac{x - \\mu}{\\sigma} $$\n",
    "\n",
    "Where $x_{scaled}$ is the transformed value, $x$ is the original value, $\\mu$ is the mean of the feature, and $\\sigma$ is the standard deviation of the feature.\n",
    "\n",
    "**Goal**:\n",
    "\n",
    "We want to get everything into -1 to +1 range (approximately). We want to avoid large ranges, small ranges or very different ranges from one another, for this purpose we use `mean normalization` or `standardization`. It is because `Standardization` is less sensitive to outliers because it is based on the `mean` and `standard deviation` of the feature, which are not influenced by extreme values as much as the minimum and maximum values. In contrast, `min-max` scaling is based on the minimum and maximum values of the feature, which can be affected by outliers. As a result, standardization is less likely to be affected by outliers than min-max scaling."
   ]
  },
  {
   "cell_type": "markdown",
   "id": "3f4055b2",
   "metadata": {},
   "source": [
    "<h3 align=\"center\"> Gradient Descent Questions</h3>\n",
    "\n",
    "- **How to make sure gradient descent is working correctly.**\n",
    "- **How to choose learning rate $\\alpha$.**\n",
    "\n",
    "**1. Check the convergence of the cost function:**\n",
    "\n",
    "One way to check the convergence of the gradient descent algorithm is to plot the cost function (e.g., mean squared error) over the number of iterations. If the cost function is decreasing over time and eventually reaches a minimum, then the algorithm is working correctly.\n",
    "<img src=\"images/p35.png\" height=300x width=300x>\n",
    "\n",
    "**2. Compare the model's performance with other algorithms:**\n",
    "\n",
    "You can compare the performance of the gradient descent algorithm with other algorithms (e.g., least squares, normal equation) to see if the results are similar. If the results are significantly different, it may indicate an issue with the gradient descent algorithm.\n",
    "\n",
    "**3. Monitor the learning rate:**\n",
    "\n",
    "If the learning rate is too high, the gradient descent algorithm may diverge and never converge to a minimum. If the learning rate is too low, it may take a long time to converge. Monitoring the learning rate can help ensure that it is set to a reasonable value. If $\\alpha$ is too small,  slow convergence. If $\\alpha$ is too large, $J(\\theta)$ may not decrease on every iteration; may not converge. So to choose $\\alpha$, try different values like 0.0001, 0.001, 0.1, 1.\n",
    "\n",
    "<img src=\"images/p36.png\" height=300px width=300px>\n",
    "\n",
    "**4. Check the initialization of the weights:**\n",
    "\n",
    "The initialization of the weights can also affect the convergence of the gradient descent algorithm. If the weights are initialized to extreme values, the algorithm may converge slowly or not at all. It is generally a good idea to initialize the weights to small random values."
   ]
  },
  {
   "cell_type": "markdown",
   "id": "c9d707a6",
   "metadata": {},
   "source": [
    "\n",
    "<h3 align=\"center\">Overfitting – Bias and Variance</h3>\n",
    "\n",
    "Overfitting and underfitting are two common issues that can affect the performance of a machine learning model.\n",
    "<img src=\"images/p37.png\">\n",
    "\n",
    "\n",
    "\n",
    "**Overfitting** occurs when the model is too complex and fits the training data too closely, resulting in poor generalization to new data. Overfitting can be caused by high variance and high bias. A model with high variance is sensitive to small fluctuations in the training data and may fit the training data too closely, leading to poor performance on new data. A model with high bias is unable to fit the training data well and may perform poorly on both the training and test sets.\n",
    "\n",
    "\n",
    "**Underfitting** occurs when the model is too simple and cannot capture the underlying pattern in the data, resulting in poor performance on both the training and test sets. Underfitting can be caused by high bias and low variance. A model with high bias is unable to fit the training data well and may perform poorly on both the training and test sets."
   ]
  },
  {
   "cell_type": "markdown",
   "id": "f965a61f",
   "metadata": {},
   "source": [
    "#### Bias and Variance\n",
    "\n",
    "In regression, bias and variance are two types of error that can affect the performance of a model.\n",
    "\n",
    "**Bias** refers to the difference between the average prediction of a model and the true value of the target. A model with high bias is prone to underfitting, which means that it does not capture the underlying pattern in the data and performs poorly on both the training and test sets.\n",
    "\n",
    "**Variance** refers to the variability of the model's predictions for a given input. A model with high variance is prone to overfitting, which means that it fits the training data too closely and performs poorly on new data.\n",
    "\n",
    "**Underfitting** is characterized by poor performance on both the training and test sets and is caused by high bias. To reduce bias and improve the performance of an underfitted model, you can try the following techniques:\n",
    "- Use more complex models: Adding more parameters or features to the model can increase its flexibility and improve its ability to capture the underlying pattern in the data.\n",
    "- Increase the size of the training set: Increasing the size of the training set can help the model learn more about the data and generalize better.\n",
    "- Use regularization: Regularization is a technique that adds a penalty to the model's complexity to prevent overfitting. However, it can also reduce bias by allowing the model to be more flexible.\n",
    "\n",
    "**Overfitting** is characterized by poor performance on the test set and is caused by high variance. To reduce variance and improve the performance of an overfitted model, you can try the following techniques:\n",
    "- Use simpler models: Removing parameters or features from the model can reduce its complexity and prevent overfitting.\n",
    "- Use regularization: Regularization is a technique that adds a penalty to the model's complexity to prevent overfitting.\n",
    "- Increase the size of the training set: Increasing the size of the training set can help the model generalize better because it will have more data to learn from.\n",
    "\n",
    "<img src=\"images/p38.png\" height=300px width=300px align=\"right\">\n",
    "<img src=\"images/p39.png\" height=300px width=300px align=\"left\">"
   ]
  },
  {
   "cell_type": "markdown",
   "id": "832a4be5",
   "metadata": {},
   "source": [
    "#### How to overcome Underfitting and overfitting?\n",
    "To address overfitting and underfitting, you can try the following techniques:\n",
    "\n",
    "- **Use regularization:** Regularization is a technique that adds a penalty to the model's complexity to prevent overfitting.\n",
    "    - Reduce the number of features: Removing unnecessary or correlated features can reduce the model's complexity and prevent overfitting.\n",
    "    - Increase the size of the training set: Increasing the size of the training set can help the model generalize better because it will have more data to learn from.\n",
    "\n",
    "- **Use cross-validation:** Cross-validation is a technique that divides the training set into multiple folds and uses each fold as a test set to evaluate the model's performance. This can help identify overfitting and improve the model's generalization.\n",
    "- **Use different models:** Trying different models with different architectures and parameters can help identify the model that performs best for the data.\n",
    "- **Reduce the number of features**\n",
    "    - Manually select features\n",
    "    - Model selection"
   ]
  },
  {
   "cell_type": "markdown",
   "id": "16887c94",
   "metadata": {},
   "source": [
    "### Interview questions of Linear regression in machine learning\n",
    "Here are some common interview questions on linear regression in machine learning:\n",
    "- What is linear regression and how does it work?\n",
    "- What is the difference between simple linear regression and multiple linear regression?\n",
    "- How do you evaluate the performance of a linear regression model?\n",
    "- What is the ordinary least squares (OLS) method and how is it used in linear regression?\n",
    "- How can you prevent overfitting in linear regression?\n",
    "- Can you give an example of how linear regression can be used in a real-world problem?\n",
    "- How do you decide which variables to include in a linear regression model?\n",
    "- How do you handle collinearity in a linear regression model?\n",
    "- What are some common assumptions made in linear regression?\n",
    "- Can you discuss the limitations of linear regression?\n",
    "- What is gradient descent and how does it work?\n",
    "- How is gradient descent used in linear regression?\n",
    "- What is the purpose of the learning rate in gradient descent?\n",
    "- Can you explain the difference between batch gradient descent and stochastic gradient descent?\n",
    "- How do you choose the initial values of the model parameters in gradient descent?\n",
    "- Can you discuss the convergence of gradient descent and how to monitor it?\n",
    "- How do you implement gradient descent in practice?\n",
    "- Can you discuss the limitations and potential challenges of using gradient descent in linear regression?\n",
    "- Can you give an example of how gradient descent can be used to solve a linear regression problem?\n",
    "- Can you explain the mathematical concept of a straight line and how it is used in linear regression?\n",
    "- How do you represent a linear regression model mathematically?\n",
    "- Can you explain the mathematical concept of an objective function and how it is used in linear regression?\n",
    "- How do you optimize the objective function in linear regression using an iterative optimization algorithm like gradient descent?\n",
    "- Can you explain the mathematical concept of a gradient and how it is used to update the model parameters in gradient descent?\n",
    "- How do you represent the residuals (errors) of a linear regression model mathematically?\n",
    "- Can you discuss the mathematical concept of an orthogonal projection and how it is used in linear regression?\n",
    "- Can you explain the concepts of overfitting and underfitting in linear regression?\n",
    "- How do you detect overfitting or underfitting in a linear regression model?\n",
    "- What are some common causes of overfitting or underfitting in linear regression?\n",
    "- How do you prevent overfitting or underfitting in linear regression?"
   ]
  },
  {
   "cell_type": "markdown",
   "id": "acbc6ca4",
   "metadata": {},
   "source": [
    "# Applications of Linear Regression:\n",
    "\n",
    "Linear regression is a widely used machine learning technique and has many applications in various industries. Here are a few examples of industry use cases of linear regression:\n",
    "\n",
    "- **Financial analysis:** Linear regression can be used to model and predict stock prices, analyze the relationship between different financial indicators, and identify trends in financial data.\n",
    "- **Healthcare:** Linear regression can be used to predict patient outcomes based on various factors such as age, medical history, and treatment options. It can also be used to analyze the effectiveness of different medical treatments.\n",
    "- **Marketing:** Linear regression can be used to predict customer behavior and identify the factors that influence customer decisions. It can also be used to optimize marketing campaigns and predict the success of a product launch.\n",
    "- **Sales forecasting:** Linear regression can be used to predict sales figures based on various factors such as advertising spend, economic indicators, and competition.\n",
    "- **Energy consumption:** Linear regression can be used to predict energy consumption patterns and identify ways to reduce energy use.\n",
    "- **Agriculture:** Linear regression can be used to predict crop yields and identify the factors that influence crop production.\n",
    "- **Sports analytics:** Linear regression can be used to predict the performance of sports teams or individual players based on various factors such as player statistics, team dynamics, and external factors.\n",
    "\n"
   ]
  },
  {
   "cell_type": "markdown",
   "id": "1c3f52da",
   "metadata": {},
   "source": [
    "### Regularization:\n",
    "Regularization is a technique used to reduce the errors by fitting the function appropriately on the given training set and avoid overfitting. <br><br>\n",
    "                <img src=\"images/impact.png\">\n",
    "     \n",
    "#### Techniques of regularization:\n",
    " Two commonly used techniques are: <br>\n",
    "      <img src=\"images/regularization_techniques.jpg\">\n",
    "       \n",
    "        \n",
    "####  L1 Regularization:\n",
    "Also known as Ridge Regression, it modifies the over-fitted or under fitted models by adding the penalty equivalent to the sum of the squares of the magnitude of coefficients.\n",
    "\n",
    "This means that the mathematical function representing our machine learning model is minimized and coefficients are calculated. The magnitude of coefficients is squared and added. Ridge Regression performs regularization by shrinking the coefficients present. <br>\n",
    "\n",
    "<img src=\"images/cost_function.jpg\">\n",
    "\n",
    "\n",
    "In the cost function, the penalty term is represented by Lambda λ. By changing the values of the penalty function, we are controlling the penalty term. The higher the penalty, it reduces the magnitude of coefficients. It shrinks the parameters. Therefore, it is used to prevent multicollinearity, and it reduces the model complexity by coefficient shrinkage. <br>\n",
    "Consider the graph illustrated below which represents Linear regression :\n",
    "<img src=\"images/2.jpg\">\n",
    "Cost function = Loss + λ x∑‖w‖^2 <br>\n",
    "\n",
    "For Linear Regression line, let’s consider two points that are on the line,<br>\n",
    "\n",
    "Loss = 0 (considering the two points on the line) <br>\n",
    "\n",
    "λ= 1 <br>\n",
    "\n",
    "w = 1.4 <br>\n",
    "\n",
    "Then, Cost function = 0 + 1 x 1.42 <br>\n",
    "\n",
    "            = 1.96 \n",
    "\n",
    "For Ridge Regression, let’s assume, <br>\n",
    "\n",
    "Loss = 0.32 + 0.22 = 0.13<br>\n",
    "\n",
    "λ = 1<br>\n",
    "\n",
    "w = 0.7<br>\n",
    "\n",
    "Then, Cost function = 0.13 + 1 x 0.72\n",
    "             = 0.62 \n",
    "   <img src=\"images/3.jpg\">         \n",
    "            \n",
    "Comparing the two models, with all data points, we can see that the Ridge regression line fits the model more accurately than the linear regression line.\n",
    "<img src=\"images/4.jpg\">\n",
    "\n",
    "#### L2 Regularization:\n",
    "\n",
    "It modifies the over-fitted or under-fitted models by adding the penalty equivalent to the sum of the absolute values of coefficients. \n",
    "\n",
    "Lasso regression also performs coefficient minimization,  but instead of squaring the magnitudes of the coefficients, it takes the true values of coefficients. This means that the coefficient sum can also be 0, because of the presence of negative coefficients. Consider the cost function for Lasso regression :\n",
    "<img src=\"images/lasso1.jpg\">\n",
    "\n",
    "We can control the coefficient values by controlling the penalty terms, just like we did in Ridge Regression. Again consider a Linear Regression model :\n",
    "            <img src=\"images/lasso2.jpg\">\n",
    "\n",
    "Cost function = Loss + λ x ∑‖w‖ \n",
    "\n",
    "For Linear Regression line, let’s assume,\n",
    "\n",
    "Loss = 0 (considering the two points on the line)\n",
    "\n",
    "λ = 1\n",
    "\n",
    "w = 1.4\n",
    "\n",
    "Then, Cost function = 0 + 1 x 1.4\n",
    "\n",
    "            = 1.4\n",
    "\n",
    "For Ridge Regression, let’s assume,\n",
    "\n",
    "Loss = 0.32 + 0.12 = 0.1\n",
    "\n",
    "λ = 1\n",
    "\n",
    "w = 0.7\n",
    "Then, Cost function = 0.1 + 1 x 0.7\n",
    "\n",
    "            = 0.8\n",
    "<img src=\"images/lasso3.jpg\" >\n",
    "Comparing the two models, with all data points, we can see that the Lasso regression line fits the model more accurately than the linear regression line.\n",
    "            \n",
    "#### Key Difference between L1 and L2:\n",
    "\n",
    "<ul>\n",
    "    <li>\n",
    "The key difference between these two is the penalty term.\n",
    "Ridge regression adds “squared magnitude” of coefficient as penalty term to the loss function.Lasso Regression (Least Absolute Shrinkage and Selection Operator) adds “absolute value of magnitude” of coefficient as penalty term to the loss function. </li>\n",
    "    <li>\n",
    "\n",
    "The key difference between these techniques is that Lasso shrinks the less important feature’s coefficient to zero thus, removing some feature altogether. So, this works well for feature selection in case we have a huge number of features.\n",
    "    </li>\n",
    "    <li>\n",
    "Ridge regression is mostly used to reduce the overfitting in the model, and it includes all the features present in the model. It reduces the complexity of the model by shrinking the coefficients.\n",
    "Lasso regression helps to reduce the overfitting in the model as well as feature selection.\n",
    "    </li>\n",
    "</ul>   \n",
    "\n",
    "<b>Note</b> : lambda is a Hyperparameter Known as regularization constant and it is greater than zero. \n",
    "if lambda is zero then you can imagine we get back OLS. However, if lambda is very large then it will add too much weight and it will lead to under-fitting.\n",
    "\n",
    "                      \n",
    "\n",
    "\n",
    "   \n",
    "\n"
   ]
  },
  {
   "cell_type": "code",
   "execution_count": 23,
   "id": "7bec40bc",
   "metadata": {},
   "outputs": [],
   "source": [
    "import pandas as pd\n",
    "import numpy as np\n",
    "import matplotlib.pyplot as plt\n",
    "from sklearn.linear_model import LinearRegression, Ridge, Lasso\n",
    "from sklearn.model_selection import train_test_split, cross_val_score\n",
    "from statistics import mean"
   ]
  },
  {
   "cell_type": "code",
   "execution_count": 36,
   "id": "ce70acd0",
   "metadata": {},
   "outputs": [],
   "source": [
    "\n",
    "\n",
    "# Loading the data into a Pandas DataFrame\n",
    "data = pd.read_csv('datasets/kc_house_data.csv')\n",
    "\n",
    "data = data.dropna()\n",
    "\n",
    "# Dropping the numerically non-sensical variables\n",
    "dropColumns = ['id', 'date', 'zipcode']\n",
    "data = data.drop(dropColumns, axis = 1)\n",
    " \n",
    "# Separating the dependent and independent variables\n",
    "y = data['price']\n",
    "X = data.drop('price', axis = 1)\n",
    " \n",
    "# Dividing the data into training and testing set\n",
    "X_train, X_test, y_train, y_test = train_test_split(X, y, test_size = 0.25)"
   ]
  },
  {
   "cell_type": "code",
   "execution_count": 37,
   "id": "ee285c26",
   "metadata": {},
   "outputs": [
    {
     "name": "stdout",
     "output_type": "stream",
     "text": [
      "0.7020218591349406\n"
     ]
    }
   ],
   "source": [
    "# Building and fitting the Linear Regression model\n",
    "linearModel = LinearRegression()\n",
    "linearModel.fit(X_train, y_train)\n",
    " \n",
    "# Evaluating the Linear Regression model\n",
    "print(linearModel.score(X_test, y_test))"
   ]
  },
  {
   "cell_type": "code",
   "execution_count": 38,
   "id": "c68b12bc",
   "metadata": {},
   "outputs": [
    {
     "name": "stdout",
     "output_type": "stream",
     "text": [
      "0.25 : 69.09015837671006\n",
      "0.5 : 69.09033468066406\n",
      "0.75 : 69.09049125083848\n",
      "1.0 : 69.09062828999275\n",
      "1.25 : 69.09074599856247\n",
      "1.5 : 69.09084457469035\n",
      "1.75 : 69.09092421425656\n",
      "2.0 : 69.09098511090883\n"
     ]
    }
   ],
   "source": [
    "# List to maintain the different cross-validation scores\n",
    "cross_val_scores_ridge = []\n",
    "\n",
    "# List to maintain the different values of alpha\n",
    "alpha = []\n",
    "\n",
    "# Loop to compute the different values of cross-validation scores\n",
    "for i in range(1, 9):\n",
    "\tridgeModel = Ridge(alpha = i * 0.25)\n",
    "\tridgeModel.fit(X_train, y_train)\n",
    "\tscores = cross_val_score(ridgeModel, X, y, cv = 10)\n",
    "\tavg_cross_val_score = mean(scores)*100\n",
    "\tcross_val_scores_ridge.append(avg_cross_val_score)\n",
    "\talpha.append(i * 0.25)\n",
    "\n",
    "# Loop to print the different values of cross-validation scores\n",
    "for i in range(0, len(alpha)):\n",
    "\tprint(str(alpha[i])+' : '+str(cross_val_scores_ridge[i]))\n"
   ]
  },
  {
   "cell_type": "code",
   "execution_count": 39,
   "id": "34665146",
   "metadata": {},
   "outputs": [
    {
     "name": "stdout",
     "output_type": "stream",
     "text": [
      "0.702114018896832\n"
     ]
    }
   ],
   "source": [
    "# Building and fitting the Ridge Regression model\n",
    "ridgeModelChosen = Ridge(alpha = 2)\n",
    "ridgeModelChosen.fit(X_train, y_train)\n",
    "\n",
    "# Evaluating the Ridge Regression model\n",
    "print(ridgeModelChosen.score(X_test, y_test))\n"
   ]
  },
  {
   "cell_type": "code",
   "execution_count": 40,
   "id": "2a491e16",
   "metadata": {},
   "outputs": [
    {
     "name": "stdout",
     "output_type": "stream",
     "text": [
      "0.25 : 69.08996762461632\n",
      "0.5 : 69.08997309354584\n",
      "0.75 : 69.0899785338932\n",
      "1.0 : 69.08998394768223\n",
      "1.25 : 69.08998932707655\n",
      "1.5 : 69.08999467945563\n",
      "1.75 : 69.09000001882953\n",
      "2.0 : 69.09000531192423\n"
     ]
    }
   ],
   "source": [
    "# List to maintain the cross-validation scores\n",
    "cross_val_scores_lasso = []\n",
    "\n",
    "# List to maintain the different values of Lambda\n",
    "Lambda = []\n",
    "\n",
    "# Loop to compute the cross-validation scores\n",
    "for i in range(1, 9):\n",
    "\tlassoModel = Lasso(alpha = i * 0.25, tol = 0.0925)\n",
    "\tlassoModel.fit(X_train, y_train)\n",
    "\tscores = cross_val_score(lassoModel, X, y, cv = 10)\n",
    "\tavg_cross_val_score = mean(scores)*100\n",
    "\tcross_val_scores_lasso.append(avg_cross_val_score)\n",
    "\tLambda.append(i * 0.25)\n",
    "\n",
    "# Loop to print the different values of cross-validation scores\n",
    "for i in range(0, len(alpha)):\n",
    "\tprint(str(alpha[i])+' : '+str(cross_val_scores_lasso[i]))\n"
   ]
  },
  {
   "cell_type": "code",
   "execution_count": 41,
   "id": "af595000",
   "metadata": {},
   "outputs": [
    {
     "name": "stdout",
     "output_type": "stream",
     "text": [
      "0.702025442320445\n"
     ]
    }
   ],
   "source": [
    "# Building and fitting the Lasso Regression Model\n",
    "lassoModelChosen = Lasso(alpha = 2, tol = 0.0925)\n",
    "lassoModelChosen.fit(X_train, y_train)\n",
    "\n",
    "# Evaluating the Lasso Regression model\n",
    "print(lassoModelChosen.score(X_test, y_test))\n"
   ]
  },
  {
   "cell_type": "code",
   "execution_count": 42,
   "id": "bf3f424a",
   "metadata": {},
   "outputs": [
    {
     "name": "stdout",
     "output_type": "stream",
     "text": [
      "Linear Regression : 0.7020218591349406\n",
      "Ridge Regression : 0.702114018896832\n",
      "Lasso Regression : 0.702025442320445\n"
     ]
    }
   ],
   "source": [
    "# Building the two lists for visualization\n",
    "models = ['Linear Regression', 'Ridge Regression', 'Lasso Regression']\n",
    "scores = [linearModel.score(X_test, y_test),\n",
    "\t\tridgeModelChosen.score(X_test, y_test),\n",
    "\t\tlassoModelChosen.score(X_test, y_test)]\n",
    "\n",
    "# Building the dictionary to compare the scores\n",
    "mapping = {}\n",
    "mapping['Linear Regression'] = linearModel.score(X_test, y_test)\n",
    "mapping['Ridge Regression'] = ridgeModelChosen.score(X_test, y_test)\n",
    "mapping['Lasso Regression'] = lassoModelChosen.score(X_test, y_test)\n",
    "\n",
    "# Printing the scores for different models\n",
    "for key, val in mapping.items():\n",
    "\tprint(str(key)+' : '+str(val))\n"
   ]
  },
  {
   "cell_type": "code",
   "execution_count": 43,
   "id": "9bb96bbc",
   "metadata": {},
   "outputs": [
    {
     "data": {
      "image/png": "[encoded data removed]",
      "text/plain": [
       "<Figure size 640x480 with 1 Axes>"
      ]
     },
     "metadata": {},
     "output_type": "display_data"
    }
   ],
   "source": [
    "# Plotting the scores\n",
    "plt.bar(models, scores)\n",
    "plt.xlabel('Regression Models')\n",
    "plt.ylabel('Score')\n",
    "plt.show()\n"
   ]
  },
  {
   "cell_type": "markdown",
   "id": "04650bcf",
   "metadata": {},
   "source": [
    "### Polynomial Regression\n",
    "Polynomial Regression is a regression algorithm that models the relationship between a dependent(y) and independent variable(x) as nth degree polynomial. The Polynomial Regression equation is given below:<br>\n",
    "\n",
    "$$ y= b_0+b_1x_1+ b_2x_1^2+ b_2x_1^3+...... b_nx_1^n $$ <br>\n",
    "<ul>\n",
    "    <li>\n",
    "It is also called the special case of Multiple Linear Regression in ML. Because we add some polynomial terms to the Multiple Linear regression equation to convert it into Polynomial Regression.<br>\n",
    "    </li>\n",
    "<li>\n",
    "It is a linear model with some modification in order to increase the accuracy.<br>\n",
    "    </li>\n",
    "    <li>\n",
    "The dataset used in Polynomial regression for training is of non-linear nature.<br>\n",
    "    </li>\n",
    "<li>\n",
    "It makes use of a linear regression model to fit the complicated and non-linear functions and datasets.<br>\n",
    "    </li>\n",
    "<li>\n",
    "Hence, \"In Polynomial regression, the original features are converted into Polynomial features of required degree (2,3,..,n) and then modeled using a linear model.\"\n",
    "    </li>\n",
    "    </ul>\n",
    "     <img src=\"images/polynomial.png\">\n",
    "     \n",
    "####  Need for polynomial regression:\n",
    "<ul>\n",
    "    <li>\n",
    "If we apply a linear model on a linear dataset, then it provides us a good result as we have seen in Simple Linear Regression, but if we apply the same model without any modification on a non-linear dataset, then it will produce a drastic output. Due to which loss function will increase, the error rate will be high, and accuracy will be decreased.\n",
    "    </li>\n",
    "    <li>\n",
    "So for such cases, where data points are arranged in a non-linear fashion, we need the Polynomial Regression model. We can understand it in a better way using the below comparison diagram of the linear dataset and non-linear dataset.\n",
    "    </li>\n",
    "    <li>\n",
    "In the above image, we have taken a dataset which is arranged non-linearly. So if we try to cover it with a linear model, then we can clearly see that it hardly covers any data point. On the other hand, a curve is suitable to cover most of the data points, which is of the Polynomial model.\n",
    "    </li>\n",
    "    <li>\n",
    "Hence, if the datasets are arranged in a non-linear fashion, then we should use the Polynomial Regression model instead of Simple Linear Regression.\n",
    "    </li>\n",
    "    <li>\n",
    "Polynomial Regression is generally used when the points in the data are not captured by the Linear Regression Model and the Linear Regression fails in describing the best result clearly.\n",
    "    </li>\n",
    " </ul>   "
   ]
  },
  {
   "cell_type": "markdown",
   "id": "1984cfd4",
   "metadata": {},
   "source": [
    "\n",
    "### Lets have a look at these images to understand it more clearly\n",
    "\n",
    "\n",
    "<b>Data</b>\n",
    "<img src=\"images/a.jpg\">\n",
    "<b>Linear Model</b>\n",
    "<img src=\"images/a0.jpg\">\n",
    "<b>Polynomial Model</b>\n",
    "<img src=\"images/a1.jpg\">\n",
    "    <b>Linear visualization for YE = 5.5</b>\n",
    "<img src=\"images/a2.jpg\">\n",
    "    <b>Polynomial visualization for YE = 5.5</b>\n",
    "<img src=\"images/a3.jpg\">\n",
    "    <b>Comparison between linear and polynomial</b>\n",
    "<img src=\"images/a4.jpg\">"
   ]
  },
  {
   "cell_type": "markdown",
   "id": "e7a297e9",
   "metadata": {},
   "source": [
    "## Lets code it"
   ]
  },
  {
   "cell_type": "code",
   "execution_count": 2,
   "id": "56ea01a7",
   "metadata": {},
   "outputs": [],
   "source": []
  },
  {
   "cell_type": "code",
   "execution_count": 8,
   "id": "481811fb",
   "metadata": {},
   "outputs": [
    {
     "data": {
      "text/html": [
       "<div>\n",
       "<style scoped>\n",
       "    .dataframe tbody tr th:only-of-type {\n",
       "        vertical-align: middle;\n",
       "    }\n",
       "\n",
       "    .dataframe tbody tr th {\n",
       "        vertical-align: top;\n",
       "    }\n",
       "\n",
       "    .dataframe thead th {\n",
       "        text-align: right;\n",
       "    }\n",
       "</style>\n",
       "<table border=\"1\" class=\"dataframe\">\n",
       "  <thead>\n",
       "    <tr style=\"text-align: right;\">\n",
       "      <th></th>\n",
       "      <th>Position</th>\n",
       "      <th>Level</th>\n",
       "      <th>Salary</th>\n",
       "    </tr>\n",
       "  </thead>\n",
       "  <tbody>\n",
       "    <tr>\n",
       "      <th>0</th>\n",
       "      <td>Business Analyst</td>\n",
       "      <td>1</td>\n",
       "      <td>45000</td>\n",
       "    </tr>\n",
       "    <tr>\n",
       "      <th>1</th>\n",
       "      <td>Junior Consultant</td>\n",
       "      <td>2</td>\n",
       "      <td>50000</td>\n",
       "    </tr>\n",
       "    <tr>\n",
       "      <th>2</th>\n",
       "      <td>Senior Consultant</td>\n",
       "      <td>3</td>\n",
       "      <td>60000</td>\n",
       "    </tr>\n",
       "    <tr>\n",
       "      <th>3</th>\n",
       "      <td>Manager</td>\n",
       "      <td>4</td>\n",
       "      <td>80000</td>\n",
       "    </tr>\n",
       "    <tr>\n",
       "      <th>4</th>\n",
       "      <td>Country Manager</td>\n",
       "      <td>5</td>\n",
       "      <td>110000</td>\n",
       "    </tr>\n",
       "  </tbody>\n",
       "</table>\n",
       "</div>"
      ],
      "text/plain": [
       "            Position  Level  Salary\n",
       "0   Business Analyst      1   45000\n",
       "1  Junior Consultant      2   50000\n",
       "2  Senior Consultant      3   60000\n",
       "3            Manager      4   80000\n",
       "4    Country Manager      5  110000"
      ]
     },
     "execution_count": 8,
     "metadata": {},
     "output_type": "execute_result"
    }
   ],
   "source": []
  },
  {
   "cell_type": "code",
   "execution_count": 10,
   "id": "9795ade2",
   "metadata": {},
   "outputs": [
    {
     "name": "stdout",
     "output_type": "stream",
     "text": [
      "Collecting scikit-learnNote: you may need to restart the kernel to use updated packages.\n",
      "\n",
      "  Downloading scikit_learn-1.2.0-cp311-cp311-win_amd64.whl (8.2 MB)\n",
      "     ---------------------------------------- 8.2/8.2 MB 516.4 kB/s eta 0:00:00\n",
      "Requirement already satisfied: numpy>=1.17.3 in c:\\users\\dell\\opencv\\lib\\site-packages (from scikit-learn) (1.23.4)\n",
      "Requirement already satisfied: scipy>=1.3.2 in c:\\users\\dell\\opencv\\lib\\site-packages (from scikit-learn) (1.9.3)\n",
      "Collecting joblib>=1.1.1\n",
      "  Using cached joblib-1.2.0-py3-none-any.whl (297 kB)\n",
      "Collecting threadpoolctl>=2.0.0\n",
      "  Using cached threadpoolctl-3.1.0-py3-none-any.whl (14 kB)\n",
      "Installing collected packages: threadpoolctl, joblib, scikit-learn\n",
      "Successfully installed joblib-1.2.0 scikit-learn-1.2.0 threadpoolctl-3.1.0\n"
     ]
    }
   ],
   "source": [
    "pip install -U scikit-learn"
   ]
  },
  {
   "cell_type": "code",
   "execution_count": 11,
   "id": "c612a3cc",
   "metadata": {},
   "outputs": [],
   "source": [
    "# Splitting the dataset into the Training set and Test set\n",
    "from sklearn.model_selection import train_test_split \n",
    "X_train, X_test, y_train, y_test = train_test_split(X, y, test_size=0.2, random_state=0)\n"
   ]
  },
  {
   "cell_type": "code",
   "execution_count": 12,
   "id": "00349632",
   "metadata": {},
   "outputs": [],
   "source": [
    "# Scaling\n",
    "from sklearn.preprocessing import StandardScaler\n",
    "sc_X = StandardScaler()\n",
    "X_train = sc_X.fit_transform(X_train)\n",
    "X_test = sc_X.transform(X_test)"
   ]
  },
  {
   "cell_type": "code",
   "execution_count": 13,
   "id": "83e1a649",
   "metadata": {},
   "outputs": [
    {
     "data": {
      "text/html": [
       "<style>#sk-container-id-1 {color: black;background-color: white;}#sk-container-id-1 pre{padding: 0;}#sk-container-id-1 div.sk-toggleable {background-color: white;}#sk-container-id-1 label.sk-toggleable__label {cursor: pointer;display: block;width: 100%;margin-bottom: 0;padding: 0.3em;box-sizing: border-box;text-align: center;}#sk-container-id-1 label.sk-toggleable__label-arrow:before {content: \"▸\";float: left;margin-right: 0.25em;color: #696969;}#sk-container-id-1 label.sk-toggleable__label-arrow:hover:before {color: black;}#sk-container-id-1 div.sk-estimator:hover label.sk-toggleable__label-arrow:before {color: black;}#sk-container-id-1 div.sk-toggleable__content {max-height: 0;max-width: 0;overflow: hidden;text-align: left;background-color: #f0f8ff;}#sk-container-id-1 div.sk-toggleable__content pre {margin: 0.2em;color: black;border-radius: 0.25em;background-color: #f0f8ff;}#sk-container-id-1 input.sk-toggleable__control:checked~div.sk-toggleable__content {max-height: 200px;max-width: 100%;overflow: auto;}#sk-container-id-1 input.sk-toggleable__control:checked~label.sk-toggleable__label-arrow:before {content: \"▾\";}#sk-container-id-1 div.sk-estimator input.sk-toggleable__control:checked~label.sk-toggleable__label {background-color: #d4ebff;}#sk-container-id-1 div.sk-label input.sk-toggleable__control:checked~label.sk-toggleable__label {background-color: #d4ebff;}#sk-container-id-1 input.sk-hidden--visually {border: 0;clip: rect(1px 1px 1px 1px);clip: rect(1px, 1px, 1px, 1px);height: 1px;margin: -1px;overflow: hidden;padding: 0;position: absolute;width: 1px;}#sk-container-id-1 div.sk-estimator {font-family: monospace;background-color: #f0f8ff;border: 1px dotted black;border-radius: 0.25em;box-sizing: border-box;margin-bottom: 0.5em;}#sk-container-id-1 div.sk-estimator:hover {background-color: #d4ebff;}#sk-container-id-1 div.sk-parallel-item::after {content: \"\";width: 100%;border-bottom: 1px solid gray;flex-grow: 1;}#sk-container-id-1 div.sk-label:hover label.sk-toggleable__label {background-color: #d4ebff;}#sk-container-id-1 div.sk-serial::before {content: \"\";position: absolute;border-left: 1px solid gray;box-sizing: border-box;top: 0;bottom: 0;left: 50%;z-index: 0;}#sk-container-id-1 div.sk-serial {display: flex;flex-direction: column;align-items: center;background-color: white;padding-right: 0.2em;padding-left: 0.2em;position: relative;}#sk-container-id-1 div.sk-item {position: relative;z-index: 1;}#sk-container-id-1 div.sk-parallel {display: flex;align-items: stretch;justify-content: center;background-color: white;position: relative;}#sk-container-id-1 div.sk-item::before, #sk-container-id-1 div.sk-parallel-item::before {content: \"\";position: absolute;border-left: 1px solid gray;box-sizing: border-box;top: 0;bottom: 0;left: 50%;z-index: -1;}#sk-container-id-1 div.sk-parallel-item {display: flex;flex-direction: column;z-index: 1;position: relative;background-color: white;}#sk-container-id-1 div.sk-parallel-item:first-child::after {align-self: flex-end;width: 50%;}#sk-container-id-1 div.sk-parallel-item:last-child::after {align-self: flex-start;width: 50%;}#sk-container-id-1 div.sk-parallel-item:only-child::after {width: 0;}#sk-container-id-1 div.sk-dashed-wrapped {border: 1px dashed gray;margin: 0 0.4em 0.5em 0.4em;box-sizing: border-box;padding-bottom: 0.4em;background-color: white;}#sk-container-id-1 div.sk-label label {font-family: monospace;font-weight: bold;display: inline-block;line-height: 1.2em;}#sk-container-id-1 div.sk-label-container {text-align: center;}#sk-container-id-1 div.sk-container {/* jupyter's `normalize.less` sets `[hidden] { display: none; }` but bootstrap.min.css set `[hidden] { display: none !important; }` so we also need the `!important` here to be able to override the default hidden behavior on the sphinx rendered scikit-learn.org. See: https://github.com/scikit-learn/scikit-learn/issues/21755 */display: inline-block !important;position: relative;}#sk-container-id-1 div.sk-text-repr-fallback {display: none;}</style><div id=\"sk-container-id-1\" class=\"sk-top-container\"><div class=\"sk-text-repr-fallback\"><pre>LinearRegression()</pre><b>In a Jupyter environment, please rerun this cell to show the HTML representation or trust the notebook. <br />On GitHub, the HTML representation is unable to render, please try loading this page with nbviewer.org.</b></div><div class=\"sk-container\" hidden><div class=\"sk-item\"><div class=\"sk-estimator sk-toggleable\"><input class=\"sk-toggleable__control sk-hidden--visually\" id=\"sk-estimator-id-1\" type=\"checkbox\" checked><label for=\"sk-estimator-id-1\" class=\"sk-toggleable__label sk-toggleable__label-arrow\">LinearRegression</label><div class=\"sk-toggleable__content\"><pre>LinearRegression()</pre></div></div></div></div></div>"
      ],
      "text/plain": [
       "LinearRegression()"
      ]
     },
     "execution_count": 13,
     "metadata": {},
     "output_type": "execute_result"
    }
   ],
   "source": []
  },
  {
   "cell_type": "code",
   "execution_count": 14,
   "id": "f45058bd",
   "metadata": {},
   "outputs": [
    {
     "data": {
      "image/png": "[encoded data removed]",
      "text/plain": [
       "<Figure size 640x480 with 1 Axes>"
      ]
     },
     "metadata": {},
     "output_type": "display_data"
    }
   ],
   "source": [
    "# Visualizing the Linear Regression results\n",
    "def viz_linear():\n",
    "    plt.scatter(X, y, color='red')\n",
    "    plt.plot(X, lin_reg.predict(X), color='blue')\n",
    "    plt.title('Truth or Bluff (Linear Regression)')\n",
    "    plt.xlabel('Position level')\n",
    "    plt.ylabel('Salary')\n",
    "    plt.show()\n",
    "    return\n",
    "viz_linear()"
   ]
  },
  {
   "cell_type": "code",
   "execution_count": 15,
   "id": "0ecd247e",
   "metadata": {},
   "outputs": [
    {
     "data": {
      "text/html": [
       "<style>#sk-container-id-2 {color: black;background-color: white;}#sk-container-id-2 pre{padding: 0;}#sk-container-id-2 div.sk-toggleable {background-color: white;}#sk-container-id-2 label.sk-toggleable__label {cursor: pointer;display: block;width: 100%;margin-bottom: 0;padding: 0.3em;box-sizing: border-box;text-align: center;}#sk-container-id-2 label.sk-toggleable__label-arrow:before {content: \"▸\";float: left;margin-right: 0.25em;color: #696969;}#sk-container-id-2 label.sk-toggleable__label-arrow:hover:before {color: black;}#sk-container-id-2 div.sk-estimator:hover label.sk-toggleable__label-arrow:before {color: black;}#sk-container-id-2 div.sk-toggleable__content {max-height: 0;max-width: 0;overflow: hidden;text-align: left;background-color: #f0f8ff;}#sk-container-id-2 div.sk-toggleable__content pre {margin: 0.2em;color: black;border-radius: 0.25em;background-color: #f0f8ff;}#sk-container-id-2 input.sk-toggleable__control:checked~div.sk-toggleable__content {max-height: 200px;max-width: 100%;overflow: auto;}#sk-container-id-2 input.sk-toggleable__control:checked~label.sk-toggleable__label-arrow:before {content: \"▾\";}#sk-container-id-2 div.sk-estimator input.sk-toggleable__control:checked~label.sk-toggleable__label {background-color: #d4ebff;}#sk-container-id-2 div.sk-label input.sk-toggleable__control:checked~label.sk-toggleable__label {background-color: #d4ebff;}#sk-container-id-2 input.sk-hidden--visually {border: 0;clip: rect(1px 1px 1px 1px);clip: rect(1px, 1px, 1px, 1px);height: 1px;margin: -1px;overflow: hidden;padding: 0;position: absolute;width: 1px;}#sk-container-id-2 div.sk-estimator {font-family: monospace;background-color: #f0f8ff;border: 1px dotted black;border-radius: 0.25em;box-sizing: border-box;margin-bottom: 0.5em;}#sk-container-id-2 div.sk-estimator:hover {background-color: #d4ebff;}#sk-container-id-2 div.sk-parallel-item::after {content: \"\";width: 100%;border-bottom: 1px solid gray;flex-grow: 1;}#sk-container-id-2 div.sk-label:hover label.sk-toggleable__label {background-color: #d4ebff;}#sk-container-id-2 div.sk-serial::before {content: \"\";position: absolute;border-left: 1px solid gray;box-sizing: border-box;top: 0;bottom: 0;left: 50%;z-index: 0;}#sk-container-id-2 div.sk-serial {display: flex;flex-direction: column;align-items: center;background-color: white;padding-right: 0.2em;padding-left: 0.2em;position: relative;}#sk-container-id-2 div.sk-item {position: relative;z-index: 1;}#sk-container-id-2 div.sk-parallel {display: flex;align-items: stretch;justify-content: center;background-color: white;position: relative;}#sk-container-id-2 div.sk-item::before, #sk-container-id-2 div.sk-parallel-item::before {content: \"\";position: absolute;border-left: 1px solid gray;box-sizing: border-box;top: 0;bottom: 0;left: 50%;z-index: -1;}#sk-container-id-2 div.sk-parallel-item {display: flex;flex-direction: column;z-index: 1;position: relative;background-color: white;}#sk-container-id-2 div.sk-parallel-item:first-child::after {align-self: flex-end;width: 50%;}#sk-container-id-2 div.sk-parallel-item:last-child::after {align-self: flex-start;width: 50%;}#sk-container-id-2 div.sk-parallel-item:only-child::after {width: 0;}#sk-container-id-2 div.sk-dashed-wrapped {border: 1px dashed gray;margin: 0 0.4em 0.5em 0.4em;box-sizing: border-box;padding-bottom: 0.4em;background-color: white;}#sk-container-id-2 div.sk-label label {font-family: monospace;font-weight: bold;display: inline-block;line-height: 1.2em;}#sk-container-id-2 div.sk-label-container {text-align: center;}#sk-container-id-2 div.sk-container {/* jupyter's `normalize.less` sets `[hidden] { display: none; }` but bootstrap.min.css set `[hidden] { display: none !important; }` so we also need the `!important` here to be able to override the default hidden behavior on the sphinx rendered scikit-learn.org. See: https://github.com/scikit-learn/scikit-learn/issues/21755 */display: inline-block !important;position: relative;}#sk-container-id-2 div.sk-text-repr-fallback {display: none;}</style><div id=\"sk-container-id-2\" class=\"sk-top-container\"><div class=\"sk-text-repr-fallback\"><pre>LinearRegression()</pre><b>In a Jupyter environment, please rerun this cell to show the HTML representation or trust the notebook. <br />On GitHub, the HTML representation is unable to render, please try loading this page with nbviewer.org.</b></div><div class=\"sk-container\" hidden><div class=\"sk-item\"><div class=\"sk-estimator sk-toggleable\"><input class=\"sk-toggleable__control sk-hidden--visually\" id=\"sk-estimator-id-2\" type=\"checkbox\" checked><label for=\"sk-estimator-id-2\" class=\"sk-toggleable__label sk-toggleable__label-arrow\">LinearRegression</label><div class=\"sk-toggleable__content\"><pre>LinearRegression()</pre></div></div></div></div></div>"
      ],
      "text/plain": [
       "LinearRegression()"
      ]
     },
     "execution_count": 15,
     "metadata": {},
     "output_type": "execute_result"
    }
   ],
   "source": [
    "# Fitting Polynomial Regression to the dataset\n",
    "from sklearn.preprocessing import PolynomialFeatures\n",
    "poly_reg = PolynomialFeatures(degree=4)\n",
    "X_poly = poly_reg.fit_transform(X)\n",
    "pol_reg = LinearRegression()\n",
    "pol_reg.fit(X_poly, y)"
   ]
  },
  {
   "cell_type": "code",
   "execution_count": 16,
   "id": "e999a0aa",
   "metadata": {},
   "outputs": [
    {
     "data": {
      "image/png": "[encoded data removed]",
      "text/plain": [
       "<Figure size 640x480 with 1 Axes>"
      ]
     },
     "metadata": {},
     "output_type": "display_data"
    }
   ],
   "source": []
  },
  {
   "cell_type": "code",
   "execution_count": null,
   "id": "4f6c050a",
   "metadata": {},
   "outputs": [],
   "source": []
  }
 ],
 "metadata": {
  "kernelspec": {
   "display_name": "Python 3 (ipykernel)",
   "language": "python",
   "name": "python3"
  },
  "language_info": {
   "codemirror_mode": {
    "name": "ipython",
    "version": 3
   },
   "file_extension": ".py",
   "mimetype": "text/x-python",
   "name": "python",
   "nbconvert_exporter": "python",
   "pygments_lexer": "ipython3",
   "version": "3.8.10"
  }
 },
 "nbformat": 4,
 "nbformat_minor": 5
}
